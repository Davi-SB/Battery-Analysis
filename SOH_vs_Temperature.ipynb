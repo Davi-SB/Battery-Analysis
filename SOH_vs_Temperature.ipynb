{
 "cells": [
  {
   "cell_type": "code",
   "execution_count": 1,
   "metadata": {},
   "outputs": [],
   "source": [
    "import numpy as np\n",
    "import pandas as pd\n",
    "import seaborn as sns\n",
    "import matplotlib.pyplot as plt\n",
    "from IPython.display import display\n",
    "from scipy.stats import norm, kstest"
   ]
  },
  {
   "cell_type": "markdown",
   "metadata": {},
   "source": [
    "# Oxford\n",
    "`OX_1-1_pouch_LCO_40C_0-100_2-1.84C_a_timeseries`"
   ]
  },
  {
   "cell_type": "markdown",
   "metadata": {},
   "source": [
    "| Cell ID                                | Anode    | Cathode | Source  | Ah   | Form Factor | Temperature (C) | Max SOC | Min SOC | Charge Rate (C) | Discharge Rate (C) |\n",
    "|----------------------------------------|----------|---------|---------|------|-------------|-----------------|---------|---------|-----------------|--------------------|\n",
    "| OX_1-1_pouch_LCO_40C_0-100_2-1.84C_a_timeseries | graphite | LCO     | oxford  | 0.74 | pouch       | 40.00           | 100.00  | 0.00    | 2.00            | 1.84               |"
   ]
  },
  {
   "cell_type": "markdown",
   "metadata": {},
   "source": [
    "## Limpeza e preparação"
   ]
  },
  {
   "cell_type": "markdown",
   "metadata": {},
   "source": [
    "- Corrente negativa --> descarga\n",
    "- Corrente positiva --> carga"
   ]
  },
  {
   "cell_type": "code",
   "execution_count": 2,
   "metadata": {},
   "outputs": [
    {
     "data": {
      "application/vnd.microsoft.datawrangler.viewer.v0+json": {
       "columns": [
        {
         "name": "index",
         "rawType": "int64",
         "type": "integer"
        },
        {
         "name": "Cycle_Index",
         "rawType": "float64",
         "type": "float"
        },
        {
         "name": "Test_Time (s)",
         "rawType": "float64",
         "type": "float"
        },
        {
         "name": "Current (A)",
         "rawType": "float64",
         "type": "float"
        },
        {
         "name": "Voltage (V)",
         "rawType": "float64",
         "type": "float"
        },
        {
         "name": "Discharge_Capacity (Ah)",
         "rawType": "float64",
         "type": "float"
        },
        {
         "name": "Cell_Temperature (C)",
         "rawType": "float64",
         "type": "float"
        }
       ],
       "conversionMethod": "pd.DataFrame",
       "ref": "b3ed3765-c7af-4ba8-a0cc-5dbc1b091694",
       "rows": [
        [
         "1",
         "1.0",
         "0.999",
         "-0.74",
         "4.175",
         "0.0",
         "40.051"
        ],
        [
         "2",
         "1.0",
         "1.999",
         "-0.74",
         "4.174",
         "0.0",
         "39.988"
        ],
        [
         "3",
         "1.0",
         "2.999",
         "-0.74",
         "4.172",
         "0.0",
         "39.976"
        ],
        [
         "4",
         "1.0",
         "3.999",
         "-0.74",
         "4.171",
         "0.0",
         "39.964"
        ],
        [
         "5",
         "1.0",
         "4.999",
         "-0.74",
         "4.17",
         "0.001",
         "39.988"
        ],
        [
         "6",
         "1.0",
         "5.999",
         "-0.74",
         "4.169",
         "0.001",
         "40.076"
        ],
        [
         "7",
         "1.0",
         "6.999",
         "-0.74",
         "4.168",
         "0.001",
         "40.051"
        ],
        [
         "8",
         "1.0",
         "7.999",
         "-0.74",
         "4.167",
         "0.001",
         "39.988"
        ],
        [
         "9",
         "1.0",
         "8.999",
         "-0.74",
         "4.166",
         "0.001",
         "40.051"
        ],
        [
         "10",
         "1.0",
         "9.999",
         "-0.74",
         "4.165",
         "0.002",
         "40.001"
        ],
        [
         "11",
         "1.0",
         "10.999",
         "-0.74",
         "4.165",
         "0.002",
         "39.988"
        ],
        [
         "12",
         "1.0",
         "11.999",
         "-0.74",
         "4.164",
         "0.002",
         "39.976"
        ],
        [
         "13",
         "1.0",
         "12.999",
         "-0.74",
         "4.163",
         "0.002",
         "40.013"
        ],
        [
         "14",
         "1.0",
         "13.999",
         "-0.74",
         "4.163",
         "0.002",
         "40.063"
        ],
        [
         "15",
         "1.0",
         "14.999",
         "-0.74",
         "4.162",
         "0.003",
         "40.013"
        ],
        [
         "16",
         "1.0",
         "15.999",
         "-0.74",
         "4.161",
         "0.003",
         "39.964"
        ],
        [
         "17",
         "1.0",
         "16.999",
         "-0.74",
         "4.161",
         "0.003",
         "40.051"
        ],
        [
         "18",
         "1.0",
         "17.999",
         "-0.74",
         "4.16",
         "0.003",
         "39.976"
        ],
        [
         "19",
         "1.0",
         "18.999",
         "-0.74",
         "4.16",
         "0.003",
         "40.001"
        ],
        [
         "20",
         "1.0",
         "19.999",
         "-0.74",
         "4.159",
         "0.004",
         "40.013"
        ],
        [
         "21",
         "1.0",
         "20.999",
         "-0.74",
         "4.158",
         "0.004",
         "40.038"
        ],
        [
         "22",
         "1.0",
         "21.999",
         "-0.74",
         "4.158",
         "0.004",
         "40.026"
        ],
        [
         "23",
         "1.0",
         "22.999",
         "-0.74",
         "4.157",
         "0.004",
         "40.013"
        ],
        [
         "24",
         "1.0",
         "23.999",
         "-0.74",
         "4.157",
         "0.004",
         "40.013"
        ],
        [
         "25",
         "1.0",
         "24.999",
         "-0.74",
         "4.156",
         "0.005",
         "39.976"
        ],
        [
         "26",
         "1.0",
         "25.999",
         "-0.74",
         "4.156",
         "0.005",
         "40.038"
        ],
        [
         "27",
         "1.0",
         "26.999",
         "-0.74",
         "4.155",
         "0.005",
         "40.076"
        ],
        [
         "28",
         "1.0",
         "27.999",
         "-0.74",
         "4.155",
         "0.005",
         "40.063"
        ],
        [
         "29",
         "1.0",
         "28.999",
         "-0.74",
         "4.154",
         "0.005",
         "40.001"
        ],
        [
         "30",
         "1.0",
         "29.999",
         "-0.74",
         "4.154",
         "0.006",
         "40.038"
        ],
        [
         "31",
         "1.0",
         "30.999",
         "-0.74",
         "4.153",
         "0.006",
         "40.013"
        ],
        [
         "32",
         "1.0",
         "31.999",
         "-0.74",
         "4.153",
         "0.006",
         "40.001"
        ],
        [
         "33",
         "1.0",
         "32.999",
         "-0.74",
         "4.153",
         "0.006",
         "40.076"
        ],
        [
         "34",
         "1.0",
         "33.999",
         "-0.74",
         "4.152",
         "0.006",
         "40.013"
        ],
        [
         "35",
         "1.0",
         "34.999",
         "-0.74",
         "4.152",
         "0.007",
         "40.026"
        ],
        [
         "36",
         "1.0",
         "35.999",
         "-0.74",
         "4.151",
         "0.007",
         "40.101"
        ],
        [
         "37",
         "1.0",
         "36.999",
         "-0.74",
         "4.151",
         "0.007",
         "40.051"
        ],
        [
         "38",
         "1.0",
         "37.999",
         "-0.74",
         "4.15",
         "0.007",
         "40.063"
        ],
        [
         "39",
         "1.0",
         "38.999",
         "-0.74",
         "4.15",
         "0.008",
         "40.076"
        ],
        [
         "40",
         "1.0",
         "39.999",
         "-0.74",
         "4.149",
         "0.008",
         "39.988"
        ],
        [
         "41",
         "1.0",
         "40.999",
         "-0.74",
         "4.149",
         "0.008",
         "40.076"
        ],
        [
         "42",
         "1.0",
         "41.999",
         "-0.74",
         "4.149",
         "0.008",
         "40.001"
        ],
        [
         "43",
         "1.0",
         "42.999",
         "-0.74",
         "4.148",
         "0.008",
         "39.988"
        ],
        [
         "44",
         "1.0",
         "43.999",
         "-0.74",
         "4.147",
         "0.009",
         "40.088"
        ],
        [
         "45",
         "1.0",
         "44.999",
         "-0.74",
         "4.147",
         "0.009",
         "40.038"
        ],
        [
         "46",
         "1.0",
         "45.999",
         "-0.74",
         "4.147",
         "0.009",
         "40.076"
        ],
        [
         "47",
         "1.0",
         "46.999",
         "-0.74",
         "4.146",
         "0.009",
         "40.076"
        ],
        [
         "48",
         "1.0",
         "47.999",
         "-0.74",
         "4.146",
         "0.009",
         "40.013"
        ],
        [
         "49",
         "1.0",
         "48.999",
         "-0.74",
         "4.146",
         "0.01",
         "40.063"
        ],
        [
         "50",
         "1.0",
         "49.999",
         "-0.74",
         "4.145",
         "0.01",
         "40.088"
        ]
       ],
       "shape": {
        "columns": 6,
        "rows": 227455
       }
      },
      "text/html": [
       "<div>\n",
       "<style scoped>\n",
       "    .dataframe tbody tr th:only-of-type {\n",
       "        vertical-align: middle;\n",
       "    }\n",
       "\n",
       "    .dataframe tbody tr th {\n",
       "        vertical-align: top;\n",
       "    }\n",
       "\n",
       "    .dataframe thead th {\n",
       "        text-align: right;\n",
       "    }\n",
       "</style>\n",
       "<table border=\"1\" class=\"dataframe\">\n",
       "  <thead>\n",
       "    <tr style=\"text-align: right;\">\n",
       "      <th></th>\n",
       "      <th>Cycle_Index</th>\n",
       "      <th>Test_Time (s)</th>\n",
       "      <th>Current (A)</th>\n",
       "      <th>Voltage (V)</th>\n",
       "      <th>Discharge_Capacity (Ah)</th>\n",
       "      <th>Cell_Temperature (C)</th>\n",
       "    </tr>\n",
       "  </thead>\n",
       "  <tbody>\n",
       "    <tr>\n",
       "      <th>1</th>\n",
       "      <td>1.0</td>\n",
       "      <td>9.990000e-01</td>\n",
       "      <td>-0.74</td>\n",
       "      <td>4.175</td>\n",
       "      <td>0.000</td>\n",
       "      <td>40.051</td>\n",
       "    </tr>\n",
       "    <tr>\n",
       "      <th>2</th>\n",
       "      <td>1.0</td>\n",
       "      <td>1.999000e+00</td>\n",
       "      <td>-0.74</td>\n",
       "      <td>4.174</td>\n",
       "      <td>0.000</td>\n",
       "      <td>39.988</td>\n",
       "    </tr>\n",
       "    <tr>\n",
       "      <th>3</th>\n",
       "      <td>1.0</td>\n",
       "      <td>2.999000e+00</td>\n",
       "      <td>-0.74</td>\n",
       "      <td>4.172</td>\n",
       "      <td>0.000</td>\n",
       "      <td>39.976</td>\n",
       "    </tr>\n",
       "    <tr>\n",
       "      <th>4</th>\n",
       "      <td>1.0</td>\n",
       "      <td>3.999000e+00</td>\n",
       "      <td>-0.74</td>\n",
       "      <td>4.171</td>\n",
       "      <td>0.000</td>\n",
       "      <td>39.964</td>\n",
       "    </tr>\n",
       "    <tr>\n",
       "      <th>5</th>\n",
       "      <td>1.0</td>\n",
       "      <td>4.999000e+00</td>\n",
       "      <td>-0.74</td>\n",
       "      <td>4.170</td>\n",
       "      <td>0.001</td>\n",
       "      <td>39.988</td>\n",
       "    </tr>\n",
       "    <tr>\n",
       "      <th>...</th>\n",
       "      <td>...</td>\n",
       "      <td>...</td>\n",
       "      <td>...</td>\n",
       "      <td>...</td>\n",
       "      <td>...</td>\n",
       "      <td>...</td>\n",
       "    </tr>\n",
       "    <tr>\n",
       "      <th>457802</th>\n",
       "      <td>8200.0</td>\n",
       "      <td>5.517855e+07</td>\n",
       "      <td>-0.74</td>\n",
       "      <td>3.336</td>\n",
       "      <td>0.528</td>\n",
       "      <td>41.249</td>\n",
       "    </tr>\n",
       "    <tr>\n",
       "      <th>457803</th>\n",
       "      <td>8200.0</td>\n",
       "      <td>5.517855e+07</td>\n",
       "      <td>-0.74</td>\n",
       "      <td>3.335</td>\n",
       "      <td>0.528</td>\n",
       "      <td>41.237</td>\n",
       "    </tr>\n",
       "    <tr>\n",
       "      <th>457804</th>\n",
       "      <td>8200.0</td>\n",
       "      <td>5.517855e+07</td>\n",
       "      <td>-0.74</td>\n",
       "      <td>3.333</td>\n",
       "      <td>0.528</td>\n",
       "      <td>41.199</td>\n",
       "    </tr>\n",
       "    <tr>\n",
       "      <th>457805</th>\n",
       "      <td>8200.0</td>\n",
       "      <td>5.517855e+07</td>\n",
       "      <td>-0.74</td>\n",
       "      <td>3.332</td>\n",
       "      <td>0.529</td>\n",
       "      <td>41.224</td>\n",
       "    </tr>\n",
       "    <tr>\n",
       "      <th>457806</th>\n",
       "      <td>8200.0</td>\n",
       "      <td>5.517871e+07</td>\n",
       "      <td>-0.74</td>\n",
       "      <td>2.745</td>\n",
       "      <td>0.561</td>\n",
       "      <td>41.424</td>\n",
       "    </tr>\n",
       "  </tbody>\n",
       "</table>\n",
       "<p>227455 rows × 6 columns</p>\n",
       "</div>"
      ],
      "text/plain": [
       "        Cycle_Index  Test_Time (s)  Current (A)  Voltage (V)  \\\n",
       "1               1.0   9.990000e-01        -0.74        4.175   \n",
       "2               1.0   1.999000e+00        -0.74        4.174   \n",
       "3               1.0   2.999000e+00        -0.74        4.172   \n",
       "4               1.0   3.999000e+00        -0.74        4.171   \n",
       "5               1.0   4.999000e+00        -0.74        4.170   \n",
       "...             ...            ...          ...          ...   \n",
       "457802       8200.0   5.517855e+07        -0.74        3.336   \n",
       "457803       8200.0   5.517855e+07        -0.74        3.335   \n",
       "457804       8200.0   5.517855e+07        -0.74        3.333   \n",
       "457805       8200.0   5.517855e+07        -0.74        3.332   \n",
       "457806       8200.0   5.517871e+07        -0.74        2.745   \n",
       "\n",
       "        Discharge_Capacity (Ah)  Cell_Temperature (C)  \n",
       "1                         0.000                40.051  \n",
       "2                         0.000                39.988  \n",
       "3                         0.000                39.976  \n",
       "4                         0.000                39.964  \n",
       "5                         0.001                39.988  \n",
       "...                         ...                   ...  \n",
       "457802                    0.528                41.249  \n",
       "457803                    0.528                41.237  \n",
       "457804                    0.528                41.199  \n",
       "457805                    0.529                41.224  \n",
       "457806                    0.561                41.424  \n",
       "\n",
       "[227455 rows x 6 columns]"
      ]
     },
     "metadata": {},
     "output_type": "display_data"
    },
    {
     "data": {
      "application/vnd.microsoft.datawrangler.viewer.v0+json": {
       "columns": [
        {
         "name": "index",
         "rawType": "object",
         "type": "string"
        },
        {
         "name": "Cycle_Index",
         "rawType": "float64",
         "type": "float"
        },
        {
         "name": "Test_Time (s)",
         "rawType": "float64",
         "type": "float"
        },
        {
         "name": "Current (A)",
         "rawType": "float64",
         "type": "float"
        },
        {
         "name": "Voltage (V)",
         "rawType": "float64",
         "type": "float"
        },
        {
         "name": "Discharge_Capacity (Ah)",
         "rawType": "float64",
         "type": "float"
        },
        {
         "name": "Cell_Temperature (C)",
         "rawType": "float64",
         "type": "float"
        }
       ],
       "conversionMethod": "pd.DataFrame",
       "ref": "92a1302e-395b-498f-8615-0903fe2d65cc",
       "rows": [
        [
         "count",
         "227455.0",
         "227455.0",
         "227455.0",
         "227455.0",
         "227455.0",
         "227455.0"
        ],
        [
         "mean",
         "3967.2076146930162",
         "26698581.875763215",
         "-0.7399999999999998",
         "3.765556558440131",
         "0.30578784374931306",
         "40.523928341869826"
        ],
        [
         "std",
         "2444.986810193781",
         "16803998.458559304",
         "2.220450930333101e-16",
         "0.1950651499973103",
         "0.17982412857671154",
         "0.4703558435279065"
        ],
        [
         "min",
         "1.0",
         "0.999",
         "-0.74",
         "2.699",
         "0.0",
         "39.614"
        ],
        [
         "25%",
         "1900.0",
         "12246647.114",
         "-0.74",
         "3.656",
         "0.151",
         "40.113"
        ],
        [
         "50%",
         "3900.0",
         "26083775.278",
         "-0.74",
         "3.759",
         "0.303",
         "40.4"
        ],
        [
         "75%",
         "6100.0",
         "41627708.246",
         "-0.74",
         "3.902",
         "0.455",
         "40.912"
        ],
        [
         "max",
         "8200.0",
         "55178708.313",
         "-0.74",
         "4.176",
         "0.741",
         "41.699"
        ]
       ],
       "shape": {
        "columns": 6,
        "rows": 8
       }
      },
      "text/html": [
       "<div>\n",
       "<style scoped>\n",
       "    .dataframe tbody tr th:only-of-type {\n",
       "        vertical-align: middle;\n",
       "    }\n",
       "\n",
       "    .dataframe tbody tr th {\n",
       "        vertical-align: top;\n",
       "    }\n",
       "\n",
       "    .dataframe thead th {\n",
       "        text-align: right;\n",
       "    }\n",
       "</style>\n",
       "<table border=\"1\" class=\"dataframe\">\n",
       "  <thead>\n",
       "    <tr style=\"text-align: right;\">\n",
       "      <th></th>\n",
       "      <th>Cycle_Index</th>\n",
       "      <th>Test_Time (s)</th>\n",
       "      <th>Current (A)</th>\n",
       "      <th>Voltage (V)</th>\n",
       "      <th>Discharge_Capacity (Ah)</th>\n",
       "      <th>Cell_Temperature (C)</th>\n",
       "    </tr>\n",
       "  </thead>\n",
       "  <tbody>\n",
       "    <tr>\n",
       "      <th>count</th>\n",
       "      <td>227455.000000</td>\n",
       "      <td>2.274550e+05</td>\n",
       "      <td>2.274550e+05</td>\n",
       "      <td>227455.000000</td>\n",
       "      <td>227455.000000</td>\n",
       "      <td>227455.000000</td>\n",
       "    </tr>\n",
       "    <tr>\n",
       "      <th>mean</th>\n",
       "      <td>3967.207615</td>\n",
       "      <td>2.669858e+07</td>\n",
       "      <td>-7.400000e-01</td>\n",
       "      <td>3.765557</td>\n",
       "      <td>0.305788</td>\n",
       "      <td>40.523928</td>\n",
       "    </tr>\n",
       "    <tr>\n",
       "      <th>std</th>\n",
       "      <td>2444.986810</td>\n",
       "      <td>1.680400e+07</td>\n",
       "      <td>2.220451e-16</td>\n",
       "      <td>0.195065</td>\n",
       "      <td>0.179824</td>\n",
       "      <td>0.470356</td>\n",
       "    </tr>\n",
       "    <tr>\n",
       "      <th>min</th>\n",
       "      <td>1.000000</td>\n",
       "      <td>9.990000e-01</td>\n",
       "      <td>-7.400000e-01</td>\n",
       "      <td>2.699000</td>\n",
       "      <td>0.000000</td>\n",
       "      <td>39.614000</td>\n",
       "    </tr>\n",
       "    <tr>\n",
       "      <th>25%</th>\n",
       "      <td>1900.000000</td>\n",
       "      <td>1.224665e+07</td>\n",
       "      <td>-7.400000e-01</td>\n",
       "      <td>3.656000</td>\n",
       "      <td>0.151000</td>\n",
       "      <td>40.113000</td>\n",
       "    </tr>\n",
       "    <tr>\n",
       "      <th>50%</th>\n",
       "      <td>3900.000000</td>\n",
       "      <td>2.608378e+07</td>\n",
       "      <td>-7.400000e-01</td>\n",
       "      <td>3.759000</td>\n",
       "      <td>0.303000</td>\n",
       "      <td>40.400000</td>\n",
       "    </tr>\n",
       "    <tr>\n",
       "      <th>75%</th>\n",
       "      <td>6100.000000</td>\n",
       "      <td>4.162771e+07</td>\n",
       "      <td>-7.400000e-01</td>\n",
       "      <td>3.902000</td>\n",
       "      <td>0.455000</td>\n",
       "      <td>40.912000</td>\n",
       "    </tr>\n",
       "    <tr>\n",
       "      <th>max</th>\n",
       "      <td>8200.000000</td>\n",
       "      <td>5.517871e+07</td>\n",
       "      <td>-7.400000e-01</td>\n",
       "      <td>4.176000</td>\n",
       "      <td>0.741000</td>\n",
       "      <td>41.699000</td>\n",
       "    </tr>\n",
       "  </tbody>\n",
       "</table>\n",
       "</div>"
      ],
      "text/plain": [
       "         Cycle_Index  Test_Time (s)   Current (A)    Voltage (V)  \\\n",
       "count  227455.000000   2.274550e+05  2.274550e+05  227455.000000   \n",
       "mean     3967.207615   2.669858e+07 -7.400000e-01       3.765557   \n",
       "std      2444.986810   1.680400e+07  2.220451e-16       0.195065   \n",
       "min         1.000000   9.990000e-01 -7.400000e-01       2.699000   \n",
       "25%      1900.000000   1.224665e+07 -7.400000e-01       3.656000   \n",
       "50%      3900.000000   2.608378e+07 -7.400000e-01       3.759000   \n",
       "75%      6100.000000   4.162771e+07 -7.400000e-01       3.902000   \n",
       "max      8200.000000   5.517871e+07 -7.400000e-01       4.176000   \n",
       "\n",
       "       Discharge_Capacity (Ah)  Cell_Temperature (C)  \n",
       "count            227455.000000         227455.000000  \n",
       "mean                  0.305788             40.523928  \n",
       "std                   0.179824              0.470356  \n",
       "min                   0.000000             39.614000  \n",
       "25%                   0.151000             40.113000  \n",
       "50%                   0.303000             40.400000  \n",
       "75%                   0.455000             40.912000  \n",
       "max                   0.741000             41.699000  "
      ]
     },
     "metadata": {},
     "output_type": "display_data"
    }
   ],
   "source": [
    "# Header completo:\n",
    "# Date_Time,Test_Time (s),Cycle_Index,Current (A),Voltage (V),Charge_Capacity (Ah),Discharge_Capacity (Ah),Charge_Energy (Wh),Discharge_Energy (Wh),Environment_Temperature (C),Cell_Temperature (C)\n",
    "df = pd.read_csv('Battery_Archive_Data/Oxford/OX_1-1_pouch_LCO_40C_0-100_2-1.84C_a_timeseries.csv')\n",
    "\n",
    "# Apenas features de interesse são mantidas\n",
    "# Obs: Envoironment_Temperature (C) poderia ser relevante, mas tem todos os valores nulos. Então, é removida\n",
    "df = df[[\"Cycle_Index\", \"Test_Time (s)\", \"Current (A)\", \"Voltage (V)\", \"Discharge_Capacity (Ah)\", \"Cell_Temperature (C)\"]]\n",
    "\n",
    "# Mantem apenas as linhas em que a bateria está descarregando, ou seja, corrente < 0\n",
    "df = df[df['Current (A)'] < 0]\n",
    "\n",
    "# Remove valores para Cell_Temperature < 1 (incorretos)\n",
    "df = df[df['Cell_Temperature (C)'] >= 1]\n",
    "\n",
    "display(df)\n",
    "display(df.describe())"
   ]
  },
  {
   "cell_type": "markdown",
   "metadata": {},
   "source": [
    "## Visualização"
   ]
  },
  {
   "cell_type": "code",
   "execution_count": 3,
   "metadata": {},
   "outputs": [
    {
     "data": {
      "image/png": "[encoded data removed]",
      "text/plain": [
       "<Figure size 1400x800 with 4 Axes>"
      ]
     },
     "metadata": {},
     "output_type": "display_data"
    }
   ],
   "source": [
    "# Lista de features que deseja analisar (exceto \"Cycle_Index\")\n",
    "features = [\"Current (A)\", \"Voltage (V)\", \"Discharge_Capacity (Ah)\", \"Cell_Temperature (C)\"]\n",
    "\n",
    "# Ciclos únicos e ordenados\n",
    "cycles = df[\"Cycle_Index\"].unique()\n",
    "cycles.sort()\n",
    "NumCyclesPlot = 5\n",
    "\n",
    "# Seleciona 'NumCyclesPlot' ciclos igualmente espaçados para plotar\n",
    "if len(cycles) > NumCyclesPlot:\n",
    "    cycles = cycles[::len(cycles)//NumCyclesPlot] # // --> Divisão inteira\n",
    "\n",
    "# Cria os subplots com layout 2x2\n",
    "fig, axs = plt.subplots(2, 2, figsize=(14, 8))\n",
    "axs = axs.flatten()  # Facilita a iteração\n",
    "\n",
    "# Itera sobre cada feature e sobre os ciclos para plotar os dados\n",
    "for i, feature in enumerate(features):\n",
    "    ax = axs[i]\n",
    "    for cycle in cycles:\n",
    "        # Seleciona os dados do ciclo e calcula o tempo relativo\n",
    "        df_cycle = df[df[\"Cycle_Index\"] == cycle].copy()\n",
    "        df_cycle['Tempo_Relativo (s)'] = df_cycle[\"Test_Time (s)\"] - df_cycle[\"Test_Time (s)\"].min()\n",
    "        \n",
    "        # Plota a feature em função do tempo relativo\n",
    "        ax.plot(df_cycle['Tempo_Relativo (s)'], df_cycle[feature], alpha=0.7, label=f'{int(cycle)}', linewidth=2.0)\n",
    "\n",
    "    ax.set_title(f'{feature} ao longo dos ciclos')\n",
    "    ax.set_xlabel('Tempo Relativo (s)')\n",
    "    ax.set_ylabel(feature)\n",
    "    ax.grid(True)\n",
    "    ax.legend(title=\"Ciclo\", loc='best')\n",
    "\n",
    "plt.tight_layout()\n",
    "plt.show()\n"
   ]
  },
  {
   "cell_type": "markdown",
   "metadata": {},
   "source": [
    "## Análise de SOH"
   ]
  },
  {
   "cell_type": "markdown",
   "metadata": {},
   "source": [
    "$$\n",
    "\\text{SOH} = \\frac{\\text{capacidade\\_atual}}{\\text{capacidade\\_inicial}}\n",
    "$$\n",
    "\n",
    "- $CapacidadeInicial$ é a capacidade nominal, a maior considerando todo o histórico da bateria\n",
    "- $CapacidadeAtual$ é a maior capacidade do ciclo"
   ]
  },
  {
   "cell_type": "code",
   "execution_count": 4,
   "metadata": {},
   "outputs": [
    {
     "name": "stdout",
     "output_type": "stream",
     "text": [
      "Capacidade total de descarga: 0.741 Ah\n"
     ]
    },
    {
     "data": {
      "application/vnd.microsoft.datawrangler.viewer.v0+json": {
       "columns": [
        {
         "name": "index",
         "rawType": "int64",
         "type": "integer"
        },
        {
         "name": "Cycle_Index",
         "rawType": "float64",
         "type": "float"
        },
        {
         "name": "Max_Discharge_Capacity",
         "rawType": "float64",
         "type": "float"
        },
        {
         "name": "SOH_discharge",
         "rawType": "float64",
         "type": "float"
        }
       ],
       "conversionMethod": "pd.DataFrame",
       "ref": "e3d92e97-c58f-45c6-b332-b8d31eb3a6da",
       "rows": [
        [
         "0",
         "1.0",
         "0.741",
         "1.0"
        ],
        [
         "1",
         "100.0",
         "0.732",
         "0.9878542510121457"
        ],
        [
         "2",
         "200.0",
         "0.728",
         "0.9824561403508771"
        ],
        [
         "3",
         "300.0",
         "0.725",
         "0.9784075573549258"
        ],
        [
         "4",
         "400.0",
         "0.72",
         "0.97165991902834"
        ],
        [
         "5",
         "500.0",
         "0.717",
         "0.9676113360323886"
        ],
        [
         "6",
         "600.0",
         "0.714",
         "0.9635627530364372"
        ],
        [
         "7",
         "700.0",
         "0.709",
         "0.9568151147098515"
        ],
        [
         "8",
         "800.0",
         "0.706",
         "0.9527665317139001"
        ],
        [
         "9",
         "900.0",
         "0.702",
         "0.9473684210526315"
        ],
        [
         "10",
         "1000.0",
         "0.699",
         "0.9433198380566801"
        ],
        [
         "11",
         "1100.0",
         "0.696",
         "0.9392712550607287"
        ],
        [
         "12",
         "1200.0",
         "0.693",
         "0.9352226720647773"
        ],
        [
         "13",
         "1300.0",
         "0.69",
         "0.9311740890688258"
        ],
        [
         "14",
         "1400.0",
         "0.688",
         "0.9284750337381916"
        ],
        [
         "15",
         "1800.0",
         "0.676",
         "0.912280701754386"
        ],
        [
         "16",
         "1900.0",
         "0.673",
         "0.9082321187584346"
        ],
        [
         "17",
         "2000.0",
         "0.67",
         "0.9041835357624832"
        ],
        [
         "18",
         "2100.0",
         "0.667",
         "0.9001349527665318"
        ],
        [
         "19",
         "2200.0",
         "0.664",
         "0.8960863697705803"
        ],
        [
         "20",
         "2300.0",
         "0.661",
         "0.892037786774629"
        ],
        [
         "21",
         "2400.0",
         "0.658",
         "0.8879892037786775"
        ],
        [
         "22",
         "2500.0",
         "0.656",
         "0.8852901484480432"
        ],
        [
         "23",
         "2600.0",
         "0.653",
         "0.8812415654520918"
        ],
        [
         "24",
         "2700.0",
         "0.651",
         "0.8785425101214576"
        ],
        [
         "25",
         "2800.0",
         "0.649",
         "0.8758434547908233"
        ],
        [
         "26",
         "2900.0",
         "0.645",
         "0.8704453441295547"
        ],
        [
         "27",
         "3000.0",
         "0.644",
         "0.8690958164642375"
        ],
        [
         "28",
         "3100.0",
         "0.642",
         "0.8663967611336033"
        ],
        [
         "29",
         "3200.0",
         "0.639",
         "0.8623481781376519"
        ],
        [
         "30",
         "3300.0",
         "0.638",
         "0.8609986504723347"
        ],
        [
         "31",
         "3500.0",
         "0.632",
         "0.8529014844804319"
        ],
        [
         "32",
         "3600.0",
         "0.632",
         "0.8529014844804319"
        ],
        [
         "33",
         "3700.0",
         "0.629",
         "0.8488529014844804"
        ],
        [
         "34",
         "3800.0",
         "0.625",
         "0.8434547908232118"
        ],
        [
         "35",
         "3900.0",
         "0.625",
         "0.8434547908232118"
        ],
        [
         "36",
         "4000.0",
         "0.623",
         "0.8407557354925776"
        ],
        [
         "37",
         "4100.0",
         "0.62",
         "0.8367071524966262"
        ],
        [
         "38",
         "4200.0",
         "0.619",
         "0.835357624831309"
        ],
        [
         "39",
         "4300.0",
         "0.618",
         "0.8340080971659919"
        ],
        [
         "40",
         "4400.0",
         "0.616",
         "0.8313090418353576"
        ],
        [
         "41",
         "4500.0",
         "0.613",
         "0.8272604588394062"
        ],
        [
         "42",
         "4600.0",
         "0.612",
         "0.8259109311740891"
        ],
        [
         "43",
         "4800.0",
         "0.609",
         "0.8218623481781376"
        ],
        [
         "44",
         "5000.0",
         "0.604",
         "0.815114709851552"
        ],
        [
         "45",
         "5100.0",
         "0.603",
         "0.8137651821862348"
        ],
        [
         "46",
         "5200.0",
         "0.6",
         "0.8097165991902834"
        ],
        [
         "47",
         "5300.0",
         "0.6",
         "0.8097165991902834"
        ],
        [
         "48",
         "5400.0",
         "0.598",
         "0.8070175438596491"
        ],
        [
         "49",
         "5500.0",
         "0.594",
         "0.8016194331983806"
        ]
       ],
       "shape": {
        "columns": 3,
        "rows": 77
       }
      },
      "text/html": [
       "<div>\n",
       "<style scoped>\n",
       "    .dataframe tbody tr th:only-of-type {\n",
       "        vertical-align: middle;\n",
       "    }\n",
       "\n",
       "    .dataframe tbody tr th {\n",
       "        vertical-align: top;\n",
       "    }\n",
       "\n",
       "    .dataframe thead th {\n",
       "        text-align: right;\n",
       "    }\n",
       "</style>\n",
       "<table border=\"1\" class=\"dataframe\">\n",
       "  <thead>\n",
       "    <tr style=\"text-align: right;\">\n",
       "      <th></th>\n",
       "      <th>Cycle_Index</th>\n",
       "      <th>Max_Discharge_Capacity</th>\n",
       "      <th>SOH_discharge</th>\n",
       "    </tr>\n",
       "  </thead>\n",
       "  <tbody>\n",
       "    <tr>\n",
       "      <th>0</th>\n",
       "      <td>1.0</td>\n",
       "      <td>0.741</td>\n",
       "      <td>1.000000</td>\n",
       "    </tr>\n",
       "    <tr>\n",
       "      <th>1</th>\n",
       "      <td>100.0</td>\n",
       "      <td>0.732</td>\n",
       "      <td>0.987854</td>\n",
       "    </tr>\n",
       "    <tr>\n",
       "      <th>2</th>\n",
       "      <td>200.0</td>\n",
       "      <td>0.728</td>\n",
       "      <td>0.982456</td>\n",
       "    </tr>\n",
       "    <tr>\n",
       "      <th>3</th>\n",
       "      <td>300.0</td>\n",
       "      <td>0.725</td>\n",
       "      <td>0.978408</td>\n",
       "    </tr>\n",
       "    <tr>\n",
       "      <th>4</th>\n",
       "      <td>400.0</td>\n",
       "      <td>0.720</td>\n",
       "      <td>0.971660</td>\n",
       "    </tr>\n",
       "    <tr>\n",
       "      <th>...</th>\n",
       "      <td>...</td>\n",
       "      <td>...</td>\n",
       "      <td>...</td>\n",
       "    </tr>\n",
       "    <tr>\n",
       "      <th>72</th>\n",
       "      <td>7800.0</td>\n",
       "      <td>0.564</td>\n",
       "      <td>0.761134</td>\n",
       "    </tr>\n",
       "    <tr>\n",
       "      <th>73</th>\n",
       "      <td>7900.0</td>\n",
       "      <td>0.564</td>\n",
       "      <td>0.761134</td>\n",
       "    </tr>\n",
       "    <tr>\n",
       "      <th>74</th>\n",
       "      <td>8000.0</td>\n",
       "      <td>0.563</td>\n",
       "      <td>0.759784</td>\n",
       "    </tr>\n",
       "    <tr>\n",
       "      <th>75</th>\n",
       "      <td>8100.0</td>\n",
       "      <td>0.560</td>\n",
       "      <td>0.755735</td>\n",
       "    </tr>\n",
       "    <tr>\n",
       "      <th>76</th>\n",
       "      <td>8200.0</td>\n",
       "      <td>0.561</td>\n",
       "      <td>0.757085</td>\n",
       "    </tr>\n",
       "  </tbody>\n",
       "</table>\n",
       "<p>77 rows × 3 columns</p>\n",
       "</div>"
      ],
      "text/plain": [
       "    Cycle_Index  Max_Discharge_Capacity  SOH_discharge\n",
       "0           1.0                   0.741       1.000000\n",
       "1         100.0                   0.732       0.987854\n",
       "2         200.0                   0.728       0.982456\n",
       "3         300.0                   0.725       0.978408\n",
       "4         400.0                   0.720       0.971660\n",
       "..          ...                     ...            ...\n",
       "72       7800.0                   0.564       0.761134\n",
       "73       7900.0                   0.564       0.761134\n",
       "74       8000.0                   0.563       0.759784\n",
       "75       8100.0                   0.560       0.755735\n",
       "76       8200.0                   0.561       0.757085\n",
       "\n",
       "[77 rows x 3 columns]"
      ]
     },
     "metadata": {},
     "output_type": "display_data"
    }
   ],
   "source": [
    "# Capacidade nominal (máxima global)\n",
    "nominal_capacity = df['Discharge_Capacity (Ah)'].max()\n",
    "print(f'Capacidade total de descarga: {nominal_capacity} Ah')\n",
    "\n",
    "# Para cada ciclo, extrai a maior capacidade \n",
    "# (cycles_capacity é uma série do Pandas)\n",
    "cycles_capacity = df.groupby('Cycle_Index')['Discharge_Capacity (Ah)'].max()\n",
    "cycles_capacity = cycles_capacity.reset_index() # transforma em dataframe\n",
    "cycles_capacity.columns = ['Cycle_Index', 'Max_Discharge_Capacity']\n",
    "cycles_capacity['SOH_discharge'] = (cycles_capacity['Max_Discharge_Capacity'] / nominal_capacity)\n",
    "display(cycles_capacity)"
   ]
  },
  {
   "cell_type": "code",
   "execution_count": 5,
   "metadata": {},
   "outputs": [
    {
     "data": {
      "application/vnd.microsoft.datawrangler.viewer.v0+json": {
       "columns": [
        {
         "name": "index",
         "rawType": "int64",
         "type": "integer"
        },
        {
         "name": "Cycle_Index",
         "rawType": "float64",
         "type": "float"
        },
        {
         "name": "Cell_Temperature (C)",
         "rawType": "float64",
         "type": "float"
        },
        {
         "name": "SOH_discharge",
         "rawType": "float64",
         "type": "float"
        }
       ],
       "conversionMethod": "pd.DataFrame",
       "ref": "0216ee0f-da0f-4989-9e5d-17d320ece382",
       "rows": [
        [
         "0",
         "1.0",
         "40.41916629711752",
         "1.0"
        ],
        [
         "1",
         "100.0",
         "40.31974216524217",
         "0.9878542510121457"
        ],
        [
         "2",
         "200.0",
         "40.31744081986143",
         "0.9824561403508771"
        ],
        [
         "3",
         "300.0",
         "40.31122580645162",
         "0.9784075573549258"
        ],
        [
         "4",
         "400.0",
         "40.30481529034141",
         "0.97165991902834"
        ],
        [
         "5",
         "500.0",
         "40.3238169800235",
         "0.9676113360323886"
        ],
        [
         "6",
         "600.0",
         "40.29477213695395",
         "0.9635627530364372"
        ],
        [
         "7",
         "700.0",
         "40.3502862652032",
         "0.9568151147098515"
        ],
        [
         "8",
         "800.0",
         "40.36885909631391",
         "0.9527665317139001"
        ],
        [
         "9",
         "900.0",
         "40.3747644245142",
         "0.9473684210526315"
        ],
        [
         "10",
         "1000.0",
         "40.35399669471154",
         "0.9433198380566801"
        ],
        [
         "11",
         "1100.0",
         "40.423379716269245",
         "0.9392712550607287"
        ],
        [
         "12",
         "1200.0",
         "40.38318380345768",
         "0.9352226720647773"
        ],
        [
         "13",
         "1300.0",
         "40.37986106032907",
         "0.9311740890688258"
        ],
        [
         "14",
         "1400.0",
         "40.37261769207224",
         "0.9284750337381916"
        ],
        [
         "15",
         "1800.0",
         "40.41634646401985",
         "0.912280701754386"
        ],
        [
         "16",
         "1900.0",
         "40.348878484184155",
         "0.9082321187584346"
        ],
        [
         "17",
         "2000.0",
         "40.285288637079006",
         "0.9041835357624832"
        ],
        [
         "18",
         "2100.0",
         "40.350839025932956",
         "0.9001349527665318"
        ],
        [
         "19",
         "2200.0",
         "40.36484366062917",
         "0.8960863697705803"
        ],
        [
         "20",
         "2300.0",
         "40.41072605363985",
         "0.892037786774629"
        ],
        [
         "21",
         "2400.0",
         "40.44204202759063",
         "0.8879892037786775"
        ],
        [
         "22",
         "2500.0",
         "40.47090428617467",
         "0.8852901484480432"
        ],
        [
         "23",
         "2600.0",
         "40.504130420711974",
         "0.8812415654520918"
        ],
        [
         "24",
         "2700.0",
         "40.46179219512195",
         "0.8785425101214576"
        ],
        [
         "25",
         "2800.0",
         "40.503198759791125",
         "0.8758434547908233"
        ],
        [
         "26",
         "2900.0",
         "40.421737463126846",
         "0.8704453441295547"
        ],
        [
         "27",
         "3000.0",
         "40.55329983525535",
         "0.8690958164642375"
        ],
        [
         "28",
         "3100.0",
         "40.49152593326726",
         "0.8663967611336033"
        ],
        [
         "29",
         "3200.0",
         "40.48500265339967",
         "0.8623481781376519"
        ],
        [
         "30",
         "3300.0",
         "40.4460163224517",
         "0.8609986504723347"
        ],
        [
         "31",
         "3500.0",
         "40.22792348813899",
         "0.8529014844804319"
        ],
        [
         "32",
         "3600.0",
         "40.317272115708036",
         "0.8529014844804319"
        ],
        [
         "33",
         "3700.0",
         "40.462425632377744",
         "0.8488529014844804"
        ],
        [
         "34",
         "3800.0",
         "40.41866530750934",
         "0.8434547908232118"
        ],
        [
         "35",
         "3900.0",
         "40.43364431586113",
         "0.8434547908232118"
        ],
        [
         "36",
         "4000.0",
         "40.48295190995907",
         "0.8407557354925776"
        ],
        [
         "37",
         "4100.0",
         "40.461786105407256",
         "0.8367071524966262"
        ],
        [
         "38",
         "4200.0",
         "40.47323711340206",
         "0.835357624831309"
        ],
        [
         "39",
         "4300.0",
         "40.443503101309446",
         "0.8340080971659919"
        ],
        [
         "40",
         "4400.0",
         "40.4439183108342",
         "0.8313090418353576"
        ],
        [
         "41",
         "4500.0",
         "40.4278388329281",
         "0.8272604588394062"
        ],
        [
         "42",
         "4600.0",
         "40.389430914166084",
         "0.8259109311740891"
        ],
        [
         "43",
         "4800.0",
         "40.425164685314684",
         "0.8218623481781376"
        ],
        [
         "44",
         "5000.0",
         "40.369234776487154",
         "0.815114709851552"
        ],
        [
         "45",
         "5100.0",
         "40.36671869457254",
         "0.8137651821862348"
        ],
        [
         "46",
         "5200.0",
         "40.66058988964044",
         "0.8097165991902834"
        ],
        [
         "47",
         "5300.0",
         "40.66980350125045",
         "0.8097165991902834"
        ],
        [
         "48",
         "5400.0",
         "40.66607119856887",
         "0.8070175438596491"
        ],
        [
         "49",
         "5500.0",
         "40.73170495333812",
         "0.8016194331983806"
        ]
       ],
       "shape": {
        "columns": 3,
        "rows": 77
       }
      },
      "text/html": [
       "<div>\n",
       "<style scoped>\n",
       "    .dataframe tbody tr th:only-of-type {\n",
       "        vertical-align: middle;\n",
       "    }\n",
       "\n",
       "    .dataframe tbody tr th {\n",
       "        vertical-align: top;\n",
       "    }\n",
       "\n",
       "    .dataframe thead th {\n",
       "        text-align: right;\n",
       "    }\n",
       "</style>\n",
       "<table border=\"1\" class=\"dataframe\">\n",
       "  <thead>\n",
       "    <tr style=\"text-align: right;\">\n",
       "      <th></th>\n",
       "      <th>Cycle_Index</th>\n",
       "      <th>Cell_Temperature (C)</th>\n",
       "      <th>SOH_discharge</th>\n",
       "    </tr>\n",
       "  </thead>\n",
       "  <tbody>\n",
       "    <tr>\n",
       "      <th>0</th>\n",
       "      <td>1.0</td>\n",
       "      <td>40.419166</td>\n",
       "      <td>1.000000</td>\n",
       "    </tr>\n",
       "    <tr>\n",
       "      <th>1</th>\n",
       "      <td>100.0</td>\n",
       "      <td>40.319742</td>\n",
       "      <td>0.987854</td>\n",
       "    </tr>\n",
       "    <tr>\n",
       "      <th>2</th>\n",
       "      <td>200.0</td>\n",
       "      <td>40.317441</td>\n",
       "      <td>0.982456</td>\n",
       "    </tr>\n",
       "    <tr>\n",
       "      <th>3</th>\n",
       "      <td>300.0</td>\n",
       "      <td>40.311226</td>\n",
       "      <td>0.978408</td>\n",
       "    </tr>\n",
       "    <tr>\n",
       "      <th>4</th>\n",
       "      <td>400.0</td>\n",
       "      <td>40.304815</td>\n",
       "      <td>0.971660</td>\n",
       "    </tr>\n",
       "    <tr>\n",
       "      <th>...</th>\n",
       "      <td>...</td>\n",
       "      <td>...</td>\n",
       "      <td>...</td>\n",
       "    </tr>\n",
       "    <tr>\n",
       "      <th>72</th>\n",
       "      <td>7800.0</td>\n",
       "      <td>40.733336</td>\n",
       "      <td>0.761134</td>\n",
       "    </tr>\n",
       "    <tr>\n",
       "      <th>73</th>\n",
       "      <td>7900.0</td>\n",
       "      <td>40.738304</td>\n",
       "      <td>0.761134</td>\n",
       "    </tr>\n",
       "    <tr>\n",
       "      <th>74</th>\n",
       "      <td>8000.0</td>\n",
       "      <td>40.720570</td>\n",
       "      <td>0.759784</td>\n",
       "    </tr>\n",
       "    <tr>\n",
       "      <th>75</th>\n",
       "      <td>8100.0</td>\n",
       "      <td>40.774364</td>\n",
       "      <td>0.755735</td>\n",
       "    </tr>\n",
       "    <tr>\n",
       "      <th>76</th>\n",
       "      <td>8200.0</td>\n",
       "      <td>40.692669</td>\n",
       "      <td>0.757085</td>\n",
       "    </tr>\n",
       "  </tbody>\n",
       "</table>\n",
       "<p>77 rows × 3 columns</p>\n",
       "</div>"
      ],
      "text/plain": [
       "    Cycle_Index  Cell_Temperature (C)  SOH_discharge\n",
       "0           1.0             40.419166       1.000000\n",
       "1         100.0             40.319742       0.987854\n",
       "2         200.0             40.317441       0.982456\n",
       "3         300.0             40.311226       0.978408\n",
       "4         400.0             40.304815       0.971660\n",
       "..          ...                   ...            ...\n",
       "72       7800.0             40.733336       0.761134\n",
       "73       7900.0             40.738304       0.761134\n",
       "74       8000.0             40.720570       0.759784\n",
       "75       8100.0             40.774364       0.755735\n",
       "76       8200.0             40.692669       0.757085\n",
       "\n",
       "[77 rows x 3 columns]"
      ]
     },
     "metadata": {},
     "output_type": "display_data"
    },
    {
     "data": {
      "application/vnd.microsoft.datawrangler.viewer.v0+json": {
       "columns": [
        {
         "name": "index",
         "rawType": "object",
         "type": "string"
        },
        {
         "name": "Cycle_Index",
         "rawType": "float64",
         "type": "float"
        },
        {
         "name": "Cell_Temperature (C)",
         "rawType": "float64",
         "type": "float"
        },
        {
         "name": "SOH_discharge",
         "rawType": "float64",
         "type": "float"
        }
       ],
       "conversionMethod": "pd.DataFrame",
       "ref": "f6d0adf2-3141-421a-a7b0-398af5ac09f8",
       "rows": [
        [
         "count",
         "77.0",
         "77.0",
         "77.0"
        ],
        [
         "mean",
         "4188.324675324675",
         "40.537652902125096",
         "0.8479415321520584"
        ],
        [
         "std",
         "2448.283783654209",
         "0.17853359734508092",
         "0.06942751957062439"
        ],
        [
         "min",
         "1.0",
         "40.22792348813899",
         "0.7557354925775979"
        ],
        [
         "25%",
         "2200.0",
         "40.37986106032907",
         "0.7881241565452092"
        ],
        [
         "50%",
         "4200.0",
         "40.47090428617467",
         "0.835357624831309"
        ],
        [
         "75%",
         "6300.0",
         "40.73333626625861",
         "0.8960863697705803"
        ],
        [
         "max",
         "8200.0",
         "40.801850922509225",
         "1.0"
        ]
       ],
       "shape": {
        "columns": 3,
        "rows": 8
       }
      },
      "text/html": [
       "<div>\n",
       "<style scoped>\n",
       "    .dataframe tbody tr th:only-of-type {\n",
       "        vertical-align: middle;\n",
       "    }\n",
       "\n",
       "    .dataframe tbody tr th {\n",
       "        vertical-align: top;\n",
       "    }\n",
       "\n",
       "    .dataframe thead th {\n",
       "        text-align: right;\n",
       "    }\n",
       "</style>\n",
       "<table border=\"1\" class=\"dataframe\">\n",
       "  <thead>\n",
       "    <tr style=\"text-align: right;\">\n",
       "      <th></th>\n",
       "      <th>Cycle_Index</th>\n",
       "      <th>Cell_Temperature (C)</th>\n",
       "      <th>SOH_discharge</th>\n",
       "    </tr>\n",
       "  </thead>\n",
       "  <tbody>\n",
       "    <tr>\n",
       "      <th>count</th>\n",
       "      <td>77.000000</td>\n",
       "      <td>77.000000</td>\n",
       "      <td>77.000000</td>\n",
       "    </tr>\n",
       "    <tr>\n",
       "      <th>mean</th>\n",
       "      <td>4188.324675</td>\n",
       "      <td>40.537653</td>\n",
       "      <td>0.847942</td>\n",
       "    </tr>\n",
       "    <tr>\n",
       "      <th>std</th>\n",
       "      <td>2448.283784</td>\n",
       "      <td>0.178534</td>\n",
       "      <td>0.069428</td>\n",
       "    </tr>\n",
       "    <tr>\n",
       "      <th>min</th>\n",
       "      <td>1.000000</td>\n",
       "      <td>40.227923</td>\n",
       "      <td>0.755735</td>\n",
       "    </tr>\n",
       "    <tr>\n",
       "      <th>25%</th>\n",
       "      <td>2200.000000</td>\n",
       "      <td>40.379861</td>\n",
       "      <td>0.788124</td>\n",
       "    </tr>\n",
       "    <tr>\n",
       "      <th>50%</th>\n",
       "      <td>4200.000000</td>\n",
       "      <td>40.470904</td>\n",
       "      <td>0.835358</td>\n",
       "    </tr>\n",
       "    <tr>\n",
       "      <th>75%</th>\n",
       "      <td>6300.000000</td>\n",
       "      <td>40.733336</td>\n",
       "      <td>0.896086</td>\n",
       "    </tr>\n",
       "    <tr>\n",
       "      <th>max</th>\n",
       "      <td>8200.000000</td>\n",
       "      <td>40.801851</td>\n",
       "      <td>1.000000</td>\n",
       "    </tr>\n",
       "  </tbody>\n",
       "</table>\n",
       "</div>"
      ],
      "text/plain": [
       "       Cycle_Index  Cell_Temperature (C)  SOH_discharge\n",
       "count    77.000000             77.000000      77.000000\n",
       "mean   4188.324675             40.537653       0.847942\n",
       "std    2448.283784              0.178534       0.069428\n",
       "min       1.000000             40.227923       0.755735\n",
       "25%    2200.000000             40.379861       0.788124\n",
       "50%    4200.000000             40.470904       0.835358\n",
       "75%    6300.000000             40.733336       0.896086\n",
       "max    8200.000000             40.801851       1.000000"
      ]
     },
     "metadata": {},
     "output_type": "display_data"
    }
   ],
   "source": [
    "# Seleciona as features de interesse e agrupa por ciclo\n",
    "df_grouped = df[['Cycle_Index', 'Cell_Temperature (C)']]\n",
    "df_grouped = df_grouped.groupby('Cycle_Index', as_index=False).mean() # Média será usada para a temperatura\n",
    "\n",
    "# Adição do SOH calculado em ciclos_capacity\n",
    "df_grouped['SOH_discharge'] = cycles_capacity['SOH_discharge']\n",
    "\n",
    "display(df_grouped)\n",
    "display(df_grouped.describe())"
   ]
  },
  {
   "cell_type": "markdown",
   "metadata": {},
   "source": [
    "### [numpy.interp() parameters](https://numpy.org/doc/2.1/reference/generated/numpy.interp.html):\n",
    "- `x`: _array_like_ . The x-coordinates at which to evaluate the interpolated values.\n",
    "\n",
    "- `xp`: _1-D sequence of floats_. The x-coordinates of the data points, must be increasing if argument period is not specified. Otherwise, xp is internally sorted after normalizing the periodic boundaries with xp = xp % period.\n",
    "\n",
    "- `fp`: _1-D sequence of float or complex_. The y-coordinates of the data points, same length as xp.\n",
    "\n",
    "Returns the one-dimensional piecewise linear interpolant to a function with given discrete data points (xp, fp), evaluated at x:\n",
    "- `y`: float or complex (corresponding to fp) or ndarray. The interpolated values, same shape as x."
   ]
  },
  {
   "cell_type": "code",
   "execution_count": 6,
   "metadata": {},
   "outputs": [
    {
     "data": {
      "application/vnd.microsoft.datawrangler.viewer.v0+json": {
       "columns": [
        {
         "name": "index",
         "rawType": "int64",
         "type": "integer"
        },
        {
         "name": "SOH_threshold",
         "rawType": "float64",
         "type": "float"
        },
        {
         "name": "estimated_cycle",
         "rawType": "int32",
         "type": "integer"
        },
        {
         "name": "NCD1%",
         "rawType": "float64",
         "type": "float"
        }
       ],
       "conversionMethod": "pd.DataFrame",
       "ref": "ae621d06-4e53-4b1b-b1b1-349370df85d2",
       "rows": [
        [
         "0",
         "0.99",
         "82",
         null
        ],
        [
         "1",
         "0.98",
         "260",
         "178.1566666666668"
        ],
        [
         "2",
         "0.97",
         "440",
         "180.3333333333323"
        ],
        [
         "3",
         "0.96",
         "652",
         "211.8000000000007"
        ],
        [
         "4",
         "0.95",
         "851",
         "198.4500000000005"
        ],
        [
         "5",
         "0.94",
         "1082",
         "230.7500000000001"
        ],
        [
         "6",
         "0.93",
         "1343",
         "261.4999999999998"
        ],
        [
         "7",
         "0.92",
         "1609",
         "265.83333333333553"
        ],
        [
         "8",
         "0.91",
         "1856",
         "247.00000000000045"
        ],
        [
         "9",
         "0.9",
         "2103",
         "247.00000000000045"
        ],
        [
         "10",
         "0.89",
         "2350",
         "247.0000000000009"
        ],
        [
         "11",
         "0.88",
         "2646",
         "295.6666666666674"
        ],
        [
         "12",
         "0.87",
         "2933",
         "287.0000000000032"
        ],
        [
         "13",
         "0.86",
         "3324",
         "391.66666666666197"
        ],
        [
         "14",
         "0.85",
         "3671",
         "347.00000000000045"
        ],
        [
         "15",
         "0.84",
         "4018",
         "347.00000000000045"
        ],
        [
         "16",
         "0.83",
         "4432",
         "413.6666666666656"
        ],
        [
         "17",
         "0.82",
         "4855",
         "422.8666666666677"
        ],
        [
         "18",
         "0.81",
         "5193",
         "337.7999999999993"
        ],
        [
         "19",
         "0.8",
         "5706",
         "513.666666666667"
        ],
        [
         "20",
         "0.79",
         "6230",
         "523.8333333333339"
        ],
        [
         "21",
         "0.78",
         "6801",
         "570.5"
        ],
        [
         "22",
         "0.77",
         "7371",
         "570.5000000000009"
        ],
        [
         "23",
         "0.76",
         "7984",
         "612.5000000000073"
        ]
       ],
       "shape": {
        "columns": 3,
        "rows": 24
       }
      },
      "text/html": [
       "<div>\n",
       "<style scoped>\n",
       "    .dataframe tbody tr th:only-of-type {\n",
       "        vertical-align: middle;\n",
       "    }\n",
       "\n",
       "    .dataframe tbody tr th {\n",
       "        vertical-align: top;\n",
       "    }\n",
       "\n",
       "    .dataframe thead th {\n",
       "        text-align: right;\n",
       "    }\n",
       "</style>\n",
       "<table border=\"1\" class=\"dataframe\">\n",
       "  <thead>\n",
       "    <tr style=\"text-align: right;\">\n",
       "      <th></th>\n",
       "      <th>SOH_threshold</th>\n",
       "      <th>estimated_cycle</th>\n",
       "      <th>NCD1%</th>\n",
       "    </tr>\n",
       "  </thead>\n",
       "  <tbody>\n",
       "    <tr>\n",
       "      <th>0</th>\n",
       "      <td>0.99</td>\n",
       "      <td>82</td>\n",
       "      <td>NaN</td>\n",
       "    </tr>\n",
       "    <tr>\n",
       "      <th>1</th>\n",
       "      <td>0.98</td>\n",
       "      <td>260</td>\n",
       "      <td>178.156667</td>\n",
       "    </tr>\n",
       "    <tr>\n",
       "      <th>2</th>\n",
       "      <td>0.97</td>\n",
       "      <td>440</td>\n",
       "      <td>180.333333</td>\n",
       "    </tr>\n",
       "    <tr>\n",
       "      <th>3</th>\n",
       "      <td>0.96</td>\n",
       "      <td>652</td>\n",
       "      <td>211.800000</td>\n",
       "    </tr>\n",
       "    <tr>\n",
       "      <th>4</th>\n",
       "      <td>0.95</td>\n",
       "      <td>851</td>\n",
       "      <td>198.450000</td>\n",
       "    </tr>\n",
       "    <tr>\n",
       "      <th>5</th>\n",
       "      <td>0.94</td>\n",
       "      <td>1082</td>\n",
       "      <td>230.750000</td>\n",
       "    </tr>\n",
       "    <tr>\n",
       "      <th>6</th>\n",
       "      <td>0.93</td>\n",
       "      <td>1343</td>\n",
       "      <td>261.500000</td>\n",
       "    </tr>\n",
       "    <tr>\n",
       "      <th>7</th>\n",
       "      <td>0.92</td>\n",
       "      <td>1609</td>\n",
       "      <td>265.833333</td>\n",
       "    </tr>\n",
       "    <tr>\n",
       "      <th>8</th>\n",
       "      <td>0.91</td>\n",
       "      <td>1856</td>\n",
       "      <td>247.000000</td>\n",
       "    </tr>\n",
       "    <tr>\n",
       "      <th>9</th>\n",
       "      <td>0.90</td>\n",
       "      <td>2103</td>\n",
       "      <td>247.000000</td>\n",
       "    </tr>\n",
       "    <tr>\n",
       "      <th>10</th>\n",
       "      <td>0.89</td>\n",
       "      <td>2350</td>\n",
       "      <td>247.000000</td>\n",
       "    </tr>\n",
       "    <tr>\n",
       "      <th>11</th>\n",
       "      <td>0.88</td>\n",
       "      <td>2646</td>\n",
       "      <td>295.666667</td>\n",
       "    </tr>\n",
       "    <tr>\n",
       "      <th>12</th>\n",
       "      <td>0.87</td>\n",
       "      <td>2933</td>\n",
       "      <td>287.000000</td>\n",
       "    </tr>\n",
       "    <tr>\n",
       "      <th>13</th>\n",
       "      <td>0.86</td>\n",
       "      <td>3324</td>\n",
       "      <td>391.666667</td>\n",
       "    </tr>\n",
       "    <tr>\n",
       "      <th>14</th>\n",
       "      <td>0.85</td>\n",
       "      <td>3671</td>\n",
       "      <td>347.000000</td>\n",
       "    </tr>\n",
       "    <tr>\n",
       "      <th>15</th>\n",
       "      <td>0.84</td>\n",
       "      <td>4018</td>\n",
       "      <td>347.000000</td>\n",
       "    </tr>\n",
       "    <tr>\n",
       "      <th>16</th>\n",
       "      <td>0.83</td>\n",
       "      <td>4432</td>\n",
       "      <td>413.666667</td>\n",
       "    </tr>\n",
       "    <tr>\n",
       "      <th>17</th>\n",
       "      <td>0.82</td>\n",
       "      <td>4855</td>\n",
       "      <td>422.866667</td>\n",
       "    </tr>\n",
       "    <tr>\n",
       "      <th>18</th>\n",
       "      <td>0.81</td>\n",
       "      <td>5193</td>\n",
       "      <td>337.800000</td>\n",
       "    </tr>\n",
       "    <tr>\n",
       "      <th>19</th>\n",
       "      <td>0.80</td>\n",
       "      <td>5706</td>\n",
       "      <td>513.666667</td>\n",
       "    </tr>\n",
       "    <tr>\n",
       "      <th>20</th>\n",
       "      <td>0.79</td>\n",
       "      <td>6230</td>\n",
       "      <td>523.833333</td>\n",
       "    </tr>\n",
       "    <tr>\n",
       "      <th>21</th>\n",
       "      <td>0.78</td>\n",
       "      <td>6801</td>\n",
       "      <td>570.500000</td>\n",
       "    </tr>\n",
       "    <tr>\n",
       "      <th>22</th>\n",
       "      <td>0.77</td>\n",
       "      <td>7371</td>\n",
       "      <td>570.500000</td>\n",
       "    </tr>\n",
       "    <tr>\n",
       "      <th>23</th>\n",
       "      <td>0.76</td>\n",
       "      <td>7984</td>\n",
       "      <td>612.500000</td>\n",
       "    </tr>\n",
       "  </tbody>\n",
       "</table>\n",
       "</div>"
      ],
      "text/plain": [
       "    SOH_threshold  estimated_cycle       NCD1%\n",
       "0            0.99               82         NaN\n",
       "1            0.98              260  178.156667\n",
       "2            0.97              440  180.333333\n",
       "3            0.96              652  211.800000\n",
       "4            0.95              851  198.450000\n",
       "5            0.94             1082  230.750000\n",
       "6            0.93             1343  261.500000\n",
       "7            0.92             1609  265.833333\n",
       "8            0.91             1856  247.000000\n",
       "9            0.90             2103  247.000000\n",
       "10           0.89             2350  247.000000\n",
       "11           0.88             2646  295.666667\n",
       "12           0.87             2933  287.000000\n",
       "13           0.86             3324  391.666667\n",
       "14           0.85             3671  347.000000\n",
       "15           0.84             4018  347.000000\n",
       "16           0.83             4432  413.666667\n",
       "17           0.82             4855  422.866667\n",
       "18           0.81             5193  337.800000\n",
       "19           0.80             5706  513.666667\n",
       "20           0.79             6230  523.833333\n",
       "21           0.78             6801  570.500000\n",
       "22           0.77             7371  570.500000\n",
       "23           0.76             7984  612.500000"
      ]
     },
     "metadata": {},
     "output_type": "display_data"
    }
   ],
   "source": [
    "# Define thresholds de interesse (99%, 98%, ...)\n",
    "thresholds = np.arange(0.99, 0.00, -0.01)\n",
    "\n",
    "soh    = df_grouped['SOH_discharge'].values\n",
    "cycles = df_grouped['Cycle_Index'].values\n",
    "\n",
    "# inverte para que fique crescente\n",
    "xp = soh[::-1]\n",
    "fp = cycles[::-1]\n",
    "\n",
    "valid = (thresholds >= xp.min()) & (thresholds <= xp.max())\n",
    "thresholds = thresholds[valid]\n",
    "\n",
    "# np.interp(x, xp, fp) assume xp crescente e retorna y para cada x em thresholds\n",
    "estimated_cycles = np.interp(thresholds, xp, fp)\n",
    "\n",
    "df_estimates = pd.DataFrame({\n",
    "    'SOH_threshold':   thresholds,\n",
    "    'estimated_cycle': estimated_cycles\n",
    "})\n",
    "\n",
    "# Number of cycles drop (1%)\n",
    "df_estimates['NCD1%'] = df_estimates['estimated_cycle'].diff()\n",
    "\n",
    "# Cast\n",
    "df_estimates['estimated_cycle'] = df_estimates['estimated_cycle'].astype(int)\n",
    "df_estimates['SOH_threshold']   = df_estimates['SOH_threshold'].astype(float).round(2)\n",
    "\n",
    "display(df_estimates)\n"
   ]
  },
  {
   "cell_type": "code",
   "execution_count": 11,
   "metadata": {},
   "outputs": [
    {
     "data": {
      "image/png": "[encoded data removed]",
      "text/plain": [
       "<Figure size 1600x500 with 2 Axes>"
      ]
     },
     "metadata": {},
     "output_type": "display_data"
    }
   ],
   "source": [
    "fig, ax1 = plt.subplots(figsize=(16,5))\n",
    "\n",
    "# Eixo temperatura\n",
    "ax1.plot(df_grouped[\"Cycle_Index\"], df_grouped[\"Cell_Temperature (C)\"], label=\"Cell_Temperature (C)\", color='red')\n",
    "ax1.set_xlabel(\"Cycle\")\n",
    "ax1.set_ylabel(\"Cell_Temperature (C)\", color='red')\n",
    "ax1.tick_params(axis='y', labelcolor='red')\n",
    "\n",
    "# Major ticks: 1, 2000, 4000, ...\n",
    "xmin = df_grouped[\"Cycle_Index\"].min()\n",
    "xmax = df_grouped[\"Cycle_Index\"].max()\n",
    "major_ticks = np.arange(0, xmax+1, 2000)\n",
    "ax1.set_xticks(major_ticks)\n",
    "\n",
    "# Minor ticks: a cada 200 unidades\n",
    "minor_ticks = np.arange(0, xmax+1, 200)\n",
    "ax1.set_xticks(minor_ticks, minor=True)\n",
    "\n",
    "# Grids\n",
    "ax1.grid(which='major', linestyle='-', linewidth=1, alpha=0.9)\n",
    "ax1.grid(which='minor', linestyle='--', linewidth=0.5, alpha=0.7)\n",
    "\n",
    "# Eixo SOH\n",
    "ax2 = ax1.twinx()\n",
    "ax2.plot(df_grouped[\"Cycle_Index\"], df_grouped[\"SOH_discharge\"], label=\"SOH\", color='blue')\n",
    "ax2.set_ylabel(\"SOH\", color='blue')\n",
    "ax2.tick_params(axis='y', labelcolor='blue')\n",
    "\n",
    "ax2.scatter(df_estimates[\"estimated_cycle\"], df_estimates[\"SOH_threshold\"], color='blue', marker='d', s=50, label=\"Queda de 1%\")\n",
    "\n",
    "plt.title(\"Temperatura e SOH em função do ciclo\")\n",
    "\n",
    "# Combina as legendas dos dois eixos\n",
    "lines_1, labels_1 = ax1.get_legend_handles_labels()\n",
    "lines_2, labels_2 = ax2.get_legend_handles_labels()\n",
    "ax1.legend(lines_1 + lines_2, labels_1 + labels_2, loc='upper center')\n",
    "\n",
    "plt.show()\n"
   ]
  },
  {
   "cell_type": "code",
   "execution_count": 8,
   "metadata": {},
   "outputs": [
    {
     "name": "stdout",
     "output_type": "stream",
     "text": [
      "Média: 343.54, Desvio-padrão: 135.13\n"
     ]
    },
    {
     "data": {
      "image/png": "[encoded data removed]",
      "text/plain": [
       "<Figure size 1200x200 with 1 Axes>"
      ]
     },
     "metadata": {},
     "output_type": "display_data"
    }
   ],
   "source": [
    "data = df_estimates[\"NCD1%\"].dropna().values\n",
    "\n",
    "mean = np.mean(data)\n",
    "std  = np.std(data, ddof=1)\n",
    "print(f'Média: {mean:.2f}, Desvio-padrão: {std:.2f}')\n",
    "\n",
    "# Seleciona a cor padrão 'C0' do matplotlib (primeira cor)\n",
    "default_color = plt.rcParams['axes.prop_cycle'].by_key()['color'][0]\n",
    "fig, ax = plt.subplots(figsize=(12, 2))\n",
    "\n",
    "sns.boxplot(\n",
    "    x=data,                   # valores no eixo x\n",
    "    y=np.zeros_like(data),    # posição 0 no eixo y\n",
    "    ax=ax,\n",
    "    orient='h',\n",
    "    linewidth=1,\n",
    "    zorder=2\n",
    ")\n",
    "\n",
    "# Deixa a face do boxplot semitransparente\n",
    "for patch in ax.patches:\n",
    "    if hasattr(patch, 'get_facecolor'):\n",
    "        r, g, b, a = patch.get_facecolor()\n",
    "        patch.set_facecolor((r, g, b, 0.3))  # alpha = 0.3\n",
    "\n",
    "# Sobreposição de pontos (scatter) com baixa opacidade\n",
    "sns.scatterplot(\n",
    "    x=data,\n",
    "    y=np.zeros_like(data),\n",
    "    ax=ax,\n",
    "    s=60,                     # tamanho dos pontos\n",
    "    color=default_color,      # mesma cor do boxplot\n",
    "    alpha=0.7,\n",
    "    zorder=1\n",
    ")\n",
    "\n",
    "# Remove os ticks do eixo y (não fazem sentido aqui)\n",
    "ax.set_yticks([])\n",
    "\n",
    "ax.set_xlabel(\"NCD1%\")\n",
    "ax.tick_params(which='major', labelsize=12)\n",
    "\n",
    "plt.title(\"Distribuição de NCD1%\", fontsize=18)\n",
    "plt.grid(True, linestyle='--', linewidth=0.5, alpha=0.7)\n",
    "\n",
    "plt.show()"
   ]
  },
  {
   "cell_type": "code",
   "execution_count": 9,
   "metadata": {},
   "outputs": [
    {
     "data": {
      "image/png": "[encoded data removed]",
      "text/plain": [
       "<Figure size 1500x400 with 1 Axes>"
      ]
     },
     "metadata": {},
     "output_type": "display_data"
    }
   ],
   "source": [
    "data = np.sort(data)  # Garante que os dados estão ordenados\n",
    "n    = len(data)\n",
    "\n",
    "# Faz o fitting para encotnrar os parametros e calcula a funcao acumulada dos dados considerando comportamento normal\n",
    "mean, std = norm.fit(data)\n",
    "teo_norm  = norm.cdf(data, loc=mean, scale=std)\n",
    "\n",
    "plt.figure(figsize=(15, 4))\n",
    "\n",
    "# Probabilidade acumulada empírica (1/n, 2/n, ..., 1)\n",
    "cdf_emp = np.arange(1, n+1) / n\n",
    "plt.plot(data, cdf_emp, marker='o', linestyle='-', label=\"CDF NCD1%\", zorder=3, alpha=0.7)\n",
    "\n",
    "# Função acumulada da normal (teórica)\n",
    "plt.plot(data, teo_norm, linestyle='--', label=f\"CDF Normal fit\\n(μ={mean:.2f}, σ={std:.2f})\")\n",
    "\n",
    "plt.xlabel(\"NCD1\")\n",
    "plt.ylabel(\"Probabilidade acumulada\")\n",
    "plt.title(\"NCD1% e Curva Normal aproximada\")\n",
    "plt.legend()\n",
    "plt.grid(True, linestyle='--', linewidth=0.5, alpha=0.7)\n",
    "\n",
    "plt.show()\n"
   ]
  },
  {
   "cell_type": "markdown",
   "metadata": {},
   "source": [
    "Teste de Kolmogorov–Smirnov (KS) para verificar formalmente se o conjunto de dados de NCD1% (`data`) segue a distribuição Normal com os parametros encontrados no método de fitting\n",
    "\n",
    "De acordo com a [documentação de **kstest**](https://docs.scipy.org/doc/scipy/reference/generated/scipy.stats.kstest.html):\n",
    "- ``rvs=data``\n",
    "    - Array de observações ordenadas\n",
    "- ``cdf='norm'`` \n",
    "    - Especifica que a distribuição teórica é a de uma normal\n",
    "- ``args=(mean, std)`` \n",
    "    - Parâmetros (μ, σ) da normal teórica\n",
    "\n",
    "Retorna:\n",
    "\n",
    "- ``D (statistic) `` \n",
    "    - Representa a maior diferença absoluta entre aa curva dados e a CDF da Normal teórica\n",
    "    - Quanto menor, mais próximo o ajuste está dos dados observados\n",
    "\n",
    "- ``p-value``\n",
    "    - Probabilidade de observar uma estatística \\( D \\) igual ou mais extrema sob a suposição de que os dados vêm de uma Normal\n",
    "    - **Valores altos (> alpha) indicam falha em rejeitar a hipótese de normalidade**. \n",
    "    - Valores baixos (< alpha) indicam evidência contra a hipótese"
   ]
  },
  {
   "cell_type": "code",
   "execution_count": 10,
   "metadata": {},
   "outputs": [
    {
     "name": "stdout",
     "output_type": "stream",
     "text": [
      "KS statistic: 0.1632\n",
      "p-value: 0.5204\n",
      "alpha = 0.05\n",
      "Hipótese aceita.\n"
     ]
    }
   ],
   "source": [
    "statistic, p_value = kstest(rvs=data, cdf='norm', args=(mean, std))\n",
    "\n",
    "print(f\"KS statistic: {statistic:.4f}\")\n",
    "print(f\"p-value: {p_value:.4f}\")\n",
    "\n",
    "alpha = 0.05 # não tenho certeza em qual valor usar aqui, mas 0.05 pareceu ser comum\n",
    "print(f'alpha = {alpha}')\n",
    "if p_value < alpha: print(f\"Hipótese rejeitada.\")\n",
    "else: print(f\"Hipótese aceita.\")"
   ]
  }
 ],
 "metadata": {
  "kernelspec": {
   "display_name": "Python 3",
   "language": "python",
   "name": "python3"
  },
  "language_info": {
   "codemirror_mode": {
    "name": "ipython",
    "version": 3
   },
   "file_extension": ".py",
   "mimetype": "text/x-python",
   "name": "python",
   "nbconvert_exporter": "python",
   "pygments_lexer": "ipython3",
   "version": "3.11.9"
  }
 },
 "nbformat": 4,
 "nbformat_minor": 2
}
