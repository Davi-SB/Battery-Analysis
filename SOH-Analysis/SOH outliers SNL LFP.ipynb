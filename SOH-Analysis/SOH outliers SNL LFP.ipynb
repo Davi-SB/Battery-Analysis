{
 "cells": [
  {
   "cell_type": "code",
   "execution_count": 18,
   "metadata": {},
   "outputs": [],
   "source": [
    "import numpy as np\n",
    "import pandas as pd\n",
    "import seaborn as sns\n",
    "import matplotlib.pyplot as plt\n",
    "from IPython.display import display\n",
    "from scipy.stats import norm, kstest, zscore\n",
    "from sklearn.ensemble import IsolationForest\n"
   ]
  },
  {
   "cell_type": "markdown",
   "metadata": {},
   "source": [
    "# SNL LFP"
   ]
  },
  {
   "cell_type": "markdown",
   "metadata": {},
   "source": [
    "## Limpeza e preparação"
   ]
  },
  {
   "cell_type": "markdown",
   "metadata": {},
   "source": [
    "- Corrente negativa --> descarga\n",
    "- Corrente positiva --> carga"
   ]
  },
  {
   "cell_type": "code",
   "execution_count": 19,
   "metadata": {},
   "outputs": [
    {
     "data": {
      "application/vnd.microsoft.datawrangler.viewer.v0+json": {
       "columns": [
        {
         "name": "index",
         "rawType": "int64",
         "type": "integer"
        },
        {
         "name": "Cycle_Index",
         "rawType": "float64",
         "type": "float"
        },
        {
         "name": "Test_Time (s)",
         "rawType": "float64",
         "type": "float"
        },
        {
         "name": "Current (A)",
         "rawType": "float64",
         "type": "float"
        },
        {
         "name": "Voltage (V)",
         "rawType": "float64",
         "type": "float"
        },
        {
         "name": "Discharge_Capacity (Ah)",
         "rawType": "float64",
         "type": "float"
        },
        {
         "name": "Cell_Temperature (C)",
         "rawType": "float64",
         "type": "float"
        }
       ],
       "ref": "6bdb9579-be63-4861-a798-7f16ddb66ac6",
       "rows": [
        [
         "676",
         "1.0",
         "8301.682",
         "-0.549",
         "3.456",
         "0.0",
         "15.605"
        ],
        [
         "677",
         "1.0",
         "8303.46",
         "-0.549",
         "3.445",
         "0.0",
         "15.543"
        ],
        [
         "678",
         "1.0",
         "8306.487",
         "-0.55",
         "3.435",
         "0.0",
         "15.59"
        ],
        [
         "679",
         "1.0",
         "8310.137",
         "-0.549",
         "3.425",
         "0.001",
         "15.528"
        ],
        [
         "680",
         "1.0",
         "8314.567",
         "-0.55",
         "3.414",
         "0.001",
         "15.528"
        ],
        [
         "681",
         "1.0",
         "8319.715",
         "-0.549",
         "3.404",
         "0.002",
         "15.528"
        ],
        [
         "682",
         "1.0",
         "8325.799",
         "-0.55",
         "3.394",
         "0.003",
         "15.467"
        ],
        [
         "683",
         "1.0",
         "8332.819",
         "-0.549",
         "3.383",
         "0.004",
         "15.528"
        ],
        [
         "684",
         "1.0",
         "8340.868",
         "-0.549",
         "3.373",
         "0.005",
         "15.421"
        ],
        [
         "685",
         "1.0",
         "8350.384",
         "-0.55",
         "3.363",
         "0.007",
         "15.528"
        ],
        [
         "686",
         "1.0",
         "8360.399",
         "-0.55",
         "3.353",
         "0.008",
         "15.528"
        ],
        [
         "687",
         "1.0",
         "8370.414",
         "-0.549",
         "3.345",
         "0.01",
         "15.59"
        ],
        [
         "688",
         "1.0",
         "8380.429",
         "-0.549",
         "3.337",
         "0.012",
         "15.59"
        ],
        [
         "689",
         "1.0",
         "8390.444",
         "-0.55",
         "3.331",
         "0.013",
         "15.528"
        ],
        [
         "690",
         "1.0",
         "8400.459",
         "-0.55",
         "3.325",
         "0.015",
         "15.59"
        ],
        [
         "691",
         "1.0",
         "8410.474",
         "-0.549",
         "3.32",
         "0.016",
         "15.528"
        ],
        [
         "692",
         "1.0",
         "8420.489",
         "-0.549",
         "3.315",
         "0.018",
         "15.467"
        ],
        [
         "693",
         "1.0",
         "8430.504",
         "-0.55",
         "3.311",
         "0.019",
         "15.543"
        ],
        [
         "694",
         "1.0",
         "8440.519",
         "-0.549",
         "3.307",
         "0.021",
         "15.605"
        ],
        [
         "695",
         "1.0",
         "8450.534",
         "-0.549",
         "3.304",
         "0.022",
         "15.605"
        ],
        [
         "696",
         "1.0",
         "8460.549",
         "-0.549",
         "3.301",
         "0.024",
         "15.605"
        ],
        [
         "697",
         "1.0",
         "8470.564",
         "-0.549",
         "3.298",
         "0.025",
         "15.543"
        ],
        [
         "698",
         "1.0",
         "8480.579",
         "-0.55",
         "3.295",
         "0.027",
         "15.605"
        ],
        [
         "699",
         "1.0",
         "8490.594",
         "-0.549",
         "3.293",
         "0.028",
         "15.543"
        ],
        [
         "700",
         "1.0",
         "8500.609",
         "-0.55",
         "3.291",
         "0.03",
         "15.543"
        ],
        [
         "701",
         "1.0",
         "8510.624",
         "-0.549",
         "3.289",
         "0.031",
         "15.543"
        ],
        [
         "702",
         "1.0",
         "8520.639",
         "-0.549",
         "3.287",
         "0.033",
         "15.62"
        ],
        [
         "703",
         "1.0",
         "8530.654",
         "-0.55",
         "3.286",
         "0.034",
         "15.543"
        ],
        [
         "704",
         "1.0",
         "8540.669",
         "-0.55",
         "3.285",
         "0.036",
         "15.543"
        ],
        [
         "705",
         "1.0",
         "8550.685",
         "-0.549",
         "3.283",
         "0.038",
         "15.543"
        ],
        [
         "706",
         "1.0",
         "8560.7",
         "-0.549",
         "3.282",
         "0.039",
         "15.543"
        ],
        [
         "707",
         "1.0",
         "8570.715",
         "-0.55",
         "3.281",
         "0.041",
         "15.543"
        ],
        [
         "708",
         "1.0",
         "8580.73",
         "-0.549",
         "3.28",
         "0.042",
         "15.467"
        ],
        [
         "709",
         "1.0",
         "8590.745",
         "-0.55",
         "3.278",
         "0.044",
         "15.543"
        ],
        [
         "710",
         "1.0",
         "8600.76",
         "-0.549",
         "3.278",
         "0.045",
         "15.543"
        ],
        [
         "711",
         "1.0",
         "8610.775",
         "-0.549",
         "3.277",
         "0.047",
         "15.528"
        ],
        [
         "712",
         "1.0",
         "8620.79",
         "-0.55",
         "3.276",
         "0.048",
         "15.605"
        ],
        [
         "713",
         "1.0",
         "8630.805",
         "-0.55",
         "3.275",
         "0.05",
         "15.605"
        ],
        [
         "714",
         "1.0",
         "8640.82",
         "-0.549",
         "3.274",
         "0.051",
         "15.543"
        ],
        [
         "715",
         "1.0",
         "8650.835",
         "-0.549",
         "3.274",
         "0.053",
         "15.605"
        ],
        [
         "716",
         "1.0",
         "8660.85",
         "-0.55",
         "3.273",
         "0.054",
         "15.574"
        ],
        [
         "717",
         "1.0",
         "8670.865",
         "-0.549",
         "3.273",
         "0.056",
         "15.543"
        ],
        [
         "718",
         "1.0",
         "8680.88",
         "-0.55",
         "3.272",
         "0.057",
         "15.605"
        ],
        [
         "719",
         "1.0",
         "8690.895",
         "-0.55",
         "3.272",
         "0.059",
         "15.605"
        ],
        [
         "720",
         "1.0",
         "8700.91",
         "-0.55",
         "3.271",
         "0.06",
         "15.605"
        ],
        [
         "721",
         "1.0",
         "8710.925",
         "-0.55",
         "3.271",
         "0.062",
         "15.605"
        ],
        [
         "722",
         "1.0",
         "8720.94",
         "-0.55",
         "3.27",
         "0.064",
         "15.605"
        ],
        [
         "723",
         "1.0",
         "8730.955",
         "-0.549",
         "3.27",
         "0.065",
         "15.605"
        ],
        [
         "724",
         "1.0",
         "8740.97",
         "-0.549",
         "3.269",
         "0.067",
         "15.59"
        ],
        [
         "725",
         "1.0",
         "8750.985",
         "-0.55",
         "3.269",
         "0.068",
         "15.513"
        ]
       ],
       "shape": {
        "columns": 6,
        "rows": 162137
       }
      },
      "text/html": [
       "<div>\n",
       "<style scoped>\n",
       "    .dataframe tbody tr th:only-of-type {\n",
       "        vertical-align: middle;\n",
       "    }\n",
       "\n",
       "    .dataframe tbody tr th {\n",
       "        vertical-align: top;\n",
       "    }\n",
       "\n",
       "    .dataframe thead th {\n",
       "        text-align: right;\n",
       "    }\n",
       "</style>\n",
       "<table border=\"1\" class=\"dataframe\">\n",
       "  <thead>\n",
       "    <tr style=\"text-align: right;\">\n",
       "      <th></th>\n",
       "      <th>Cycle_Index</th>\n",
       "      <th>Test_Time (s)</th>\n",
       "      <th>Current (A)</th>\n",
       "      <th>Voltage (V)</th>\n",
       "      <th>Discharge_Capacity (Ah)</th>\n",
       "      <th>Cell_Temperature (C)</th>\n",
       "    </tr>\n",
       "  </thead>\n",
       "  <tbody>\n",
       "    <tr>\n",
       "      <th>676</th>\n",
       "      <td>1.0</td>\n",
       "      <td>8.301682e+03</td>\n",
       "      <td>-0.549</td>\n",
       "      <td>3.456</td>\n",
       "      <td>0.000</td>\n",
       "      <td>15.605</td>\n",
       "    </tr>\n",
       "    <tr>\n",
       "      <th>677</th>\n",
       "      <td>1.0</td>\n",
       "      <td>8.303460e+03</td>\n",
       "      <td>-0.549</td>\n",
       "      <td>3.445</td>\n",
       "      <td>0.000</td>\n",
       "      <td>15.543</td>\n",
       "    </tr>\n",
       "    <tr>\n",
       "      <th>678</th>\n",
       "      <td>1.0</td>\n",
       "      <td>8.306487e+03</td>\n",
       "      <td>-0.550</td>\n",
       "      <td>3.435</td>\n",
       "      <td>0.000</td>\n",
       "      <td>15.590</td>\n",
       "    </tr>\n",
       "    <tr>\n",
       "      <th>679</th>\n",
       "      <td>1.0</td>\n",
       "      <td>8.310137e+03</td>\n",
       "      <td>-0.549</td>\n",
       "      <td>3.425</td>\n",
       "      <td>0.001</td>\n",
       "      <td>15.528</td>\n",
       "    </tr>\n",
       "    <tr>\n",
       "      <th>680</th>\n",
       "      <td>1.0</td>\n",
       "      <td>8.314567e+03</td>\n",
       "      <td>-0.550</td>\n",
       "      <td>3.414</td>\n",
       "      <td>0.001</td>\n",
       "      <td>15.528</td>\n",
       "    </tr>\n",
       "    <tr>\n",
       "      <th>...</th>\n",
       "      <td>...</td>\n",
       "      <td>...</td>\n",
       "      <td>...</td>\n",
       "      <td>...</td>\n",
       "      <td>...</td>\n",
       "      <td>...</td>\n",
       "    </tr>\n",
       "    <tr>\n",
       "      <th>465808</th>\n",
       "      <td>4550.0</td>\n",
       "      <td>4.891374e+07</td>\n",
       "      <td>-0.550</td>\n",
       "      <td>2.036</td>\n",
       "      <td>0.947</td>\n",
       "      <td>15.932</td>\n",
       "    </tr>\n",
       "    <tr>\n",
       "      <th>465809</th>\n",
       "      <td>4550.0</td>\n",
       "      <td>4.891374e+07</td>\n",
       "      <td>-0.550</td>\n",
       "      <td>2.025</td>\n",
       "      <td>0.947</td>\n",
       "      <td>15.825</td>\n",
       "    </tr>\n",
       "    <tr>\n",
       "      <th>465810</th>\n",
       "      <td>4550.0</td>\n",
       "      <td>4.891374e+07</td>\n",
       "      <td>-0.550</td>\n",
       "      <td>2.014</td>\n",
       "      <td>0.947</td>\n",
       "      <td>15.902</td>\n",
       "    </tr>\n",
       "    <tr>\n",
       "      <th>465811</th>\n",
       "      <td>4550.0</td>\n",
       "      <td>4.891374e+07</td>\n",
       "      <td>-0.550</td>\n",
       "      <td>2.004</td>\n",
       "      <td>0.947</td>\n",
       "      <td>15.948</td>\n",
       "    </tr>\n",
       "    <tr>\n",
       "      <th>465812</th>\n",
       "      <td>4550.0</td>\n",
       "      <td>4.891374e+07</td>\n",
       "      <td>-0.550</td>\n",
       "      <td>1.998</td>\n",
       "      <td>0.947</td>\n",
       "      <td>15.948</td>\n",
       "    </tr>\n",
       "  </tbody>\n",
       "</table>\n",
       "<p>162137 rows × 6 columns</p>\n",
       "</div>"
      ],
      "text/plain": [
       "        Cycle_Index  Test_Time (s)  Current (A)  Voltage (V)  \\\n",
       "676             1.0   8.301682e+03       -0.549        3.456   \n",
       "677             1.0   8.303460e+03       -0.549        3.445   \n",
       "678             1.0   8.306487e+03       -0.550        3.435   \n",
       "679             1.0   8.310137e+03       -0.549        3.425   \n",
       "680             1.0   8.314567e+03       -0.550        3.414   \n",
       "...             ...            ...          ...          ...   \n",
       "465808       4550.0   4.891374e+07       -0.550        2.036   \n",
       "465809       4550.0   4.891374e+07       -0.550        2.025   \n",
       "465810       4550.0   4.891374e+07       -0.550        2.014   \n",
       "465811       4550.0   4.891374e+07       -0.550        2.004   \n",
       "465812       4550.0   4.891374e+07       -0.550        1.998   \n",
       "\n",
       "        Discharge_Capacity (Ah)  Cell_Temperature (C)  \n",
       "676                       0.000                15.605  \n",
       "677                       0.000                15.543  \n",
       "678                       0.000                15.590  \n",
       "679                       0.001                15.528  \n",
       "680                       0.001                15.528  \n",
       "...                         ...                   ...  \n",
       "465808                    0.947                15.932  \n",
       "465809                    0.947                15.825  \n",
       "465810                    0.947                15.902  \n",
       "465811                    0.947                15.948  \n",
       "465812                    0.947                15.948  \n",
       "\n",
       "[162137 rows x 6 columns]"
      ]
     },
     "metadata": {},
     "output_type": "display_data"
    },
    {
     "data": {
      "application/vnd.microsoft.datawrangler.viewer.v0+json": {
       "columns": [
        {
         "name": "index",
         "rawType": "object",
         "type": "string"
        },
        {
         "name": "Cycle_Index",
         "rawType": "float64",
         "type": "float"
        },
        {
         "name": "Test_Time (s)",
         "rawType": "float64",
         "type": "float"
        },
        {
         "name": "Current (A)",
         "rawType": "float64",
         "type": "float"
        },
        {
         "name": "Voltage (V)",
         "rawType": "float64",
         "type": "float"
        },
        {
         "name": "Discharge_Capacity (Ah)",
         "rawType": "float64",
         "type": "float"
        },
        {
         "name": "Cell_Temperature (C)",
         "rawType": "float64",
         "type": "float"
        }
       ],
       "ref": "736ef947-602e-4f6b-8f1e-40fe898ddec5",
       "rows": [
        [
         "count",
         "162137.0",
         "162137.0",
         "162137.0",
         "162137.0",
         "162137.0",
         "162137.0"
        ],
        [
         "mean",
         "2244.5061953779827",
         "24504646.706354357",
         "-0.9691867864830359",
         "3.079565990489524",
         "0.5261827220190334",
         "16.16073365733916"
        ],
        [
         "std",
         "1316.8583766250636",
         "14153122.396083582",
         "0.23405240418239356",
         "0.2530254659221993",
         "0.29778213565876577",
         "0.673751752761398"
        ],
        [
         "min",
         "1.0",
         "8301.682",
         "-1.101",
         "1.982",
         "0.0",
         "14.788"
        ],
        [
         "25%",
         "1057.0",
         "11788156.34",
         "-1.1",
         "3.08",
         "0.256",
         "15.685"
        ],
        [
         "50%",
         "2209.0",
         "24330209.795",
         "-1.1",
         "3.151",
         "0.513",
         "16.008"
        ],
        [
         "75%",
         "3408.0",
         "37039908.848",
         "-1.099",
         "3.199",
         "0.77",
         "16.571"
        ],
        [
         "max",
         "4550.0",
         "48913743.998",
         "-0.549",
         "3.5",
         "2.065",
         "28.096"
        ]
       ],
       "shape": {
        "columns": 6,
        "rows": 8
       }
      },
      "text/html": [
       "<div>\n",
       "<style scoped>\n",
       "    .dataframe tbody tr th:only-of-type {\n",
       "        vertical-align: middle;\n",
       "    }\n",
       "\n",
       "    .dataframe tbody tr th {\n",
       "        vertical-align: top;\n",
       "    }\n",
       "\n",
       "    .dataframe thead th {\n",
       "        text-align: right;\n",
       "    }\n",
       "</style>\n",
       "<table border=\"1\" class=\"dataframe\">\n",
       "  <thead>\n",
       "    <tr style=\"text-align: right;\">\n",
       "      <th></th>\n",
       "      <th>Cycle_Index</th>\n",
       "      <th>Test_Time (s)</th>\n",
       "      <th>Current (A)</th>\n",
       "      <th>Voltage (V)</th>\n",
       "      <th>Discharge_Capacity (Ah)</th>\n",
       "      <th>Cell_Temperature (C)</th>\n",
       "    </tr>\n",
       "  </thead>\n",
       "  <tbody>\n",
       "    <tr>\n",
       "      <th>count</th>\n",
       "      <td>162137.000000</td>\n",
       "      <td>1.621370e+05</td>\n",
       "      <td>162137.000000</td>\n",
       "      <td>162137.000000</td>\n",
       "      <td>162137.000000</td>\n",
       "      <td>162137.000000</td>\n",
       "    </tr>\n",
       "    <tr>\n",
       "      <th>mean</th>\n",
       "      <td>2244.506195</td>\n",
       "      <td>2.450465e+07</td>\n",
       "      <td>-0.969187</td>\n",
       "      <td>3.079566</td>\n",
       "      <td>0.526183</td>\n",
       "      <td>16.160734</td>\n",
       "    </tr>\n",
       "    <tr>\n",
       "      <th>std</th>\n",
       "      <td>1316.858377</td>\n",
       "      <td>1.415312e+07</td>\n",
       "      <td>0.234052</td>\n",
       "      <td>0.253025</td>\n",
       "      <td>0.297782</td>\n",
       "      <td>0.673752</td>\n",
       "    </tr>\n",
       "    <tr>\n",
       "      <th>min</th>\n",
       "      <td>1.000000</td>\n",
       "      <td>8.301682e+03</td>\n",
       "      <td>-1.101000</td>\n",
       "      <td>1.982000</td>\n",
       "      <td>0.000000</td>\n",
       "      <td>14.788000</td>\n",
       "    </tr>\n",
       "    <tr>\n",
       "      <th>25%</th>\n",
       "      <td>1057.000000</td>\n",
       "      <td>1.178816e+07</td>\n",
       "      <td>-1.100000</td>\n",
       "      <td>3.080000</td>\n",
       "      <td>0.256000</td>\n",
       "      <td>15.685000</td>\n",
       "    </tr>\n",
       "    <tr>\n",
       "      <th>50%</th>\n",
       "      <td>2209.000000</td>\n",
       "      <td>2.433021e+07</td>\n",
       "      <td>-1.100000</td>\n",
       "      <td>3.151000</td>\n",
       "      <td>0.513000</td>\n",
       "      <td>16.008000</td>\n",
       "    </tr>\n",
       "    <tr>\n",
       "      <th>75%</th>\n",
       "      <td>3408.000000</td>\n",
       "      <td>3.703991e+07</td>\n",
       "      <td>-1.099000</td>\n",
       "      <td>3.199000</td>\n",
       "      <td>0.770000</td>\n",
       "      <td>16.571000</td>\n",
       "    </tr>\n",
       "    <tr>\n",
       "      <th>max</th>\n",
       "      <td>4550.000000</td>\n",
       "      <td>4.891374e+07</td>\n",
       "      <td>-0.549000</td>\n",
       "      <td>3.500000</td>\n",
       "      <td>2.065000</td>\n",
       "      <td>28.096000</td>\n",
       "    </tr>\n",
       "  </tbody>\n",
       "</table>\n",
       "</div>"
      ],
      "text/plain": [
       "         Cycle_Index  Test_Time (s)    Current (A)    Voltage (V)  \\\n",
       "count  162137.000000   1.621370e+05  162137.000000  162137.000000   \n",
       "mean     2244.506195   2.450465e+07      -0.969187       3.079566   \n",
       "std      1316.858377   1.415312e+07       0.234052       0.253025   \n",
       "min         1.000000   8.301682e+03      -1.101000       1.982000   \n",
       "25%      1057.000000   1.178816e+07      -1.100000       3.080000   \n",
       "50%      2209.000000   2.433021e+07      -1.100000       3.151000   \n",
       "75%      3408.000000   3.703991e+07      -1.099000       3.199000   \n",
       "max      4550.000000   4.891374e+07      -0.549000       3.500000   \n",
       "\n",
       "       Discharge_Capacity (Ah)  Cell_Temperature (C)  \n",
       "count            162137.000000         162137.000000  \n",
       "mean                  0.526183             16.160734  \n",
       "std                   0.297782              0.673752  \n",
       "min                   0.000000             14.788000  \n",
       "25%                   0.256000             15.685000  \n",
       "50%                   0.513000             16.008000  \n",
       "75%                   0.770000             16.571000  \n",
       "max                   2.065000             28.096000  "
      ]
     },
     "metadata": {},
     "output_type": "display_data"
    }
   ],
   "source": [
    "# Header completo:\n",
    "# Date_Time,Test_Time (s),Cycle_Index,Current (A),Voltage (V),Charge_Capacity (Ah),Discharge_Capacity (Ah),Charge_Energy (Wh),Discharge_Energy (Wh),Environment_Temperature (C),Cell_Temperature (C)\n",
    "df = pd.read_csv('../Battery_Archive_Data/SNL LFP/1.10_SNL_18650_LFP_15C_0-100_0.5-1C_a_timeseries.csv')\n",
    "\n",
    "# Apenas features de interesse são mantidas\n",
    "# Obs: Envoironment_Temperature (C) poderia ser relevante, mas tem todos os valores nulos. Então, é removida\n",
    "df = df[[\"Cycle_Index\", \"Test_Time (s)\", \"Current (A)\", \"Voltage (V)\", \"Discharge_Capacity (Ah)\", \"Cell_Temperature (C)\"]]\n",
    "\n",
    "# Mantem apenas as linhas em que a bateria está descarregando, ou seja, corrente < 0\n",
    "df = df[df['Current (A)'] < 0]\n",
    "\n",
    "# Remove valores para Cell_Temperature < 1 (incorretos)\n",
    "#df = df[df['Cell_Temperature (C)'] >= 1]\n",
    "\n",
    "display(df)\n",
    "display(df.describe())"
   ]
  },
  {
   "cell_type": "markdown",
   "metadata": {},
   "source": [
    "## Visualização"
   ]
  },
  {
   "cell_type": "code",
   "execution_count": 20,
   "metadata": {},
   "outputs": [
    {
     "data": {
      "image/png": "[encoded data removed]",
      "text/plain": [
       "<Figure size 1400x800 with 4 Axes>"
      ]
     },
     "metadata": {},
     "output_type": "display_data"
    }
   ],
   "source": [
    "# Lista de features que deseja analisar (exceto \"Cycle_Index\")\n",
    "features = [\"Current (A)\", \"Voltage (V)\", \"Discharge_Capacity (Ah)\", \"Cell_Temperature (C)\"]\n",
    "\n",
    "# Ciclos únicos e ordenados\n",
    "cycles = df[\"Cycle_Index\"].unique()\n",
    "cycles.sort()\n",
    "NumCyclesPlot = 5\n",
    "\n",
    "# Seleciona 'NumCyclesPlot' ciclos igualmente espaçados para plotar\n",
    "if len(cycles) > NumCyclesPlot:\n",
    "    cycles = cycles[::len(cycles)//NumCyclesPlot] # // --> Divisão inteira\n",
    "\n",
    "# Cria os subplots com layout 2x2\n",
    "fig, axs = plt.subplots(2, 2, figsize=(14, 8))\n",
    "axs = axs.flatten()  # Facilita a iteração\n",
    "\n",
    "# Itera sobre cada feature e sobre os ciclos para plotar os dados\n",
    "for i, feature in enumerate(features):\n",
    "    ax = axs[i]\n",
    "    for cycle in cycles:\n",
    "        # Seleciona os dados do ciclo e calcula o tempo relativo\n",
    "        df_cycle = df[df[\"Cycle_Index\"] == cycle].copy()\n",
    "        df_cycle['Tempo_Relativo (s)'] = df_cycle[\"Test_Time (s)\"] - df_cycle[\"Test_Time (s)\"].min()\n",
    "        \n",
    "        # Plota a feature em função do tempo relativo\n",
    "        ax.plot(df_cycle['Tempo_Relativo (s)'], df_cycle[feature], alpha=0.7, label=f'{int(cycle)}', linewidth=2.0)\n",
    "\n",
    "    ax.set_title(f'{feature} ao longo dos ciclos')\n",
    "    ax.set_xlabel('Tempo Relativo (s)')\n",
    "    ax.set_ylabel(feature)\n",
    "    ax.grid(True)\n",
    "    ax.legend(title=\"Ciclo\", loc='best')\n",
    "\n",
    "plt.tight_layout()\n",
    "plt.show()\n"
   ]
  },
  {
   "cell_type": "markdown",
   "metadata": {},
   "source": [
    "## Análise de SOH"
   ]
  },
  {
   "cell_type": "markdown",
   "metadata": {},
   "source": [
    "$$\n",
    "\\text{SOH} = \\frac{\\text{capacidade\\_atual}}{\\text{capacidade\\_inicial}}\n",
    "$$\n",
    "\n",
    "- $CapacidadeInicial$ é a capacidade nominal, a maior considerando todo o histórico da bateria\n",
    "- $CapacidadeAtual$ é a maior capacidade do ciclo"
   ]
  },
  {
   "cell_type": "code",
   "execution_count": 21,
   "metadata": {},
   "outputs": [
    {
     "name": "stdout",
     "output_type": "stream",
     "text": [
      "Capacidade total de descarga: 1.1 Ah\n"
     ]
    },
    {
     "data": {
      "application/vnd.microsoft.datawrangler.viewer.v0+json": {
       "columns": [
        {
         "name": "index",
         "rawType": "int64",
         "type": "integer"
        },
        {
         "name": "Cycle_Index",
         "rawType": "float64",
         "type": "float"
        },
        {
         "name": "Max_Discharge_Capacity",
         "rawType": "float64",
         "type": "float"
        },
        {
         "name": "SOH_discharge",
         "rawType": "float64",
         "type": "float"
        }
       ],
       "ref": "d3a33186-2a38-4647-af69-02d7e3a56251",
       "rows": [
        [
         "0",
         "1.0",
         "1.03",
         "0.9363636363636363"
        ],
        [
         "1",
         "2.0",
         "1.032",
         "0.9381818181818181"
        ],
        [
         "2",
         "3.0",
         "1.033",
         "0.939090909090909"
        ],
        [
         "3",
         "4.0",
         "2.065",
         "1.877272727272727"
        ],
        [
         "4",
         "5.0",
         "1.033",
         "0.939090909090909"
        ],
        [
         "5",
         "6.0",
         "1.033",
         "0.939090909090909"
        ],
        [
         "6",
         "7.0",
         "1.033",
         "0.939090909090909"
        ],
        [
         "7",
         "8.0",
         "1.033",
         "0.939090909090909"
        ],
        [
         "8",
         "9.0",
         "1.033",
         "0.939090909090909"
        ],
        [
         "9",
         "10.0",
         "1.033",
         "0.939090909090909"
        ],
        [
         "10",
         "11.0",
         "1.033",
         "0.939090909090909"
        ],
        [
         "11",
         "12.0",
         "1.033",
         "0.939090909090909"
        ],
        [
         "12",
         "13.0",
         "1.033",
         "0.939090909090909"
        ],
        [
         "13",
         "14.0",
         "1.033",
         "0.939090909090909"
        ],
        [
         "14",
         "15.0",
         "1.033",
         "0.939090909090909"
        ],
        [
         "15",
         "16.0",
         "1.033",
         "0.939090909090909"
        ],
        [
         "16",
         "17.0",
         "1.033",
         "0.939090909090909"
        ],
        [
         "17",
         "18.0",
         "1.033",
         "0.939090909090909"
        ],
        [
         "18",
         "19.0",
         "1.033",
         "0.939090909090909"
        ],
        [
         "19",
         "20.0",
         "1.033",
         "0.939090909090909"
        ],
        [
         "20",
         "21.0",
         "1.033",
         "0.939090909090909"
        ],
        [
         "21",
         "22.0",
         "1.033",
         "0.939090909090909"
        ],
        [
         "22",
         "23.0",
         "1.033",
         "0.939090909090909"
        ],
        [
         "23",
         "24.0",
         "1.033",
         "0.939090909090909"
        ],
        [
         "24",
         "25.0",
         "1.033",
         "0.939090909090909"
        ],
        [
         "25",
         "26.0",
         "1.033",
         "0.939090909090909"
        ],
        [
         "26",
         "27.0",
         "1.033",
         "0.939090909090909"
        ],
        [
         "27",
         "28.0",
         "1.033",
         "0.939090909090909"
        ],
        [
         "28",
         "29.0",
         "1.033",
         "0.939090909090909"
        ],
        [
         "29",
         "30.0",
         "1.033",
         "0.939090909090909"
        ],
        [
         "30",
         "31.0",
         "1.033",
         "0.939090909090909"
        ],
        [
         "31",
         "32.0",
         "1.033",
         "0.939090909090909"
        ],
        [
         "32",
         "33.0",
         "1.033",
         "0.939090909090909"
        ],
        [
         "33",
         "34.0",
         "1.033",
         "0.939090909090909"
        ],
        [
         "34",
         "35.0",
         "1.033",
         "0.939090909090909"
        ],
        [
         "35",
         "36.0",
         "1.033",
         "0.939090909090909"
        ],
        [
         "36",
         "37.0",
         "1.033",
         "0.939090909090909"
        ],
        [
         "37",
         "38.0",
         "1.033",
         "0.939090909090909"
        ],
        [
         "38",
         "39.0",
         "1.033",
         "0.939090909090909"
        ],
        [
         "39",
         "40.0",
         "1.033",
         "0.939090909090909"
        ],
        [
         "40",
         "41.0",
         "1.033",
         "0.939090909090909"
        ],
        [
         "41",
         "42.0",
         "1.033",
         "0.939090909090909"
        ],
        [
         "42",
         "43.0",
         "1.033",
         "0.939090909090909"
        ],
        [
         "43",
         "44.0",
         "1.033",
         "0.939090909090909"
        ],
        [
         "44",
         "45.0",
         "1.033",
         "0.939090909090909"
        ],
        [
         "45",
         "46.0",
         "1.033",
         "0.939090909090909"
        ],
        [
         "46",
         "47.0",
         "1.033",
         "0.939090909090909"
        ],
        [
         "47",
         "48.0",
         "1.033",
         "0.939090909090909"
        ],
        [
         "48",
         "49.0",
         "1.033",
         "0.939090909090909"
        ],
        [
         "49",
         "50.0",
         "1.033",
         "0.939090909090909"
        ]
       ],
       "shape": {
        "columns": 3,
        "rows": 4541
       }
      },
      "text/html": [
       "<div>\n",
       "<style scoped>\n",
       "    .dataframe tbody tr th:only-of-type {\n",
       "        vertical-align: middle;\n",
       "    }\n",
       "\n",
       "    .dataframe tbody tr th {\n",
       "        vertical-align: top;\n",
       "    }\n",
       "\n",
       "    .dataframe thead th {\n",
       "        text-align: right;\n",
       "    }\n",
       "</style>\n",
       "<table border=\"1\" class=\"dataframe\">\n",
       "  <thead>\n",
       "    <tr style=\"text-align: right;\">\n",
       "      <th></th>\n",
       "      <th>Cycle_Index</th>\n",
       "      <th>Max_Discharge_Capacity</th>\n",
       "      <th>SOH_discharge</th>\n",
       "    </tr>\n",
       "  </thead>\n",
       "  <tbody>\n",
       "    <tr>\n",
       "      <th>0</th>\n",
       "      <td>1.0</td>\n",
       "      <td>1.030</td>\n",
       "      <td>0.936364</td>\n",
       "    </tr>\n",
       "    <tr>\n",
       "      <th>1</th>\n",
       "      <td>2.0</td>\n",
       "      <td>1.032</td>\n",
       "      <td>0.938182</td>\n",
       "    </tr>\n",
       "    <tr>\n",
       "      <th>2</th>\n",
       "      <td>3.0</td>\n",
       "      <td>1.033</td>\n",
       "      <td>0.939091</td>\n",
       "    </tr>\n",
       "    <tr>\n",
       "      <th>3</th>\n",
       "      <td>4.0</td>\n",
       "      <td>2.065</td>\n",
       "      <td>1.877273</td>\n",
       "    </tr>\n",
       "    <tr>\n",
       "      <th>4</th>\n",
       "      <td>5.0</td>\n",
       "      <td>1.033</td>\n",
       "      <td>0.939091</td>\n",
       "    </tr>\n",
       "    <tr>\n",
       "      <th>...</th>\n",
       "      <td>...</td>\n",
       "      <td>...</td>\n",
       "      <td>...</td>\n",
       "    </tr>\n",
       "    <tr>\n",
       "      <th>4536</th>\n",
       "      <td>4546.0</td>\n",
       "      <td>0.945</td>\n",
       "      <td>0.859091</td>\n",
       "    </tr>\n",
       "    <tr>\n",
       "      <th>4537</th>\n",
       "      <td>4547.0</td>\n",
       "      <td>0.945</td>\n",
       "      <td>0.859091</td>\n",
       "    </tr>\n",
       "    <tr>\n",
       "      <th>4538</th>\n",
       "      <td>4548.0</td>\n",
       "      <td>0.947</td>\n",
       "      <td>0.860909</td>\n",
       "    </tr>\n",
       "    <tr>\n",
       "      <th>4539</th>\n",
       "      <td>4549.0</td>\n",
       "      <td>0.947</td>\n",
       "      <td>0.860909</td>\n",
       "    </tr>\n",
       "    <tr>\n",
       "      <th>4540</th>\n",
       "      <td>4550.0</td>\n",
       "      <td>0.947</td>\n",
       "      <td>0.860909</td>\n",
       "    </tr>\n",
       "  </tbody>\n",
       "</table>\n",
       "<p>4541 rows × 3 columns</p>\n",
       "</div>"
      ],
      "text/plain": [
       "      Cycle_Index  Max_Discharge_Capacity  SOH_discharge\n",
       "0             1.0                   1.030       0.936364\n",
       "1             2.0                   1.032       0.938182\n",
       "2             3.0                   1.033       0.939091\n",
       "3             4.0                   2.065       1.877273\n",
       "4             5.0                   1.033       0.939091\n",
       "...           ...                     ...            ...\n",
       "4536       4546.0                   0.945       0.859091\n",
       "4537       4547.0                   0.945       0.859091\n",
       "4538       4548.0                   0.947       0.860909\n",
       "4539       4549.0                   0.947       0.860909\n",
       "4540       4550.0                   0.947       0.860909\n",
       "\n",
       "[4541 rows x 3 columns]"
      ]
     },
     "metadata": {},
     "output_type": "display_data"
    }
   ],
   "source": [
    "# Capacidade nominal (máxima global)\n",
    "nominal_capacity = 1.10 #df['Discharge_Capacity (Ah)'].max()\n",
    "print(f'Capacidade total de descarga: {nominal_capacity} Ah')\n",
    "\n",
    "# Para cada ciclo, extrai a maior capacidade \n",
    "# (cycles_capacity é uma série do Pandas)\n",
    "cycles_capacity = df.groupby('Cycle_Index')['Discharge_Capacity (Ah)'].max()\n",
    "cycles_capacity = cycles_capacity.reset_index() # transforma em dataframe\n",
    "cycles_capacity.columns = ['Cycle_Index', 'Max_Discharge_Capacity']\n",
    "cycles_capacity['SOH_discharge'] = (cycles_capacity['Max_Discharge_Capacity'] / nominal_capacity)\n",
    "display(cycles_capacity)"
   ]
  },
  {
   "cell_type": "code",
   "execution_count": 22,
   "metadata": {},
   "outputs": [
    {
     "data": {
      "application/vnd.microsoft.datawrangler.viewer.v0+json": {
       "columns": [
        {
         "name": "index",
         "rawType": "int64",
         "type": "integer"
        },
        {
         "name": "Cycle_Index",
         "rawType": "float64",
         "type": "float"
        },
        {
         "name": "Cell_Temperature (C)",
         "rawType": "float64",
         "type": "float"
        },
        {
         "name": "SOH_discharge",
         "rawType": "float64",
         "type": "float"
        }
       ],
       "ref": "f67c072e-dda4-454a-8416-3b65ec42df50",
       "rows": [
        [
         "0",
         "1.0",
         "15.856116847826089",
         "0.9363636363636363"
        ],
        [
         "1",
         "2.0",
         "15.975233378561736",
         "0.9381818181818181"
        ],
        [
         "2",
         "3.0",
         "16.00866485753053",
         "0.939090909090909"
        ],
        [
         "3",
         "4.0",
         "16.880310344827585",
         "1.877272727272727"
        ],
        [
         "4",
         "5.0",
         "16.86144827586207",
         "0.939090909090909"
        ],
        [
         "5",
         "6.0",
         "16.878482758620688",
         "0.939090909090909"
        ],
        [
         "6",
         "7.0",
         "16.787275862068967",
         "0.939090909090909"
        ],
        [
         "7",
         "8.0",
         "16.796655172413793",
         "0.939090909090909"
        ],
        [
         "8",
         "9.0",
         "16.828413793103447",
         "0.939090909090909"
        ],
        [
         "9",
         "10.0",
         "16.808413793103448",
         "0.939090909090909"
        ],
        [
         "10",
         "11.0",
         "16.801689655172414",
         "0.939090909090909"
        ],
        [
         "11",
         "12.0",
         "16.776655172413793",
         "0.939090909090909"
        ],
        [
         "12",
         "13.0",
         "16.792310344827587",
         "0.939090909090909"
        ],
        [
         "13",
         "14.0",
         "16.801724137931036",
         "0.939090909090909"
        ],
        [
         "14",
         "15.0",
         "16.797310344827586",
         "0.939090909090909"
        ],
        [
         "15",
         "16.0",
         "16.785241379310346",
         "0.939090909090909"
        ],
        [
         "16",
         "17.0",
         "16.77362068965517",
         "0.939090909090909"
        ],
        [
         "17",
         "18.0",
         "16.757206896551725",
         "0.939090909090909"
        ],
        [
         "18",
         "19.0",
         "16.77310344827586",
         "0.939090909090909"
        ],
        [
         "19",
         "20.0",
         "16.76289655172414",
         "0.939090909090909"
        ],
        [
         "20",
         "21.0",
         "16.753620689655172",
         "0.939090909090909"
        ],
        [
         "21",
         "22.0",
         "16.788379310344826",
         "0.939090909090909"
        ],
        [
         "22",
         "23.0",
         "16.777689655172413",
         "0.939090909090909"
        ],
        [
         "23",
         "24.0",
         "16.73837931034483",
         "0.939090909090909"
        ],
        [
         "24",
         "25.0",
         "16.776275862068964",
         "0.939090909090909"
        ],
        [
         "25",
         "26.0",
         "16.808379310344826",
         "0.939090909090909"
        ],
        [
         "26",
         "27.0",
         "16.773655172413793",
         "0.939090909090909"
        ],
        [
         "27",
         "28.0",
         "16.75803448275862",
         "0.939090909090909"
        ],
        [
         "28",
         "29.0",
         "16.756172413793106",
         "0.939090909090909"
        ],
        [
         "29",
         "30.0",
         "16.822724137931033",
         "0.939090909090909"
        ],
        [
         "30",
         "31.0",
         "16.81355172413793",
         "0.939090909090909"
        ],
        [
         "31",
         "32.0",
         "16.819655172413793",
         "0.939090909090909"
        ],
        [
         "32",
         "33.0",
         "16.794655172413794",
         "0.939090909090909"
        ],
        [
         "33",
         "34.0",
         "16.770689655172415",
         "0.939090909090909"
        ],
        [
         "34",
         "35.0",
         "16.78796551724138",
         "0.939090909090909"
        ],
        [
         "35",
         "36.0",
         "16.782275862068964",
         "0.939090909090909"
        ],
        [
         "36",
         "37.0",
         "16.74993103448276",
         "0.939090909090909"
        ],
        [
         "37",
         "38.0",
         "16.74003448275862",
         "0.939090909090909"
        ],
        [
         "38",
         "39.0",
         "16.816689655172414",
         "0.939090909090909"
        ],
        [
         "39",
         "40.0",
         "16.741793103448277",
         "0.939090909090909"
        ],
        [
         "40",
         "41.0",
         "16.82148275862069",
         "0.939090909090909"
        ],
        [
         "41",
         "42.0",
         "16.868275862068966",
         "0.939090909090909"
        ],
        [
         "42",
         "43.0",
         "16.83541379310345",
         "0.939090909090909"
        ],
        [
         "43",
         "44.0",
         "16.77503448275862",
         "0.939090909090909"
        ],
        [
         "44",
         "45.0",
         "16.799137931034483",
         "0.939090909090909"
        ],
        [
         "45",
         "46.0",
         "16.793206896551723",
         "0.939090909090909"
        ],
        [
         "46",
         "47.0",
         "16.801413793103446",
         "0.939090909090909"
        ],
        [
         "47",
         "48.0",
         "16.81144827586207",
         "0.939090909090909"
        ],
        [
         "48",
         "49.0",
         "16.815103448275863",
         "0.939090909090909"
        ],
        [
         "49",
         "50.0",
         "16.79593103448276",
         "0.939090909090909"
        ]
       ],
       "shape": {
        "columns": 3,
        "rows": 4541
       }
      },
      "text/html": [
       "<div>\n",
       "<style scoped>\n",
       "    .dataframe tbody tr th:only-of-type {\n",
       "        vertical-align: middle;\n",
       "    }\n",
       "\n",
       "    .dataframe tbody tr th {\n",
       "        vertical-align: top;\n",
       "    }\n",
       "\n",
       "    .dataframe thead th {\n",
       "        text-align: right;\n",
       "    }\n",
       "</style>\n",
       "<table border=\"1\" class=\"dataframe\">\n",
       "  <thead>\n",
       "    <tr style=\"text-align: right;\">\n",
       "      <th></th>\n",
       "      <th>Cycle_Index</th>\n",
       "      <th>Cell_Temperature (C)</th>\n",
       "      <th>SOH_discharge</th>\n",
       "    </tr>\n",
       "  </thead>\n",
       "  <tbody>\n",
       "    <tr>\n",
       "      <th>0</th>\n",
       "      <td>1.0</td>\n",
       "      <td>15.856117</td>\n",
       "      <td>0.936364</td>\n",
       "    </tr>\n",
       "    <tr>\n",
       "      <th>1</th>\n",
       "      <td>2.0</td>\n",
       "      <td>15.975233</td>\n",
       "      <td>0.938182</td>\n",
       "    </tr>\n",
       "    <tr>\n",
       "      <th>2</th>\n",
       "      <td>3.0</td>\n",
       "      <td>16.008665</td>\n",
       "      <td>0.939091</td>\n",
       "    </tr>\n",
       "    <tr>\n",
       "      <th>3</th>\n",
       "      <td>4.0</td>\n",
       "      <td>16.880310</td>\n",
       "      <td>1.877273</td>\n",
       "    </tr>\n",
       "    <tr>\n",
       "      <th>4</th>\n",
       "      <td>5.0</td>\n",
       "      <td>16.861448</td>\n",
       "      <td>0.939091</td>\n",
       "    </tr>\n",
       "    <tr>\n",
       "      <th>...</th>\n",
       "      <td>...</td>\n",
       "      <td>...</td>\n",
       "      <td>...</td>\n",
       "    </tr>\n",
       "    <tr>\n",
       "      <th>4536</th>\n",
       "      <td>4546.0</td>\n",
       "      <td>15.867615</td>\n",
       "      <td>0.859091</td>\n",
       "    </tr>\n",
       "    <tr>\n",
       "      <th>4537</th>\n",
       "      <td>4547.0</td>\n",
       "      <td>15.906308</td>\n",
       "      <td>0.859091</td>\n",
       "    </tr>\n",
       "    <tr>\n",
       "      <th>4538</th>\n",
       "      <td>4548.0</td>\n",
       "      <td>15.351806</td>\n",
       "      <td>0.860909</td>\n",
       "    </tr>\n",
       "    <tr>\n",
       "      <th>4539</th>\n",
       "      <td>4549.0</td>\n",
       "      <td>15.437709</td>\n",
       "      <td>0.860909</td>\n",
       "    </tr>\n",
       "    <tr>\n",
       "      <th>4540</th>\n",
       "      <td>4550.0</td>\n",
       "      <td>15.372972</td>\n",
       "      <td>0.860909</td>\n",
       "    </tr>\n",
       "  </tbody>\n",
       "</table>\n",
       "<p>4541 rows × 3 columns</p>\n",
       "</div>"
      ],
      "text/plain": [
       "      Cycle_Index  Cell_Temperature (C)  SOH_discharge\n",
       "0             1.0             15.856117       0.936364\n",
       "1             2.0             15.975233       0.938182\n",
       "2             3.0             16.008665       0.939091\n",
       "3             4.0             16.880310       1.877273\n",
       "4             5.0             16.861448       0.939091\n",
       "...           ...                   ...            ...\n",
       "4536       4546.0             15.867615       0.859091\n",
       "4537       4547.0             15.906308       0.859091\n",
       "4538       4548.0             15.351806       0.860909\n",
       "4539       4549.0             15.437709       0.860909\n",
       "4540       4550.0             15.372972       0.860909\n",
       "\n",
       "[4541 rows x 3 columns]"
      ]
     },
     "metadata": {},
     "output_type": "display_data"
    },
    {
     "data": {
      "application/vnd.microsoft.datawrangler.viewer.v0+json": {
       "columns": [
        {
         "name": "index",
         "rawType": "object",
         "type": "string"
        },
        {
         "name": "Cycle_Index",
         "rawType": "float64",
         "type": "float"
        },
        {
         "name": "Cell_Temperature (C)",
         "rawType": "float64",
         "type": "float"
        },
        {
         "name": "SOH_discharge",
         "rawType": "float64",
         "type": "float"
        }
       ],
       "ref": "2165962f-2258-429e-b896-acbfd97bd7c0",
       "rows": [
        [
         "count",
         "4541.0",
         "4541.0",
         "4541.0"
        ],
        [
         "mean",
         "2275.907949790795",
         "16.302646273528996",
         "0.9019318932553901"
        ],
        [
         "std",
         "1313.7562810408297",
         "0.4576846149475451",
         "0.04876081740564552"
        ],
        [
         "min",
         "1.0",
         "15.116166429587484",
         "0.7"
        ],
        [
         "25%",
         "1139.0",
         "16.03262962962963",
         "0.8799999999999999"
        ],
        [
         "50%",
         "2276.0",
         "16.185666666666666",
         "0.8981818181818181"
        ],
        [
         "75%",
         "3413.0",
         "16.633642857142856",
         "0.9199999999999999"
        ],
        [
         "max",
         "4550.0",
         "24.490892857142857",
         "1.877272727272727"
        ]
       ],
       "shape": {
        "columns": 3,
        "rows": 8
       }
      },
      "text/html": [
       "<div>\n",
       "<style scoped>\n",
       "    .dataframe tbody tr th:only-of-type {\n",
       "        vertical-align: middle;\n",
       "    }\n",
       "\n",
       "    .dataframe tbody tr th {\n",
       "        vertical-align: top;\n",
       "    }\n",
       "\n",
       "    .dataframe thead th {\n",
       "        text-align: right;\n",
       "    }\n",
       "</style>\n",
       "<table border=\"1\" class=\"dataframe\">\n",
       "  <thead>\n",
       "    <tr style=\"text-align: right;\">\n",
       "      <th></th>\n",
       "      <th>Cycle_Index</th>\n",
       "      <th>Cell_Temperature (C)</th>\n",
       "      <th>SOH_discharge</th>\n",
       "    </tr>\n",
       "  </thead>\n",
       "  <tbody>\n",
       "    <tr>\n",
       "      <th>count</th>\n",
       "      <td>4541.000000</td>\n",
       "      <td>4541.000000</td>\n",
       "      <td>4541.000000</td>\n",
       "    </tr>\n",
       "    <tr>\n",
       "      <th>mean</th>\n",
       "      <td>2275.907950</td>\n",
       "      <td>16.302646</td>\n",
       "      <td>0.901932</td>\n",
       "    </tr>\n",
       "    <tr>\n",
       "      <th>std</th>\n",
       "      <td>1313.756281</td>\n",
       "      <td>0.457685</td>\n",
       "      <td>0.048761</td>\n",
       "    </tr>\n",
       "    <tr>\n",
       "      <th>min</th>\n",
       "      <td>1.000000</td>\n",
       "      <td>15.116166</td>\n",
       "      <td>0.700000</td>\n",
       "    </tr>\n",
       "    <tr>\n",
       "      <th>25%</th>\n",
       "      <td>1139.000000</td>\n",
       "      <td>16.032630</td>\n",
       "      <td>0.880000</td>\n",
       "    </tr>\n",
       "    <tr>\n",
       "      <th>50%</th>\n",
       "      <td>2276.000000</td>\n",
       "      <td>16.185667</td>\n",
       "      <td>0.898182</td>\n",
       "    </tr>\n",
       "    <tr>\n",
       "      <th>75%</th>\n",
       "      <td>3413.000000</td>\n",
       "      <td>16.633643</td>\n",
       "      <td>0.920000</td>\n",
       "    </tr>\n",
       "    <tr>\n",
       "      <th>max</th>\n",
       "      <td>4550.000000</td>\n",
       "      <td>24.490893</td>\n",
       "      <td>1.877273</td>\n",
       "    </tr>\n",
       "  </tbody>\n",
       "</table>\n",
       "</div>"
      ],
      "text/plain": [
       "       Cycle_Index  Cell_Temperature (C)  SOH_discharge\n",
       "count  4541.000000           4541.000000    4541.000000\n",
       "mean   2275.907950             16.302646       0.901932\n",
       "std    1313.756281              0.457685       0.048761\n",
       "min       1.000000             15.116166       0.700000\n",
       "25%    1139.000000             16.032630       0.880000\n",
       "50%    2276.000000             16.185667       0.898182\n",
       "75%    3413.000000             16.633643       0.920000\n",
       "max    4550.000000             24.490893       1.877273"
      ]
     },
     "metadata": {},
     "output_type": "display_data"
    }
   ],
   "source": [
    "# Seleciona as features de interesse e agrupa por ciclo\n",
    "df_grouped = df[['Cycle_Index', 'Cell_Temperature (C)']]\n",
    "df_grouped = df_grouped.groupby('Cycle_Index', as_index=False).mean() # Média será usada para a temperatura\n",
    "\n",
    "# Adição do SOH calculado em ciclos_capacity\n",
    "df_grouped['SOH_discharge'] = cycles_capacity['SOH_discharge']\n",
    "\n",
    "display(df_grouped)\n",
    "display(df_grouped.describe())"
   ]
  },
  {
   "cell_type": "markdown",
   "metadata": {},
   "source": [
    "### Outliers"
   ]
  },
  {
   "cell_type": "code",
   "execution_count": 23,
   "metadata": {},
   "outputs": [],
   "source": [
    "# Técnica estatística para identificar outliers em um conjunto de dados, calculando o intervalo entre o primeiro quartil (Q1) e o terceiro quartil (Q3), e usando para definir limites superiores e inferiores. Outliers são definidos como pontos que caem abaixo de Q1 - 1.5 * IQR ou acima de Q3 + 1.5 * IQR. Este método é robusto contra a não normalidade dos dados, sendo útil para distribuições assimétricas.\n",
    "def rmv_outliers_iqr(df: pd.DataFrame, column_name: str) -> pd.DataFrame:\n",
    "    # Calculate the first and third quartiles\n",
    "    Q1 = df[column_name].quantile(0.25)\n",
    "    Q3 = df[column_name].quantile(0.75)\n",
    "    \n",
    "    # Calculate the Interquartile Range (IQR)\n",
    "    IQR = Q3 - Q1\n",
    "    \n",
    "    # Define the lower and upper bounds for outliers\n",
    "    lower_bound = Q1 - 1.5 * IQR\n",
    "    upper_bound = Q3 + 1.5 * IQR\n",
    "    \n",
    "    # Filter the DataFrame to keep only the values within the bounds\n",
    "    filtered_df = df[(df[column_name] >= lower_bound) & (df[column_name] <= upper_bound)]\n",
    "    \n",
    "    return filtered_df"
   ]
  },
  {
   "cell_type": "code",
   "execution_count": 24,
   "metadata": {},
   "outputs": [],
   "source": [
    "# Algoritmo de machine learning não supervisionado usado para detecção de anomalias, que identifica outliers isolando-os a partir de partições aleatórias em um conjunto de árvores de decisão\n",
    "def rmv_outliers_isolation_forest(df: pd.DataFrame, column_name: str, contamin='auto') -> pd.DataFrame:\n",
    "    model = IsolationForest(contamination=contamin, random_state=123)\n",
    "    \n",
    "    # Fit the model and predict outliers. The data needs to be reshaped to a 2D array.\n",
    "    predictions = model.fit_predict(df[[column_name]].values)\n",
    "    \n",
    "    # Filter the DataFrame to keep only the inliers (predictions == 1)\n",
    "    filtered_df = df[predictions == 1]\n",
    "    \n",
    "    return filtered_df"
   ]
  },
  {
   "cell_type": "code",
   "execution_count": 25,
   "metadata": {},
   "outputs": [],
   "source": [
    "def rmv_outliers_zscore(df: pd.DataFrame, column_name: str, threshold: float = 3.0) -> pd.DataFrame:\n",
    "    # Calculate the Z-scores of the column\n",
    "    z_scores = np.abs(zscore(df[column_name]))\n",
    "    \n",
    "    # Create a boolean mask to filter out outliers\n",
    "    inlier_mask = z_scores <= threshold\n",
    "    \n",
    "    # Filter the DataFrame to keep only the inliers\n",
    "    filtered_df = df[inlier_mask]\n",
    "    \n",
    "    return filtered_df"
   ]
  },
  {
   "cell_type": "code",
   "execution_count": 26,
   "metadata": {},
   "outputs": [],
   "source": [
    "def ensure_non_increasing(df: pd.DataFrame, column_name: str) -> pd.DataFrame:\n",
    "    # Create a boolean mask where True indicates a valid decreasing or equal step\n",
    "    is_decreasing = df[column_name].diff().fillna(-1) <= 0\n",
    "    \n",
    "    # Filter the DataFrame to keep only the monotonic values\n",
    "    filtered_df = df[is_decreasing]\n",
    "    \n",
    "    return filtered_df"
   ]
  },
  {
   "cell_type": "code",
   "execution_count": 27,
   "metadata": {},
   "outputs": [],
   "source": [
    "def rmv_sharp_jump(df: pd.DataFrame, column_name: str, threshold: float, repeat=1) -> pd.DataFrame:\n",
    "    for _ in range(repeat):\n",
    "        # diff -> a diferença entre os valores consecutivos\n",
    "        # abs -> o valor absoluto para tratar subidas e quedas\n",
    "        # shift(-1) -> para que a diferença seja aplicada ao ponto de origem do salto\n",
    "        # fillna(0) -> trata o último valor (que é NaN após o shift) com 0 para que ele seja mantido\n",
    "        shifted_diff = df[column_name].diff().abs().shift(-1).fillna(0)\n",
    "        \n",
    "        is_not_sharp_jump = shifted_diff <= threshold\n",
    "        df = df[is_not_sharp_jump]\n",
    "    \n",
    "    return df"
   ]
  },
  {
   "cell_type": "code",
   "execution_count": 28,
   "metadata": {},
   "outputs": [
    {
     "data": {
      "application/vnd.microsoft.datawrangler.viewer.v0+json": {
       "columns": [
        {
         "name": "index",
         "rawType": "int64",
         "type": "integer"
        },
        {
         "name": "Cycle_Index",
         "rawType": "float64",
         "type": "float"
        },
        {
         "name": "Cell_Temperature (C)",
         "rawType": "float64",
         "type": "float"
        },
        {
         "name": "SOH_discharge",
         "rawType": "float64",
         "type": "float"
        }
       ],
       "ref": "a95ba3f4-2d78-42ea-905d-45528059f599",
       "rows": [
        [
         "0",
         "1.0",
         "15.856116847826089",
         "0.9363636363636363"
        ],
        [
         "1",
         "2.0",
         "15.975233378561736",
         "0.9381818181818181"
        ],
        [
         "2",
         "3.0",
         "16.00866485753053",
         "0.939090909090909"
        ],
        [
         "3",
         "4.0",
         "16.880310344827585",
         "1.877272727272727"
        ],
        [
         "4",
         "5.0",
         "16.86144827586207",
         "0.939090909090909"
        ],
        [
         "5",
         "6.0",
         "16.878482758620688",
         "0.939090909090909"
        ],
        [
         "6",
         "7.0",
         "16.787275862068967",
         "0.939090909090909"
        ],
        [
         "7",
         "8.0",
         "16.796655172413793",
         "0.939090909090909"
        ],
        [
         "8",
         "9.0",
         "16.828413793103447",
         "0.939090909090909"
        ],
        [
         "9",
         "10.0",
         "16.808413793103448",
         "0.939090909090909"
        ],
        [
         "10",
         "11.0",
         "16.801689655172414",
         "0.939090909090909"
        ],
        [
         "11",
         "12.0",
         "16.776655172413793",
         "0.939090909090909"
        ],
        [
         "12",
         "13.0",
         "16.792310344827587",
         "0.939090909090909"
        ],
        [
         "13",
         "14.0",
         "16.801724137931036",
         "0.939090909090909"
        ],
        [
         "14",
         "15.0",
         "16.797310344827586",
         "0.939090909090909"
        ],
        [
         "15",
         "16.0",
         "16.785241379310346",
         "0.939090909090909"
        ],
        [
         "16",
         "17.0",
         "16.77362068965517",
         "0.939090909090909"
        ],
        [
         "17",
         "18.0",
         "16.757206896551725",
         "0.939090909090909"
        ],
        [
         "18",
         "19.0",
         "16.77310344827586",
         "0.939090909090909"
        ],
        [
         "19",
         "20.0",
         "16.76289655172414",
         "0.939090909090909"
        ],
        [
         "20",
         "21.0",
         "16.753620689655172",
         "0.939090909090909"
        ],
        [
         "21",
         "22.0",
         "16.788379310344826",
         "0.939090909090909"
        ],
        [
         "22",
         "23.0",
         "16.777689655172413",
         "0.939090909090909"
        ],
        [
         "23",
         "24.0",
         "16.73837931034483",
         "0.939090909090909"
        ],
        [
         "24",
         "25.0",
         "16.776275862068964",
         "0.939090909090909"
        ],
        [
         "25",
         "26.0",
         "16.808379310344826",
         "0.939090909090909"
        ],
        [
         "26",
         "27.0",
         "16.773655172413793",
         "0.939090909090909"
        ],
        [
         "27",
         "28.0",
         "16.75803448275862",
         "0.939090909090909"
        ],
        [
         "28",
         "29.0",
         "16.756172413793106",
         "0.939090909090909"
        ],
        [
         "29",
         "30.0",
         "16.822724137931033",
         "0.939090909090909"
        ],
        [
         "30",
         "31.0",
         "16.81355172413793",
         "0.939090909090909"
        ],
        [
         "31",
         "32.0",
         "16.819655172413793",
         "0.939090909090909"
        ],
        [
         "32",
         "33.0",
         "16.794655172413794",
         "0.939090909090909"
        ],
        [
         "33",
         "34.0",
         "16.770689655172415",
         "0.939090909090909"
        ],
        [
         "34",
         "35.0",
         "16.78796551724138",
         "0.939090909090909"
        ],
        [
         "35",
         "36.0",
         "16.782275862068964",
         "0.939090909090909"
        ],
        [
         "36",
         "37.0",
         "16.74993103448276",
         "0.939090909090909"
        ],
        [
         "37",
         "38.0",
         "16.74003448275862",
         "0.939090909090909"
        ],
        [
         "38",
         "39.0",
         "16.816689655172414",
         "0.939090909090909"
        ],
        [
         "39",
         "40.0",
         "16.741793103448277",
         "0.939090909090909"
        ],
        [
         "40",
         "41.0",
         "16.82148275862069",
         "0.939090909090909"
        ],
        [
         "41",
         "42.0",
         "16.868275862068966",
         "0.939090909090909"
        ],
        [
         "42",
         "43.0",
         "16.83541379310345",
         "0.939090909090909"
        ],
        [
         "43",
         "44.0",
         "16.77503448275862",
         "0.939090909090909"
        ],
        [
         "44",
         "45.0",
         "16.799137931034483",
         "0.939090909090909"
        ],
        [
         "45",
         "46.0",
         "16.793206896551723",
         "0.939090909090909"
        ],
        [
         "46",
         "47.0",
         "16.801413793103446",
         "0.939090909090909"
        ],
        [
         "47",
         "48.0",
         "16.81144827586207",
         "0.939090909090909"
        ],
        [
         "48",
         "49.0",
         "16.815103448275863",
         "0.939090909090909"
        ],
        [
         "49",
         "50.0",
         "16.79593103448276",
         "0.939090909090909"
        ]
       ],
       "shape": {
        "columns": 3,
        "rows": 4541
       }
      },
      "text/html": [
       "<div>\n",
       "<style scoped>\n",
       "    .dataframe tbody tr th:only-of-type {\n",
       "        vertical-align: middle;\n",
       "    }\n",
       "\n",
       "    .dataframe tbody tr th {\n",
       "        vertical-align: top;\n",
       "    }\n",
       "\n",
       "    .dataframe thead th {\n",
       "        text-align: right;\n",
       "    }\n",
       "</style>\n",
       "<table border=\"1\" class=\"dataframe\">\n",
       "  <thead>\n",
       "    <tr style=\"text-align: right;\">\n",
       "      <th></th>\n",
       "      <th>Cycle_Index</th>\n",
       "      <th>Cell_Temperature (C)</th>\n",
       "      <th>SOH_discharge</th>\n",
       "    </tr>\n",
       "  </thead>\n",
       "  <tbody>\n",
       "    <tr>\n",
       "      <th>0</th>\n",
       "      <td>1.0</td>\n",
       "      <td>15.856117</td>\n",
       "      <td>0.936364</td>\n",
       "    </tr>\n",
       "    <tr>\n",
       "      <th>1</th>\n",
       "      <td>2.0</td>\n",
       "      <td>15.975233</td>\n",
       "      <td>0.938182</td>\n",
       "    </tr>\n",
       "    <tr>\n",
       "      <th>2</th>\n",
       "      <td>3.0</td>\n",
       "      <td>16.008665</td>\n",
       "      <td>0.939091</td>\n",
       "    </tr>\n",
       "    <tr>\n",
       "      <th>3</th>\n",
       "      <td>4.0</td>\n",
       "      <td>16.880310</td>\n",
       "      <td>1.877273</td>\n",
       "    </tr>\n",
       "    <tr>\n",
       "      <th>4</th>\n",
       "      <td>5.0</td>\n",
       "      <td>16.861448</td>\n",
       "      <td>0.939091</td>\n",
       "    </tr>\n",
       "    <tr>\n",
       "      <th>...</th>\n",
       "      <td>...</td>\n",
       "      <td>...</td>\n",
       "      <td>...</td>\n",
       "    </tr>\n",
       "    <tr>\n",
       "      <th>4536</th>\n",
       "      <td>4546.0</td>\n",
       "      <td>15.867615</td>\n",
       "      <td>0.859091</td>\n",
       "    </tr>\n",
       "    <tr>\n",
       "      <th>4537</th>\n",
       "      <td>4547.0</td>\n",
       "      <td>15.906308</td>\n",
       "      <td>0.859091</td>\n",
       "    </tr>\n",
       "    <tr>\n",
       "      <th>4538</th>\n",
       "      <td>4548.0</td>\n",
       "      <td>15.351806</td>\n",
       "      <td>0.860909</td>\n",
       "    </tr>\n",
       "    <tr>\n",
       "      <th>4539</th>\n",
       "      <td>4549.0</td>\n",
       "      <td>15.437709</td>\n",
       "      <td>0.860909</td>\n",
       "    </tr>\n",
       "    <tr>\n",
       "      <th>4540</th>\n",
       "      <td>4550.0</td>\n",
       "      <td>15.372972</td>\n",
       "      <td>0.860909</td>\n",
       "    </tr>\n",
       "  </tbody>\n",
       "</table>\n",
       "<p>4541 rows × 3 columns</p>\n",
       "</div>"
      ],
      "text/plain": [
       "      Cycle_Index  Cell_Temperature (C)  SOH_discharge\n",
       "0             1.0             15.856117       0.936364\n",
       "1             2.0             15.975233       0.938182\n",
       "2             3.0             16.008665       0.939091\n",
       "3             4.0             16.880310       1.877273\n",
       "4             5.0             16.861448       0.939091\n",
       "...           ...                   ...            ...\n",
       "4536       4546.0             15.867615       0.859091\n",
       "4537       4547.0             15.906308       0.859091\n",
       "4538       4548.0             15.351806       0.860909\n",
       "4539       4549.0             15.437709       0.860909\n",
       "4540       4550.0             15.372972       0.860909\n",
       "\n",
       "[4541 rows x 3 columns]"
      ]
     },
     "metadata": {},
     "output_type": "display_data"
    },
    {
     "data": {
      "application/vnd.microsoft.datawrangler.viewer.v0+json": {
       "columns": [
        {
         "name": "index",
         "rawType": "int64",
         "type": "integer"
        },
        {
         "name": "Cycle_Index",
         "rawType": "float64",
         "type": "float"
        },
        {
         "name": "Cell_Temperature (C)",
         "rawType": "float64",
         "type": "float"
        },
        {
         "name": "SOH_discharge",
         "rawType": "float64",
         "type": "float"
        }
       ],
       "ref": "5a9ab9de-ff7b-4043-9672-cb3cc210597d",
       "rows": [
        [
         "1156",
         "1160.0",
         "16.59132142857143",
         "0.919090909090909"
        ],
        [
         "1157",
         "1161.0",
         "16.530571428571427",
         "0.919090909090909"
        ],
        [
         "1158",
         "1162.0",
         "16.57732142857143",
         "0.919090909090909"
        ],
        [
         "1159",
         "1163.0",
         "16.54207142857143",
         "0.919090909090909"
        ],
        [
         "1160",
         "1164.0",
         "16.57110714285714",
         "0.919090909090909"
        ],
        [
         "1161",
         "1165.0",
         "16.56010714285714",
         "0.919090909090909"
        ],
        [
         "1162",
         "1166.0",
         "16.53625",
         "0.919090909090909"
        ],
        [
         "1163",
         "1167.0",
         "16.540142857142857",
         "0.919090909090909"
        ],
        [
         "1164",
         "1168.0",
         "16.538571428571426",
         "0.919090909090909"
        ],
        [
         "1165",
         "1169.0",
         "16.53967857142857",
         "0.919090909090909"
        ],
        [
         "1166",
         "1170.0",
         "16.545928571428572",
         "0.919090909090909"
        ],
        [
         "1167",
         "1171.0",
         "16.55292857142857",
         "0.919090909090909"
        ],
        [
         "1168",
         "1172.0",
         "16.533607142857143",
         "0.919090909090909"
        ],
        [
         "1169",
         "1173.0",
         "16.520142857142858",
         "0.919090909090909"
        ],
        [
         "1170",
         "1174.0",
         "16.53064285714286",
         "0.919090909090909"
        ],
        [
         "1171",
         "1175.0",
         "16.527464285714284",
         "0.919090909090909"
        ],
        [
         "1172",
         "1176.0",
         "16.535392857142856",
         "0.919090909090909"
        ],
        [
         "1173",
         "1177.0",
         "16.52442857142857",
         "0.919090909090909"
        ],
        [
         "1174",
         "1178.0",
         "16.523535714285714",
         "0.919090909090909"
        ],
        [
         "1175",
         "1179.0",
         "16.572821428571427",
         "0.919090909090909"
        ],
        [
         "1176",
         "1180.0",
         "16.555071428571427",
         "0.919090909090909"
        ],
        [
         "1177",
         "1181.0",
         "16.549714285714284",
         "0.919090909090909"
        ],
        [
         "1178",
         "1182.0",
         "16.511535714285714",
         "0.919090909090909"
        ],
        [
         "1179",
         "1183.0",
         "16.53092857142857",
         "0.919090909090909"
        ],
        [
         "1180",
         "1184.0",
         "16.564214285714286",
         "0.919090909090909"
        ],
        [
         "1181",
         "1185.0",
         "16.629714285714286",
         "0.919090909090909"
        ],
        [
         "1182",
         "1186.0",
         "16.617714285714285",
         "0.919090909090909"
        ],
        [
         "1183",
         "1187.0",
         "16.6525",
         "0.919090909090909"
        ],
        [
         "1184",
         "1188.0",
         "16.615142857142857",
         "0.919090909090909"
        ],
        [
         "1185",
         "1189.0",
         "16.615571428571428",
         "0.919090909090909"
        ],
        [
         "1186",
         "1190.0",
         "16.57925",
         "0.919090909090909"
        ],
        [
         "1187",
         "1191.0",
         "16.617250000000002",
         "0.919090909090909"
        ],
        [
         "1188",
         "1192.0",
         "16.581214285714285",
         "0.919090909090909"
        ],
        [
         "1189",
         "1193.0",
         "16.59992857142857",
         "0.919090909090909"
        ],
        [
         "1190",
         "1194.0",
         "16.594",
         "0.919090909090909"
        ],
        [
         "1191",
         "1195.0",
         "16.649035714285713",
         "0.919090909090909"
        ],
        [
         "1192",
         "1196.0",
         "16.633535714285713",
         "0.919090909090909"
        ],
        [
         "1193",
         "1197.0",
         "16.60007142857143",
         "0.919090909090909"
        ],
        [
         "1194",
         "1198.0",
         "16.608964285714286",
         "0.919090909090909"
        ],
        [
         "1195",
         "1199.0",
         "16.60482142857143",
         "0.9181818181818181"
        ],
        [
         "1196",
         "1200.0",
         "16.62257142857143",
         "0.9181818181818181"
        ],
        [
         "1197",
         "1201.0",
         "16.606178571428572",
         "0.9181818181818181"
        ],
        [
         "1198",
         "1202.0",
         "16.611678571428573",
         "0.9181818181818181"
        ],
        [
         "1199",
         "1203.0",
         "16.617678571428574",
         "0.9181818181818181"
        ],
        [
         "1200",
         "1204.0",
         "16.63039285714286",
         "0.9181818181818181"
        ],
        [
         "1201",
         "1205.0",
         "16.639",
         "0.9181818181818181"
        ],
        [
         "1202",
         "1206.0",
         "16.61975",
         "0.9181818181818181"
        ],
        [
         "1203",
         "1207.0",
         "16.591535714285715",
         "0.9181818181818181"
        ],
        [
         "1204",
         "1208.0",
         "16.60682142857143",
         "0.9181818181818181"
        ],
        [
         "1205",
         "1209.0",
         "16.58592857142857",
         "0.9181818181818181"
        ]
       ],
       "shape": {
        "columns": 3,
        "rows": 1633
       }
      },
      "text/html": [
       "<div>\n",
       "<style scoped>\n",
       "    .dataframe tbody tr th:only-of-type {\n",
       "        vertical-align: middle;\n",
       "    }\n",
       "\n",
       "    .dataframe tbody tr th {\n",
       "        vertical-align: top;\n",
       "    }\n",
       "\n",
       "    .dataframe thead th {\n",
       "        text-align: right;\n",
       "    }\n",
       "</style>\n",
       "<table border=\"1\" class=\"dataframe\">\n",
       "  <thead>\n",
       "    <tr style=\"text-align: right;\">\n",
       "      <th></th>\n",
       "      <th>Cycle_Index</th>\n",
       "      <th>Cell_Temperature (C)</th>\n",
       "      <th>SOH_discharge</th>\n",
       "    </tr>\n",
       "  </thead>\n",
       "  <tbody>\n",
       "    <tr>\n",
       "      <th>1156</th>\n",
       "      <td>1160.0</td>\n",
       "      <td>16.591321</td>\n",
       "      <td>0.919091</td>\n",
       "    </tr>\n",
       "    <tr>\n",
       "      <th>1157</th>\n",
       "      <td>1161.0</td>\n",
       "      <td>16.530571</td>\n",
       "      <td>0.919091</td>\n",
       "    </tr>\n",
       "    <tr>\n",
       "      <th>1158</th>\n",
       "      <td>1162.0</td>\n",
       "      <td>16.577321</td>\n",
       "      <td>0.919091</td>\n",
       "    </tr>\n",
       "    <tr>\n",
       "      <th>1159</th>\n",
       "      <td>1163.0</td>\n",
       "      <td>16.542071</td>\n",
       "      <td>0.919091</td>\n",
       "    </tr>\n",
       "    <tr>\n",
       "      <th>1160</th>\n",
       "      <td>1164.0</td>\n",
       "      <td>16.571107</td>\n",
       "      <td>0.919091</td>\n",
       "    </tr>\n",
       "    <tr>\n",
       "      <th>...</th>\n",
       "      <td>...</td>\n",
       "      <td>...</td>\n",
       "      <td>...</td>\n",
       "    </tr>\n",
       "    <tr>\n",
       "      <th>3689</th>\n",
       "      <td>3698.0</td>\n",
       "      <td>16.273333</td>\n",
       "      <td>0.877273</td>\n",
       "    </tr>\n",
       "    <tr>\n",
       "      <th>3690</th>\n",
       "      <td>3699.0</td>\n",
       "      <td>16.280815</td>\n",
       "      <td>0.877273</td>\n",
       "    </tr>\n",
       "    <tr>\n",
       "      <th>3691</th>\n",
       "      <td>3700.0</td>\n",
       "      <td>16.285370</td>\n",
       "      <td>0.877273</td>\n",
       "    </tr>\n",
       "    <tr>\n",
       "      <th>3692</th>\n",
       "      <td>3701.0</td>\n",
       "      <td>16.283148</td>\n",
       "      <td>0.877273</td>\n",
       "    </tr>\n",
       "    <tr>\n",
       "      <th>3693</th>\n",
       "      <td>3702.0</td>\n",
       "      <td>16.279815</td>\n",
       "      <td>0.877273</td>\n",
       "    </tr>\n",
       "  </tbody>\n",
       "</table>\n",
       "<p>1633 rows × 3 columns</p>\n",
       "</div>"
      ],
      "text/plain": [
       "      Cycle_Index  Cell_Temperature (C)  SOH_discharge\n",
       "1156       1160.0             16.591321       0.919091\n",
       "1157       1161.0             16.530571       0.919091\n",
       "1158       1162.0             16.577321       0.919091\n",
       "1159       1163.0             16.542071       0.919091\n",
       "1160       1164.0             16.571107       0.919091\n",
       "...           ...                   ...            ...\n",
       "3689       3698.0             16.273333       0.877273\n",
       "3690       3699.0             16.280815       0.877273\n",
       "3691       3700.0             16.285370       0.877273\n",
       "3692       3701.0             16.283148       0.877273\n",
       "3693       3702.0             16.279815       0.877273\n",
       "\n",
       "[1633 rows x 3 columns]"
      ]
     },
     "metadata": {},
     "output_type": "display_data"
    },
    {
     "data": {
      "application/vnd.microsoft.datawrangler.viewer.v0+json": {
       "columns": [
        {
         "name": "index",
         "rawType": "int64",
         "type": "integer"
        },
        {
         "name": "Cycle_Index",
         "rawType": "float64",
         "type": "float"
        },
        {
         "name": "Cell_Temperature (C)",
         "rawType": "float64",
         "type": "float"
        },
        {
         "name": "SOH_discharge",
         "rawType": "float64",
         "type": "float"
        }
       ],
       "ref": "855ba4f7-109e-4ddd-8647-47a124e3a609",
       "rows": [
        [
         "0",
         "1.0",
         "15.856116847826089",
         "0.9363636363636363"
        ],
        [
         "4",
         "5.0",
         "16.86144827586207",
         "0.939090909090909"
        ],
        [
         "5",
         "6.0",
         "16.878482758620688",
         "0.939090909090909"
        ],
        [
         "6",
         "7.0",
         "16.787275862068967",
         "0.939090909090909"
        ],
        [
         "7",
         "8.0",
         "16.796655172413793",
         "0.939090909090909"
        ],
        [
         "8",
         "9.0",
         "16.828413793103447",
         "0.939090909090909"
        ],
        [
         "9",
         "10.0",
         "16.808413793103448",
         "0.939090909090909"
        ],
        [
         "10",
         "11.0",
         "16.801689655172414",
         "0.939090909090909"
        ],
        [
         "11",
         "12.0",
         "16.776655172413793",
         "0.939090909090909"
        ],
        [
         "12",
         "13.0",
         "16.792310344827587",
         "0.939090909090909"
        ],
        [
         "13",
         "14.0",
         "16.801724137931036",
         "0.939090909090909"
        ],
        [
         "14",
         "15.0",
         "16.797310344827586",
         "0.939090909090909"
        ],
        [
         "15",
         "16.0",
         "16.785241379310346",
         "0.939090909090909"
        ],
        [
         "16",
         "17.0",
         "16.77362068965517",
         "0.939090909090909"
        ],
        [
         "17",
         "18.0",
         "16.757206896551725",
         "0.939090909090909"
        ],
        [
         "18",
         "19.0",
         "16.77310344827586",
         "0.939090909090909"
        ],
        [
         "19",
         "20.0",
         "16.76289655172414",
         "0.939090909090909"
        ],
        [
         "20",
         "21.0",
         "16.753620689655172",
         "0.939090909090909"
        ],
        [
         "21",
         "22.0",
         "16.788379310344826",
         "0.939090909090909"
        ],
        [
         "22",
         "23.0",
         "16.777689655172413",
         "0.939090909090909"
        ],
        [
         "23",
         "24.0",
         "16.73837931034483",
         "0.939090909090909"
        ],
        [
         "24",
         "25.0",
         "16.776275862068964",
         "0.939090909090909"
        ],
        [
         "25",
         "26.0",
         "16.808379310344826",
         "0.939090909090909"
        ],
        [
         "26",
         "27.0",
         "16.773655172413793",
         "0.939090909090909"
        ],
        [
         "27",
         "28.0",
         "16.75803448275862",
         "0.939090909090909"
        ],
        [
         "28",
         "29.0",
         "16.756172413793106",
         "0.939090909090909"
        ],
        [
         "29",
         "30.0",
         "16.822724137931033",
         "0.939090909090909"
        ],
        [
         "30",
         "31.0",
         "16.81355172413793",
         "0.939090909090909"
        ],
        [
         "31",
         "32.0",
         "16.819655172413793",
         "0.939090909090909"
        ],
        [
         "32",
         "33.0",
         "16.794655172413794",
         "0.939090909090909"
        ],
        [
         "33",
         "34.0",
         "16.770689655172415",
         "0.939090909090909"
        ],
        [
         "34",
         "35.0",
         "16.78796551724138",
         "0.939090909090909"
        ],
        [
         "35",
         "36.0",
         "16.782275862068964",
         "0.939090909090909"
        ],
        [
         "36",
         "37.0",
         "16.74993103448276",
         "0.939090909090909"
        ],
        [
         "37",
         "38.0",
         "16.74003448275862",
         "0.939090909090909"
        ],
        [
         "38",
         "39.0",
         "16.816689655172414",
         "0.939090909090909"
        ],
        [
         "39",
         "40.0",
         "16.741793103448277",
         "0.939090909090909"
        ],
        [
         "40",
         "41.0",
         "16.82148275862069",
         "0.939090909090909"
        ],
        [
         "41",
         "42.0",
         "16.868275862068966",
         "0.939090909090909"
        ],
        [
         "42",
         "43.0",
         "16.83541379310345",
         "0.939090909090909"
        ],
        [
         "43",
         "44.0",
         "16.77503448275862",
         "0.939090909090909"
        ],
        [
         "44",
         "45.0",
         "16.799137931034483",
         "0.939090909090909"
        ],
        [
         "45",
         "46.0",
         "16.793206896551723",
         "0.939090909090909"
        ],
        [
         "46",
         "47.0",
         "16.801413793103446",
         "0.939090909090909"
        ],
        [
         "47",
         "48.0",
         "16.81144827586207",
         "0.939090909090909"
        ],
        [
         "48",
         "49.0",
         "16.815103448275863",
         "0.939090909090909"
        ],
        [
         "49",
         "50.0",
         "16.79593103448276",
         "0.939090909090909"
        ],
        [
         "50",
         "51.0",
         "16.768862068965518",
         "0.939090909090909"
        ],
        [
         "51",
         "52.0",
         "16.85313793103448",
         "0.939090909090909"
        ],
        [
         "52",
         "53.0",
         "16.81293103448276",
         "0.939090909090909"
        ]
       ],
       "shape": {
        "columns": 3,
        "rows": 4415
       }
      },
      "text/html": [
       "<div>\n",
       "<style scoped>\n",
       "    .dataframe tbody tr th:only-of-type {\n",
       "        vertical-align: middle;\n",
       "    }\n",
       "\n",
       "    .dataframe tbody tr th {\n",
       "        vertical-align: top;\n",
       "    }\n",
       "\n",
       "    .dataframe thead th {\n",
       "        text-align: right;\n",
       "    }\n",
       "</style>\n",
       "<table border=\"1\" class=\"dataframe\">\n",
       "  <thead>\n",
       "    <tr style=\"text-align: right;\">\n",
       "      <th></th>\n",
       "      <th>Cycle_Index</th>\n",
       "      <th>Cell_Temperature (C)</th>\n",
       "      <th>SOH_discharge</th>\n",
       "    </tr>\n",
       "  </thead>\n",
       "  <tbody>\n",
       "    <tr>\n",
       "      <th>0</th>\n",
       "      <td>1.0</td>\n",
       "      <td>15.856117</td>\n",
       "      <td>0.936364</td>\n",
       "    </tr>\n",
       "    <tr>\n",
       "      <th>4</th>\n",
       "      <td>5.0</td>\n",
       "      <td>16.861448</td>\n",
       "      <td>0.939091</td>\n",
       "    </tr>\n",
       "    <tr>\n",
       "      <th>5</th>\n",
       "      <td>6.0</td>\n",
       "      <td>16.878483</td>\n",
       "      <td>0.939091</td>\n",
       "    </tr>\n",
       "    <tr>\n",
       "      <th>6</th>\n",
       "      <td>7.0</td>\n",
       "      <td>16.787276</td>\n",
       "      <td>0.939091</td>\n",
       "    </tr>\n",
       "    <tr>\n",
       "      <th>7</th>\n",
       "      <td>8.0</td>\n",
       "      <td>16.796655</td>\n",
       "      <td>0.939091</td>\n",
       "    </tr>\n",
       "    <tr>\n",
       "      <th>...</th>\n",
       "      <td>...</td>\n",
       "      <td>...</td>\n",
       "      <td>...</td>\n",
       "    </tr>\n",
       "    <tr>\n",
       "      <th>4535</th>\n",
       "      <td>4545.0</td>\n",
       "      <td>15.912885</td>\n",
       "      <td>0.859091</td>\n",
       "    </tr>\n",
       "    <tr>\n",
       "      <th>4536</th>\n",
       "      <td>4546.0</td>\n",
       "      <td>15.867615</td>\n",
       "      <td>0.859091</td>\n",
       "    </tr>\n",
       "    <tr>\n",
       "      <th>4537</th>\n",
       "      <td>4547.0</td>\n",
       "      <td>15.906308</td>\n",
       "      <td>0.859091</td>\n",
       "    </tr>\n",
       "    <tr>\n",
       "      <th>4539</th>\n",
       "      <td>4549.0</td>\n",
       "      <td>15.437709</td>\n",
       "      <td>0.860909</td>\n",
       "    </tr>\n",
       "    <tr>\n",
       "      <th>4540</th>\n",
       "      <td>4550.0</td>\n",
       "      <td>15.372972</td>\n",
       "      <td>0.860909</td>\n",
       "    </tr>\n",
       "  </tbody>\n",
       "</table>\n",
       "<p>4415 rows × 3 columns</p>\n",
       "</div>"
      ],
      "text/plain": [
       "      Cycle_Index  Cell_Temperature (C)  SOH_discharge\n",
       "0             1.0             15.856117       0.936364\n",
       "4             5.0             16.861448       0.939091\n",
       "5             6.0             16.878483       0.939091\n",
       "6             7.0             16.787276       0.939091\n",
       "7             8.0             16.796655       0.939091\n",
       "...           ...                   ...            ...\n",
       "4535       4545.0             15.912885       0.859091\n",
       "4536       4546.0             15.867615       0.859091\n",
       "4537       4547.0             15.906308       0.859091\n",
       "4539       4549.0             15.437709       0.860909\n",
       "4540       4550.0             15.372972       0.860909\n",
       "\n",
       "[4415 rows x 3 columns]"
      ]
     },
     "metadata": {},
     "output_type": "display_data"
    },
    {
     "data": {
      "application/vnd.microsoft.datawrangler.viewer.v0+json": {
       "columns": [
        {
         "name": "index",
         "rawType": "int64",
         "type": "integer"
        },
        {
         "name": "Cycle_Index",
         "rawType": "float64",
         "type": "float"
        },
        {
         "name": "Cell_Temperature (C)",
         "rawType": "float64",
         "type": "float"
        },
        {
         "name": "SOH_discharge",
         "rawType": "float64",
         "type": "float"
        }
       ],
       "ref": "07d0d365-806a-4cac-a9a9-190db4077589",
       "rows": [
        [
         "247",
         "248.0",
         "17.17448275862069",
         "0.9345454545454545"
        ],
        [
         "248",
         "249.0",
         "17.203137931034483",
         "0.9345454545454545"
        ],
        [
         "249",
         "250.0",
         "17.178206896551725",
         "0.9345454545454545"
        ],
        [
         "250",
         "251.0",
         "17.168",
         "0.9345454545454545"
        ],
        [
         "251",
         "252.0",
         "17.151241379310346",
         "0.9345454545454545"
        ],
        [
         "252",
         "253.0",
         "17.14651724137931",
         "0.9345454545454545"
        ],
        [
         "253",
         "254.0",
         "17.13444827586207",
         "0.9345454545454545"
        ],
        [
         "254",
         "255.0",
         "17.16758620689655",
         "0.9345454545454545"
        ],
        [
         "255",
         "256.0",
         "17.14268965517241",
         "0.9345454545454545"
        ],
        [
         "256",
         "257.0",
         "17.145241379310345",
         "0.9345454545454545"
        ],
        [
         "257",
         "258.0",
         "17.150172413793104",
         "0.9345454545454545"
        ],
        [
         "258",
         "259.0",
         "17.132103448275863",
         "0.9345454545454545"
        ],
        [
         "259",
         "260.0",
         "17.102379310344826",
         "0.9345454545454545"
        ],
        [
         "260",
         "261.0",
         "17.143448275862067",
         "0.9345454545454545"
        ],
        [
         "261",
         "262.0",
         "17.111655172413794",
         "0.9345454545454545"
        ],
        [
         "262",
         "263.0",
         "17.13644827586207",
         "0.9345454545454545"
        ],
        [
         "263",
         "264.0",
         "17.11196551724138",
         "0.9345454545454545"
        ],
        [
         "264",
         "265.0",
         "17.127413793103447",
         "0.9345454545454545"
        ],
        [
         "265",
         "266.0",
         "17.10306896551724",
         "0.9345454545454545"
        ],
        [
         "266",
         "267.0",
         "17.120724137931035",
         "0.9345454545454545"
        ],
        [
         "267",
         "268.0",
         "17.084586206896553",
         "0.9345454545454545"
        ],
        [
         "268",
         "269.0",
         "17.197689655172415",
         "0.9345454545454545"
        ],
        [
         "269",
         "270.0",
         "17.190379310344827",
         "0.9345454545454545"
        ],
        [
         "270",
         "271.0",
         "17.188758620689654",
         "0.9345454545454545"
        ],
        [
         "271",
         "272.0",
         "17.17558620689655",
         "0.9345454545454545"
        ],
        [
         "272",
         "273.0",
         "17.154310344827586",
         "0.9345454545454545"
        ],
        [
         "273",
         "274.0",
         "17.225275862068965",
         "0.9345454545454545"
        ],
        [
         "274",
         "275.0",
         "17.179862068965516",
         "0.9345454545454545"
        ],
        [
         "275",
         "276.0",
         "17.218275862068964",
         "0.9345454545454545"
        ],
        [
         "276",
         "277.0",
         "17.174137931034483",
         "0.9345454545454545"
        ],
        [
         "277",
         "278.0",
         "17.202275862068966",
         "0.9345454545454545"
        ],
        [
         "278",
         "279.0",
         "17.204620689655172",
         "0.9345454545454545"
        ],
        [
         "279",
         "280.0",
         "17.14951724137931",
         "0.9345454545454545"
        ],
        [
         "280",
         "281.0",
         "17.210896551724137",
         "0.9345454545454545"
        ],
        [
         "281",
         "282.0",
         "17.199172413793104",
         "0.9345454545454545"
        ],
        [
         "282",
         "283.0",
         "17.17241379310345",
         "0.9336363636363635"
        ],
        [
         "283",
         "284.0",
         "17.183172413793105",
         "0.9336363636363635"
        ],
        [
         "284",
         "285.0",
         "17.157931034482758",
         "0.9336363636363635"
        ],
        [
         "285",
         "286.0",
         "17.21710344827586",
         "0.9336363636363635"
        ],
        [
         "286",
         "287.0",
         "17.15706896551724",
         "0.9336363636363635"
        ],
        [
         "287",
         "288.0",
         "17.147206896551726",
         "0.9336363636363635"
        ],
        [
         "288",
         "289.0",
         "17.178275862068965",
         "0.9336363636363635"
        ],
        [
         "289",
         "290.0",
         "17.160241379310346",
         "0.9336363636363635"
        ],
        [
         "290",
         "291.0",
         "17.15813793103448",
         "0.9336363636363635"
        ],
        [
         "291",
         "292.0",
         "17.172827586206896",
         "0.9336363636363635"
        ],
        [
         "292",
         "293.0",
         "17.10641379310345",
         "0.9336363636363635"
        ],
        [
         "293",
         "294.0",
         "17.176379310344828",
         "0.9336363636363635"
        ],
        [
         "294",
         "295.0",
         "17.100241379310344",
         "0.9336363636363635"
        ],
        [
         "295",
         "296.0",
         "17.17248275862069",
         "0.9336363636363635"
        ],
        [
         "296",
         "297.0",
         "17.159689655172414",
         "0.9336363636363635"
        ]
       ],
       "shape": {
        "columns": 3,
        "rows": 3896
       }
      },
      "text/html": [
       "<div>\n",
       "<style scoped>\n",
       "    .dataframe tbody tr th:only-of-type {\n",
       "        vertical-align: middle;\n",
       "    }\n",
       "\n",
       "    .dataframe tbody tr th {\n",
       "        vertical-align: top;\n",
       "    }\n",
       "\n",
       "    .dataframe thead th {\n",
       "        text-align: right;\n",
       "    }\n",
       "</style>\n",
       "<table border=\"1\" class=\"dataframe\">\n",
       "  <thead>\n",
       "    <tr style=\"text-align: right;\">\n",
       "      <th></th>\n",
       "      <th>Cycle_Index</th>\n",
       "      <th>Cell_Temperature (C)</th>\n",
       "      <th>SOH_discharge</th>\n",
       "    </tr>\n",
       "  </thead>\n",
       "  <tbody>\n",
       "    <tr>\n",
       "      <th>247</th>\n",
       "      <td>248.0</td>\n",
       "      <td>17.174483</td>\n",
       "      <td>0.934545</td>\n",
       "    </tr>\n",
       "    <tr>\n",
       "      <th>248</th>\n",
       "      <td>249.0</td>\n",
       "      <td>17.203138</td>\n",
       "      <td>0.934545</td>\n",
       "    </tr>\n",
       "    <tr>\n",
       "      <th>249</th>\n",
       "      <td>250.0</td>\n",
       "      <td>17.178207</td>\n",
       "      <td>0.934545</td>\n",
       "    </tr>\n",
       "    <tr>\n",
       "      <th>250</th>\n",
       "      <td>251.0</td>\n",
       "      <td>17.168000</td>\n",
       "      <td>0.934545</td>\n",
       "    </tr>\n",
       "    <tr>\n",
       "      <th>251</th>\n",
       "      <td>252.0</td>\n",
       "      <td>17.151241</td>\n",
       "      <td>0.934545</td>\n",
       "    </tr>\n",
       "    <tr>\n",
       "      <th>...</th>\n",
       "      <td>...</td>\n",
       "      <td>...</td>\n",
       "      <td>...</td>\n",
       "    </tr>\n",
       "    <tr>\n",
       "      <th>4276</th>\n",
       "      <td>4286.0</td>\n",
       "      <td>16.096192</td>\n",
       "      <td>0.865455</td>\n",
       "    </tr>\n",
       "    <tr>\n",
       "      <th>4277</th>\n",
       "      <td>4287.0</td>\n",
       "      <td>16.089692</td>\n",
       "      <td>0.865455</td>\n",
       "    </tr>\n",
       "    <tr>\n",
       "      <th>4278</th>\n",
       "      <td>4288.0</td>\n",
       "      <td>16.120231</td>\n",
       "      <td>0.865455</td>\n",
       "    </tr>\n",
       "    <tr>\n",
       "      <th>4279</th>\n",
       "      <td>4289.0</td>\n",
       "      <td>16.092500</td>\n",
       "      <td>0.865455</td>\n",
       "    </tr>\n",
       "    <tr>\n",
       "      <th>4280</th>\n",
       "      <td>4290.0</td>\n",
       "      <td>16.095538</td>\n",
       "      <td>0.865455</td>\n",
       "    </tr>\n",
       "  </tbody>\n",
       "</table>\n",
       "<p>3896 rows × 3 columns</p>\n",
       "</div>"
      ],
      "text/plain": [
       "      Cycle_Index  Cell_Temperature (C)  SOH_discharge\n",
       "247         248.0             17.174483       0.934545\n",
       "248         249.0             17.203138       0.934545\n",
       "249         250.0             17.178207       0.934545\n",
       "250         251.0             17.168000       0.934545\n",
       "251         252.0             17.151241       0.934545\n",
       "...           ...                   ...            ...\n",
       "4276       4286.0             16.096192       0.865455\n",
       "4277       4287.0             16.089692       0.865455\n",
       "4278       4288.0             16.120231       0.865455\n",
       "4279       4289.0             16.092500       0.865455\n",
       "4280       4290.0             16.095538       0.865455\n",
       "\n",
       "[3896 rows x 3 columns]"
      ]
     },
     "metadata": {},
     "output_type": "display_data"
    }
   ],
   "source": [
    "# Remoção de outliers e valores crescentes\n",
    "df_IsolForest = ensure_non_increasing(df_grouped, 'SOH_discharge')\n",
    "df_IsolForest = rmv_outliers_isolation_forest(df_IsolForest, 'SOH_discharge')\n",
    "\n",
    "df_IQR = ensure_non_increasing(df_grouped, 'SOH_discharge')\n",
    "df_IQR = rmv_outliers_iqr(df_IQR, 'SOH_discharge')\n",
    "\n",
    "df_ZScore = ensure_non_increasing(df_grouped, 'SOH_discharge')\n",
    "df_ZScore = rmv_outliers_zscore(df_ZScore, 'SOH_discharge', threshold=1.5)\n",
    "\n",
    "df_ZScore = rmv_sharp_jump(df_ZScore, 'SOH_discharge', threshold=0.05, repeat=2) # 5% de SOH\n",
    "\n",
    "display(df_grouped)\n",
    "display(df_IsolForest)\n",
    "display(df_IQR)\n",
    "display(df_ZScore)"
   ]
  },
  {
   "cell_type": "markdown",
   "metadata": {},
   "source": [
    "### [numpy.interp() parameters](https://numpy.org/doc/2.1/reference/generated/numpy.interp.html):\n",
    "- `x`: _array_like_ . The x-coordinates at which to evaluate the interpolated values.\n",
    "\n",
    "- `xp`: _1-D sequence of floats_. The x-coordinates of the data points, must be increasing if argument period is not specified. Otherwise, xp is internally sorted after normalizing the periodic boundaries with xp = xp % period.\n",
    "\n",
    "- `fp`: _1-D sequence of float or complex_. The y-coordinates of the data points, same length as xp.\n",
    "\n",
    "Returns the one-dimensional piecewise linear interpolant to a function with given discrete data points (xp, fp), evaluated at x:\n",
    "- `y`: float or complex (corresponding to fp) or ndarray. The interpolated values, same shape as x."
   ]
  },
  {
   "cell_type": "code",
   "execution_count": 29,
   "metadata": {},
   "outputs": [],
   "source": [
    "def interpolate_soh(df: pd.DataFrame, soh_column: str, cycles_column: str) -> pd.DataFrame:\n",
    "    # Define thresholds de interesse (99%, 98%, ...)\n",
    "    thresholds = np.arange(1.00, 0.00, -0.01)\n",
    "\n",
    "    soh = df[soh_column].values\n",
    "    cycles = df[cycles_column].values\n",
    "\n",
    "    # Inverte para que fique crescente\n",
    "    xp = soh[::-1]\n",
    "    fp = cycles[::-1]\n",
    "\n",
    "    valid = (thresholds >= xp.min()) & (thresholds <= xp.max())\n",
    "    thresholds = thresholds[valid]\n",
    "\n",
    "    # np.interp(x, xp, fp) assume xp crescente e retorna y para cada x em thresholds\n",
    "    estimated_cycles = np.interp(thresholds, xp, fp)\n",
    "    print(f'Número de thresholds válidos: {len(thresholds)}')\n",
    "    df_estimates = pd.DataFrame({\n",
    "        'SOH_threshold': thresholds,\n",
    "        'estimated_cycle': estimated_cycles\n",
    "    })\n",
    "\n",
    "    # Cast para float com 2 casas decimais\n",
    "    df_estimates['SOH_threshold'] = df_estimates['SOH_threshold'].astype(float).round(2)\n",
    "\n",
    "    # Queda de ciclos (a cada 1%)\n",
    "    df_estimates['NCD1%'] = df_estimates['estimated_cycle'].diff()\n",
    "    \n",
    "    return df_estimates"
   ]
  },
  {
   "cell_type": "code",
   "execution_count": 30,
   "metadata": {},
   "outputs": [
    {
     "name": "stdout",
     "output_type": "stream",
     "text": [
      "Número de thresholds válidos: 30\n",
      "Número de thresholds válidos: 4\n",
      "Número de thresholds válidos: 9\n",
      "Número de thresholds válidos: 7\n"
     ]
    }
   ],
   "source": [
    "df_grouped_estimates     = interpolate_soh(df_grouped, 'SOH_discharge', 'Cycle_Index')\n",
    "df_IsolForest_estimates  = interpolate_soh(df_IsolForest, 'SOH_discharge', 'Cycle_Index')\n",
    "df_IQR_estimates         = interpolate_soh(df_IQR, 'SOH_discharge', 'Cycle_Index')\n",
    "df_ZScore_estimates      = interpolate_soh(df_ZScore, 'SOH_discharge', 'Cycle_Index')"
   ]
  },
  {
   "cell_type": "code",
   "execution_count": 31,
   "metadata": {},
   "outputs": [
    {
     "data": {
      "image/png": "[encoded data removed]",
      "text/plain": [
       "<Figure size 2500x1500 with 4 Axes>"
      ]
     },
     "metadata": {},
     "output_type": "display_data"
    }
   ],
   "source": [
    "# Crie a figura com 4 subplots em um layout 2x2\n",
    "fig, axs = plt.subplots(2, 2, figsize=(25, 15))\n",
    "\n",
    "# Título geral para o plot\n",
    "fig.suptitle('Comparativo de Abordagens de Limpeza de Dados', fontsize=20)\n",
    "\n",
    "# Eixo Y compartilhado para padronizar os gráficos\n",
    "for ax in axs.flat:\n",
    "    ax.set_ylim(40, 105) # SOH in percentage\n",
    "\n",
    "# Configuração de Ticks do Eixo X\n",
    "xmin = df_grouped[\"Cycle_Index\"].min()\n",
    "xmax = df_grouped[\"Cycle_Index\"].max()\n",
    "major_ticks = np.arange(0, xmax + 1, 200)\n",
    "minor_ticks = np.arange(0, xmax + 1, 50)\n",
    "\n",
    "# 1. Plot para \"Dados Originais\"\n",
    "axs[0, 0].plot(df_grouped[\"Cycle_Index\"], df_grouped[\"SOH_discharge\"] * 100, label=\"Dados Originais\", color='gray', linewidth=1.5, zorder=1)\n",
    "#axs[0, 0].scatter(df_grouped_estimates[\"estimated_cycle\"], df_grouped_estimates[\"SOH_threshold\"] * 100, label=\"Queda de 1%\", color='gray', marker='d', s=100, zorder=3)\n",
    "axs[0, 0].set_title(\"1. Dados Originais\", fontsize=16)\n",
    "axs[0, 0].set_ylabel(\"SOH (%)\", fontsize=12)\n",
    "\n",
    "# 2. Plot para \"Isolation Forest\"\n",
    "axs[0, 1].plot(df_IsolForest[\"Cycle_Index\"], df_IsolForest[\"SOH_discharge\"] * 100, label=\"Limpeza com Isolation Forest\", color='darkorange', linewidth=2.5, zorder=2)\n",
    "# axs[0, 1].scatter(df_IsolForest_estimates[\"estimated_cycle\"], df_IsolForest_estimates[\"SOH_threshold\"] * 100, label=\"Queda de 1%\", color='darkorange', marker='d', s=100, zorder=3)\n",
    "axs[0, 1].set_title(\"2. Limpeza com Isolation Forest\", fontsize=16)\n",
    "\n",
    "# 3. Plot para \"IQR\"\n",
    "axs[1, 0].plot(df_IQR[\"Cycle_Index\"], df_IQR[\"SOH_discharge\"] * 100, label=\"Limpeza com IQR\", color='skyblue', linewidth=2.5, zorder=2)\n",
    "# axs[1, 0].scatter(df_IQR_estimates[\"estimated_cycle\"], df_IQR_estimates[\"SOH_threshold\"] * 100, label=\"Queda de 1%\", color='skyblue', marker='d', s=100, zorder=3)\n",
    "axs[1, 0].set_title(\"3. Limpeza com IQR\", fontsize=16)\n",
    "axs[1, 0].set_xlabel(\"Índice de Ciclo\", fontsize=12)\n",
    "axs[1, 0].set_ylabel(\"SOH (%)\", fontsize=12)\n",
    "\n",
    "# 4. Plot para \"Z-Score\"\n",
    "axs[1, 1].plot(df_ZScore[\"Cycle_Index\"], df_ZScore[\"SOH_discharge\"] * 100, label=\"Limpeza com Z-Score\", color='forestgreen', linewidth=2.5, zorder=2)\n",
    "# axs[1, 1].scatter(df_ZScore_estimates[\"estimated_cycle\"], df_ZScore_estimates[\"SOH_threshold\"] * 100, label=\"Queda de 1%\", color='forestgreen', marker='d', s=100, zorder=3)\n",
    "axs[1, 1].set_title(\"4. Limpeza com Z-Score\", fontsize=16)\n",
    "axs[1, 1].set_xlabel(\"Índice de Ciclo\", fontsize=12)\n",
    "\n",
    "# Adicione grids, ticks e legendas para cada subplot\n",
    "for ax in axs.flat:\n",
    "    ax.set_xticks(major_ticks)\n",
    "    ax.set_xticks(minor_ticks, minor=True)\n",
    "    ax.grid(which='major', linestyle='-', linewidth=1, alpha=0.9)\n",
    "    ax.grid(which='minor', linestyle='--', linewidth=0.5, alpha=0.7)\n",
    "    ax.legend(loc='best', fontsize=10)\n",
    "\n",
    "plt.tight_layout(rect=[0, 0, 1, 0.96])\n",
    "plt.show()\n"
   ]
  },
  {
   "cell_type": "markdown",
   "metadata": {},
   "source": [
    "## Z-score com ensure_non_decreasing e rmv_sharp_jump é o escolhido"
   ]
  },
  {
   "cell_type": "code",
   "execution_count": 32,
   "metadata": {},
   "outputs": [
    {
     "name": "stdout",
     "output_type": "stream",
     "text": [
      "Número de NCD1%: 6\n",
      "Média: 609.83, Desvio-padrão: 104.36\n"
     ]
    },
    {
     "data": {
      "image/png": "[encoded data removed]",
      "text/plain": [
       "<Figure size 1200x200 with 1 Axes>"
      ]
     },
     "metadata": {},
     "output_type": "display_data"
    }
   ],
   "source": [
    "df_ZScore_estimates = rmv_outliers_iqr(df_ZScore_estimates, 'NCD1%')\n",
    "\n",
    "data = df_ZScore_estimates[\"NCD1%\"].dropna().values\n",
    "print(f'Número de NCD1%: {len(data)}')\n",
    "\n",
    "mean = np.mean(data)\n",
    "std  = np.std(data, ddof=1)\n",
    "print(f'Média: {mean:.2f}, Desvio-padrão: {std:.2f}')\n",
    "\n",
    "# Seleciona a cor padrão 'C0' do matplotlib (primeira cor)\n",
    "default_color = plt.rcParams['axes.prop_cycle'].by_key()['color'][0]\n",
    "fig, ax = plt.subplots(figsize=(12, 2))\n",
    "\n",
    "sns.boxplot(\n",
    "    x=data,                   # valores no eixo x\n",
    "    y=np.zeros_like(data),    # posição 0 no eixo y\n",
    "    ax=ax,\n",
    "    orient='h',\n",
    "    linewidth=1,\n",
    "    zorder=2\n",
    ")\n",
    "\n",
    "# Deixa a face do boxplot semitransparente\n",
    "for patch in ax.patches:\n",
    "    if hasattr(patch, 'get_facecolor'):\n",
    "        r, g, b, a = patch.get_facecolor()\n",
    "        patch.set_facecolor((r, g, b, 0.3))  # alpha = 0.3\n",
    "\n",
    "# Sobreposição de pontos (scatter) com baixa opacidade\n",
    "sns.scatterplot(\n",
    "    x=data,\n",
    "    y=np.zeros_like(data),\n",
    "    ax=ax,\n",
    "    s=60,                     # tamanho dos pontos\n",
    "    color=default_color,      # mesma cor do boxplot\n",
    "    alpha=0.7,\n",
    "    zorder=1\n",
    ")\n",
    "\n",
    "# Remove os ticks do eixo y (não fazem sentido aqui)\n",
    "ax.set_yticks([])\n",
    "\n",
    "ax.set_xlabel(\"NCD1%\")\n",
    "ax.tick_params(which='major', labelsize=12)\n",
    "\n",
    "plt.title(\"Distribuição de NCD1%\", fontsize=18)\n",
    "plt.grid(True, linestyle='--', linewidth=0.5, alpha=0.7)\n",
    "\n",
    "plt.show()"
   ]
  },
  {
   "cell_type": "code",
   "execution_count": 33,
   "metadata": {},
   "outputs": [
    {
     "data": {
      "image/png": "[encoded data removed]",
      "text/plain": [
       "<Figure size 900x400 with 1 Axes>"
      ]
     },
     "metadata": {},
     "output_type": "display_data"
    }
   ],
   "source": [
    "data = np.sort(data)  # Garante que os dados estão ordenados\n",
    "n    = len(data)\n",
    "\n",
    "# Faz o fitting para encotnrar os parametros e calcula a funcao acumulada dos dados considerando comportamento normal\n",
    "mean, std = norm.fit(data)\n",
    "teo_norm  = norm.cdf(data, loc=mean, scale=std)\n",
    "\n",
    "plt.figure(figsize=(9, 4))\n",
    "\n",
    "# Probabilidade acumulada empírica (1/n, 2/n, ..., 1)\n",
    "cdf_emp = np.arange(0, n)/(n-1)\n",
    "plt.plot(data, cdf_emp, marker='o', linestyle='-', label=\"CDF NCD1%\", zorder=3, alpha=0.7)\n",
    "\n",
    "# Função acumulada da normal (teórica)\n",
    "plt.plot(data, teo_norm, linestyle='--', label=f\"CDF Normal fit\\n(μ={mean:.2f}, σ={std:.2f})\")\n",
    "\n",
    "plt.xlabel(\"NCD1\")\n",
    "plt.ylabel(\"Probabilidade acumulada\")\n",
    "plt.title(\"NCD1% e Curva Normal aproximada\")\n",
    "plt.legend()\n",
    "plt.grid(True, linestyle='--', linewidth=0.5, alpha=0.7)\n",
    "\n",
    "plt.show()\n"
   ]
  },
  {
   "cell_type": "markdown",
   "metadata": {},
   "source": [
    "Teste de Kolmogorov–Smirnov (KS) para verificar formalmente se o conjunto de dados de NCD1% (`data`) segue a distribuição Normal com os parametros encontrados no método de fitting\n",
    "\n",
    "De acordo com a [documentação de **kstest**](https://docs.scipy.org/doc/scipy/reference/generated/scipy.stats.kstest.html):\n",
    "- ``rvs=data``\n",
    "    - Array de observações ordenadas\n",
    "- ``cdf='norm'`` \n",
    "    - Especifica que a distribuição teórica é a de uma normal\n",
    "- ``args=(mean, std)`` \n",
    "    - Parâmetros (μ, σ) da normal teórica\n",
    "\n",
    "Retorna:\n",
    "\n",
    "- ``D (statistic) `` \n",
    "    - Representa a maior diferença absoluta entre aa curva dados e a CDF da Normal teórica\n",
    "    - Quanto menor, mais próximo o ajuste está dos dados observados\n",
    "\n",
    "- ``p-value``\n",
    "    - Probabilidade de observar uma estatística \\( D \\) igual ou mais extrema sob a suposição de que os dados vêm de uma Normal\n",
    "    - **Valores altos (> alpha) indicam falha em rejeitar a hipótese de normalidade**. \n",
    "    - Valores baixos (< alpha) indicam evidência contra a hipótese"
   ]
  },
  {
   "cell_type": "code",
   "execution_count": 34,
   "metadata": {},
   "outputs": [
    {
     "name": "stdout",
     "output_type": "stream",
     "text": [
      "KS statistic: 0.2175\n",
      "p-value: 0.8859\n",
      "alpha = 0.05\n",
      "Hipótese aceita.\n"
     ]
    }
   ],
   "source": [
    "statistic, p_value = kstest(rvs=data, cdf='norm', args=(mean, std))\n",
    "\n",
    "print(f\"KS statistic: {statistic:.4f}\")\n",
    "print(f\"p-value: {p_value:.4f}\")\n",
    "\n",
    "alpha = 0.05\n",
    "print(f'alpha = {alpha}')\n",
    "if p_value < alpha: print(f\"Hipótese rejeitada.\")\n",
    "else: print(f\"Hipótese aceita.\")"
   ]
  }
 ],
 "metadata": {
  "kernelspec": {
   "display_name": "Python 3",
   "language": "python",
   "name": "python3"
  },
  "language_info": {
   "codemirror_mode": {
    "name": "ipython",
    "version": 3
   },
   "file_extension": ".py",
   "mimetype": "text/x-python",
   "name": "python",
   "nbconvert_exporter": "python",
   "pygments_lexer": "ipython3",
   "version": "3.13.7"
  }
 },
 "nbformat": 4,
 "nbformat_minor": 2
}
