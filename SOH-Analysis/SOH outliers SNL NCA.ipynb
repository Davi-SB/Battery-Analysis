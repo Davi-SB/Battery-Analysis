{
 "cells": [
  {
   "cell_type": "code",
   "execution_count": 1,
   "metadata": {},
   "outputs": [],
   "source": [
    "import numpy as np\n",
    "import pandas as pd\n",
    "import seaborn as sns\n",
    "import matplotlib.pyplot as plt\n",
    "from IPython.display import display\n",
    "from scipy.stats import norm, kstest, zscore\n",
    "from sklearn.ensemble import IsolationForest\n"
   ]
  },
  {
   "cell_type": "markdown",
   "metadata": {},
   "source": [
    "# SNL NCA"
   ]
  },
  {
   "cell_type": "markdown",
   "metadata": {},
   "source": [
    "## Limpeza e preparação"
   ]
  },
  {
   "cell_type": "markdown",
   "metadata": {},
   "source": [
    "- Corrente negativa --> descarga\n",
    "- Corrente positiva --> carga"
   ]
  },
  {
   "cell_type": "code",
   "execution_count": 2,
   "metadata": {},
   "outputs": [
    {
     "data": {
      "application/vnd.microsoft.datawrangler.viewer.v0+json": {
       "columns": [
        {
         "name": "index",
         "rawType": "int64",
         "type": "integer"
        },
        {
         "name": "Cycle_Index",
         "rawType": "float64",
         "type": "float"
        },
        {
         "name": "Test_Time (s)",
         "rawType": "float64",
         "type": "float"
        },
        {
         "name": "Current (A)",
         "rawType": "float64",
         "type": "float"
        },
        {
         "name": "Voltage (V)",
         "rawType": "float64",
         "type": "float"
        },
        {
         "name": "Discharge_Capacity (Ah)",
         "rawType": "float64",
         "type": "float"
        },
        {
         "name": "Cell_Temperature (C)",
         "rawType": "float64",
         "type": "float"
        }
       ],
       "ref": "39e7d6ce-ecde-46b3-a523-d88bd975c869",
       "rows": [
        [
         "591",
         "1.0",
         "7861.696",
         "-1.625",
         "3.988",
         "0.0",
         "16.328"
        ],
        [
         "592",
         "1.0",
         "7864.129",
         "-1.624",
         "3.978",
         "0.001",
         "16.251"
        ],
        [
         "593",
         "1.0",
         "7870.12",
         "-1.624",
         "3.967",
         "0.003",
         "16.251"
        ],
        [
         "594",
         "1.0",
         "7878.824",
         "-1.625",
         "3.957",
         "0.007",
         "16.251"
        ],
        [
         "595",
         "1.0",
         "7888.839",
         "-1.624",
         "3.948",
         "0.012",
         "16.251"
        ],
        [
         "596",
         "1.0",
         "7898.854",
         "-1.625",
         "3.94",
         "0.016",
         "16.189"
        ],
        [
         "597",
         "1.0",
         "7908.869",
         "-1.624",
         "3.933",
         "0.021",
         "16.328"
        ],
        [
         "598",
         "1.0",
         "7918.884",
         "-1.624",
         "3.927",
         "0.025",
         "16.328"
        ],
        [
         "599",
         "1.0",
         "7928.899",
         "-1.625",
         "3.921",
         "0.03",
         "16.404"
        ],
        [
         "600",
         "1.0",
         "7938.914",
         "-1.625",
         "3.915",
         "0.034",
         "16.404"
        ],
        [
         "601",
         "1.0",
         "7948.929",
         "-1.625",
         "3.91",
         "0.039",
         "16.328"
        ],
        [
         "602",
         "1.0",
         "7958.944",
         "-1.625",
         "3.906",
         "0.043",
         "16.342"
        ],
        [
         "603",
         "1.0",
         "7968.959",
         "-1.625",
         "3.901",
         "0.048",
         "16.328"
        ],
        [
         "604",
         "1.0",
         "7978.974",
         "-1.625",
         "3.897",
         "0.052",
         "16.328"
        ],
        [
         "605",
         "1.0",
         "7988.989",
         "-1.624",
         "3.893",
         "0.057",
         "16.557"
        ],
        [
         "606",
         "1.0",
         "7999.004",
         "-1.625",
         "3.89",
         "0.061",
         "16.466"
        ],
        [
         "607",
         "1.0",
         "8009.019",
         "-1.625",
         "3.886",
         "0.066",
         "16.404"
        ],
        [
         "608",
         "1.0",
         "8019.034",
         "-1.624",
         "3.883",
         "0.071",
         "16.466"
        ],
        [
         "609",
         "1.0",
         "8029.049",
         "-1.624",
         "3.88",
         "0.075",
         "16.404"
        ],
        [
         "610",
         "1.0",
         "8039.064",
         "-1.624",
         "3.877",
         "0.08",
         "16.481"
        ],
        [
         "611",
         "1.0",
         "8049.079",
         "-1.625",
         "3.875",
         "0.084",
         "16.481"
        ],
        [
         "612",
         "1.0",
         "8059.094",
         "-1.624",
         "3.872",
         "0.089",
         "16.466"
        ],
        [
         "613",
         "1.0",
         "8069.109",
         "-1.625",
         "3.87",
         "0.093",
         "16.542"
        ],
        [
         "614",
         "1.0",
         "8079.124",
         "-1.625",
         "3.867",
         "0.098",
         "16.466"
        ],
        [
         "615",
         "1.0",
         "8089.139",
         "-1.625",
         "3.864",
         "0.102",
         "16.542"
        ],
        [
         "616",
         "1.0",
         "8099.154",
         "-1.624",
         "3.862",
         "0.107",
         "16.619"
        ],
        [
         "617",
         "1.0",
         "8109.169",
         "-1.625",
         "3.86",
         "0.111",
         "16.619"
        ],
        [
         "618",
         "1.0",
         "8119.184",
         "-1.624",
         "3.858",
         "0.116",
         "16.664"
        ],
        [
         "619",
         "1.0",
         "8129.199",
         "-1.624",
         "3.855",
         "0.12",
         "16.695"
        ],
        [
         "620",
         "1.0",
         "8139.214",
         "-1.625",
         "3.853",
         "0.125",
         "16.695"
        ],
        [
         "621",
         "1.0",
         "8149.23",
         "-1.625",
         "3.851",
         "0.129",
         "16.633"
        ],
        [
         "622",
         "1.0",
         "8159.244",
         "-1.625",
         "3.849",
         "0.134",
         "16.757"
        ],
        [
         "623",
         "1.0",
         "8169.259",
         "-1.625",
         "3.847",
         "0.138",
         "16.695"
        ],
        [
         "624",
         "1.0",
         "8179.274",
         "-1.624",
         "3.845",
         "0.143",
         "16.772"
        ],
        [
         "625",
         "1.0",
         "8189.29",
         "-1.625",
         "3.843",
         "0.147",
         "16.772"
        ],
        [
         "626",
         "1.0",
         "8199.305",
         "-1.625",
         "3.841",
         "0.152",
         "16.71"
        ],
        [
         "627",
         "1.0",
         "8209.32",
         "-1.625",
         "3.839",
         "0.156",
         "16.772"
        ],
        [
         "628",
         "1.0",
         "8219.335",
         "-1.624",
         "3.837",
         "0.161",
         "16.986"
        ],
        [
         "629",
         "1.0",
         "8229.35",
         "-1.625",
         "3.835",
         "0.165",
         "16.879"
        ],
        [
         "630",
         "1.0",
         "8239.365",
         "-1.625",
         "3.833",
         "0.17",
         "16.924"
        ],
        [
         "631",
         "1.0",
         "8249.38",
         "-1.624",
         "3.831",
         "0.175",
         "16.924"
        ],
        [
         "632",
         "1.0",
         "8259.395",
         "-1.625",
         "3.829",
         "0.179",
         "16.924"
        ],
        [
         "633",
         "1.0",
         "8269.41",
         "-1.625",
         "3.827",
         "0.184",
         "16.863"
        ],
        [
         "634",
         "1.0",
         "8279.425",
         "-1.625",
         "3.825",
         "0.188",
         "16.863"
        ],
        [
         "635",
         "1.0",
         "8289.44",
         "-1.625",
         "3.824",
         "0.193",
         "16.939"
        ],
        [
         "636",
         "1.0",
         "8299.455",
         "-1.624",
         "3.821",
         "0.197",
         "16.939"
        ],
        [
         "637",
         "1.0",
         "8309.47",
         "-1.624",
         "3.82",
         "0.202",
         "16.939"
        ],
        [
         "638",
         "1.0",
         "8319.485",
         "-1.625",
         "3.817",
         "0.206",
         "17.016"
        ],
        [
         "639",
         "1.0",
         "8329.5",
         "-1.624",
         "3.816",
         "0.211",
         "17.092"
        ],
        [
         "640",
         "1.0",
         "8339.515",
         "-1.625",
         "3.814",
         "0.215",
         "16.939"
        ]
       ],
       "shape": {
        "columns": 6,
        "rows": 22372
       }
      },
      "text/html": [
       "<div>\n",
       "<style scoped>\n",
       "    .dataframe tbody tr th:only-of-type {\n",
       "        vertical-align: middle;\n",
       "    }\n",
       "\n",
       "    .dataframe tbody tr th {\n",
       "        vertical-align: top;\n",
       "    }\n",
       "\n",
       "    .dataframe thead th {\n",
       "        text-align: right;\n",
       "    }\n",
       "</style>\n",
       "<table border=\"1\" class=\"dataframe\">\n",
       "  <thead>\n",
       "    <tr style=\"text-align: right;\">\n",
       "      <th></th>\n",
       "      <th>Cycle_Index</th>\n",
       "      <th>Test_Time (s)</th>\n",
       "      <th>Current (A)</th>\n",
       "      <th>Voltage (V)</th>\n",
       "      <th>Discharge_Capacity (Ah)</th>\n",
       "      <th>Cell_Temperature (C)</th>\n",
       "    </tr>\n",
       "  </thead>\n",
       "  <tbody>\n",
       "    <tr>\n",
       "      <th>591</th>\n",
       "      <td>1.0</td>\n",
       "      <td>7861.696</td>\n",
       "      <td>-1.625</td>\n",
       "      <td>3.988</td>\n",
       "      <td>0.000</td>\n",
       "      <td>16.328</td>\n",
       "    </tr>\n",
       "    <tr>\n",
       "      <th>592</th>\n",
       "      <td>1.0</td>\n",
       "      <td>7864.129</td>\n",
       "      <td>-1.624</td>\n",
       "      <td>3.978</td>\n",
       "      <td>0.001</td>\n",
       "      <td>16.251</td>\n",
       "    </tr>\n",
       "    <tr>\n",
       "      <th>593</th>\n",
       "      <td>1.0</td>\n",
       "      <td>7870.120</td>\n",
       "      <td>-1.624</td>\n",
       "      <td>3.967</td>\n",
       "      <td>0.003</td>\n",
       "      <td>16.251</td>\n",
       "    </tr>\n",
       "    <tr>\n",
       "      <th>594</th>\n",
       "      <td>1.0</td>\n",
       "      <td>7878.824</td>\n",
       "      <td>-1.625</td>\n",
       "      <td>3.957</td>\n",
       "      <td>0.007</td>\n",
       "      <td>16.251</td>\n",
       "    </tr>\n",
       "    <tr>\n",
       "      <th>595</th>\n",
       "      <td>1.0</td>\n",
       "      <td>7888.839</td>\n",
       "      <td>-1.624</td>\n",
       "      <td>3.948</td>\n",
       "      <td>0.012</td>\n",
       "      <td>16.251</td>\n",
       "    </tr>\n",
       "    <tr>\n",
       "      <th>...</th>\n",
       "      <td>...</td>\n",
       "      <td>...</td>\n",
       "      <td>...</td>\n",
       "      <td>...</td>\n",
       "      <td>...</td>\n",
       "      <td>...</td>\n",
       "    </tr>\n",
       "    <tr>\n",
       "      <th>59309</th>\n",
       "      <td>521.0</td>\n",
       "      <td>4961896.792</td>\n",
       "      <td>-1.625</td>\n",
       "      <td>2.534</td>\n",
       "      <td>2.271</td>\n",
       "      <td>16.772</td>\n",
       "    </tr>\n",
       "    <tr>\n",
       "      <th>59310</th>\n",
       "      <td>521.0</td>\n",
       "      <td>4961903.531</td>\n",
       "      <td>-1.625</td>\n",
       "      <td>2.524</td>\n",
       "      <td>2.274</td>\n",
       "      <td>16.757</td>\n",
       "    </tr>\n",
       "    <tr>\n",
       "      <th>59311</th>\n",
       "      <td>521.0</td>\n",
       "      <td>4961910.270</td>\n",
       "      <td>-1.625</td>\n",
       "      <td>2.514</td>\n",
       "      <td>2.277</td>\n",
       "      <td>16.772</td>\n",
       "    </tr>\n",
       "    <tr>\n",
       "      <th>59312</th>\n",
       "      <td>521.0</td>\n",
       "      <td>4961916.775</td>\n",
       "      <td>-1.625</td>\n",
       "      <td>2.503</td>\n",
       "      <td>2.280</td>\n",
       "      <td>16.772</td>\n",
       "    </tr>\n",
       "    <tr>\n",
       "      <th>59313</th>\n",
       "      <td>521.0</td>\n",
       "      <td>4961919.209</td>\n",
       "      <td>-1.625</td>\n",
       "      <td>2.499</td>\n",
       "      <td>2.281</td>\n",
       "      <td>16.833</td>\n",
       "    </tr>\n",
       "  </tbody>\n",
       "</table>\n",
       "<p>22372 rows × 6 columns</p>\n",
       "</div>"
      ],
      "text/plain": [
       "       Cycle_Index  Test_Time (s)  Current (A)  Voltage (V)  \\\n",
       "591            1.0       7861.696       -1.625        3.988   \n",
       "592            1.0       7864.129       -1.624        3.978   \n",
       "593            1.0       7870.120       -1.624        3.967   \n",
       "594            1.0       7878.824       -1.625        3.957   \n",
       "595            1.0       7888.839       -1.624        3.948   \n",
       "...            ...            ...          ...          ...   \n",
       "59309        521.0    4961896.792       -1.625        2.534   \n",
       "59310        521.0    4961903.531       -1.625        2.524   \n",
       "59311        521.0    4961910.270       -1.625        2.514   \n",
       "59312        521.0    4961916.775       -1.625        2.503   \n",
       "59313        521.0    4961919.209       -1.625        2.499   \n",
       "\n",
       "       Discharge_Capacity (Ah)  Cell_Temperature (C)  \n",
       "591                      0.000                16.328  \n",
       "592                      0.001                16.251  \n",
       "593                      0.003                16.251  \n",
       "594                      0.007                16.251  \n",
       "595                      0.012                16.251  \n",
       "...                        ...                   ...  \n",
       "59309                    2.271                16.772  \n",
       "59310                    2.274                16.757  \n",
       "59311                    2.277                16.772  \n",
       "59312                    2.280                16.772  \n",
       "59313                    2.281                16.833  \n",
       "\n",
       "[22372 rows x 6 columns]"
      ]
     },
     "metadata": {},
     "output_type": "display_data"
    },
    {
     "data": {
      "application/vnd.microsoft.datawrangler.viewer.v0+json": {
       "columns": [
        {
         "name": "index",
         "rawType": "object",
         "type": "string"
        },
        {
         "name": "Cycle_Index",
         "rawType": "float64",
         "type": "float"
        },
        {
         "name": "Test_Time (s)",
         "rawType": "float64",
         "type": "float"
        },
        {
         "name": "Current (A)",
         "rawType": "float64",
         "type": "float"
        },
        {
         "name": "Voltage (V)",
         "rawType": "float64",
         "type": "float"
        },
        {
         "name": "Discharge_Capacity (Ah)",
         "rawType": "float64",
         "type": "float"
        },
        {
         "name": "Cell_Temperature (C)",
         "rawType": "float64",
         "type": "float"
        }
       ],
       "ref": "7b4f5ba7-ffeb-4f9b-aba4-16a4eacad804",
       "rows": [
        [
         "count",
         "22372.0",
         "22372.0",
         "22372.0",
         "22372.0",
         "22372.0",
         "22372.0"
        ],
        [
         "mean",
         "265.5502860718756",
         "2613360.3173553995",
         "-2.5187898265689257",
         "3.270091766493832",
         "1.2853391292687288",
         "20.02286331128196"
        ],
        [
         "std",
         "160.5861748651731",
         "1523532.4892248835",
         "0.8084905421610507",
         "0.3225908025930589",
         "0.7509018845692884",
         "3.7533848270245773"
        ],
        [
         "min",
         "1.0",
         "7861.696",
         "-3.25",
         "2.499",
         "0.0",
         "15.456"
        ],
        [
         "25%",
         "134.0",
         "1413251.77",
         "-3.25",
         "3.081",
         "0.65",
         "17.322"
        ],
        [
         "50%",
         "261.0",
         "2609102.1385000004",
         "-3.25",
         "3.31",
         "1.3",
         "18.452"
        ],
        [
         "75%",
         "391.0",
         "3803950.26275",
         "-1.625",
         "3.51",
         "1.91",
         "22.696"
        ],
        [
         "max",
         "521.0",
         "4961919.209",
         "-1.624",
         "3.988",
         "5.728",
         "31.904"
        ]
       ],
       "shape": {
        "columns": 6,
        "rows": 8
       }
      },
      "text/html": [
       "<div>\n",
       "<style scoped>\n",
       "    .dataframe tbody tr th:only-of-type {\n",
       "        vertical-align: middle;\n",
       "    }\n",
       "\n",
       "    .dataframe tbody tr th {\n",
       "        vertical-align: top;\n",
       "    }\n",
       "\n",
       "    .dataframe thead th {\n",
       "        text-align: right;\n",
       "    }\n",
       "</style>\n",
       "<table border=\"1\" class=\"dataframe\">\n",
       "  <thead>\n",
       "    <tr style=\"text-align: right;\">\n",
       "      <th></th>\n",
       "      <th>Cycle_Index</th>\n",
       "      <th>Test_Time (s)</th>\n",
       "      <th>Current (A)</th>\n",
       "      <th>Voltage (V)</th>\n",
       "      <th>Discharge_Capacity (Ah)</th>\n",
       "      <th>Cell_Temperature (C)</th>\n",
       "    </tr>\n",
       "  </thead>\n",
       "  <tbody>\n",
       "    <tr>\n",
       "      <th>count</th>\n",
       "      <td>22372.000000</td>\n",
       "      <td>2.237200e+04</td>\n",
       "      <td>22372.000000</td>\n",
       "      <td>22372.000000</td>\n",
       "      <td>22372.000000</td>\n",
       "      <td>22372.000000</td>\n",
       "    </tr>\n",
       "    <tr>\n",
       "      <th>mean</th>\n",
       "      <td>265.550286</td>\n",
       "      <td>2.613360e+06</td>\n",
       "      <td>-2.518790</td>\n",
       "      <td>3.270092</td>\n",
       "      <td>1.285339</td>\n",
       "      <td>20.022863</td>\n",
       "    </tr>\n",
       "    <tr>\n",
       "      <th>std</th>\n",
       "      <td>160.586175</td>\n",
       "      <td>1.523532e+06</td>\n",
       "      <td>0.808491</td>\n",
       "      <td>0.322591</td>\n",
       "      <td>0.750902</td>\n",
       "      <td>3.753385</td>\n",
       "    </tr>\n",
       "    <tr>\n",
       "      <th>min</th>\n",
       "      <td>1.000000</td>\n",
       "      <td>7.861696e+03</td>\n",
       "      <td>-3.250000</td>\n",
       "      <td>2.499000</td>\n",
       "      <td>0.000000</td>\n",
       "      <td>15.456000</td>\n",
       "    </tr>\n",
       "    <tr>\n",
       "      <th>25%</th>\n",
       "      <td>134.000000</td>\n",
       "      <td>1.413252e+06</td>\n",
       "      <td>-3.250000</td>\n",
       "      <td>3.081000</td>\n",
       "      <td>0.650000</td>\n",
       "      <td>17.322000</td>\n",
       "    </tr>\n",
       "    <tr>\n",
       "      <th>50%</th>\n",
       "      <td>261.000000</td>\n",
       "      <td>2.609102e+06</td>\n",
       "      <td>-3.250000</td>\n",
       "      <td>3.310000</td>\n",
       "      <td>1.300000</td>\n",
       "      <td>18.452000</td>\n",
       "    </tr>\n",
       "    <tr>\n",
       "      <th>75%</th>\n",
       "      <td>391.000000</td>\n",
       "      <td>3.803950e+06</td>\n",
       "      <td>-1.625000</td>\n",
       "      <td>3.510000</td>\n",
       "      <td>1.910000</td>\n",
       "      <td>22.696000</td>\n",
       "    </tr>\n",
       "    <tr>\n",
       "      <th>max</th>\n",
       "      <td>521.000000</td>\n",
       "      <td>4.961919e+06</td>\n",
       "      <td>-1.624000</td>\n",
       "      <td>3.988000</td>\n",
       "      <td>5.728000</td>\n",
       "      <td>31.904000</td>\n",
       "    </tr>\n",
       "  </tbody>\n",
       "</table>\n",
       "</div>"
      ],
      "text/plain": [
       "        Cycle_Index  Test_Time (s)   Current (A)   Voltage (V)  \\\n",
       "count  22372.000000   2.237200e+04  22372.000000  22372.000000   \n",
       "mean     265.550286   2.613360e+06     -2.518790      3.270092   \n",
       "std      160.586175   1.523532e+06      0.808491      0.322591   \n",
       "min        1.000000   7.861696e+03     -3.250000      2.499000   \n",
       "25%      134.000000   1.413252e+06     -3.250000      3.081000   \n",
       "50%      261.000000   2.609102e+06     -3.250000      3.310000   \n",
       "75%      391.000000   3.803950e+06     -1.625000      3.510000   \n",
       "max      521.000000   4.961919e+06     -1.624000      3.988000   \n",
       "\n",
       "       Discharge_Capacity (Ah)  Cell_Temperature (C)  \n",
       "count             22372.000000          22372.000000  \n",
       "mean                  1.285339             20.022863  \n",
       "std                   0.750902              3.753385  \n",
       "min                   0.000000             15.456000  \n",
       "25%                   0.650000             17.322000  \n",
       "50%                   1.300000             18.452000  \n",
       "75%                   1.910000             22.696000  \n",
       "max                   5.728000             31.904000  "
      ]
     },
     "metadata": {},
     "output_type": "display_data"
    }
   ],
   "source": [
    "# Header completo:\n",
    "# Date_Time,Test_Time (s),Cycle_Index,Current (A),Voltage (V),Charge_Capacity (Ah),Discharge_Capacity (Ah),Charge_Energy (Wh),Discharge_Energy (Wh),Environment_Temperature (C),Cell_Temperature (C)\n",
    "df = pd.read_csv('../Battery_Archive_Data/SNL NCA/3.20_SNL_18650_NCA_15C_0-100_0.5-1C_a_timeseries.csv')\n",
    "\n",
    "# Apenas features de interesse são mantidas\n",
    "# Obs: Envoironment_Temperature (C) poderia ser relevante, mas tem todos os valores nulos. Então, é removida\n",
    "df = df[[\"Cycle_Index\", \"Test_Time (s)\", \"Current (A)\", \"Voltage (V)\", \"Discharge_Capacity (Ah)\", \"Cell_Temperature (C)\"]]\n",
    "\n",
    "# Mantem apenas as linhas em que a bateria está descarregando, ou seja, corrente < 0\n",
    "df = df[df['Current (A)'] < 0]\n",
    "\n",
    "# Remove valores para Cell_Temperature < 1 (incorretos)\n",
    "#df = df[df['Cell_Temperature (C)'] >= 1]\n",
    "\n",
    "display(df)\n",
    "display(df.describe())"
   ]
  },
  {
   "cell_type": "markdown",
   "metadata": {},
   "source": [
    "## Visualização"
   ]
  },
  {
   "cell_type": "code",
   "execution_count": 3,
   "metadata": {},
   "outputs": [
    {
     "data": {
      "image/png": "[encoded data removed]",
      "text/plain": [
       "<Figure size 1400x800 with 4 Axes>"
      ]
     },
     "metadata": {},
     "output_type": "display_data"
    }
   ],
   "source": [
    "# Lista de features que deseja analisar (exceto \"Cycle_Index\")\n",
    "features = [\"Current (A)\", \"Voltage (V)\", \"Discharge_Capacity (Ah)\", \"Cell_Temperature (C)\"]\n",
    "\n",
    "# Ciclos únicos e ordenados\n",
    "cycles = df[\"Cycle_Index\"].unique()\n",
    "cycles.sort()\n",
    "NumCyclesPlot = 5\n",
    "\n",
    "# Seleciona 'NumCyclesPlot' ciclos igualmente espaçados para plotar\n",
    "if len(cycles) > NumCyclesPlot:\n",
    "    cycles = cycles[::len(cycles)//NumCyclesPlot] # // --> Divisão inteira\n",
    "\n",
    "# Cria os subplots com layout 2x2\n",
    "fig, axs = plt.subplots(2, 2, figsize=(14, 8))\n",
    "axs = axs.flatten()  # Facilita a iteração\n",
    "\n",
    "# Itera sobre cada feature e sobre os ciclos para plotar os dados\n",
    "for i, feature in enumerate(features):\n",
    "    ax = axs[i]\n",
    "    for cycle in cycles:\n",
    "        # Seleciona os dados do ciclo e calcula o tempo relativo\n",
    "        df_cycle = df[df[\"Cycle_Index\"] == cycle].copy()\n",
    "        df_cycle['Tempo_Relativo (s)'] = df_cycle[\"Test_Time (s)\"] - df_cycle[\"Test_Time (s)\"].min()\n",
    "        \n",
    "        # Plota a feature em função do tempo relativo\n",
    "        ax.plot(df_cycle['Tempo_Relativo (s)'], df_cycle[feature], alpha=0.7, label=f'{int(cycle)}', linewidth=2.0)\n",
    "\n",
    "    ax.set_title(f'{feature} ao longo dos ciclos')\n",
    "    ax.set_xlabel('Tempo Relativo (s)')\n",
    "    ax.set_ylabel(feature)\n",
    "    ax.grid(True)\n",
    "    ax.legend(title=\"Ciclo\", loc='best')\n",
    "\n",
    "plt.tight_layout()\n",
    "plt.show()\n"
   ]
  },
  {
   "cell_type": "markdown",
   "metadata": {},
   "source": [
    "## Análise de SOH"
   ]
  },
  {
   "cell_type": "markdown",
   "metadata": {},
   "source": [
    "$$\n",
    "\\text{SOH} = \\frac{\\text{capacidade\\_atual}}{\\text{capacidade\\_inicial}}\n",
    "$$\n",
    "\n",
    "- $CapacidadeInicial$ é a capacidade nominal, a maior considerando todo o histórico da bateria\n",
    "- $CapacidadeAtual$ é a maior capacidade do ciclo"
   ]
  },
  {
   "cell_type": "code",
   "execution_count": 4,
   "metadata": {},
   "outputs": [
    {
     "name": "stdout",
     "output_type": "stream",
     "text": [
      "Capacidade total de descarga: 3.2 Ah\n"
     ]
    },
    {
     "data": {
      "application/vnd.microsoft.datawrangler.viewer.v0+json": {
       "columns": [
        {
         "name": "index",
         "rawType": "int64",
         "type": "integer"
        },
        {
         "name": "Cycle_Index",
         "rawType": "float64",
         "type": "float"
        },
        {
         "name": "Max_Discharge_Capacity",
         "rawType": "float64",
         "type": "float"
        },
        {
         "name": "SOH_discharge",
         "rawType": "float64",
         "type": "float"
        }
       ],
       "ref": "c12c5ed8-b894-4e57-8283-f7e9945bb472",
       "rows": [
        [
         "0",
         "1.0",
         "2.911",
         "0.9096875"
        ],
        [
         "1",
         "2.0",
         "2.902",
         "0.906875"
        ],
        [
         "2",
         "3.0",
         "2.892",
         "0.9037499999999999"
        ],
        [
         "3",
         "4.0",
         "5.728",
         "1.7899999999999998"
        ],
        [
         "4",
         "5.0",
         "2.861",
         "0.8940625"
        ],
        [
         "5",
         "6.0",
         "2.86",
         "0.8937499999999999"
        ],
        [
         "6",
         "7.0",
         "2.857",
         "0.8928125"
        ],
        [
         "7",
         "8.0",
         "2.854",
         "0.891875"
        ],
        [
         "8",
         "9.0",
         "2.852",
         "0.8912499999999999"
        ],
        [
         "9",
         "10.0",
         "2.848",
         "0.8899999999999999"
        ],
        [
         "10",
         "11.0",
         "2.845",
         "0.8890625"
        ],
        [
         "11",
         "12.0",
         "2.843",
         "0.8884375"
        ],
        [
         "12",
         "13.0",
         "2.84",
         "0.8875"
        ],
        [
         "13",
         "14.0",
         "2.837",
         "0.8865625"
        ],
        [
         "14",
         "15.0",
         "2.836",
         "0.8862499999999999"
        ],
        [
         "15",
         "16.0",
         "2.833",
         "0.8853125000000001"
        ],
        [
         "16",
         "17.0",
         "2.831",
         "0.8846875"
        ],
        [
         "17",
         "18.0",
         "2.829",
         "0.8840625"
        ],
        [
         "18",
         "19.0",
         "2.827",
         "0.8834375"
        ],
        [
         "19",
         "20.0",
         "2.825",
         "0.8828125"
        ],
        [
         "20",
         "21.0",
         "2.823",
         "0.8821874999999999"
        ],
        [
         "21",
         "22.0",
         "2.82",
         "0.8812499999999999"
        ],
        [
         "22",
         "23.0",
         "2.819",
         "0.8809374999999999"
        ],
        [
         "23",
         "24.0",
         "2.817",
         "0.8803125"
        ],
        [
         "24",
         "25.0",
         "2.815",
         "0.8796875"
        ],
        [
         "25",
         "26.0",
         "2.814",
         "0.879375"
        ],
        [
         "26",
         "27.0",
         "2.811",
         "0.8784375"
        ],
        [
         "27",
         "28.0",
         "2.808",
         "0.8775"
        ],
        [
         "28",
         "29.0",
         "2.807",
         "0.8771874999999999"
        ],
        [
         "29",
         "30.0",
         "2.804",
         "0.8762499999999999"
        ],
        [
         "30",
         "31.0",
         "2.801",
         "0.8753125"
        ],
        [
         "31",
         "32.0",
         "2.801",
         "0.8753125"
        ],
        [
         "32",
         "33.0",
         "2.797",
         "0.8740625"
        ],
        [
         "33",
         "34.0",
         "2.796",
         "0.8737499999999999"
        ],
        [
         "34",
         "35.0",
         "2.794",
         "0.8731249999999999"
        ],
        [
         "35",
         "36.0",
         "2.791",
         "0.8721874999999999"
        ],
        [
         "36",
         "37.0",
         "2.788",
         "0.8712499999999999"
        ],
        [
         "37",
         "38.0",
         "2.748",
         "0.85875"
        ],
        [
         "38",
         "39.0",
         "2.789",
         "0.8715625"
        ],
        [
         "39",
         "40.0",
         "2.784",
         "0.8699999999999999"
        ],
        [
         "40",
         "41.0",
         "2.781",
         "0.8690625"
        ],
        [
         "41",
         "42.0",
         "2.778",
         "0.8681249999999999"
        ],
        [
         "42",
         "43.0",
         "2.775",
         "0.8671874999999999"
        ],
        [
         "43",
         "44.0",
         "2.773",
         "0.8665625"
        ],
        [
         "44",
         "45.0",
         "2.769",
         "0.8653125"
        ],
        [
         "45",
         "46.0",
         "2.767",
         "0.8646874999999999"
        ],
        [
         "46",
         "47.0",
         "2.764",
         "0.8637499999999999"
        ],
        [
         "47",
         "48.0",
         "2.761",
         "0.8628125"
        ],
        [
         "48",
         "49.0",
         "2.76",
         "0.8624999999999999"
        ],
        [
         "49",
         "50.0",
         "2.756",
         "0.8612499999999998"
        ]
       ],
       "shape": {
        "columns": 3,
        "rows": 518
       }
      },
      "text/html": [
       "<div>\n",
       "<style scoped>\n",
       "    .dataframe tbody tr th:only-of-type {\n",
       "        vertical-align: middle;\n",
       "    }\n",
       "\n",
       "    .dataframe tbody tr th {\n",
       "        vertical-align: top;\n",
       "    }\n",
       "\n",
       "    .dataframe thead th {\n",
       "        text-align: right;\n",
       "    }\n",
       "</style>\n",
       "<table border=\"1\" class=\"dataframe\">\n",
       "  <thead>\n",
       "    <tr style=\"text-align: right;\">\n",
       "      <th></th>\n",
       "      <th>Cycle_Index</th>\n",
       "      <th>Max_Discharge_Capacity</th>\n",
       "      <th>SOH_discharge</th>\n",
       "    </tr>\n",
       "  </thead>\n",
       "  <tbody>\n",
       "    <tr>\n",
       "      <th>0</th>\n",
       "      <td>1.0</td>\n",
       "      <td>2.911</td>\n",
       "      <td>0.909687</td>\n",
       "    </tr>\n",
       "    <tr>\n",
       "      <th>1</th>\n",
       "      <td>2.0</td>\n",
       "      <td>2.902</td>\n",
       "      <td>0.906875</td>\n",
       "    </tr>\n",
       "    <tr>\n",
       "      <th>2</th>\n",
       "      <td>3.0</td>\n",
       "      <td>2.892</td>\n",
       "      <td>0.903750</td>\n",
       "    </tr>\n",
       "    <tr>\n",
       "      <th>3</th>\n",
       "      <td>4.0</td>\n",
       "      <td>5.728</td>\n",
       "      <td>1.790000</td>\n",
       "    </tr>\n",
       "    <tr>\n",
       "      <th>4</th>\n",
       "      <td>5.0</td>\n",
       "      <td>2.861</td>\n",
       "      <td>0.894062</td>\n",
       "    </tr>\n",
       "    <tr>\n",
       "      <th>...</th>\n",
       "      <td>...</td>\n",
       "      <td>...</td>\n",
       "      <td>...</td>\n",
       "    </tr>\n",
       "    <tr>\n",
       "      <th>513</th>\n",
       "      <td>517.0</td>\n",
       "      <td>2.171</td>\n",
       "      <td>0.678437</td>\n",
       "    </tr>\n",
       "    <tr>\n",
       "      <th>514</th>\n",
       "      <td>518.0</td>\n",
       "      <td>2.172</td>\n",
       "      <td>0.678750</td>\n",
       "    </tr>\n",
       "    <tr>\n",
       "      <th>515</th>\n",
       "      <td>519.0</td>\n",
       "      <td>2.296</td>\n",
       "      <td>0.717500</td>\n",
       "    </tr>\n",
       "    <tr>\n",
       "      <th>516</th>\n",
       "      <td>520.0</td>\n",
       "      <td>2.284</td>\n",
       "      <td>0.713750</td>\n",
       "    </tr>\n",
       "    <tr>\n",
       "      <th>517</th>\n",
       "      <td>521.0</td>\n",
       "      <td>2.281</td>\n",
       "      <td>0.712812</td>\n",
       "    </tr>\n",
       "  </tbody>\n",
       "</table>\n",
       "<p>518 rows × 3 columns</p>\n",
       "</div>"
      ],
      "text/plain": [
       "     Cycle_Index  Max_Discharge_Capacity  SOH_discharge\n",
       "0            1.0                   2.911       0.909687\n",
       "1            2.0                   2.902       0.906875\n",
       "2            3.0                   2.892       0.903750\n",
       "3            4.0                   5.728       1.790000\n",
       "4            5.0                   2.861       0.894062\n",
       "..           ...                     ...            ...\n",
       "513        517.0                   2.171       0.678437\n",
       "514        518.0                   2.172       0.678750\n",
       "515        519.0                   2.296       0.717500\n",
       "516        520.0                   2.284       0.713750\n",
       "517        521.0                   2.281       0.712812\n",
       "\n",
       "[518 rows x 3 columns]"
      ]
     },
     "metadata": {},
     "output_type": "display_data"
    }
   ],
   "source": [
    "# Capacidade nominal (máxima global)\n",
    "nominal_capacity = 3.20 #df['Discharge_Capacity (Ah)'].max()\n",
    "print(f'Capacidade total de descarga: {nominal_capacity} Ah')\n",
    "\n",
    "# Para cada ciclo, extrai a maior capacidade \n",
    "# (cycles_capacity é uma série do Pandas)\n",
    "cycles_capacity = df.groupby('Cycle_Index')['Discharge_Capacity (Ah)'].max()\n",
    "cycles_capacity = cycles_capacity.reset_index() # transforma em dataframe\n",
    "cycles_capacity.columns = ['Cycle_Index', 'Max_Discharge_Capacity']\n",
    "cycles_capacity['SOH_discharge'] = (cycles_capacity['Max_Discharge_Capacity'] / nominal_capacity)\n",
    "display(cycles_capacity)"
   ]
  },
  {
   "cell_type": "code",
   "execution_count": 5,
   "metadata": {},
   "outputs": [
    {
     "data": {
      "application/vnd.microsoft.datawrangler.viewer.v0+json": {
       "columns": [
        {
         "name": "index",
         "rawType": "int64",
         "type": "integer"
        },
        {
         "name": "Cycle_Index",
         "rawType": "float64",
         "type": "float"
        },
        {
         "name": "Cell_Temperature (C)",
         "rawType": "float64",
         "type": "float"
        },
        {
         "name": "SOH_discharge",
         "rawType": "float64",
         "type": "float"
        }
       ],
       "ref": "2194a3fd-3b91-4324-922c-4d80725417af",
       "rows": [
        [
         "0",
         "1.0",
         "18.283589861751153",
         "0.9096875"
        ],
        [
         "1",
         "2.0",
         "18.301324116743473",
         "0.906875"
        ],
        [
         "2",
         "3.0",
         "18.27302157164869",
         "0.9037499999999999"
        ],
        [
         "3",
         "4.0",
         "23.49844537815126",
         "1.7899999999999998"
        ],
        [
         "4",
         "5.0",
         "23.67085185185185",
         "0.8940625"
        ],
        [
         "5",
         "6.0",
         "23.69062962962963",
         "0.8937499999999999"
        ],
        [
         "6",
         "7.0",
         "23.644185185185187",
         "0.8928125"
        ],
        [
         "7",
         "8.0",
         "23.61685185185185",
         "0.891875"
        ],
        [
         "8",
         "9.0",
         "23.598407407407407",
         "0.8912499999999999"
        ],
        [
         "9",
         "10.0",
         "23.567037037037036",
         "0.8899999999999999"
        ],
        [
         "10",
         "11.0",
         "23.589185185185187",
         "0.8890625"
        ],
        [
         "11",
         "12.0",
         "23.57485185185185",
         "0.8884375"
        ],
        [
         "12",
         "13.0",
         "23.620851851851853",
         "0.8875"
        ],
        [
         "13",
         "14.0",
         "23.529740740740742",
         "0.8865625"
        ],
        [
         "14",
         "15.0",
         "23.555407407407408",
         "0.8862499999999999"
        ],
        [
         "15",
         "16.0",
         "23.554888888888886",
         "0.8853125000000001"
        ],
        [
         "16",
         "17.0",
         "23.562074074074076",
         "0.8846875"
        ],
        [
         "17",
         "18.0",
         "23.54414814814815",
         "0.8840625"
        ],
        [
         "18",
         "19.0",
         "23.534814814814816",
         "0.8834375"
        ],
        [
         "19",
         "20.0",
         "23.51896296296296",
         "0.8828125"
        ],
        [
         "20",
         "21.0",
         "23.500851851851852",
         "0.8821874999999999"
        ],
        [
         "21",
         "22.0",
         "23.50162962962963",
         "0.8812499999999999"
        ],
        [
         "22",
         "23.0",
         "23.55074074074074",
         "0.8809374999999999"
        ],
        [
         "23",
         "24.0",
         "23.586555555555556",
         "0.8803125"
        ],
        [
         "24",
         "25.0",
         "23.269461538461538",
         "0.8796875"
        ],
        [
         "25",
         "26.0",
         "23.25280769230769",
         "0.879375"
        ],
        [
         "26",
         "27.0",
         "23.316615384615382",
         "0.8784375"
        ],
        [
         "27",
         "28.0",
         "23.314692307692308",
         "0.8775"
        ],
        [
         "28",
         "29.0",
         "23.324846153846156",
         "0.8771874999999999"
        ],
        [
         "29",
         "30.0",
         "23.333346153846154",
         "0.8762499999999999"
        ],
        [
         "30",
         "31.0",
         "23.335115384615385",
         "0.8753125"
        ],
        [
         "31",
         "32.0",
         "23.40334615384615",
         "0.8753125"
        ],
        [
         "32",
         "33.0",
         "23.393730769230768",
         "0.8740625"
        ],
        [
         "33",
         "34.0",
         "23.394961538461537",
         "0.8737499999999999"
        ],
        [
         "34",
         "35.0",
         "23.376076923076923",
         "0.8731249999999999"
        ],
        [
         "35",
         "36.0",
         "23.453346153846155",
         "0.8721874999999999"
        ],
        [
         "36",
         "37.0",
         "23.45826923076923",
         "0.8712499999999999"
        ],
        [
         "37",
         "38.0",
         "21.770884615384617",
         "0.85875"
        ],
        [
         "38",
         "39.0",
         "23.398115384615384",
         "0.8715625"
        ],
        [
         "39",
         "40.0",
         "23.39134615384615",
         "0.8699999999999999"
        ],
        [
         "40",
         "41.0",
         "23.371615384615385",
         "0.8690625"
        ],
        [
         "41",
         "42.0",
         "23.470346153846155",
         "0.8681249999999999"
        ],
        [
         "42",
         "43.0",
         "23.47673076923077",
         "0.8671874999999999"
        ],
        [
         "43",
         "44.0",
         "23.452384615384613",
         "0.8665625"
        ],
        [
         "44",
         "45.0",
         "23.38053846153846",
         "0.8653125"
        ],
        [
         "45",
         "46.0",
         "23.389423076923077",
         "0.8646874999999999"
        ],
        [
         "46",
         "47.0",
         "23.41923076923077",
         "0.8637499999999999"
        ],
        [
         "47",
         "48.0",
         "23.45380769230769",
         "0.8628125"
        ],
        [
         "48",
         "49.0",
         "23.446307692307695",
         "0.8624999999999999"
        ],
        [
         "49",
         "50.0",
         "23.46026923076923",
         "0.8612499999999998"
        ]
       ],
       "shape": {
        "columns": 3,
        "rows": 518
       }
      },
      "text/html": [
       "<div>\n",
       "<style scoped>\n",
       "    .dataframe tbody tr th:only-of-type {\n",
       "        vertical-align: middle;\n",
       "    }\n",
       "\n",
       "    .dataframe tbody tr th {\n",
       "        vertical-align: top;\n",
       "    }\n",
       "\n",
       "    .dataframe thead th {\n",
       "        text-align: right;\n",
       "    }\n",
       "</style>\n",
       "<table border=\"1\" class=\"dataframe\">\n",
       "  <thead>\n",
       "    <tr style=\"text-align: right;\">\n",
       "      <th></th>\n",
       "      <th>Cycle_Index</th>\n",
       "      <th>Cell_Temperature (C)</th>\n",
       "      <th>SOH_discharge</th>\n",
       "    </tr>\n",
       "  </thead>\n",
       "  <tbody>\n",
       "    <tr>\n",
       "      <th>0</th>\n",
       "      <td>1.0</td>\n",
       "      <td>18.283590</td>\n",
       "      <td>0.909687</td>\n",
       "    </tr>\n",
       "    <tr>\n",
       "      <th>1</th>\n",
       "      <td>2.0</td>\n",
       "      <td>18.301324</td>\n",
       "      <td>0.906875</td>\n",
       "    </tr>\n",
       "    <tr>\n",
       "      <th>2</th>\n",
       "      <td>3.0</td>\n",
       "      <td>18.273022</td>\n",
       "      <td>0.903750</td>\n",
       "    </tr>\n",
       "    <tr>\n",
       "      <th>3</th>\n",
       "      <td>4.0</td>\n",
       "      <td>23.498445</td>\n",
       "      <td>1.790000</td>\n",
       "    </tr>\n",
       "    <tr>\n",
       "      <th>4</th>\n",
       "      <td>5.0</td>\n",
       "      <td>23.670852</td>\n",
       "      <td>0.894062</td>\n",
       "    </tr>\n",
       "    <tr>\n",
       "      <th>...</th>\n",
       "      <td>...</td>\n",
       "      <td>...</td>\n",
       "      <td>...</td>\n",
       "    </tr>\n",
       "    <tr>\n",
       "      <th>513</th>\n",
       "      <td>517.0</td>\n",
       "      <td>17.267905</td>\n",
       "      <td>0.678437</td>\n",
       "    </tr>\n",
       "    <tr>\n",
       "      <th>514</th>\n",
       "      <td>518.0</td>\n",
       "      <td>17.272429</td>\n",
       "      <td>0.678750</td>\n",
       "    </tr>\n",
       "    <tr>\n",
       "      <th>515</th>\n",
       "      <td>519.0</td>\n",
       "      <td>16.076504</td>\n",
       "      <td>0.717500</td>\n",
       "    </tr>\n",
       "    <tr>\n",
       "      <th>516</th>\n",
       "      <td>520.0</td>\n",
       "      <td>16.044078</td>\n",
       "      <td>0.713750</td>\n",
       "    </tr>\n",
       "    <tr>\n",
       "      <th>517</th>\n",
       "      <td>521.0</td>\n",
       "      <td>16.048810</td>\n",
       "      <td>0.712812</td>\n",
       "    </tr>\n",
       "  </tbody>\n",
       "</table>\n",
       "<p>518 rows × 3 columns</p>\n",
       "</div>"
      ],
      "text/plain": [
       "     Cycle_Index  Cell_Temperature (C)  SOH_discharge\n",
       "0            1.0             18.283590       0.909687\n",
       "1            2.0             18.301324       0.906875\n",
       "2            3.0             18.273022       0.903750\n",
       "3            4.0             23.498445       1.790000\n",
       "4            5.0             23.670852       0.894062\n",
       "..           ...                   ...            ...\n",
       "513        517.0             17.267905       0.678437\n",
       "514        518.0             17.272429       0.678750\n",
       "515        519.0             16.076504       0.717500\n",
       "516        520.0             16.044078       0.713750\n",
       "517        521.0             16.048810       0.712812\n",
       "\n",
       "[518 rows x 3 columns]"
      ]
     },
     "metadata": {},
     "output_type": "display_data"
    },
    {
     "data": {
      "application/vnd.microsoft.datawrangler.viewer.v0+json": {
       "columns": [
        {
         "name": "index",
         "rawType": "object",
         "type": "string"
        },
        {
         "name": "Cycle_Index",
         "rawType": "float64",
         "type": "float"
        },
        {
         "name": "Cell_Temperature (C)",
         "rawType": "float64",
         "type": "float"
        },
        {
         "name": "SOH_discharge",
         "rawType": "float64",
         "type": "float"
        }
       ],
       "ref": "b683bee5-b895-42bb-ab6f-6f074a851cef",
       "rows": [
        [
         "count",
         "518.0",
         "518.0",
         "518.0"
        ],
        [
         "mean",
         "260.7644787644788",
         "21.13957203274939",
         "0.7613809121621623"
        ],
        [
         "std",
         "150.8731855461592",
         "3.548585091794664",
         "0.08758046919673373"
        ],
        [
         "min",
         "1.0",
         "16.044077669902915",
         "0.6775"
        ],
        [
         "25%",
         "130.25",
         "17.215630952380952",
         "0.7088281249999999"
        ],
        [
         "50%",
         "261.5",
         "23.55303",
         "0.7428124999999999"
        ],
        [
         "75%",
         "391.75",
         "24.181416666666667",
         "0.7952343749999999"
        ],
        [
         "max",
         "521.0",
         "24.87095652173913",
         "1.7899999999999998"
        ]
       ],
       "shape": {
        "columns": 3,
        "rows": 8
       }
      },
      "text/html": [
       "<div>\n",
       "<style scoped>\n",
       "    .dataframe tbody tr th:only-of-type {\n",
       "        vertical-align: middle;\n",
       "    }\n",
       "\n",
       "    .dataframe tbody tr th {\n",
       "        vertical-align: top;\n",
       "    }\n",
       "\n",
       "    .dataframe thead th {\n",
       "        text-align: right;\n",
       "    }\n",
       "</style>\n",
       "<table border=\"1\" class=\"dataframe\">\n",
       "  <thead>\n",
       "    <tr style=\"text-align: right;\">\n",
       "      <th></th>\n",
       "      <th>Cycle_Index</th>\n",
       "      <th>Cell_Temperature (C)</th>\n",
       "      <th>SOH_discharge</th>\n",
       "    </tr>\n",
       "  </thead>\n",
       "  <tbody>\n",
       "    <tr>\n",
       "      <th>count</th>\n",
       "      <td>518.000000</td>\n",
       "      <td>518.000000</td>\n",
       "      <td>518.000000</td>\n",
       "    </tr>\n",
       "    <tr>\n",
       "      <th>mean</th>\n",
       "      <td>260.764479</td>\n",
       "      <td>21.139572</td>\n",
       "      <td>0.761381</td>\n",
       "    </tr>\n",
       "    <tr>\n",
       "      <th>std</th>\n",
       "      <td>150.873186</td>\n",
       "      <td>3.548585</td>\n",
       "      <td>0.087580</td>\n",
       "    </tr>\n",
       "    <tr>\n",
       "      <th>min</th>\n",
       "      <td>1.000000</td>\n",
       "      <td>16.044078</td>\n",
       "      <td>0.677500</td>\n",
       "    </tr>\n",
       "    <tr>\n",
       "      <th>25%</th>\n",
       "      <td>130.250000</td>\n",
       "      <td>17.215631</td>\n",
       "      <td>0.708828</td>\n",
       "    </tr>\n",
       "    <tr>\n",
       "      <th>50%</th>\n",
       "      <td>261.500000</td>\n",
       "      <td>23.553030</td>\n",
       "      <td>0.742812</td>\n",
       "    </tr>\n",
       "    <tr>\n",
       "      <th>75%</th>\n",
       "      <td>391.750000</td>\n",
       "      <td>24.181417</td>\n",
       "      <td>0.795234</td>\n",
       "    </tr>\n",
       "    <tr>\n",
       "      <th>max</th>\n",
       "      <td>521.000000</td>\n",
       "      <td>24.870957</td>\n",
       "      <td>1.790000</td>\n",
       "    </tr>\n",
       "  </tbody>\n",
       "</table>\n",
       "</div>"
      ],
      "text/plain": [
       "       Cycle_Index  Cell_Temperature (C)  SOH_discharge\n",
       "count   518.000000            518.000000     518.000000\n",
       "mean    260.764479             21.139572       0.761381\n",
       "std     150.873186              3.548585       0.087580\n",
       "min       1.000000             16.044078       0.677500\n",
       "25%     130.250000             17.215631       0.708828\n",
       "50%     261.500000             23.553030       0.742812\n",
       "75%     391.750000             24.181417       0.795234\n",
       "max     521.000000             24.870957       1.790000"
      ]
     },
     "metadata": {},
     "output_type": "display_data"
    }
   ],
   "source": [
    "# Seleciona as features de interesse e agrupa por ciclo\n",
    "df_grouped = df[['Cycle_Index', 'Cell_Temperature (C)']]\n",
    "df_grouped = df_grouped.groupby('Cycle_Index', as_index=False).mean() # Média será usada para a temperatura\n",
    "\n",
    "# Adição do SOH calculado em ciclos_capacity\n",
    "df_grouped['SOH_discharge'] = cycles_capacity['SOH_discharge']\n",
    "\n",
    "display(df_grouped)\n",
    "display(df_grouped.describe())"
   ]
  },
  {
   "cell_type": "markdown",
   "metadata": {},
   "source": [
    "### Outliers"
   ]
  },
  {
   "cell_type": "code",
   "execution_count": 6,
   "metadata": {},
   "outputs": [],
   "source": [
    "# Técnica estatística para identificar outliers em um conjunto de dados, calculando o intervalo entre o primeiro quartil (Q1) e o terceiro quartil (Q3), e usando para definir limites superiores e inferiores. Outliers são definidos como pontos que caem abaixo de Q1 - 1.5 * IQR ou acima de Q3 + 1.5 * IQR. Este método é robusto contra a não normalidade dos dados, sendo útil para distribuições assimétricas.\n",
    "def rmv_outliers_iqr(df: pd.DataFrame, column_name: str) -> pd.DataFrame:\n",
    "    # Calculate the first and third quartiles\n",
    "    Q1 = df[column_name].quantile(0.25)\n",
    "    Q3 = df[column_name].quantile(0.75)\n",
    "    \n",
    "    # Calculate the Interquartile Range (IQR)\n",
    "    IQR = Q3 - Q1\n",
    "    \n",
    "    # Define the lower and upper bounds for outliers\n",
    "    lower_bound = Q1 - 1.5 * IQR\n",
    "    upper_bound = Q3 + 1.5 * IQR\n",
    "    \n",
    "    # Filter the DataFrame to keep only the values within the bounds\n",
    "    filtered_df = df[(df[column_name] >= lower_bound) & (df[column_name] <= upper_bound)]\n",
    "    \n",
    "    return filtered_df"
   ]
  },
  {
   "cell_type": "code",
   "execution_count": 7,
   "metadata": {},
   "outputs": [],
   "source": [
    "# Algoritmo de machine learning não supervisionado usado para detecção de anomalias, que identifica outliers isolando-os a partir de partições aleatórias em um conjunto de árvores de decisão\n",
    "def rmv_outliers_isolation_forest(df: pd.DataFrame, column_name: str, contamin='auto') -> pd.DataFrame:\n",
    "    model = IsolationForest(contamination=contamin, random_state=123)\n",
    "    \n",
    "    # Fit the model and predict outliers. The data needs to be reshaped to a 2D array.\n",
    "    predictions = model.fit_predict(df[[column_name]].values)\n",
    "    \n",
    "    # Filter the DataFrame to keep only the inliers (predictions == 1)\n",
    "    filtered_df = df[predictions == 1]\n",
    "    \n",
    "    return filtered_df"
   ]
  },
  {
   "cell_type": "code",
   "execution_count": 8,
   "metadata": {},
   "outputs": [],
   "source": [
    "def rmv_outliers_zscore(df: pd.DataFrame, column_name: str, threshold: float = 3.0) -> pd.DataFrame:\n",
    "    # Calculate the Z-scores of the column\n",
    "    z_scores = np.abs(zscore(df[column_name]))\n",
    "    \n",
    "    # Create a boolean mask to filter out outliers\n",
    "    inlier_mask = z_scores <= threshold\n",
    "    \n",
    "    # Filter the DataFrame to keep only the inliers\n",
    "    filtered_df = df[inlier_mask]\n",
    "    \n",
    "    return filtered_df"
   ]
  },
  {
   "cell_type": "code",
   "execution_count": 9,
   "metadata": {},
   "outputs": [],
   "source": [
    "def ensure_non_increasing(df: pd.DataFrame, column_name: str) -> pd.DataFrame:\n",
    "    # Create a boolean mask where True indicates a valid decreasing or equal step\n",
    "    is_decreasing = df[column_name].diff().fillna(-1) <= 0\n",
    "    \n",
    "    # Filter the DataFrame to keep only the monotonic values\n",
    "    filtered_df = df[is_decreasing]\n",
    "    \n",
    "    return filtered_df"
   ]
  },
  {
   "cell_type": "code",
   "execution_count": 10,
   "metadata": {},
   "outputs": [],
   "source": [
    "def rmv_sharp_jump(df: pd.DataFrame, column_name: str, threshold: float, repeat=1) -> pd.DataFrame:\n",
    "    for _ in range(repeat):\n",
    "        # diff -> a diferença entre os valores consecutivos\n",
    "        # abs -> o valor absoluto para tratar subidas e quedas\n",
    "        # shift(-1) -> para que a diferença seja aplicada ao ponto de origem do salto\n",
    "        # fillna(0) -> trata o último valor (que é NaN após o shift) com 0 para que ele seja mantido\n",
    "        shifted_diff = df[column_name].diff().abs().shift(-1).fillna(0)\n",
    "        \n",
    "        is_not_sharp_jump = shifted_diff <= threshold\n",
    "        df = df[is_not_sharp_jump]\n",
    "    \n",
    "    return df"
   ]
  },
  {
   "cell_type": "code",
   "execution_count": 11,
   "metadata": {},
   "outputs": [
    {
     "data": {
      "application/vnd.microsoft.datawrangler.viewer.v0+json": {
       "columns": [
        {
         "name": "index",
         "rawType": "int64",
         "type": "integer"
        },
        {
         "name": "Cycle_Index",
         "rawType": "float64",
         "type": "float"
        },
        {
         "name": "Cell_Temperature (C)",
         "rawType": "float64",
         "type": "float"
        },
        {
         "name": "SOH_discharge",
         "rawType": "float64",
         "type": "float"
        }
       ],
       "ref": "ab7714be-9019-4304-86b0-bbc45a3f2d93",
       "rows": [
        [
         "0",
         "1.0",
         "18.283589861751153",
         "0.9096875"
        ],
        [
         "1",
         "2.0",
         "18.301324116743473",
         "0.906875"
        ],
        [
         "2",
         "3.0",
         "18.27302157164869",
         "0.9037499999999999"
        ],
        [
         "3",
         "4.0",
         "23.49844537815126",
         "1.7899999999999998"
        ],
        [
         "4",
         "5.0",
         "23.67085185185185",
         "0.8940625"
        ],
        [
         "5",
         "6.0",
         "23.69062962962963",
         "0.8937499999999999"
        ],
        [
         "6",
         "7.0",
         "23.644185185185187",
         "0.8928125"
        ],
        [
         "7",
         "8.0",
         "23.61685185185185",
         "0.891875"
        ],
        [
         "8",
         "9.0",
         "23.598407407407407",
         "0.8912499999999999"
        ],
        [
         "9",
         "10.0",
         "23.567037037037036",
         "0.8899999999999999"
        ],
        [
         "10",
         "11.0",
         "23.589185185185187",
         "0.8890625"
        ],
        [
         "11",
         "12.0",
         "23.57485185185185",
         "0.8884375"
        ],
        [
         "12",
         "13.0",
         "23.620851851851853",
         "0.8875"
        ],
        [
         "13",
         "14.0",
         "23.529740740740742",
         "0.8865625"
        ],
        [
         "14",
         "15.0",
         "23.555407407407408",
         "0.8862499999999999"
        ],
        [
         "15",
         "16.0",
         "23.554888888888886",
         "0.8853125000000001"
        ],
        [
         "16",
         "17.0",
         "23.562074074074076",
         "0.8846875"
        ],
        [
         "17",
         "18.0",
         "23.54414814814815",
         "0.8840625"
        ],
        [
         "18",
         "19.0",
         "23.534814814814816",
         "0.8834375"
        ],
        [
         "19",
         "20.0",
         "23.51896296296296",
         "0.8828125"
        ],
        [
         "20",
         "21.0",
         "23.500851851851852",
         "0.8821874999999999"
        ],
        [
         "21",
         "22.0",
         "23.50162962962963",
         "0.8812499999999999"
        ],
        [
         "22",
         "23.0",
         "23.55074074074074",
         "0.8809374999999999"
        ],
        [
         "23",
         "24.0",
         "23.586555555555556",
         "0.8803125"
        ],
        [
         "24",
         "25.0",
         "23.269461538461538",
         "0.8796875"
        ],
        [
         "25",
         "26.0",
         "23.25280769230769",
         "0.879375"
        ],
        [
         "26",
         "27.0",
         "23.316615384615382",
         "0.8784375"
        ],
        [
         "27",
         "28.0",
         "23.314692307692308",
         "0.8775"
        ],
        [
         "28",
         "29.0",
         "23.324846153846156",
         "0.8771874999999999"
        ],
        [
         "29",
         "30.0",
         "23.333346153846154",
         "0.8762499999999999"
        ],
        [
         "30",
         "31.0",
         "23.335115384615385",
         "0.8753125"
        ],
        [
         "31",
         "32.0",
         "23.40334615384615",
         "0.8753125"
        ],
        [
         "32",
         "33.0",
         "23.393730769230768",
         "0.8740625"
        ],
        [
         "33",
         "34.0",
         "23.394961538461537",
         "0.8737499999999999"
        ],
        [
         "34",
         "35.0",
         "23.376076923076923",
         "0.8731249999999999"
        ],
        [
         "35",
         "36.0",
         "23.453346153846155",
         "0.8721874999999999"
        ],
        [
         "36",
         "37.0",
         "23.45826923076923",
         "0.8712499999999999"
        ],
        [
         "37",
         "38.0",
         "21.770884615384617",
         "0.85875"
        ],
        [
         "38",
         "39.0",
         "23.398115384615384",
         "0.8715625"
        ],
        [
         "39",
         "40.0",
         "23.39134615384615",
         "0.8699999999999999"
        ],
        [
         "40",
         "41.0",
         "23.371615384615385",
         "0.8690625"
        ],
        [
         "41",
         "42.0",
         "23.470346153846155",
         "0.8681249999999999"
        ],
        [
         "42",
         "43.0",
         "23.47673076923077",
         "0.8671874999999999"
        ],
        [
         "43",
         "44.0",
         "23.452384615384613",
         "0.8665625"
        ],
        [
         "44",
         "45.0",
         "23.38053846153846",
         "0.8653125"
        ],
        [
         "45",
         "46.0",
         "23.389423076923077",
         "0.8646874999999999"
        ],
        [
         "46",
         "47.0",
         "23.41923076923077",
         "0.8637499999999999"
        ],
        [
         "47",
         "48.0",
         "23.45380769230769",
         "0.8628125"
        ],
        [
         "48",
         "49.0",
         "23.446307692307695",
         "0.8624999999999999"
        ],
        [
         "49",
         "50.0",
         "23.46026923076923",
         "0.8612499999999998"
        ]
       ],
       "shape": {
        "columns": 3,
        "rows": 518
       }
      },
      "text/html": [
       "<div>\n",
       "<style scoped>\n",
       "    .dataframe tbody tr th:only-of-type {\n",
       "        vertical-align: middle;\n",
       "    }\n",
       "\n",
       "    .dataframe tbody tr th {\n",
       "        vertical-align: top;\n",
       "    }\n",
       "\n",
       "    .dataframe thead th {\n",
       "        text-align: right;\n",
       "    }\n",
       "</style>\n",
       "<table border=\"1\" class=\"dataframe\">\n",
       "  <thead>\n",
       "    <tr style=\"text-align: right;\">\n",
       "      <th></th>\n",
       "      <th>Cycle_Index</th>\n",
       "      <th>Cell_Temperature (C)</th>\n",
       "      <th>SOH_discharge</th>\n",
       "    </tr>\n",
       "  </thead>\n",
       "  <tbody>\n",
       "    <tr>\n",
       "      <th>0</th>\n",
       "      <td>1.0</td>\n",
       "      <td>18.283590</td>\n",
       "      <td>0.909687</td>\n",
       "    </tr>\n",
       "    <tr>\n",
       "      <th>1</th>\n",
       "      <td>2.0</td>\n",
       "      <td>18.301324</td>\n",
       "      <td>0.906875</td>\n",
       "    </tr>\n",
       "    <tr>\n",
       "      <th>2</th>\n",
       "      <td>3.0</td>\n",
       "      <td>18.273022</td>\n",
       "      <td>0.903750</td>\n",
       "    </tr>\n",
       "    <tr>\n",
       "      <th>3</th>\n",
       "      <td>4.0</td>\n",
       "      <td>23.498445</td>\n",
       "      <td>1.790000</td>\n",
       "    </tr>\n",
       "    <tr>\n",
       "      <th>4</th>\n",
       "      <td>5.0</td>\n",
       "      <td>23.670852</td>\n",
       "      <td>0.894062</td>\n",
       "    </tr>\n",
       "    <tr>\n",
       "      <th>...</th>\n",
       "      <td>...</td>\n",
       "      <td>...</td>\n",
       "      <td>...</td>\n",
       "    </tr>\n",
       "    <tr>\n",
       "      <th>513</th>\n",
       "      <td>517.0</td>\n",
       "      <td>17.267905</td>\n",
       "      <td>0.678437</td>\n",
       "    </tr>\n",
       "    <tr>\n",
       "      <th>514</th>\n",
       "      <td>518.0</td>\n",
       "      <td>17.272429</td>\n",
       "      <td>0.678750</td>\n",
       "    </tr>\n",
       "    <tr>\n",
       "      <th>515</th>\n",
       "      <td>519.0</td>\n",
       "      <td>16.076504</td>\n",
       "      <td>0.717500</td>\n",
       "    </tr>\n",
       "    <tr>\n",
       "      <th>516</th>\n",
       "      <td>520.0</td>\n",
       "      <td>16.044078</td>\n",
       "      <td>0.713750</td>\n",
       "    </tr>\n",
       "    <tr>\n",
       "      <th>517</th>\n",
       "      <td>521.0</td>\n",
       "      <td>16.048810</td>\n",
       "      <td>0.712812</td>\n",
       "    </tr>\n",
       "  </tbody>\n",
       "</table>\n",
       "<p>518 rows × 3 columns</p>\n",
       "</div>"
      ],
      "text/plain": [
       "     Cycle_Index  Cell_Temperature (C)  SOH_discharge\n",
       "0            1.0             18.283590       0.909687\n",
       "1            2.0             18.301324       0.906875\n",
       "2            3.0             18.273022       0.903750\n",
       "3            4.0             23.498445       1.790000\n",
       "4            5.0             23.670852       0.894062\n",
       "..           ...                   ...            ...\n",
       "513        517.0             17.267905       0.678437\n",
       "514        518.0             17.272429       0.678750\n",
       "515        519.0             16.076504       0.717500\n",
       "516        520.0             16.044078       0.713750\n",
       "517        521.0             16.048810       0.712812\n",
       "\n",
       "[518 rows x 3 columns]"
      ]
     },
     "metadata": {},
     "output_type": "display_data"
    },
    {
     "data": {
      "application/vnd.microsoft.datawrangler.viewer.v0+json": {
       "columns": [
        {
         "name": "index",
         "rawType": "int64",
         "type": "integer"
        },
        {
         "name": "Cycle_Index",
         "rawType": "float64",
         "type": "float"
        },
        {
         "name": "Cell_Temperature (C)",
         "rawType": "float64",
         "type": "float"
        },
        {
         "name": "SOH_discharge",
         "rawType": "float64",
         "type": "float"
        }
       ],
       "ref": "cce1ff66-ce6b-4f4d-9395-89bdbd5280a7",
       "rows": [
        [
         "165",
         "166.0",
         "24.445608695652176",
         "0.7703125"
        ],
        [
         "166",
         "167.0",
         "24.430347826086958",
         "0.7699999999999999"
        ],
        [
         "167",
         "168.0",
         "24.429739130434783",
         "0.7696875"
        ],
        [
         "168",
         "169.0",
         "24.452521739130436",
         "0.7690624999999999"
        ],
        [
         "169",
         "170.0",
         "24.512217391304347",
         "0.7687499999999999"
        ],
        [
         "170",
         "171.0",
         "24.492826086956523",
         "0.7684375"
        ],
        [
         "171",
         "172.0",
         "24.46313043478261",
         "0.7678124999999999"
        ],
        [
         "172",
         "173.0",
         "24.464826086956524",
         "0.7671875"
        ],
        [
         "173",
         "174.0",
         "24.42895652173913",
         "0.7665624999999999"
        ],
        [
         "174",
         "175.0",
         "24.44195652173913",
         "0.76625"
        ],
        [
         "175",
         "176.0",
         "24.472565217391306",
         "0.7653125"
        ],
        [
         "176",
         "177.0",
         "24.491478260869563",
         "0.7646875"
        ],
        [
         "177",
         "178.0",
         "24.436695652173913",
         "0.7640624999999999"
        ],
        [
         "178",
         "179.0",
         "24.45004347826087",
         "0.7637499999999999"
        ],
        [
         "179",
         "180.0",
         "24.407739130434784",
         "0.7628124999999999"
        ],
        [
         "180",
         "181.0",
         "24.438739130434783",
         "0.7625"
        ],
        [
         "181",
         "182.0",
         "24.47473913043478",
         "0.7621875"
        ],
        [
         "182",
         "183.0",
         "24.504391304347827",
         "0.7615624999999999"
        ],
        [
         "183",
         "184.0",
         "24.533478260869565",
         "0.76125"
        ],
        [
         "184",
         "185.0",
         "24.513956521739132",
         "0.7609374999999999"
        ],
        [
         "185",
         "186.0",
         "24.53582608695652",
         "0.760625"
        ],
        [
         "186",
         "187.0",
         "24.496434782608695",
         "0.7599999999999999"
        ],
        [
         "187",
         "188.0",
         "24.502999999999997",
         "0.759375"
        ],
        [
         "188",
         "189.0",
         "24.557478260869566",
         "0.7590624999999999"
        ],
        [
         "189",
         "190.0",
         "24.56865217391304",
         "0.758125"
        ],
        [
         "190",
         "191.0",
         "24.55930434782609",
         "0.7575"
        ],
        [
         "191",
         "192.0",
         "24.541043478260868",
         "0.756875"
        ],
        [
         "192",
         "193.0",
         "24.589478260869566",
         "0.7565624999999999"
        ],
        [
         "193",
         "194.0",
         "24.589347826086954",
         "0.75625"
        ],
        [
         "194",
         "195.0",
         "24.650739130434783",
         "0.7559374999999999"
        ],
        [
         "195",
         "196.0",
         "24.68895652173913",
         "0.755625"
        ],
        [
         "196",
         "197.0",
         "24.670521739130436",
         "0.7553124999999999"
        ],
        [
         "197",
         "198.0",
         "24.658608695652173",
         "0.7549999999999999"
        ],
        [
         "198",
         "199.0",
         "24.66560869565217",
         "0.754375"
        ],
        [
         "199",
         "200.0",
         "24.60926086956522",
         "0.7537499999999999"
        ],
        [
         "200",
         "201.0",
         "24.65395652173913",
         "0.7534375"
        ],
        [
         "201",
         "202.0",
         "24.58126086956522",
         "0.7528124999999999"
        ],
        [
         "202",
         "203.0",
         "24.674869565217392",
         "0.7525"
        ],
        [
         "203",
         "204.0",
         "24.678826086956523",
         "0.751875"
        ],
        [
         "204",
         "205.0",
         "24.695608695652176",
         "0.7515624999999999"
        ],
        [
         "205",
         "206.0",
         "24.679478260869566",
         "0.75125"
        ],
        [
         "206",
         "207.0",
         "24.74495652173913",
         "0.75125"
        ],
        [
         "207",
         "208.0",
         "24.750434782608696",
         "0.7509374999999999"
        ],
        [
         "208",
         "209.0",
         "24.785739130434784",
         "0.750625"
        ],
        [
         "210",
         "211.0",
         "24.731956521739132",
         "0.749375"
        ],
        [
         "211",
         "212.0",
         "24.73891304347826",
         "0.7490624999999999"
        ],
        [
         "212",
         "213.0",
         "24.757",
         "0.7490624999999999"
        ],
        [
         "213",
         "214.0",
         "24.790652173913045",
         "0.748125"
        ],
        [
         "214",
         "215.0",
         "24.773782608695655",
         "0.7478124999999999"
        ],
        [
         "215",
         "216.0",
         "24.809739130434785",
         "0.7471875"
        ]
       ],
       "shape": {
        "columns": 3,
        "rows": 248
       }
      },
      "text/html": [
       "<div>\n",
       "<style scoped>\n",
       "    .dataframe tbody tr th:only-of-type {\n",
       "        vertical-align: middle;\n",
       "    }\n",
       "\n",
       "    .dataframe tbody tr th {\n",
       "        vertical-align: top;\n",
       "    }\n",
       "\n",
       "    .dataframe thead th {\n",
       "        text-align: right;\n",
       "    }\n",
       "</style>\n",
       "<table border=\"1\" class=\"dataframe\">\n",
       "  <thead>\n",
       "    <tr style=\"text-align: right;\">\n",
       "      <th></th>\n",
       "      <th>Cycle_Index</th>\n",
       "      <th>Cell_Temperature (C)</th>\n",
       "      <th>SOH_discharge</th>\n",
       "    </tr>\n",
       "  </thead>\n",
       "  <tbody>\n",
       "    <tr>\n",
       "      <th>165</th>\n",
       "      <td>166.0</td>\n",
       "      <td>24.445609</td>\n",
       "      <td>0.770312</td>\n",
       "    </tr>\n",
       "    <tr>\n",
       "      <th>166</th>\n",
       "      <td>167.0</td>\n",
       "      <td>24.430348</td>\n",
       "      <td>0.770000</td>\n",
       "    </tr>\n",
       "    <tr>\n",
       "      <th>167</th>\n",
       "      <td>168.0</td>\n",
       "      <td>24.429739</td>\n",
       "      <td>0.769687</td>\n",
       "    </tr>\n",
       "    <tr>\n",
       "      <th>168</th>\n",
       "      <td>169.0</td>\n",
       "      <td>24.452522</td>\n",
       "      <td>0.769062</td>\n",
       "    </tr>\n",
       "    <tr>\n",
       "      <th>169</th>\n",
       "      <td>170.0</td>\n",
       "      <td>24.512217</td>\n",
       "      <td>0.768750</td>\n",
       "    </tr>\n",
       "    <tr>\n",
       "      <th>...</th>\n",
       "      <td>...</td>\n",
       "      <td>...</td>\n",
       "      <td>...</td>\n",
       "    </tr>\n",
       "    <tr>\n",
       "      <th>472</th>\n",
       "      <td>476.0</td>\n",
       "      <td>17.169190</td>\n",
       "      <td>0.687812</td>\n",
       "    </tr>\n",
       "    <tr>\n",
       "      <th>473</th>\n",
       "      <td>477.0</td>\n",
       "      <td>17.152857</td>\n",
       "      <td>0.687812</td>\n",
       "    </tr>\n",
       "    <tr>\n",
       "      <th>474</th>\n",
       "      <td>478.0</td>\n",
       "      <td>17.201524</td>\n",
       "      <td>0.687812</td>\n",
       "    </tr>\n",
       "    <tr>\n",
       "      <th>516</th>\n",
       "      <td>520.0</td>\n",
       "      <td>16.044078</td>\n",
       "      <td>0.713750</td>\n",
       "    </tr>\n",
       "    <tr>\n",
       "      <th>517</th>\n",
       "      <td>521.0</td>\n",
       "      <td>16.048810</td>\n",
       "      <td>0.712812</td>\n",
       "    </tr>\n",
       "  </tbody>\n",
       "</table>\n",
       "<p>248 rows × 3 columns</p>\n",
       "</div>"
      ],
      "text/plain": [
       "     Cycle_Index  Cell_Temperature (C)  SOH_discharge\n",
       "165        166.0             24.445609       0.770312\n",
       "166        167.0             24.430348       0.770000\n",
       "167        168.0             24.429739       0.769687\n",
       "168        169.0             24.452522       0.769062\n",
       "169        170.0             24.512217       0.768750\n",
       "..           ...                   ...            ...\n",
       "472        476.0             17.169190       0.687812\n",
       "473        477.0             17.152857       0.687812\n",
       "474        478.0             17.201524       0.687812\n",
       "516        520.0             16.044078       0.713750\n",
       "517        521.0             16.048810       0.712812\n",
       "\n",
       "[248 rows x 3 columns]"
      ]
     },
     "metadata": {},
     "output_type": "display_data"
    },
    {
     "data": {
      "application/vnd.microsoft.datawrangler.viewer.v0+json": {
       "columns": [
        {
         "name": "index",
         "rawType": "int64",
         "type": "integer"
        },
        {
         "name": "Cycle_Index",
         "rawType": "float64",
         "type": "float"
        },
        {
         "name": "Cell_Temperature (C)",
         "rawType": "float64",
         "type": "float"
        },
        {
         "name": "SOH_discharge",
         "rawType": "float64",
         "type": "float"
        }
       ],
       "ref": "1133ef9e-b484-416d-96df-9139b3217ebf",
       "rows": [
        [
         "0",
         "1.0",
         "18.283589861751153",
         "0.9096875"
        ],
        [
         "1",
         "2.0",
         "18.301324116743473",
         "0.906875"
        ],
        [
         "2",
         "3.0",
         "18.27302157164869",
         "0.9037499999999999"
        ],
        [
         "4",
         "5.0",
         "23.67085185185185",
         "0.8940625"
        ],
        [
         "5",
         "6.0",
         "23.69062962962963",
         "0.8937499999999999"
        ],
        [
         "6",
         "7.0",
         "23.644185185185187",
         "0.8928125"
        ],
        [
         "7",
         "8.0",
         "23.61685185185185",
         "0.891875"
        ],
        [
         "8",
         "9.0",
         "23.598407407407407",
         "0.8912499999999999"
        ],
        [
         "9",
         "10.0",
         "23.567037037037036",
         "0.8899999999999999"
        ],
        [
         "10",
         "11.0",
         "23.589185185185187",
         "0.8890625"
        ],
        [
         "11",
         "12.0",
         "23.57485185185185",
         "0.8884375"
        ],
        [
         "12",
         "13.0",
         "23.620851851851853",
         "0.8875"
        ],
        [
         "13",
         "14.0",
         "23.529740740740742",
         "0.8865625"
        ],
        [
         "14",
         "15.0",
         "23.555407407407408",
         "0.8862499999999999"
        ],
        [
         "15",
         "16.0",
         "23.554888888888886",
         "0.8853125000000001"
        ],
        [
         "16",
         "17.0",
         "23.562074074074076",
         "0.8846875"
        ],
        [
         "17",
         "18.0",
         "23.54414814814815",
         "0.8840625"
        ],
        [
         "18",
         "19.0",
         "23.534814814814816",
         "0.8834375"
        ],
        [
         "19",
         "20.0",
         "23.51896296296296",
         "0.8828125"
        ],
        [
         "20",
         "21.0",
         "23.500851851851852",
         "0.8821874999999999"
        ],
        [
         "21",
         "22.0",
         "23.50162962962963",
         "0.8812499999999999"
        ],
        [
         "22",
         "23.0",
         "23.55074074074074",
         "0.8809374999999999"
        ],
        [
         "23",
         "24.0",
         "23.586555555555556",
         "0.8803125"
        ],
        [
         "24",
         "25.0",
         "23.269461538461538",
         "0.8796875"
        ],
        [
         "25",
         "26.0",
         "23.25280769230769",
         "0.879375"
        ],
        [
         "26",
         "27.0",
         "23.316615384615382",
         "0.8784375"
        ],
        [
         "27",
         "28.0",
         "23.314692307692308",
         "0.8775"
        ],
        [
         "28",
         "29.0",
         "23.324846153846156",
         "0.8771874999999999"
        ],
        [
         "29",
         "30.0",
         "23.333346153846154",
         "0.8762499999999999"
        ],
        [
         "30",
         "31.0",
         "23.335115384615385",
         "0.8753125"
        ],
        [
         "31",
         "32.0",
         "23.40334615384615",
         "0.8753125"
        ],
        [
         "32",
         "33.0",
         "23.393730769230768",
         "0.8740625"
        ],
        [
         "33",
         "34.0",
         "23.394961538461537",
         "0.8737499999999999"
        ],
        [
         "34",
         "35.0",
         "23.376076923076923",
         "0.8731249999999999"
        ],
        [
         "35",
         "36.0",
         "23.453346153846155",
         "0.8721874999999999"
        ],
        [
         "36",
         "37.0",
         "23.45826923076923",
         "0.8712499999999999"
        ],
        [
         "37",
         "38.0",
         "21.770884615384617",
         "0.85875"
        ],
        [
         "39",
         "40.0",
         "23.39134615384615",
         "0.8699999999999999"
        ],
        [
         "40",
         "41.0",
         "23.371615384615385",
         "0.8690625"
        ],
        [
         "41",
         "42.0",
         "23.470346153846155",
         "0.8681249999999999"
        ],
        [
         "42",
         "43.0",
         "23.47673076923077",
         "0.8671874999999999"
        ],
        [
         "43",
         "44.0",
         "23.452384615384613",
         "0.8665625"
        ],
        [
         "44",
         "45.0",
         "23.38053846153846",
         "0.8653125"
        ],
        [
         "45",
         "46.0",
         "23.389423076923077",
         "0.8646874999999999"
        ],
        [
         "46",
         "47.0",
         "23.41923076923077",
         "0.8637499999999999"
        ],
        [
         "47",
         "48.0",
         "23.45380769230769",
         "0.8628125"
        ],
        [
         "48",
         "49.0",
         "23.446307692307695",
         "0.8624999999999999"
        ],
        [
         "49",
         "50.0",
         "23.46026923076923",
         "0.8612499999999998"
        ],
        [
         "50",
         "51.0",
         "23.50573076923077",
         "0.8603125"
        ],
        [
         "51",
         "52.0",
         "23.505884615384616",
         "0.859375"
        ]
       ],
       "shape": {
        "columns": 3,
        "rows": 488
       }
      },
      "text/html": [
       "<div>\n",
       "<style scoped>\n",
       "    .dataframe tbody tr th:only-of-type {\n",
       "        vertical-align: middle;\n",
       "    }\n",
       "\n",
       "    .dataframe tbody tr th {\n",
       "        vertical-align: top;\n",
       "    }\n",
       "\n",
       "    .dataframe thead th {\n",
       "        text-align: right;\n",
       "    }\n",
       "</style>\n",
       "<table border=\"1\" class=\"dataframe\">\n",
       "  <thead>\n",
       "    <tr style=\"text-align: right;\">\n",
       "      <th></th>\n",
       "      <th>Cycle_Index</th>\n",
       "      <th>Cell_Temperature (C)</th>\n",
       "      <th>SOH_discharge</th>\n",
       "    </tr>\n",
       "  </thead>\n",
       "  <tbody>\n",
       "    <tr>\n",
       "      <th>0</th>\n",
       "      <td>1.0</td>\n",
       "      <td>18.283590</td>\n",
       "      <td>0.909687</td>\n",
       "    </tr>\n",
       "    <tr>\n",
       "      <th>1</th>\n",
       "      <td>2.0</td>\n",
       "      <td>18.301324</td>\n",
       "      <td>0.906875</td>\n",
       "    </tr>\n",
       "    <tr>\n",
       "      <th>2</th>\n",
       "      <td>3.0</td>\n",
       "      <td>18.273022</td>\n",
       "      <td>0.903750</td>\n",
       "    </tr>\n",
       "    <tr>\n",
       "      <th>4</th>\n",
       "      <td>5.0</td>\n",
       "      <td>23.670852</td>\n",
       "      <td>0.894062</td>\n",
       "    </tr>\n",
       "    <tr>\n",
       "      <th>5</th>\n",
       "      <td>6.0</td>\n",
       "      <td>23.690630</td>\n",
       "      <td>0.893750</td>\n",
       "    </tr>\n",
       "    <tr>\n",
       "      <th>...</th>\n",
       "      <td>...</td>\n",
       "      <td>...</td>\n",
       "      <td>...</td>\n",
       "    </tr>\n",
       "    <tr>\n",
       "      <th>511</th>\n",
       "      <td>515.0</td>\n",
       "      <td>17.204857</td>\n",
       "      <td>0.678750</td>\n",
       "    </tr>\n",
       "    <tr>\n",
       "      <th>512</th>\n",
       "      <td>516.0</td>\n",
       "      <td>17.253476</td>\n",
       "      <td>0.678437</td>\n",
       "    </tr>\n",
       "    <tr>\n",
       "      <th>513</th>\n",
       "      <td>517.0</td>\n",
       "      <td>17.267905</td>\n",
       "      <td>0.678437</td>\n",
       "    </tr>\n",
       "    <tr>\n",
       "      <th>516</th>\n",
       "      <td>520.0</td>\n",
       "      <td>16.044078</td>\n",
       "      <td>0.713750</td>\n",
       "    </tr>\n",
       "    <tr>\n",
       "      <th>517</th>\n",
       "      <td>521.0</td>\n",
       "      <td>16.048810</td>\n",
       "      <td>0.712812</td>\n",
       "    </tr>\n",
       "  </tbody>\n",
       "</table>\n",
       "<p>488 rows × 3 columns</p>\n",
       "</div>"
      ],
      "text/plain": [
       "     Cycle_Index  Cell_Temperature (C)  SOH_discharge\n",
       "0            1.0             18.283590       0.909687\n",
       "1            2.0             18.301324       0.906875\n",
       "2            3.0             18.273022       0.903750\n",
       "4            5.0             23.670852       0.894062\n",
       "5            6.0             23.690630       0.893750\n",
       "..           ...                   ...            ...\n",
       "511        515.0             17.204857       0.678750\n",
       "512        516.0             17.253476       0.678437\n",
       "513        517.0             17.267905       0.678437\n",
       "516        520.0             16.044078       0.713750\n",
       "517        521.0             16.048810       0.712812\n",
       "\n",
       "[488 rows x 3 columns]"
      ]
     },
     "metadata": {},
     "output_type": "display_data"
    },
    {
     "data": {
      "application/vnd.microsoft.datawrangler.viewer.v0+json": {
       "columns": [
        {
         "name": "index",
         "rawType": "int64",
         "type": "integer"
        },
        {
         "name": "Cycle_Index",
         "rawType": "float64",
         "type": "float"
        },
        {
         "name": "Cell_Temperature (C)",
         "rawType": "float64",
         "type": "float"
        },
        {
         "name": "SOH_discharge",
         "rawType": "float64",
         "type": "float"
        }
       ],
       "ref": "5aa0a073-aaf2-460f-b82c-75b2d128cc8e",
       "rows": [
        [
         "64",
         "65.0",
         "23.78746153846154",
         "0.8496874999999999"
        ],
        [
         "65",
         "66.0",
         "23.789884615384615",
         "0.84875"
        ],
        [
         "66",
         "67.0",
         "23.827653846153847",
         "0.8481249999999999"
        ],
        [
         "67",
         "68.0",
         "23.764538461538464",
         "0.8471874999999999"
        ],
        [
         "68",
         "69.0",
         "23.554560000000002",
         "0.8459374999999999"
        ],
        [
         "69",
         "70.0",
         "23.57772",
         "0.845"
        ],
        [
         "70",
         "71.0",
         "23.59152",
         "0.844375"
        ],
        [
         "71",
         "72.0",
         "23.574879999999997",
         "0.84375"
        ],
        [
         "72",
         "73.0",
         "23.625120000000003",
         "0.8421874999999999"
        ],
        [
         "73",
         "74.0",
         "23.63928",
         "0.8409374999999999"
        ],
        [
         "74",
         "75.0",
         "23.59212",
         "0.84"
        ],
        [
         "75",
         "76.0",
         "23.59656",
         "0.8390624999999999"
        ],
        [
         "76",
         "77.0",
         "23.57228",
         "0.8378125"
        ],
        [
         "77",
         "78.0",
         "23.6296",
         "0.8368749999999999"
        ],
        [
         "78",
         "79.0",
         "23.714560000000002",
         "0.8365625"
        ],
        [
         "79",
         "80.0",
         "23.72748",
         "0.835"
        ],
        [
         "80",
         "81.0",
         "23.682199999999998",
         "0.8340624999999999"
        ],
        [
         "81",
         "82.0",
         "23.65104",
         "0.8334374999999999"
        ],
        [
         "82",
         "83.0",
         "23.6646",
         "0.8321874999999999"
        ],
        [
         "83",
         "84.0",
         "23.67308",
         "0.8315625"
        ],
        [
         "84",
         "85.0",
         "23.64992",
         "0.8303125"
        ],
        [
         "85",
         "86.0",
         "23.7362",
         "0.829375"
        ],
        [
         "86",
         "87.0",
         "23.80304",
         "0.82875"
        ],
        [
         "87",
         "88.0",
         "23.82564",
         "0.8278125"
        ],
        [
         "88",
         "89.0",
         "23.81324",
         "0.8268749999999999"
        ],
        [
         "89",
         "90.0",
         "23.80228",
         "0.8256249999999999"
        ],
        [
         "90",
         "91.0",
         "23.77532",
         "0.825"
        ],
        [
         "91",
         "92.0",
         "23.83004",
         "0.8240624999999999"
        ],
        [
         "92",
         "93.0",
         "23.838440000000002",
         "0.8234374999999999"
        ],
        [
         "93",
         "94.0",
         "23.808400000000002",
         "0.8225"
        ],
        [
         "94",
         "95.0",
         "23.9862",
         "0.8215625"
        ],
        [
         "95",
         "96.0",
         "24.004920000000002",
         "0.8209374999999999"
        ],
        [
         "96",
         "97.0",
         "23.97356",
         "0.82"
        ],
        [
         "97",
         "98.0",
         "23.9906",
         "0.8190624999999999"
        ],
        [
         "98",
         "99.0",
         "24.042240000000003",
         "0.8184375"
        ],
        [
         "99",
         "100.0",
         "24.08444",
         "0.8171875000000001"
        ],
        [
         "100",
         "101.0",
         "24.119519999999998",
         "0.8168749999999999"
        ],
        [
         "101",
         "102.0",
         "24.10352",
         "0.8156249999999999"
        ],
        [
         "102",
         "103.0",
         "24.08672",
         "0.8146875"
        ],
        [
         "103",
         "104.0",
         "24.12092",
         "0.814375"
        ],
        [
         "104",
         "105.0",
         "24.104400000000002",
         "0.8134375"
        ],
        [
         "105",
         "106.0",
         "24.08612",
         "0.8125"
        ],
        [
         "106",
         "107.0",
         "23.854541666666666",
         "0.8121875000000001"
        ],
        [
         "107",
         "108.0",
         "23.951999999999998",
         "0.8109375"
        ],
        [
         "108",
         "109.0",
         "23.95375",
         "0.8103125"
        ],
        [
         "109",
         "110.0",
         "23.92279166666667",
         "0.8096875"
        ],
        [
         "110",
         "111.0",
         "23.989416666666667",
         "0.80875"
        ],
        [
         "111",
         "112.0",
         "23.93675",
         "0.8078124999999999"
        ],
        [
         "112",
         "113.0",
         "23.989416666666667",
         "0.8068749999999999"
        ],
        [
         "113",
         "114.0",
         "24.011750000000003",
         "0.8065625"
        ]
       ],
       "shape": {
        "columns": 3,
        "rows": 426
       }
      },
      "text/html": [
       "<div>\n",
       "<style scoped>\n",
       "    .dataframe tbody tr th:only-of-type {\n",
       "        vertical-align: middle;\n",
       "    }\n",
       "\n",
       "    .dataframe tbody tr th {\n",
       "        vertical-align: top;\n",
       "    }\n",
       "\n",
       "    .dataframe thead th {\n",
       "        text-align: right;\n",
       "    }\n",
       "</style>\n",
       "<table border=\"1\" class=\"dataframe\">\n",
       "  <thead>\n",
       "    <tr style=\"text-align: right;\">\n",
       "      <th></th>\n",
       "      <th>Cycle_Index</th>\n",
       "      <th>Cell_Temperature (C)</th>\n",
       "      <th>SOH_discharge</th>\n",
       "    </tr>\n",
       "  </thead>\n",
       "  <tbody>\n",
       "    <tr>\n",
       "      <th>64</th>\n",
       "      <td>65.0</td>\n",
       "      <td>23.787462</td>\n",
       "      <td>0.849687</td>\n",
       "    </tr>\n",
       "    <tr>\n",
       "      <th>65</th>\n",
       "      <td>66.0</td>\n",
       "      <td>23.789885</td>\n",
       "      <td>0.848750</td>\n",
       "    </tr>\n",
       "    <tr>\n",
       "      <th>66</th>\n",
       "      <td>67.0</td>\n",
       "      <td>23.827654</td>\n",
       "      <td>0.848125</td>\n",
       "    </tr>\n",
       "    <tr>\n",
       "      <th>67</th>\n",
       "      <td>68.0</td>\n",
       "      <td>23.764538</td>\n",
       "      <td>0.847187</td>\n",
       "    </tr>\n",
       "    <tr>\n",
       "      <th>68</th>\n",
       "      <td>69.0</td>\n",
       "      <td>23.554560</td>\n",
       "      <td>0.845937</td>\n",
       "    </tr>\n",
       "    <tr>\n",
       "      <th>...</th>\n",
       "      <td>...</td>\n",
       "      <td>...</td>\n",
       "      <td>...</td>\n",
       "    </tr>\n",
       "    <tr>\n",
       "      <th>511</th>\n",
       "      <td>515.0</td>\n",
       "      <td>17.204857</td>\n",
       "      <td>0.678750</td>\n",
       "    </tr>\n",
       "    <tr>\n",
       "      <th>512</th>\n",
       "      <td>516.0</td>\n",
       "      <td>17.253476</td>\n",
       "      <td>0.678437</td>\n",
       "    </tr>\n",
       "    <tr>\n",
       "      <th>513</th>\n",
       "      <td>517.0</td>\n",
       "      <td>17.267905</td>\n",
       "      <td>0.678437</td>\n",
       "    </tr>\n",
       "    <tr>\n",
       "      <th>516</th>\n",
       "      <td>520.0</td>\n",
       "      <td>16.044078</td>\n",
       "      <td>0.713750</td>\n",
       "    </tr>\n",
       "    <tr>\n",
       "      <th>517</th>\n",
       "      <td>521.0</td>\n",
       "      <td>16.048810</td>\n",
       "      <td>0.712812</td>\n",
       "    </tr>\n",
       "  </tbody>\n",
       "</table>\n",
       "<p>426 rows × 3 columns</p>\n",
       "</div>"
      ],
      "text/plain": [
       "     Cycle_Index  Cell_Temperature (C)  SOH_discharge\n",
       "64          65.0             23.787462       0.849687\n",
       "65          66.0             23.789885       0.848750\n",
       "66          67.0             23.827654       0.848125\n",
       "67          68.0             23.764538       0.847187\n",
       "68          69.0             23.554560       0.845937\n",
       "..           ...                   ...            ...\n",
       "511        515.0             17.204857       0.678750\n",
       "512        516.0             17.253476       0.678437\n",
       "513        517.0             17.267905       0.678437\n",
       "516        520.0             16.044078       0.713750\n",
       "517        521.0             16.048810       0.712812\n",
       "\n",
       "[426 rows x 3 columns]"
      ]
     },
     "metadata": {},
     "output_type": "display_data"
    }
   ],
   "source": [
    "# Remoção de outliers e valores crescentes\n",
    "df_IsolForest = ensure_non_increasing(df_grouped, 'SOH_discharge')\n",
    "df_IsolForest = rmv_outliers_isolation_forest(df_IsolForest, 'SOH_discharge')\n",
    "\n",
    "df_IQR = ensure_non_increasing(df_grouped, 'SOH_discharge')\n",
    "df_IQR = rmv_outliers_iqr(df_IQR, 'SOH_discharge')\n",
    "\n",
    "df_ZScore = ensure_non_increasing(df_grouped, 'SOH_discharge')\n",
    "df_ZScore = rmv_outliers_zscore(df_ZScore, 'SOH_discharge', threshold=1.5)\n",
    "\n",
    "df_ZScore = rmv_sharp_jump(df_ZScore, 'SOH_discharge', threshold=0.05, repeat=2) # 5% de SOH\n",
    "\n",
    "display(df_grouped)\n",
    "display(df_IsolForest)\n",
    "display(df_IQR)\n",
    "display(df_ZScore)"
   ]
  },
  {
   "cell_type": "markdown",
   "metadata": {},
   "source": [
    "### [numpy.interp() parameters](https://numpy.org/doc/2.1/reference/generated/numpy.interp.html):\n",
    "- `x`: _array_like_ . The x-coordinates at which to evaluate the interpolated values.\n",
    "\n",
    "- `xp`: _1-D sequence of floats_. The x-coordinates of the data points, must be increasing if argument period is not specified. Otherwise, xp is internally sorted after normalizing the periodic boundaries with xp = xp % period.\n",
    "\n",
    "- `fp`: _1-D sequence of float or complex_. The y-coordinates of the data points, same length as xp.\n",
    "\n",
    "Returns the one-dimensional piecewise linear interpolant to a function with given discrete data points (xp, fp), evaluated at x:\n",
    "- `y`: float or complex (corresponding to fp) or ndarray. The interpolated values, same shape as x."
   ]
  },
  {
   "cell_type": "code",
   "execution_count": 12,
   "metadata": {},
   "outputs": [],
   "source": [
    "def interpolate_soh(df: pd.DataFrame, soh_column: str, cycles_column: str) -> pd.DataFrame:\n",
    "    # Define thresholds de interesse (99%, 98%, ...)\n",
    "    thresholds = np.arange(1.00, 0.00, -0.01)\n",
    "\n",
    "    soh = df[soh_column].values\n",
    "    cycles = df[cycles_column].values\n",
    "\n",
    "    # Inverte para que fique crescente\n",
    "    xp = soh[::-1]\n",
    "    fp = cycles[::-1]\n",
    "\n",
    "    valid = (thresholds >= xp.min()) & (thresholds <= xp.max())\n",
    "    thresholds = thresholds[valid]\n",
    "\n",
    "    # np.interp(x, xp, fp) assume xp crescente e retorna y para cada x em thresholds\n",
    "    estimated_cycles = np.interp(thresholds, xp, fp)\n",
    "    print(f'Número de thresholds válidos: {len(thresholds)}')\n",
    "    df_estimates = pd.DataFrame({\n",
    "        'SOH_threshold': thresholds,\n",
    "        'estimated_cycle': estimated_cycles\n",
    "    })\n",
    "\n",
    "    # Cast para float com 2 casas decimais\n",
    "    df_estimates['SOH_threshold'] = df_estimates['SOH_threshold'].astype(float).round(2)\n",
    "\n",
    "    # Queda de ciclos (a cada 1%)\n",
    "    df_estimates['NCD1%'] = df_estimates['estimated_cycle'].diff()\n",
    "    \n",
    "    return df_estimates"
   ]
  },
  {
   "cell_type": "code",
   "execution_count": 13,
   "metadata": {},
   "outputs": [
    {
     "name": "stdout",
     "output_type": "stream",
     "text": [
      "Número de thresholds válidos: 33\n",
      "Número de thresholds válidos: 9\n",
      "Número de thresholds válidos: 23\n",
      "Número de thresholds válidos: 17\n"
     ]
    }
   ],
   "source": [
    "df_grouped_estimates     = interpolate_soh(df_grouped, 'SOH_discharge', 'Cycle_Index')\n",
    "df_IsolForest_estimates  = interpolate_soh(df_IsolForest, 'SOH_discharge', 'Cycle_Index')\n",
    "df_IQR_estimates         = interpolate_soh(df_IQR, 'SOH_discharge', 'Cycle_Index')\n",
    "df_ZScore_estimates      = interpolate_soh(df_ZScore, 'SOH_discharge', 'Cycle_Index')"
   ]
  },
  {
   "cell_type": "code",
   "execution_count": 14,
   "metadata": {},
   "outputs": [
    {
     "data": {
      "image/png": "[encoded data removed]",
      "text/plain": [
       "<Figure size 2500x1500 with 4 Axes>"
      ]
     },
     "metadata": {},
     "output_type": "display_data"
    }
   ],
   "source": [
    "# Crie a figura com 4 subplots em um layout 2x2\n",
    "fig, axs = plt.subplots(2, 2, figsize=(25, 15))\n",
    "\n",
    "# Título geral para o plot\n",
    "fig.suptitle('Comparativo de Abordagens de Limpeza de Dados', fontsize=20)\n",
    "\n",
    "# Eixo Y compartilhado para padronizar os gráficos\n",
    "for ax in axs.flat:\n",
    "    ax.set_ylim(40, 105) # SOH in percentage\n",
    "\n",
    "# Configuração de Ticks do Eixo X\n",
    "xmin = df_grouped[\"Cycle_Index\"].min()\n",
    "xmax = df_grouped[\"Cycle_Index\"].max()\n",
    "major_ticks = np.arange(0, xmax + 1, 200)\n",
    "minor_ticks = np.arange(0, xmax + 1, 50)\n",
    "\n",
    "# 1. Plot para \"Dados Originais\"\n",
    "axs[0, 0].plot(df_grouped[\"Cycle_Index\"], df_grouped[\"SOH_discharge\"] * 100, label=\"Dados Originais\", color='gray', linewidth=1.5, zorder=1)\n",
    "#axs[0, 0].scatter(df_grouped_estimates[\"estimated_cycle\"], df_grouped_estimates[\"SOH_threshold\"] * 100, label=\"Queda de 1%\", color='gray', marker='d', s=100, zorder=3)\n",
    "axs[0, 0].set_title(\"1. Dados Originais\", fontsize=16)\n",
    "axs[0, 0].set_ylabel(\"SOH (%)\", fontsize=12)\n",
    "\n",
    "# 2. Plot para \"Isolation Forest\"\n",
    "axs[0, 1].plot(df_IsolForest[\"Cycle_Index\"], df_IsolForest[\"SOH_discharge\"] * 100, label=\"Limpeza com Isolation Forest\", color='darkorange', linewidth=2.5, zorder=2)\n",
    "# axs[0, 1].scatter(df_IsolForest_estimates[\"estimated_cycle\"], df_IsolForest_estimates[\"SOH_threshold\"] * 100, label=\"Queda de 1%\", color='darkorange', marker='d', s=100, zorder=3)\n",
    "axs[0, 1].set_title(\"2. Limpeza com Isolation Forest\", fontsize=16)\n",
    "\n",
    "# 3. Plot para \"IQR\"\n",
    "axs[1, 0].plot(df_IQR[\"Cycle_Index\"], df_IQR[\"SOH_discharge\"] * 100, label=\"Limpeza com IQR\", color='skyblue', linewidth=2.5, zorder=2)\n",
    "# axs[1, 0].scatter(df_IQR_estimates[\"estimated_cycle\"], df_IQR_estimates[\"SOH_threshold\"] * 100, label=\"Queda de 1%\", color='skyblue', marker='d', s=100, zorder=3)\n",
    "axs[1, 0].set_title(\"3. Limpeza com IQR\", fontsize=16)\n",
    "axs[1, 0].set_xlabel(\"Índice de Ciclo\", fontsize=12)\n",
    "axs[1, 0].set_ylabel(\"SOH (%)\", fontsize=12)\n",
    "\n",
    "# 4. Plot para \"Z-Score\"\n",
    "axs[1, 1].plot(df_ZScore[\"Cycle_Index\"], df_ZScore[\"SOH_discharge\"] * 100, label=\"Limpeza com Z-Score\", color='forestgreen', linewidth=2.5, zorder=2)\n",
    "# axs[1, 1].scatter(df_ZScore_estimates[\"estimated_cycle\"], df_ZScore_estimates[\"SOH_threshold\"] * 100, label=\"Queda de 1%\", color='forestgreen', marker='d', s=100, zorder=3)\n",
    "axs[1, 1].set_title(\"4. Limpeza com Z-Score\", fontsize=16)\n",
    "axs[1, 1].set_xlabel(\"Índice de Ciclo\", fontsize=12)\n",
    "\n",
    "# Adicione grids, ticks e legendas para cada subplot\n",
    "for ax in axs.flat:\n",
    "    ax.set_xticks(major_ticks)\n",
    "    ax.set_xticks(minor_ticks, minor=True)\n",
    "    ax.grid(which='major', linestyle='-', linewidth=1, alpha=0.9)\n",
    "    ax.grid(which='minor', linestyle='--', linewidth=0.5, alpha=0.7)\n",
    "    ax.legend(loc='best', fontsize=10)\n",
    "\n",
    "plt.tight_layout(rect=[0, 0, 1, 0.96])\n",
    "plt.show()\n"
   ]
  },
  {
   "cell_type": "markdown",
   "metadata": {},
   "source": [
    "## Z-score com ensure_non_decreasing e rmv_sharp_jump é o escolhido"
   ]
  },
  {
   "cell_type": "code",
   "execution_count": 15,
   "metadata": {},
   "outputs": [
    {
     "name": "stdout",
     "output_type": "stream",
     "text": [
      "Número de NCD1%: 14\n",
      "Média: 13.60, Desvio-padrão: 9.23\n"
     ]
    },
    {
     "data": {
      "image/png": "[encoded data removed]",
      "text/plain": [
       "<Figure size 1200x200 with 1 Axes>"
      ]
     },
     "metadata": {},
     "output_type": "display_data"
    }
   ],
   "source": [
    "df_ZScore_estimates = rmv_outliers_iqr(df_ZScore_estimates, 'NCD1%')\n",
    "\n",
    "data = df_ZScore_estimates[\"NCD1%\"].dropna().values\n",
    "print(f'Número de NCD1%: {len(data)}')\n",
    "\n",
    "mean = np.mean(data)\n",
    "std  = np.std(data, ddof=1)\n",
    "print(f'Média: {mean:.2f}, Desvio-padrão: {std:.2f}')\n",
    "\n",
    "# Seleciona a cor padrão 'C0' do matplotlib (primeira cor)\n",
    "default_color = plt.rcParams['axes.prop_cycle'].by_key()['color'][0]\n",
    "fig, ax = plt.subplots(figsize=(12, 2))\n",
    "\n",
    "sns.boxplot(\n",
    "    x=data,                   # valores no eixo x\n",
    "    y=np.zeros_like(data),    # posição 0 no eixo y\n",
    "    ax=ax,\n",
    "    orient='h',\n",
    "    linewidth=1,\n",
    "    zorder=2\n",
    ")\n",
    "\n",
    "# Deixa a face do boxplot semitransparente\n",
    "for patch in ax.patches:\n",
    "    if hasattr(patch, 'get_facecolor'):\n",
    "        r, g, b, a = patch.get_facecolor()\n",
    "        patch.set_facecolor((r, g, b, 0.3))  # alpha = 0.3\n",
    "\n",
    "# Sobreposição de pontos (scatter) com baixa opacidade\n",
    "sns.scatterplot(\n",
    "    x=data,\n",
    "    y=np.zeros_like(data),\n",
    "    ax=ax,\n",
    "    s=60,                     # tamanho dos pontos\n",
    "    color=default_color,      # mesma cor do boxplot\n",
    "    alpha=0.7,\n",
    "    zorder=1\n",
    ")\n",
    "\n",
    "# Remove os ticks do eixo y (não fazem sentido aqui)\n",
    "ax.set_yticks([])\n",
    "\n",
    "ax.set_xlabel(\"NCD1%\")\n",
    "ax.tick_params(which='major', labelsize=12)\n",
    "\n",
    "plt.title(\"Distribuição de NCD1%\", fontsize=18)\n",
    "plt.grid(True, linestyle='--', linewidth=0.5, alpha=0.7)\n",
    "\n",
    "plt.show()"
   ]
  },
  {
   "cell_type": "code",
   "execution_count": 16,
   "metadata": {},
   "outputs": [
    {
     "data": {
      "image/png": "[encoded data removed]",
      "text/plain": [
       "<Figure size 900x400 with 1 Axes>"
      ]
     },
     "metadata": {},
     "output_type": "display_data"
    }
   ],
   "source": [
    "data = np.sort(data)  # Garante que os dados estão ordenados\n",
    "n    = len(data)\n",
    "\n",
    "# Faz o fitting para encotnrar os parametros e calcula a funcao acumulada dos dados considerando comportamento normal\n",
    "mean, std = norm.fit(data)\n",
    "teo_norm  = norm.cdf(data, loc=mean, scale=std)\n",
    "\n",
    "plt.figure(figsize=(9, 4))\n",
    "\n",
    "# Probabilidade acumulada empírica (1/n, 2/n, ..., 1)\n",
    "cdf_emp = np.arange(0, n)/(n-1)\n",
    "plt.plot(data, cdf_emp, marker='o', linestyle='-', label=\"CDF NCD1%\", zorder=3, alpha=0.7)\n",
    "\n",
    "# Função acumulada da normal (teórica)\n",
    "plt.plot(data, teo_norm, linestyle='--', label=f\"CDF Normal fit\\n(μ={mean:.2f}, σ={std:.2f})\")\n",
    "\n",
    "plt.xlabel(\"NCD1\")\n",
    "plt.ylabel(\"Probabilidade acumulada\")\n",
    "plt.title(\"NCD1% e Curva Normal aproximada\")\n",
    "plt.legend()\n",
    "plt.grid(True, linestyle='--', linewidth=0.5, alpha=0.7)\n",
    "\n",
    "plt.show()\n"
   ]
  },
  {
   "cell_type": "markdown",
   "metadata": {},
   "source": [
    "Teste de Kolmogorov–Smirnov (KS) para verificar formalmente se o conjunto de dados de NCD1% (`data`) segue a distribuição Normal com os parametros encontrados no método de fitting\n",
    "\n",
    "De acordo com a [documentação de **kstest**](https://docs.scipy.org/doc/scipy/reference/generated/scipy.stats.kstest.html):\n",
    "- ``rvs=data``\n",
    "    - Array de observações ordenadas\n",
    "- ``cdf='norm'`` \n",
    "    - Especifica que a distribuição teórica é a de uma normal\n",
    "- ``args=(mean, std)`` \n",
    "    - Parâmetros (μ, σ) da normal teórica\n",
    "\n",
    "Retorna:\n",
    "\n",
    "- ``D (statistic) `` \n",
    "    - Representa a maior diferença absoluta entre aa curva dados e a CDF da Normal teórica\n",
    "    - Quanto menor, mais próximo o ajuste está dos dados observados\n",
    "\n",
    "- ``p-value``\n",
    "    - Probabilidade de observar uma estatística \\( D \\) igual ou mais extrema sob a suposição de que os dados vêm de uma Normal\n",
    "    - **Valores altos (> alpha) indicam falha em rejeitar a hipótese de normalidade**. \n",
    "    - Valores baixos (< alpha) indicam evidência contra a hipótese"
   ]
  },
  {
   "cell_type": "code",
   "execution_count": 17,
   "metadata": {},
   "outputs": [
    {
     "name": "stdout",
     "output_type": "stream",
     "text": [
      "KS statistic: 0.1512\n",
      "p-value: 0.8602\n",
      "alpha = 0.05\n",
      "Hipótese aceita.\n"
     ]
    }
   ],
   "source": [
    "statistic, p_value = kstest(rvs=data, cdf='norm', args=(mean, std))\n",
    "\n",
    "print(f\"KS statistic: {statistic:.4f}\")\n",
    "print(f\"p-value: {p_value:.4f}\")\n",
    "\n",
    "alpha = 0.05\n",
    "print(f'alpha = {alpha}')\n",
    "if p_value < alpha: print(f\"Hipótese rejeitada.\")\n",
    "else: print(f\"Hipótese aceita.\")"
   ]
  }
 ],
 "metadata": {
  "kernelspec": {
   "display_name": "Python 3",
   "language": "python",
   "name": "python3"
  },
  "language_info": {
   "codemirror_mode": {
    "name": "ipython",
    "version": 3
   },
   "file_extension": ".py",
   "mimetype": "text/x-python",
   "name": "python",
   "nbconvert_exporter": "python",
   "pygments_lexer": "ipython3",
   "version": "3.13.7"
  }
 },
 "nbformat": 4,
 "nbformat_minor": 2
}
