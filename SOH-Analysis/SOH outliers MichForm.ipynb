{
 "cells": [
  {
   "cell_type": "code",
   "execution_count": 19,
   "metadata": {},
   "outputs": [],
   "source": [
    "import numpy as np\n",
    "import pandas as pd\n",
    "import seaborn as sns\n",
    "import matplotlib.pyplot as plt\n",
    "from IPython.display import display\n",
    "from scipy.stats import norm, kstest, zscore\n",
    "from sklearn.ensemble import IsolationForest\n"
   ]
  },
  {
   "cell_type": "markdown",
   "metadata": {},
   "source": [
    "# Michigan Formation"
   ]
  },
  {
   "cell_type": "markdown",
   "metadata": {},
   "source": [
    "## Limpeza e preparação"
   ]
  },
  {
   "cell_type": "markdown",
   "metadata": {},
   "source": [
    "- Corrente negativa --> descarga\n",
    "- Corrente positiva --> carga"
   ]
  },
  {
   "cell_type": "code",
   "execution_count": 20,
   "metadata": {},
   "outputs": [
    {
     "data": {
      "application/vnd.microsoft.datawrangler.viewer.v0+json": {
       "columns": [
        {
         "name": "index",
         "rawType": "int64",
         "type": "integer"
        },
        {
         "name": "Cycle_Index",
         "rawType": "float64",
         "type": "float"
        },
        {
         "name": "Test_Time (s)",
         "rawType": "float64",
         "type": "float"
        },
        {
         "name": "Current (A)",
         "rawType": "float64",
         "type": "float"
        },
        {
         "name": "Voltage (V)",
         "rawType": "float64",
         "type": "float"
        },
        {
         "name": "Discharge_Capacity (Ah)",
         "rawType": "float64",
         "type": "float"
        },
        {
         "name": "Cell_Temperature (C)",
         "rawType": "float64",
         "type": "float"
        }
       ],
       "ref": "faff8357-d1a8-4b3f-a57f-cdc37139b52b",
       "rows": [
        [
         "679",
         "1.0",
         "21252.8",
         "-0.784",
         "4.183",
         "0.0",
         null
        ],
        [
         "680",
         "1.0",
         "21261.74",
         "-0.782",
         "4.178",
         "0.002",
         null
        ],
        [
         "681",
         "1.0",
         "21279.89",
         "-0.782",
         "4.173",
         "0.006",
         null
        ],
        [
         "682",
         "1.0",
         "21305.52",
         "-0.782",
         "4.168",
         "0.011",
         null
        ],
        [
         "683",
         "1.0",
         "21336.09",
         "-0.782",
         "4.163",
         "0.018",
         null
        ],
        [
         "684",
         "1.0",
         "21369.5",
         "-0.782",
         "4.158",
         "0.025",
         null
        ],
        [
         "685",
         "1.0",
         "21404.67",
         "-0.782",
         "4.153",
         "0.033",
         null
        ],
        [
         "686",
         "1.0",
         "21440.74",
         "-0.782",
         "4.148",
         "0.041",
         null
        ],
        [
         "687",
         "1.0",
         "21477.54",
         "-0.782",
         "4.143",
         "0.049",
         null
        ],
        [
         "688",
         "1.0",
         "21516.02",
         "-0.782",
         "4.138",
         "0.057",
         null
        ],
        [
         "689",
         "1.0",
         "21555.27",
         "-0.782",
         "4.133",
         "0.066",
         null
        ],
        [
         "690",
         "1.0",
         "21594.18",
         "-0.782",
         "4.128",
         "0.074",
         null
        ],
        [
         "691",
         "1.0",
         "21633.8",
         "-0.782",
         "4.123",
         "0.083",
         null
        ],
        [
         "692",
         "1.0",
         "21674.65",
         "-0.782",
         "4.117",
         "0.092",
         null
        ],
        [
         "693",
         "1.0",
         "21715.67",
         "-0.782",
         "4.112",
         "0.101",
         null
        ],
        [
         "694",
         "1.0",
         "21756.68",
         "-0.782",
         "4.107",
         "0.109",
         null
        ],
        [
         "695",
         "1.0",
         "21799.99",
         "-0.782",
         "4.102",
         "0.119",
         null
        ],
        [
         "696",
         "1.0",
         "21841.84",
         "-0.782",
         "4.097",
         "0.128",
         null
        ],
        [
         "697",
         "1.0",
         "21885.0",
         "-0.782",
         "4.092",
         "0.137",
         null
        ],
        [
         "698",
         "1.0",
         "21928.33",
         "-0.782",
         "4.087",
         "0.147",
         null
        ],
        [
         "699",
         "1.0",
         "21971.49",
         "-0.782",
         "4.082",
         "0.156",
         null
        ],
        [
         "700",
         "1.0",
         "22015.23",
         "-0.782",
         "4.077",
         "0.166",
         null
        ],
        [
         "701",
         "1.0",
         "22059.47",
         "-0.782",
         "4.072",
         "0.175",
         null
        ],
        [
         "702",
         "1.0",
         "22104.3",
         "-0.782",
         "4.067",
         "0.185",
         null
        ],
        [
         "703",
         "1.0",
         "22149.91",
         "-0.782",
         "4.062",
         "0.195",
         null
        ],
        [
         "704",
         "1.0",
         "22195.4",
         "-0.782",
         "4.057",
         "0.205",
         null
        ],
        [
         "705",
         "1.0",
         "22240.59",
         "-0.782",
         "4.052",
         "0.215",
         null
        ],
        [
         "706",
         "1.0",
         "22286.39",
         "-0.782",
         "4.047",
         "0.225",
         null
        ],
        [
         "707",
         "1.0",
         "22332.21",
         "-0.782",
         "4.042",
         "0.234",
         null
        ],
        [
         "708",
         "1.0",
         "22377.93",
         "-0.782",
         "4.037",
         "0.244",
         null
        ],
        [
         "709",
         "1.0",
         "22425.48",
         "-0.782",
         "4.032",
         "0.255",
         null
        ],
        [
         "710",
         "1.0",
         "22472.07",
         "-0.782",
         "4.026",
         "0.265",
         null
        ],
        [
         "711",
         "1.0",
         "22518.63",
         "-0.782",
         "4.021",
         "0.275",
         null
        ],
        [
         "712",
         "1.0",
         "22566.88",
         "-0.782",
         "4.016",
         "0.285",
         null
        ],
        [
         "713",
         "1.0",
         "22614.43",
         "-0.782",
         "4.011",
         "0.296",
         null
        ],
        [
         "714",
         "1.0",
         "22662.75",
         "-0.782",
         "4.006",
         "0.306",
         null
        ],
        [
         "715",
         "1.0",
         "22710.44",
         "-0.782",
         "4.001",
         "0.317",
         null
        ],
        [
         "716",
         "1.0",
         "22758.66",
         "-0.782",
         "3.996",
         "0.327",
         null
        ],
        [
         "717",
         "1.0",
         "22808.86",
         "-0.782",
         "3.991",
         "0.338",
         null
        ],
        [
         "718",
         "1.0",
         "22856.67",
         "-0.782",
         "3.986",
         "0.348",
         null
        ],
        [
         "719",
         "1.0",
         "22906.53",
         "-0.782",
         "3.981",
         "0.359",
         null
        ],
        [
         "720",
         "1.0",
         "22955.89",
         "-0.782",
         "3.976",
         "0.37",
         null
        ],
        [
         "721",
         "1.0",
         "23006.26",
         "-0.782",
         "3.971",
         "0.381",
         null
        ],
        [
         "722",
         "1.0",
         "23056.33",
         "-0.782",
         "3.966",
         "0.392",
         null
        ],
        [
         "723",
         "1.0",
         "23106.84",
         "-0.782",
         "3.961",
         "0.403",
         null
        ],
        [
         "724",
         "1.0",
         "23158.72",
         "-0.782",
         "3.956",
         "0.414",
         null
        ],
        [
         "725",
         "1.0",
         "23210.33",
         "-0.782",
         "3.951",
         "0.425",
         null
        ],
        [
         "726",
         "1.0",
         "23262.22",
         "-0.782",
         "3.946",
         "0.436",
         null
        ],
        [
         "727",
         "1.0",
         "23315.03",
         "-0.782",
         "3.941",
         "0.448",
         null
        ],
        [
         "728",
         "1.0",
         "23368.53",
         "-0.782",
         "3.935",
         "0.46",
         null
        ]
       ],
       "shape": {
        "columns": 6,
        "rows": 121646
       }
      },
      "text/html": [
       "<div>\n",
       "<style scoped>\n",
       "    .dataframe tbody tr th:only-of-type {\n",
       "        vertical-align: middle;\n",
       "    }\n",
       "\n",
       "    .dataframe tbody tr th {\n",
       "        vertical-align: top;\n",
       "    }\n",
       "\n",
       "    .dataframe thead th {\n",
       "        text-align: right;\n",
       "    }\n",
       "</style>\n",
       "<table border=\"1\" class=\"dataframe\">\n",
       "  <thead>\n",
       "    <tr style=\"text-align: right;\">\n",
       "      <th></th>\n",
       "      <th>Cycle_Index</th>\n",
       "      <th>Test_Time (s)</th>\n",
       "      <th>Current (A)</th>\n",
       "      <th>Voltage (V)</th>\n",
       "      <th>Discharge_Capacity (Ah)</th>\n",
       "      <th>Cell_Temperature (C)</th>\n",
       "    </tr>\n",
       "  </thead>\n",
       "  <tbody>\n",
       "    <tr>\n",
       "      <th>679</th>\n",
       "      <td>1.0</td>\n",
       "      <td>21252.80</td>\n",
       "      <td>-0.784</td>\n",
       "      <td>4.183</td>\n",
       "      <td>0.000</td>\n",
       "      <td>NaN</td>\n",
       "    </tr>\n",
       "    <tr>\n",
       "      <th>680</th>\n",
       "      <td>1.0</td>\n",
       "      <td>21261.74</td>\n",
       "      <td>-0.782</td>\n",
       "      <td>4.178</td>\n",
       "      <td>0.002</td>\n",
       "      <td>NaN</td>\n",
       "    </tr>\n",
       "    <tr>\n",
       "      <th>681</th>\n",
       "      <td>1.0</td>\n",
       "      <td>21279.89</td>\n",
       "      <td>-0.782</td>\n",
       "      <td>4.173</td>\n",
       "      <td>0.006</td>\n",
       "      <td>NaN</td>\n",
       "    </tr>\n",
       "    <tr>\n",
       "      <th>682</th>\n",
       "      <td>1.0</td>\n",
       "      <td>21305.52</td>\n",
       "      <td>-0.782</td>\n",
       "      <td>4.168</td>\n",
       "      <td>0.011</td>\n",
       "      <td>NaN</td>\n",
       "    </tr>\n",
       "    <tr>\n",
       "      <th>683</th>\n",
       "      <td>1.0</td>\n",
       "      <td>21336.09</td>\n",
       "      <td>-0.782</td>\n",
       "      <td>4.163</td>\n",
       "      <td>0.018</td>\n",
       "      <td>NaN</td>\n",
       "    </tr>\n",
       "    <tr>\n",
       "      <th>...</th>\n",
       "      <td>...</td>\n",
       "      <td>...</td>\n",
       "      <td>...</td>\n",
       "      <td>...</td>\n",
       "      <td>...</td>\n",
       "      <td>...</td>\n",
       "    </tr>\n",
       "    <tr>\n",
       "      <th>560378</th>\n",
       "      <td>519.0</td>\n",
       "      <td>5757055.34</td>\n",
       "      <td>-0.050</td>\n",
       "      <td>3.000</td>\n",
       "      <td>1.067</td>\n",
       "      <td>NaN</td>\n",
       "    </tr>\n",
       "    <tr>\n",
       "      <th>560379</th>\n",
       "      <td>519.0</td>\n",
       "      <td>5757065.34</td>\n",
       "      <td>-0.051</td>\n",
       "      <td>3.000</td>\n",
       "      <td>1.067</td>\n",
       "      <td>NaN</td>\n",
       "    </tr>\n",
       "    <tr>\n",
       "      <th>560380</th>\n",
       "      <td>519.0</td>\n",
       "      <td>5757075.34</td>\n",
       "      <td>-0.051</td>\n",
       "      <td>3.000</td>\n",
       "      <td>1.068</td>\n",
       "      <td>NaN</td>\n",
       "    </tr>\n",
       "    <tr>\n",
       "      <th>560381</th>\n",
       "      <td>519.0</td>\n",
       "      <td>5757085.34</td>\n",
       "      <td>-0.050</td>\n",
       "      <td>3.000</td>\n",
       "      <td>1.068</td>\n",
       "      <td>NaN</td>\n",
       "    </tr>\n",
       "    <tr>\n",
       "      <th>560382</th>\n",
       "      <td>519.0</td>\n",
       "      <td>5757088.80</td>\n",
       "      <td>-0.047</td>\n",
       "      <td>3.000</td>\n",
       "      <td>1.068</td>\n",
       "      <td>NaN</td>\n",
       "    </tr>\n",
       "  </tbody>\n",
       "</table>\n",
       "<p>121646 rows × 6 columns</p>\n",
       "</div>"
      ],
      "text/plain": [
       "        Cycle_Index  Test_Time (s)  Current (A)  Voltage (V)  \\\n",
       "679             1.0       21252.80       -0.784        4.183   \n",
       "680             1.0       21261.74       -0.782        4.178   \n",
       "681             1.0       21279.89       -0.782        4.173   \n",
       "682             1.0       21305.52       -0.782        4.168   \n",
       "683             1.0       21336.09       -0.782        4.163   \n",
       "...             ...            ...          ...          ...   \n",
       "560378        519.0     5757055.34       -0.050        3.000   \n",
       "560379        519.0     5757065.34       -0.051        3.000   \n",
       "560380        519.0     5757075.34       -0.051        3.000   \n",
       "560381        519.0     5757085.34       -0.050        3.000   \n",
       "560382        519.0     5757088.80       -0.047        3.000   \n",
       "\n",
       "        Discharge_Capacity (Ah)  Cell_Temperature (C)  \n",
       "679                       0.000                   NaN  \n",
       "680                       0.002                   NaN  \n",
       "681                       0.006                   NaN  \n",
       "682                       0.011                   NaN  \n",
       "683                       0.018                   NaN  \n",
       "...                         ...                   ...  \n",
       "560378                    1.067                   NaN  \n",
       "560379                    1.067                   NaN  \n",
       "560380                    1.068                   NaN  \n",
       "560381                    1.068                   NaN  \n",
       "560382                    1.068                   NaN  \n",
       "\n",
       "[121646 rows x 6 columns]"
      ]
     },
     "metadata": {},
     "output_type": "display_data"
    },
    {
     "data": {
      "application/vnd.microsoft.datawrangler.viewer.v0+json": {
       "columns": [
        {
         "name": "index",
         "rawType": "object",
         "type": "string"
        },
        {
         "name": "Cycle_Index",
         "rawType": "float64",
         "type": "float"
        },
        {
         "name": "Test_Time (s)",
         "rawType": "float64",
         "type": "float"
        },
        {
         "name": "Current (A)",
         "rawType": "float64",
         "type": "float"
        },
        {
         "name": "Voltage (V)",
         "rawType": "float64",
         "type": "float"
        },
        {
         "name": "Discharge_Capacity (Ah)",
         "rawType": "float64",
         "type": "float"
        },
        {
         "name": "Cell_Temperature (C)",
         "rawType": "float64",
         "type": "float"
        }
       ],
       "ref": "bec973a2-89bd-4714-b62d-4a5322b557d2",
       "rows": [
        [
         "count",
         "121646.0",
         "121646.0",
         "121646.0",
         "121646.0",
         "121646.0",
         "0.0"
        ],
        [
         "mean",
         "260.7149680219654",
         "3191010.0743781957",
         "-2.2278862847935814",
         "3.5544155829209347",
         "1.0090505729740398",
         null
        ],
        [
         "std",
         "151.58056287019323",
         "1657401.0099549335",
         "0.5321859127207",
         "0.3442451324596634",
         "0.8285911811798379",
         null
        ],
        [
         "min",
         "1.0",
         "21252.8",
         "-2.375",
         "2.988",
         "0.0",
         null
        ],
        [
         "25%",
         "129.0",
         "1704456.4925",
         "-2.37",
         "3.257",
         "0.224",
         null
        ],
        [
         "50%",
         "261.0",
         "3268026.885",
         "-2.37",
         "3.555",
         "0.793",
         null
        ],
        [
         "75%",
         "391.0",
         "4779193.859999999",
         "-2.37",
         "3.849",
         "1.869",
         null
        ],
        [
         "max",
         "519.0",
         "5757088.8",
         "-0.047",
         "4.195",
         "2.523",
         null
        ]
       ],
       "shape": {
        "columns": 6,
        "rows": 8
       }
      },
      "text/html": [
       "<div>\n",
       "<style scoped>\n",
       "    .dataframe tbody tr th:only-of-type {\n",
       "        vertical-align: middle;\n",
       "    }\n",
       "\n",
       "    .dataframe tbody tr th {\n",
       "        vertical-align: top;\n",
       "    }\n",
       "\n",
       "    .dataframe thead th {\n",
       "        text-align: right;\n",
       "    }\n",
       "</style>\n",
       "<table border=\"1\" class=\"dataframe\">\n",
       "  <thead>\n",
       "    <tr style=\"text-align: right;\">\n",
       "      <th></th>\n",
       "      <th>Cycle_Index</th>\n",
       "      <th>Test_Time (s)</th>\n",
       "      <th>Current (A)</th>\n",
       "      <th>Voltage (V)</th>\n",
       "      <th>Discharge_Capacity (Ah)</th>\n",
       "      <th>Cell_Temperature (C)</th>\n",
       "    </tr>\n",
       "  </thead>\n",
       "  <tbody>\n",
       "    <tr>\n",
       "      <th>count</th>\n",
       "      <td>121646.000000</td>\n",
       "      <td>1.216460e+05</td>\n",
       "      <td>121646.000000</td>\n",
       "      <td>121646.000000</td>\n",
       "      <td>121646.000000</td>\n",
       "      <td>0.0</td>\n",
       "    </tr>\n",
       "    <tr>\n",
       "      <th>mean</th>\n",
       "      <td>260.714968</td>\n",
       "      <td>3.191010e+06</td>\n",
       "      <td>-2.227886</td>\n",
       "      <td>3.554416</td>\n",
       "      <td>1.009051</td>\n",
       "      <td>NaN</td>\n",
       "    </tr>\n",
       "    <tr>\n",
       "      <th>std</th>\n",
       "      <td>151.580563</td>\n",
       "      <td>1.657401e+06</td>\n",
       "      <td>0.532186</td>\n",
       "      <td>0.344245</td>\n",
       "      <td>0.828591</td>\n",
       "      <td>NaN</td>\n",
       "    </tr>\n",
       "    <tr>\n",
       "      <th>min</th>\n",
       "      <td>1.000000</td>\n",
       "      <td>2.125280e+04</td>\n",
       "      <td>-2.375000</td>\n",
       "      <td>2.988000</td>\n",
       "      <td>0.000000</td>\n",
       "      <td>NaN</td>\n",
       "    </tr>\n",
       "    <tr>\n",
       "      <th>25%</th>\n",
       "      <td>129.000000</td>\n",
       "      <td>1.704456e+06</td>\n",
       "      <td>-2.370000</td>\n",
       "      <td>3.257000</td>\n",
       "      <td>0.224000</td>\n",
       "      <td>NaN</td>\n",
       "    </tr>\n",
       "    <tr>\n",
       "      <th>50%</th>\n",
       "      <td>261.000000</td>\n",
       "      <td>3.268027e+06</td>\n",
       "      <td>-2.370000</td>\n",
       "      <td>3.555000</td>\n",
       "      <td>0.793000</td>\n",
       "      <td>NaN</td>\n",
       "    </tr>\n",
       "    <tr>\n",
       "      <th>75%</th>\n",
       "      <td>391.000000</td>\n",
       "      <td>4.779194e+06</td>\n",
       "      <td>-2.370000</td>\n",
       "      <td>3.849000</td>\n",
       "      <td>1.869000</td>\n",
       "      <td>NaN</td>\n",
       "    </tr>\n",
       "    <tr>\n",
       "      <th>max</th>\n",
       "      <td>519.000000</td>\n",
       "      <td>5.757089e+06</td>\n",
       "      <td>-0.047000</td>\n",
       "      <td>4.195000</td>\n",
       "      <td>2.523000</td>\n",
       "      <td>NaN</td>\n",
       "    </tr>\n",
       "  </tbody>\n",
       "</table>\n",
       "</div>"
      ],
      "text/plain": [
       "         Cycle_Index  Test_Time (s)    Current (A)    Voltage (V)  \\\n",
       "count  121646.000000   1.216460e+05  121646.000000  121646.000000   \n",
       "mean      260.714968   3.191010e+06      -2.227886       3.554416   \n",
       "std       151.580563   1.657401e+06       0.532186       0.344245   \n",
       "min         1.000000   2.125280e+04      -2.375000       2.988000   \n",
       "25%       129.000000   1.704456e+06      -2.370000       3.257000   \n",
       "50%       261.000000   3.268027e+06      -2.370000       3.555000   \n",
       "75%       391.000000   4.779194e+06      -2.370000       3.849000   \n",
       "max       519.000000   5.757089e+06      -0.047000       4.195000   \n",
       "\n",
       "       Discharge_Capacity (Ah)  Cell_Temperature (C)  \n",
       "count            121646.000000                   0.0  \n",
       "mean                  1.009051                   NaN  \n",
       "std                   0.828591                   NaN  \n",
       "min                   0.000000                   NaN  \n",
       "25%                   0.224000                   NaN  \n",
       "50%                   0.793000                   NaN  \n",
       "75%                   1.869000                   NaN  \n",
       "max                   2.523000                   NaN  "
      ]
     },
     "metadata": {},
     "output_type": "display_data"
    }
   ],
   "source": [
    "# Header completo:\n",
    "# Date_Time,Test_Time (s),Cycle_Index,Current (A),Voltage (V),Charge_Capacity (Ah),Discharge_Capacity (Ah),Charge_Energy (Wh),Discharge_Energy (Wh),Environment_Temperature (C),Cell_Temperature (C)\n",
    "df = pd.read_csv('../Battery_Archive_Data/Michigan Formation/2.36_MICH_BLForm1_pouch_NMC_45C_0-100_1-1C_a_timeseries_data.csv')\n",
    "\n",
    "# Apenas features de interesse são mantidas\n",
    "# Obs: Envoironment_Temperature (C) poderia ser relevante, mas tem todos os valores nulos. Então, é removida\n",
    "df = df[[\"Cycle_Index\", \"Test_Time (s)\", \"Current (A)\", \"Voltage (V)\", \"Discharge_Capacity (Ah)\", \"Cell_Temperature (C)\"]]\n",
    "\n",
    "# Mantem apenas as linhas em que a bateria está descarregando, ou seja, corrente < 0\n",
    "df = df[df['Current (A)'] < 0]\n",
    "\n",
    "# Remove valores para Cell_Temperature < 1 (incorretos)\n",
    "#df = df[df['Cell_Temperature (C)'] >= 1]\n",
    "\n",
    "display(df)\n",
    "display(df.describe())"
   ]
  },
  {
   "cell_type": "markdown",
   "metadata": {},
   "source": [
    "## Visualização"
   ]
  },
  {
   "cell_type": "code",
   "execution_count": 21,
   "metadata": {},
   "outputs": [
    {
     "data": {
      "image/png": "[encoded data removed]",
      "text/plain": [
       "<Figure size 1400x800 with 4 Axes>"
      ]
     },
     "metadata": {},
     "output_type": "display_data"
    }
   ],
   "source": [
    "# Lista de features que deseja analisar (exceto \"Cycle_Index\")\n",
    "features = [\"Current (A)\", \"Voltage (V)\", \"Discharge_Capacity (Ah)\", \"Cell_Temperature (C)\"]\n",
    "\n",
    "# Ciclos únicos e ordenados\n",
    "cycles = df[\"Cycle_Index\"].unique()\n",
    "cycles.sort()\n",
    "NumCyclesPlot = 5\n",
    "\n",
    "# Seleciona 'NumCyclesPlot' ciclos igualmente espaçados para plotar\n",
    "if len(cycles) > NumCyclesPlot:\n",
    "    cycles = cycles[::len(cycles)//NumCyclesPlot] # // --> Divisão inteira\n",
    "\n",
    "# Cria os subplots com layout 2x2\n",
    "fig, axs = plt.subplots(2, 2, figsize=(14, 8))\n",
    "axs = axs.flatten()  # Facilita a iteração\n",
    "\n",
    "# Itera sobre cada feature e sobre os ciclos para plotar os dados\n",
    "for i, feature in enumerate(features):\n",
    "    ax = axs[i]\n",
    "    for cycle in cycles:\n",
    "        # Seleciona os dados do ciclo e calcula o tempo relativo\n",
    "        df_cycle = df[df[\"Cycle_Index\"] == cycle].copy()\n",
    "        df_cycle['Tempo_Relativo (s)'] = df_cycle[\"Test_Time (s)\"] - df_cycle[\"Test_Time (s)\"].min()\n",
    "        \n",
    "        # Plota a feature em função do tempo relativo\n",
    "        ax.plot(df_cycle['Tempo_Relativo (s)'], df_cycle[feature], alpha=0.7, label=f'{int(cycle)}', linewidth=2.0)\n",
    "\n",
    "    ax.set_title(f'{feature} ao longo dos ciclos')\n",
    "    ax.set_xlabel('Tempo Relativo (s)')\n",
    "    ax.set_ylabel(feature)\n",
    "    ax.grid(True)\n",
    "    ax.legend(title=\"Ciclo\", loc='best')\n",
    "\n",
    "plt.tight_layout()\n",
    "plt.show()\n"
   ]
  },
  {
   "cell_type": "markdown",
   "metadata": {},
   "source": [
    "## Análise de SOH"
   ]
  },
  {
   "cell_type": "markdown",
   "metadata": {},
   "source": [
    "$$\n",
    "\\text{SOH} = \\frac{\\text{capacidade\\_atual}}{\\text{capacidade\\_inicial}}\n",
    "$$\n",
    "\n",
    "- $CapacidadeInicial$ é a capacidade nominal, a maior considerando todo o histórico da bateria\n",
    "- $CapacidadeAtual$ é a maior capacidade do ciclo"
   ]
  },
  {
   "cell_type": "code",
   "execution_count": 22,
   "metadata": {},
   "outputs": [
    {
     "name": "stdout",
     "output_type": "stream",
     "text": [
      "Capacidade total de descarga: 2.36 Ah\n"
     ]
    },
    {
     "data": {
      "application/vnd.microsoft.datawrangler.viewer.v0+json": {
       "columns": [
        {
         "name": "index",
         "rawType": "int64",
         "type": "integer"
        },
        {
         "name": "Cycle_Index",
         "rawType": "float64",
         "type": "float"
        },
        {
         "name": "Max_Discharge_Capacity",
         "rawType": "float64",
         "type": "float"
        },
        {
         "name": "SOH_discharge",
         "rawType": "float64",
         "type": "float"
        }
       ],
       "ref": "cfbb1f9c-3baf-4a22-87ce-0ba49cadfb90",
       "rows": [
        [
         "0",
         "1.0",
         "2.501",
         "1.0597457627118645"
        ],
        [
         "1",
         "2.0",
         "2.496",
         "1.0576271186440678"
        ],
        [
         "2",
         "3.0",
         "2.523",
         "1.0690677966101696"
        ],
        [
         "3",
         "4.0",
         "2.356",
         "0.9983050847457627"
        ],
        [
         "4",
         "5.0",
         "2.359",
         "0.9995762711864408"
        ],
        [
         "5",
         "6.0",
         "2.361",
         "1.0004237288135596"
        ],
        [
         "6",
         "7.0",
         "2.362",
         "1.0008474576271187"
        ],
        [
         "7",
         "8.0",
         "2.363",
         "1.001271186440678"
        ],
        [
         "8",
         "9.0",
         "2.363",
         "1.001271186440678"
        ],
        [
         "9",
         "10.0",
         "2.363",
         "1.001271186440678"
        ],
        [
         "10",
         "11.0",
         "2.364",
         "1.0016949152542374"
        ],
        [
         "11",
         "12.0",
         "2.364",
         "1.0016949152542374"
        ],
        [
         "12",
         "13.0",
         "2.364",
         "1.0016949152542374"
        ],
        [
         "13",
         "14.0",
         "2.365",
         "1.0021186440677967"
        ],
        [
         "14",
         "15.0",
         "2.365",
         "1.0021186440677967"
        ],
        [
         "15",
         "16.0",
         "2.365",
         "1.0021186440677967"
        ],
        [
         "16",
         "17.0",
         "2.365",
         "1.0021186440677967"
        ],
        [
         "17",
         "18.0",
         "2.366",
         "1.002542372881356"
        ],
        [
         "18",
         "19.0",
         "2.366",
         "1.002542372881356"
        ],
        [
         "19",
         "20.0",
         "2.365",
         "1.0021186440677967"
        ],
        [
         "20",
         "21.0",
         "2.365",
         "1.0021186440677967"
        ],
        [
         "21",
         "22.0",
         "2.366",
         "1.002542372881356"
        ],
        [
         "22",
         "23.0",
         "2.366",
         "1.002542372881356"
        ],
        [
         "23",
         "24.0",
         "2.366",
         "1.002542372881356"
        ],
        [
         "24",
         "25.0",
         "2.366",
         "1.002542372881356"
        ],
        [
         "25",
         "26.0",
         "2.366",
         "1.002542372881356"
        ],
        [
         "26",
         "27.0",
         "2.366",
         "1.002542372881356"
        ],
        [
         "27",
         "28.0",
         "2.366",
         "1.002542372881356"
        ],
        [
         "28",
         "29.0",
         "2.366",
         "1.002542372881356"
        ],
        [
         "29",
         "30.0",
         "2.366",
         "1.002542372881356"
        ],
        [
         "30",
         "31.0",
         "2.366",
         "1.002542372881356"
        ],
        [
         "31",
         "32.0",
         "2.366",
         "1.002542372881356"
        ],
        [
         "32",
         "33.0",
         "2.365",
         "1.0021186440677967"
        ],
        [
         "33",
         "34.0",
         "2.366",
         "1.002542372881356"
        ],
        [
         "34",
         "35.0",
         "2.346",
         "0.9940677966101695"
        ],
        [
         "35",
         "36.0",
         "2.366",
         "1.002542372881356"
        ],
        [
         "36",
         "37.0",
         "2.366",
         "1.002542372881356"
        ],
        [
         "37",
         "38.0",
         "2.366",
         "1.002542372881356"
        ],
        [
         "38",
         "39.0",
         "2.366",
         "1.002542372881356"
        ],
        [
         "39",
         "40.0",
         "2.366",
         "1.002542372881356"
        ],
        [
         "40",
         "41.0",
         "2.366",
         "1.002542372881356"
        ],
        [
         "41",
         "42.0",
         "2.366",
         "1.002542372881356"
        ],
        [
         "42",
         "43.0",
         "2.365",
         "1.0021186440677967"
        ],
        [
         "43",
         "44.0",
         "2.365",
         "1.0021186440677967"
        ],
        [
         "44",
         "45.0",
         "2.365",
         "1.0021186440677967"
        ],
        [
         "45",
         "46.0",
         "2.365",
         "1.0021186440677967"
        ],
        [
         "46",
         "47.0",
         "2.365",
         "1.0021186440677967"
        ],
        [
         "47",
         "48.0",
         "2.365",
         "1.0021186440677967"
        ],
        [
         "48",
         "49.0",
         "2.365",
         "1.0021186440677967"
        ],
        [
         "49",
         "50.0",
         "2.365",
         "1.0021186440677967"
        ]
       ],
       "shape": {
        "columns": 3,
        "rows": 519
       }
      },
      "text/html": [
       "<div>\n",
       "<style scoped>\n",
       "    .dataframe tbody tr th:only-of-type {\n",
       "        vertical-align: middle;\n",
       "    }\n",
       "\n",
       "    .dataframe tbody tr th {\n",
       "        vertical-align: top;\n",
       "    }\n",
       "\n",
       "    .dataframe thead th {\n",
       "        text-align: right;\n",
       "    }\n",
       "</style>\n",
       "<table border=\"1\" class=\"dataframe\">\n",
       "  <thead>\n",
       "    <tr style=\"text-align: right;\">\n",
       "      <th></th>\n",
       "      <th>Cycle_Index</th>\n",
       "      <th>Max_Discharge_Capacity</th>\n",
       "      <th>SOH_discharge</th>\n",
       "    </tr>\n",
       "  </thead>\n",
       "  <tbody>\n",
       "    <tr>\n",
       "      <th>0</th>\n",
       "      <td>1.0</td>\n",
       "      <td>2.501</td>\n",
       "      <td>1.059746</td>\n",
       "    </tr>\n",
       "    <tr>\n",
       "      <th>1</th>\n",
       "      <td>2.0</td>\n",
       "      <td>2.496</td>\n",
       "      <td>1.057627</td>\n",
       "    </tr>\n",
       "    <tr>\n",
       "      <th>2</th>\n",
       "      <td>3.0</td>\n",
       "      <td>2.523</td>\n",
       "      <td>1.069068</td>\n",
       "    </tr>\n",
       "    <tr>\n",
       "      <th>3</th>\n",
       "      <td>4.0</td>\n",
       "      <td>2.356</td>\n",
       "      <td>0.998305</td>\n",
       "    </tr>\n",
       "    <tr>\n",
       "      <th>4</th>\n",
       "      <td>5.0</td>\n",
       "      <td>2.359</td>\n",
       "      <td>0.999576</td>\n",
       "    </tr>\n",
       "    <tr>\n",
       "      <th>...</th>\n",
       "      <td>...</td>\n",
       "      <td>...</td>\n",
       "      <td>...</td>\n",
       "    </tr>\n",
       "    <tr>\n",
       "      <th>514</th>\n",
       "      <td>515.0</td>\n",
       "      <td>0.238</td>\n",
       "      <td>0.100847</td>\n",
       "    </tr>\n",
       "    <tr>\n",
       "      <th>515</th>\n",
       "      <td>516.0</td>\n",
       "      <td>0.235</td>\n",
       "      <td>0.099576</td>\n",
       "    </tr>\n",
       "    <tr>\n",
       "      <th>516</th>\n",
       "      <td>517.0</td>\n",
       "      <td>0.231</td>\n",
       "      <td>0.097881</td>\n",
       "    </tr>\n",
       "    <tr>\n",
       "      <th>517</th>\n",
       "      <td>518.0</td>\n",
       "      <td>0.895</td>\n",
       "      <td>0.379237</td>\n",
       "    </tr>\n",
       "    <tr>\n",
       "      <th>518</th>\n",
       "      <td>519.0</td>\n",
       "      <td>1.068</td>\n",
       "      <td>0.452542</td>\n",
       "    </tr>\n",
       "  </tbody>\n",
       "</table>\n",
       "<p>519 rows × 3 columns</p>\n",
       "</div>"
      ],
      "text/plain": [
       "     Cycle_Index  Max_Discharge_Capacity  SOH_discharge\n",
       "0            1.0                   2.501       1.059746\n",
       "1            2.0                   2.496       1.057627\n",
       "2            3.0                   2.523       1.069068\n",
       "3            4.0                   2.356       0.998305\n",
       "4            5.0                   2.359       0.999576\n",
       "..           ...                     ...            ...\n",
       "514        515.0                   0.238       0.100847\n",
       "515        516.0                   0.235       0.099576\n",
       "516        517.0                   0.231       0.097881\n",
       "517        518.0                   0.895       0.379237\n",
       "518        519.0                   1.068       0.452542\n",
       "\n",
       "[519 rows x 3 columns]"
      ]
     },
     "metadata": {},
     "output_type": "display_data"
    }
   ],
   "source": [
    "# Capacidade nominal (máxima global)\n",
    "nominal_capacity = 2.36 #df['Discharge_Capacity (Ah)'].max()\n",
    "print(f'Capacidade total de descarga: {nominal_capacity} Ah')\n",
    "\n",
    "# Para cada ciclo, extrai a maior capacidade \n",
    "# (cycles_capacity é uma série do Pandas)\n",
    "cycles_capacity = df.groupby('Cycle_Index')['Discharge_Capacity (Ah)'].max()\n",
    "cycles_capacity = cycles_capacity.reset_index() # transforma em dataframe\n",
    "cycles_capacity.columns = ['Cycle_Index', 'Max_Discharge_Capacity']\n",
    "cycles_capacity['SOH_discharge'] = (cycles_capacity['Max_Discharge_Capacity'] / nominal_capacity)\n",
    "display(cycles_capacity)"
   ]
  },
  {
   "cell_type": "code",
   "execution_count": 23,
   "metadata": {},
   "outputs": [
    {
     "data": {
      "application/vnd.microsoft.datawrangler.viewer.v0+json": {
       "columns": [
        {
         "name": "index",
         "rawType": "int64",
         "type": "integer"
        },
        {
         "name": "Cycle_Index",
         "rawType": "float64",
         "type": "float"
        },
        {
         "name": "Cell_Temperature (C)",
         "rawType": "float64",
         "type": "float"
        },
        {
         "name": "SOH_discharge",
         "rawType": "float64",
         "type": "float"
        }
       ],
       "ref": "3b43dd3b-572e-4180-8c05-474686374820",
       "rows": [
        [
         "0",
         "1.0",
         null,
         "1.0597457627118645"
        ],
        [
         "1",
         "2.0",
         null,
         "1.0576271186440678"
        ],
        [
         "2",
         "3.0",
         null,
         "1.0690677966101696"
        ],
        [
         "3",
         "4.0",
         null,
         "0.9983050847457627"
        ],
        [
         "4",
         "5.0",
         null,
         "0.9995762711864408"
        ],
        [
         "5",
         "6.0",
         null,
         "1.0004237288135596"
        ],
        [
         "6",
         "7.0",
         null,
         "1.0008474576271187"
        ],
        [
         "7",
         "8.0",
         null,
         "1.001271186440678"
        ],
        [
         "8",
         "9.0",
         null,
         "1.001271186440678"
        ],
        [
         "9",
         "10.0",
         null,
         "1.001271186440678"
        ],
        [
         "10",
         "11.0",
         null,
         "1.0016949152542374"
        ],
        [
         "11",
         "12.0",
         null,
         "1.0016949152542374"
        ],
        [
         "12",
         "13.0",
         null,
         "1.0016949152542374"
        ],
        [
         "13",
         "14.0",
         null,
         "1.0021186440677967"
        ],
        [
         "14",
         "15.0",
         null,
         "1.0021186440677967"
        ],
        [
         "15",
         "16.0",
         null,
         "1.0021186440677967"
        ],
        [
         "16",
         "17.0",
         null,
         "1.0021186440677967"
        ],
        [
         "17",
         "18.0",
         null,
         "1.002542372881356"
        ],
        [
         "18",
         "19.0",
         null,
         "1.002542372881356"
        ],
        [
         "19",
         "20.0",
         null,
         "1.0021186440677967"
        ],
        [
         "20",
         "21.0",
         null,
         "1.0021186440677967"
        ],
        [
         "21",
         "22.0",
         null,
         "1.002542372881356"
        ],
        [
         "22",
         "23.0",
         null,
         "1.002542372881356"
        ],
        [
         "23",
         "24.0",
         null,
         "1.002542372881356"
        ],
        [
         "24",
         "25.0",
         null,
         "1.002542372881356"
        ],
        [
         "25",
         "26.0",
         null,
         "1.002542372881356"
        ],
        [
         "26",
         "27.0",
         null,
         "1.002542372881356"
        ],
        [
         "27",
         "28.0",
         null,
         "1.002542372881356"
        ],
        [
         "28",
         "29.0",
         null,
         "1.002542372881356"
        ],
        [
         "29",
         "30.0",
         null,
         "1.002542372881356"
        ],
        [
         "30",
         "31.0",
         null,
         "1.002542372881356"
        ],
        [
         "31",
         "32.0",
         null,
         "1.002542372881356"
        ],
        [
         "32",
         "33.0",
         null,
         "1.0021186440677967"
        ],
        [
         "33",
         "34.0",
         null,
         "1.002542372881356"
        ],
        [
         "34",
         "35.0",
         null,
         "0.9940677966101695"
        ],
        [
         "35",
         "36.0",
         null,
         "1.002542372881356"
        ],
        [
         "36",
         "37.0",
         null,
         "1.002542372881356"
        ],
        [
         "37",
         "38.0",
         null,
         "1.002542372881356"
        ],
        [
         "38",
         "39.0",
         null,
         "1.002542372881356"
        ],
        [
         "39",
         "40.0",
         null,
         "1.002542372881356"
        ],
        [
         "40",
         "41.0",
         null,
         "1.002542372881356"
        ],
        [
         "41",
         "42.0",
         null,
         "1.002542372881356"
        ],
        [
         "42",
         "43.0",
         null,
         "1.0021186440677967"
        ],
        [
         "43",
         "44.0",
         null,
         "1.0021186440677967"
        ],
        [
         "44",
         "45.0",
         null,
         "1.0021186440677967"
        ],
        [
         "45",
         "46.0",
         null,
         "1.0021186440677967"
        ],
        [
         "46",
         "47.0",
         null,
         "1.0021186440677967"
        ],
        [
         "47",
         "48.0",
         null,
         "1.0021186440677967"
        ],
        [
         "48",
         "49.0",
         null,
         "1.0021186440677967"
        ],
        [
         "49",
         "50.0",
         null,
         "1.0021186440677967"
        ]
       ],
       "shape": {
        "columns": 3,
        "rows": 519
       }
      },
      "text/html": [
       "<div>\n",
       "<style scoped>\n",
       "    .dataframe tbody tr th:only-of-type {\n",
       "        vertical-align: middle;\n",
       "    }\n",
       "\n",
       "    .dataframe tbody tr th {\n",
       "        vertical-align: top;\n",
       "    }\n",
       "\n",
       "    .dataframe thead th {\n",
       "        text-align: right;\n",
       "    }\n",
       "</style>\n",
       "<table border=\"1\" class=\"dataframe\">\n",
       "  <thead>\n",
       "    <tr style=\"text-align: right;\">\n",
       "      <th></th>\n",
       "      <th>Cycle_Index</th>\n",
       "      <th>Cell_Temperature (C)</th>\n",
       "      <th>SOH_discharge</th>\n",
       "    </tr>\n",
       "  </thead>\n",
       "  <tbody>\n",
       "    <tr>\n",
       "      <th>0</th>\n",
       "      <td>1.0</td>\n",
       "      <td>NaN</td>\n",
       "      <td>1.059746</td>\n",
       "    </tr>\n",
       "    <tr>\n",
       "      <th>1</th>\n",
       "      <td>2.0</td>\n",
       "      <td>NaN</td>\n",
       "      <td>1.057627</td>\n",
       "    </tr>\n",
       "    <tr>\n",
       "      <th>2</th>\n",
       "      <td>3.0</td>\n",
       "      <td>NaN</td>\n",
       "      <td>1.069068</td>\n",
       "    </tr>\n",
       "    <tr>\n",
       "      <th>3</th>\n",
       "      <td>4.0</td>\n",
       "      <td>NaN</td>\n",
       "      <td>0.998305</td>\n",
       "    </tr>\n",
       "    <tr>\n",
       "      <th>4</th>\n",
       "      <td>5.0</td>\n",
       "      <td>NaN</td>\n",
       "      <td>0.999576</td>\n",
       "    </tr>\n",
       "    <tr>\n",
       "      <th>...</th>\n",
       "      <td>...</td>\n",
       "      <td>...</td>\n",
       "      <td>...</td>\n",
       "    </tr>\n",
       "    <tr>\n",
       "      <th>514</th>\n",
       "      <td>515.0</td>\n",
       "      <td>NaN</td>\n",
       "      <td>0.100847</td>\n",
       "    </tr>\n",
       "    <tr>\n",
       "      <th>515</th>\n",
       "      <td>516.0</td>\n",
       "      <td>NaN</td>\n",
       "      <td>0.099576</td>\n",
       "    </tr>\n",
       "    <tr>\n",
       "      <th>516</th>\n",
       "      <td>517.0</td>\n",
       "      <td>NaN</td>\n",
       "      <td>0.097881</td>\n",
       "    </tr>\n",
       "    <tr>\n",
       "      <th>517</th>\n",
       "      <td>518.0</td>\n",
       "      <td>NaN</td>\n",
       "      <td>0.379237</td>\n",
       "    </tr>\n",
       "    <tr>\n",
       "      <th>518</th>\n",
       "      <td>519.0</td>\n",
       "      <td>NaN</td>\n",
       "      <td>0.452542</td>\n",
       "    </tr>\n",
       "  </tbody>\n",
       "</table>\n",
       "<p>519 rows × 3 columns</p>\n",
       "</div>"
      ],
      "text/plain": [
       "     Cycle_Index  Cell_Temperature (C)  SOH_discharge\n",
       "0            1.0                   NaN       1.059746\n",
       "1            2.0                   NaN       1.057627\n",
       "2            3.0                   NaN       1.069068\n",
       "3            4.0                   NaN       0.998305\n",
       "4            5.0                   NaN       0.999576\n",
       "..           ...                   ...            ...\n",
       "514        515.0                   NaN       0.100847\n",
       "515        516.0                   NaN       0.099576\n",
       "516        517.0                   NaN       0.097881\n",
       "517        518.0                   NaN       0.379237\n",
       "518        519.0                   NaN       0.452542\n",
       "\n",
       "[519 rows x 3 columns]"
      ]
     },
     "metadata": {},
     "output_type": "display_data"
    },
    {
     "data": {
      "application/vnd.microsoft.datawrangler.viewer.v0+json": {
       "columns": [
        {
         "name": "index",
         "rawType": "object",
         "type": "string"
        },
        {
         "name": "Cycle_Index",
         "rawType": "float64",
         "type": "float"
        },
        {
         "name": "Cell_Temperature (C)",
         "rawType": "float64",
         "type": "float"
        },
        {
         "name": "SOH_discharge",
         "rawType": "float64",
         "type": "float"
        }
       ],
       "ref": "26215c02-f61f-42f8-8767-279762e88d65",
       "rows": [
        [
         "count",
         "519.0",
         "0.0",
         "519.0"
        ],
        [
         "mean",
         "260.0",
         null,
         "0.7388107834492669"
        ],
        [
         "std",
         "149.96666296213968",
         null,
         "0.3320707953731684"
        ],
        [
         "min",
         "1.0",
         null,
         "0.00847457627118644"
        ],
        [
         "25%",
         "130.5",
         null,
         "0.5610169491525424"
        ],
        [
         "50%",
         "260.0",
         null,
         "0.9338983050847459"
        ],
        [
         "75%",
         "389.5",
         null,
         "0.9849576271186442"
        ],
        [
         "max",
         "519.0",
         null,
         "1.0690677966101696"
        ]
       ],
       "shape": {
        "columns": 3,
        "rows": 8
       }
      },
      "text/html": [
       "<div>\n",
       "<style scoped>\n",
       "    .dataframe tbody tr th:only-of-type {\n",
       "        vertical-align: middle;\n",
       "    }\n",
       "\n",
       "    .dataframe tbody tr th {\n",
       "        vertical-align: top;\n",
       "    }\n",
       "\n",
       "    .dataframe thead th {\n",
       "        text-align: right;\n",
       "    }\n",
       "</style>\n",
       "<table border=\"1\" class=\"dataframe\">\n",
       "  <thead>\n",
       "    <tr style=\"text-align: right;\">\n",
       "      <th></th>\n",
       "      <th>Cycle_Index</th>\n",
       "      <th>Cell_Temperature (C)</th>\n",
       "      <th>SOH_discharge</th>\n",
       "    </tr>\n",
       "  </thead>\n",
       "  <tbody>\n",
       "    <tr>\n",
       "      <th>count</th>\n",
       "      <td>519.000000</td>\n",
       "      <td>0.0</td>\n",
       "      <td>519.000000</td>\n",
       "    </tr>\n",
       "    <tr>\n",
       "      <th>mean</th>\n",
       "      <td>260.000000</td>\n",
       "      <td>NaN</td>\n",
       "      <td>0.738811</td>\n",
       "    </tr>\n",
       "    <tr>\n",
       "      <th>std</th>\n",
       "      <td>149.966663</td>\n",
       "      <td>NaN</td>\n",
       "      <td>0.332071</td>\n",
       "    </tr>\n",
       "    <tr>\n",
       "      <th>min</th>\n",
       "      <td>1.000000</td>\n",
       "      <td>NaN</td>\n",
       "      <td>0.008475</td>\n",
       "    </tr>\n",
       "    <tr>\n",
       "      <th>25%</th>\n",
       "      <td>130.500000</td>\n",
       "      <td>NaN</td>\n",
       "      <td>0.561017</td>\n",
       "    </tr>\n",
       "    <tr>\n",
       "      <th>50%</th>\n",
       "      <td>260.000000</td>\n",
       "      <td>NaN</td>\n",
       "      <td>0.933898</td>\n",
       "    </tr>\n",
       "    <tr>\n",
       "      <th>75%</th>\n",
       "      <td>389.500000</td>\n",
       "      <td>NaN</td>\n",
       "      <td>0.984958</td>\n",
       "    </tr>\n",
       "    <tr>\n",
       "      <th>max</th>\n",
       "      <td>519.000000</td>\n",
       "      <td>NaN</td>\n",
       "      <td>1.069068</td>\n",
       "    </tr>\n",
       "  </tbody>\n",
       "</table>\n",
       "</div>"
      ],
      "text/plain": [
       "       Cycle_Index  Cell_Temperature (C)  SOH_discharge\n",
       "count   519.000000                   0.0     519.000000\n",
       "mean    260.000000                   NaN       0.738811\n",
       "std     149.966663                   NaN       0.332071\n",
       "min       1.000000                   NaN       0.008475\n",
       "25%     130.500000                   NaN       0.561017\n",
       "50%     260.000000                   NaN       0.933898\n",
       "75%     389.500000                   NaN       0.984958\n",
       "max     519.000000                   NaN       1.069068"
      ]
     },
     "metadata": {},
     "output_type": "display_data"
    }
   ],
   "source": [
    "# Seleciona as features de interesse e agrupa por ciclo\n",
    "df_grouped = df[['Cycle_Index', 'Cell_Temperature (C)']]\n",
    "df_grouped = df_grouped.groupby('Cycle_Index', as_index=False).mean() # Média será usada para a temperatura\n",
    "\n",
    "# Adição do SOH calculado em ciclos_capacity\n",
    "df_grouped['SOH_discharge'] = cycles_capacity['SOH_discharge']\n",
    "\n",
    "display(df_grouped)\n",
    "display(df_grouped.describe())"
   ]
  },
  {
   "cell_type": "markdown",
   "metadata": {},
   "source": [
    "### Outliers"
   ]
  },
  {
   "cell_type": "code",
   "execution_count": 24,
   "metadata": {},
   "outputs": [],
   "source": [
    "# Técnica estatística para identificar outliers em um conjunto de dados, calculando o intervalo entre o primeiro quartil (Q1) e o terceiro quartil (Q3), e usando para definir limites superiores e inferiores. Outliers são definidos como pontos que caem abaixo de Q1 - 1.5 * IQR ou acima de Q3 + 1.5 * IQR. Este método é robusto contra a não normalidade dos dados, sendo útil para distribuições assimétricas.\n",
    "def rmv_outliers_iqr(df: pd.DataFrame, column_name: str) -> pd.DataFrame:\n",
    "    # Calculate the first and third quartiles\n",
    "    Q1 = df[column_name].quantile(0.25)\n",
    "    Q3 = df[column_name].quantile(0.75)\n",
    "    \n",
    "    # Calculate the Interquartile Range (IQR)\n",
    "    IQR = Q3 - Q1\n",
    "    \n",
    "    # Define the lower and upper bounds for outliers\n",
    "    lower_bound = Q1 - 1.5 * IQR\n",
    "    upper_bound = Q3 + 1.5 * IQR\n",
    "    \n",
    "    # Filter the DataFrame to keep only the values within the bounds\n",
    "    filtered_df = df[(df[column_name] >= lower_bound) & (df[column_name] <= upper_bound)]\n",
    "    \n",
    "    return filtered_df"
   ]
  },
  {
   "cell_type": "code",
   "execution_count": 25,
   "metadata": {},
   "outputs": [],
   "source": [
    "# Algoritmo de machine learning não supervisionado usado para detecção de anomalias, que identifica outliers isolando-os a partir de partições aleatórias em um conjunto de árvores de decisão\n",
    "def rmv_outliers_isolation_forest(df: pd.DataFrame, column_name: str, contamin='auto') -> pd.DataFrame:\n",
    "    model = IsolationForest(contamination=contamin, random_state=123)\n",
    "    \n",
    "    # Fit the model and predict outliers. The data needs to be reshaped to a 2D array.\n",
    "    predictions = model.fit_predict(df[[column_name]].values)\n",
    "    \n",
    "    # Filter the DataFrame to keep only the inliers (predictions == 1)\n",
    "    filtered_df = df[predictions == 1]\n",
    "    \n",
    "    return filtered_df"
   ]
  },
  {
   "cell_type": "code",
   "execution_count": 26,
   "metadata": {},
   "outputs": [],
   "source": [
    "def rmv_outliers_zscore(df: pd.DataFrame, column_name: str, threshold: float = 3.0) -> pd.DataFrame:\n",
    "    # Calculate the Z-scores of the column\n",
    "    z_scores = np.abs(zscore(df[column_name]))\n",
    "    \n",
    "    # Create a boolean mask to filter out outliers\n",
    "    inlier_mask = z_scores <= threshold\n",
    "    \n",
    "    # Filter the DataFrame to keep only the inliers\n",
    "    filtered_df = df[inlier_mask]\n",
    "    \n",
    "    return filtered_df"
   ]
  },
  {
   "cell_type": "code",
   "execution_count": 27,
   "metadata": {},
   "outputs": [],
   "source": [
    "def ensure_non_increasing(df: pd.DataFrame, column_name: str) -> pd.DataFrame:\n",
    "    # Create a boolean mask where True indicates a valid decreasing or equal step\n",
    "    is_decreasing = df[column_name].diff().fillna(-1) <= 0\n",
    "    \n",
    "    # Filter the DataFrame to keep only the monotonic values\n",
    "    filtered_df = df[is_decreasing]\n",
    "    \n",
    "    return filtered_df"
   ]
  },
  {
   "cell_type": "code",
   "execution_count": 28,
   "metadata": {},
   "outputs": [],
   "source": [
    "def rmv_sharp_jump(df: pd.DataFrame, column_name: str, threshold: float, repeat=1) -> pd.DataFrame:\n",
    "    for _ in range(repeat):\n",
    "        # diff -> a diferença entre os valores consecutivos\n",
    "        # abs -> o valor absoluto para tratar subidas e quedas\n",
    "        # shift(-1) -> para que a diferença seja aplicada ao ponto de origem do salto\n",
    "        # fillna(0) -> trata o último valor (que é NaN após o shift) com 0 para que ele seja mantido\n",
    "        shifted_diff = df[column_name].diff().abs().shift(-1).fillna(0)\n",
    "        \n",
    "        is_not_sharp_jump = shifted_diff <= threshold\n",
    "        df = df[is_not_sharp_jump]\n",
    "    \n",
    "    return df"
   ]
  },
  {
   "cell_type": "code",
   "execution_count": 29,
   "metadata": {},
   "outputs": [
    {
     "data": {
      "application/vnd.microsoft.datawrangler.viewer.v0+json": {
       "columns": [
        {
         "name": "index",
         "rawType": "int64",
         "type": "integer"
        },
        {
         "name": "Cycle_Index",
         "rawType": "float64",
         "type": "float"
        },
        {
         "name": "Cell_Temperature (C)",
         "rawType": "float64",
         "type": "float"
        },
        {
         "name": "SOH_discharge",
         "rawType": "float64",
         "type": "float"
        }
       ],
       "ref": "9c980273-7646-4718-8acb-2625b8df3d4b",
       "rows": [
        [
         "0",
         "1.0",
         null,
         "1.0597457627118645"
        ],
        [
         "1",
         "2.0",
         null,
         "1.0576271186440678"
        ],
        [
         "2",
         "3.0",
         null,
         "1.0690677966101696"
        ],
        [
         "3",
         "4.0",
         null,
         "0.9983050847457627"
        ],
        [
         "4",
         "5.0",
         null,
         "0.9995762711864408"
        ],
        [
         "5",
         "6.0",
         null,
         "1.0004237288135596"
        ],
        [
         "6",
         "7.0",
         null,
         "1.0008474576271187"
        ],
        [
         "7",
         "8.0",
         null,
         "1.001271186440678"
        ],
        [
         "8",
         "9.0",
         null,
         "1.001271186440678"
        ],
        [
         "9",
         "10.0",
         null,
         "1.001271186440678"
        ],
        [
         "10",
         "11.0",
         null,
         "1.0016949152542374"
        ],
        [
         "11",
         "12.0",
         null,
         "1.0016949152542374"
        ],
        [
         "12",
         "13.0",
         null,
         "1.0016949152542374"
        ],
        [
         "13",
         "14.0",
         null,
         "1.0021186440677967"
        ],
        [
         "14",
         "15.0",
         null,
         "1.0021186440677967"
        ],
        [
         "15",
         "16.0",
         null,
         "1.0021186440677967"
        ],
        [
         "16",
         "17.0",
         null,
         "1.0021186440677967"
        ],
        [
         "17",
         "18.0",
         null,
         "1.002542372881356"
        ],
        [
         "18",
         "19.0",
         null,
         "1.002542372881356"
        ],
        [
         "19",
         "20.0",
         null,
         "1.0021186440677967"
        ],
        [
         "20",
         "21.0",
         null,
         "1.0021186440677967"
        ],
        [
         "21",
         "22.0",
         null,
         "1.002542372881356"
        ],
        [
         "22",
         "23.0",
         null,
         "1.002542372881356"
        ],
        [
         "23",
         "24.0",
         null,
         "1.002542372881356"
        ],
        [
         "24",
         "25.0",
         null,
         "1.002542372881356"
        ],
        [
         "25",
         "26.0",
         null,
         "1.002542372881356"
        ],
        [
         "26",
         "27.0",
         null,
         "1.002542372881356"
        ],
        [
         "27",
         "28.0",
         null,
         "1.002542372881356"
        ],
        [
         "28",
         "29.0",
         null,
         "1.002542372881356"
        ],
        [
         "29",
         "30.0",
         null,
         "1.002542372881356"
        ],
        [
         "30",
         "31.0",
         null,
         "1.002542372881356"
        ],
        [
         "31",
         "32.0",
         null,
         "1.002542372881356"
        ],
        [
         "32",
         "33.0",
         null,
         "1.0021186440677967"
        ],
        [
         "33",
         "34.0",
         null,
         "1.002542372881356"
        ],
        [
         "34",
         "35.0",
         null,
         "0.9940677966101695"
        ],
        [
         "35",
         "36.0",
         null,
         "1.002542372881356"
        ],
        [
         "36",
         "37.0",
         null,
         "1.002542372881356"
        ],
        [
         "37",
         "38.0",
         null,
         "1.002542372881356"
        ],
        [
         "38",
         "39.0",
         null,
         "1.002542372881356"
        ],
        [
         "39",
         "40.0",
         null,
         "1.002542372881356"
        ],
        [
         "40",
         "41.0",
         null,
         "1.002542372881356"
        ],
        [
         "41",
         "42.0",
         null,
         "1.002542372881356"
        ],
        [
         "42",
         "43.0",
         null,
         "1.0021186440677967"
        ],
        [
         "43",
         "44.0",
         null,
         "1.0021186440677967"
        ],
        [
         "44",
         "45.0",
         null,
         "1.0021186440677967"
        ],
        [
         "45",
         "46.0",
         null,
         "1.0021186440677967"
        ],
        [
         "46",
         "47.0",
         null,
         "1.0021186440677967"
        ],
        [
         "47",
         "48.0",
         null,
         "1.0021186440677967"
        ],
        [
         "48",
         "49.0",
         null,
         "1.0021186440677967"
        ],
        [
         "49",
         "50.0",
         null,
         "1.0021186440677967"
        ]
       ],
       "shape": {
        "columns": 3,
        "rows": 519
       }
      },
      "text/html": [
       "<div>\n",
       "<style scoped>\n",
       "    .dataframe tbody tr th:only-of-type {\n",
       "        vertical-align: middle;\n",
       "    }\n",
       "\n",
       "    .dataframe tbody tr th {\n",
       "        vertical-align: top;\n",
       "    }\n",
       "\n",
       "    .dataframe thead th {\n",
       "        text-align: right;\n",
       "    }\n",
       "</style>\n",
       "<table border=\"1\" class=\"dataframe\">\n",
       "  <thead>\n",
       "    <tr style=\"text-align: right;\">\n",
       "      <th></th>\n",
       "      <th>Cycle_Index</th>\n",
       "      <th>Cell_Temperature (C)</th>\n",
       "      <th>SOH_discharge</th>\n",
       "    </tr>\n",
       "  </thead>\n",
       "  <tbody>\n",
       "    <tr>\n",
       "      <th>0</th>\n",
       "      <td>1.0</td>\n",
       "      <td>NaN</td>\n",
       "      <td>1.059746</td>\n",
       "    </tr>\n",
       "    <tr>\n",
       "      <th>1</th>\n",
       "      <td>2.0</td>\n",
       "      <td>NaN</td>\n",
       "      <td>1.057627</td>\n",
       "    </tr>\n",
       "    <tr>\n",
       "      <th>2</th>\n",
       "      <td>3.0</td>\n",
       "      <td>NaN</td>\n",
       "      <td>1.069068</td>\n",
       "    </tr>\n",
       "    <tr>\n",
       "      <th>3</th>\n",
       "      <td>4.0</td>\n",
       "      <td>NaN</td>\n",
       "      <td>0.998305</td>\n",
       "    </tr>\n",
       "    <tr>\n",
       "      <th>4</th>\n",
       "      <td>5.0</td>\n",
       "      <td>NaN</td>\n",
       "      <td>0.999576</td>\n",
       "    </tr>\n",
       "    <tr>\n",
       "      <th>...</th>\n",
       "      <td>...</td>\n",
       "      <td>...</td>\n",
       "      <td>...</td>\n",
       "    </tr>\n",
       "    <tr>\n",
       "      <th>514</th>\n",
       "      <td>515.0</td>\n",
       "      <td>NaN</td>\n",
       "      <td>0.100847</td>\n",
       "    </tr>\n",
       "    <tr>\n",
       "      <th>515</th>\n",
       "      <td>516.0</td>\n",
       "      <td>NaN</td>\n",
       "      <td>0.099576</td>\n",
       "    </tr>\n",
       "    <tr>\n",
       "      <th>516</th>\n",
       "      <td>517.0</td>\n",
       "      <td>NaN</td>\n",
       "      <td>0.097881</td>\n",
       "    </tr>\n",
       "    <tr>\n",
       "      <th>517</th>\n",
       "      <td>518.0</td>\n",
       "      <td>NaN</td>\n",
       "      <td>0.379237</td>\n",
       "    </tr>\n",
       "    <tr>\n",
       "      <th>518</th>\n",
       "      <td>519.0</td>\n",
       "      <td>NaN</td>\n",
       "      <td>0.452542</td>\n",
       "    </tr>\n",
       "  </tbody>\n",
       "</table>\n",
       "<p>519 rows × 3 columns</p>\n",
       "</div>"
      ],
      "text/plain": [
       "     Cycle_Index  Cell_Temperature (C)  SOH_discharge\n",
       "0            1.0                   NaN       1.059746\n",
       "1            2.0                   NaN       1.057627\n",
       "2            3.0                   NaN       1.069068\n",
       "3            4.0                   NaN       0.998305\n",
       "4            5.0                   NaN       0.999576\n",
       "..           ...                   ...            ...\n",
       "514        515.0                   NaN       0.100847\n",
       "515        516.0                   NaN       0.099576\n",
       "516        517.0                   NaN       0.097881\n",
       "517        518.0                   NaN       0.379237\n",
       "518        519.0                   NaN       0.452542\n",
       "\n",
       "[519 rows x 3 columns]"
      ]
     },
     "metadata": {},
     "output_type": "display_data"
    },
    {
     "data": {
      "application/vnd.microsoft.datawrangler.viewer.v0+json": {
       "columns": [
        {
         "name": "index",
         "rawType": "int64",
         "type": "integer"
        },
        {
         "name": "Cycle_Index",
         "rawType": "float64",
         "type": "float"
        },
        {
         "name": "Cell_Temperature (C)",
         "rawType": "float64",
         "type": "float"
        },
        {
         "name": "SOH_discharge",
         "rawType": "float64",
         "type": "float"
        }
       ],
       "ref": "c22e90c7-ddd2-4af5-b893-62ac48d8c4a1",
       "rows": [
        [
         "3",
         "4.0",
         null,
         "0.9983050847457627"
        ],
        [
         "8",
         "9.0",
         null,
         "1.001271186440678"
        ],
        [
         "9",
         "10.0",
         null,
         "1.001271186440678"
        ],
        [
         "11",
         "12.0",
         null,
         "1.0016949152542374"
        ],
        [
         "12",
         "13.0",
         null,
         "1.0016949152542374"
        ],
        [
         "14",
         "15.0",
         null,
         "1.0021186440677967"
        ],
        [
         "15",
         "16.0",
         null,
         "1.0021186440677967"
        ],
        [
         "16",
         "17.0",
         null,
         "1.0021186440677967"
        ],
        [
         "18",
         "19.0",
         null,
         "1.002542372881356"
        ],
        [
         "19",
         "20.0",
         null,
         "1.0021186440677967"
        ],
        [
         "20",
         "21.0",
         null,
         "1.0021186440677967"
        ],
        [
         "22",
         "23.0",
         null,
         "1.002542372881356"
        ],
        [
         "23",
         "24.0",
         null,
         "1.002542372881356"
        ],
        [
         "24",
         "25.0",
         null,
         "1.002542372881356"
        ],
        [
         "25",
         "26.0",
         null,
         "1.002542372881356"
        ],
        [
         "26",
         "27.0",
         null,
         "1.002542372881356"
        ],
        [
         "27",
         "28.0",
         null,
         "1.002542372881356"
        ],
        [
         "28",
         "29.0",
         null,
         "1.002542372881356"
        ],
        [
         "29",
         "30.0",
         null,
         "1.002542372881356"
        ],
        [
         "30",
         "31.0",
         null,
         "1.002542372881356"
        ],
        [
         "31",
         "32.0",
         null,
         "1.002542372881356"
        ],
        [
         "32",
         "33.0",
         null,
         "1.0021186440677967"
        ],
        [
         "34",
         "35.0",
         null,
         "0.9940677966101695"
        ],
        [
         "36",
         "37.0",
         null,
         "1.002542372881356"
        ],
        [
         "37",
         "38.0",
         null,
         "1.002542372881356"
        ],
        [
         "38",
         "39.0",
         null,
         "1.002542372881356"
        ],
        [
         "39",
         "40.0",
         null,
         "1.002542372881356"
        ],
        [
         "40",
         "41.0",
         null,
         "1.002542372881356"
        ],
        [
         "41",
         "42.0",
         null,
         "1.002542372881356"
        ],
        [
         "42",
         "43.0",
         null,
         "1.0021186440677967"
        ],
        [
         "43",
         "44.0",
         null,
         "1.0021186440677967"
        ],
        [
         "44",
         "45.0",
         null,
         "1.0021186440677967"
        ],
        [
         "45",
         "46.0",
         null,
         "1.0021186440677967"
        ],
        [
         "46",
         "47.0",
         null,
         "1.0021186440677967"
        ],
        [
         "47",
         "48.0",
         null,
         "1.0021186440677967"
        ],
        [
         "48",
         "49.0",
         null,
         "1.0021186440677967"
        ],
        [
         "49",
         "50.0",
         null,
         "1.0021186440677967"
        ],
        [
         "50",
         "51.0",
         null,
         "1.0021186440677967"
        ],
        [
         "51",
         "52.0",
         null,
         "1.0016949152542374"
        ],
        [
         "56",
         "57.0",
         null,
         "0.9961864406779661"
        ],
        [
         "60",
         "61.0",
         null,
         "0.9983050847457627"
        ],
        [
         "61",
         "62.0",
         null,
         "0.9983050847457627"
        ],
        [
         "63",
         "64.0",
         null,
         "0.9983050847457627"
        ],
        [
         "64",
         "65.0",
         null,
         "0.9983050847457627"
        ],
        [
         "65",
         "66.0",
         null,
         "0.9983050847457627"
        ],
        [
         "66",
         "67.0",
         null,
         "0.9983050847457627"
        ],
        [
         "67",
         "68.0",
         null,
         "0.9983050847457627"
        ],
        [
         "68",
         "69.0",
         null,
         "0.9978813559322034"
        ],
        [
         "69",
         "70.0",
         null,
         "0.9978813559322034"
        ],
        [
         "70",
         "71.0",
         null,
         "0.9978813559322034"
        ]
       ],
       "shape": {
        "columns": 3,
        "rows": 296
       }
      },
      "text/html": [
       "<div>\n",
       "<style scoped>\n",
       "    .dataframe tbody tr th:only-of-type {\n",
       "        vertical-align: middle;\n",
       "    }\n",
       "\n",
       "    .dataframe tbody tr th {\n",
       "        vertical-align: top;\n",
       "    }\n",
       "\n",
       "    .dataframe thead th {\n",
       "        text-align: right;\n",
       "    }\n",
       "</style>\n",
       "<table border=\"1\" class=\"dataframe\">\n",
       "  <thead>\n",
       "    <tr style=\"text-align: right;\">\n",
       "      <th></th>\n",
       "      <th>Cycle_Index</th>\n",
       "      <th>Cell_Temperature (C)</th>\n",
       "      <th>SOH_discharge</th>\n",
       "    </tr>\n",
       "  </thead>\n",
       "  <tbody>\n",
       "    <tr>\n",
       "      <th>3</th>\n",
       "      <td>4.0</td>\n",
       "      <td>NaN</td>\n",
       "      <td>0.998305</td>\n",
       "    </tr>\n",
       "    <tr>\n",
       "      <th>8</th>\n",
       "      <td>9.0</td>\n",
       "      <td>NaN</td>\n",
       "      <td>1.001271</td>\n",
       "    </tr>\n",
       "    <tr>\n",
       "      <th>9</th>\n",
       "      <td>10.0</td>\n",
       "      <td>NaN</td>\n",
       "      <td>1.001271</td>\n",
       "    </tr>\n",
       "    <tr>\n",
       "      <th>11</th>\n",
       "      <td>12.0</td>\n",
       "      <td>NaN</td>\n",
       "      <td>1.001695</td>\n",
       "    </tr>\n",
       "    <tr>\n",
       "      <th>12</th>\n",
       "      <td>13.0</td>\n",
       "      <td>NaN</td>\n",
       "      <td>1.001695</td>\n",
       "    </tr>\n",
       "    <tr>\n",
       "      <th>...</th>\n",
       "      <td>...</td>\n",
       "      <td>...</td>\n",
       "      <td>...</td>\n",
       "    </tr>\n",
       "    <tr>\n",
       "      <th>500</th>\n",
       "      <td>501.0</td>\n",
       "      <td>NaN</td>\n",
       "      <td>0.113983</td>\n",
       "    </tr>\n",
       "    <tr>\n",
       "      <th>501</th>\n",
       "      <td>502.0</td>\n",
       "      <td>NaN</td>\n",
       "      <td>0.113559</td>\n",
       "    </tr>\n",
       "    <tr>\n",
       "      <th>502</th>\n",
       "      <td>503.0</td>\n",
       "      <td>NaN</td>\n",
       "      <td>0.112288</td>\n",
       "    </tr>\n",
       "    <tr>\n",
       "      <th>503</th>\n",
       "      <td>504.0</td>\n",
       "      <td>NaN</td>\n",
       "      <td>0.111017</td>\n",
       "    </tr>\n",
       "    <tr>\n",
       "      <th>504</th>\n",
       "      <td>505.0</td>\n",
       "      <td>NaN</td>\n",
       "      <td>0.110593</td>\n",
       "    </tr>\n",
       "  </tbody>\n",
       "</table>\n",
       "<p>296 rows × 3 columns</p>\n",
       "</div>"
      ],
      "text/plain": [
       "     Cycle_Index  Cell_Temperature (C)  SOH_discharge\n",
       "3            4.0                   NaN       0.998305\n",
       "8            9.0                   NaN       1.001271\n",
       "9           10.0                   NaN       1.001271\n",
       "11          12.0                   NaN       1.001695\n",
       "12          13.0                   NaN       1.001695\n",
       "..           ...                   ...            ...\n",
       "500        501.0                   NaN       0.113983\n",
       "501        502.0                   NaN       0.113559\n",
       "502        503.0                   NaN       0.112288\n",
       "503        504.0                   NaN       0.111017\n",
       "504        505.0                   NaN       0.110593\n",
       "\n",
       "[296 rows x 3 columns]"
      ]
     },
     "metadata": {},
     "output_type": "display_data"
    },
    {
     "data": {
      "application/vnd.microsoft.datawrangler.viewer.v0+json": {
       "columns": [
        {
         "name": "index",
         "rawType": "int64",
         "type": "integer"
        },
        {
         "name": "Cycle_Index",
         "rawType": "float64",
         "type": "float"
        },
        {
         "name": "Cell_Temperature (C)",
         "rawType": "float64",
         "type": "float"
        },
        {
         "name": "SOH_discharge",
         "rawType": "float64",
         "type": "float"
        }
       ],
       "ref": "f3581971-00ad-4f32-b7ce-18c8a36b27b5",
       "rows": [
        [
         "0",
         "1.0",
         null,
         "1.0597457627118645"
        ],
        [
         "1",
         "2.0",
         null,
         "1.0576271186440678"
        ],
        [
         "3",
         "4.0",
         null,
         "0.9983050847457627"
        ],
        [
         "8",
         "9.0",
         null,
         "1.001271186440678"
        ],
        [
         "9",
         "10.0",
         null,
         "1.001271186440678"
        ],
        [
         "11",
         "12.0",
         null,
         "1.0016949152542374"
        ],
        [
         "12",
         "13.0",
         null,
         "1.0016949152542374"
        ],
        [
         "14",
         "15.0",
         null,
         "1.0021186440677967"
        ],
        [
         "15",
         "16.0",
         null,
         "1.0021186440677967"
        ],
        [
         "16",
         "17.0",
         null,
         "1.0021186440677967"
        ],
        [
         "18",
         "19.0",
         null,
         "1.002542372881356"
        ],
        [
         "19",
         "20.0",
         null,
         "1.0021186440677967"
        ],
        [
         "20",
         "21.0",
         null,
         "1.0021186440677967"
        ],
        [
         "22",
         "23.0",
         null,
         "1.002542372881356"
        ],
        [
         "23",
         "24.0",
         null,
         "1.002542372881356"
        ],
        [
         "24",
         "25.0",
         null,
         "1.002542372881356"
        ],
        [
         "25",
         "26.0",
         null,
         "1.002542372881356"
        ],
        [
         "26",
         "27.0",
         null,
         "1.002542372881356"
        ],
        [
         "27",
         "28.0",
         null,
         "1.002542372881356"
        ],
        [
         "28",
         "29.0",
         null,
         "1.002542372881356"
        ],
        [
         "29",
         "30.0",
         null,
         "1.002542372881356"
        ],
        [
         "30",
         "31.0",
         null,
         "1.002542372881356"
        ],
        [
         "31",
         "32.0",
         null,
         "1.002542372881356"
        ],
        [
         "32",
         "33.0",
         null,
         "1.0021186440677967"
        ],
        [
         "34",
         "35.0",
         null,
         "0.9940677966101695"
        ],
        [
         "36",
         "37.0",
         null,
         "1.002542372881356"
        ],
        [
         "37",
         "38.0",
         null,
         "1.002542372881356"
        ],
        [
         "38",
         "39.0",
         null,
         "1.002542372881356"
        ],
        [
         "39",
         "40.0",
         null,
         "1.002542372881356"
        ],
        [
         "40",
         "41.0",
         null,
         "1.002542372881356"
        ],
        [
         "41",
         "42.0",
         null,
         "1.002542372881356"
        ],
        [
         "42",
         "43.0",
         null,
         "1.0021186440677967"
        ],
        [
         "43",
         "44.0",
         null,
         "1.0021186440677967"
        ],
        [
         "44",
         "45.0",
         null,
         "1.0021186440677967"
        ],
        [
         "45",
         "46.0",
         null,
         "1.0021186440677967"
        ],
        [
         "46",
         "47.0",
         null,
         "1.0021186440677967"
        ],
        [
         "47",
         "48.0",
         null,
         "1.0021186440677967"
        ],
        [
         "48",
         "49.0",
         null,
         "1.0021186440677967"
        ],
        [
         "49",
         "50.0",
         null,
         "1.0021186440677967"
        ],
        [
         "50",
         "51.0",
         null,
         "1.0021186440677967"
        ],
        [
         "51",
         "52.0",
         null,
         "1.0016949152542374"
        ],
        [
         "56",
         "57.0",
         null,
         "0.9961864406779661"
        ],
        [
         "60",
         "61.0",
         null,
         "0.9983050847457627"
        ],
        [
         "61",
         "62.0",
         null,
         "0.9983050847457627"
        ],
        [
         "63",
         "64.0",
         null,
         "0.9983050847457627"
        ],
        [
         "64",
         "65.0",
         null,
         "0.9983050847457627"
        ],
        [
         "65",
         "66.0",
         null,
         "0.9983050847457627"
        ],
        [
         "66",
         "67.0",
         null,
         "0.9983050847457627"
        ],
        [
         "67",
         "68.0",
         null,
         "0.9983050847457627"
        ],
        [
         "68",
         "69.0",
         null,
         "0.9978813559322034"
        ]
       ],
       "shape": {
        "columns": 3,
        "rows": 463
       }
      },
      "text/html": [
       "<div>\n",
       "<style scoped>\n",
       "    .dataframe tbody tr th:only-of-type {\n",
       "        vertical-align: middle;\n",
       "    }\n",
       "\n",
       "    .dataframe tbody tr th {\n",
       "        vertical-align: top;\n",
       "    }\n",
       "\n",
       "    .dataframe thead th {\n",
       "        text-align: right;\n",
       "    }\n",
       "</style>\n",
       "<table border=\"1\" class=\"dataframe\">\n",
       "  <thead>\n",
       "    <tr style=\"text-align: right;\">\n",
       "      <th></th>\n",
       "      <th>Cycle_Index</th>\n",
       "      <th>Cell_Temperature (C)</th>\n",
       "      <th>SOH_discharge</th>\n",
       "    </tr>\n",
       "  </thead>\n",
       "  <tbody>\n",
       "    <tr>\n",
       "      <th>0</th>\n",
       "      <td>1.0</td>\n",
       "      <td>NaN</td>\n",
       "      <td>1.059746</td>\n",
       "    </tr>\n",
       "    <tr>\n",
       "      <th>1</th>\n",
       "      <td>2.0</td>\n",
       "      <td>NaN</td>\n",
       "      <td>1.057627</td>\n",
       "    </tr>\n",
       "    <tr>\n",
       "      <th>3</th>\n",
       "      <td>4.0</td>\n",
       "      <td>NaN</td>\n",
       "      <td>0.998305</td>\n",
       "    </tr>\n",
       "    <tr>\n",
       "      <th>8</th>\n",
       "      <td>9.0</td>\n",
       "      <td>NaN</td>\n",
       "      <td>1.001271</td>\n",
       "    </tr>\n",
       "    <tr>\n",
       "      <th>9</th>\n",
       "      <td>10.0</td>\n",
       "      <td>NaN</td>\n",
       "      <td>1.001271</td>\n",
       "    </tr>\n",
       "    <tr>\n",
       "      <th>...</th>\n",
       "      <td>...</td>\n",
       "      <td>...</td>\n",
       "      <td>...</td>\n",
       "    </tr>\n",
       "    <tr>\n",
       "      <th>512</th>\n",
       "      <td>513.0</td>\n",
       "      <td>NaN</td>\n",
       "      <td>0.102542</td>\n",
       "    </tr>\n",
       "    <tr>\n",
       "      <th>513</th>\n",
       "      <td>514.0</td>\n",
       "      <td>NaN</td>\n",
       "      <td>0.101271</td>\n",
       "    </tr>\n",
       "    <tr>\n",
       "      <th>514</th>\n",
       "      <td>515.0</td>\n",
       "      <td>NaN</td>\n",
       "      <td>0.100847</td>\n",
       "    </tr>\n",
       "    <tr>\n",
       "      <th>515</th>\n",
       "      <td>516.0</td>\n",
       "      <td>NaN</td>\n",
       "      <td>0.099576</td>\n",
       "    </tr>\n",
       "    <tr>\n",
       "      <th>516</th>\n",
       "      <td>517.0</td>\n",
       "      <td>NaN</td>\n",
       "      <td>0.097881</td>\n",
       "    </tr>\n",
       "  </tbody>\n",
       "</table>\n",
       "<p>463 rows × 3 columns</p>\n",
       "</div>"
      ],
      "text/plain": [
       "     Cycle_Index  Cell_Temperature (C)  SOH_discharge\n",
       "0            1.0                   NaN       1.059746\n",
       "1            2.0                   NaN       1.057627\n",
       "3            4.0                   NaN       0.998305\n",
       "8            9.0                   NaN       1.001271\n",
       "9           10.0                   NaN       1.001271\n",
       "..           ...                   ...            ...\n",
       "512        513.0                   NaN       0.102542\n",
       "513        514.0                   NaN       0.101271\n",
       "514        515.0                   NaN       0.100847\n",
       "515        516.0                   NaN       0.099576\n",
       "516        517.0                   NaN       0.097881\n",
       "\n",
       "[463 rows x 3 columns]"
      ]
     },
     "metadata": {},
     "output_type": "display_data"
    },
    {
     "data": {
      "application/vnd.microsoft.datawrangler.viewer.v0+json": {
       "columns": [
        {
         "name": "index",
         "rawType": "int64",
         "type": "integer"
        },
        {
         "name": "Cycle_Index",
         "rawType": "float64",
         "type": "float"
        },
        {
         "name": "Cell_Temperature (C)",
         "rawType": "float64",
         "type": "float"
        },
        {
         "name": "SOH_discharge",
         "rawType": "float64",
         "type": "float"
        }
       ],
       "ref": "76f61b7a-eefc-49ed-b202-c55c5909553e",
       "rows": [
        [
         "3",
         "4.0",
         null,
         "0.9983050847457627"
        ],
        [
         "8",
         "9.0",
         null,
         "1.001271186440678"
        ],
        [
         "9",
         "10.0",
         null,
         "1.001271186440678"
        ],
        [
         "11",
         "12.0",
         null,
         "1.0016949152542374"
        ],
        [
         "12",
         "13.0",
         null,
         "1.0016949152542374"
        ],
        [
         "14",
         "15.0",
         null,
         "1.0021186440677967"
        ],
        [
         "15",
         "16.0",
         null,
         "1.0021186440677967"
        ],
        [
         "16",
         "17.0",
         null,
         "1.0021186440677967"
        ],
        [
         "18",
         "19.0",
         null,
         "1.002542372881356"
        ],
        [
         "19",
         "20.0",
         null,
         "1.0021186440677967"
        ],
        [
         "20",
         "21.0",
         null,
         "1.0021186440677967"
        ],
        [
         "22",
         "23.0",
         null,
         "1.002542372881356"
        ],
        [
         "23",
         "24.0",
         null,
         "1.002542372881356"
        ],
        [
         "24",
         "25.0",
         null,
         "1.002542372881356"
        ],
        [
         "25",
         "26.0",
         null,
         "1.002542372881356"
        ],
        [
         "26",
         "27.0",
         null,
         "1.002542372881356"
        ],
        [
         "27",
         "28.0",
         null,
         "1.002542372881356"
        ],
        [
         "28",
         "29.0",
         null,
         "1.002542372881356"
        ],
        [
         "29",
         "30.0",
         null,
         "1.002542372881356"
        ],
        [
         "30",
         "31.0",
         null,
         "1.002542372881356"
        ],
        [
         "31",
         "32.0",
         null,
         "1.002542372881356"
        ],
        [
         "32",
         "33.0",
         null,
         "1.0021186440677967"
        ],
        [
         "34",
         "35.0",
         null,
         "0.9940677966101695"
        ],
        [
         "36",
         "37.0",
         null,
         "1.002542372881356"
        ],
        [
         "37",
         "38.0",
         null,
         "1.002542372881356"
        ],
        [
         "38",
         "39.0",
         null,
         "1.002542372881356"
        ],
        [
         "39",
         "40.0",
         null,
         "1.002542372881356"
        ],
        [
         "40",
         "41.0",
         null,
         "1.002542372881356"
        ],
        [
         "41",
         "42.0",
         null,
         "1.002542372881356"
        ],
        [
         "42",
         "43.0",
         null,
         "1.0021186440677967"
        ],
        [
         "43",
         "44.0",
         null,
         "1.0021186440677967"
        ],
        [
         "44",
         "45.0",
         null,
         "1.0021186440677967"
        ],
        [
         "45",
         "46.0",
         null,
         "1.0021186440677967"
        ],
        [
         "46",
         "47.0",
         null,
         "1.0021186440677967"
        ],
        [
         "47",
         "48.0",
         null,
         "1.0021186440677967"
        ],
        [
         "48",
         "49.0",
         null,
         "1.0021186440677967"
        ],
        [
         "49",
         "50.0",
         null,
         "1.0021186440677967"
        ],
        [
         "50",
         "51.0",
         null,
         "1.0021186440677967"
        ],
        [
         "51",
         "52.0",
         null,
         "1.0016949152542374"
        ],
        [
         "56",
         "57.0",
         null,
         "0.9961864406779661"
        ],
        [
         "60",
         "61.0",
         null,
         "0.9983050847457627"
        ],
        [
         "61",
         "62.0",
         null,
         "0.9983050847457627"
        ],
        [
         "63",
         "64.0",
         null,
         "0.9983050847457627"
        ],
        [
         "64",
         "65.0",
         null,
         "0.9983050847457627"
        ],
        [
         "65",
         "66.0",
         null,
         "0.9983050847457627"
        ],
        [
         "66",
         "67.0",
         null,
         "0.9983050847457627"
        ],
        [
         "67",
         "68.0",
         null,
         "0.9983050847457627"
        ],
        [
         "68",
         "69.0",
         null,
         "0.9978813559322034"
        ],
        [
         "69",
         "70.0",
         null,
         "0.9978813559322034"
        ],
        [
         "70",
         "71.0",
         null,
         "0.9978813559322034"
        ]
       ],
       "shape": {
        "columns": 3,
        "rows": 378
       }
      },
      "text/html": [
       "<div>\n",
       "<style scoped>\n",
       "    .dataframe tbody tr th:only-of-type {\n",
       "        vertical-align: middle;\n",
       "    }\n",
       "\n",
       "    .dataframe tbody tr th {\n",
       "        vertical-align: top;\n",
       "    }\n",
       "\n",
       "    .dataframe thead th {\n",
       "        text-align: right;\n",
       "    }\n",
       "</style>\n",
       "<table border=\"1\" class=\"dataframe\">\n",
       "  <thead>\n",
       "    <tr style=\"text-align: right;\">\n",
       "      <th></th>\n",
       "      <th>Cycle_Index</th>\n",
       "      <th>Cell_Temperature (C)</th>\n",
       "      <th>SOH_discharge</th>\n",
       "    </tr>\n",
       "  </thead>\n",
       "  <tbody>\n",
       "    <tr>\n",
       "      <th>3</th>\n",
       "      <td>4.0</td>\n",
       "      <td>NaN</td>\n",
       "      <td>0.998305</td>\n",
       "    </tr>\n",
       "    <tr>\n",
       "      <th>8</th>\n",
       "      <td>9.0</td>\n",
       "      <td>NaN</td>\n",
       "      <td>1.001271</td>\n",
       "    </tr>\n",
       "    <tr>\n",
       "      <th>9</th>\n",
       "      <td>10.0</td>\n",
       "      <td>NaN</td>\n",
       "      <td>1.001271</td>\n",
       "    </tr>\n",
       "    <tr>\n",
       "      <th>11</th>\n",
       "      <td>12.0</td>\n",
       "      <td>NaN</td>\n",
       "      <td>1.001695</td>\n",
       "    </tr>\n",
       "    <tr>\n",
       "      <th>12</th>\n",
       "      <td>13.0</td>\n",
       "      <td>NaN</td>\n",
       "      <td>1.001695</td>\n",
       "    </tr>\n",
       "    <tr>\n",
       "      <th>...</th>\n",
       "      <td>...</td>\n",
       "      <td>...</td>\n",
       "      <td>...</td>\n",
       "    </tr>\n",
       "    <tr>\n",
       "      <th>413</th>\n",
       "      <td>414.0</td>\n",
       "      <td>NaN</td>\n",
       "      <td>0.317373</td>\n",
       "    </tr>\n",
       "    <tr>\n",
       "      <th>414</th>\n",
       "      <td>415.0</td>\n",
       "      <td>NaN</td>\n",
       "      <td>0.302542</td>\n",
       "    </tr>\n",
       "    <tr>\n",
       "      <th>415</th>\n",
       "      <td>416.0</td>\n",
       "      <td>NaN</td>\n",
       "      <td>0.290254</td>\n",
       "    </tr>\n",
       "    <tr>\n",
       "      <th>416</th>\n",
       "      <td>417.0</td>\n",
       "      <td>NaN</td>\n",
       "      <td>0.276271</td>\n",
       "    </tr>\n",
       "    <tr>\n",
       "      <th>417</th>\n",
       "      <td>418.0</td>\n",
       "      <td>NaN</td>\n",
       "      <td>0.263559</td>\n",
       "    </tr>\n",
       "  </tbody>\n",
       "</table>\n",
       "<p>378 rows × 3 columns</p>\n",
       "</div>"
      ],
      "text/plain": [
       "     Cycle_Index  Cell_Temperature (C)  SOH_discharge\n",
       "3            4.0                   NaN       0.998305\n",
       "8            9.0                   NaN       1.001271\n",
       "9           10.0                   NaN       1.001271\n",
       "11          12.0                   NaN       1.001695\n",
       "12          13.0                   NaN       1.001695\n",
       "..           ...                   ...            ...\n",
       "413        414.0                   NaN       0.317373\n",
       "414        415.0                   NaN       0.302542\n",
       "415        416.0                   NaN       0.290254\n",
       "416        417.0                   NaN       0.276271\n",
       "417        418.0                   NaN       0.263559\n",
       "\n",
       "[378 rows x 3 columns]"
      ]
     },
     "metadata": {},
     "output_type": "display_data"
    }
   ],
   "source": [
    "# Remoção de outliers e valores crescentes\n",
    "df_IsolForest = ensure_non_increasing(df_grouped, 'SOH_discharge')\n",
    "df_IsolForest = rmv_outliers_isolation_forest(df_IsolForest, 'SOH_discharge')\n",
    "\n",
    "df_IQR = ensure_non_increasing(df_grouped, 'SOH_discharge')\n",
    "df_IQR = rmv_outliers_iqr(df_IQR, 'SOH_discharge')\n",
    "\n",
    "df_ZScore = ensure_non_increasing(df_grouped, 'SOH_discharge')\n",
    "df_ZScore = rmv_outliers_zscore(df_ZScore, 'SOH_discharge', threshold=1.5)\n",
    "\n",
    "df_ZScore = rmv_sharp_jump(df_ZScore, 'SOH_discharge', threshold=0.05, repeat=2) # 5% de SOH\n",
    "\n",
    "display(df_grouped)\n",
    "display(df_IsolForest)\n",
    "display(df_IQR)\n",
    "display(df_ZScore)"
   ]
  },
  {
   "cell_type": "markdown",
   "metadata": {},
   "source": [
    "### [numpy.interp() parameters](https://numpy.org/doc/2.1/reference/generated/numpy.interp.html):\n",
    "- `x`: _array_like_ . The x-coordinates at which to evaluate the interpolated values.\n",
    "\n",
    "- `xp`: _1-D sequence of floats_. The x-coordinates of the data points, must be increasing if argument period is not specified. Otherwise, xp is internally sorted after normalizing the periodic boundaries with xp = xp % period.\n",
    "\n",
    "- `fp`: _1-D sequence of float or complex_. The y-coordinates of the data points, same length as xp.\n",
    "\n",
    "Returns the one-dimensional piecewise linear interpolant to a function with given discrete data points (xp, fp), evaluated at x:\n",
    "- `y`: float or complex (corresponding to fp) or ndarray. The interpolated values, same shape as x."
   ]
  },
  {
   "cell_type": "code",
   "execution_count": 30,
   "metadata": {},
   "outputs": [],
   "source": [
    "def interpolate_soh(df: pd.DataFrame, soh_column: str, cycles_column: str) -> pd.DataFrame:\n",
    "    # Define thresholds de interesse (99%, 98%, ...)\n",
    "    thresholds = np.arange(1.00, 0.00, -0.01)\n",
    "\n",
    "    soh = df[soh_column].values\n",
    "    cycles = df[cycles_column].values\n",
    "\n",
    "    # Inverte para que fique crescente\n",
    "    xp = soh[::-1]\n",
    "    fp = cycles[::-1]\n",
    "\n",
    "    valid = (thresholds >= xp.min()) & (thresholds <= xp.max())\n",
    "    thresholds = thresholds[valid]\n",
    "\n",
    "    # np.interp(x, xp, fp) assume xp crescente e retorna y para cada x em thresholds\n",
    "    estimated_cycles = np.interp(thresholds, xp, fp)\n",
    "    print(f'Número de thresholds válidos: {len(thresholds)}')\n",
    "    df_estimates = pd.DataFrame({\n",
    "        'SOH_threshold': thresholds,\n",
    "        'estimated_cycle': estimated_cycles\n",
    "    })\n",
    "\n",
    "    # Cast para float com 2 casas decimais\n",
    "    df_estimates['SOH_threshold'] = df_estimates['SOH_threshold'].astype(float).round(2)\n",
    "\n",
    "    # Queda de ciclos (a cada 1%)\n",
    "    df_estimates['NCD1%'] = df_estimates['estimated_cycle'].diff()\n",
    "    \n",
    "    return df_estimates"
   ]
  },
  {
   "cell_type": "code",
   "execution_count": 31,
   "metadata": {},
   "outputs": [
    {
     "name": "stdout",
     "output_type": "stream",
     "text": [
      "Número de thresholds válidos: 100\n",
      "Número de thresholds válidos: 89\n",
      "Número de thresholds válidos: 95\n",
      "Número de thresholds válidos: 74\n"
     ]
    }
   ],
   "source": [
    "df_grouped_estimates     = interpolate_soh(df_grouped, 'SOH_discharge', 'Cycle_Index')\n",
    "df_IsolForest_estimates  = interpolate_soh(df_IsolForest, 'SOH_discharge', 'Cycle_Index')\n",
    "df_IQR_estimates         = interpolate_soh(df_IQR, 'SOH_discharge', 'Cycle_Index')\n",
    "df_ZScore_estimates      = interpolate_soh(df_ZScore, 'SOH_discharge', 'Cycle_Index')"
   ]
  },
  {
   "cell_type": "code",
   "execution_count": 32,
   "metadata": {},
   "outputs": [
    {
     "data": {
      "image/png": "[encoded data removed]",
      "text/plain": [
       "<Figure size 2500x1500 with 4 Axes>"
      ]
     },
     "metadata": {},
     "output_type": "display_data"
    }
   ],
   "source": [
    "# Crie a figura com 4 subplots em um layout 2x2\n",
    "fig, axs = plt.subplots(2, 2, figsize=(25, 15))\n",
    "\n",
    "# Título geral para o plot\n",
    "fig.suptitle('Comparativo de Abordagens de Limpeza de Dados', fontsize=20)\n",
    "\n",
    "# Eixo Y compartilhado para padronizar os gráficos\n",
    "for ax in axs.flat:\n",
    "    ax.set_ylim(40, 105) # SOH in percentage\n",
    "\n",
    "# Configuração de Ticks do Eixo X\n",
    "xmin = df_grouped[\"Cycle_Index\"].min()\n",
    "xmax = df_grouped[\"Cycle_Index\"].max()\n",
    "major_ticks = np.arange(0, xmax + 1, 200)\n",
    "minor_ticks = np.arange(0, xmax + 1, 50)\n",
    "\n",
    "# 1. Plot para \"Dados Originais\"\n",
    "axs[0, 0].plot(df_grouped[\"Cycle_Index\"], df_grouped[\"SOH_discharge\"] * 100, label=\"Dados Originais\", color='gray', linewidth=1.5, zorder=1)\n",
    "#axs[0, 0].scatter(df_grouped_estimates[\"estimated_cycle\"], df_grouped_estimates[\"SOH_threshold\"] * 100, label=\"Queda de 1%\", color='gray', marker='d', s=100, zorder=3)\n",
    "axs[0, 0].set_title(\"1. Dados Originais\", fontsize=16)\n",
    "axs[0, 0].set_ylabel(\"SOH (%)\", fontsize=12)\n",
    "\n",
    "# 2. Plot para \"Isolation Forest\"\n",
    "axs[0, 1].plot(df_IsolForest[\"Cycle_Index\"], df_IsolForest[\"SOH_discharge\"] * 100, label=\"Limpeza com Isolation Forest\", color='darkorange', linewidth=2.5, zorder=2)\n",
    "# axs[0, 1].scatter(df_IsolForest_estimates[\"estimated_cycle\"], df_IsolForest_estimates[\"SOH_threshold\"] * 100, label=\"Queda de 1%\", color='darkorange', marker='d', s=100, zorder=3)\n",
    "axs[0, 1].set_title(\"2. Limpeza com Isolation Forest\", fontsize=16)\n",
    "\n",
    "# 3. Plot para \"IQR\"\n",
    "axs[1, 0].plot(df_IQR[\"Cycle_Index\"], df_IQR[\"SOH_discharge\"] * 100, label=\"Limpeza com IQR\", color='skyblue', linewidth=2.5, zorder=2)\n",
    "# axs[1, 0].scatter(df_IQR_estimates[\"estimated_cycle\"], df_IQR_estimates[\"SOH_threshold\"] * 100, label=\"Queda de 1%\", color='skyblue', marker='d', s=100, zorder=3)\n",
    "axs[1, 0].set_title(\"3. Limpeza com IQR\", fontsize=16)\n",
    "axs[1, 0].set_xlabel(\"Índice de Ciclo\", fontsize=12)\n",
    "axs[1, 0].set_ylabel(\"SOH (%)\", fontsize=12)\n",
    "\n",
    "# 4. Plot para \"Z-Score\"\n",
    "axs[1, 1].plot(df_ZScore[\"Cycle_Index\"], df_ZScore[\"SOH_discharge\"] * 100, label=\"Limpeza com Z-Score\", color='forestgreen', linewidth=2.5, zorder=2)\n",
    "# axs[1, 1].scatter(df_ZScore_estimates[\"estimated_cycle\"], df_ZScore_estimates[\"SOH_threshold\"] * 100, label=\"Queda de 1%\", color='forestgreen', marker='d', s=100, zorder=3)\n",
    "axs[1, 1].set_title(\"4. Limpeza com Z-Score\", fontsize=16)\n",
    "axs[1, 1].set_xlabel(\"Índice de Ciclo\", fontsize=12)\n",
    "\n",
    "# Adicione grids, ticks e legendas para cada subplot\n",
    "for ax in axs.flat:\n",
    "    ax.set_xticks(major_ticks)\n",
    "    ax.set_xticks(minor_ticks, minor=True)\n",
    "    ax.grid(which='major', linestyle='-', linewidth=1, alpha=0.9)\n",
    "    ax.grid(which='minor', linestyle='--', linewidth=0.5, alpha=0.7)\n",
    "    ax.legend(loc='best', fontsize=10)\n",
    "\n",
    "plt.tight_layout(rect=[0, 0, 1, 0.96])\n",
    "plt.show()\n"
   ]
  },
  {
   "cell_type": "markdown",
   "metadata": {},
   "source": [
    "## Z-score com ensure_non_decreasing e rmv_sharp_jump é o escolhido"
   ]
  },
  {
   "cell_type": "code",
   "execution_count": 33,
   "metadata": {},
   "outputs": [],
   "source": [
    "def rmv_outliers_boxplot(df: pd.DataFrame, column_name: str) -> pd.DataFrame:\n",
    "    # Calculate the first and third quartiles\n",
    "    Q1 = df[column_name].quantile(0.25)\n",
    "    Q3 = df[column_name].quantile(0.75)\n",
    "    \n",
    "    # Calculate the Interquartile Range (IQR)\n",
    "    IQR = Q3 - Q1\n",
    "    \n",
    "    # Define the lower and upper bounds for outliers\n",
    "    lower_bound = Q1 * IQR\n",
    "    upper_bound = Q3 * IQR\n",
    "    \n",
    "    # Filter the DataFrame to keep only the values within the bounds\n",
    "    filtered_df = df[(df[column_name] >= lower_bound) & (df[column_name] <= upper_bound)]\n",
    "    \n",
    "    return filtered_df"
   ]
  },
  {
   "cell_type": "code",
   "execution_count": 34,
   "metadata": {},
   "outputs": [
    {
     "name": "stdout",
     "output_type": "stream",
     "text": [
      "Número de NCD1%: 23\n",
      "Média: 3.92, Desvio-padrão: 1.41\n"
     ]
    },
    {
     "data": {
      "image/png": "[encoded data removed]",
      "text/plain": [
       "<Figure size 1200x200 with 1 Axes>"
      ]
     },
     "metadata": {},
     "output_type": "display_data"
    }
   ],
   "source": [
    "df_ZScore_estimates = rmv_outliers_boxplot(df_ZScore_estimates, 'NCD1%')\n",
    "\n",
    "data = df_ZScore_estimates[\"NCD1%\"].dropna().values\n",
    "print(f'Número de NCD1%: {len(data)}')\n",
    "\n",
    "mean = np.mean(data)\n",
    "std  = np.std(data, ddof=1)\n",
    "print(f'Média: {mean:.2f}, Desvio-padrão: {std:.2f}')\n",
    "\n",
    "# Seleciona a cor padrão 'C0' do matplotlib (primeira cor)\n",
    "default_color = plt.rcParams['axes.prop_cycle'].by_key()['color'][0]\n",
    "fig, ax = plt.subplots(figsize=(12, 2))\n",
    "\n",
    "sns.boxplot(\n",
    "    x=data,                   # valores no eixo x\n",
    "    y=np.zeros_like(data),    # posição 0 no eixo y\n",
    "    ax=ax,\n",
    "    orient='h',\n",
    "    linewidth=1,\n",
    "    zorder=2\n",
    ")\n",
    "\n",
    "# Deixa a face do boxplot semitransparente\n",
    "for patch in ax.patches:\n",
    "    if hasattr(patch, 'get_facecolor'):\n",
    "        r, g, b, a = patch.get_facecolor()\n",
    "        patch.set_facecolor((r, g, b, 0.3))  # alpha = 0.3\n",
    "\n",
    "# Sobreposição de pontos (scatter) com baixa opacidade\n",
    "sns.scatterplot(\n",
    "    x=data,\n",
    "    y=np.zeros_like(data),\n",
    "    ax=ax,\n",
    "    s=60,                     # tamanho dos pontos\n",
    "    color=default_color,      # mesma cor do boxplot\n",
    "    alpha=0.7,\n",
    "    zorder=1\n",
    ")\n",
    "\n",
    "# Remove os ticks do eixo y (não fazem sentido aqui)\n",
    "ax.set_yticks([])\n",
    "\n",
    "ax.set_xlabel(\"NCD1%\")\n",
    "ax.tick_params(which='major', labelsize=12)\n",
    "\n",
    "plt.title(\"Distribuição de NCD1%\", fontsize=18)\n",
    "plt.grid(True, linestyle='--', linewidth=0.5, alpha=0.7)\n",
    "\n",
    "plt.show()"
   ]
  },
  {
   "cell_type": "code",
   "execution_count": 35,
   "metadata": {},
   "outputs": [
    {
     "data": {
      "image/png": "[encoded data removed]",
      "text/plain": [
       "<Figure size 900x400 with 1 Axes>"
      ]
     },
     "metadata": {},
     "output_type": "display_data"
    }
   ],
   "source": [
    "data = np.sort(data)  # Garante que os dados estão ordenados\n",
    "n    = len(data)\n",
    "\n",
    "# Faz o fitting para encotnrar os parametros e calcula a funcao acumulada dos dados considerando comportamento normal\n",
    "mean, std = norm.fit(data)\n",
    "teo_norm  = norm.cdf(data, loc=mean, scale=std)\n",
    "\n",
    "plt.figure(figsize=(9, 4))\n",
    "\n",
    "# Probabilidade acumulada empírica (1/n, 2/n, ..., 1)\n",
    "cdf_emp = np.arange(0, n)/(n-1)\n",
    "plt.plot(data, cdf_emp, marker='o', linestyle='-', label=\"CDF NCD1%\", zorder=3, alpha=0.7)\n",
    "\n",
    "# Função acumulada da normal (teórica)\n",
    "plt.plot(data, teo_norm, linestyle='--', label=f\"CDF Normal fit\\n(μ={mean:.2f}, σ={std:.2f})\")\n",
    "\n",
    "plt.xlabel(\"NCD1\")\n",
    "plt.ylabel(\"Probabilidade acumulada\")\n",
    "plt.title(\"NCD1% e Curva Normal aproximada\")\n",
    "plt.legend()\n",
    "plt.grid(True, linestyle='--', linewidth=0.5, alpha=0.7)\n",
    "\n",
    "plt.show()\n"
   ]
  },
  {
   "cell_type": "markdown",
   "metadata": {},
   "source": [
    "Teste de Kolmogorov–Smirnov (KS) para verificar formalmente se o conjunto de dados de NCD1% (`data`) segue a distribuição Normal com os parametros encontrados no método de fitting\n",
    "\n",
    "De acordo com a [documentação de **kstest**](https://docs.scipy.org/doc/scipy/reference/generated/scipy.stats.kstest.html):\n",
    "- ``rvs=data``\n",
    "    - Array de observações ordenadas\n",
    "- ``cdf='norm'`` \n",
    "    - Especifica que a distribuição teórica é a de uma normal\n",
    "- ``args=(mean, std)`` \n",
    "    - Parâmetros (μ, σ) da normal teórica\n",
    "\n",
    "Retorna:\n",
    "\n",
    "- ``D (statistic) `` \n",
    "    - Representa a maior diferença absoluta entre aa curva dados e a CDF da Normal teórica\n",
    "    - Quanto menor, mais próximo o ajuste está dos dados observados\n",
    "\n",
    "- ``p-value``\n",
    "    - Probabilidade de observar uma estatística \\( D \\) igual ou mais extrema sob a suposição de que os dados vêm de uma Normal\n",
    "    - **Valores altos (> alpha) indicam falha em rejeitar a hipótese de normalidade**. \n",
    "    - Valores baixos (< alpha) indicam evidência contra a hipótese"
   ]
  },
  {
   "cell_type": "code",
   "execution_count": 36,
   "metadata": {},
   "outputs": [
    {
     "name": "stdout",
     "output_type": "stream",
     "text": [
      "KS statistic: 0.1861\n",
      "p-value: 0.3581\n",
      "alpha = 0.05\n",
      "Hipótese aceita.\n"
     ]
    }
   ],
   "source": [
    "statistic, p_value = kstest(rvs=data, cdf='norm', args=(mean, std))\n",
    "\n",
    "print(f\"KS statistic: {statistic:.4f}\")\n",
    "print(f\"p-value: {p_value:.4f}\")\n",
    "\n",
    "alpha = 0.05\n",
    "print(f'alpha = {alpha}')\n",
    "if p_value < alpha: print(f\"Hipótese rejeitada.\")\n",
    "else: print(f\"Hipótese aceita.\")"
   ]
  }
 ],
 "metadata": {
  "kernelspec": {
   "display_name": "Python 3",
   "language": "python",
   "name": "python3"
  },
  "language_info": {
   "codemirror_mode": {
    "name": "ipython",
    "version": 3
   },
   "file_extension": ".py",
   "mimetype": "text/x-python",
   "name": "python",
   "nbconvert_exporter": "python",
   "pygments_lexer": "ipython3",
   "version": "3.13.7"
  }
 },
 "nbformat": 4,
 "nbformat_minor": 2
}
