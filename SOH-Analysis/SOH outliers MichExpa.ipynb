{
 "cells": [
  {
   "cell_type": "code",
   "execution_count": 89,
   "metadata": {},
   "outputs": [],
   "source": [
    "import numpy as np\n",
    "import pandas as pd\n",
    "import seaborn as sns\n",
    "import matplotlib.pyplot as plt\n",
    "from IPython.display import display\n",
    "from scipy.stats import norm, kstest, zscore\n",
    "from sklearn.ensemble import IsolationForest\n"
   ]
  },
  {
   "cell_type": "markdown",
   "metadata": {},
   "source": [
    "# Michigan Expansion\n"
   ]
  },
  {
   "cell_type": "markdown",
   "metadata": {},
   "source": [
    "## Limpeza e preparação"
   ]
  },
  {
   "cell_type": "markdown",
   "metadata": {},
   "source": [
    "- Corrente negativa --> descarga\n",
    "- Corrente positiva --> carga"
   ]
  },
  {
   "cell_type": "code",
   "execution_count": 90,
   "metadata": {},
   "outputs": [
    {
     "data": {
      "application/vnd.microsoft.datawrangler.viewer.v0+json": {
       "columns": [
        {
         "name": "index",
         "rawType": "int64",
         "type": "integer"
        },
        {
         "name": "Cycle_Index",
         "rawType": "float64",
         "type": "float"
        },
        {
         "name": "Test_Time (s)",
         "rawType": "float64",
         "type": "float"
        },
        {
         "name": "Current (A)",
         "rawType": "float64",
         "type": "float"
        },
        {
         "name": "Voltage (V)",
         "rawType": "float64",
         "type": "float"
        },
        {
         "name": "Discharge_Capacity (Ah)",
         "rawType": "float64",
         "type": "float"
        },
        {
         "name": "Cell_Temperature (C)",
         "rawType": "float64",
         "type": "float"
        }
       ],
       "ref": "042a6b0d-e3c0-4575-8253-ba71f981a6a6",
       "rows": [
        [
         "1837",
         "1.0",
         "54041.547",
         "-1.0",
         "4.189",
         "0.001",
         null
        ],
        [
         "1838",
         "1.0",
         "54051.547",
         "-1.0",
         "4.187",
         "0.004",
         null
        ],
        [
         "1839",
         "1.0",
         "54061.547",
         "-1.0",
         "4.185",
         "0.007",
         null
        ],
        [
         "1840",
         "1.0",
         "54071.547",
         "-1.0",
         "4.183",
         "0.01",
         null
        ],
        [
         "1841",
         "1.0",
         "54081.547",
         "-1.0",
         "4.182",
         "0.012",
         null
        ],
        [
         "1842",
         "1.0",
         "54091.547",
         "-1.0",
         "4.18",
         "0.015",
         null
        ],
        [
         "1843",
         "1.0",
         "54101.547",
         "-1.0",
         "4.179",
         "0.018",
         null
        ],
        [
         "1844",
         "1.0",
         "54111.547",
         "-1.0",
         "4.178",
         "0.021",
         null
        ],
        [
         "1845",
         "1.0",
         "54121.547",
         "-1.0",
         "4.177",
         "0.023",
         null
        ],
        [
         "1846",
         "1.0",
         "54131.547",
         "-1.0",
         "4.176",
         "0.026",
         null
        ],
        [
         "1847",
         "1.0",
         "54141.547",
         "-1.0",
         "4.175",
         "0.029",
         null
        ],
        [
         "1848",
         "1.0",
         "54151.547",
         "-1.0",
         "4.173",
         "0.032",
         null
        ],
        [
         "1849",
         "1.0",
         "54161.547",
         "-1.0",
         "4.172",
         "0.035",
         null
        ],
        [
         "1850",
         "1.0",
         "54171.547",
         "-1.0",
         "4.171",
         "0.037",
         null
        ],
        [
         "1851",
         "1.0",
         "54181.547",
         "-1.0",
         "4.171",
         "0.04",
         null
        ],
        [
         "1852",
         "1.0",
         "54191.547",
         "-1.0",
         "4.17",
         "0.043",
         null
        ],
        [
         "1853",
         "1.0",
         "54201.547",
         "-1.0",
         "4.169",
         "0.046",
         null
        ],
        [
         "1854",
         "1.0",
         "54211.547",
         "-1.0",
         "4.168",
         "0.048",
         null
        ],
        [
         "1855",
         "1.0",
         "54221.547",
         "-1.0",
         "4.167",
         "0.051",
         null
        ],
        [
         "1856",
         "1.0",
         "54231.547",
         "-1.0",
         "4.166",
         "0.054",
         null
        ],
        [
         "1857",
         "1.0",
         "54241.547",
         "-1.0",
         "4.165",
         "0.057",
         null
        ],
        [
         "1858",
         "1.0",
         "54251.547",
         "-1.0",
         "4.164",
         "0.06",
         null
        ],
        [
         "1859",
         "1.0",
         "54261.547",
         "-1.0",
         "4.163",
         "0.062",
         null
        ],
        [
         "1860",
         "1.0",
         "54271.547",
         "-1.0",
         "4.162",
         "0.065",
         null
        ],
        [
         "1861",
         "1.0",
         "54281.547",
         "-1.0",
         "4.161",
         "0.068",
         null
        ],
        [
         "1862",
         "1.0",
         "54291.547",
         "-1.0",
         "4.161",
         "0.071",
         null
        ],
        [
         "1863",
         "1.0",
         "54301.547",
         "-1.0",
         "4.16",
         "0.073",
         null
        ],
        [
         "1864",
         "1.0",
         "54311.547",
         "-1.0",
         "4.159",
         "0.076",
         null
        ],
        [
         "1865",
         "1.0",
         "54321.547",
         "-1.0",
         "4.158",
         "0.079",
         null
        ],
        [
         "1866",
         "1.0",
         "54331.547",
         "-1.0",
         "4.157",
         "0.082",
         null
        ],
        [
         "1867",
         "1.0",
         "54341.547",
         "-1.0",
         "4.156",
         "0.085",
         null
        ],
        [
         "1868",
         "1.0",
         "54351.547",
         "-1.0",
         "4.155",
         "0.087",
         null
        ],
        [
         "1869",
         "1.0",
         "54361.547",
         "-1.0",
         "4.154",
         "0.09",
         null
        ],
        [
         "1870",
         "1.0",
         "54371.547",
         "-1.0",
         "4.154",
         "0.093",
         null
        ],
        [
         "1871",
         "1.0",
         "54381.547",
         "-1.0",
         "4.153",
         "0.096",
         null
        ],
        [
         "1872",
         "1.0",
         "54391.547",
         "-1.0",
         "4.152",
         "0.098",
         null
        ],
        [
         "1873",
         "1.0",
         "54401.547",
         "-1.0",
         "4.151",
         "0.101",
         null
        ],
        [
         "1874",
         "1.0",
         "54411.547",
         "-1.0",
         "4.15",
         "0.104",
         null
        ],
        [
         "1875",
         "1.0",
         "54421.547",
         "-1.0",
         "4.149",
         "0.107",
         null
        ],
        [
         "1876",
         "1.0",
         "54431.547",
         "-1.0",
         "4.149",
         "0.11",
         null
        ],
        [
         "1877",
         "1.0",
         "54441.547",
         "-1.0",
         "4.148",
         "0.112",
         null
        ],
        [
         "1878",
         "1.0",
         "54451.547",
         "-1.0",
         "4.147",
         "0.115",
         null
        ],
        [
         "1879",
         "1.0",
         "54461.547",
         "-1.0",
         "4.146",
         "0.118",
         null
        ],
        [
         "1880",
         "1.0",
         "54471.547",
         "-1.0",
         "4.145",
         "0.121",
         null
        ],
        [
         "1881",
         "1.0",
         "54481.547",
         "-1.0",
         "4.145",
         "0.123",
         null
        ],
        [
         "1882",
         "1.0",
         "54491.547",
         "-1.0",
         "4.144",
         "0.126",
         null
        ],
        [
         "1883",
         "1.0",
         "54501.547",
         "-1.0",
         "4.143",
         "0.129",
         null
        ],
        [
         "1884",
         "1.0",
         "54511.547",
         "-1.0",
         "4.142",
         "0.132",
         null
        ],
        [
         "1885",
         "1.0",
         "54521.547",
         "-1.0",
         "4.141",
         "0.135",
         null
        ],
        [
         "1886",
         "1.0",
         "54531.547",
         "-1.0",
         "4.141",
         "0.137",
         null
        ]
       ],
       "shape": {
        "columns": 6,
        "rows": 574336
       }
      },
      "text/html": [
       "<div>\n",
       "<style scoped>\n",
       "    .dataframe tbody tr th:only-of-type {\n",
       "        vertical-align: middle;\n",
       "    }\n",
       "\n",
       "    .dataframe tbody tr th {\n",
       "        vertical-align: top;\n",
       "    }\n",
       "\n",
       "    .dataframe thead th {\n",
       "        text-align: right;\n",
       "    }\n",
       "</style>\n",
       "<table border=\"1\" class=\"dataframe\">\n",
       "  <thead>\n",
       "    <tr style=\"text-align: right;\">\n",
       "      <th></th>\n",
       "      <th>Cycle_Index</th>\n",
       "      <th>Test_Time (s)</th>\n",
       "      <th>Current (A)</th>\n",
       "      <th>Voltage (V)</th>\n",
       "      <th>Discharge_Capacity (Ah)</th>\n",
       "      <th>Cell_Temperature (C)</th>\n",
       "    </tr>\n",
       "  </thead>\n",
       "  <tbody>\n",
       "    <tr>\n",
       "      <th>1837</th>\n",
       "      <td>1.0</td>\n",
       "      <td>5.404155e+04</td>\n",
       "      <td>-1.000</td>\n",
       "      <td>4.189</td>\n",
       "      <td>0.001</td>\n",
       "      <td>NaN</td>\n",
       "    </tr>\n",
       "    <tr>\n",
       "      <th>1838</th>\n",
       "      <td>1.0</td>\n",
       "      <td>5.405155e+04</td>\n",
       "      <td>-1.000</td>\n",
       "      <td>4.187</td>\n",
       "      <td>0.004</td>\n",
       "      <td>NaN</td>\n",
       "    </tr>\n",
       "    <tr>\n",
       "      <th>1839</th>\n",
       "      <td>1.0</td>\n",
       "      <td>5.406155e+04</td>\n",
       "      <td>-1.000</td>\n",
       "      <td>4.185</td>\n",
       "      <td>0.007</td>\n",
       "      <td>NaN</td>\n",
       "    </tr>\n",
       "    <tr>\n",
       "      <th>1840</th>\n",
       "      <td>1.0</td>\n",
       "      <td>5.407155e+04</td>\n",
       "      <td>-1.000</td>\n",
       "      <td>4.183</td>\n",
       "      <td>0.010</td>\n",
       "      <td>NaN</td>\n",
       "    </tr>\n",
       "    <tr>\n",
       "      <th>1841</th>\n",
       "      <td>1.0</td>\n",
       "      <td>5.408155e+04</td>\n",
       "      <td>-1.000</td>\n",
       "      <td>4.182</td>\n",
       "      <td>0.012</td>\n",
       "      <td>NaN</td>\n",
       "    </tr>\n",
       "    <tr>\n",
       "      <th>...</th>\n",
       "      <td>...</td>\n",
       "      <td>...</td>\n",
       "      <td>...</td>\n",
       "      <td>...</td>\n",
       "      <td>...</td>\n",
       "      <td>...</td>\n",
       "    </tr>\n",
       "    <tr>\n",
       "      <th>1178209</th>\n",
       "      <td>379.0</td>\n",
       "      <td>1.179725e+07</td>\n",
       "      <td>-1.000</td>\n",
       "      <td>3.055</td>\n",
       "      <td>3.436</td>\n",
       "      <td>NaN</td>\n",
       "    </tr>\n",
       "    <tr>\n",
       "      <th>1178210</th>\n",
       "      <td>379.0</td>\n",
       "      <td>1.179726e+07</td>\n",
       "      <td>-1.001</td>\n",
       "      <td>3.036</td>\n",
       "      <td>3.439</td>\n",
       "      <td>NaN</td>\n",
       "    </tr>\n",
       "    <tr>\n",
       "      <th>1178211</th>\n",
       "      <td>379.0</td>\n",
       "      <td>1.179727e+07</td>\n",
       "      <td>-0.999</td>\n",
       "      <td>3.014</td>\n",
       "      <td>3.442</td>\n",
       "      <td>NaN</td>\n",
       "    </tr>\n",
       "    <tr>\n",
       "      <th>1178212</th>\n",
       "      <td>379.0</td>\n",
       "      <td>1.179728e+07</td>\n",
       "      <td>-1.000</td>\n",
       "      <td>3.000</td>\n",
       "      <td>3.444</td>\n",
       "      <td>NaN</td>\n",
       "    </tr>\n",
       "    <tr>\n",
       "      <th>1178213</th>\n",
       "      <td>379.0</td>\n",
       "      <td>1.179728e+07</td>\n",
       "      <td>-1.000</td>\n",
       "      <td>3.000</td>\n",
       "      <td>3.444</td>\n",
       "      <td>NaN</td>\n",
       "    </tr>\n",
       "  </tbody>\n",
       "</table>\n",
       "<p>574336 rows × 6 columns</p>\n",
       "</div>"
      ],
      "text/plain": [
       "         Cycle_Index  Test_Time (s)  Current (A)  Voltage (V)  \\\n",
       "1837             1.0   5.404155e+04       -1.000        4.189   \n",
       "1838             1.0   5.405155e+04       -1.000        4.187   \n",
       "1839             1.0   5.406155e+04       -1.000        4.185   \n",
       "1840             1.0   5.407155e+04       -1.000        4.183   \n",
       "1841             1.0   5.408155e+04       -1.000        4.182   \n",
       "...              ...            ...          ...          ...   \n",
       "1178209        379.0   1.179725e+07       -1.000        3.055   \n",
       "1178210        379.0   1.179726e+07       -1.001        3.036   \n",
       "1178211        379.0   1.179727e+07       -0.999        3.014   \n",
       "1178212        379.0   1.179728e+07       -1.000        3.000   \n",
       "1178213        379.0   1.179728e+07       -1.000        3.000   \n",
       "\n",
       "         Discharge_Capacity (Ah)  Cell_Temperature (C)  \n",
       "1837                       0.001                   NaN  \n",
       "1838                       0.004                   NaN  \n",
       "1839                       0.007                   NaN  \n",
       "1840                       0.010                   NaN  \n",
       "1841                       0.012                   NaN  \n",
       "...                          ...                   ...  \n",
       "1178209                    3.436                   NaN  \n",
       "1178210                    3.439                   NaN  \n",
       "1178211                    3.442                   NaN  \n",
       "1178212                    3.444                   NaN  \n",
       "1178213                    3.444                   NaN  \n",
       "\n",
       "[574336 rows x 6 columns]"
      ]
     },
     "metadata": {},
     "output_type": "display_data"
    },
    {
     "data": {
      "application/vnd.microsoft.datawrangler.viewer.v0+json": {
       "columns": [
        {
         "name": "index",
         "rawType": "object",
         "type": "string"
        },
        {
         "name": "Cycle_Index",
         "rawType": "float64",
         "type": "float"
        },
        {
         "name": "Test_Time (s)",
         "rawType": "float64",
         "type": "float"
        },
        {
         "name": "Current (A)",
         "rawType": "float64",
         "type": "float"
        },
        {
         "name": "Voltage (V)",
         "rawType": "float64",
         "type": "float"
        },
        {
         "name": "Discharge_Capacity (Ah)",
         "rawType": "float64",
         "type": "float"
        },
        {
         "name": "Cell_Temperature (C)",
         "rawType": "float64",
         "type": "float"
        }
       ],
       "ref": "03a64346-25c9-4de8-aee0-f51485619772",
       "rows": [
        [
         "count",
         "574336.0",
         "574336.0",
         "574336.0",
         "574336.0",
         "574336.0",
         "0.0"
        ],
        [
         "mean",
         "180.52852685535993",
         "5917279.614599531",
         "-0.999999855485291",
         "3.733819772746267",
         "2.1345258124164253",
         null
        ],
        [
         "std",
         "108.66434503943262",
         "3391420.7278824984",
         "5.095120192103588e-05",
         "0.22283284959588562",
         "1.2529893279225561",
         null
        ],
        [
         "min",
         "1.0",
         "54041.547",
         "-1.009",
         "3.0",
         "0.001",
         null
        ],
        [
         "25%",
         "85.0",
         "2971864.582",
         "-1.0",
         "3.587",
         "1.057",
         null
        ],
        [
         "50%",
         "177.0",
         "5925157.24",
         "-1.0",
         "3.694",
         "2.115",
         null
        ],
        [
         "75%",
         "273.0",
         "8852561.315",
         "-1.0",
         "3.909",
         "3.176",
         null
        ],
        [
         "max",
         "379.0",
         "11797276.142",
         "-0.992",
         "4.189",
         "4.877",
         null
        ]
       ],
       "shape": {
        "columns": 6,
        "rows": 8
       }
      },
      "text/html": [
       "<div>\n",
       "<style scoped>\n",
       "    .dataframe tbody tr th:only-of-type {\n",
       "        vertical-align: middle;\n",
       "    }\n",
       "\n",
       "    .dataframe tbody tr th {\n",
       "        vertical-align: top;\n",
       "    }\n",
       "\n",
       "    .dataframe thead th {\n",
       "        text-align: right;\n",
       "    }\n",
       "</style>\n",
       "<table border=\"1\" class=\"dataframe\">\n",
       "  <thead>\n",
       "    <tr style=\"text-align: right;\">\n",
       "      <th></th>\n",
       "      <th>Cycle_Index</th>\n",
       "      <th>Test_Time (s)</th>\n",
       "      <th>Current (A)</th>\n",
       "      <th>Voltage (V)</th>\n",
       "      <th>Discharge_Capacity (Ah)</th>\n",
       "      <th>Cell_Temperature (C)</th>\n",
       "    </tr>\n",
       "  </thead>\n",
       "  <tbody>\n",
       "    <tr>\n",
       "      <th>count</th>\n",
       "      <td>574336.000000</td>\n",
       "      <td>5.743360e+05</td>\n",
       "      <td>574336.000000</td>\n",
       "      <td>574336.000000</td>\n",
       "      <td>574336.000000</td>\n",
       "      <td>0.0</td>\n",
       "    </tr>\n",
       "    <tr>\n",
       "      <th>mean</th>\n",
       "      <td>180.528527</td>\n",
       "      <td>5.917280e+06</td>\n",
       "      <td>-1.000000</td>\n",
       "      <td>3.733820</td>\n",
       "      <td>2.134526</td>\n",
       "      <td>NaN</td>\n",
       "    </tr>\n",
       "    <tr>\n",
       "      <th>std</th>\n",
       "      <td>108.664345</td>\n",
       "      <td>3.391421e+06</td>\n",
       "      <td>0.000051</td>\n",
       "      <td>0.222833</td>\n",
       "      <td>1.252989</td>\n",
       "      <td>NaN</td>\n",
       "    </tr>\n",
       "    <tr>\n",
       "      <th>min</th>\n",
       "      <td>1.000000</td>\n",
       "      <td>5.404155e+04</td>\n",
       "      <td>-1.009000</td>\n",
       "      <td>3.000000</td>\n",
       "      <td>0.001000</td>\n",
       "      <td>NaN</td>\n",
       "    </tr>\n",
       "    <tr>\n",
       "      <th>25%</th>\n",
       "      <td>85.000000</td>\n",
       "      <td>2.971865e+06</td>\n",
       "      <td>-1.000000</td>\n",
       "      <td>3.587000</td>\n",
       "      <td>1.057000</td>\n",
       "      <td>NaN</td>\n",
       "    </tr>\n",
       "    <tr>\n",
       "      <th>50%</th>\n",
       "      <td>177.000000</td>\n",
       "      <td>5.925157e+06</td>\n",
       "      <td>-1.000000</td>\n",
       "      <td>3.694000</td>\n",
       "      <td>2.115000</td>\n",
       "      <td>NaN</td>\n",
       "    </tr>\n",
       "    <tr>\n",
       "      <th>75%</th>\n",
       "      <td>273.000000</td>\n",
       "      <td>8.852561e+06</td>\n",
       "      <td>-1.000000</td>\n",
       "      <td>3.909000</td>\n",
       "      <td>3.176000</td>\n",
       "      <td>NaN</td>\n",
       "    </tr>\n",
       "    <tr>\n",
       "      <th>max</th>\n",
       "      <td>379.000000</td>\n",
       "      <td>1.179728e+07</td>\n",
       "      <td>-0.992000</td>\n",
       "      <td>4.189000</td>\n",
       "      <td>4.877000</td>\n",
       "      <td>NaN</td>\n",
       "    </tr>\n",
       "  </tbody>\n",
       "</table>\n",
       "</div>"
      ],
      "text/plain": [
       "         Cycle_Index  Test_Time (s)    Current (A)    Voltage (V)  \\\n",
       "count  574336.000000   5.743360e+05  574336.000000  574336.000000   \n",
       "mean      180.528527   5.917280e+06      -1.000000       3.733820   \n",
       "std       108.664345   3.391421e+06       0.000051       0.222833   \n",
       "min         1.000000   5.404155e+04      -1.009000       3.000000   \n",
       "25%        85.000000   2.971865e+06      -1.000000       3.587000   \n",
       "50%       177.000000   5.925157e+06      -1.000000       3.694000   \n",
       "75%       273.000000   8.852561e+06      -1.000000       3.909000   \n",
       "max       379.000000   1.179728e+07      -0.992000       4.189000   \n",
       "\n",
       "       Discharge_Capacity (Ah)  Cell_Temperature (C)  \n",
       "count            574336.000000                   0.0  \n",
       "mean                  2.134526                   NaN  \n",
       "std                   1.252989                   NaN  \n",
       "min                   0.001000                   NaN  \n",
       "25%                   1.057000                   NaN  \n",
       "50%                   2.115000                   NaN  \n",
       "75%                   3.176000                   NaN  \n",
       "max                   4.877000                   NaN  "
      ]
     },
     "metadata": {},
     "output_type": "display_data"
    }
   ],
   "source": [
    "# Header completo:\n",
    "# Date_Time,Test_Time (s),Cycle_Index,Current (A),Voltage (V),Charge_Capacity (Ah),Discharge_Capacity (Ah),Charge_Energy (Wh),Discharge_Energy (Wh),Environment_Temperature (C),Cell_Temperature (C)\n",
    "df = pd.read_csv('../Battery_Archive_Data/Michigan Expansion/5.00_MICH_01R_pouch_NMC_25C_0-100_0.2-0.2C_timeseries_data.csv')\n",
    "\n",
    "# Apenas features de interesse são mantidas\n",
    "# Obs: Envoironment_Temperature (C) poderia ser relevante, mas tem todos os valores nulos. Então, é removida\n",
    "df = df[[\"Cycle_Index\", \"Test_Time (s)\", \"Current (A)\", \"Voltage (V)\", \"Discharge_Capacity (Ah)\", \"Cell_Temperature (C)\"]]\n",
    "\n",
    "# Mantem apenas as linhas em que a bateria está descarregando, ou seja, corrente < 0\n",
    "df = df[df['Current (A)'] < 0]\n",
    "\n",
    "# Remove valores para Cell_Temperature < 1 (incorretos)\n",
    "#df = df[df['Cell_Temperature (C)'] >= 1]\n",
    "\n",
    "display(df)\n",
    "display(df.describe())"
   ]
  },
  {
   "cell_type": "markdown",
   "metadata": {},
   "source": [
    "## Visualização"
   ]
  },
  {
   "cell_type": "code",
   "execution_count": 91,
   "metadata": {},
   "outputs": [
    {
     "data": {
      "image/png": "[encoded data removed]",
      "text/plain": [
       "<Figure size 1400x800 with 4 Axes>"
      ]
     },
     "metadata": {},
     "output_type": "display_data"
    }
   ],
   "source": [
    "# Lista de features que deseja analisar (exceto \"Cycle_Index\")\n",
    "features = [\"Current (A)\", \"Voltage (V)\", \"Discharge_Capacity (Ah)\", \"Cell_Temperature (C)\"]\n",
    "\n",
    "# Ciclos únicos e ordenados\n",
    "cycles = df[\"Cycle_Index\"].unique()\n",
    "cycles.sort()\n",
    "NumCyclesPlot = 5\n",
    "\n",
    "# Seleciona 'NumCyclesPlot' ciclos igualmente espaçados para plotar\n",
    "if len(cycles) > NumCyclesPlot:\n",
    "    cycles = cycles[::len(cycles)//NumCyclesPlot] # // --> Divisão inteira\n",
    "\n",
    "# Cria os subplots com layout 2x2\n",
    "fig, axs = plt.subplots(2, 2, figsize=(14, 8))\n",
    "axs = axs.flatten()  # Facilita a iteração\n",
    "\n",
    "# Itera sobre cada feature e sobre os ciclos para plotar os dados\n",
    "for i, feature in enumerate(features):\n",
    "    ax = axs[i]\n",
    "    for cycle in cycles:\n",
    "        # Seleciona os dados do ciclo e calcula o tempo relativo\n",
    "        df_cycle = df[df[\"Cycle_Index\"] == cycle].copy()\n",
    "        df_cycle['Tempo_Relativo (s)'] = df_cycle[\"Test_Time (s)\"] - df_cycle[\"Test_Time (s)\"].min()\n",
    "        \n",
    "        # Plota a feature em função do tempo relativo\n",
    "        ax.plot(df_cycle['Tempo_Relativo (s)'], df_cycle[feature], alpha=0.7, label=f'{int(cycle)}', linewidth=2.0)\n",
    "\n",
    "    ax.set_title(f'{feature} ao longo dos ciclos')\n",
    "    ax.set_xlabel('Tempo Relativo (s)')\n",
    "    ax.set_ylabel(feature)\n",
    "    ax.grid(True)\n",
    "    ax.legend(title=\"Ciclo\", loc='best')\n",
    "\n",
    "plt.tight_layout()\n",
    "plt.show()\n"
   ]
  },
  {
   "cell_type": "markdown",
   "metadata": {},
   "source": [
    "## Análise de SOH"
   ]
  },
  {
   "cell_type": "markdown",
   "metadata": {},
   "source": [
    "$$\n",
    "\\text{SOH} = \\frac{\\text{capacidade\\_atual}}{\\text{capacidade\\_inicial}}\n",
    "$$\n",
    "\n",
    "- $CapacidadeInicial$ é a capacidade nominal, a maior considerando todo o histórico da bateria\n",
    "- $CapacidadeAtual$ é a maior capacidade do ciclo"
   ]
  },
  {
   "cell_type": "code",
   "execution_count": 92,
   "metadata": {},
   "outputs": [
    {
     "name": "stdout",
     "output_type": "stream",
     "text": [
      "Capacidade total de descarga: 5.0 Ah\n"
     ]
    },
    {
     "data": {
      "application/vnd.microsoft.datawrangler.viewer.v0+json": {
       "columns": [
        {
         "name": "index",
         "rawType": "int64",
         "type": "integer"
        },
        {
         "name": "Cycle_Index",
         "rawType": "float64",
         "type": "float"
        },
        {
         "name": "Max_Discharge_Capacity",
         "rawType": "float64",
         "type": "float"
        },
        {
         "name": "SOH_discharge",
         "rawType": "float64",
         "type": "float"
        }
       ],
       "ref": "0381496f-b76f-4c02-a55e-395c58bbda2c",
       "rows": [
        [
         "0",
         "1.0",
         "4.873",
         "0.9746"
        ],
        [
         "1",
         "2.0",
         "4.877",
         "0.9753999999999999"
        ],
        [
         "2",
         "3.0",
         "4.868",
         "0.9736"
        ],
        [
         "3",
         "4.0",
         "4.862",
         "0.9724"
        ],
        [
         "4",
         "5.0",
         "4.858",
         "0.9715999999999999"
        ],
        [
         "5",
         "6.0",
         "4.846",
         "0.9692000000000001"
        ],
        [
         "6",
         "7.0",
         "4.849",
         "0.9698"
        ],
        [
         "7",
         "8.0",
         "4.841",
         "0.9682000000000001"
        ],
        [
         "8",
         "9.0",
         "4.841",
         "0.9682000000000001"
        ],
        [
         "9",
         "10.0",
         "4.838",
         "0.9676"
        ],
        [
         "10",
         "11.0",
         "4.835",
         "0.967"
        ],
        [
         "11",
         "12.0",
         "4.831",
         "0.9662000000000001"
        ],
        [
         "12",
         "13.0",
         "4.823",
         "0.9646000000000001"
        ],
        [
         "13",
         "14.0",
         "4.825",
         "0.9650000000000001"
        ],
        [
         "14",
         "15.0",
         "4.819",
         "0.9638"
        ],
        [
         "15",
         "16.0",
         "4.816",
         "0.9632"
        ],
        [
         "16",
         "17.0",
         "4.808",
         "0.9616"
        ],
        [
         "17",
         "18.0",
         "4.798",
         "0.9596"
        ],
        [
         "18",
         "19.0",
         "4.801",
         "0.9602"
        ],
        [
         "19",
         "20.0",
         "4.795",
         "0.959"
        ],
        [
         "20",
         "21.0",
         "4.793",
         "0.9586"
        ],
        [
         "21",
         "22.0",
         "4.795",
         "0.959"
        ],
        [
         "22",
         "23.0",
         "4.789",
         "0.9578"
        ],
        [
         "23",
         "24.0",
         "4.791",
         "0.9582"
        ],
        [
         "24",
         "25.0",
         "4.788",
         "0.9576"
        ],
        [
         "25",
         "26.0",
         "4.785",
         "0.9570000000000001"
        ],
        [
         "26",
         "27.0",
         "4.782",
         "0.9564"
        ],
        [
         "27",
         "28.0",
         "4.778",
         "0.9555999999999999"
        ],
        [
         "28",
         "29.0",
         "4.776",
         "0.9551999999999999"
        ],
        [
         "29",
         "30.0",
         "4.772",
         "0.9544"
        ],
        [
         "30",
         "31.0",
         "4.77",
         "0.954"
        ],
        [
         "31",
         "32.0",
         "4.768",
         "0.9536"
        ],
        [
         "32",
         "33.0",
         "4.765",
         "0.953"
        ],
        [
         "33",
         "34.0",
         "4.766",
         "0.9532"
        ],
        [
         "34",
         "35.0",
         "4.759",
         "0.9518000000000001"
        ],
        [
         "35",
         "36.0",
         "4.756",
         "0.9512"
        ],
        [
         "36",
         "37.0",
         "4.753",
         "0.9506"
        ],
        [
         "37",
         "38.0",
         "4.745",
         "0.9490000000000001"
        ],
        [
         "38",
         "39.0",
         "4.746",
         "0.9492"
        ],
        [
         "39",
         "40.0",
         "4.722",
         "0.9444000000000001"
        ],
        [
         "40",
         "41.0",
         "4.755",
         "0.951"
        ],
        [
         "41",
         "42.0",
         "4.74",
         "0.9480000000000001"
        ],
        [
         "42",
         "43.0",
         "4.733",
         "0.9465999999999999"
        ],
        [
         "43",
         "44.0",
         "4.724",
         "0.9448000000000001"
        ],
        [
         "44",
         "45.0",
         "4.719",
         "0.9438000000000001"
        ],
        [
         "45",
         "46.0",
         "4.718",
         "0.9436"
        ],
        [
         "46",
         "47.0",
         "4.71",
         "0.942"
        ],
        [
         "47",
         "48.0",
         "4.709",
         "0.9418"
        ],
        [
         "48",
         "49.0",
         "4.706",
         "0.9412"
        ],
        [
         "49",
         "50.0",
         "4.701",
         "0.9401999999999999"
        ]
       ],
       "shape": {
        "columns": 3,
        "rows": 377
       }
      },
      "text/html": [
       "<div>\n",
       "<style scoped>\n",
       "    .dataframe tbody tr th:only-of-type {\n",
       "        vertical-align: middle;\n",
       "    }\n",
       "\n",
       "    .dataframe tbody tr th {\n",
       "        vertical-align: top;\n",
       "    }\n",
       "\n",
       "    .dataframe thead th {\n",
       "        text-align: right;\n",
       "    }\n",
       "</style>\n",
       "<table border=\"1\" class=\"dataframe\">\n",
       "  <thead>\n",
       "    <tr style=\"text-align: right;\">\n",
       "      <th></th>\n",
       "      <th>Cycle_Index</th>\n",
       "      <th>Max_Discharge_Capacity</th>\n",
       "      <th>SOH_discharge</th>\n",
       "    </tr>\n",
       "  </thead>\n",
       "  <tbody>\n",
       "    <tr>\n",
       "      <th>0</th>\n",
       "      <td>1.0</td>\n",
       "      <td>4.873</td>\n",
       "      <td>0.9746</td>\n",
       "    </tr>\n",
       "    <tr>\n",
       "      <th>1</th>\n",
       "      <td>2.0</td>\n",
       "      <td>4.877</td>\n",
       "      <td>0.9754</td>\n",
       "    </tr>\n",
       "    <tr>\n",
       "      <th>2</th>\n",
       "      <td>3.0</td>\n",
       "      <td>4.868</td>\n",
       "      <td>0.9736</td>\n",
       "    </tr>\n",
       "    <tr>\n",
       "      <th>3</th>\n",
       "      <td>4.0</td>\n",
       "      <td>4.862</td>\n",
       "      <td>0.9724</td>\n",
       "    </tr>\n",
       "    <tr>\n",
       "      <th>4</th>\n",
       "      <td>5.0</td>\n",
       "      <td>4.858</td>\n",
       "      <td>0.9716</td>\n",
       "    </tr>\n",
       "    <tr>\n",
       "      <th>...</th>\n",
       "      <td>...</td>\n",
       "      <td>...</td>\n",
       "      <td>...</td>\n",
       "    </tr>\n",
       "    <tr>\n",
       "      <th>372</th>\n",
       "      <td>375.0</td>\n",
       "      <td>3.464</td>\n",
       "      <td>0.6928</td>\n",
       "    </tr>\n",
       "    <tr>\n",
       "      <th>373</th>\n",
       "      <td>376.0</td>\n",
       "      <td>3.461</td>\n",
       "      <td>0.6922</td>\n",
       "    </tr>\n",
       "    <tr>\n",
       "      <th>374</th>\n",
       "      <td>377.0</td>\n",
       "      <td>3.455</td>\n",
       "      <td>0.6910</td>\n",
       "    </tr>\n",
       "    <tr>\n",
       "      <th>375</th>\n",
       "      <td>378.0</td>\n",
       "      <td>3.450</td>\n",
       "      <td>0.6900</td>\n",
       "    </tr>\n",
       "    <tr>\n",
       "      <th>376</th>\n",
       "      <td>379.0</td>\n",
       "      <td>3.444</td>\n",
       "      <td>0.6888</td>\n",
       "    </tr>\n",
       "  </tbody>\n",
       "</table>\n",
       "<p>377 rows × 3 columns</p>\n",
       "</div>"
      ],
      "text/plain": [
       "     Cycle_Index  Max_Discharge_Capacity  SOH_discharge\n",
       "0            1.0                   4.873         0.9746\n",
       "1            2.0                   4.877         0.9754\n",
       "2            3.0                   4.868         0.9736\n",
       "3            4.0                   4.862         0.9724\n",
       "4            5.0                   4.858         0.9716\n",
       "..           ...                     ...            ...\n",
       "372        375.0                   3.464         0.6928\n",
       "373        376.0                   3.461         0.6922\n",
       "374        377.0                   3.455         0.6910\n",
       "375        378.0                   3.450         0.6900\n",
       "376        379.0                   3.444         0.6888\n",
       "\n",
       "[377 rows x 3 columns]"
      ]
     },
     "metadata": {},
     "output_type": "display_data"
    }
   ],
   "source": [
    "# Capacidade nominal (máxima global)\n",
    "nominal_capacity = 5.0 #df['Discharge_Capacity (Ah)'].max()\n",
    "print(f'Capacidade total de descarga: {nominal_capacity} Ah')\n",
    "\n",
    "# Para cada ciclo, extrai a maior capacidade \n",
    "# (cycles_capacity é uma série do Pandas)\n",
    "cycles_capacity = df.groupby('Cycle_Index')['Discharge_Capacity (Ah)'].max()\n",
    "cycles_capacity = cycles_capacity.reset_index() # transforma em dataframe\n",
    "cycles_capacity.columns = ['Cycle_Index', 'Max_Discharge_Capacity']\n",
    "cycles_capacity['SOH_discharge'] = (cycles_capacity['Max_Discharge_Capacity'] / nominal_capacity)\n",
    "display(cycles_capacity)"
   ]
  },
  {
   "cell_type": "code",
   "execution_count": 93,
   "metadata": {},
   "outputs": [
    {
     "data": {
      "application/vnd.microsoft.datawrangler.viewer.v0+json": {
       "columns": [
        {
         "name": "index",
         "rawType": "int64",
         "type": "integer"
        },
        {
         "name": "Cycle_Index",
         "rawType": "float64",
         "type": "float"
        },
        {
         "name": "Cell_Temperature (C)",
         "rawType": "float64",
         "type": "float"
        },
        {
         "name": "SOH_discharge",
         "rawType": "float64",
         "type": "float"
        }
       ],
       "ref": "5f41056d-53a6-4640-8693-06569b8e7463",
       "rows": [
        [
         "0",
         "1.0",
         null,
         "0.9746"
        ],
        [
         "1",
         "2.0",
         null,
         "0.9753999999999999"
        ],
        [
         "2",
         "3.0",
         null,
         "0.9736"
        ],
        [
         "3",
         "4.0",
         null,
         "0.9724"
        ],
        [
         "4",
         "5.0",
         null,
         "0.9715999999999999"
        ],
        [
         "5",
         "6.0",
         null,
         "0.9692000000000001"
        ],
        [
         "6",
         "7.0",
         null,
         "0.9698"
        ],
        [
         "7",
         "8.0",
         null,
         "0.9682000000000001"
        ],
        [
         "8",
         "9.0",
         null,
         "0.9682000000000001"
        ],
        [
         "9",
         "10.0",
         null,
         "0.9676"
        ],
        [
         "10",
         "11.0",
         null,
         "0.967"
        ],
        [
         "11",
         "12.0",
         null,
         "0.9662000000000001"
        ],
        [
         "12",
         "13.0",
         null,
         "0.9646000000000001"
        ],
        [
         "13",
         "14.0",
         null,
         "0.9650000000000001"
        ],
        [
         "14",
         "15.0",
         null,
         "0.9638"
        ],
        [
         "15",
         "16.0",
         null,
         "0.9632"
        ],
        [
         "16",
         "17.0",
         null,
         "0.9616"
        ],
        [
         "17",
         "18.0",
         null,
         "0.9596"
        ],
        [
         "18",
         "19.0",
         null,
         "0.9602"
        ],
        [
         "19",
         "20.0",
         null,
         "0.959"
        ],
        [
         "20",
         "21.0",
         null,
         "0.9586"
        ],
        [
         "21",
         "22.0",
         null,
         "0.959"
        ],
        [
         "22",
         "23.0",
         null,
         "0.9578"
        ],
        [
         "23",
         "24.0",
         null,
         "0.9582"
        ],
        [
         "24",
         "25.0",
         null,
         "0.9576"
        ],
        [
         "25",
         "26.0",
         null,
         "0.9570000000000001"
        ],
        [
         "26",
         "27.0",
         null,
         "0.9564"
        ],
        [
         "27",
         "28.0",
         null,
         "0.9555999999999999"
        ],
        [
         "28",
         "29.0",
         null,
         "0.9551999999999999"
        ],
        [
         "29",
         "30.0",
         null,
         "0.9544"
        ],
        [
         "30",
         "31.0",
         null,
         "0.954"
        ],
        [
         "31",
         "32.0",
         null,
         "0.9536"
        ],
        [
         "32",
         "33.0",
         null,
         "0.953"
        ],
        [
         "33",
         "34.0",
         null,
         "0.9532"
        ],
        [
         "34",
         "35.0",
         null,
         "0.9518000000000001"
        ],
        [
         "35",
         "36.0",
         null,
         "0.9512"
        ],
        [
         "36",
         "37.0",
         null,
         "0.9506"
        ],
        [
         "37",
         "38.0",
         null,
         "0.9490000000000001"
        ],
        [
         "38",
         "39.0",
         null,
         "0.9492"
        ],
        [
         "39",
         "40.0",
         null,
         "0.9444000000000001"
        ],
        [
         "40",
         "41.0",
         null,
         "0.951"
        ],
        [
         "41",
         "42.0",
         null,
         "0.9480000000000001"
        ],
        [
         "42",
         "43.0",
         null,
         "0.9465999999999999"
        ],
        [
         "43",
         "44.0",
         null,
         "0.9448000000000001"
        ],
        [
         "44",
         "45.0",
         null,
         "0.9438000000000001"
        ],
        [
         "45",
         "46.0",
         null,
         "0.9436"
        ],
        [
         "46",
         "47.0",
         null,
         "0.942"
        ],
        [
         "47",
         "48.0",
         null,
         "0.9418"
        ],
        [
         "48",
         "49.0",
         null,
         "0.9412"
        ],
        [
         "49",
         "50.0",
         null,
         "0.9401999999999999"
        ]
       ],
       "shape": {
        "columns": 3,
        "rows": 377
       }
      },
      "text/html": [
       "<div>\n",
       "<style scoped>\n",
       "    .dataframe tbody tr th:only-of-type {\n",
       "        vertical-align: middle;\n",
       "    }\n",
       "\n",
       "    .dataframe tbody tr th {\n",
       "        vertical-align: top;\n",
       "    }\n",
       "\n",
       "    .dataframe thead th {\n",
       "        text-align: right;\n",
       "    }\n",
       "</style>\n",
       "<table border=\"1\" class=\"dataframe\">\n",
       "  <thead>\n",
       "    <tr style=\"text-align: right;\">\n",
       "      <th></th>\n",
       "      <th>Cycle_Index</th>\n",
       "      <th>Cell_Temperature (C)</th>\n",
       "      <th>SOH_discharge</th>\n",
       "    </tr>\n",
       "  </thead>\n",
       "  <tbody>\n",
       "    <tr>\n",
       "      <th>0</th>\n",
       "      <td>1.0</td>\n",
       "      <td>NaN</td>\n",
       "      <td>0.9746</td>\n",
       "    </tr>\n",
       "    <tr>\n",
       "      <th>1</th>\n",
       "      <td>2.0</td>\n",
       "      <td>NaN</td>\n",
       "      <td>0.9754</td>\n",
       "    </tr>\n",
       "    <tr>\n",
       "      <th>2</th>\n",
       "      <td>3.0</td>\n",
       "      <td>NaN</td>\n",
       "      <td>0.9736</td>\n",
       "    </tr>\n",
       "    <tr>\n",
       "      <th>3</th>\n",
       "      <td>4.0</td>\n",
       "      <td>NaN</td>\n",
       "      <td>0.9724</td>\n",
       "    </tr>\n",
       "    <tr>\n",
       "      <th>4</th>\n",
       "      <td>5.0</td>\n",
       "      <td>NaN</td>\n",
       "      <td>0.9716</td>\n",
       "    </tr>\n",
       "    <tr>\n",
       "      <th>...</th>\n",
       "      <td>...</td>\n",
       "      <td>...</td>\n",
       "      <td>...</td>\n",
       "    </tr>\n",
       "    <tr>\n",
       "      <th>372</th>\n",
       "      <td>375.0</td>\n",
       "      <td>NaN</td>\n",
       "      <td>0.6928</td>\n",
       "    </tr>\n",
       "    <tr>\n",
       "      <th>373</th>\n",
       "      <td>376.0</td>\n",
       "      <td>NaN</td>\n",
       "      <td>0.6922</td>\n",
       "    </tr>\n",
       "    <tr>\n",
       "      <th>374</th>\n",
       "      <td>377.0</td>\n",
       "      <td>NaN</td>\n",
       "      <td>0.6910</td>\n",
       "    </tr>\n",
       "    <tr>\n",
       "      <th>375</th>\n",
       "      <td>378.0</td>\n",
       "      <td>NaN</td>\n",
       "      <td>0.6900</td>\n",
       "    </tr>\n",
       "    <tr>\n",
       "      <th>376</th>\n",
       "      <td>379.0</td>\n",
       "      <td>NaN</td>\n",
       "      <td>0.6888</td>\n",
       "    </tr>\n",
       "  </tbody>\n",
       "</table>\n",
       "<p>377 rows × 3 columns</p>\n",
       "</div>"
      ],
      "text/plain": [
       "     Cycle_Index  Cell_Temperature (C)  SOH_discharge\n",
       "0            1.0                   NaN         0.9746\n",
       "1            2.0                   NaN         0.9754\n",
       "2            3.0                   NaN         0.9736\n",
       "3            4.0                   NaN         0.9724\n",
       "4            5.0                   NaN         0.9716\n",
       "..           ...                   ...            ...\n",
       "372        375.0                   NaN         0.6928\n",
       "373        376.0                   NaN         0.6922\n",
       "374        377.0                   NaN         0.6910\n",
       "375        378.0                   NaN         0.6900\n",
       "376        379.0                   NaN         0.6888\n",
       "\n",
       "[377 rows x 3 columns]"
      ]
     },
     "metadata": {},
     "output_type": "display_data"
    },
    {
     "data": {
      "application/vnd.microsoft.datawrangler.viewer.v0+json": {
       "columns": [
        {
         "name": "index",
         "rawType": "object",
         "type": "string"
        },
        {
         "name": "Cycle_Index",
         "rawType": "float64",
         "type": "float"
        },
        {
         "name": "Cell_Temperature (C)",
         "rawType": "float64",
         "type": "float"
        },
        {
         "name": "SOH_discharge",
         "rawType": "float64",
         "type": "float"
        }
       ],
       "ref": "9503c122-0509-4630-a7ce-f2e774c3c85b",
       "rows": [
        [
         "count",
         "377.0",
         "0.0",
         "377.0"
        ],
        [
         "mean",
         "190.3978779840849",
         null,
         "0.8450509283819629"
        ],
        [
         "std",
         "109.69823596671223",
         null,
         "0.08073102540678868"
        ],
        [
         "min",
         "1.0",
         null,
         "0.4626"
        ],
        [
         "25%",
         "95.0",
         null,
         "0.787"
        ],
        [
         "50%",
         "191.0",
         null,
         "0.853"
        ],
        [
         "75%",
         "285.0",
         null,
         "0.9109999999999999"
        ],
        [
         "max",
         "379.0",
         null,
         "0.9753999999999999"
        ]
       ],
       "shape": {
        "columns": 3,
        "rows": 8
       }
      },
      "text/html": [
       "<div>\n",
       "<style scoped>\n",
       "    .dataframe tbody tr th:only-of-type {\n",
       "        vertical-align: middle;\n",
       "    }\n",
       "\n",
       "    .dataframe tbody tr th {\n",
       "        vertical-align: top;\n",
       "    }\n",
       "\n",
       "    .dataframe thead th {\n",
       "        text-align: right;\n",
       "    }\n",
       "</style>\n",
       "<table border=\"1\" class=\"dataframe\">\n",
       "  <thead>\n",
       "    <tr style=\"text-align: right;\">\n",
       "      <th></th>\n",
       "      <th>Cycle_Index</th>\n",
       "      <th>Cell_Temperature (C)</th>\n",
       "      <th>SOH_discharge</th>\n",
       "    </tr>\n",
       "  </thead>\n",
       "  <tbody>\n",
       "    <tr>\n",
       "      <th>count</th>\n",
       "      <td>377.000000</td>\n",
       "      <td>0.0</td>\n",
       "      <td>377.000000</td>\n",
       "    </tr>\n",
       "    <tr>\n",
       "      <th>mean</th>\n",
       "      <td>190.397878</td>\n",
       "      <td>NaN</td>\n",
       "      <td>0.845051</td>\n",
       "    </tr>\n",
       "    <tr>\n",
       "      <th>std</th>\n",
       "      <td>109.698236</td>\n",
       "      <td>NaN</td>\n",
       "      <td>0.080731</td>\n",
       "    </tr>\n",
       "    <tr>\n",
       "      <th>min</th>\n",
       "      <td>1.000000</td>\n",
       "      <td>NaN</td>\n",
       "      <td>0.462600</td>\n",
       "    </tr>\n",
       "    <tr>\n",
       "      <th>25%</th>\n",
       "      <td>95.000000</td>\n",
       "      <td>NaN</td>\n",
       "      <td>0.787000</td>\n",
       "    </tr>\n",
       "    <tr>\n",
       "      <th>50%</th>\n",
       "      <td>191.000000</td>\n",
       "      <td>NaN</td>\n",
       "      <td>0.853000</td>\n",
       "    </tr>\n",
       "    <tr>\n",
       "      <th>75%</th>\n",
       "      <td>285.000000</td>\n",
       "      <td>NaN</td>\n",
       "      <td>0.911000</td>\n",
       "    </tr>\n",
       "    <tr>\n",
       "      <th>max</th>\n",
       "      <td>379.000000</td>\n",
       "      <td>NaN</td>\n",
       "      <td>0.975400</td>\n",
       "    </tr>\n",
       "  </tbody>\n",
       "</table>\n",
       "</div>"
      ],
      "text/plain": [
       "       Cycle_Index  Cell_Temperature (C)  SOH_discharge\n",
       "count   377.000000                   0.0     377.000000\n",
       "mean    190.397878                   NaN       0.845051\n",
       "std     109.698236                   NaN       0.080731\n",
       "min       1.000000                   NaN       0.462600\n",
       "25%      95.000000                   NaN       0.787000\n",
       "50%     191.000000                   NaN       0.853000\n",
       "75%     285.000000                   NaN       0.911000\n",
       "max     379.000000                   NaN       0.975400"
      ]
     },
     "metadata": {},
     "output_type": "display_data"
    }
   ],
   "source": [
    "# Seleciona as features de interesse e agrupa por ciclo\n",
    "df_grouped = df[['Cycle_Index', 'Cell_Temperature (C)']]\n",
    "df_grouped = df_grouped.groupby('Cycle_Index', as_index=False).mean() # Média será usada para a temperatura\n",
    "\n",
    "# Adição do SOH calculado em ciclos_capacity\n",
    "df_grouped['SOH_discharge'] = cycles_capacity['SOH_discharge']\n",
    "\n",
    "display(df_grouped)\n",
    "display(df_grouped.describe())"
   ]
  },
  {
   "cell_type": "markdown",
   "metadata": {},
   "source": [
    "### Outliers"
   ]
  },
  {
   "cell_type": "code",
   "execution_count": 94,
   "metadata": {},
   "outputs": [],
   "source": [
    "# Técnica estatística para identificar outliers em um conjunto de dados, calculando o intervalo entre o primeiro quartil (Q1) e o terceiro quartil (Q3), e usando para definir limites superiores e inferiores. Outliers são definidos como pontos que caem abaixo de Q1 - 1.5 * IQR ou acima de Q3 + 1.5 * IQR. Este método é robusto contra a não normalidade dos dados, sendo útil para distribuições assimétricas.\n",
    "def rmv_outliers_iqr(df: pd.DataFrame, column_name: str) -> pd.DataFrame:\n",
    "    # Calculate the first and third quartiles\n",
    "    Q1 = df[column_name].quantile(0.25)\n",
    "    Q3 = df[column_name].quantile(0.75)\n",
    "    \n",
    "    # Calculate the Interquartile Range (IQR)\n",
    "    IQR = Q3 - Q1\n",
    "    \n",
    "    # Define the lower and upper bounds for outliers\n",
    "    lower_bound = Q1 - 1.5 * IQR\n",
    "    upper_bound = Q3 + 1.5 * IQR\n",
    "    \n",
    "    # Filter the DataFrame to keep only the values within the bounds\n",
    "    filtered_df = df[(df[column_name] >= lower_bound) & (df[column_name] <= upper_bound)]\n",
    "    \n",
    "    return filtered_df"
   ]
  },
  {
   "cell_type": "code",
   "execution_count": 95,
   "metadata": {},
   "outputs": [],
   "source": [
    "# Algoritmo de machine learning não supervisionado usado para detecção de anomalias, que identifica outliers isolando-os a partir de partições aleatórias em um conjunto de árvores de decisão\n",
    "def rmv_outliers_isolation_forest(df: pd.DataFrame, column_name: str, contamin='auto') -> pd.DataFrame:\n",
    "    model = IsolationForest(contamination=contamin, random_state=123)\n",
    "    \n",
    "    # Fit the model and predict outliers. The data needs to be reshaped to a 2D array.\n",
    "    predictions = model.fit_predict(df[[column_name]].values)\n",
    "    \n",
    "    # Filter the DataFrame to keep only the inliers (predictions == 1)\n",
    "    filtered_df = df[predictions == 1]\n",
    "    \n",
    "    return filtered_df"
   ]
  },
  {
   "cell_type": "code",
   "execution_count": 96,
   "metadata": {},
   "outputs": [],
   "source": [
    "def rmv_outliers_zscore(df: pd.DataFrame, column_name: str, threshold: float = 3.0) -> pd.DataFrame:\n",
    "    # Calculate the Z-scores of the column\n",
    "    z_scores = np.abs(zscore(df[column_name]))\n",
    "    \n",
    "    # Create a boolean mask to filter out outliers\n",
    "    inlier_mask = z_scores <= threshold\n",
    "    \n",
    "    # Filter the DataFrame to keep only the inliers\n",
    "    filtered_df = df[inlier_mask]\n",
    "    \n",
    "    return filtered_df"
   ]
  },
  {
   "cell_type": "code",
   "execution_count": 97,
   "metadata": {},
   "outputs": [],
   "source": [
    "def ensure_non_increasing(df: pd.DataFrame, column_name: str) -> pd.DataFrame:\n",
    "    # Create a boolean mask where True indicates a valid decreasing or equal step\n",
    "    is_decreasing = df[column_name].diff().fillna(-1) <= 0\n",
    "    \n",
    "    # Filter the DataFrame to keep only the monotonic values\n",
    "    filtered_df = df[is_decreasing]\n",
    "    \n",
    "    return filtered_df"
   ]
  },
  {
   "cell_type": "code",
   "execution_count": 98,
   "metadata": {},
   "outputs": [],
   "source": [
    "def rmv_sharp_jump(df: pd.DataFrame, column_name: str, threshold: float, repeat=1) -> pd.DataFrame:\n",
    "    for _ in range(repeat):\n",
    "        # diff -> a diferença entre os valores consecutivos\n",
    "        # abs -> o valor absoluto para tratar subidas e quedas\n",
    "        # shift(-1) -> para que a diferença seja aplicada ao ponto de origem do salto\n",
    "        # fillna(0) -> trata o último valor (que é NaN após o shift) com 0 para que ele seja mantido\n",
    "        shifted_diff = df[column_name].diff().abs().shift(-1).fillna(0)\n",
    "        \n",
    "        is_not_sharp_jump = shifted_diff <= threshold\n",
    "        df = df[is_not_sharp_jump]\n",
    "    \n",
    "    return df"
   ]
  },
  {
   "cell_type": "code",
   "execution_count": 99,
   "metadata": {},
   "outputs": [
    {
     "data": {
      "application/vnd.microsoft.datawrangler.viewer.v0+json": {
       "columns": [
        {
         "name": "index",
         "rawType": "int64",
         "type": "integer"
        },
        {
         "name": "Cycle_Index",
         "rawType": "float64",
         "type": "float"
        },
        {
         "name": "Cell_Temperature (C)",
         "rawType": "float64",
         "type": "float"
        },
        {
         "name": "SOH_discharge",
         "rawType": "float64",
         "type": "float"
        }
       ],
       "ref": "f36d723d-5fc8-4885-ba4f-d41170887a98",
       "rows": [
        [
         "0",
         "1.0",
         null,
         "0.9746"
        ],
        [
         "1",
         "2.0",
         null,
         "0.9753999999999999"
        ],
        [
         "2",
         "3.0",
         null,
         "0.9736"
        ],
        [
         "3",
         "4.0",
         null,
         "0.9724"
        ],
        [
         "4",
         "5.0",
         null,
         "0.9715999999999999"
        ],
        [
         "5",
         "6.0",
         null,
         "0.9692000000000001"
        ],
        [
         "6",
         "7.0",
         null,
         "0.9698"
        ],
        [
         "7",
         "8.0",
         null,
         "0.9682000000000001"
        ],
        [
         "8",
         "9.0",
         null,
         "0.9682000000000001"
        ],
        [
         "9",
         "10.0",
         null,
         "0.9676"
        ],
        [
         "10",
         "11.0",
         null,
         "0.967"
        ],
        [
         "11",
         "12.0",
         null,
         "0.9662000000000001"
        ],
        [
         "12",
         "13.0",
         null,
         "0.9646000000000001"
        ],
        [
         "13",
         "14.0",
         null,
         "0.9650000000000001"
        ],
        [
         "14",
         "15.0",
         null,
         "0.9638"
        ],
        [
         "15",
         "16.0",
         null,
         "0.9632"
        ],
        [
         "16",
         "17.0",
         null,
         "0.9616"
        ],
        [
         "17",
         "18.0",
         null,
         "0.9596"
        ],
        [
         "18",
         "19.0",
         null,
         "0.9602"
        ],
        [
         "19",
         "20.0",
         null,
         "0.959"
        ],
        [
         "20",
         "21.0",
         null,
         "0.9586"
        ],
        [
         "21",
         "22.0",
         null,
         "0.959"
        ],
        [
         "22",
         "23.0",
         null,
         "0.9578"
        ],
        [
         "23",
         "24.0",
         null,
         "0.9582"
        ],
        [
         "24",
         "25.0",
         null,
         "0.9576"
        ],
        [
         "25",
         "26.0",
         null,
         "0.9570000000000001"
        ],
        [
         "26",
         "27.0",
         null,
         "0.9564"
        ],
        [
         "27",
         "28.0",
         null,
         "0.9555999999999999"
        ],
        [
         "28",
         "29.0",
         null,
         "0.9551999999999999"
        ],
        [
         "29",
         "30.0",
         null,
         "0.9544"
        ],
        [
         "30",
         "31.0",
         null,
         "0.954"
        ],
        [
         "31",
         "32.0",
         null,
         "0.9536"
        ],
        [
         "32",
         "33.0",
         null,
         "0.953"
        ],
        [
         "33",
         "34.0",
         null,
         "0.9532"
        ],
        [
         "34",
         "35.0",
         null,
         "0.9518000000000001"
        ],
        [
         "35",
         "36.0",
         null,
         "0.9512"
        ],
        [
         "36",
         "37.0",
         null,
         "0.9506"
        ],
        [
         "37",
         "38.0",
         null,
         "0.9490000000000001"
        ],
        [
         "38",
         "39.0",
         null,
         "0.9492"
        ],
        [
         "39",
         "40.0",
         null,
         "0.9444000000000001"
        ],
        [
         "40",
         "41.0",
         null,
         "0.951"
        ],
        [
         "41",
         "42.0",
         null,
         "0.9480000000000001"
        ],
        [
         "42",
         "43.0",
         null,
         "0.9465999999999999"
        ],
        [
         "43",
         "44.0",
         null,
         "0.9448000000000001"
        ],
        [
         "44",
         "45.0",
         null,
         "0.9438000000000001"
        ],
        [
         "45",
         "46.0",
         null,
         "0.9436"
        ],
        [
         "46",
         "47.0",
         null,
         "0.942"
        ],
        [
         "47",
         "48.0",
         null,
         "0.9418"
        ],
        [
         "48",
         "49.0",
         null,
         "0.9412"
        ],
        [
         "49",
         "50.0",
         null,
         "0.9401999999999999"
        ]
       ],
       "shape": {
        "columns": 3,
        "rows": 377
       }
      },
      "text/html": [
       "<div>\n",
       "<style scoped>\n",
       "    .dataframe tbody tr th:only-of-type {\n",
       "        vertical-align: middle;\n",
       "    }\n",
       "\n",
       "    .dataframe tbody tr th {\n",
       "        vertical-align: top;\n",
       "    }\n",
       "\n",
       "    .dataframe thead th {\n",
       "        text-align: right;\n",
       "    }\n",
       "</style>\n",
       "<table border=\"1\" class=\"dataframe\">\n",
       "  <thead>\n",
       "    <tr style=\"text-align: right;\">\n",
       "      <th></th>\n",
       "      <th>Cycle_Index</th>\n",
       "      <th>Cell_Temperature (C)</th>\n",
       "      <th>SOH_discharge</th>\n",
       "    </tr>\n",
       "  </thead>\n",
       "  <tbody>\n",
       "    <tr>\n",
       "      <th>0</th>\n",
       "      <td>1.0</td>\n",
       "      <td>NaN</td>\n",
       "      <td>0.9746</td>\n",
       "    </tr>\n",
       "    <tr>\n",
       "      <th>1</th>\n",
       "      <td>2.0</td>\n",
       "      <td>NaN</td>\n",
       "      <td>0.9754</td>\n",
       "    </tr>\n",
       "    <tr>\n",
       "      <th>2</th>\n",
       "      <td>3.0</td>\n",
       "      <td>NaN</td>\n",
       "      <td>0.9736</td>\n",
       "    </tr>\n",
       "    <tr>\n",
       "      <th>3</th>\n",
       "      <td>4.0</td>\n",
       "      <td>NaN</td>\n",
       "      <td>0.9724</td>\n",
       "    </tr>\n",
       "    <tr>\n",
       "      <th>4</th>\n",
       "      <td>5.0</td>\n",
       "      <td>NaN</td>\n",
       "      <td>0.9716</td>\n",
       "    </tr>\n",
       "    <tr>\n",
       "      <th>...</th>\n",
       "      <td>...</td>\n",
       "      <td>...</td>\n",
       "      <td>...</td>\n",
       "    </tr>\n",
       "    <tr>\n",
       "      <th>372</th>\n",
       "      <td>375.0</td>\n",
       "      <td>NaN</td>\n",
       "      <td>0.6928</td>\n",
       "    </tr>\n",
       "    <tr>\n",
       "      <th>373</th>\n",
       "      <td>376.0</td>\n",
       "      <td>NaN</td>\n",
       "      <td>0.6922</td>\n",
       "    </tr>\n",
       "    <tr>\n",
       "      <th>374</th>\n",
       "      <td>377.0</td>\n",
       "      <td>NaN</td>\n",
       "      <td>0.6910</td>\n",
       "    </tr>\n",
       "    <tr>\n",
       "      <th>375</th>\n",
       "      <td>378.0</td>\n",
       "      <td>NaN</td>\n",
       "      <td>0.6900</td>\n",
       "    </tr>\n",
       "    <tr>\n",
       "      <th>376</th>\n",
       "      <td>379.0</td>\n",
       "      <td>NaN</td>\n",
       "      <td>0.6888</td>\n",
       "    </tr>\n",
       "  </tbody>\n",
       "</table>\n",
       "<p>377 rows × 3 columns</p>\n",
       "</div>"
      ],
      "text/plain": [
       "     Cycle_Index  Cell_Temperature (C)  SOH_discharge\n",
       "0            1.0                   NaN         0.9746\n",
       "1            2.0                   NaN         0.9754\n",
       "2            3.0                   NaN         0.9736\n",
       "3            4.0                   NaN         0.9724\n",
       "4            5.0                   NaN         0.9716\n",
       "..           ...                   ...            ...\n",
       "372        375.0                   NaN         0.6928\n",
       "373        376.0                   NaN         0.6922\n",
       "374        377.0                   NaN         0.6910\n",
       "375        378.0                   NaN         0.6900\n",
       "376        379.0                   NaN         0.6888\n",
       "\n",
       "[377 rows x 3 columns]"
      ]
     },
     "metadata": {},
     "output_type": "display_data"
    },
    {
     "data": {
      "application/vnd.microsoft.datawrangler.viewer.v0+json": {
       "columns": [
        {
         "name": "index",
         "rawType": "int64",
         "type": "integer"
        },
        {
         "name": "Cycle_Index",
         "rawType": "float64",
         "type": "float"
        },
        {
         "name": "Cell_Temperature (C)",
         "rawType": "float64",
         "type": "float"
        },
        {
         "name": "SOH_discharge",
         "rawType": "float64",
         "type": "float"
        }
       ],
       "ref": "23375fb9-718e-4bcb-b0d0-9271de926760",
       "rows": [
        [
         "64",
         "65.0",
         null,
         "0.9272"
        ],
        [
         "65",
         "66.0",
         null,
         "0.9268000000000001"
        ],
        [
         "66",
         "67.0",
         null,
         "0.9259999999999999"
        ],
        [
         "67",
         "68.0",
         null,
         "0.925"
        ],
        [
         "68",
         "69.0",
         null,
         "0.9246000000000001"
        ],
        [
         "69",
         "70.0",
         null,
         "0.9238"
        ],
        [
         "70",
         "71.0",
         null,
         "0.9234"
        ],
        [
         "71",
         "72.0",
         null,
         "0.923"
        ],
        [
         "72",
         "73.0",
         null,
         "0.9224"
        ],
        [
         "73",
         "74.0",
         null,
         "0.922"
        ],
        [
         "74",
         "75.0",
         null,
         "0.9214"
        ],
        [
         "75",
         "76.0",
         null,
         "0.9208000000000001"
        ],
        [
         "76",
         "77.0",
         null,
         "0.9204000000000001"
        ],
        [
         "77",
         "78.0",
         null,
         "0.9196"
        ],
        [
         "78",
         "79.0",
         null,
         "0.9194000000000001"
        ],
        [
         "79",
         "80.0",
         null,
         "0.9183999999999999"
        ],
        [
         "80",
         "81.0",
         null,
         "0.9178000000000001"
        ],
        [
         "81",
         "82.0",
         null,
         "0.9176"
        ],
        [
         "82",
         "83.0",
         null,
         "0.9168"
        ],
        [
         "83",
         "84.0",
         null,
         "0.9166000000000001"
        ],
        [
         "84",
         "85.0",
         null,
         "0.916"
        ],
        [
         "85",
         "86.0",
         null,
         "0.9154"
        ],
        [
         "86",
         "87.0",
         null,
         "0.9151999999999999"
        ],
        [
         "87",
         "88.0",
         null,
         "0.9148"
        ],
        [
         "88",
         "89.0",
         null,
         "0.9144"
        ],
        [
         "89",
         "90.0",
         null,
         "0.9136"
        ],
        [
         "90",
         "91.0",
         null,
         "0.9128000000000001"
        ],
        [
         "91",
         "92.0",
         null,
         "0.9126"
        ],
        [
         "92",
         "93.0",
         null,
         "0.9118"
        ],
        [
         "93",
         "94.0",
         null,
         "0.9112"
        ],
        [
         "94",
         "95.0",
         null,
         "0.9109999999999999"
        ],
        [
         "95",
         "96.0",
         null,
         "0.9102"
        ],
        [
         "97",
         "99.0",
         null,
         "0.9099999999999999"
        ],
        [
         "98",
         "100.0",
         null,
         "0.908"
        ],
        [
         "99",
         "101.0",
         null,
         "0.907"
        ],
        [
         "100",
         "102.0",
         null,
         "0.9057999999999999"
        ],
        [
         "101",
         "103.0",
         null,
         "0.9054"
        ],
        [
         "102",
         "104.0",
         null,
         "0.9042"
        ],
        [
         "103",
         "105.0",
         null,
         "0.9034000000000001"
        ],
        [
         "105",
         "107.0",
         null,
         "0.9032"
        ],
        [
         "106",
         "108.0",
         null,
         "0.9028"
        ],
        [
         "107",
         "109.0",
         null,
         "0.9023999999999999"
        ],
        [
         "108",
         "110.0",
         null,
         "0.9016"
        ],
        [
         "109",
         "111.0",
         null,
         "0.9014"
        ],
        [
         "110",
         "112.0",
         null,
         "0.9006000000000001"
        ],
        [
         "111",
         "113.0",
         null,
         "0.8997999999999999"
        ],
        [
         "112",
         "114.0",
         null,
         "0.8996000000000001"
        ],
        [
         "113",
         "115.0",
         null,
         "0.899"
        ],
        [
         "114",
         "116.0",
         null,
         "0.8987999999999999"
        ],
        [
         "115",
         "117.0",
         null,
         "0.8984"
        ]
       ],
       "shape": {
        "columns": 3,
        "rows": 238
       }
      },
      "text/html": [
       "<div>\n",
       "<style scoped>\n",
       "    .dataframe tbody tr th:only-of-type {\n",
       "        vertical-align: middle;\n",
       "    }\n",
       "\n",
       "    .dataframe tbody tr th {\n",
       "        vertical-align: top;\n",
       "    }\n",
       "\n",
       "    .dataframe thead th {\n",
       "        text-align: right;\n",
       "    }\n",
       "</style>\n",
       "<table border=\"1\" class=\"dataframe\">\n",
       "  <thead>\n",
       "    <tr style=\"text-align: right;\">\n",
       "      <th></th>\n",
       "      <th>Cycle_Index</th>\n",
       "      <th>Cell_Temperature (C)</th>\n",
       "      <th>SOH_discharge</th>\n",
       "    </tr>\n",
       "  </thead>\n",
       "  <tbody>\n",
       "    <tr>\n",
       "      <th>64</th>\n",
       "      <td>65.0</td>\n",
       "      <td>NaN</td>\n",
       "      <td>0.9272</td>\n",
       "    </tr>\n",
       "    <tr>\n",
       "      <th>65</th>\n",
       "      <td>66.0</td>\n",
       "      <td>NaN</td>\n",
       "      <td>0.9268</td>\n",
       "    </tr>\n",
       "    <tr>\n",
       "      <th>66</th>\n",
       "      <td>67.0</td>\n",
       "      <td>NaN</td>\n",
       "      <td>0.9260</td>\n",
       "    </tr>\n",
       "    <tr>\n",
       "      <th>67</th>\n",
       "      <td>68.0</td>\n",
       "      <td>NaN</td>\n",
       "      <td>0.9250</td>\n",
       "    </tr>\n",
       "    <tr>\n",
       "      <th>68</th>\n",
       "      <td>69.0</td>\n",
       "      <td>NaN</td>\n",
       "      <td>0.9246</td>\n",
       "    </tr>\n",
       "    <tr>\n",
       "      <th>...</th>\n",
       "      <td>...</td>\n",
       "      <td>...</td>\n",
       "      <td>...</td>\n",
       "    </tr>\n",
       "    <tr>\n",
       "      <th>324</th>\n",
       "      <td>327.0</td>\n",
       "      <td>NaN</td>\n",
       "      <td>0.7468</td>\n",
       "    </tr>\n",
       "    <tr>\n",
       "      <th>325</th>\n",
       "      <td>328.0</td>\n",
       "      <td>NaN</td>\n",
       "      <td>0.7460</td>\n",
       "    </tr>\n",
       "    <tr>\n",
       "      <th>326</th>\n",
       "      <td>329.0</td>\n",
       "      <td>NaN</td>\n",
       "      <td>0.7456</td>\n",
       "    </tr>\n",
       "    <tr>\n",
       "      <th>327</th>\n",
       "      <td>330.0</td>\n",
       "      <td>NaN</td>\n",
       "      <td>0.7442</td>\n",
       "    </tr>\n",
       "    <tr>\n",
       "      <th>328</th>\n",
       "      <td>331.0</td>\n",
       "      <td>NaN</td>\n",
       "      <td>0.7434</td>\n",
       "    </tr>\n",
       "  </tbody>\n",
       "</table>\n",
       "<p>238 rows × 3 columns</p>\n",
       "</div>"
      ],
      "text/plain": [
       "     Cycle_Index  Cell_Temperature (C)  SOH_discharge\n",
       "64          65.0                   NaN         0.9272\n",
       "65          66.0                   NaN         0.9268\n",
       "66          67.0                   NaN         0.9260\n",
       "67          68.0                   NaN         0.9250\n",
       "68          69.0                   NaN         0.9246\n",
       "..           ...                   ...            ...\n",
       "324        327.0                   NaN         0.7468\n",
       "325        328.0                   NaN         0.7460\n",
       "326        329.0                   NaN         0.7456\n",
       "327        330.0                   NaN         0.7442\n",
       "328        331.0                   NaN         0.7434\n",
       "\n",
       "[238 rows x 3 columns]"
      ]
     },
     "metadata": {},
     "output_type": "display_data"
    },
    {
     "data": {
      "application/vnd.microsoft.datawrangler.viewer.v0+json": {
       "columns": [
        {
         "name": "index",
         "rawType": "int64",
         "type": "integer"
        },
        {
         "name": "Cycle_Index",
         "rawType": "float64",
         "type": "float"
        },
        {
         "name": "Cell_Temperature (C)",
         "rawType": "float64",
         "type": "float"
        },
        {
         "name": "SOH_discharge",
         "rawType": "float64",
         "type": "float"
        }
       ],
       "ref": "2235b1dd-18df-4a29-8776-00479c370a8c",
       "rows": [
        [
         "0",
         "1.0",
         null,
         "0.9746"
        ],
        [
         "2",
         "3.0",
         null,
         "0.9736"
        ],
        [
         "3",
         "4.0",
         null,
         "0.9724"
        ],
        [
         "4",
         "5.0",
         null,
         "0.9715999999999999"
        ],
        [
         "5",
         "6.0",
         null,
         "0.9692000000000001"
        ],
        [
         "7",
         "8.0",
         null,
         "0.9682000000000001"
        ],
        [
         "8",
         "9.0",
         null,
         "0.9682000000000001"
        ],
        [
         "9",
         "10.0",
         null,
         "0.9676"
        ],
        [
         "10",
         "11.0",
         null,
         "0.967"
        ],
        [
         "11",
         "12.0",
         null,
         "0.9662000000000001"
        ],
        [
         "12",
         "13.0",
         null,
         "0.9646000000000001"
        ],
        [
         "14",
         "15.0",
         null,
         "0.9638"
        ],
        [
         "15",
         "16.0",
         null,
         "0.9632"
        ],
        [
         "16",
         "17.0",
         null,
         "0.9616"
        ],
        [
         "17",
         "18.0",
         null,
         "0.9596"
        ],
        [
         "19",
         "20.0",
         null,
         "0.959"
        ],
        [
         "20",
         "21.0",
         null,
         "0.9586"
        ],
        [
         "22",
         "23.0",
         null,
         "0.9578"
        ],
        [
         "24",
         "25.0",
         null,
         "0.9576"
        ],
        [
         "25",
         "26.0",
         null,
         "0.9570000000000001"
        ],
        [
         "26",
         "27.0",
         null,
         "0.9564"
        ],
        [
         "27",
         "28.0",
         null,
         "0.9555999999999999"
        ],
        [
         "28",
         "29.0",
         null,
         "0.9551999999999999"
        ],
        [
         "29",
         "30.0",
         null,
         "0.9544"
        ],
        [
         "30",
         "31.0",
         null,
         "0.954"
        ],
        [
         "31",
         "32.0",
         null,
         "0.9536"
        ],
        [
         "32",
         "33.0",
         null,
         "0.953"
        ],
        [
         "34",
         "35.0",
         null,
         "0.9518000000000001"
        ],
        [
         "35",
         "36.0",
         null,
         "0.9512"
        ],
        [
         "36",
         "37.0",
         null,
         "0.9506"
        ],
        [
         "37",
         "38.0",
         null,
         "0.9490000000000001"
        ],
        [
         "39",
         "40.0",
         null,
         "0.9444000000000001"
        ],
        [
         "41",
         "42.0",
         null,
         "0.9480000000000001"
        ],
        [
         "42",
         "43.0",
         null,
         "0.9465999999999999"
        ],
        [
         "43",
         "44.0",
         null,
         "0.9448000000000001"
        ],
        [
         "44",
         "45.0",
         null,
         "0.9438000000000001"
        ],
        [
         "45",
         "46.0",
         null,
         "0.9436"
        ],
        [
         "46",
         "47.0",
         null,
         "0.942"
        ],
        [
         "47",
         "48.0",
         null,
         "0.9418"
        ],
        [
         "48",
         "49.0",
         null,
         "0.9412"
        ],
        [
         "49",
         "50.0",
         null,
         "0.9401999999999999"
        ],
        [
         "51",
         "52.0",
         null,
         "0.9390000000000001"
        ],
        [
         "52",
         "53.0",
         null,
         "0.9388"
        ],
        [
         "53",
         "54.0",
         null,
         "0.9384"
        ],
        [
         "54",
         "55.0",
         null,
         "0.9372"
        ],
        [
         "55",
         "56.0",
         null,
         "0.9369999999999999"
        ],
        [
         "56",
         "57.0",
         null,
         "0.9358000000000001"
        ],
        [
         "59",
         "60.0",
         null,
         "0.932"
        ],
        [
         "60",
         "61.0",
         null,
         "0.9308"
        ],
        [
         "61",
         "62.0",
         null,
         "0.9298"
        ]
       ],
       "shape": {
        "columns": 3,
        "rows": 355
       }
      },
      "text/html": [
       "<div>\n",
       "<style scoped>\n",
       "    .dataframe tbody tr th:only-of-type {\n",
       "        vertical-align: middle;\n",
       "    }\n",
       "\n",
       "    .dataframe tbody tr th {\n",
       "        vertical-align: top;\n",
       "    }\n",
       "\n",
       "    .dataframe thead th {\n",
       "        text-align: right;\n",
       "    }\n",
       "</style>\n",
       "<table border=\"1\" class=\"dataframe\">\n",
       "  <thead>\n",
       "    <tr style=\"text-align: right;\">\n",
       "      <th></th>\n",
       "      <th>Cycle_Index</th>\n",
       "      <th>Cell_Temperature (C)</th>\n",
       "      <th>SOH_discharge</th>\n",
       "    </tr>\n",
       "  </thead>\n",
       "  <tbody>\n",
       "    <tr>\n",
       "      <th>0</th>\n",
       "      <td>1.0</td>\n",
       "      <td>NaN</td>\n",
       "      <td>0.9746</td>\n",
       "    </tr>\n",
       "    <tr>\n",
       "      <th>2</th>\n",
       "      <td>3.0</td>\n",
       "      <td>NaN</td>\n",
       "      <td>0.9736</td>\n",
       "    </tr>\n",
       "    <tr>\n",
       "      <th>3</th>\n",
       "      <td>4.0</td>\n",
       "      <td>NaN</td>\n",
       "      <td>0.9724</td>\n",
       "    </tr>\n",
       "    <tr>\n",
       "      <th>4</th>\n",
       "      <td>5.0</td>\n",
       "      <td>NaN</td>\n",
       "      <td>0.9716</td>\n",
       "    </tr>\n",
       "    <tr>\n",
       "      <th>5</th>\n",
       "      <td>6.0</td>\n",
       "      <td>NaN</td>\n",
       "      <td>0.9692</td>\n",
       "    </tr>\n",
       "    <tr>\n",
       "      <th>...</th>\n",
       "      <td>...</td>\n",
       "      <td>...</td>\n",
       "      <td>...</td>\n",
       "    </tr>\n",
       "    <tr>\n",
       "      <th>371</th>\n",
       "      <td>374.0</td>\n",
       "      <td>NaN</td>\n",
       "      <td>0.6908</td>\n",
       "    </tr>\n",
       "    <tr>\n",
       "      <th>373</th>\n",
       "      <td>376.0</td>\n",
       "      <td>NaN</td>\n",
       "      <td>0.6922</td>\n",
       "    </tr>\n",
       "    <tr>\n",
       "      <th>374</th>\n",
       "      <td>377.0</td>\n",
       "      <td>NaN</td>\n",
       "      <td>0.6910</td>\n",
       "    </tr>\n",
       "    <tr>\n",
       "      <th>375</th>\n",
       "      <td>378.0</td>\n",
       "      <td>NaN</td>\n",
       "      <td>0.6900</td>\n",
       "    </tr>\n",
       "    <tr>\n",
       "      <th>376</th>\n",
       "      <td>379.0</td>\n",
       "      <td>NaN</td>\n",
       "      <td>0.6888</td>\n",
       "    </tr>\n",
       "  </tbody>\n",
       "</table>\n",
       "<p>355 rows × 3 columns</p>\n",
       "</div>"
      ],
      "text/plain": [
       "     Cycle_Index  Cell_Temperature (C)  SOH_discharge\n",
       "0            1.0                   NaN         0.9746\n",
       "2            3.0                   NaN         0.9736\n",
       "3            4.0                   NaN         0.9724\n",
       "4            5.0                   NaN         0.9716\n",
       "5            6.0                   NaN         0.9692\n",
       "..           ...                   ...            ...\n",
       "371        374.0                   NaN         0.6908\n",
       "373        376.0                   NaN         0.6922\n",
       "374        377.0                   NaN         0.6910\n",
       "375        378.0                   NaN         0.6900\n",
       "376        379.0                   NaN         0.6888\n",
       "\n",
       "[355 rows x 3 columns]"
      ]
     },
     "metadata": {},
     "output_type": "display_data"
    },
    {
     "data": {
      "application/vnd.microsoft.datawrangler.viewer.v0+json": {
       "columns": [
        {
         "name": "index",
         "rawType": "int64",
         "type": "integer"
        },
        {
         "name": "Cycle_Index",
         "rawType": "float64",
         "type": "float"
        },
        {
         "name": "Cell_Temperature (C)",
         "rawType": "float64",
         "type": "float"
        },
        {
         "name": "SOH_discharge",
         "rawType": "float64",
         "type": "float"
        }
       ],
       "ref": "b3e5be9d-bf33-47ad-9219-b2a6536142fb",
       "rows": [
        [
         "17",
         "18.0",
         null,
         "0.9596"
        ],
        [
         "19",
         "20.0",
         null,
         "0.959"
        ],
        [
         "20",
         "21.0",
         null,
         "0.9586"
        ],
        [
         "22",
         "23.0",
         null,
         "0.9578"
        ],
        [
         "24",
         "25.0",
         null,
         "0.9576"
        ],
        [
         "25",
         "26.0",
         null,
         "0.9570000000000001"
        ],
        [
         "26",
         "27.0",
         null,
         "0.9564"
        ],
        [
         "27",
         "28.0",
         null,
         "0.9555999999999999"
        ],
        [
         "28",
         "29.0",
         null,
         "0.9551999999999999"
        ],
        [
         "29",
         "30.0",
         null,
         "0.9544"
        ],
        [
         "30",
         "31.0",
         null,
         "0.954"
        ],
        [
         "31",
         "32.0",
         null,
         "0.9536"
        ],
        [
         "32",
         "33.0",
         null,
         "0.953"
        ],
        [
         "34",
         "35.0",
         null,
         "0.9518000000000001"
        ],
        [
         "35",
         "36.0",
         null,
         "0.9512"
        ],
        [
         "36",
         "37.0",
         null,
         "0.9506"
        ],
        [
         "37",
         "38.0",
         null,
         "0.9490000000000001"
        ],
        [
         "39",
         "40.0",
         null,
         "0.9444000000000001"
        ],
        [
         "41",
         "42.0",
         null,
         "0.9480000000000001"
        ],
        [
         "42",
         "43.0",
         null,
         "0.9465999999999999"
        ],
        [
         "43",
         "44.0",
         null,
         "0.9448000000000001"
        ],
        [
         "44",
         "45.0",
         null,
         "0.9438000000000001"
        ],
        [
         "45",
         "46.0",
         null,
         "0.9436"
        ],
        [
         "46",
         "47.0",
         null,
         "0.942"
        ],
        [
         "47",
         "48.0",
         null,
         "0.9418"
        ],
        [
         "48",
         "49.0",
         null,
         "0.9412"
        ],
        [
         "49",
         "50.0",
         null,
         "0.9401999999999999"
        ],
        [
         "51",
         "52.0",
         null,
         "0.9390000000000001"
        ],
        [
         "52",
         "53.0",
         null,
         "0.9388"
        ],
        [
         "53",
         "54.0",
         null,
         "0.9384"
        ],
        [
         "54",
         "55.0",
         null,
         "0.9372"
        ],
        [
         "55",
         "56.0",
         null,
         "0.9369999999999999"
        ],
        [
         "56",
         "57.0",
         null,
         "0.9358000000000001"
        ],
        [
         "59",
         "60.0",
         null,
         "0.932"
        ],
        [
         "60",
         "61.0",
         null,
         "0.9308"
        ],
        [
         "61",
         "62.0",
         null,
         "0.9298"
        ],
        [
         "62",
         "63.0",
         null,
         "0.9288000000000001"
        ],
        [
         "63",
         "64.0",
         null,
         "0.9286"
        ],
        [
         "64",
         "65.0",
         null,
         "0.9272"
        ],
        [
         "65",
         "66.0",
         null,
         "0.9268000000000001"
        ],
        [
         "66",
         "67.0",
         null,
         "0.9259999999999999"
        ],
        [
         "67",
         "68.0",
         null,
         "0.925"
        ],
        [
         "68",
         "69.0",
         null,
         "0.9246000000000001"
        ],
        [
         "69",
         "70.0",
         null,
         "0.9238"
        ],
        [
         "70",
         "71.0",
         null,
         "0.9234"
        ],
        [
         "71",
         "72.0",
         null,
         "0.923"
        ],
        [
         "72",
         "73.0",
         null,
         "0.9224"
        ],
        [
         "73",
         "74.0",
         null,
         "0.922"
        ],
        [
         "74",
         "75.0",
         null,
         "0.9214"
        ],
        [
         "75",
         "76.0",
         null,
         "0.9208000000000001"
        ]
       ],
       "shape": {
        "columns": 3,
        "rows": 308
       }
      },
      "text/html": [
       "<div>\n",
       "<style scoped>\n",
       "    .dataframe tbody tr th:only-of-type {\n",
       "        vertical-align: middle;\n",
       "    }\n",
       "\n",
       "    .dataframe tbody tr th {\n",
       "        vertical-align: top;\n",
       "    }\n",
       "\n",
       "    .dataframe thead th {\n",
       "        text-align: right;\n",
       "    }\n",
       "</style>\n",
       "<table border=\"1\" class=\"dataframe\">\n",
       "  <thead>\n",
       "    <tr style=\"text-align: right;\">\n",
       "      <th></th>\n",
       "      <th>Cycle_Index</th>\n",
       "      <th>Cell_Temperature (C)</th>\n",
       "      <th>SOH_discharge</th>\n",
       "    </tr>\n",
       "  </thead>\n",
       "  <tbody>\n",
       "    <tr>\n",
       "      <th>17</th>\n",
       "      <td>18.0</td>\n",
       "      <td>NaN</td>\n",
       "      <td>0.9596</td>\n",
       "    </tr>\n",
       "    <tr>\n",
       "      <th>19</th>\n",
       "      <td>20.0</td>\n",
       "      <td>NaN</td>\n",
       "      <td>0.9590</td>\n",
       "    </tr>\n",
       "    <tr>\n",
       "      <th>20</th>\n",
       "      <td>21.0</td>\n",
       "      <td>NaN</td>\n",
       "      <td>0.9586</td>\n",
       "    </tr>\n",
       "    <tr>\n",
       "      <th>22</th>\n",
       "      <td>23.0</td>\n",
       "      <td>NaN</td>\n",
       "      <td>0.9578</td>\n",
       "    </tr>\n",
       "    <tr>\n",
       "      <th>24</th>\n",
       "      <td>25.0</td>\n",
       "      <td>NaN</td>\n",
       "      <td>0.9576</td>\n",
       "    </tr>\n",
       "    <tr>\n",
       "      <th>...</th>\n",
       "      <td>...</td>\n",
       "      <td>...</td>\n",
       "      <td>...</td>\n",
       "    </tr>\n",
       "    <tr>\n",
       "      <th>338</th>\n",
       "      <td>341.0</td>\n",
       "      <td>NaN</td>\n",
       "      <td>0.7302</td>\n",
       "    </tr>\n",
       "    <tr>\n",
       "      <th>339</th>\n",
       "      <td>342.0</td>\n",
       "      <td>NaN</td>\n",
       "      <td>0.7278</td>\n",
       "    </tr>\n",
       "    <tr>\n",
       "      <th>340</th>\n",
       "      <td>343.0</td>\n",
       "      <td>NaN</td>\n",
       "      <td>0.7260</td>\n",
       "    </tr>\n",
       "    <tr>\n",
       "      <th>341</th>\n",
       "      <td>344.0</td>\n",
       "      <td>NaN</td>\n",
       "      <td>0.7248</td>\n",
       "    </tr>\n",
       "    <tr>\n",
       "      <th>342</th>\n",
       "      <td>345.0</td>\n",
       "      <td>NaN</td>\n",
       "      <td>0.7230</td>\n",
       "    </tr>\n",
       "  </tbody>\n",
       "</table>\n",
       "<p>308 rows × 3 columns</p>\n",
       "</div>"
      ],
      "text/plain": [
       "     Cycle_Index  Cell_Temperature (C)  SOH_discharge\n",
       "17          18.0                   NaN         0.9596\n",
       "19          20.0                   NaN         0.9590\n",
       "20          21.0                   NaN         0.9586\n",
       "22          23.0                   NaN         0.9578\n",
       "24          25.0                   NaN         0.9576\n",
       "..           ...                   ...            ...\n",
       "338        341.0                   NaN         0.7302\n",
       "339        342.0                   NaN         0.7278\n",
       "340        343.0                   NaN         0.7260\n",
       "341        344.0                   NaN         0.7248\n",
       "342        345.0                   NaN         0.7230\n",
       "\n",
       "[308 rows x 3 columns]"
      ]
     },
     "metadata": {},
     "output_type": "display_data"
    }
   ],
   "source": [
    "# Remoção de outliers e valores crescentes\n",
    "df_IsolForest = ensure_non_increasing(df_grouped, 'SOH_discharge')\n",
    "df_IsolForest = rmv_outliers_isolation_forest(df_IsolForest, 'SOH_discharge')\n",
    "\n",
    "df_IQR = ensure_non_increasing(df_grouped, 'SOH_discharge')\n",
    "df_IQR = rmv_outliers_iqr(df_IQR, 'SOH_discharge')\n",
    "\n",
    "df_ZScore = ensure_non_increasing(df_grouped, 'SOH_discharge')\n",
    "df_ZScore = rmv_outliers_zscore(df_ZScore, 'SOH_discharge', threshold=1.5)\n",
    "\n",
    "df_ZScore = rmv_sharp_jump(df_ZScore, 'SOH_discharge', threshold=0.05, repeat=2) # 5% de SOH\n",
    "\n",
    "display(df_grouped)\n",
    "display(df_IsolForest)\n",
    "display(df_IQR)\n",
    "display(df_ZScore)"
   ]
  },
  {
   "cell_type": "markdown",
   "metadata": {},
   "source": [
    "### [numpy.interp() parameters](https://numpy.org/doc/2.1/reference/generated/numpy.interp.html):\n",
    "- `x`: _array_like_ . The x-coordinates at which to evaluate the interpolated values.\n",
    "\n",
    "- `xp`: _1-D sequence of floats_. The x-coordinates of the data points, must be increasing if argument period is not specified. Otherwise, xp is internally sorted after normalizing the periodic boundaries with xp = xp % period.\n",
    "\n",
    "- `fp`: _1-D sequence of float or complex_. The y-coordinates of the data points, same length as xp.\n",
    "\n",
    "Returns the one-dimensional piecewise linear interpolant to a function with given discrete data points (xp, fp), evaluated at x:\n",
    "- `y`: float or complex (corresponding to fp) or ndarray. The interpolated values, same shape as x."
   ]
  },
  {
   "cell_type": "code",
   "execution_count": 100,
   "metadata": {},
   "outputs": [],
   "source": [
    "def interpolate_soh(df: pd.DataFrame, soh_column: str, cycles_column: str) -> pd.DataFrame:\n",
    "    # Define thresholds de interesse (99%, 98%, ...)\n",
    "    thresholds = np.arange(1.00, 0.00, -0.01)\n",
    "\n",
    "    soh = df[soh_column].values\n",
    "    cycles = df[cycles_column].values\n",
    "\n",
    "    # Inverte para que fique crescente\n",
    "    xp = soh[::-1]\n",
    "    fp = cycles[::-1]\n",
    "\n",
    "    valid = (thresholds >= xp.min()) & (thresholds <= xp.max())\n",
    "    thresholds = thresholds[valid]\n",
    "\n",
    "    # np.interp(x, xp, fp) assume xp crescente e retorna y para cada x em thresholds\n",
    "    estimated_cycles = np.interp(thresholds, xp, fp)\n",
    "    print(f'Número de thresholds válidos: {len(thresholds)}')\n",
    "    df_estimates = pd.DataFrame({\n",
    "        'SOH_threshold': thresholds,\n",
    "        'estimated_cycle': estimated_cycles\n",
    "    })\n",
    "\n",
    "    # Cast para float com 2 casas decimais\n",
    "    df_estimates['SOH_threshold'] = df_estimates['SOH_threshold'].astype(float).round(2)\n",
    "\n",
    "    # Queda de ciclos (a cada 1%)\n",
    "    df_estimates['NCD1%'] = df_estimates['estimated_cycle'].diff()\n",
    "    \n",
    "    return df_estimates"
   ]
  },
  {
   "cell_type": "code",
   "execution_count": 101,
   "metadata": {},
   "outputs": [
    {
     "name": "stdout",
     "output_type": "stream",
     "text": [
      "Número de thresholds válidos: 51\n",
      "Número de thresholds válidos: 18\n",
      "Número de thresholds válidos: 29\n",
      "Número de thresholds válidos: 23\n"
     ]
    }
   ],
   "source": [
    "df_grouped_estimates     = interpolate_soh(df_grouped, 'SOH_discharge', 'Cycle_Index')\n",
    "df_IsolForest_estimates  = interpolate_soh(df_IsolForest, 'SOH_discharge', 'Cycle_Index')\n",
    "df_IQR_estimates         = interpolate_soh(df_IQR, 'SOH_discharge', 'Cycle_Index')\n",
    "df_ZScore_estimates      = interpolate_soh(df_ZScore, 'SOH_discharge', 'Cycle_Index')"
   ]
  },
  {
   "cell_type": "code",
   "execution_count": 102,
   "metadata": {},
   "outputs": [
    {
     "data": {
      "image/png": "[encoded data removed]",
      "text/plain": [
       "<Figure size 2500x1500 with 4 Axes>"
      ]
     },
     "metadata": {},
     "output_type": "display_data"
    }
   ],
   "source": [
    "# Crie a figura com 4 subplots em um layout 2x2\n",
    "fig, axs = plt.subplots(2, 2, figsize=(25, 15))\n",
    "\n",
    "# Título geral para o plot\n",
    "fig.suptitle('Comparativo de Abordagens de Limpeza de Dados', fontsize=20)\n",
    "\n",
    "# Eixo Y compartilhado para padronizar os gráficos\n",
    "for ax in axs.flat:\n",
    "    ax.set_ylim(40, 105) # SOH in percentage\n",
    "\n",
    "# Configuração de Ticks do Eixo X\n",
    "xmin = df_grouped[\"Cycle_Index\"].min()\n",
    "xmax = df_grouped[\"Cycle_Index\"].max()\n",
    "major_ticks = np.arange(0, xmax + 1, 200)\n",
    "minor_ticks = np.arange(0, xmax + 1, 50)\n",
    "\n",
    "# 1. Plot para \"Dados Originais\"\n",
    "axs[0, 0].plot(df_grouped[\"Cycle_Index\"], df_grouped[\"SOH_discharge\"] * 100, label=\"Dados Originais\", color='gray', linewidth=1.5, zorder=1)\n",
    "#axs[0, 0].scatter(df_grouped_estimates[\"estimated_cycle\"], df_grouped_estimates[\"SOH_threshold\"] * 100, label=\"Queda de 1%\", color='gray', marker='d', s=100, zorder=3)\n",
    "axs[0, 0].set_title(\"1. Dados Originais\", fontsize=16)\n",
    "axs[0, 0].set_ylabel(\"SOH (%)\", fontsize=12)\n",
    "\n",
    "# 2. Plot para \"Isolation Forest\"\n",
    "axs[0, 1].plot(df_IsolForest[\"Cycle_Index\"], df_IsolForest[\"SOH_discharge\"] * 100, label=\"Limpeza com Isolation Forest\", color='darkorange', linewidth=2.5, zorder=2)\n",
    "# axs[0, 1].scatter(df_IsolForest_estimates[\"estimated_cycle\"], df_IsolForest_estimates[\"SOH_threshold\"] * 100, label=\"Queda de 1%\", color='darkorange', marker='d', s=100, zorder=3)\n",
    "axs[0, 1].set_title(\"2. Limpeza com Isolation Forest\", fontsize=16)\n",
    "\n",
    "# 3. Plot para \"IQR\"\n",
    "axs[1, 0].plot(df_IQR[\"Cycle_Index\"], df_IQR[\"SOH_discharge\"] * 100, label=\"Limpeza com IQR\", color='skyblue', linewidth=2.5, zorder=2)\n",
    "# axs[1, 0].scatter(df_IQR_estimates[\"estimated_cycle\"], df_IQR_estimates[\"SOH_threshold\"] * 100, label=\"Queda de 1%\", color='skyblue', marker='d', s=100, zorder=3)\n",
    "axs[1, 0].set_title(\"3. Limpeza com IQR\", fontsize=16)\n",
    "axs[1, 0].set_xlabel(\"Índice de Ciclo\", fontsize=12)\n",
    "axs[1, 0].set_ylabel(\"SOH (%)\", fontsize=12)\n",
    "\n",
    "# 4. Plot para \"Z-Score\"\n",
    "axs[1, 1].plot(df_ZScore[\"Cycle_Index\"], df_ZScore[\"SOH_discharge\"] * 100, label=\"Limpeza com Z-Score\", color='forestgreen', linewidth=2.5, zorder=2)\n",
    "# axs[1, 1].scatter(df_ZScore_estimates[\"estimated_cycle\"], df_ZScore_estimates[\"SOH_threshold\"] * 100, label=\"Queda de 1%\", color='forestgreen', marker='d', s=100, zorder=3)\n",
    "axs[1, 1].set_title(\"4. Limpeza com Z-Score\", fontsize=16)\n",
    "axs[1, 1].set_xlabel(\"Índice de Ciclo\", fontsize=12)\n",
    "\n",
    "# Adicione grids, ticks e legendas para cada subplot\n",
    "for ax in axs.flat:\n",
    "    ax.set_xticks(major_ticks)\n",
    "    ax.set_xticks(minor_ticks, minor=True)\n",
    "    ax.grid(which='major', linestyle='-', linewidth=1, alpha=0.9)\n",
    "    ax.grid(which='minor', linestyle='--', linewidth=0.5, alpha=0.7)\n",
    "    ax.legend(loc='best', fontsize=10)\n",
    "\n",
    "plt.tight_layout(rect=[0, 0, 1, 0.96])\n",
    "plt.show()\n"
   ]
  },
  {
   "cell_type": "markdown",
   "metadata": {},
   "source": [
    "## Z-score com ensure_non_decreasing e rmv_sharp_jump é o escolhido"
   ]
  },
  {
   "cell_type": "code",
   "execution_count": 103,
   "metadata": {},
   "outputs": [
    {
     "name": "stdout",
     "output_type": "stream",
     "text": [
      "Número de NCD1%: 22\n",
      "Média: 13.80, Desvio-padrão: 4.03\n"
     ]
    },
    {
     "data": {
      "image/png": "[encoded data removed]",
      "text/plain": [
       "<Figure size 1200x200 with 1 Axes>"
      ]
     },
     "metadata": {},
     "output_type": "display_data"
    }
   ],
   "source": [
    "df_ZScore_estimates = rmv_outliers_iqr(df_ZScore_estimates, 'NCD1%')\n",
    "\n",
    "data = df_ZScore_estimates[\"NCD1%\"].dropna().values\n",
    "print(f'Número de NCD1%: {len(data)}')\n",
    "\n",
    "mean = np.mean(data)\n",
    "std  = np.std(data, ddof=1)\n",
    "print(f'Média: {mean:.2f}, Desvio-padrão: {std:.2f}')\n",
    "\n",
    "# Seleciona a cor padrão 'C0' do matplotlib (primeira cor)\n",
    "default_color = plt.rcParams['axes.prop_cycle'].by_key()['color'][0]\n",
    "fig, ax = plt.subplots(figsize=(12, 2))\n",
    "\n",
    "sns.boxplot(\n",
    "    x=data,                   # valores no eixo x\n",
    "    y=np.zeros_like(data),    # posição 0 no eixo y\n",
    "    ax=ax,\n",
    "    orient='h',\n",
    "    linewidth=1,\n",
    "    zorder=2\n",
    ")\n",
    "\n",
    "# Deixa a face do boxplot semitransparente\n",
    "for patch in ax.patches:\n",
    "    if hasattr(patch, 'get_facecolor'):\n",
    "        r, g, b, a = patch.get_facecolor()\n",
    "        patch.set_facecolor((r, g, b, 0.3))  # alpha = 0.3\n",
    "\n",
    "# Sobreposição de pontos (scatter) com baixa opacidade\n",
    "sns.scatterplot(\n",
    "    x=data,\n",
    "    y=np.zeros_like(data),\n",
    "    ax=ax,\n",
    "    s=60,                     # tamanho dos pontos\n",
    "    color=default_color,      # mesma cor do boxplot\n",
    "    alpha=0.7,\n",
    "    zorder=1\n",
    ")\n",
    "\n",
    "# Remove os ticks do eixo y (não fazem sentido aqui)\n",
    "ax.set_yticks([])\n",
    "\n",
    "ax.set_xlabel(\"NCD1%\")\n",
    "ax.tick_params(which='major', labelsize=12)\n",
    "\n",
    "plt.title(\"Distribuição de NCD1%\", fontsize=18)\n",
    "plt.grid(True, linestyle='--', linewidth=0.5, alpha=0.7)\n",
    "\n",
    "plt.show()"
   ]
  },
  {
   "cell_type": "code",
   "execution_count": 104,
   "metadata": {},
   "outputs": [
    {
     "data": {
      "image/png": "[encoded data removed]",
      "text/plain": [
       "<Figure size 900x400 with 1 Axes>"
      ]
     },
     "metadata": {},
     "output_type": "display_data"
    }
   ],
   "source": [
    "data = np.sort(data)  # Garante que os dados estão ordenados\n",
    "n    = len(data)\n",
    "\n",
    "# Faz o fitting para encotnrar os parametros e calcula a funcao acumulada dos dados considerando comportamento normal\n",
    "mean, std = norm.fit(data)\n",
    "teo_norm  = norm.cdf(data, loc=mean, scale=std)\n",
    "\n",
    "plt.figure(figsize=(9, 4))\n",
    "\n",
    "# Probabilidade acumulada empírica (1/n, 2/n, ..., 1)\n",
    "cdf_emp = np.arange(0, n)/(n-1)\n",
    "plt.plot(data, cdf_emp, marker='o', linestyle='-', label=\"CDF NCD1%\", zorder=3, alpha=0.7)\n",
    "\n",
    "# Função acumulada da normal (teórica)\n",
    "plt.plot(data, teo_norm, linestyle='--', label=f\"CDF Normal fit\\n(μ={mean:.2f}, σ={std:.2f})\")\n",
    "\n",
    "plt.xlabel(\"NCD1\")\n",
    "plt.ylabel(\"Probabilidade acumulada\")\n",
    "plt.title(\"NCD1% e Curva Normal aproximada\")\n",
    "plt.legend()\n",
    "plt.grid(True, linestyle='--', linewidth=0.5, alpha=0.7)\n",
    "\n",
    "plt.show()\n"
   ]
  },
  {
   "cell_type": "markdown",
   "metadata": {},
   "source": [
    "Teste de Kolmogorov–Smirnov (KS) para verificar formalmente se o conjunto de dados de NCD1% (`data`) segue a distribuição Normal com os parametros encontrados no método de fitting\n",
    "\n",
    "De acordo com a [documentação de **kstest**](https://docs.scipy.org/doc/scipy/reference/generated/scipy.stats.kstest.html):\n",
    "- ``rvs=data``\n",
    "    - Array de observações ordenadas\n",
    "- ``cdf='norm'`` \n",
    "    - Especifica que a distribuição teórica é a de uma normal\n",
    "- ``args=(mean, std)`` \n",
    "    - Parâmetros (μ, σ) da normal teórica\n",
    "\n",
    "Retorna:\n",
    "\n",
    "- ``D (statistic) `` \n",
    "    - Representa a maior diferença absoluta entre aa curva dados e a CDF da Normal teórica\n",
    "    - Quanto menor, mais próximo o ajuste está dos dados observados\n",
    "\n",
    "- ``p-value``\n",
    "    - Probabilidade de observar uma estatística \\( D \\) igual ou mais extrema sob a suposição de que os dados vêm de uma Normal\n",
    "    - **Valores altos (> alpha) indicam falha em rejeitar a hipótese de normalidade**. \n",
    "    - Valores baixos (< alpha) indicam evidência contra a hipótese"
   ]
  },
  {
   "cell_type": "code",
   "execution_count": 105,
   "metadata": {},
   "outputs": [
    {
     "name": "stdout",
     "output_type": "stream",
     "text": [
      "KS statistic: 0.1110\n",
      "p-value: 0.9219\n",
      "alpha = 0.05\n",
      "Hipótese aceita.\n"
     ]
    }
   ],
   "source": [
    "statistic, p_value = kstest(rvs=data, cdf='norm', args=(mean, std))\n",
    "\n",
    "print(f\"KS statistic: {statistic:.4f}\")\n",
    "print(f\"p-value: {p_value:.4f}\")\n",
    "\n",
    "alpha = 0.05\n",
    "print(f'alpha = {alpha}')\n",
    "if p_value < alpha: print(f\"Hipótese rejeitada.\")\n",
    "else: print(f\"Hipótese aceita.\")"
   ]
  }
 ],
 "metadata": {
  "kernelspec": {
   "display_name": "Python 3",
   "language": "python",
   "name": "python3"
  },
  "language_info": {
   "codemirror_mode": {
    "name": "ipython",
    "version": 3
   },
   "file_extension": ".py",
   "mimetype": "text/x-python",
   "name": "python",
   "nbconvert_exporter": "python",
   "pygments_lexer": "ipython3",
   "version": "3.13.7"
  }
 },
 "nbformat": 4,
 "nbformat_minor": 2
}
