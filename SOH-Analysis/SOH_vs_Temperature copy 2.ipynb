{
 "cells": [
  {
   "cell_type": "code",
   "execution_count": 23,
   "metadata": {},
   "outputs": [],
   "source": [
    "import numpy as np\n",
    "import pandas as pd\n",
    "import seaborn as sns\n",
    "import matplotlib.pyplot as plt\n",
    "from IPython.display import display\n",
    "from scipy.stats import norm, kstest"
   ]
  },
  {
   "cell_type": "markdown",
   "metadata": {},
   "source": [
    "# Oxford\n",
    "`OX_1-1_pouch_LCO_40C_0-100_2-1.84C_a_timeseries`"
   ]
  },
  {
   "cell_type": "markdown",
   "metadata": {},
   "source": [
    "| Cell ID                                | Anode    | Cathode | Source  | Ah   | Form Factor | Temperature (C) | Max SOC | Min SOC | Charge Rate (C) | Discharge Rate (C) |\n",
    "|----------------------------------------|----------|---------|---------|------|-------------|-----------------|---------|---------|-----------------|--------------------|\n",
    "| OX_1-1_pouch_LCO_40C_0-100_2-1.84C_a_timeseries | graphite | LCO     | oxford  | 0.74 | pouch       | 40.00           | 100.00  | 0.00    | 2.00            | 1.84               |"
   ]
  },
  {
   "cell_type": "markdown",
   "metadata": {},
   "source": [
    "## Limpeza e preparação"
   ]
  },
  {
   "cell_type": "markdown",
   "metadata": {},
   "source": [
    "- Corrente negativa --> descarga\n",
    "- Corrente positiva --> carga"
   ]
  },
  {
   "cell_type": "code",
   "execution_count": 24,
   "metadata": {},
   "outputs": [
    {
     "data": {
      "application/vnd.microsoft.datawrangler.viewer.v0+json": {
       "columns": [
        {
         "name": "index",
         "rawType": "int64",
         "type": "integer"
        },
        {
         "name": "Cycle_Index",
         "rawType": "float64",
         "type": "float"
        },
        {
         "name": "Test_Time (s)",
         "rawType": "float64",
         "type": "float"
        },
        {
         "name": "Current (A)",
         "rawType": "float64",
         "type": "float"
        },
        {
         "name": "Voltage (V)",
         "rawType": "float64",
         "type": "float"
        },
        {
         "name": "Discharge_Capacity (Ah)",
         "rawType": "float64",
         "type": "float"
        },
        {
         "name": "Cell_Temperature (C)",
         "rawType": "float64",
         "type": "float"
        }
       ],
       "ref": "17833f13-a93a-4761-ae14-61f824020bd0",
       "rows": [
        [
         "2",
         "1.0",
         "67.294",
         "-1.398",
         "3.67",
         "0.001",
         null
        ],
        [
         "3",
         "1.0",
         "74.303",
         "-1.398",
         "3.664",
         "0.004",
         null
        ],
        [
         "4",
         "1.0",
         "81.31",
         "-1.399",
         "3.659",
         "0.006",
         null
        ],
        [
         "5",
         "1.0",
         "88.319",
         "-1.398",
         "3.656",
         "0.009",
         null
        ],
        [
         "6",
         "1.0",
         "95.294",
         "-1.399",
         "3.654",
         "0.012",
         null
        ],
        [
         "7",
         "1.0",
         "102.303",
         "-1.398",
         "3.651",
         "0.015",
         null
        ],
        [
         "8",
         "1.0",
         "109.31",
         "-1.398",
         "3.65",
         "0.017",
         null
        ],
        [
         "9",
         "1.0",
         "116.319",
         "-1.398",
         "3.648",
         "0.02",
         null
        ],
        [
         "10",
         "1.0",
         "123.294",
         "-1.398",
         "3.647",
         "0.023",
         null
        ],
        [
         "11",
         "1.0",
         "130.302",
         "-1.398",
         "3.646",
         "0.025",
         null
        ],
        [
         "12",
         "1.0",
         "137.311",
         "-1.398",
         "3.645",
         "0.028",
         null
        ],
        [
         "13",
         "1.0",
         "144.319",
         "-1.398",
         "3.644",
         "0.031",
         null
        ],
        [
         "14",
         "1.0",
         "151.294",
         "-1.398",
         "3.644",
         "0.034",
         null
        ],
        [
         "15",
         "1.0",
         "158.302",
         "-1.398",
         "3.643",
         "0.036",
         null
        ],
        [
         "16",
         "1.0",
         "165.311",
         "-1.398",
         "3.642",
         "0.039",
         null
        ],
        [
         "17",
         "1.0",
         "172.319",
         "-1.398",
         "3.642",
         "0.042",
         null
        ],
        [
         "18",
         "1.0",
         "179.294",
         "-1.398",
         "3.641",
         "0.044",
         null
        ],
        [
         "19",
         "1.0",
         "186.302",
         "-1.398",
         "3.641",
         "0.047",
         null
        ],
        [
         "20",
         "1.0",
         "193.311",
         "-1.398",
         "3.641",
         "0.05",
         null
        ],
        [
         "21",
         "1.0",
         "200.319",
         "-1.398",
         "3.64",
         "0.053",
         null
        ],
        [
         "22",
         "1.0",
         "207.294",
         "-1.398",
         "3.64",
         "0.055",
         null
        ],
        [
         "23",
         "1.0",
         "214.302",
         "-1.398",
         "3.639",
         "0.058",
         null
        ],
        [
         "24",
         "1.0",
         "221.311",
         "-1.398",
         "3.639",
         "0.061",
         null
        ],
        [
         "25",
         "1.0",
         "228.319",
         "-1.399",
         "3.639",
         "0.063",
         null
        ],
        [
         "26",
         "1.0",
         "235.294",
         "-1.398",
         "3.639",
         "0.066",
         null
        ],
        [
         "27",
         "1.0",
         "242.302",
         "-1.398",
         "3.638",
         "0.069",
         null
        ],
        [
         "28",
         "1.0",
         "249.311",
         "-1.398",
         "3.638",
         "0.072",
         null
        ],
        [
         "29",
         "1.0",
         "256.319",
         "-1.399",
         "3.638",
         "0.074",
         null
        ],
        [
         "30",
         "1.0",
         "263.295",
         "-1.398",
         "3.637",
         "0.077",
         null
        ],
        [
         "31",
         "1.0",
         "270.303",
         "-1.398",
         "3.637",
         "0.08",
         null
        ],
        [
         "32",
         "1.0",
         "277.311",
         "-1.398",
         "3.637",
         "0.083",
         null
        ],
        [
         "33",
         "1.0",
         "284.319",
         "-1.398",
         "3.637",
         "0.085",
         null
        ],
        [
         "34",
         "1.0",
         "291.295",
         "-1.398",
         "3.636",
         "0.088",
         null
        ],
        [
         "35",
         "1.0",
         "298.303",
         "-1.398",
         "3.636",
         "0.091",
         null
        ],
        [
         "36",
         "1.0",
         "305.311",
         "-1.398",
         "3.636",
         "0.093",
         null
        ],
        [
         "37",
         "1.0",
         "312.319",
         "-1.398",
         "3.636",
         "0.096",
         null
        ],
        [
         "38",
         "1.0",
         "319.295",
         "-1.398",
         "3.635",
         "0.099",
         null
        ],
        [
         "39",
         "1.0",
         "326.303",
         "-1.398",
         "3.635",
         "0.102",
         null
        ],
        [
         "40",
         "1.0",
         "333.311",
         "-1.398",
         "3.635",
         "0.104",
         null
        ],
        [
         "41",
         "1.0",
         "340.319",
         "-1.398",
         "3.635",
         "0.107",
         null
        ],
        [
         "42",
         "1.0",
         "347.295",
         "-1.398",
         "3.634",
         "0.11",
         null
        ],
        [
         "43",
         "1.0",
         "354.303",
         "-1.398",
         "3.634",
         "0.112",
         null
        ],
        [
         "44",
         "1.0",
         "361.311",
         "-1.398",
         "3.634",
         "0.115",
         null
        ],
        [
         "45",
         "1.0",
         "368.319",
         "-1.398",
         "3.634",
         "0.118",
         null
        ],
        [
         "46",
         "1.0",
         "375.295",
         "-1.398",
         "3.634",
         "0.121",
         null
        ],
        [
         "47",
         "1.0",
         "382.303",
         "-1.398",
         "3.633",
         "0.123",
         null
        ],
        [
         "48",
         "1.0",
         "389.311",
         "-1.398",
         "3.633",
         "0.126",
         null
        ],
        [
         "49",
         "1.0",
         "396.319",
         "-1.398",
         "3.633",
         "0.129",
         null
        ],
        [
         "50",
         "1.0",
         "403.295",
         "-1.398",
         "3.632",
         "0.131",
         null
        ],
        [
         "51",
         "1.0",
         "410.303",
         "-1.398",
         "3.632",
         "0.134",
         null
        ]
       ],
       "shape": {
        "columns": 6,
        "rows": 251438
       }
      },
      "text/html": [
       "<div>\n",
       "<style scoped>\n",
       "    .dataframe tbody tr th:only-of-type {\n",
       "        vertical-align: middle;\n",
       "    }\n",
       "\n",
       "    .dataframe tbody tr th {\n",
       "        vertical-align: top;\n",
       "    }\n",
       "\n",
       "    .dataframe thead th {\n",
       "        text-align: right;\n",
       "    }\n",
       "</style>\n",
       "<table border=\"1\" class=\"dataframe\">\n",
       "  <thead>\n",
       "    <tr style=\"text-align: right;\">\n",
       "      <th></th>\n",
       "      <th>Cycle_Index</th>\n",
       "      <th>Test_Time (s)</th>\n",
       "      <th>Current (A)</th>\n",
       "      <th>Voltage (V)</th>\n",
       "      <th>Discharge_Capacity (Ah)</th>\n",
       "      <th>Cell_Temperature (C)</th>\n",
       "    </tr>\n",
       "  </thead>\n",
       "  <tbody>\n",
       "    <tr>\n",
       "      <th>2</th>\n",
       "      <td>1.0</td>\n",
       "      <td>6.729400e+01</td>\n",
       "      <td>-1.398</td>\n",
       "      <td>3.670</td>\n",
       "      <td>0.001</td>\n",
       "      <td>NaN</td>\n",
       "    </tr>\n",
       "    <tr>\n",
       "      <th>3</th>\n",
       "      <td>1.0</td>\n",
       "      <td>7.430300e+01</td>\n",
       "      <td>-1.398</td>\n",
       "      <td>3.664</td>\n",
       "      <td>0.004</td>\n",
       "      <td>NaN</td>\n",
       "    </tr>\n",
       "    <tr>\n",
       "      <th>4</th>\n",
       "      <td>1.0</td>\n",
       "      <td>8.131000e+01</td>\n",
       "      <td>-1.399</td>\n",
       "      <td>3.659</td>\n",
       "      <td>0.006</td>\n",
       "      <td>NaN</td>\n",
       "    </tr>\n",
       "    <tr>\n",
       "      <th>5</th>\n",
       "      <td>1.0</td>\n",
       "      <td>8.831900e+01</td>\n",
       "      <td>-1.398</td>\n",
       "      <td>3.656</td>\n",
       "      <td>0.009</td>\n",
       "      <td>NaN</td>\n",
       "    </tr>\n",
       "    <tr>\n",
       "      <th>6</th>\n",
       "      <td>1.0</td>\n",
       "      <td>9.529400e+01</td>\n",
       "      <td>-1.399</td>\n",
       "      <td>3.654</td>\n",
       "      <td>0.012</td>\n",
       "      <td>NaN</td>\n",
       "    </tr>\n",
       "    <tr>\n",
       "      <th>...</th>\n",
       "      <td>...</td>\n",
       "      <td>...</td>\n",
       "      <td>...</td>\n",
       "      <td>...</td>\n",
       "      <td>...</td>\n",
       "      <td>...</td>\n",
       "    </tr>\n",
       "    <tr>\n",
       "      <th>651026</th>\n",
       "      <td>1113.0</td>\n",
       "      <td>1.627613e+07</td>\n",
       "      <td>-0.052</td>\n",
       "      <td>3.794</td>\n",
       "      <td>0.989</td>\n",
       "      <td>NaN</td>\n",
       "    </tr>\n",
       "    <tr>\n",
       "      <th>651027</th>\n",
       "      <td>1113.0</td>\n",
       "      <td>1.627616e+07</td>\n",
       "      <td>-0.051</td>\n",
       "      <td>3.794</td>\n",
       "      <td>0.989</td>\n",
       "      <td>NaN</td>\n",
       "    </tr>\n",
       "    <tr>\n",
       "      <th>651028</th>\n",
       "      <td>1113.0</td>\n",
       "      <td>1.627619e+07</td>\n",
       "      <td>-0.052</td>\n",
       "      <td>3.794</td>\n",
       "      <td>0.990</td>\n",
       "      <td>NaN</td>\n",
       "    </tr>\n",
       "    <tr>\n",
       "      <th>651029</th>\n",
       "      <td>1113.0</td>\n",
       "      <td>1.627622e+07</td>\n",
       "      <td>-0.051</td>\n",
       "      <td>3.794</td>\n",
       "      <td>0.990</td>\n",
       "      <td>NaN</td>\n",
       "    </tr>\n",
       "    <tr>\n",
       "      <th>651030</th>\n",
       "      <td>1113.0</td>\n",
       "      <td>1.627624e+07</td>\n",
       "      <td>-0.049</td>\n",
       "      <td>3.794</td>\n",
       "      <td>0.991</td>\n",
       "      <td>NaN</td>\n",
       "    </tr>\n",
       "  </tbody>\n",
       "</table>\n",
       "<p>251438 rows × 6 columns</p>\n",
       "</div>"
      ],
      "text/plain": [
       "        Cycle_Index  Test_Time (s)  Current (A)  Voltage (V)  \\\n",
       "2               1.0   6.729400e+01       -1.398        3.670   \n",
       "3               1.0   7.430300e+01       -1.398        3.664   \n",
       "4               1.0   8.131000e+01       -1.399        3.659   \n",
       "5               1.0   8.831900e+01       -1.398        3.656   \n",
       "6               1.0   9.529400e+01       -1.399        3.654   \n",
       "...             ...            ...          ...          ...   \n",
       "651026       1113.0   1.627613e+07       -0.052        3.794   \n",
       "651027       1113.0   1.627616e+07       -0.051        3.794   \n",
       "651028       1113.0   1.627619e+07       -0.052        3.794   \n",
       "651029       1113.0   1.627622e+07       -0.051        3.794   \n",
       "651030       1113.0   1.627624e+07       -0.049        3.794   \n",
       "\n",
       "        Discharge_Capacity (Ah)  Cell_Temperature (C)  \n",
       "2                         0.001                   NaN  \n",
       "3                         0.004                   NaN  \n",
       "4                         0.006                   NaN  \n",
       "5                         0.009                   NaN  \n",
       "6                         0.012                   NaN  \n",
       "...                         ...                   ...  \n",
       "651026                    0.989                   NaN  \n",
       "651027                    0.989                   NaN  \n",
       "651028                    0.990                   NaN  \n",
       "651029                    0.990                   NaN  \n",
       "651030                    0.991                   NaN  \n",
       "\n",
       "[251438 rows x 6 columns]"
      ]
     },
     "metadata": {},
     "output_type": "display_data"
    },
    {
     "data": {
      "application/vnd.microsoft.datawrangler.viewer.v0+json": {
       "columns": [
        {
         "name": "index",
         "rawType": "object",
         "type": "string"
        },
        {
         "name": "Cycle_Index",
         "rawType": "float64",
         "type": "float"
        },
        {
         "name": "Test_Time (s)",
         "rawType": "float64",
         "type": "float"
        },
        {
         "name": "Current (A)",
         "rawType": "float64",
         "type": "float"
        },
        {
         "name": "Voltage (V)",
         "rawType": "float64",
         "type": "float"
        },
        {
         "name": "Discharge_Capacity (Ah)",
         "rawType": "float64",
         "type": "float"
        },
        {
         "name": "Cell_Temperature (C)",
         "rawType": "float64",
         "type": "float"
        }
       ],
       "ref": "644c53c4-9774-4e59-bc42-207970176dd0",
       "rows": [
        [
         "count",
         "251438.0",
         "251438.0",
         "251438.0",
         "251438.0",
         "251438.0",
         "0.0"
        ],
        [
         "mean",
         "409.8431024745663",
         "6645529.959180132",
         "-3.373954151719311",
         "3.5323315688161694",
         "1.0735254933621807",
         null
        ],
        [
         "std",
         "349.6201605603287",
         "4753021.544970334",
         "1.5761477644160056",
         "0.26288447672629445",
         "0.6872289665880496",
         null
        ],
        [
         "min",
         "1.0",
         "67.294",
         "-4.199",
         "2.799",
         "0.0",
         null
        ],
        [
         "25%",
         "64.0",
         "1826307.73375",
         "-4.198",
         "3.345",
         "0.496",
         null
        ],
        [
         "50%",
         "328.0",
         "5939024.39",
         "-4.198",
         "3.509",
         "1.0",
         null
        ],
        [
         "75%",
         "695.0",
         "10545200.828",
         "-4.197",
         "3.728",
         "1.592",
         null
        ],
        [
         "max",
         "1113.0",
         "16276239.718",
         "-0.049",
         "4.29",
         "2.931",
         null
        ]
       ],
       "shape": {
        "columns": 6,
        "rows": 8
       }
      },
      "text/html": [
       "<div>\n",
       "<style scoped>\n",
       "    .dataframe tbody tr th:only-of-type {\n",
       "        vertical-align: middle;\n",
       "    }\n",
       "\n",
       "    .dataframe tbody tr th {\n",
       "        vertical-align: top;\n",
       "    }\n",
       "\n",
       "    .dataframe thead th {\n",
       "        text-align: right;\n",
       "    }\n",
       "</style>\n",
       "<table border=\"1\" class=\"dataframe\">\n",
       "  <thead>\n",
       "    <tr style=\"text-align: right;\">\n",
       "      <th></th>\n",
       "      <th>Cycle_Index</th>\n",
       "      <th>Test_Time (s)</th>\n",
       "      <th>Current (A)</th>\n",
       "      <th>Voltage (V)</th>\n",
       "      <th>Discharge_Capacity (Ah)</th>\n",
       "      <th>Cell_Temperature (C)</th>\n",
       "    </tr>\n",
       "  </thead>\n",
       "  <tbody>\n",
       "    <tr>\n",
       "      <th>count</th>\n",
       "      <td>251438.000000</td>\n",
       "      <td>2.514380e+05</td>\n",
       "      <td>251438.000000</td>\n",
       "      <td>251438.000000</td>\n",
       "      <td>251438.000000</td>\n",
       "      <td>0.0</td>\n",
       "    </tr>\n",
       "    <tr>\n",
       "      <th>mean</th>\n",
       "      <td>409.843102</td>\n",
       "      <td>6.645530e+06</td>\n",
       "      <td>-3.373954</td>\n",
       "      <td>3.532332</td>\n",
       "      <td>1.073525</td>\n",
       "      <td>NaN</td>\n",
       "    </tr>\n",
       "    <tr>\n",
       "      <th>std</th>\n",
       "      <td>349.620161</td>\n",
       "      <td>4.753022e+06</td>\n",
       "      <td>1.576148</td>\n",
       "      <td>0.262884</td>\n",
       "      <td>0.687229</td>\n",
       "      <td>NaN</td>\n",
       "    </tr>\n",
       "    <tr>\n",
       "      <th>min</th>\n",
       "      <td>1.000000</td>\n",
       "      <td>6.729400e+01</td>\n",
       "      <td>-4.199000</td>\n",
       "      <td>2.799000</td>\n",
       "      <td>0.000000</td>\n",
       "      <td>NaN</td>\n",
       "    </tr>\n",
       "    <tr>\n",
       "      <th>25%</th>\n",
       "      <td>64.000000</td>\n",
       "      <td>1.826308e+06</td>\n",
       "      <td>-4.198000</td>\n",
       "      <td>3.345000</td>\n",
       "      <td>0.496000</td>\n",
       "      <td>NaN</td>\n",
       "    </tr>\n",
       "    <tr>\n",
       "      <th>50%</th>\n",
       "      <td>328.000000</td>\n",
       "      <td>5.939024e+06</td>\n",
       "      <td>-4.198000</td>\n",
       "      <td>3.509000</td>\n",
       "      <td>1.000000</td>\n",
       "      <td>NaN</td>\n",
       "    </tr>\n",
       "    <tr>\n",
       "      <th>75%</th>\n",
       "      <td>695.000000</td>\n",
       "      <td>1.054520e+07</td>\n",
       "      <td>-4.197000</td>\n",
       "      <td>3.728000</td>\n",
       "      <td>1.592000</td>\n",
       "      <td>NaN</td>\n",
       "    </tr>\n",
       "    <tr>\n",
       "      <th>max</th>\n",
       "      <td>1113.000000</td>\n",
       "      <td>1.627624e+07</td>\n",
       "      <td>-0.049000</td>\n",
       "      <td>4.290000</td>\n",
       "      <td>2.931000</td>\n",
       "      <td>NaN</td>\n",
       "    </tr>\n",
       "  </tbody>\n",
       "</table>\n",
       "</div>"
      ],
      "text/plain": [
       "         Cycle_Index  Test_Time (s)    Current (A)    Voltage (V)  \\\n",
       "count  251438.000000   2.514380e+05  251438.000000  251438.000000   \n",
       "mean      409.843102   6.645530e+06      -3.373954       3.532332   \n",
       "std       349.620161   4.753022e+06       1.576148       0.262884   \n",
       "min         1.000000   6.729400e+01      -4.199000       2.799000   \n",
       "25%        64.000000   1.826308e+06      -4.198000       3.345000   \n",
       "50%       328.000000   5.939024e+06      -4.198000       3.509000   \n",
       "75%       695.000000   1.054520e+07      -4.197000       3.728000   \n",
       "max      1113.000000   1.627624e+07      -0.049000       4.290000   \n",
       "\n",
       "       Discharge_Capacity (Ah)  Cell_Temperature (C)  \n",
       "count            251438.000000                   0.0  \n",
       "mean                  1.073525                   NaN  \n",
       "std                   0.687229                   NaN  \n",
       "min                   0.000000                   NaN  \n",
       "25%                   0.496000                   NaN  \n",
       "50%                   1.000000                   NaN  \n",
       "75%                   1.592000                   NaN  \n",
       "max                   2.931000                   NaN  "
      ]
     },
     "metadata": {},
     "output_type": "display_data"
    }
   ],
   "source": [
    "# Header completo:\n",
    "# Date_Time,Test_Time (s),Cycle_Index,Current (A),Voltage (V),Charge_Capacity (Ah),Discharge_Capacity (Ah),Charge_Energy (Wh),Discharge_Energy (Wh),Environment_Temperature (C),Cell_Temperature (C)\n",
    "df = pd.read_csv('../Battery_Archive_Data/HNEI/2.80_HNEI_18650_NMC_LCO_25C_0-100_0.5-1.5C_a_timeseries.csv')\n",
    "\n",
    "# Apenas features de interesse são mantidas\n",
    "# Obs: Envoironment_Temperature (C) poderia ser relevante, mas tem todos os valores nulos. Então, é removida\n",
    "df = df[[\"Cycle_Index\", \"Test_Time (s)\", \"Current (A)\", \"Voltage (V)\", \"Discharge_Capacity (Ah)\", \"Cell_Temperature (C)\"]]\n",
    "\n",
    "# Mantem apenas as linhas em que a bateria está descarregando, ou seja, corrente < 0\n",
    "df = df[df['Current (A)'] < 0]\n",
    "\n",
    "# Remove valores para Cell_Temperature < 1 (incorretos)\n",
    "#df = df[df['Cell_Temperature (C)'] >= 1]\n",
    "\n",
    "display(df)\n",
    "display(df.describe())"
   ]
  },
  {
   "cell_type": "markdown",
   "metadata": {},
   "source": [
    "## Visualização"
   ]
  },
  {
   "cell_type": "code",
   "execution_count": 25,
   "metadata": {},
   "outputs": [
    {
     "data": {
      "image/png": "[encoded data removed]",
      "text/plain": [
       "<Figure size 1400x800 with 4 Axes>"
      ]
     },
     "metadata": {},
     "output_type": "display_data"
    }
   ],
   "source": [
    "# Lista de features que deseja analisar (exceto \"Cycle_Index\")\n",
    "features = [\"Current (A)\", \"Voltage (V)\", \"Discharge_Capacity (Ah)\", \"Cell_Temperature (C)\"]\n",
    "\n",
    "# Ciclos únicos e ordenados\n",
    "cycles = df[\"Cycle_Index\"].unique()\n",
    "cycles.sort()\n",
    "NumCyclesPlot = 5\n",
    "\n",
    "# Seleciona 'NumCyclesPlot' ciclos igualmente espaçados para plotar\n",
    "if len(cycles) > NumCyclesPlot:\n",
    "    cycles = cycles[::len(cycles)//NumCyclesPlot] # // --> Divisão inteira\n",
    "\n",
    "# Cria os subplots com layout 2x2\n",
    "fig, axs = plt.subplots(2, 2, figsize=(14, 8))\n",
    "axs = axs.flatten()  # Facilita a iteração\n",
    "\n",
    "# Itera sobre cada feature e sobre os ciclos para plotar os dados\n",
    "for i, feature in enumerate(features):\n",
    "    ax = axs[i]\n",
    "    for cycle in cycles:\n",
    "        # Seleciona os dados do ciclo e calcula o tempo relativo\n",
    "        df_cycle = df[df[\"Cycle_Index\"] == cycle].copy()\n",
    "        df_cycle['Tempo_Relativo (s)'] = df_cycle[\"Test_Time (s)\"] - df_cycle[\"Test_Time (s)\"].min()\n",
    "        \n",
    "        # Plota a feature em função do tempo relativo\n",
    "        ax.plot(df_cycle['Tempo_Relativo (s)'], df_cycle[feature], alpha=0.7, label=f'{int(cycle)}', linewidth=2.0)\n",
    "\n",
    "    ax.set_title(f'{feature} ao longo dos ciclos')\n",
    "    ax.set_xlabel('Tempo Relativo (s)')\n",
    "    ax.set_ylabel(feature)\n",
    "    ax.grid(True)\n",
    "    ax.legend(title=\"Ciclo\", loc='best')\n",
    "\n",
    "plt.tight_layout()\n",
    "plt.show()\n"
   ]
  },
  {
   "cell_type": "markdown",
   "metadata": {},
   "source": [
    "## Análise de SOH"
   ]
  },
  {
   "cell_type": "markdown",
   "metadata": {},
   "source": [
    "$$\n",
    "\\text{SOH} = \\frac{\\text{capacidade\\_atual}}{\\text{capacidade\\_inicial}}\n",
    "$$\n",
    "\n",
    "- $CapacidadeInicial$ é a capacidade nominal, a maior considerando todo o histórico da bateria\n",
    "- $CapacidadeAtual$ é a maior capacidade do ciclo"
   ]
  },
  {
   "cell_type": "code",
   "execution_count": 26,
   "metadata": {},
   "outputs": [
    {
     "name": "stdout",
     "output_type": "stream",
     "text": [
      "Capacidade total de descarga: 2.931 Ah\n"
     ]
    },
    {
     "data": {
      "application/vnd.microsoft.datawrangler.viewer.v0+json": {
       "columns": [
        {
         "name": "index",
         "rawType": "int64",
         "type": "integer"
        },
        {
         "name": "Cycle_Index",
         "rawType": "float64",
         "type": "float"
        },
        {
         "name": "Max_Discharge_Capacity",
         "rawType": "float64",
         "type": "float"
        },
        {
         "name": "SOH_discharge",
         "rawType": "float64",
         "type": "float"
        }
       ],
       "ref": "57e62da9-137b-43f4-be98-be2290ad3fb4",
       "rows": [
        [
         "0",
         "1.0",
         "1.009",
         "0.3442511088365745"
        ],
        [
         "1",
         "2.0",
         "2.878",
         "0.9819174343227568"
        ],
        [
         "2",
         "3.0",
         "2.872",
         "0.979870351415899"
        ],
        [
         "3",
         "4.0",
         "2.869",
         "0.9788468099624702"
        ],
        [
         "4",
         "5.0",
         "2.865",
         "0.977482088024565"
        ],
        [
         "5",
         "6.0",
         "2.891",
         "0.9863527806209484"
        ],
        [
         "6",
         "7.0",
         "1.301",
         "0.4438758103036506"
        ],
        [
         "7",
         "8.0",
         "2.315",
         "0.7898328215626066"
        ],
        [
         "8",
         "9.0",
         "2.314",
         "0.7894916410781303"
        ],
        [
         "9",
         "10.0",
         "2.311",
         "0.7884680996247014"
        ],
        [
         "10",
         "11.0",
         "2.729",
         "0.9310815421357899"
        ],
        [
         "11",
         "12.0",
         "1.277",
         "0.4356874786762197"
        ],
        [
         "12",
         "13.0",
         "2.35",
         "0.8017741385192767"
        ],
        [
         "13",
         "14.0",
         "2.352",
         "0.8024564994882292"
        ],
        [
         "14",
         "15.0",
         "2.345",
         "0.8000682360968953"
        ],
        [
         "15",
         "16.0",
         "2.931",
         "1.0"
        ],
        [
         "16",
         "17.0",
         "2.638",
         "0.9000341180484476"
        ],
        [
         "17",
         "18.0",
         "2.635",
         "0.8990105765950187"
        ],
        [
         "18",
         "19.0",
         "2.632",
         "0.89798703514159"
        ],
        [
         "19",
         "20.0",
         "2.627",
         "0.8962811327192084"
        ],
        [
         "20",
         "21.0",
         "2.626",
         "0.8959399522347321"
        ],
        [
         "21",
         "22.0",
         "2.621",
         "0.8942340498123507"
        ],
        [
         "22",
         "23.0",
         "2.62",
         "0.8938928693278745"
        ],
        [
         "23",
         "24.0",
         "2.617",
         "0.8928693278744456"
        ],
        [
         "24",
         "25.0",
         "2.613",
         "0.8915046059365405"
        ],
        [
         "25",
         "26.0",
         "2.611",
         "0.8908222449675879"
        ],
        [
         "26",
         "27.0",
         "2.609",
         "0.8901398839986353"
        ],
        [
         "27",
         "28.0",
         "2.604",
         "0.8884339815762539"
        ],
        [
         "28",
         "29.0",
         "2.604",
         "0.8884339815762539"
        ],
        [
         "29",
         "30.0",
         "2.601",
         "0.887410440122825"
        ],
        [
         "30",
         "31.0",
         "2.601",
         "0.887410440122825"
        ],
        [
         "31",
         "32.0",
         "2.598",
         "0.886386898669396"
        ],
        [
         "32",
         "33.0",
         "2.597",
         "0.8860457181849198"
        ],
        [
         "33",
         "34.0",
         "2.593",
         "0.8846809962470147"
        ],
        [
         "34",
         "35.0",
         "2.593",
         "0.8846809962470147"
        ],
        [
         "35",
         "36.0",
         "2.591",
         "0.8839986352780621"
        ],
        [
         "36",
         "37.0",
         "2.59",
         "0.8836574547935857"
        ],
        [
         "37",
         "38.0",
         "2.587",
         "0.882633913340157"
        ],
        [
         "38",
         "39.0",
         "2.587",
         "0.882633913340157"
        ],
        [
         "39",
         "40.0",
         "2.584",
         "0.8816103718867281"
        ],
        [
         "40",
         "41.0",
         "2.59",
         "0.8836574547935857"
        ],
        [
         "41",
         "42.0",
         "2.593",
         "0.8846809962470147"
        ],
        [
         "42",
         "43.0",
         "2.59",
         "0.8836574547935857"
        ],
        [
         "43",
         "44.0",
         "2.587",
         "0.882633913340157"
        ],
        [
         "44",
         "45.0",
         "2.584",
         "0.8816103718867281"
        ],
        [
         "45",
         "46.0",
         "2.58",
         "0.8802456499488229"
        ],
        [
         "46",
         "47.0",
         "2.579",
         "0.8799044694643466"
        ],
        [
         "47",
         "48.0",
         "2.576",
         "0.8788809280109178"
        ],
        [
         "48",
         "49.0",
         "2.575",
         "0.8785397475264415"
        ],
        [
         "49",
         "50.0",
         "2.57",
         "0.8768338451040599"
        ]
       ],
       "shape": {
        "columns": 3,
        "rows": 1082
       }
      },
      "text/html": [
       "<div>\n",
       "<style scoped>\n",
       "    .dataframe tbody tr th:only-of-type {\n",
       "        vertical-align: middle;\n",
       "    }\n",
       "\n",
       "    .dataframe tbody tr th {\n",
       "        vertical-align: top;\n",
       "    }\n",
       "\n",
       "    .dataframe thead th {\n",
       "        text-align: right;\n",
       "    }\n",
       "</style>\n",
       "<table border=\"1\" class=\"dataframe\">\n",
       "  <thead>\n",
       "    <tr style=\"text-align: right;\">\n",
       "      <th></th>\n",
       "      <th>Cycle_Index</th>\n",
       "      <th>Max_Discharge_Capacity</th>\n",
       "      <th>SOH_discharge</th>\n",
       "    </tr>\n",
       "  </thead>\n",
       "  <tbody>\n",
       "    <tr>\n",
       "      <th>0</th>\n",
       "      <td>1.0</td>\n",
       "      <td>1.009</td>\n",
       "      <td>0.344251</td>\n",
       "    </tr>\n",
       "    <tr>\n",
       "      <th>1</th>\n",
       "      <td>2.0</td>\n",
       "      <td>2.878</td>\n",
       "      <td>0.981917</td>\n",
       "    </tr>\n",
       "    <tr>\n",
       "      <th>2</th>\n",
       "      <td>3.0</td>\n",
       "      <td>2.872</td>\n",
       "      <td>0.979870</td>\n",
       "    </tr>\n",
       "    <tr>\n",
       "      <th>3</th>\n",
       "      <td>4.0</td>\n",
       "      <td>2.869</td>\n",
       "      <td>0.978847</td>\n",
       "    </tr>\n",
       "    <tr>\n",
       "      <th>4</th>\n",
       "      <td>5.0</td>\n",
       "      <td>2.865</td>\n",
       "      <td>0.977482</td>\n",
       "    </tr>\n",
       "    <tr>\n",
       "      <th>...</th>\n",
       "      <td>...</td>\n",
       "      <td>...</td>\n",
       "      <td>...</td>\n",
       "    </tr>\n",
       "    <tr>\n",
       "      <th>1077</th>\n",
       "      <td>1109.0</td>\n",
       "      <td>1.089</td>\n",
       "      <td>0.371546</td>\n",
       "    </tr>\n",
       "    <tr>\n",
       "      <th>1078</th>\n",
       "      <td>1110.0</td>\n",
       "      <td>1.086</td>\n",
       "      <td>0.370522</td>\n",
       "    </tr>\n",
       "    <tr>\n",
       "      <th>1079</th>\n",
       "      <td>1111.0</td>\n",
       "      <td>1.080</td>\n",
       "      <td>0.368475</td>\n",
       "    </tr>\n",
       "    <tr>\n",
       "      <th>1080</th>\n",
       "      <td>1112.0</td>\n",
       "      <td>1.059</td>\n",
       "      <td>0.361310</td>\n",
       "    </tr>\n",
       "    <tr>\n",
       "      <th>1081</th>\n",
       "      <td>1113.0</td>\n",
       "      <td>2.165</td>\n",
       "      <td>0.738656</td>\n",
       "    </tr>\n",
       "  </tbody>\n",
       "</table>\n",
       "<p>1082 rows × 3 columns</p>\n",
       "</div>"
      ],
      "text/plain": [
       "      Cycle_Index  Max_Discharge_Capacity  SOH_discharge\n",
       "0             1.0                   1.009       0.344251\n",
       "1             2.0                   2.878       0.981917\n",
       "2             3.0                   2.872       0.979870\n",
       "3             4.0                   2.869       0.978847\n",
       "4             5.0                   2.865       0.977482\n",
       "...           ...                     ...            ...\n",
       "1077       1109.0                   1.089       0.371546\n",
       "1078       1110.0                   1.086       0.370522\n",
       "1079       1111.0                   1.080       0.368475\n",
       "1080       1112.0                   1.059       0.361310\n",
       "1081       1113.0                   2.165       0.738656\n",
       "\n",
       "[1082 rows x 3 columns]"
      ]
     },
     "metadata": {},
     "output_type": "display_data"
    }
   ],
   "source": [
    "# Capacidade nominal (máxima global)\n",
    "nominal_capacity = df['Discharge_Capacity (Ah)'].max()\n",
    "print(f'Capacidade total de descarga: {nominal_capacity} Ah')\n",
    "\n",
    "# Para cada ciclo, extrai a maior capacidade \n",
    "# (cycles_capacity é uma série do Pandas)\n",
    "cycles_capacity = df.groupby('Cycle_Index')['Discharge_Capacity (Ah)'].max()\n",
    "cycles_capacity = cycles_capacity.reset_index() # transforma em dataframe\n",
    "cycles_capacity.columns = ['Cycle_Index', 'Max_Discharge_Capacity']\n",
    "cycles_capacity['SOH_discharge'] = (cycles_capacity['Max_Discharge_Capacity'] / nominal_capacity)\n",
    "display(cycles_capacity)"
   ]
  },
  {
   "cell_type": "code",
   "execution_count": 27,
   "metadata": {},
   "outputs": [
    {
     "data": {
      "application/vnd.microsoft.datawrangler.viewer.v0+json": {
       "columns": [
        {
         "name": "index",
         "rawType": "int64",
         "type": "integer"
        },
        {
         "name": "Cycle_Index",
         "rawType": "float64",
         "type": "float"
        },
        {
         "name": "Cell_Temperature (C)",
         "rawType": "float64",
         "type": "float"
        },
        {
         "name": "SOH_discharge",
         "rawType": "float64",
         "type": "float"
        }
       ],
       "ref": "ba8cbf73-9160-4c83-ab86-2a1d0a43df5a",
       "rows": [
        [
         "0",
         "1.0",
         null,
         "0.3442511088365745"
        ],
        [
         "1",
         "2.0",
         null,
         "0.9819174343227568"
        ],
        [
         "2",
         "3.0",
         null,
         "0.979870351415899"
        ],
        [
         "3",
         "4.0",
         null,
         "0.9788468099624702"
        ],
        [
         "4",
         "5.0",
         null,
         "0.977482088024565"
        ],
        [
         "5",
         "6.0",
         null,
         "0.9863527806209484"
        ],
        [
         "6",
         "7.0",
         null,
         "0.4438758103036506"
        ],
        [
         "7",
         "8.0",
         null,
         "0.7898328215626066"
        ],
        [
         "8",
         "9.0",
         null,
         "0.7894916410781303"
        ],
        [
         "9",
         "10.0",
         null,
         "0.7884680996247014"
        ],
        [
         "10",
         "11.0",
         null,
         "0.9310815421357899"
        ],
        [
         "11",
         "12.0",
         null,
         "0.4356874786762197"
        ],
        [
         "12",
         "13.0",
         null,
         "0.8017741385192767"
        ],
        [
         "13",
         "14.0",
         null,
         "0.8024564994882292"
        ],
        [
         "14",
         "15.0",
         null,
         "0.8000682360968953"
        ],
        [
         "15",
         "16.0",
         null,
         "1.0"
        ],
        [
         "16",
         "17.0",
         null,
         "0.9000341180484476"
        ],
        [
         "17",
         "18.0",
         null,
         "0.8990105765950187"
        ],
        [
         "18",
         "19.0",
         null,
         "0.89798703514159"
        ],
        [
         "19",
         "20.0",
         null,
         "0.8962811327192084"
        ],
        [
         "20",
         "21.0",
         null,
         "0.8959399522347321"
        ],
        [
         "21",
         "22.0",
         null,
         "0.8942340498123507"
        ],
        [
         "22",
         "23.0",
         null,
         "0.8938928693278745"
        ],
        [
         "23",
         "24.0",
         null,
         "0.8928693278744456"
        ],
        [
         "24",
         "25.0",
         null,
         "0.8915046059365405"
        ],
        [
         "25",
         "26.0",
         null,
         "0.8908222449675879"
        ],
        [
         "26",
         "27.0",
         null,
         "0.8901398839986353"
        ],
        [
         "27",
         "28.0",
         null,
         "0.8884339815762539"
        ],
        [
         "28",
         "29.0",
         null,
         "0.8884339815762539"
        ],
        [
         "29",
         "30.0",
         null,
         "0.887410440122825"
        ],
        [
         "30",
         "31.0",
         null,
         "0.887410440122825"
        ],
        [
         "31",
         "32.0",
         null,
         "0.886386898669396"
        ],
        [
         "32",
         "33.0",
         null,
         "0.8860457181849198"
        ],
        [
         "33",
         "34.0",
         null,
         "0.8846809962470147"
        ],
        [
         "34",
         "35.0",
         null,
         "0.8846809962470147"
        ],
        [
         "35",
         "36.0",
         null,
         "0.8839986352780621"
        ],
        [
         "36",
         "37.0",
         null,
         "0.8836574547935857"
        ],
        [
         "37",
         "38.0",
         null,
         "0.882633913340157"
        ],
        [
         "38",
         "39.0",
         null,
         "0.882633913340157"
        ],
        [
         "39",
         "40.0",
         null,
         "0.8816103718867281"
        ],
        [
         "40",
         "41.0",
         null,
         "0.8836574547935857"
        ],
        [
         "41",
         "42.0",
         null,
         "0.8846809962470147"
        ],
        [
         "42",
         "43.0",
         null,
         "0.8836574547935857"
        ],
        [
         "43",
         "44.0",
         null,
         "0.882633913340157"
        ],
        [
         "44",
         "45.0",
         null,
         "0.8816103718867281"
        ],
        [
         "45",
         "46.0",
         null,
         "0.8802456499488229"
        ],
        [
         "46",
         "47.0",
         null,
         "0.8799044694643466"
        ],
        [
         "47",
         "48.0",
         null,
         "0.8788809280109178"
        ],
        [
         "48",
         "49.0",
         null,
         "0.8785397475264415"
        ],
        [
         "49",
         "50.0",
         null,
         "0.8768338451040599"
        ]
       ],
       "shape": {
        "columns": 3,
        "rows": 1082
       }
      },
      "text/html": [
       "<div>\n",
       "<style scoped>\n",
       "    .dataframe tbody tr th:only-of-type {\n",
       "        vertical-align: middle;\n",
       "    }\n",
       "\n",
       "    .dataframe tbody tr th {\n",
       "        vertical-align: top;\n",
       "    }\n",
       "\n",
       "    .dataframe thead th {\n",
       "        text-align: right;\n",
       "    }\n",
       "</style>\n",
       "<table border=\"1\" class=\"dataframe\">\n",
       "  <thead>\n",
       "    <tr style=\"text-align: right;\">\n",
       "      <th></th>\n",
       "      <th>Cycle_Index</th>\n",
       "      <th>Cell_Temperature (C)</th>\n",
       "      <th>SOH_discharge</th>\n",
       "    </tr>\n",
       "  </thead>\n",
       "  <tbody>\n",
       "    <tr>\n",
       "      <th>0</th>\n",
       "      <td>1.0</td>\n",
       "      <td>NaN</td>\n",
       "      <td>0.344251</td>\n",
       "    </tr>\n",
       "    <tr>\n",
       "      <th>1</th>\n",
       "      <td>2.0</td>\n",
       "      <td>NaN</td>\n",
       "      <td>0.981917</td>\n",
       "    </tr>\n",
       "    <tr>\n",
       "      <th>2</th>\n",
       "      <td>3.0</td>\n",
       "      <td>NaN</td>\n",
       "      <td>0.979870</td>\n",
       "    </tr>\n",
       "    <tr>\n",
       "      <th>3</th>\n",
       "      <td>4.0</td>\n",
       "      <td>NaN</td>\n",
       "      <td>0.978847</td>\n",
       "    </tr>\n",
       "    <tr>\n",
       "      <th>4</th>\n",
       "      <td>5.0</td>\n",
       "      <td>NaN</td>\n",
       "      <td>0.977482</td>\n",
       "    </tr>\n",
       "    <tr>\n",
       "      <th>...</th>\n",
       "      <td>...</td>\n",
       "      <td>...</td>\n",
       "      <td>...</td>\n",
       "    </tr>\n",
       "    <tr>\n",
       "      <th>1077</th>\n",
       "      <td>1109.0</td>\n",
       "      <td>NaN</td>\n",
       "      <td>0.371546</td>\n",
       "    </tr>\n",
       "    <tr>\n",
       "      <th>1078</th>\n",
       "      <td>1110.0</td>\n",
       "      <td>NaN</td>\n",
       "      <td>0.370522</td>\n",
       "    </tr>\n",
       "    <tr>\n",
       "      <th>1079</th>\n",
       "      <td>1111.0</td>\n",
       "      <td>NaN</td>\n",
       "      <td>0.368475</td>\n",
       "    </tr>\n",
       "    <tr>\n",
       "      <th>1080</th>\n",
       "      <td>1112.0</td>\n",
       "      <td>NaN</td>\n",
       "      <td>0.361310</td>\n",
       "    </tr>\n",
       "    <tr>\n",
       "      <th>1081</th>\n",
       "      <td>1113.0</td>\n",
       "      <td>NaN</td>\n",
       "      <td>0.738656</td>\n",
       "    </tr>\n",
       "  </tbody>\n",
       "</table>\n",
       "<p>1082 rows × 3 columns</p>\n",
       "</div>"
      ],
      "text/plain": [
       "      Cycle_Index  Cell_Temperature (C)  SOH_discharge\n",
       "0             1.0                   NaN       0.344251\n",
       "1             2.0                   NaN       0.981917\n",
       "2             3.0                   NaN       0.979870\n",
       "3             4.0                   NaN       0.978847\n",
       "4             5.0                   NaN       0.977482\n",
       "...           ...                   ...            ...\n",
       "1077       1109.0                   NaN       0.371546\n",
       "1078       1110.0                   NaN       0.370522\n",
       "1079       1111.0                   NaN       0.368475\n",
       "1080       1112.0                   NaN       0.361310\n",
       "1081       1113.0                   NaN       0.738656\n",
       "\n",
       "[1082 rows x 3 columns]"
      ]
     },
     "metadata": {},
     "output_type": "display_data"
    },
    {
     "data": {
      "application/vnd.microsoft.datawrangler.viewer.v0+json": {
       "columns": [
        {
         "name": "index",
         "rawType": "object",
         "type": "string"
        },
        {
         "name": "Cycle_Index",
         "rawType": "float64",
         "type": "float"
        },
        {
         "name": "Cell_Temperature (C)",
         "rawType": "float64",
         "type": "float"
        },
        {
         "name": "SOH_discharge",
         "rawType": "float64",
         "type": "float"
        }
       ],
       "ref": "b26d34f7-67b0-46fb-a0c1-99ef8e538ad4",
       "rows": [
        [
         "count",
         "1082.0",
         "0.0",
         "1082.0"
        ],
        [
         "mean",
         "556.4695009242145",
         null,
         "0.6307812276317093"
        ],
        [
         "std",
         "323.696268556013",
         null,
         "0.16098714975688763"
        ],
        [
         "min",
         "1.0",
         null,
         "0.06925963834868645"
        ],
        [
         "25%",
         "271.25",
         null,
         "0.4744114636642784"
        ],
        [
         "50%",
         "559.5",
         null,
         "0.6432958034800409"
        ],
        [
         "75%",
         "835.75",
         null,
         "0.7691914022517912"
        ],
        [
         "max",
         "1113.0",
         null,
         "1.0"
        ]
       ],
       "shape": {
        "columns": 3,
        "rows": 8
       }
      },
      "text/html": [
       "<div>\n",
       "<style scoped>\n",
       "    .dataframe tbody tr th:only-of-type {\n",
       "        vertical-align: middle;\n",
       "    }\n",
       "\n",
       "    .dataframe tbody tr th {\n",
       "        vertical-align: top;\n",
       "    }\n",
       "\n",
       "    .dataframe thead th {\n",
       "        text-align: right;\n",
       "    }\n",
       "</style>\n",
       "<table border=\"1\" class=\"dataframe\">\n",
       "  <thead>\n",
       "    <tr style=\"text-align: right;\">\n",
       "      <th></th>\n",
       "      <th>Cycle_Index</th>\n",
       "      <th>Cell_Temperature (C)</th>\n",
       "      <th>SOH_discharge</th>\n",
       "    </tr>\n",
       "  </thead>\n",
       "  <tbody>\n",
       "    <tr>\n",
       "      <th>count</th>\n",
       "      <td>1082.000000</td>\n",
       "      <td>0.0</td>\n",
       "      <td>1082.000000</td>\n",
       "    </tr>\n",
       "    <tr>\n",
       "      <th>mean</th>\n",
       "      <td>556.469501</td>\n",
       "      <td>NaN</td>\n",
       "      <td>0.630781</td>\n",
       "    </tr>\n",
       "    <tr>\n",
       "      <th>std</th>\n",
       "      <td>323.696269</td>\n",
       "      <td>NaN</td>\n",
       "      <td>0.160987</td>\n",
       "    </tr>\n",
       "    <tr>\n",
       "      <th>min</th>\n",
       "      <td>1.000000</td>\n",
       "      <td>NaN</td>\n",
       "      <td>0.069260</td>\n",
       "    </tr>\n",
       "    <tr>\n",
       "      <th>25%</th>\n",
       "      <td>271.250000</td>\n",
       "      <td>NaN</td>\n",
       "      <td>0.474411</td>\n",
       "    </tr>\n",
       "    <tr>\n",
       "      <th>50%</th>\n",
       "      <td>559.500000</td>\n",
       "      <td>NaN</td>\n",
       "      <td>0.643296</td>\n",
       "    </tr>\n",
       "    <tr>\n",
       "      <th>75%</th>\n",
       "      <td>835.750000</td>\n",
       "      <td>NaN</td>\n",
       "      <td>0.769191</td>\n",
       "    </tr>\n",
       "    <tr>\n",
       "      <th>max</th>\n",
       "      <td>1113.000000</td>\n",
       "      <td>NaN</td>\n",
       "      <td>1.000000</td>\n",
       "    </tr>\n",
       "  </tbody>\n",
       "</table>\n",
       "</div>"
      ],
      "text/plain": [
       "       Cycle_Index  Cell_Temperature (C)  SOH_discharge\n",
       "count  1082.000000                   0.0    1082.000000\n",
       "mean    556.469501                   NaN       0.630781\n",
       "std     323.696269                   NaN       0.160987\n",
       "min       1.000000                   NaN       0.069260\n",
       "25%     271.250000                   NaN       0.474411\n",
       "50%     559.500000                   NaN       0.643296\n",
       "75%     835.750000                   NaN       0.769191\n",
       "max    1113.000000                   NaN       1.000000"
      ]
     },
     "metadata": {},
     "output_type": "display_data"
    }
   ],
   "source": [
    "# Seleciona as features de interesse e agrupa por ciclo\n",
    "df_grouped = df[['Cycle_Index', 'Cell_Temperature (C)']]\n",
    "df_grouped = df_grouped.groupby('Cycle_Index', as_index=False).mean() # Média será usada para a temperatura\n",
    "\n",
    "# Adição do SOH calculado em ciclos_capacity\n",
    "df_grouped['SOH_discharge'] = cycles_capacity['SOH_discharge']\n",
    "\n",
    "display(df_grouped)\n",
    "display(df_grouped.describe())"
   ]
  },
  {
   "cell_type": "markdown",
   "metadata": {},
   "source": [
    "### [numpy.interp() parameters](https://numpy.org/doc/2.1/reference/generated/numpy.interp.html):\n",
    "- `x`: _array_like_ . The x-coordinates at which to evaluate the interpolated values.\n",
    "\n",
    "- `xp`: _1-D sequence of floats_. The x-coordinates of the data points, must be increasing if argument period is not specified. Otherwise, xp is internally sorted after normalizing the periodic boundaries with xp = xp % period.\n",
    "\n",
    "- `fp`: _1-D sequence of float or complex_. The y-coordinates of the data points, same length as xp.\n",
    "\n",
    "Returns the one-dimensional piecewise linear interpolant to a function with given discrete data points (xp, fp), evaluated at x:\n",
    "- `y`: float or complex (corresponding to fp) or ndarray. The interpolated values, same shape as x."
   ]
  },
  {
   "cell_type": "code",
   "execution_count": 28,
   "metadata": {},
   "outputs": [
    {
     "data": {
      "application/vnd.microsoft.datawrangler.viewer.v0+json": {
       "columns": [
        {
         "name": "index",
         "rawType": "int64",
         "type": "integer"
        },
        {
         "name": "SOH_threshold",
         "rawType": "float64",
         "type": "float"
        },
        {
         "name": "estimated_cycle",
         "rawType": "float64",
         "type": "float"
        },
        {
         "name": "NCD1%",
         "rawType": "float64",
         "type": "float"
        }
       ],
       "ref": "0b7b1582-4218-4f74-9e9e-eb3c456617cd",
       "rows": [
        [
         "0",
         "1.0",
         "1.0",
         null
        ],
        [
         "1",
         "0.99",
         "1.0",
         "0.0"
        ],
        [
         "2",
         "0.98",
         "1.0",
         "0.0"
        ],
        [
         "3",
         "0.97",
         "1.0",
         "0.0"
        ],
        [
         "4",
         "0.96",
         "1.0",
         "0.0"
        ],
        [
         "5",
         "0.95",
         "1.0",
         "0.0"
        ],
        [
         "6",
         "0.94",
         "1.0",
         "0.0"
        ],
        [
         "7",
         "0.93",
         "1.0",
         "0.0"
        ],
        [
         "8",
         "0.92",
         "1.0",
         "0.0"
        ],
        [
         "9",
         "0.91",
         "1.0",
         "0.0"
        ],
        [
         "10",
         "0.9",
         "1.0",
         "0.0"
        ],
        [
         "11",
         "0.89",
         "1.0",
         "0.0"
        ],
        [
         "12",
         "0.88",
         "1.0",
         "0.0"
        ],
        [
         "13",
         "0.87",
         "1.0",
         "0.0"
        ],
        [
         "14",
         "0.86",
         "1.0",
         "0.0"
        ],
        [
         "15",
         "0.85",
         "1.0",
         "0.0"
        ],
        [
         "16",
         "0.84",
         "1.0",
         "0.0"
        ],
        [
         "17",
         "0.83",
         "1.0",
         "0.0"
        ],
        [
         "18",
         "0.82",
         "1.0",
         "0.0"
        ],
        [
         "19",
         "0.81",
         "1.0",
         "0.0"
        ],
        [
         "20",
         "0.8",
         "1.0",
         "0.0"
        ],
        [
         "21",
         "0.79",
         "1.0",
         "0.0"
        ],
        [
         "22",
         "0.78",
         "1.0",
         "0.0"
        ],
        [
         "23",
         "0.77",
         "1.0",
         "0.0"
        ],
        [
         "24",
         "0.76",
         "1.0",
         "0.0"
        ],
        [
         "25",
         "0.75",
         "1.0",
         "0.0"
        ],
        [
         "26",
         "0.74",
         "1.0",
         "0.0"
        ],
        [
         "27",
         "0.73",
         "1.0",
         "0.0"
        ],
        [
         "28",
         "0.72",
         "1.0",
         "0.0"
        ],
        [
         "29",
         "0.71",
         "1.0",
         "0.0"
        ],
        [
         "30",
         "0.7",
         "1.0",
         "0.0"
        ],
        [
         "31",
         "0.69",
         "1.0",
         "0.0"
        ],
        [
         "32",
         "0.68",
         "1.0",
         "0.0"
        ],
        [
         "33",
         "0.67",
         "1.0",
         "0.0"
        ],
        [
         "34",
         "0.66",
         "1.0",
         "0.0"
        ],
        [
         "35",
         "0.65",
         "1.0",
         "0.0"
        ],
        [
         "36",
         "0.64",
         "1.0",
         "0.0"
        ],
        [
         "37",
         "0.63",
         "1.0",
         "0.0"
        ],
        [
         "38",
         "0.62",
         "1.0",
         "0.0"
        ],
        [
         "39",
         "0.61",
         "1.0",
         "0.0"
        ],
        [
         "40",
         "0.6",
         "1.0",
         "0.0"
        ],
        [
         "41",
         "0.59",
         "1.0",
         "0.0"
        ],
        [
         "42",
         "0.58",
         "1.0",
         "0.0"
        ],
        [
         "43",
         "0.57",
         "1.0",
         "0.0"
        ],
        [
         "44",
         "0.56",
         "1.0",
         "0.0"
        ],
        [
         "45",
         "0.55",
         "1.0",
         "0.0"
        ],
        [
         "46",
         "0.54",
         "1.0",
         "0.0"
        ],
        [
         "47",
         "0.53",
         "1.0",
         "0.0"
        ],
        [
         "48",
         "0.52",
         "1.0",
         "0.0"
        ],
        [
         "49",
         "0.51",
         "1.0",
         "0.0"
        ]
       ],
       "shape": {
        "columns": 3,
        "rows": 94
       }
      },
      "text/html": [
       "<div>\n",
       "<style scoped>\n",
       "    .dataframe tbody tr th:only-of-type {\n",
       "        vertical-align: middle;\n",
       "    }\n",
       "\n",
       "    .dataframe tbody tr th {\n",
       "        vertical-align: top;\n",
       "    }\n",
       "\n",
       "    .dataframe thead th {\n",
       "        text-align: right;\n",
       "    }\n",
       "</style>\n",
       "<table border=\"1\" class=\"dataframe\">\n",
       "  <thead>\n",
       "    <tr style=\"text-align: right;\">\n",
       "      <th></th>\n",
       "      <th>SOH_threshold</th>\n",
       "      <th>estimated_cycle</th>\n",
       "      <th>NCD1%</th>\n",
       "    </tr>\n",
       "  </thead>\n",
       "  <tbody>\n",
       "    <tr>\n",
       "      <th>0</th>\n",
       "      <td>1.00</td>\n",
       "      <td>1.0</td>\n",
       "      <td>NaN</td>\n",
       "    </tr>\n",
       "    <tr>\n",
       "      <th>1</th>\n",
       "      <td>0.99</td>\n",
       "      <td>1.0</td>\n",
       "      <td>0.0</td>\n",
       "    </tr>\n",
       "    <tr>\n",
       "      <th>2</th>\n",
       "      <td>0.98</td>\n",
       "      <td>1.0</td>\n",
       "      <td>0.0</td>\n",
       "    </tr>\n",
       "    <tr>\n",
       "      <th>3</th>\n",
       "      <td>0.97</td>\n",
       "      <td>1.0</td>\n",
       "      <td>0.0</td>\n",
       "    </tr>\n",
       "    <tr>\n",
       "      <th>4</th>\n",
       "      <td>0.96</td>\n",
       "      <td>1.0</td>\n",
       "      <td>0.0</td>\n",
       "    </tr>\n",
       "    <tr>\n",
       "      <th>...</th>\n",
       "      <td>...</td>\n",
       "      <td>...</td>\n",
       "      <td>...</td>\n",
       "    </tr>\n",
       "    <tr>\n",
       "      <th>89</th>\n",
       "      <td>0.11</td>\n",
       "      <td>1113.0</td>\n",
       "      <td>0.0</td>\n",
       "    </tr>\n",
       "    <tr>\n",
       "      <th>90</th>\n",
       "      <td>0.10</td>\n",
       "      <td>1113.0</td>\n",
       "      <td>0.0</td>\n",
       "    </tr>\n",
       "    <tr>\n",
       "      <th>91</th>\n",
       "      <td>0.09</td>\n",
       "      <td>1113.0</td>\n",
       "      <td>0.0</td>\n",
       "    </tr>\n",
       "    <tr>\n",
       "      <th>92</th>\n",
       "      <td>0.08</td>\n",
       "      <td>1113.0</td>\n",
       "      <td>0.0</td>\n",
       "    </tr>\n",
       "    <tr>\n",
       "      <th>93</th>\n",
       "      <td>0.07</td>\n",
       "      <td>1113.0</td>\n",
       "      <td>0.0</td>\n",
       "    </tr>\n",
       "  </tbody>\n",
       "</table>\n",
       "<p>94 rows × 3 columns</p>\n",
       "</div>"
      ],
      "text/plain": [
       "    SOH_threshold  estimated_cycle  NCD1%\n",
       "0            1.00              1.0    NaN\n",
       "1            0.99              1.0    0.0\n",
       "2            0.98              1.0    0.0\n",
       "3            0.97              1.0    0.0\n",
       "4            0.96              1.0    0.0\n",
       "..            ...              ...    ...\n",
       "89           0.11           1113.0    0.0\n",
       "90           0.10           1113.0    0.0\n",
       "91           0.09           1113.0    0.0\n",
       "92           0.08           1113.0    0.0\n",
       "93           0.07           1113.0    0.0\n",
       "\n",
       "[94 rows x 3 columns]"
      ]
     },
     "metadata": {},
     "output_type": "display_data"
    }
   ],
   "source": [
    "# Define thresholds de interesse (99%, 98%, ...)\n",
    "thresholds = np.arange(1.00, 0.00, -0.01)\n",
    "\n",
    "soh    = df_grouped['SOH_discharge'].values\n",
    "cycles = df_grouped['Cycle_Index'].values\n",
    "\n",
    "# inverte para que fique crescente\n",
    "xp = soh[::-1]\n",
    "fp = cycles[::-1]\n",
    "\n",
    "valid = (thresholds >= xp.min()) & (thresholds <= xp.max())\n",
    "thresholds = thresholds[valid]\n",
    "\n",
    "# np.interp(x, xp, fp) assume xp crescente e retorna y para cada x em thresholds\n",
    "estimated_cycles = np.interp(thresholds, xp, fp)\n",
    "\n",
    "df_estimates = pd.DataFrame({\n",
    "    'SOH_threshold':   thresholds,\n",
    "    'estimated_cycle': estimated_cycles\n",
    "})\n",
    "\n",
    "# Cast\n",
    "df_estimates['SOH_threshold']   = df_estimates['SOH_threshold'].astype(float).round(2)\n",
    "\n",
    "# Number of cycles drop (1%)\n",
    "df_estimates['NCD1%'] = df_estimates['estimated_cycle'].diff()\n",
    "\n",
    "display(df_estimates)\n"
   ]
  },
  {
   "cell_type": "code",
   "execution_count": 29,
   "metadata": {},
   "outputs": [
    {
     "data": {
      "image/png": "[encoded data removed]",
      "text/plain": [
       "<Figure size 1600x500 with 2 Axes>"
      ]
     },
     "metadata": {},
     "output_type": "display_data"
    }
   ],
   "source": [
    "fig, ax1 = plt.subplots(figsize=(16,5))\n",
    "\n",
    "# Eixo temperatura\n",
    "ax1.plot(df_grouped[\"Cycle_Index\"], df_grouped[\"Cell_Temperature (C)\"], label=\"Cell_Temperature (C)\", color='red')\n",
    "ax1.set_xlabel(\"Cycle\")\n",
    "ax1.set_ylabel(\"Cell_Temperature (C)\", color='red')\n",
    "ax1.tick_params(axis='y', labelcolor='red')\n",
    "\n",
    "# Major ticks: 1, 2000, 4000, ...\n",
    "xmin = df_grouped[\"Cycle_Index\"].min()\n",
    "xmax = df_grouped[\"Cycle_Index\"].max()\n",
    "major_ticks = np.arange(0, xmax+1, 2000)\n",
    "ax1.set_xticks(major_ticks)\n",
    "\n",
    "# Minor ticks: a cada 200 unidades\n",
    "minor_ticks = np.arange(0, xmax+1, 200)\n",
    "ax1.set_xticks(minor_ticks, minor=True)\n",
    "\n",
    "# Grids\n",
    "ax1.grid(which='major', linestyle='-', linewidth=1, alpha=0.9)\n",
    "ax1.grid(which='minor', linestyle='--', linewidth=0.5, alpha=0.7)\n",
    "\n",
    "# Eixo SOH\n",
    "ax2 = ax1.twinx()\n",
    "ax2.plot(df_grouped[\"Cycle_Index\"], df_grouped[\"SOH_discharge\"], label=\"SOH\", color='blue')\n",
    "ax2.set_ylabel(\"SOH\", color='blue')\n",
    "ax2.tick_params(axis='y', labelcolor='blue')\n",
    "\n",
    "ax2.scatter(df_estimates[\"estimated_cycle\"], df_estimates[\"SOH_threshold\"], color='blue', marker='d', s=50, label=\"Queda de 1%\")\n",
    "\n",
    "plt.title(\"Temperatura e SOH em função do ciclo\")\n",
    "\n",
    "# Combina as legendas dos dois eixos\n",
    "lines_1, labels_1 = ax1.get_legend_handles_labels()\n",
    "lines_2, labels_2 = ax2.get_legend_handles_labels()\n",
    "ax1.legend(lines_1 + lines_2, labels_1 + labels_2, loc='upper center')\n",
    "\n",
    "plt.show()\n"
   ]
  },
  {
   "cell_type": "code",
   "execution_count": 30,
   "metadata": {},
   "outputs": [
    {
     "name": "stdout",
     "output_type": "stream",
     "text": [
      "Número de NCD1%: 93\n",
      "Média: 11.96, Desvio-padrão: 115.31\n"
     ]
    },
    {
     "data": {
      "image/png": "[encoded data removed]",
      "text/plain": [
       "<Figure size 1200x200 with 1 Axes>"
      ]
     },
     "metadata": {},
     "output_type": "display_data"
    }
   ],
   "source": [
    "data = df_estimates[\"NCD1%\"].dropna().values\n",
    "print(f'Número de NCD1%: {len(data)}')\n",
    "\n",
    "mean = np.mean(data)\n",
    "std  = np.std(data, ddof=1)\n",
    "print(f'Média: {mean:.2f}, Desvio-padrão: {std:.2f}')\n",
    "\n",
    "# Seleciona a cor padrão 'C0' do matplotlib (primeira cor)\n",
    "default_color = plt.rcParams['axes.prop_cycle'].by_key()['color'][0]\n",
    "fig, ax = plt.subplots(figsize=(12, 2))\n",
    "\n",
    "sns.boxplot(\n",
    "    x=data,                   # valores no eixo x\n",
    "    y=np.zeros_like(data),    # posição 0 no eixo y\n",
    "    ax=ax,\n",
    "    orient='h',\n",
    "    linewidth=1,\n",
    "    zorder=2\n",
    ")\n",
    "\n",
    "# Deixa a face do boxplot semitransparente\n",
    "for patch in ax.patches:\n",
    "    if hasattr(patch, 'get_facecolor'):\n",
    "        r, g, b, a = patch.get_facecolor()\n",
    "        patch.set_facecolor((r, g, b, 0.3))  # alpha = 0.3\n",
    "\n",
    "# Sobreposição de pontos (scatter) com baixa opacidade\n",
    "sns.scatterplot(\n",
    "    x=data,\n",
    "    y=np.zeros_like(data),\n",
    "    ax=ax,\n",
    "    s=60,                     # tamanho dos pontos\n",
    "    color=default_color,      # mesma cor do boxplot\n",
    "    alpha=0.7,\n",
    "    zorder=1\n",
    ")\n",
    "\n",
    "# Remove os ticks do eixo y (não fazem sentido aqui)\n",
    "ax.set_yticks([])\n",
    "\n",
    "ax.set_xlabel(\"NCD1%\")\n",
    "ax.tick_params(which='major', labelsize=12)\n",
    "\n",
    "plt.title(\"Distribuição de NCD1%\", fontsize=18)\n",
    "plt.grid(True, linestyle='--', linewidth=0.5, alpha=0.7)\n",
    "\n",
    "plt.show()"
   ]
  },
  {
   "cell_type": "code",
   "execution_count": 31,
   "metadata": {},
   "outputs": [
    {
     "data": {
      "image/png": "[encoded data removed]",
      "text/plain": [
       "<Figure size 900x400 with 1 Axes>"
      ]
     },
     "metadata": {},
     "output_type": "display_data"
    }
   ],
   "source": [
    "data = np.sort(data)  # Garante que os dados estão ordenados\n",
    "n    = len(data)\n",
    "\n",
    "# Faz o fitting para encotnrar os parametros e calcula a funcao acumulada dos dados considerando comportamento normal\n",
    "mean, std = norm.fit(data)\n",
    "teo_norm  = norm.cdf(data, loc=mean, scale=std)\n",
    "\n",
    "plt.figure(figsize=(9, 4))\n",
    "\n",
    "# Probabilidade acumulada empírica (1/n, 2/n, ..., 1)\n",
    "cdf_emp = np.arange(0, n)/(n-1)\n",
    "plt.plot(data, cdf_emp, marker='o', linestyle='-', label=\"CDF NCD1%\", zorder=3, alpha=0.7)\n",
    "\n",
    "# Função acumulada da normal (teórica)\n",
    "plt.plot(data, teo_norm, linestyle='--', label=f\"CDF Normal fit\\n(μ={mean:.2f}, σ={std:.2f})\")\n",
    "\n",
    "plt.xlabel(\"NCD1\")\n",
    "plt.ylabel(\"Probabilidade acumulada\")\n",
    "plt.title(\"NCD1% e Curva Normal aproximada\")\n",
    "plt.legend()\n",
    "plt.grid(True, linestyle='--', linewidth=0.5, alpha=0.7)\n",
    "\n",
    "plt.show()\n"
   ]
  },
  {
   "cell_type": "markdown",
   "metadata": {},
   "source": [
    "Teste de Kolmogorov–Smirnov (KS) para verificar formalmente se o conjunto de dados de NCD1% (`data`) segue a distribuição Normal com os parametros encontrados no método de fitting\n",
    "\n",
    "De acordo com a [documentação de **kstest**](https://docs.scipy.org/doc/scipy/reference/generated/scipy.stats.kstest.html):\n",
    "- ``rvs=data``\n",
    "    - Array de observações ordenadas\n",
    "- ``cdf='norm'`` \n",
    "    - Especifica que a distribuição teórica é a de uma normal\n",
    "- ``args=(mean, std)`` \n",
    "    - Parâmetros (μ, σ) da normal teórica\n",
    "\n",
    "Retorna:\n",
    "\n",
    "- ``D (statistic) `` \n",
    "    - Representa a maior diferença absoluta entre aa curva dados e a CDF da Normal teórica\n",
    "    - Quanto menor, mais próximo o ajuste está dos dados observados\n",
    "\n",
    "- ``p-value``\n",
    "    - Probabilidade de observar uma estatística \\( D \\) igual ou mais extrema sob a suposição de que os dados vêm de uma Normal\n",
    "    - **Valores altos (> alpha) indicam falha em rejeitar a hipótese de normalidade**. \n",
    "    - Valores baixos (< alpha) indicam evidência contra a hipótese"
   ]
  },
  {
   "cell_type": "code",
   "execution_count": 32,
   "metadata": {},
   "outputs": [
    {
     "name": "stdout",
     "output_type": "stream",
     "text": [
      "KS statistic: 0.5308\n",
      "p-value: 0.0000\n",
      "alpha = 0.05\n",
      "Hipótese rejeitada.\n"
     ]
    }
   ],
   "source": [
    "statistic, p_value = kstest(rvs=data, cdf='norm', args=(mean, std))\n",
    "\n",
    "print(f\"KS statistic: {statistic:.4f}\")\n",
    "print(f\"p-value: {p_value:.4f}\")\n",
    "\n",
    "alpha = 0.05 # não tenho certeza em qual valor usar aqui, mas 0.05 pareceu ser comum\n",
    "print(f'alpha = {alpha}')\n",
    "if p_value < alpha: print(f\"Hipótese rejeitada.\")\n",
    "else: print(f\"Hipótese aceita.\")"
   ]
  }
 ],
 "metadata": {
  "kernelspec": {
   "display_name": "Python 3",
   "language": "python",
   "name": "python3"
  },
  "language_info": {
   "codemirror_mode": {
    "name": "ipython",
    "version": 3
   },
   "file_extension": ".py",
   "mimetype": "text/x-python",
   "name": "python",
   "nbconvert_exporter": "python",
   "pygments_lexer": "ipython3",
   "version": "3.13.7"
  }
 },
 "nbformat": 4,
 "nbformat_minor": 2
}
