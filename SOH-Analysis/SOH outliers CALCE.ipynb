{
 "cells": [
  {
   "cell_type": "code",
   "execution_count": 133,
   "metadata": {},
   "outputs": [],
   "source": [
    "import numpy as np\n",
    "import pandas as pd\n",
    "import seaborn as sns\n",
    "import matplotlib.pyplot as plt\n",
    "from IPython.display import display\n",
    "from scipy.stats import norm, kstest, zscore\n",
    "from sklearn.ensemble import IsolationForest\n"
   ]
  },
  {
   "cell_type": "markdown",
   "metadata": {},
   "source": [
    "# CALCE"
   ]
  },
  {
   "cell_type": "markdown",
   "metadata": {},
   "source": [
    "## Limpeza e preparação"
   ]
  },
  {
   "cell_type": "markdown",
   "metadata": {},
   "source": [
    "- Corrente negativa --> descarga\n",
    "- Corrente positiva --> carga"
   ]
  },
  {
   "cell_type": "code",
   "execution_count": 134,
   "metadata": {},
   "outputs": [
    {
     "data": {
      "application/vnd.microsoft.datawrangler.viewer.v0+json": {
       "columns": [
        {
         "name": "index",
         "rawType": "int64",
         "type": "integer"
        },
        {
         "name": "Cycle_Index",
         "rawType": "float64",
         "type": "float"
        },
        {
         "name": "Test_Time (s)",
         "rawType": "float64",
         "type": "float"
        },
        {
         "name": "Current (A)",
         "rawType": "float64",
         "type": "float"
        },
        {
         "name": "Voltage (V)",
         "rawType": "float64",
         "type": "float"
        },
        {
         "name": "Discharge_Capacity (Ah)",
         "rawType": "float64",
         "type": "float"
        },
        {
         "name": "Cell_Temperature (C)",
         "rawType": "float64",
         "type": "float"
        }
       ],
       "ref": "80681e29-639b-42f9-a404-1d0dfefd6bd4",
       "rows": [
        [
         "29",
         "1.0",
         "2600.954",
         "-0.001",
         "4.19",
         "0.0",
         null
        ],
        [
         "30",
         "1.0",
         "2600.954",
         "-0.549",
         "4.135",
         "0.0",
         null
        ],
        [
         "31",
         "1.0",
         "2630.969",
         "-0.55",
         "4.1",
         "0.004",
         null
        ],
        [
         "32",
         "1.0",
         "2660.985",
         "-0.549",
         "4.087",
         "0.009",
         null
        ],
        [
         "33",
         "1.0",
         "2691.0",
         "-0.55",
         "4.078",
         "0.013",
         null
        ],
        [
         "34",
         "1.0",
         "2721.015",
         "-0.55",
         "4.071",
         "0.018",
         null
        ],
        [
         "35",
         "1.0",
         "2751.03",
         "-0.55",
         "4.065",
         "0.022",
         null
        ],
        [
         "36",
         "1.0",
         "2781.045",
         "-0.55",
         "4.06",
         "0.027",
         null
        ],
        [
         "37",
         "1.0",
         "2811.06",
         "-0.549",
         "4.055",
         "0.032",
         null
        ],
        [
         "38",
         "1.0",
         "2841.075",
         "-0.55",
         "4.05",
         "0.036",
         null
        ],
        [
         "39",
         "1.0",
         "2871.09",
         "-0.55",
         "4.046",
         "0.041",
         null
        ],
        [
         "40",
         "1.0",
         "2901.105",
         "-0.549",
         "4.042",
         "0.045",
         null
        ],
        [
         "41",
         "1.0",
         "2931.121",
         "-0.55",
         "4.038",
         "0.05",
         null
        ],
        [
         "42",
         "1.0",
         "2961.136",
         "-0.55",
         "4.034",
         "0.055",
         null
        ],
        [
         "43",
         "1.0",
         "2991.151",
         "-0.55",
         "4.031",
         "0.059",
         null
        ],
        [
         "44",
         "1.0",
         "3021.166",
         "-0.549",
         "4.027",
         "0.064",
         null
        ],
        [
         "45",
         "1.0",
         "3051.181",
         "-0.55",
         "4.023",
         "0.068",
         null
        ],
        [
         "46",
         "1.0",
         "3081.196",
         "-0.55",
         "4.019",
         "0.073",
         null
        ],
        [
         "47",
         "1.0",
         "3111.211",
         "-0.55",
         "4.016",
         "0.077",
         null
        ],
        [
         "48",
         "1.0",
         "3141.226",
         "-0.55",
         "4.012",
         "0.082",
         null
        ],
        [
         "49",
         "1.0",
         "3171.242",
         "-0.55",
         "4.009",
         "0.087",
         null
        ],
        [
         "50",
         "1.0",
         "3201.257",
         "-0.55",
         "4.005",
         "0.091",
         null
        ],
        [
         "51",
         "1.0",
         "3231.272",
         "-0.55",
         "4.002",
         "0.096",
         null
        ],
        [
         "52",
         "1.0",
         "3261.287",
         "-0.55",
         "3.998",
         "0.1",
         null
        ],
        [
         "53",
         "1.0",
         "3291.302",
         "-0.55",
         "3.995",
         "0.105",
         null
        ],
        [
         "54",
         "1.0",
         "3321.317",
         "-0.55",
         "3.992",
         "0.11",
         null
        ],
        [
         "55",
         "1.0",
         "3351.332",
         "-0.55",
         "3.988",
         "0.114",
         null
        ],
        [
         "56",
         "1.0",
         "3381.348",
         "-0.549",
         "3.985",
         "0.119",
         null
        ],
        [
         "57",
         "1.0",
         "3411.362",
         "-0.55",
         "3.982",
         "0.123",
         null
        ],
        [
         "58",
         "1.0",
         "3441.378",
         "-0.549",
         "3.978",
         "0.128",
         null
        ],
        [
         "59",
         "1.0",
         "3471.393",
         "-0.55",
         "3.975",
         "0.133",
         null
        ],
        [
         "60",
         "1.0",
         "3501.408",
         "-0.55",
         "3.971",
         "0.137",
         null
        ],
        [
         "61",
         "1.0",
         "3531.423",
         "-0.549",
         "3.968",
         "0.142",
         null
        ],
        [
         "62",
         "1.0",
         "3561.438",
         "-0.549",
         "3.965",
         "0.146",
         null
        ],
        [
         "63",
         "1.0",
         "3591.453",
         "-0.55",
         "3.962",
         "0.151",
         null
        ],
        [
         "64",
         "1.0",
         "3621.468",
         "-0.55",
         "3.958",
         "0.155",
         null
        ],
        [
         "65",
         "1.0",
         "3651.483",
         "-0.55",
         "3.955",
         "0.16",
         null
        ],
        [
         "66",
         "1.0",
         "3681.499",
         "-0.549",
         "3.952",
         "0.165",
         null
        ],
        [
         "67",
         "1.0",
         "3711.514",
         "-0.55",
         "3.949",
         "0.169",
         null
        ],
        [
         "68",
         "1.0",
         "3741.529",
         "-0.55",
         "3.945",
         "0.174",
         null
        ],
        [
         "69",
         "1.0",
         "3771.544",
         "-0.55",
         "3.942",
         "0.178",
         null
        ],
        [
         "70",
         "1.0",
         "3801.559",
         "-0.55",
         "3.939",
         "0.183",
         null
        ],
        [
         "71",
         "1.0",
         "3831.575",
         "-0.55",
         "3.936",
         "0.188",
         null
        ],
        [
         "72",
         "1.0",
         "3861.576",
         "-0.55",
         "3.933",
         "0.192",
         null
        ],
        [
         "73",
         "1.0",
         "3891.589",
         "-0.55",
         "3.929",
         "0.197",
         null
        ],
        [
         "74",
         "1.0",
         "3921.604",
         "-0.55",
         "3.926",
         "0.201",
         null
        ],
        [
         "75",
         "1.0",
         "3951.619",
         "-0.55",
         "3.923",
         "0.206",
         null
        ],
        [
         "76",
         "1.0",
         "3981.634",
         "-0.55",
         "3.92",
         "0.211",
         null
        ],
        [
         "77",
         "1.0",
         "4011.649",
         "-0.549",
         "3.917",
         "0.215",
         null
        ],
        [
         "78",
         "1.0",
         "4041.664",
         "-0.55",
         "3.914",
         "0.22",
         null
        ]
       ],
       "shape": {
        "columns": 6,
        "rows": 445233
       }
      },
      "text/html": [
       "<div>\n",
       "<style scoped>\n",
       "    .dataframe tbody tr th:only-of-type {\n",
       "        vertical-align: middle;\n",
       "    }\n",
       "\n",
       "    .dataframe tbody tr th {\n",
       "        vertical-align: top;\n",
       "    }\n",
       "\n",
       "    .dataframe thead th {\n",
       "        text-align: right;\n",
       "    }\n",
       "</style>\n",
       "<table border=\"1\" class=\"dataframe\">\n",
       "  <thead>\n",
       "    <tr style=\"text-align: right;\">\n",
       "      <th></th>\n",
       "      <th>Cycle_Index</th>\n",
       "      <th>Test_Time (s)</th>\n",
       "      <th>Current (A)</th>\n",
       "      <th>Voltage (V)</th>\n",
       "      <th>Discharge_Capacity (Ah)</th>\n",
       "      <th>Cell_Temperature (C)</th>\n",
       "    </tr>\n",
       "  </thead>\n",
       "  <tbody>\n",
       "    <tr>\n",
       "      <th>29</th>\n",
       "      <td>1.0</td>\n",
       "      <td>2.600954e+03</td>\n",
       "      <td>-0.001</td>\n",
       "      <td>4.190</td>\n",
       "      <td>0.000</td>\n",
       "      <td>NaN</td>\n",
       "    </tr>\n",
       "    <tr>\n",
       "      <th>30</th>\n",
       "      <td>1.0</td>\n",
       "      <td>2.600954e+03</td>\n",
       "      <td>-0.549</td>\n",
       "      <td>4.135</td>\n",
       "      <td>0.000</td>\n",
       "      <td>NaN</td>\n",
       "    </tr>\n",
       "    <tr>\n",
       "      <th>31</th>\n",
       "      <td>1.0</td>\n",
       "      <td>2.630969e+03</td>\n",
       "      <td>-0.550</td>\n",
       "      <td>4.100</td>\n",
       "      <td>0.004</td>\n",
       "      <td>NaN</td>\n",
       "    </tr>\n",
       "    <tr>\n",
       "      <th>32</th>\n",
       "      <td>1.0</td>\n",
       "      <td>2.660985e+03</td>\n",
       "      <td>-0.549</td>\n",
       "      <td>4.087</td>\n",
       "      <td>0.009</td>\n",
       "      <td>NaN</td>\n",
       "    </tr>\n",
       "    <tr>\n",
       "      <th>33</th>\n",
       "      <td>1.0</td>\n",
       "      <td>2.691000e+03</td>\n",
       "      <td>-0.550</td>\n",
       "      <td>4.078</td>\n",
       "      <td>0.013</td>\n",
       "      <td>NaN</td>\n",
       "    </tr>\n",
       "    <tr>\n",
       "      <th>...</th>\n",
       "      <td>...</td>\n",
       "      <td>...</td>\n",
       "      <td>...</td>\n",
       "      <td>...</td>\n",
       "      <td>...</td>\n",
       "      <td>...</td>\n",
       "    </tr>\n",
       "    <tr>\n",
       "      <th>820990</th>\n",
       "      <td>2016.0</td>\n",
       "      <td>3.172754e+07</td>\n",
       "      <td>-0.674</td>\n",
       "      <td>2.741</td>\n",
       "      <td>0.815</td>\n",
       "      <td>NaN</td>\n",
       "    </tr>\n",
       "    <tr>\n",
       "      <th>820991</th>\n",
       "      <td>2016.0</td>\n",
       "      <td>3.172757e+07</td>\n",
       "      <td>-0.674</td>\n",
       "      <td>2.723</td>\n",
       "      <td>0.821</td>\n",
       "      <td>NaN</td>\n",
       "    </tr>\n",
       "    <tr>\n",
       "      <th>820992</th>\n",
       "      <td>2016.0</td>\n",
       "      <td>3.172760e+07</td>\n",
       "      <td>-0.674</td>\n",
       "      <td>2.703</td>\n",
       "      <td>0.826</td>\n",
       "      <td>NaN</td>\n",
       "    </tr>\n",
       "    <tr>\n",
       "      <th>820993</th>\n",
       "      <td>2016.0</td>\n",
       "      <td>3.172760e+07</td>\n",
       "      <td>-0.675</td>\n",
       "      <td>2.699</td>\n",
       "      <td>0.828</td>\n",
       "      <td>NaN</td>\n",
       "    </tr>\n",
       "    <tr>\n",
       "      <th>820995</th>\n",
       "      <td>2016.0</td>\n",
       "      <td>3.172761e+07</td>\n",
       "      <td>-0.002</td>\n",
       "      <td>3.204</td>\n",
       "      <td>0.828</td>\n",
       "      <td>NaN</td>\n",
       "    </tr>\n",
       "  </tbody>\n",
       "</table>\n",
       "<p>445233 rows × 6 columns</p>\n",
       "</div>"
      ],
      "text/plain": [
       "        Cycle_Index  Test_Time (s)  Current (A)  Voltage (V)  \\\n",
       "29              1.0   2.600954e+03       -0.001        4.190   \n",
       "30              1.0   2.600954e+03       -0.549        4.135   \n",
       "31              1.0   2.630969e+03       -0.550        4.100   \n",
       "32              1.0   2.660985e+03       -0.549        4.087   \n",
       "33              1.0   2.691000e+03       -0.550        4.078   \n",
       "...             ...            ...          ...          ...   \n",
       "820990       2016.0   3.172754e+07       -0.674        2.741   \n",
       "820991       2016.0   3.172757e+07       -0.674        2.723   \n",
       "820992       2016.0   3.172760e+07       -0.674        2.703   \n",
       "820993       2016.0   3.172760e+07       -0.675        2.699   \n",
       "820995       2016.0   3.172761e+07       -0.002        3.204   \n",
       "\n",
       "        Discharge_Capacity (Ah)  Cell_Temperature (C)  \n",
       "29                        0.000                   NaN  \n",
       "30                        0.000                   NaN  \n",
       "31                        0.004                   NaN  \n",
       "32                        0.009                   NaN  \n",
       "33                        0.013                   NaN  \n",
       "...                         ...                   ...  \n",
       "820990                    0.815                   NaN  \n",
       "820991                    0.821                   NaN  \n",
       "820992                    0.826                   NaN  \n",
       "820993                    0.828                   NaN  \n",
       "820995                    0.828                   NaN  \n",
       "\n",
       "[445233 rows x 6 columns]"
      ]
     },
     "metadata": {},
     "output_type": "display_data"
    },
    {
     "data": {
      "application/vnd.microsoft.datawrangler.viewer.v0+json": {
       "columns": [
        {
         "name": "index",
         "rawType": "object",
         "type": "string"
        },
        {
         "name": "Cycle_Index",
         "rawType": "float64",
         "type": "float"
        },
        {
         "name": "Test_Time (s)",
         "rawType": "float64",
         "type": "float"
        },
        {
         "name": "Current (A)",
         "rawType": "float64",
         "type": "float"
        },
        {
         "name": "Voltage (V)",
         "rawType": "float64",
         "type": "float"
        },
        {
         "name": "Discharge_Capacity (Ah)",
         "rawType": "float64",
         "type": "float"
        },
        {
         "name": "Cell_Temperature (C)",
         "rawType": "float64",
         "type": "float"
        }
       ],
       "ref": "7df3783d-94b3-45aa-81e5-1377d88fe0d0",
       "rows": [
        [
         "count",
         "445233.0",
         "445233.0",
         "445233.0",
         "445233.0",
         "445233.0",
         "0.0"
        ],
        [
         "mean",
         "896.9428479021096",
         "14725956.481043449",
         "-0.586828247232348",
         "3.6731185851003847",
         "0.585730397342515",
         null
        ],
        [
         "std",
         "567.5575129370694",
         "9040064.31307468",
         "0.0825822269538092",
         "0.2780801011148993",
         "0.6219395194525318",
         null
        ],
        [
         "min",
         "1.0",
         "2600.954",
         "-0.675",
         "2.699",
         "0.0",
         null
        ],
        [
         "25%",
         "409.0",
         "6968035.338",
         "-0.674",
         "3.596",
         "0.27",
         null
        ],
        [
         "50%",
         "844.0",
         "14070750.747",
         "-0.55",
         "3.694",
         "0.545",
         null
        ],
        [
         "75%",
         "1359.0",
         "22446061.992",
         "-0.55",
         "3.844",
         "0.825",
         null
        ],
        [
         "max",
         "2016.0",
         "31727609.18",
         "-0.001",
         "4.193",
         "12.497",
         null
        ]
       ],
       "shape": {
        "columns": 6,
        "rows": 8
       }
      },
      "text/html": [
       "<div>\n",
       "<style scoped>\n",
       "    .dataframe tbody tr th:only-of-type {\n",
       "        vertical-align: middle;\n",
       "    }\n",
       "\n",
       "    .dataframe tbody tr th {\n",
       "        vertical-align: top;\n",
       "    }\n",
       "\n",
       "    .dataframe thead th {\n",
       "        text-align: right;\n",
       "    }\n",
       "</style>\n",
       "<table border=\"1\" class=\"dataframe\">\n",
       "  <thead>\n",
       "    <tr style=\"text-align: right;\">\n",
       "      <th></th>\n",
       "      <th>Cycle_Index</th>\n",
       "      <th>Test_Time (s)</th>\n",
       "      <th>Current (A)</th>\n",
       "      <th>Voltage (V)</th>\n",
       "      <th>Discharge_Capacity (Ah)</th>\n",
       "      <th>Cell_Temperature (C)</th>\n",
       "    </tr>\n",
       "  </thead>\n",
       "  <tbody>\n",
       "    <tr>\n",
       "      <th>count</th>\n",
       "      <td>445233.000000</td>\n",
       "      <td>4.452330e+05</td>\n",
       "      <td>445233.000000</td>\n",
       "      <td>445233.000000</td>\n",
       "      <td>445233.00000</td>\n",
       "      <td>0.0</td>\n",
       "    </tr>\n",
       "    <tr>\n",
       "      <th>mean</th>\n",
       "      <td>896.942848</td>\n",
       "      <td>1.472596e+07</td>\n",
       "      <td>-0.586828</td>\n",
       "      <td>3.673119</td>\n",
       "      <td>0.58573</td>\n",
       "      <td>NaN</td>\n",
       "    </tr>\n",
       "    <tr>\n",
       "      <th>std</th>\n",
       "      <td>567.557513</td>\n",
       "      <td>9.040064e+06</td>\n",
       "      <td>0.082582</td>\n",
       "      <td>0.278080</td>\n",
       "      <td>0.62194</td>\n",
       "      <td>NaN</td>\n",
       "    </tr>\n",
       "    <tr>\n",
       "      <th>min</th>\n",
       "      <td>1.000000</td>\n",
       "      <td>2.600954e+03</td>\n",
       "      <td>-0.675000</td>\n",
       "      <td>2.699000</td>\n",
       "      <td>0.00000</td>\n",
       "      <td>NaN</td>\n",
       "    </tr>\n",
       "    <tr>\n",
       "      <th>25%</th>\n",
       "      <td>409.000000</td>\n",
       "      <td>6.968035e+06</td>\n",
       "      <td>-0.674000</td>\n",
       "      <td>3.596000</td>\n",
       "      <td>0.27000</td>\n",
       "      <td>NaN</td>\n",
       "    </tr>\n",
       "    <tr>\n",
       "      <th>50%</th>\n",
       "      <td>844.000000</td>\n",
       "      <td>1.407075e+07</td>\n",
       "      <td>-0.550000</td>\n",
       "      <td>3.694000</td>\n",
       "      <td>0.54500</td>\n",
       "      <td>NaN</td>\n",
       "    </tr>\n",
       "    <tr>\n",
       "      <th>75%</th>\n",
       "      <td>1359.000000</td>\n",
       "      <td>2.244606e+07</td>\n",
       "      <td>-0.550000</td>\n",
       "      <td>3.844000</td>\n",
       "      <td>0.82500</td>\n",
       "      <td>NaN</td>\n",
       "    </tr>\n",
       "    <tr>\n",
       "      <th>max</th>\n",
       "      <td>2016.000000</td>\n",
       "      <td>3.172761e+07</td>\n",
       "      <td>-0.001000</td>\n",
       "      <td>4.193000</td>\n",
       "      <td>12.49700</td>\n",
       "      <td>NaN</td>\n",
       "    </tr>\n",
       "  </tbody>\n",
       "</table>\n",
       "</div>"
      ],
      "text/plain": [
       "         Cycle_Index  Test_Time (s)    Current (A)    Voltage (V)  \\\n",
       "count  445233.000000   4.452330e+05  445233.000000  445233.000000   \n",
       "mean      896.942848   1.472596e+07      -0.586828       3.673119   \n",
       "std       567.557513   9.040064e+06       0.082582       0.278080   \n",
       "min         1.000000   2.600954e+03      -0.675000       2.699000   \n",
       "25%       409.000000   6.968035e+06      -0.674000       3.596000   \n",
       "50%       844.000000   1.407075e+07      -0.550000       3.694000   \n",
       "75%      1359.000000   2.244606e+07      -0.550000       3.844000   \n",
       "max      2016.000000   3.172761e+07      -0.001000       4.193000   \n",
       "\n",
       "       Discharge_Capacity (Ah)  Cell_Temperature (C)  \n",
       "count             445233.00000                   0.0  \n",
       "mean                   0.58573                   NaN  \n",
       "std                    0.62194                   NaN  \n",
       "min                    0.00000                   NaN  \n",
       "25%                    0.27000                   NaN  \n",
       "50%                    0.54500                   NaN  \n",
       "75%                    0.82500                   NaN  \n",
       "max                   12.49700                   NaN  "
      ]
     },
     "metadata": {},
     "output_type": "display_data"
    }
   ],
   "source": [
    "# Header completo:\n",
    "# Date_Time,Test_Time (s),Cycle_Index,Current (A),Voltage (V),Charge_Capacity (Ah),Discharge_Capacity (Ah),Charge_Energy (Wh),Discharge_Energy (Wh),Environment_Temperature (C),Cell_Temperature (C)\n",
    "df = pd.read_csv('../Battery_Archive_Data/CALCE/1.35_CALCE_CX2-16_prism_LCO_25C_0-100_0.5-0.5C_a_timeseries.csv')\n",
    "\n",
    "# Apenas features de interesse são mantidas\n",
    "# Obs: Envoironment_Temperature (C) poderia ser relevante, mas tem todos os valores nulos. Então, é removida\n",
    "df = df[[\"Cycle_Index\", \"Test_Time (s)\", \"Current (A)\", \"Voltage (V)\", \"Discharge_Capacity (Ah)\", \"Cell_Temperature (C)\"]]\n",
    "\n",
    "# Mantem apenas as linhas em que a bateria está descarregando, ou seja, corrente < 0\n",
    "df = df[df['Current (A)'] < 0]\n",
    "\n",
    "# Remove valores para Cell_Temperature < 1 (incorretos)\n",
    "#df = df[df['Cell_Temperature (C)'] >= 1]\n",
    "\n",
    "display(df)\n",
    "display(df.describe())"
   ]
  },
  {
   "cell_type": "markdown",
   "metadata": {},
   "source": [
    "## Visualização"
   ]
  },
  {
   "cell_type": "code",
   "execution_count": 135,
   "metadata": {},
   "outputs": [
    {
     "data": {
      "image/png": "[encoded data removed]",
      "text/plain": [
       "<Figure size 1400x800 with 4 Axes>"
      ]
     },
     "metadata": {},
     "output_type": "display_data"
    }
   ],
   "source": [
    "# Lista de features que deseja analisar (exceto \"Cycle_Index\")\n",
    "features = [\"Current (A)\", \"Voltage (V)\", \"Discharge_Capacity (Ah)\", \"Cell_Temperature (C)\"]\n",
    "\n",
    "# Ciclos únicos e ordenados\n",
    "cycles = df[\"Cycle_Index\"].unique()\n",
    "cycles.sort()\n",
    "NumCyclesPlot = 5\n",
    "\n",
    "# Seleciona 'NumCyclesPlot' ciclos igualmente espaçados para plotar\n",
    "if len(cycles) > NumCyclesPlot:\n",
    "    cycles = cycles[::len(cycles)//NumCyclesPlot] # // --> Divisão inteira\n",
    "\n",
    "# Cria os subplots com layout 2x2\n",
    "fig, axs = plt.subplots(2, 2, figsize=(14, 8))\n",
    "axs = axs.flatten()  # Facilita a iteração\n",
    "\n",
    "# Itera sobre cada feature e sobre os ciclos para plotar os dados\n",
    "for i, feature in enumerate(features):\n",
    "    ax = axs[i]\n",
    "    for cycle in cycles:\n",
    "        # Seleciona os dados do ciclo e calcula o tempo relativo\n",
    "        df_cycle = df[df[\"Cycle_Index\"] == cycle].copy()\n",
    "        df_cycle['Tempo_Relativo (s)'] = df_cycle[\"Test_Time (s)\"] - df_cycle[\"Test_Time (s)\"].min()\n",
    "        \n",
    "        # Plota a feature em função do tempo relativo\n",
    "        ax.plot(df_cycle['Tempo_Relativo (s)'], df_cycle[feature], alpha=0.7, label=f'{int(cycle)}', linewidth=2.0)\n",
    "\n",
    "    ax.set_title(f'{feature} ao longo dos ciclos')\n",
    "    ax.set_xlabel('Tempo Relativo (s)')\n",
    "    ax.set_ylabel(feature)\n",
    "    ax.grid(True)\n",
    "    ax.legend(title=\"Ciclo\", loc='best')\n",
    "\n",
    "plt.tight_layout()\n",
    "plt.show()\n"
   ]
  },
  {
   "cell_type": "markdown",
   "metadata": {},
   "source": [
    "## Análise de SOH"
   ]
  },
  {
   "cell_type": "markdown",
   "metadata": {},
   "source": [
    "$$\n",
    "\\text{SOH} = \\frac{\\text{capacidade\\_atual}}{\\text{capacidade\\_inicial}}\n",
    "$$\n",
    "\n",
    "- $CapacidadeInicial$ é a capacidade nominal, a maior considerando todo o histórico da bateria\n",
    "- $CapacidadeAtual$ é a maior capacidade do ciclo"
   ]
  },
  {
   "cell_type": "code",
   "execution_count": 136,
   "metadata": {},
   "outputs": [
    {
     "name": "stdout",
     "output_type": "stream",
     "text": [
      "Capacidade total de descarga: 1.35 Ah\n"
     ]
    },
    {
     "data": {
      "application/vnd.microsoft.datawrangler.viewer.v0+json": {
       "columns": [
        {
         "name": "index",
         "rawType": "int64",
         "type": "integer"
        },
        {
         "name": "Cycle_Index",
         "rawType": "float64",
         "type": "float"
        },
        {
         "name": "Max_Discharge_Capacity",
         "rawType": "float64",
         "type": "float"
        },
        {
         "name": "SOH_discharge",
         "rawType": "float64",
         "type": "float"
        }
       ],
       "ref": "8479a524-b6e9-47e8-a33d-05379eed3dc3",
       "rows": [
        [
         "0",
         "1.0",
         "1.268",
         "0.9392592592592592"
        ],
        [
         "1",
         "2.0",
         "1.269",
         "0.9399999999999998"
        ],
        [
         "2",
         "3.0",
         "1.269",
         "0.9399999999999998"
        ],
        [
         "3",
         "4.0",
         "1.269",
         "0.9399999999999998"
        ],
        [
         "4",
         "5.0",
         "1.268",
         "0.9392592592592592"
        ],
        [
         "5",
         "6.0",
         "1.268",
         "0.9392592592592592"
        ],
        [
         "6",
         "7.0",
         "1.267",
         "0.9385185185185184"
        ],
        [
         "7",
         "8.0",
         "1.267",
         "0.9385185185185184"
        ],
        [
         "8",
         "9.0",
         "1.266",
         "0.9377777777777777"
        ],
        [
         "9",
         "10.0",
         "1.268",
         "0.9392592592592592"
        ],
        [
         "10",
         "11.0",
         "1.267",
         "0.9385185185185184"
        ],
        [
         "11",
         "12.0",
         "1.266",
         "0.9377777777777777"
        ],
        [
         "12",
         "13.0",
         "1.266",
         "0.9377777777777777"
        ],
        [
         "13",
         "14.0",
         "1.266",
         "0.9377777777777777"
        ],
        [
         "14",
         "15.0",
         "1.267",
         "0.9385185185185184"
        ],
        [
         "15",
         "16.0",
         "1.267",
         "0.9385185185185184"
        ],
        [
         "16",
         "17.0",
         "1.265",
         "0.9370370370370369"
        ],
        [
         "17",
         "18.0",
         "1.264",
         "0.9362962962962963"
        ],
        [
         "18",
         "19.0",
         "1.061",
         "0.7859259259259258"
        ],
        [
         "19",
         "20.0",
         "1.265",
         "0.9370370370370369"
        ],
        [
         "20",
         "21.0",
         "1.263",
         "0.9355555555555555"
        ],
        [
         "21",
         "22.0",
         "1.263",
         "0.9355555555555555"
        ],
        [
         "22",
         "23.0",
         "1.264",
         "0.9362962962962963"
        ],
        [
         "23",
         "24.0",
         "1.263",
         "0.9355555555555555"
        ],
        [
         "24",
         "25.0",
         "1.263",
         "0.9355555555555555"
        ],
        [
         "25",
         "26.0",
         "1.262",
         "0.9348148148148148"
        ],
        [
         "26",
         "27.0",
         "1.261",
         "0.934074074074074"
        ],
        [
         "27",
         "28.0",
         "1.26",
         "0.9333333333333332"
        ],
        [
         "28",
         "29.0",
         "1.262",
         "0.9348148148148148"
        ],
        [
         "29",
         "30.0",
         "1.262",
         "0.9348148148148148"
        ],
        [
         "30",
         "31.0",
         "1.262",
         "0.9348148148148148"
        ],
        [
         "31",
         "32.0",
         "1.261",
         "0.934074074074074"
        ],
        [
         "32",
         "33.0",
         "1.261",
         "0.934074074074074"
        ],
        [
         "33",
         "34.0",
         "1.26",
         "0.9333333333333332"
        ],
        [
         "34",
         "35.0",
         "1.26",
         "0.9333333333333332"
        ],
        [
         "35",
         "36.0",
         "1.26",
         "0.9333333333333332"
        ],
        [
         "36",
         "37.0",
         "1.259",
         "0.9325925925925924"
        ],
        [
         "37",
         "38.0",
         "1.258",
         "0.9318518518518518"
        ],
        [
         "38",
         "39.0",
         "1.258",
         "0.9318518518518518"
        ],
        [
         "39",
         "40.0",
         "1.26",
         "0.9333333333333332"
        ],
        [
         "40",
         "41.0",
         "1.258",
         "0.9318518518518518"
        ],
        [
         "41",
         "42.0",
         "1.258",
         "0.9318518518518518"
        ],
        [
         "42",
         "43.0",
         "1.257",
         "0.931111111111111"
        ],
        [
         "43",
         "44.0",
         "1.258",
         "0.9318518518518518"
        ],
        [
         "44",
         "45.0",
         "1.259",
         "0.9325925925925924"
        ],
        [
         "45",
         "46.0",
         "1.259",
         "0.9325925925925924"
        ],
        [
         "46",
         "47.0",
         "1.259",
         "0.9325925925925924"
        ],
        [
         "47",
         "48.0",
         "1.259",
         "0.9325925925925924"
        ],
        [
         "48",
         "49.0",
         "1.26",
         "0.9333333333333332"
        ],
        [
         "49",
         "50.0",
         "1.26",
         "0.9333333333333332"
        ]
       ],
       "shape": {
        "columns": 3,
        "rows": 2008
       }
      },
      "text/html": [
       "<div>\n",
       "<style scoped>\n",
       "    .dataframe tbody tr th:only-of-type {\n",
       "        vertical-align: middle;\n",
       "    }\n",
       "\n",
       "    .dataframe tbody tr th {\n",
       "        vertical-align: top;\n",
       "    }\n",
       "\n",
       "    .dataframe thead th {\n",
       "        text-align: right;\n",
       "    }\n",
       "</style>\n",
       "<table border=\"1\" class=\"dataframe\">\n",
       "  <thead>\n",
       "    <tr style=\"text-align: right;\">\n",
       "      <th></th>\n",
       "      <th>Cycle_Index</th>\n",
       "      <th>Max_Discharge_Capacity</th>\n",
       "      <th>SOH_discharge</th>\n",
       "    </tr>\n",
       "  </thead>\n",
       "  <tbody>\n",
       "    <tr>\n",
       "      <th>0</th>\n",
       "      <td>1.0</td>\n",
       "      <td>1.268</td>\n",
       "      <td>0.939259</td>\n",
       "    </tr>\n",
       "    <tr>\n",
       "      <th>1</th>\n",
       "      <td>2.0</td>\n",
       "      <td>1.269</td>\n",
       "      <td>0.940000</td>\n",
       "    </tr>\n",
       "    <tr>\n",
       "      <th>2</th>\n",
       "      <td>3.0</td>\n",
       "      <td>1.269</td>\n",
       "      <td>0.940000</td>\n",
       "    </tr>\n",
       "    <tr>\n",
       "      <th>3</th>\n",
       "      <td>4.0</td>\n",
       "      <td>1.269</td>\n",
       "      <td>0.940000</td>\n",
       "    </tr>\n",
       "    <tr>\n",
       "      <th>4</th>\n",
       "      <td>5.0</td>\n",
       "      <td>1.268</td>\n",
       "      <td>0.939259</td>\n",
       "    </tr>\n",
       "    <tr>\n",
       "      <th>...</th>\n",
       "      <td>...</td>\n",
       "      <td>...</td>\n",
       "      <td>...</td>\n",
       "    </tr>\n",
       "    <tr>\n",
       "      <th>2003</th>\n",
       "      <td>2012.0</td>\n",
       "      <td>0.876</td>\n",
       "      <td>0.648889</td>\n",
       "    </tr>\n",
       "    <tr>\n",
       "      <th>2004</th>\n",
       "      <td>2013.0</td>\n",
       "      <td>0.877</td>\n",
       "      <td>0.649630</td>\n",
       "    </tr>\n",
       "    <tr>\n",
       "      <th>2005</th>\n",
       "      <td>2014.0</td>\n",
       "      <td>0.833</td>\n",
       "      <td>0.617037</td>\n",
       "    </tr>\n",
       "    <tr>\n",
       "      <th>2006</th>\n",
       "      <td>2015.0</td>\n",
       "      <td>0.827</td>\n",
       "      <td>0.612593</td>\n",
       "    </tr>\n",
       "    <tr>\n",
       "      <th>2007</th>\n",
       "      <td>2016.0</td>\n",
       "      <td>0.828</td>\n",
       "      <td>0.613333</td>\n",
       "    </tr>\n",
       "  </tbody>\n",
       "</table>\n",
       "<p>2008 rows × 3 columns</p>\n",
       "</div>"
      ],
      "text/plain": [
       "      Cycle_Index  Max_Discharge_Capacity  SOH_discharge\n",
       "0             1.0                   1.268       0.939259\n",
       "1             2.0                   1.269       0.940000\n",
       "2             3.0                   1.269       0.940000\n",
       "3             4.0                   1.269       0.940000\n",
       "4             5.0                   1.268       0.939259\n",
       "...           ...                     ...            ...\n",
       "2003       2012.0                   0.876       0.648889\n",
       "2004       2013.0                   0.877       0.649630\n",
       "2005       2014.0                   0.833       0.617037\n",
       "2006       2015.0                   0.827       0.612593\n",
       "2007       2016.0                   0.828       0.613333\n",
       "\n",
       "[2008 rows x 3 columns]"
      ]
     },
     "metadata": {},
     "output_type": "display_data"
    }
   ],
   "source": [
    "# Capacidade nominal (máxima global)\n",
    "nominal_capacity = 1.35 # df['Discharge_Capacity (Ah)'].max()\n",
    "print(f'Capacidade total de descarga: {nominal_capacity} Ah')\n",
    "\n",
    "# Para cada ciclo, extrai a maior capacidade \n",
    "# (cycles_capacity é uma série do Pandas)\n",
    "cycles_capacity = df.groupby('Cycle_Index')['Discharge_Capacity (Ah)'].max()\n",
    "cycles_capacity = cycles_capacity.reset_index() # transforma em dataframe\n",
    "cycles_capacity.columns = ['Cycle_Index', 'Max_Discharge_Capacity']\n",
    "cycles_capacity['SOH_discharge'] = (cycles_capacity['Max_Discharge_Capacity'] / nominal_capacity)\n",
    "display(cycles_capacity)"
   ]
  },
  {
   "cell_type": "code",
   "execution_count": 137,
   "metadata": {},
   "outputs": [
    {
     "data": {
      "application/vnd.microsoft.datawrangler.viewer.v0+json": {
       "columns": [
        {
         "name": "index",
         "rawType": "int64",
         "type": "integer"
        },
        {
         "name": "Cycle_Index",
         "rawType": "float64",
         "type": "float"
        },
        {
         "name": "Cell_Temperature (C)",
         "rawType": "float64",
         "type": "float"
        },
        {
         "name": "SOH_discharge",
         "rawType": "float64",
         "type": "float"
        }
       ],
       "ref": "c0106e92-7d1b-46fd-9822-2adc6dac7a33",
       "rows": [
        [
         "0",
         "1.0",
         null,
         "0.9392592592592592"
        ],
        [
         "1",
         "2.0",
         null,
         "0.9399999999999998"
        ],
        [
         "2",
         "3.0",
         null,
         "0.9399999999999998"
        ],
        [
         "3",
         "4.0",
         null,
         "0.9399999999999998"
        ],
        [
         "4",
         "5.0",
         null,
         "0.9392592592592592"
        ],
        [
         "5",
         "6.0",
         null,
         "0.9392592592592592"
        ],
        [
         "6",
         "7.0",
         null,
         "0.9385185185185184"
        ],
        [
         "7",
         "8.0",
         null,
         "0.9385185185185184"
        ],
        [
         "8",
         "9.0",
         null,
         "0.9377777777777777"
        ],
        [
         "9",
         "10.0",
         null,
         "0.9392592592592592"
        ],
        [
         "10",
         "11.0",
         null,
         "0.9385185185185184"
        ],
        [
         "11",
         "12.0",
         null,
         "0.9377777777777777"
        ],
        [
         "12",
         "13.0",
         null,
         "0.9377777777777777"
        ],
        [
         "13",
         "14.0",
         null,
         "0.9377777777777777"
        ],
        [
         "14",
         "15.0",
         null,
         "0.9385185185185184"
        ],
        [
         "15",
         "16.0",
         null,
         "0.9385185185185184"
        ],
        [
         "16",
         "17.0",
         null,
         "0.9370370370370369"
        ],
        [
         "17",
         "18.0",
         null,
         "0.9362962962962963"
        ],
        [
         "18",
         "19.0",
         null,
         "0.7859259259259258"
        ],
        [
         "19",
         "20.0",
         null,
         "0.9370370370370369"
        ],
        [
         "20",
         "21.0",
         null,
         "0.9355555555555555"
        ],
        [
         "21",
         "22.0",
         null,
         "0.9355555555555555"
        ],
        [
         "22",
         "23.0",
         null,
         "0.9362962962962963"
        ],
        [
         "23",
         "24.0",
         null,
         "0.9355555555555555"
        ],
        [
         "24",
         "25.0",
         null,
         "0.9355555555555555"
        ],
        [
         "25",
         "26.0",
         null,
         "0.9348148148148148"
        ],
        [
         "26",
         "27.0",
         null,
         "0.934074074074074"
        ],
        [
         "27",
         "28.0",
         null,
         "0.9333333333333332"
        ],
        [
         "28",
         "29.0",
         null,
         "0.9348148148148148"
        ],
        [
         "29",
         "30.0",
         null,
         "0.9348148148148148"
        ],
        [
         "30",
         "31.0",
         null,
         "0.9348148148148148"
        ],
        [
         "31",
         "32.0",
         null,
         "0.934074074074074"
        ],
        [
         "32",
         "33.0",
         null,
         "0.934074074074074"
        ],
        [
         "33",
         "34.0",
         null,
         "0.9333333333333332"
        ],
        [
         "34",
         "35.0",
         null,
         "0.9333333333333332"
        ],
        [
         "35",
         "36.0",
         null,
         "0.9333333333333332"
        ],
        [
         "36",
         "37.0",
         null,
         "0.9325925925925924"
        ],
        [
         "37",
         "38.0",
         null,
         "0.9318518518518518"
        ],
        [
         "38",
         "39.0",
         null,
         "0.9318518518518518"
        ],
        [
         "39",
         "40.0",
         null,
         "0.9333333333333332"
        ],
        [
         "40",
         "41.0",
         null,
         "0.9318518518518518"
        ],
        [
         "41",
         "42.0",
         null,
         "0.9318518518518518"
        ],
        [
         "42",
         "43.0",
         null,
         "0.931111111111111"
        ],
        [
         "43",
         "44.0",
         null,
         "0.9318518518518518"
        ],
        [
         "44",
         "45.0",
         null,
         "0.9325925925925924"
        ],
        [
         "45",
         "46.0",
         null,
         "0.9325925925925924"
        ],
        [
         "46",
         "47.0",
         null,
         "0.9325925925925924"
        ],
        [
         "47",
         "48.0",
         null,
         "0.9325925925925924"
        ],
        [
         "48",
         "49.0",
         null,
         "0.9333333333333332"
        ],
        [
         "49",
         "50.0",
         null,
         "0.9333333333333332"
        ]
       ],
       "shape": {
        "columns": 3,
        "rows": 2008
       }
      },
      "text/html": [
       "<div>\n",
       "<style scoped>\n",
       "    .dataframe tbody tr th:only-of-type {\n",
       "        vertical-align: middle;\n",
       "    }\n",
       "\n",
       "    .dataframe tbody tr th {\n",
       "        vertical-align: top;\n",
       "    }\n",
       "\n",
       "    .dataframe thead th {\n",
       "        text-align: right;\n",
       "    }\n",
       "</style>\n",
       "<table border=\"1\" class=\"dataframe\">\n",
       "  <thead>\n",
       "    <tr style=\"text-align: right;\">\n",
       "      <th></th>\n",
       "      <th>Cycle_Index</th>\n",
       "      <th>Cell_Temperature (C)</th>\n",
       "      <th>SOH_discharge</th>\n",
       "    </tr>\n",
       "  </thead>\n",
       "  <tbody>\n",
       "    <tr>\n",
       "      <th>0</th>\n",
       "      <td>1.0</td>\n",
       "      <td>NaN</td>\n",
       "      <td>0.939259</td>\n",
       "    </tr>\n",
       "    <tr>\n",
       "      <th>1</th>\n",
       "      <td>2.0</td>\n",
       "      <td>NaN</td>\n",
       "      <td>0.940000</td>\n",
       "    </tr>\n",
       "    <tr>\n",
       "      <th>2</th>\n",
       "      <td>3.0</td>\n",
       "      <td>NaN</td>\n",
       "      <td>0.940000</td>\n",
       "    </tr>\n",
       "    <tr>\n",
       "      <th>3</th>\n",
       "      <td>4.0</td>\n",
       "      <td>NaN</td>\n",
       "      <td>0.940000</td>\n",
       "    </tr>\n",
       "    <tr>\n",
       "      <th>4</th>\n",
       "      <td>5.0</td>\n",
       "      <td>NaN</td>\n",
       "      <td>0.939259</td>\n",
       "    </tr>\n",
       "    <tr>\n",
       "      <th>...</th>\n",
       "      <td>...</td>\n",
       "      <td>...</td>\n",
       "      <td>...</td>\n",
       "    </tr>\n",
       "    <tr>\n",
       "      <th>2003</th>\n",
       "      <td>2012.0</td>\n",
       "      <td>NaN</td>\n",
       "      <td>0.648889</td>\n",
       "    </tr>\n",
       "    <tr>\n",
       "      <th>2004</th>\n",
       "      <td>2013.0</td>\n",
       "      <td>NaN</td>\n",
       "      <td>0.649630</td>\n",
       "    </tr>\n",
       "    <tr>\n",
       "      <th>2005</th>\n",
       "      <td>2014.0</td>\n",
       "      <td>NaN</td>\n",
       "      <td>0.617037</td>\n",
       "    </tr>\n",
       "    <tr>\n",
       "      <th>2006</th>\n",
       "      <td>2015.0</td>\n",
       "      <td>NaN</td>\n",
       "      <td>0.612593</td>\n",
       "    </tr>\n",
       "    <tr>\n",
       "      <th>2007</th>\n",
       "      <td>2016.0</td>\n",
       "      <td>NaN</td>\n",
       "      <td>0.613333</td>\n",
       "    </tr>\n",
       "  </tbody>\n",
       "</table>\n",
       "<p>2008 rows × 3 columns</p>\n",
       "</div>"
      ],
      "text/plain": [
       "      Cycle_Index  Cell_Temperature (C)  SOH_discharge\n",
       "0             1.0                   NaN       0.939259\n",
       "1             2.0                   NaN       0.940000\n",
       "2             3.0                   NaN       0.940000\n",
       "3             4.0                   NaN       0.940000\n",
       "4             5.0                   NaN       0.939259\n",
       "...           ...                   ...            ...\n",
       "2003       2012.0                   NaN       0.648889\n",
       "2004       2013.0                   NaN       0.649630\n",
       "2005       2014.0                   NaN       0.617037\n",
       "2006       2015.0                   NaN       0.612593\n",
       "2007       2016.0                   NaN       0.613333\n",
       "\n",
       "[2008 rows x 3 columns]"
      ]
     },
     "metadata": {},
     "output_type": "display_data"
    },
    {
     "data": {
      "application/vnd.microsoft.datawrangler.viewer.v0+json": {
       "columns": [
        {
         "name": "index",
         "rawType": "object",
         "type": "string"
        },
        {
         "name": "Cycle_Index",
         "rawType": "float64",
         "type": "float"
        },
        {
         "name": "Cell_Temperature (C)",
         "rawType": "float64",
         "type": "float"
        },
        {
         "name": "SOH_discharge",
         "rawType": "float64",
         "type": "float"
        }
       ],
       "ref": "73f71c14-8ea5-4618-9fb7-b41a5576a5cf",
       "rows": [
        [
         "count",
         "2008.0",
         "0.0",
         "2008.0"
        ],
        [
         "mean",
         "1009.7958167330677",
         null,
         "0.7951106684373617"
        ],
        [
         "std",
         "582.503284005216",
         null,
         "0.2135738982487786"
        ],
        [
         "min",
         "1.0",
         null,
         "0.06666666666666667"
        ],
        [
         "25%",
         "504.75",
         null,
         "0.7214814814814814"
        ],
        [
         "50%",
         "1010.5",
         null,
         "0.7859259259259258"
        ],
        [
         "75%",
         "1514.25",
         null,
         "0.8777777777777778"
        ],
        [
         "max",
         "2016.0",
         null,
         "9.257037037037037"
        ]
       ],
       "shape": {
        "columns": 3,
        "rows": 8
       }
      },
      "text/html": [
       "<div>\n",
       "<style scoped>\n",
       "    .dataframe tbody tr th:only-of-type {\n",
       "        vertical-align: middle;\n",
       "    }\n",
       "\n",
       "    .dataframe tbody tr th {\n",
       "        vertical-align: top;\n",
       "    }\n",
       "\n",
       "    .dataframe thead th {\n",
       "        text-align: right;\n",
       "    }\n",
       "</style>\n",
       "<table border=\"1\" class=\"dataframe\">\n",
       "  <thead>\n",
       "    <tr style=\"text-align: right;\">\n",
       "      <th></th>\n",
       "      <th>Cycle_Index</th>\n",
       "      <th>Cell_Temperature (C)</th>\n",
       "      <th>SOH_discharge</th>\n",
       "    </tr>\n",
       "  </thead>\n",
       "  <tbody>\n",
       "    <tr>\n",
       "      <th>count</th>\n",
       "      <td>2008.000000</td>\n",
       "      <td>0.0</td>\n",
       "      <td>2008.000000</td>\n",
       "    </tr>\n",
       "    <tr>\n",
       "      <th>mean</th>\n",
       "      <td>1009.795817</td>\n",
       "      <td>NaN</td>\n",
       "      <td>0.795111</td>\n",
       "    </tr>\n",
       "    <tr>\n",
       "      <th>std</th>\n",
       "      <td>582.503284</td>\n",
       "      <td>NaN</td>\n",
       "      <td>0.213574</td>\n",
       "    </tr>\n",
       "    <tr>\n",
       "      <th>min</th>\n",
       "      <td>1.000000</td>\n",
       "      <td>NaN</td>\n",
       "      <td>0.066667</td>\n",
       "    </tr>\n",
       "    <tr>\n",
       "      <th>25%</th>\n",
       "      <td>504.750000</td>\n",
       "      <td>NaN</td>\n",
       "      <td>0.721481</td>\n",
       "    </tr>\n",
       "    <tr>\n",
       "      <th>50%</th>\n",
       "      <td>1010.500000</td>\n",
       "      <td>NaN</td>\n",
       "      <td>0.785926</td>\n",
       "    </tr>\n",
       "    <tr>\n",
       "      <th>75%</th>\n",
       "      <td>1514.250000</td>\n",
       "      <td>NaN</td>\n",
       "      <td>0.877778</td>\n",
       "    </tr>\n",
       "    <tr>\n",
       "      <th>max</th>\n",
       "      <td>2016.000000</td>\n",
       "      <td>NaN</td>\n",
       "      <td>9.257037</td>\n",
       "    </tr>\n",
       "  </tbody>\n",
       "</table>\n",
       "</div>"
      ],
      "text/plain": [
       "       Cycle_Index  Cell_Temperature (C)  SOH_discharge\n",
       "count  2008.000000                   0.0    2008.000000\n",
       "mean   1009.795817                   NaN       0.795111\n",
       "std     582.503284                   NaN       0.213574\n",
       "min       1.000000                   NaN       0.066667\n",
       "25%     504.750000                   NaN       0.721481\n",
       "50%    1010.500000                   NaN       0.785926\n",
       "75%    1514.250000                   NaN       0.877778\n",
       "max    2016.000000                   NaN       9.257037"
      ]
     },
     "metadata": {},
     "output_type": "display_data"
    }
   ],
   "source": [
    "# Seleciona as features de interesse e agrupa por ciclo\n",
    "df_grouped = df[['Cycle_Index', 'Cell_Temperature (C)']]\n",
    "df_grouped = df_grouped.groupby('Cycle_Index', as_index=False).mean() # Média será usada para a temperatura\n",
    "\n",
    "# Adição do SOH calculado em ciclos_capacity\n",
    "df_grouped['SOH_discharge'] = cycles_capacity['SOH_discharge']\n",
    "\n",
    "display(df_grouped)\n",
    "display(df_grouped.describe())"
   ]
  },
  {
   "cell_type": "markdown",
   "metadata": {},
   "source": [
    "### Outliers"
   ]
  },
  {
   "cell_type": "code",
   "execution_count": 138,
   "metadata": {},
   "outputs": [],
   "source": [
    "# Técnica estatística para identificar outliers em um conjunto de dados, calculando o intervalo entre o primeiro quartil (Q1) e o terceiro quartil (Q3), e usando para definir limites superiores e inferiores. Outliers são definidos como pontos que caem abaixo de Q1 - 1.5 * IQR ou acima de Q3 + 1.5 * IQR. Este método é robusto contra a não normalidade dos dados, sendo útil para distribuições assimétricas.\n",
    "def rmv_outliers_iqr(df: pd.DataFrame, column_name: str) -> pd.DataFrame:\n",
    "    # Calculate the first and third quartiles\n",
    "    Q1 = df[column_name].quantile(0.25)\n",
    "    Q3 = df[column_name].quantile(0.75)\n",
    "    \n",
    "    # Calculate the Interquartile Range (IQR)\n",
    "    IQR = Q3 - Q1\n",
    "    \n",
    "    # Define the lower and upper bounds for outliers\n",
    "    lower_bound = Q1 - 1.5 * IQR\n",
    "    upper_bound = Q3 + 1.5 * IQR\n",
    "    \n",
    "    # Filter the DataFrame to keep only the values within the bounds\n",
    "    filtered_df = df[(df[column_name] >= lower_bound) & (df[column_name] <= upper_bound)]\n",
    "    \n",
    "    return filtered_df"
   ]
  },
  {
   "cell_type": "code",
   "execution_count": 139,
   "metadata": {},
   "outputs": [],
   "source": [
    "# Algoritmo de machine learning não supervisionado usado para detecção de anomalias, que identifica outliers isolando-os a partir de partições aleatórias em um conjunto de árvores de decisão\n",
    "def rmv_outliers_isolation_forest(df: pd.DataFrame, column_name: str, contamin='auto') -> pd.DataFrame:\n",
    "    model = IsolationForest(contamination=contamin, random_state=123)\n",
    "    \n",
    "    # Fit the model and predict outliers. The data needs to be reshaped to a 2D array.\n",
    "    predictions = model.fit_predict(df[[column_name]].values)\n",
    "    \n",
    "    # Filter the DataFrame to keep only the inliers (predictions == 1)\n",
    "    filtered_df = df[predictions == 1]\n",
    "    \n",
    "    return filtered_df"
   ]
  },
  {
   "cell_type": "code",
   "execution_count": 140,
   "metadata": {},
   "outputs": [],
   "source": [
    "def rmv_outliers_zscore(df: pd.DataFrame, column_name: str, threshold: float = 3.0) -> pd.DataFrame:\n",
    "    # Calculate the Z-scores of the column\n",
    "    z_scores = np.abs(zscore(df[column_name]))\n",
    "    \n",
    "    # Create a boolean mask to filter out outliers\n",
    "    inlier_mask = z_scores <= threshold\n",
    "    \n",
    "    # Filter the DataFrame to keep only the inliers\n",
    "    filtered_df = df[inlier_mask]\n",
    "    \n",
    "    return filtered_df"
   ]
  },
  {
   "cell_type": "code",
   "execution_count": 141,
   "metadata": {},
   "outputs": [],
   "source": [
    "def ensure_non_increasing(df: pd.DataFrame, column_name: str) -> pd.DataFrame:\n",
    "    # Create a boolean mask where True indicates a valid decreasing or equal step\n",
    "    is_decreasing = df[column_name].diff().fillna(-1) <= 0\n",
    "    \n",
    "    # Filter the DataFrame to keep only the monotonic values\n",
    "    filtered_df = df[is_decreasing]\n",
    "    \n",
    "    return filtered_df"
   ]
  },
  {
   "cell_type": "code",
   "execution_count": 142,
   "metadata": {},
   "outputs": [],
   "source": [
    "def rmv_sharp_jump(df: pd.DataFrame, column_name: str, threshold: float, repeat=1) -> pd.DataFrame:\n",
    "    for _ in range(repeat):\n",
    "        # diff -> a diferença entre os valores consecutivos\n",
    "        # abs -> o valor absoluto para tratar subidas e quedas\n",
    "        # shift(-1) -> para que a diferença seja aplicada ao ponto de origem do salto\n",
    "        # fillna(0) -> trata o último valor (que é NaN após o shift) com 0 para que ele seja mantido\n",
    "        shifted_diff = df[column_name].diff().abs().shift(-1).fillna(0)\n",
    "        \n",
    "        is_not_sharp_jump = shifted_diff <= threshold\n",
    "        df = df[is_not_sharp_jump]\n",
    "    \n",
    "    return df"
   ]
  },
  {
   "cell_type": "code",
   "execution_count": 143,
   "metadata": {},
   "outputs": [
    {
     "data": {
      "application/vnd.microsoft.datawrangler.viewer.v0+json": {
       "columns": [
        {
         "name": "index",
         "rawType": "int64",
         "type": "integer"
        },
        {
         "name": "Cycle_Index",
         "rawType": "float64",
         "type": "float"
        },
        {
         "name": "Cell_Temperature (C)",
         "rawType": "float64",
         "type": "float"
        },
        {
         "name": "SOH_discharge",
         "rawType": "float64",
         "type": "float"
        }
       ],
       "ref": "cd27768f-7577-4478-8a07-99afe248284f",
       "rows": [
        [
         "0",
         "1.0",
         null,
         "0.9392592592592592"
        ],
        [
         "1",
         "2.0",
         null,
         "0.9399999999999998"
        ],
        [
         "2",
         "3.0",
         null,
         "0.9399999999999998"
        ],
        [
         "3",
         "4.0",
         null,
         "0.9399999999999998"
        ],
        [
         "4",
         "5.0",
         null,
         "0.9392592592592592"
        ],
        [
         "5",
         "6.0",
         null,
         "0.9392592592592592"
        ],
        [
         "6",
         "7.0",
         null,
         "0.9385185185185184"
        ],
        [
         "7",
         "8.0",
         null,
         "0.9385185185185184"
        ],
        [
         "8",
         "9.0",
         null,
         "0.9377777777777777"
        ],
        [
         "9",
         "10.0",
         null,
         "0.9392592592592592"
        ],
        [
         "10",
         "11.0",
         null,
         "0.9385185185185184"
        ],
        [
         "11",
         "12.0",
         null,
         "0.9377777777777777"
        ],
        [
         "12",
         "13.0",
         null,
         "0.9377777777777777"
        ],
        [
         "13",
         "14.0",
         null,
         "0.9377777777777777"
        ],
        [
         "14",
         "15.0",
         null,
         "0.9385185185185184"
        ],
        [
         "15",
         "16.0",
         null,
         "0.9385185185185184"
        ],
        [
         "16",
         "17.0",
         null,
         "0.9370370370370369"
        ],
        [
         "17",
         "18.0",
         null,
         "0.9362962962962963"
        ],
        [
         "18",
         "19.0",
         null,
         "0.7859259259259258"
        ],
        [
         "19",
         "20.0",
         null,
         "0.9370370370370369"
        ],
        [
         "20",
         "21.0",
         null,
         "0.9355555555555555"
        ],
        [
         "21",
         "22.0",
         null,
         "0.9355555555555555"
        ],
        [
         "22",
         "23.0",
         null,
         "0.9362962962962963"
        ],
        [
         "23",
         "24.0",
         null,
         "0.9355555555555555"
        ],
        [
         "24",
         "25.0",
         null,
         "0.9355555555555555"
        ],
        [
         "25",
         "26.0",
         null,
         "0.9348148148148148"
        ],
        [
         "26",
         "27.0",
         null,
         "0.934074074074074"
        ],
        [
         "27",
         "28.0",
         null,
         "0.9333333333333332"
        ],
        [
         "28",
         "29.0",
         null,
         "0.9348148148148148"
        ],
        [
         "29",
         "30.0",
         null,
         "0.9348148148148148"
        ],
        [
         "30",
         "31.0",
         null,
         "0.9348148148148148"
        ],
        [
         "31",
         "32.0",
         null,
         "0.934074074074074"
        ],
        [
         "32",
         "33.0",
         null,
         "0.934074074074074"
        ],
        [
         "33",
         "34.0",
         null,
         "0.9333333333333332"
        ],
        [
         "34",
         "35.0",
         null,
         "0.9333333333333332"
        ],
        [
         "35",
         "36.0",
         null,
         "0.9333333333333332"
        ],
        [
         "36",
         "37.0",
         null,
         "0.9325925925925924"
        ],
        [
         "37",
         "38.0",
         null,
         "0.9318518518518518"
        ],
        [
         "38",
         "39.0",
         null,
         "0.9318518518518518"
        ],
        [
         "39",
         "40.0",
         null,
         "0.9333333333333332"
        ],
        [
         "40",
         "41.0",
         null,
         "0.9318518518518518"
        ],
        [
         "41",
         "42.0",
         null,
         "0.9318518518518518"
        ],
        [
         "42",
         "43.0",
         null,
         "0.931111111111111"
        ],
        [
         "43",
         "44.0",
         null,
         "0.9318518518518518"
        ],
        [
         "44",
         "45.0",
         null,
         "0.9325925925925924"
        ],
        [
         "45",
         "46.0",
         null,
         "0.9325925925925924"
        ],
        [
         "46",
         "47.0",
         null,
         "0.9325925925925924"
        ],
        [
         "47",
         "48.0",
         null,
         "0.9325925925925924"
        ],
        [
         "48",
         "49.0",
         null,
         "0.9333333333333332"
        ],
        [
         "49",
         "50.0",
         null,
         "0.9333333333333332"
        ]
       ],
       "shape": {
        "columns": 3,
        "rows": 2008
       }
      },
      "text/html": [
       "<div>\n",
       "<style scoped>\n",
       "    .dataframe tbody tr th:only-of-type {\n",
       "        vertical-align: middle;\n",
       "    }\n",
       "\n",
       "    .dataframe tbody tr th {\n",
       "        vertical-align: top;\n",
       "    }\n",
       "\n",
       "    .dataframe thead th {\n",
       "        text-align: right;\n",
       "    }\n",
       "</style>\n",
       "<table border=\"1\" class=\"dataframe\">\n",
       "  <thead>\n",
       "    <tr style=\"text-align: right;\">\n",
       "      <th></th>\n",
       "      <th>Cycle_Index</th>\n",
       "      <th>Cell_Temperature (C)</th>\n",
       "      <th>SOH_discharge</th>\n",
       "    </tr>\n",
       "  </thead>\n",
       "  <tbody>\n",
       "    <tr>\n",
       "      <th>0</th>\n",
       "      <td>1.0</td>\n",
       "      <td>NaN</td>\n",
       "      <td>0.939259</td>\n",
       "    </tr>\n",
       "    <tr>\n",
       "      <th>1</th>\n",
       "      <td>2.0</td>\n",
       "      <td>NaN</td>\n",
       "      <td>0.940000</td>\n",
       "    </tr>\n",
       "    <tr>\n",
       "      <th>2</th>\n",
       "      <td>3.0</td>\n",
       "      <td>NaN</td>\n",
       "      <td>0.940000</td>\n",
       "    </tr>\n",
       "    <tr>\n",
       "      <th>3</th>\n",
       "      <td>4.0</td>\n",
       "      <td>NaN</td>\n",
       "      <td>0.940000</td>\n",
       "    </tr>\n",
       "    <tr>\n",
       "      <th>4</th>\n",
       "      <td>5.0</td>\n",
       "      <td>NaN</td>\n",
       "      <td>0.939259</td>\n",
       "    </tr>\n",
       "    <tr>\n",
       "      <th>...</th>\n",
       "      <td>...</td>\n",
       "      <td>...</td>\n",
       "      <td>...</td>\n",
       "    </tr>\n",
       "    <tr>\n",
       "      <th>2003</th>\n",
       "      <td>2012.0</td>\n",
       "      <td>NaN</td>\n",
       "      <td>0.648889</td>\n",
       "    </tr>\n",
       "    <tr>\n",
       "      <th>2004</th>\n",
       "      <td>2013.0</td>\n",
       "      <td>NaN</td>\n",
       "      <td>0.649630</td>\n",
       "    </tr>\n",
       "    <tr>\n",
       "      <th>2005</th>\n",
       "      <td>2014.0</td>\n",
       "      <td>NaN</td>\n",
       "      <td>0.617037</td>\n",
       "    </tr>\n",
       "    <tr>\n",
       "      <th>2006</th>\n",
       "      <td>2015.0</td>\n",
       "      <td>NaN</td>\n",
       "      <td>0.612593</td>\n",
       "    </tr>\n",
       "    <tr>\n",
       "      <th>2007</th>\n",
       "      <td>2016.0</td>\n",
       "      <td>NaN</td>\n",
       "      <td>0.613333</td>\n",
       "    </tr>\n",
       "  </tbody>\n",
       "</table>\n",
       "<p>2008 rows × 3 columns</p>\n",
       "</div>"
      ],
      "text/plain": [
       "      Cycle_Index  Cell_Temperature (C)  SOH_discharge\n",
       "0             1.0                   NaN       0.939259\n",
       "1             2.0                   NaN       0.940000\n",
       "2             3.0                   NaN       0.940000\n",
       "3             4.0                   NaN       0.940000\n",
       "4             5.0                   NaN       0.939259\n",
       "...           ...                   ...            ...\n",
       "2003       2012.0                   NaN       0.648889\n",
       "2004       2013.0                   NaN       0.649630\n",
       "2005       2014.0                   NaN       0.617037\n",
       "2006       2015.0                   NaN       0.612593\n",
       "2007       2016.0                   NaN       0.613333\n",
       "\n",
       "[2008 rows x 3 columns]"
      ]
     },
     "metadata": {},
     "output_type": "display_data"
    },
    {
     "data": {
      "application/vnd.microsoft.datawrangler.viewer.v0+json": {
       "columns": [
        {
         "name": "index",
         "rawType": "int64",
         "type": "integer"
        },
        {
         "name": "Cycle_Index",
         "rawType": "float64",
         "type": "float"
        },
        {
         "name": "Cell_Temperature (C)",
         "rawType": "float64",
         "type": "float"
        },
        {
         "name": "SOH_discharge",
         "rawType": "float64",
         "type": "float"
        }
       ],
       "ref": "bbbd3d0c-6967-4ca7-9403-31bc314744cd",
       "rows": [
        [
         "67",
         "68.0",
         null,
         "0.7903703703703703"
        ],
        [
         "90",
         "91.0",
         null,
         "0.7814814814814813"
        ],
        [
         "104",
         "105.0",
         null,
         "0.9222222222222223"
        ],
        [
         "114",
         "115.0",
         null,
         "0.9207407407407407"
        ],
        [
         "117",
         "118.0",
         null,
         "0.9207407407407407"
        ],
        [
         "118",
         "119.0",
         null,
         "0.9192592592592592"
        ],
        [
         "119",
         "120.0",
         null,
         "0.9192592592592592"
        ],
        [
         "122",
         "123.0",
         null,
         "0.9207407407407407"
        ],
        [
         "123",
         "124.0",
         null,
         "0.9185185185185184"
        ],
        [
         "124",
         "125.0",
         null,
         "0.9185185185185184"
        ],
        [
         "126",
         "127.0",
         null,
         "0.9185185185185184"
        ],
        [
         "127",
         "128.0",
         null,
         "0.9177777777777778"
        ],
        [
         "128",
         "129.0",
         null,
         "0.917037037037037"
        ],
        [
         "129",
         "130.0",
         null,
         "0.9162962962962963"
        ],
        [
         "132",
         "133.0",
         null,
         "0.9185185185185184"
        ],
        [
         "133",
         "134.0",
         null,
         "0.7688888888888888"
        ],
        [
         "136",
         "137.0",
         null,
         "0.9177777777777778"
        ],
        [
         "137",
         "138.0",
         null,
         "0.9177777777777778"
        ],
        [
         "138",
         "139.0",
         null,
         "0.9177777777777778"
        ],
        [
         "139",
         "140.0",
         null,
         "0.9177777777777778"
        ],
        [
         "140",
         "141.0",
         null,
         "0.9177777777777778"
        ],
        [
         "141",
         "142.0",
         null,
         "0.9177777777777778"
        ],
        [
         "142",
         "143.0",
         null,
         "0.917037037037037"
        ],
        [
         "143",
         "144.0",
         null,
         "0.914074074074074"
        ],
        [
         "144",
         "145.0",
         null,
         "0.9133333333333333"
        ],
        [
         "147",
         "149.0",
         null,
         "0.9207407407407407"
        ],
        [
         "148",
         "150.0",
         null,
         "0.9192592592592592"
        ],
        [
         "149",
         "151.0",
         null,
         "0.9177777777777778"
        ],
        [
         "151",
         "153.0",
         null,
         "0.9199999999999999"
        ],
        [
         "152",
         "154.0",
         null,
         "0.9185185185185184"
        ],
        [
         "153",
         "155.0",
         null,
         "0.9177777777777778"
        ],
        [
         "154",
         "156.0",
         null,
         "0.917037037037037"
        ],
        [
         "156",
         "158.0",
         null,
         "0.9185185185185184"
        ],
        [
         "157",
         "159.0",
         null,
         "0.9177777777777778"
        ],
        [
         "158",
         "160.0",
         null,
         "0.9162962962962963"
        ],
        [
         "159",
         "161.0",
         null,
         "0.9155555555555555"
        ],
        [
         "161",
         "163.0",
         null,
         "0.7718518518518518"
        ],
        [
         "163",
         "165.0",
         null,
         "0.914074074074074"
        ],
        [
         "164",
         "166.0",
         null,
         "0.9125925925925925"
        ],
        [
         "165",
         "167.0",
         null,
         "0.9125925925925925"
        ],
        [
         "167",
         "169.0",
         null,
         "0.9133333333333333"
        ],
        [
         "168",
         "170.0",
         null,
         "0.9133333333333333"
        ],
        [
         "169",
         "171.0",
         null,
         "0.9118518518518519"
        ],
        [
         "172",
         "174.0",
         null,
         "0.9125925925925925"
        ],
        [
         "173",
         "175.0",
         null,
         "0.911111111111111"
        ],
        [
         "174",
         "176.0",
         null,
         "0.9096296296296296"
        ],
        [
         "177",
         "179.0",
         null,
         "0.911111111111111"
        ],
        [
         "178",
         "180.0",
         null,
         "0.9103703703703704"
        ],
        [
         "179",
         "181.0",
         null,
         "0.9074074074074074"
        ],
        [
         "181",
         "183.0",
         null,
         "0.762962962962963"
        ]
       ],
       "shape": {
        "columns": 3,
        "rows": 870
       }
      },
      "text/html": [
       "<div>\n",
       "<style scoped>\n",
       "    .dataframe tbody tr th:only-of-type {\n",
       "        vertical-align: middle;\n",
       "    }\n",
       "\n",
       "    .dataframe tbody tr th {\n",
       "        vertical-align: top;\n",
       "    }\n",
       "\n",
       "    .dataframe thead th {\n",
       "        text-align: right;\n",
       "    }\n",
       "</style>\n",
       "<table border=\"1\" class=\"dataframe\">\n",
       "  <thead>\n",
       "    <tr style=\"text-align: right;\">\n",
       "      <th></th>\n",
       "      <th>Cycle_Index</th>\n",
       "      <th>Cell_Temperature (C)</th>\n",
       "      <th>SOH_discharge</th>\n",
       "    </tr>\n",
       "  </thead>\n",
       "  <tbody>\n",
       "    <tr>\n",
       "      <th>67</th>\n",
       "      <td>68.0</td>\n",
       "      <td>NaN</td>\n",
       "      <td>0.790370</td>\n",
       "    </tr>\n",
       "    <tr>\n",
       "      <th>90</th>\n",
       "      <td>91.0</td>\n",
       "      <td>NaN</td>\n",
       "      <td>0.781481</td>\n",
       "    </tr>\n",
       "    <tr>\n",
       "      <th>104</th>\n",
       "      <td>105.0</td>\n",
       "      <td>NaN</td>\n",
       "      <td>0.922222</td>\n",
       "    </tr>\n",
       "    <tr>\n",
       "      <th>114</th>\n",
       "      <td>115.0</td>\n",
       "      <td>NaN</td>\n",
       "      <td>0.920741</td>\n",
       "    </tr>\n",
       "    <tr>\n",
       "      <th>117</th>\n",
       "      <td>118.0</td>\n",
       "      <td>NaN</td>\n",
       "      <td>0.920741</td>\n",
       "    </tr>\n",
       "    <tr>\n",
       "      <th>...</th>\n",
       "      <td>...</td>\n",
       "      <td>...</td>\n",
       "      <td>...</td>\n",
       "    </tr>\n",
       "    <tr>\n",
       "      <th>1942</th>\n",
       "      <td>1951.0</td>\n",
       "      <td>NaN</td>\n",
       "      <td>0.665185</td>\n",
       "    </tr>\n",
       "    <tr>\n",
       "      <th>1946</th>\n",
       "      <td>1955.0</td>\n",
       "      <td>NaN</td>\n",
       "      <td>0.627407</td>\n",
       "    </tr>\n",
       "    <tr>\n",
       "      <th>1991</th>\n",
       "      <td>2000.0</td>\n",
       "      <td>NaN</td>\n",
       "      <td>0.665926</td>\n",
       "    </tr>\n",
       "    <tr>\n",
       "      <th>1996</th>\n",
       "      <td>2005.0</td>\n",
       "      <td>NaN</td>\n",
       "      <td>0.680741</td>\n",
       "    </tr>\n",
       "    <tr>\n",
       "      <th>1997</th>\n",
       "      <td>2006.0</td>\n",
       "      <td>NaN</td>\n",
       "      <td>0.675556</td>\n",
       "    </tr>\n",
       "  </tbody>\n",
       "</table>\n",
       "<p>870 rows × 3 columns</p>\n",
       "</div>"
      ],
      "text/plain": [
       "      Cycle_Index  Cell_Temperature (C)  SOH_discharge\n",
       "67           68.0                   NaN       0.790370\n",
       "90           91.0                   NaN       0.781481\n",
       "104         105.0                   NaN       0.922222\n",
       "114         115.0                   NaN       0.920741\n",
       "117         118.0                   NaN       0.920741\n",
       "...           ...                   ...            ...\n",
       "1942       1951.0                   NaN       0.665185\n",
       "1946       1955.0                   NaN       0.627407\n",
       "1991       2000.0                   NaN       0.665926\n",
       "1996       2005.0                   NaN       0.680741\n",
       "1997       2006.0                   NaN       0.675556\n",
       "\n",
       "[870 rows x 3 columns]"
      ]
     },
     "metadata": {},
     "output_type": "display_data"
    },
    {
     "data": {
      "application/vnd.microsoft.datawrangler.viewer.v0+json": {
       "columns": [
        {
         "name": "index",
         "rawType": "int64",
         "type": "integer"
        },
        {
         "name": "Cycle_Index",
         "rawType": "float64",
         "type": "float"
        },
        {
         "name": "Cell_Temperature (C)",
         "rawType": "float64",
         "type": "float"
        },
        {
         "name": "SOH_discharge",
         "rawType": "float64",
         "type": "float"
        }
       ],
       "ref": "b01c87d9-daf9-474b-b90a-863730064df5",
       "rows": [
        [
         "0",
         "1.0",
         null,
         "0.9392592592592592"
        ],
        [
         "2",
         "3.0",
         null,
         "0.9399999999999998"
        ],
        [
         "3",
         "4.0",
         null,
         "0.9399999999999998"
        ],
        [
         "4",
         "5.0",
         null,
         "0.9392592592592592"
        ],
        [
         "5",
         "6.0",
         null,
         "0.9392592592592592"
        ],
        [
         "6",
         "7.0",
         null,
         "0.9385185185185184"
        ],
        [
         "7",
         "8.0",
         null,
         "0.9385185185185184"
        ],
        [
         "8",
         "9.0",
         null,
         "0.9377777777777777"
        ],
        [
         "10",
         "11.0",
         null,
         "0.9385185185185184"
        ],
        [
         "11",
         "12.0",
         null,
         "0.9377777777777777"
        ],
        [
         "12",
         "13.0",
         null,
         "0.9377777777777777"
        ],
        [
         "13",
         "14.0",
         null,
         "0.9377777777777777"
        ],
        [
         "15",
         "16.0",
         null,
         "0.9385185185185184"
        ],
        [
         "16",
         "17.0",
         null,
         "0.9370370370370369"
        ],
        [
         "17",
         "18.0",
         null,
         "0.9362962962962963"
        ],
        [
         "18",
         "19.0",
         null,
         "0.7859259259259258"
        ],
        [
         "20",
         "21.0",
         null,
         "0.9355555555555555"
        ],
        [
         "21",
         "22.0",
         null,
         "0.9355555555555555"
        ],
        [
         "23",
         "24.0",
         null,
         "0.9355555555555555"
        ],
        [
         "24",
         "25.0",
         null,
         "0.9355555555555555"
        ],
        [
         "25",
         "26.0",
         null,
         "0.9348148148148148"
        ],
        [
         "26",
         "27.0",
         null,
         "0.934074074074074"
        ],
        [
         "27",
         "28.0",
         null,
         "0.9333333333333332"
        ],
        [
         "29",
         "30.0",
         null,
         "0.9348148148148148"
        ],
        [
         "30",
         "31.0",
         null,
         "0.9348148148148148"
        ],
        [
         "31",
         "32.0",
         null,
         "0.934074074074074"
        ],
        [
         "32",
         "33.0",
         null,
         "0.934074074074074"
        ],
        [
         "33",
         "34.0",
         null,
         "0.9333333333333332"
        ],
        [
         "34",
         "35.0",
         null,
         "0.9333333333333332"
        ],
        [
         "35",
         "36.0",
         null,
         "0.9333333333333332"
        ],
        [
         "36",
         "37.0",
         null,
         "0.9325925925925924"
        ],
        [
         "37",
         "38.0",
         null,
         "0.9318518518518518"
        ],
        [
         "38",
         "39.0",
         null,
         "0.9318518518518518"
        ],
        [
         "40",
         "41.0",
         null,
         "0.9318518518518518"
        ],
        [
         "41",
         "42.0",
         null,
         "0.9318518518518518"
        ],
        [
         "42",
         "43.0",
         null,
         "0.931111111111111"
        ],
        [
         "45",
         "46.0",
         null,
         "0.9325925925925924"
        ],
        [
         "46",
         "47.0",
         null,
         "0.9325925925925924"
        ],
        [
         "47",
         "48.0",
         null,
         "0.9325925925925924"
        ],
        [
         "49",
         "50.0",
         null,
         "0.9333333333333332"
        ],
        [
         "51",
         "52.0",
         null,
         "0.9422222222222222"
        ],
        [
         "52",
         "53.0",
         null,
         "0.9407407407407407"
        ],
        [
         "53",
         "54.0",
         null,
         "0.9392592592592592"
        ],
        [
         "54",
         "55.0",
         null,
         "0.9392592592592592"
        ],
        [
         "56",
         "57.0",
         null,
         "0.9385185185185184"
        ],
        [
         "57",
         "58.0",
         null,
         "0.9370370370370369"
        ],
        [
         "58",
         "59.0",
         null,
         "0.9370370370370369"
        ],
        [
         "60",
         "61.0",
         null,
         "0.9377777777777777"
        ],
        [
         "61",
         "62.0",
         null,
         "0.9362962962962963"
        ],
        [
         "62",
         "63.0",
         null,
         "0.9362962962962963"
        ]
       ],
       "shape": {
        "columns": 3,
        "rows": 1141
       }
      },
      "text/html": [
       "<div>\n",
       "<style scoped>\n",
       "    .dataframe tbody tr th:only-of-type {\n",
       "        vertical-align: middle;\n",
       "    }\n",
       "\n",
       "    .dataframe tbody tr th {\n",
       "        vertical-align: top;\n",
       "    }\n",
       "\n",
       "    .dataframe thead th {\n",
       "        text-align: right;\n",
       "    }\n",
       "</style>\n",
       "<table border=\"1\" class=\"dataframe\">\n",
       "  <thead>\n",
       "    <tr style=\"text-align: right;\">\n",
       "      <th></th>\n",
       "      <th>Cycle_Index</th>\n",
       "      <th>Cell_Temperature (C)</th>\n",
       "      <th>SOH_discharge</th>\n",
       "    </tr>\n",
       "  </thead>\n",
       "  <tbody>\n",
       "    <tr>\n",
       "      <th>0</th>\n",
       "      <td>1.0</td>\n",
       "      <td>NaN</td>\n",
       "      <td>0.939259</td>\n",
       "    </tr>\n",
       "    <tr>\n",
       "      <th>2</th>\n",
       "      <td>3.0</td>\n",
       "      <td>NaN</td>\n",
       "      <td>0.940000</td>\n",
       "    </tr>\n",
       "    <tr>\n",
       "      <th>3</th>\n",
       "      <td>4.0</td>\n",
       "      <td>NaN</td>\n",
       "      <td>0.940000</td>\n",
       "    </tr>\n",
       "    <tr>\n",
       "      <th>4</th>\n",
       "      <td>5.0</td>\n",
       "      <td>NaN</td>\n",
       "      <td>0.939259</td>\n",
       "    </tr>\n",
       "    <tr>\n",
       "      <th>5</th>\n",
       "      <td>6.0</td>\n",
       "      <td>NaN</td>\n",
       "      <td>0.939259</td>\n",
       "    </tr>\n",
       "    <tr>\n",
       "      <th>...</th>\n",
       "      <td>...</td>\n",
       "      <td>...</td>\n",
       "      <td>...</td>\n",
       "    </tr>\n",
       "    <tr>\n",
       "      <th>1999</th>\n",
       "      <td>2008.0</td>\n",
       "      <td>NaN</td>\n",
       "      <td>0.617037</td>\n",
       "    </tr>\n",
       "    <tr>\n",
       "      <th>2000</th>\n",
       "      <td>2009.0</td>\n",
       "      <td>NaN</td>\n",
       "      <td>0.608889</td>\n",
       "    </tr>\n",
       "    <tr>\n",
       "      <th>2001</th>\n",
       "      <td>2010.0</td>\n",
       "      <td>NaN</td>\n",
       "      <td>0.605185</td>\n",
       "    </tr>\n",
       "    <tr>\n",
       "      <th>2005</th>\n",
       "      <td>2014.0</td>\n",
       "      <td>NaN</td>\n",
       "      <td>0.617037</td>\n",
       "    </tr>\n",
       "    <tr>\n",
       "      <th>2006</th>\n",
       "      <td>2015.0</td>\n",
       "      <td>NaN</td>\n",
       "      <td>0.612593</td>\n",
       "    </tr>\n",
       "  </tbody>\n",
       "</table>\n",
       "<p>1141 rows × 3 columns</p>\n",
       "</div>"
      ],
      "text/plain": [
       "      Cycle_Index  Cell_Temperature (C)  SOH_discharge\n",
       "0             1.0                   NaN       0.939259\n",
       "2             3.0                   NaN       0.940000\n",
       "3             4.0                   NaN       0.940000\n",
       "4             5.0                   NaN       0.939259\n",
       "5             6.0                   NaN       0.939259\n",
       "...           ...                   ...            ...\n",
       "1999       2008.0                   NaN       0.617037\n",
       "2000       2009.0                   NaN       0.608889\n",
       "2001       2010.0                   NaN       0.605185\n",
       "2005       2014.0                   NaN       0.617037\n",
       "2006       2015.0                   NaN       0.612593\n",
       "\n",
       "[1141 rows x 3 columns]"
      ]
     },
     "metadata": {},
     "output_type": "display_data"
    },
    {
     "data": {
      "application/vnd.microsoft.datawrangler.viewer.v0+json": {
       "columns": [
        {
         "name": "index",
         "rawType": "int64",
         "type": "integer"
        },
        {
         "name": "Cycle_Index",
         "rawType": "float64",
         "type": "float"
        },
        {
         "name": "Cell_Temperature (C)",
         "rawType": "float64",
         "type": "float"
        },
        {
         "name": "SOH_discharge",
         "rawType": "float64",
         "type": "float"
        }
       ],
       "ref": "5443be6c-c144-47be-896e-15e76a67ac0a",
       "rows": [
        [
         "0",
         "1.0",
         null,
         "0.9392592592592592"
        ],
        [
         "2",
         "3.0",
         null,
         "0.9399999999999998"
        ],
        [
         "3",
         "4.0",
         null,
         "0.9399999999999998"
        ],
        [
         "4",
         "5.0",
         null,
         "0.9392592592592592"
        ],
        [
         "5",
         "6.0",
         null,
         "0.9392592592592592"
        ],
        [
         "6",
         "7.0",
         null,
         "0.9385185185185184"
        ],
        [
         "7",
         "8.0",
         null,
         "0.9385185185185184"
        ],
        [
         "8",
         "9.0",
         null,
         "0.9377777777777777"
        ],
        [
         "10",
         "11.0",
         null,
         "0.9385185185185184"
        ],
        [
         "11",
         "12.0",
         null,
         "0.9377777777777777"
        ],
        [
         "12",
         "13.0",
         null,
         "0.9377777777777777"
        ],
        [
         "13",
         "14.0",
         null,
         "0.9377777777777777"
        ],
        [
         "15",
         "16.0",
         null,
         "0.9385185185185184"
        ],
        [
         "16",
         "17.0",
         null,
         "0.9370370370370369"
        ],
        [
         "20",
         "21.0",
         null,
         "0.9355555555555555"
        ],
        [
         "21",
         "22.0",
         null,
         "0.9355555555555555"
        ],
        [
         "23",
         "24.0",
         null,
         "0.9355555555555555"
        ],
        [
         "24",
         "25.0",
         null,
         "0.9355555555555555"
        ],
        [
         "25",
         "26.0",
         null,
         "0.9348148148148148"
        ],
        [
         "26",
         "27.0",
         null,
         "0.934074074074074"
        ],
        [
         "27",
         "28.0",
         null,
         "0.9333333333333332"
        ],
        [
         "29",
         "30.0",
         null,
         "0.9348148148148148"
        ],
        [
         "30",
         "31.0",
         null,
         "0.9348148148148148"
        ],
        [
         "31",
         "32.0",
         null,
         "0.934074074074074"
        ],
        [
         "32",
         "33.0",
         null,
         "0.934074074074074"
        ],
        [
         "33",
         "34.0",
         null,
         "0.9333333333333332"
        ],
        [
         "34",
         "35.0",
         null,
         "0.9333333333333332"
        ],
        [
         "35",
         "36.0",
         null,
         "0.9333333333333332"
        ],
        [
         "36",
         "37.0",
         null,
         "0.9325925925925924"
        ],
        [
         "37",
         "38.0",
         null,
         "0.9318518518518518"
        ],
        [
         "38",
         "39.0",
         null,
         "0.9318518518518518"
        ],
        [
         "40",
         "41.0",
         null,
         "0.9318518518518518"
        ],
        [
         "41",
         "42.0",
         null,
         "0.9318518518518518"
        ],
        [
         "42",
         "43.0",
         null,
         "0.931111111111111"
        ],
        [
         "45",
         "46.0",
         null,
         "0.9325925925925924"
        ],
        [
         "46",
         "47.0",
         null,
         "0.9325925925925924"
        ],
        [
         "47",
         "48.0",
         null,
         "0.9325925925925924"
        ],
        [
         "49",
         "50.0",
         null,
         "0.9333333333333332"
        ],
        [
         "51",
         "52.0",
         null,
         "0.9422222222222222"
        ],
        [
         "52",
         "53.0",
         null,
         "0.9407407407407407"
        ],
        [
         "53",
         "54.0",
         null,
         "0.9392592592592592"
        ],
        [
         "54",
         "55.0",
         null,
         "0.9392592592592592"
        ],
        [
         "56",
         "57.0",
         null,
         "0.9385185185185184"
        ],
        [
         "57",
         "58.0",
         null,
         "0.9370370370370369"
        ],
        [
         "58",
         "59.0",
         null,
         "0.9370370370370369"
        ],
        [
         "60",
         "61.0",
         null,
         "0.9377777777777777"
        ],
        [
         "61",
         "62.0",
         null,
         "0.9362962962962963"
        ],
        [
         "62",
         "63.0",
         null,
         "0.9362962962962963"
        ],
        [
         "63",
         "64.0",
         null,
         "0.9348148148148148"
        ],
        [
         "65",
         "66.0",
         null,
         "0.9362962962962963"
        ]
       ],
       "shape": {
        "columns": 3,
        "rows": 1030
       }
      },
      "text/html": [
       "<div>\n",
       "<style scoped>\n",
       "    .dataframe tbody tr th:only-of-type {\n",
       "        vertical-align: middle;\n",
       "    }\n",
       "\n",
       "    .dataframe tbody tr th {\n",
       "        vertical-align: top;\n",
       "    }\n",
       "\n",
       "    .dataframe thead th {\n",
       "        text-align: right;\n",
       "    }\n",
       "</style>\n",
       "<table border=\"1\" class=\"dataframe\">\n",
       "  <thead>\n",
       "    <tr style=\"text-align: right;\">\n",
       "      <th></th>\n",
       "      <th>Cycle_Index</th>\n",
       "      <th>Cell_Temperature (C)</th>\n",
       "      <th>SOH_discharge</th>\n",
       "    </tr>\n",
       "  </thead>\n",
       "  <tbody>\n",
       "    <tr>\n",
       "      <th>0</th>\n",
       "      <td>1.0</td>\n",
       "      <td>NaN</td>\n",
       "      <td>0.939259</td>\n",
       "    </tr>\n",
       "    <tr>\n",
       "      <th>2</th>\n",
       "      <td>3.0</td>\n",
       "      <td>NaN</td>\n",
       "      <td>0.940000</td>\n",
       "    </tr>\n",
       "    <tr>\n",
       "      <th>3</th>\n",
       "      <td>4.0</td>\n",
       "      <td>NaN</td>\n",
       "      <td>0.940000</td>\n",
       "    </tr>\n",
       "    <tr>\n",
       "      <th>4</th>\n",
       "      <td>5.0</td>\n",
       "      <td>NaN</td>\n",
       "      <td>0.939259</td>\n",
       "    </tr>\n",
       "    <tr>\n",
       "      <th>5</th>\n",
       "      <td>6.0</td>\n",
       "      <td>NaN</td>\n",
       "      <td>0.939259</td>\n",
       "    </tr>\n",
       "    <tr>\n",
       "      <th>...</th>\n",
       "      <td>...</td>\n",
       "      <td>...</td>\n",
       "      <td>...</td>\n",
       "    </tr>\n",
       "    <tr>\n",
       "      <th>1991</th>\n",
       "      <td>2000.0</td>\n",
       "      <td>NaN</td>\n",
       "      <td>0.665926</td>\n",
       "    </tr>\n",
       "    <tr>\n",
       "      <th>1992</th>\n",
       "      <td>2001.0</td>\n",
       "      <td>NaN</td>\n",
       "      <td>0.661481</td>\n",
       "    </tr>\n",
       "    <tr>\n",
       "      <th>1996</th>\n",
       "      <td>2005.0</td>\n",
       "      <td>NaN</td>\n",
       "      <td>0.680741</td>\n",
       "    </tr>\n",
       "    <tr>\n",
       "      <th>1997</th>\n",
       "      <td>2006.0</td>\n",
       "      <td>NaN</td>\n",
       "      <td>0.675556</td>\n",
       "    </tr>\n",
       "    <tr>\n",
       "      <th>1998</th>\n",
       "      <td>2007.0</td>\n",
       "      <td>NaN</td>\n",
       "      <td>0.651852</td>\n",
       "    </tr>\n",
       "  </tbody>\n",
       "</table>\n",
       "<p>1030 rows × 3 columns</p>\n",
       "</div>"
      ],
      "text/plain": [
       "      Cycle_Index  Cell_Temperature (C)  SOH_discharge\n",
       "0             1.0                   NaN       0.939259\n",
       "2             3.0                   NaN       0.940000\n",
       "3             4.0                   NaN       0.940000\n",
       "4             5.0                   NaN       0.939259\n",
       "5             6.0                   NaN       0.939259\n",
       "...           ...                   ...            ...\n",
       "1991       2000.0                   NaN       0.665926\n",
       "1992       2001.0                   NaN       0.661481\n",
       "1996       2005.0                   NaN       0.680741\n",
       "1997       2006.0                   NaN       0.675556\n",
       "1998       2007.0                   NaN       0.651852\n",
       "\n",
       "[1030 rows x 3 columns]"
      ]
     },
     "metadata": {},
     "output_type": "display_data"
    }
   ],
   "source": [
    "# Remoção de outliers e valores crescentes\n",
    "df_IsolForest = ensure_non_increasing(df_grouped, 'SOH_discharge')\n",
    "df_IsolForest = rmv_outliers_isolation_forest(df_IsolForest, 'SOH_discharge')\n",
    "\n",
    "df_IQR = ensure_non_increasing(df_grouped, 'SOH_discharge')\n",
    "df_IQR = rmv_outliers_iqr(df_IQR, 'SOH_discharge')\n",
    "\n",
    "df_ZScore = ensure_non_increasing(df_grouped, 'SOH_discharge')\n",
    "df_ZScore = rmv_outliers_zscore(df_ZScore, 'SOH_discharge', threshold=1.5)\n",
    "\n",
    "df_ZScore = rmv_sharp_jump(df_ZScore, 'SOH_discharge', threshold=0.05, repeat=2) # 5% de SOH\n",
    "\n",
    "display(df_grouped)\n",
    "display(df_IsolForest)\n",
    "display(df_IQR)\n",
    "display(df_ZScore)"
   ]
  },
  {
   "cell_type": "markdown",
   "metadata": {},
   "source": [
    "### [numpy.interp() parameters](https://numpy.org/doc/2.1/reference/generated/numpy.interp.html):\n",
    "- `x`: _array_like_ . The x-coordinates at which to evaluate the interpolated values.\n",
    "\n",
    "- `xp`: _1-D sequence of floats_. The x-coordinates of the data points, must be increasing if argument period is not specified. Otherwise, xp is internally sorted after normalizing the periodic boundaries with xp = xp % period.\n",
    "\n",
    "- `fp`: _1-D sequence of float or complex_. The y-coordinates of the data points, same length as xp.\n",
    "\n",
    "Returns the one-dimensional piecewise linear interpolant to a function with given discrete data points (xp, fp), evaluated at x:\n",
    "- `y`: float or complex (corresponding to fp) or ndarray. The interpolated values, same shape as x."
   ]
  },
  {
   "cell_type": "code",
   "execution_count": 144,
   "metadata": {},
   "outputs": [],
   "source": [
    "def interpolate_soh(df: pd.DataFrame, soh_column: str, cycles_column: str) -> pd.DataFrame:\n",
    "    # Define thresholds de interesse (99%, 98%, ...)\n",
    "    thresholds = np.arange(1.00, 0.00, -0.01)\n",
    "\n",
    "    soh = df[soh_column].values\n",
    "    cycles = df[cycles_column].values\n",
    "\n",
    "    # Inverte para que fique crescente\n",
    "    xp = soh[::-1]\n",
    "    fp = cycles[::-1]\n",
    "\n",
    "    valid = (thresholds >= xp.min()) & (thresholds <= xp.max())\n",
    "    thresholds = thresholds[valid]\n",
    "\n",
    "    # np.interp(x, xp, fp) assume xp crescente e retorna y para cada x em thresholds\n",
    "    estimated_cycles = np.interp(thresholds, xp, fp)\n",
    "    print(f'Número de thresholds válidos: {len(thresholds)}')\n",
    "    df_estimates = pd.DataFrame({\n",
    "        'SOH_threshold': thresholds,\n",
    "        'estimated_cycle': estimated_cycles\n",
    "    })\n",
    "\n",
    "    # Cast para float com 2 casas decimais\n",
    "    df_estimates['SOH_threshold'] = df_estimates['SOH_threshold'].astype(float).round(2)\n",
    "\n",
    "    # Queda de ciclos (a cada 1%)\n",
    "    df_estimates['NCD1%'] = df_estimates['estimated_cycle'].diff()\n",
    "    \n",
    "    return df_estimates"
   ]
  },
  {
   "cell_type": "code",
   "execution_count": 145,
   "metadata": {},
   "outputs": [
    {
     "name": "stdout",
     "output_type": "stream",
     "text": [
      "Número de thresholds válidos: 94\n",
      "Número de thresholds válidos: 30\n",
      "Número de thresholds válidos: 46\n",
      "Número de thresholds válidos: 32\n"
     ]
    }
   ],
   "source": [
    "df_grouped_estimates     = interpolate_soh(df_grouped, 'SOH_discharge', 'Cycle_Index')\n",
    "df_IsolForest_estimates  = interpolate_soh(df_IsolForest, 'SOH_discharge', 'Cycle_Index')\n",
    "df_IQR_estimates         = interpolate_soh(df_IQR, 'SOH_discharge', 'Cycle_Index')\n",
    "df_ZScore_estimates      = interpolate_soh(df_ZScore, 'SOH_discharge', 'Cycle_Index')"
   ]
  },
  {
   "cell_type": "code",
   "execution_count": 146,
   "metadata": {},
   "outputs": [
    {
     "data": {
      "image/png": "[encoded data removed]",
      "text/plain": [
       "<Figure size 2500x1500 with 4 Axes>"
      ]
     },
     "metadata": {},
     "output_type": "display_data"
    }
   ],
   "source": [
    "# Crie a figura com 4 subplots em um layout 2x2\n",
    "fig, axs = plt.subplots(2, 2, figsize=(25, 15))\n",
    "\n",
    "# Título geral para o plot\n",
    "fig.suptitle('Comparativo de Abordagens de Limpeza de Dados', fontsize=20)\n",
    "\n",
    "# Eixo Y compartilhado para padronizar os gráficos\n",
    "for ax in axs.flat:\n",
    "    ax.set_ylim(40, 105) # SOH in percentage\n",
    "\n",
    "# Configuração de Ticks do Eixo X\n",
    "xmin = df_grouped[\"Cycle_Index\"].min()\n",
    "xmax = df_grouped[\"Cycle_Index\"].max()\n",
    "major_ticks = np.arange(0, xmax + 1, 200)\n",
    "minor_ticks = np.arange(0, xmax + 1, 50)\n",
    "\n",
    "# 1. Plot para \"Dados Originais\"\n",
    "axs[0, 0].plot(df_grouped[\"Cycle_Index\"], df_grouped[\"SOH_discharge\"] * 100, label=\"Dados Originais\", color='gray', linewidth=1.5, zorder=1)\n",
    "axs[0, 0].scatter(df_grouped_estimates[\"estimated_cycle\"], df_grouped_estimates[\"SOH_threshold\"] * 100, label=\"Queda de 1%\", color='gray', marker='d', s=100, zorder=3)\n",
    "axs[0, 0].set_title(\"1. Dados Originais\", fontsize=16)\n",
    "axs[0, 0].set_ylabel(\"SOH (%)\", fontsize=12)\n",
    "\n",
    "# 2. Plot para \"Isolation Forest\"\n",
    "axs[0, 1].plot(df_IsolForest[\"Cycle_Index\"], df_IsolForest[\"SOH_discharge\"] * 100, label=\"Limpeza com Isolation Forest\", color='darkorange', linewidth=2.5, zorder=2)\n",
    "axs[0, 1].scatter(df_IsolForest_estimates[\"estimated_cycle\"], df_IsolForest_estimates[\"SOH_threshold\"] * 100, label=\"Queda de 1%\", color='darkorange', marker='d', s=100, zorder=3)\n",
    "axs[0, 1].set_title(\"2. Limpeza com Isolation Forest\", fontsize=16)\n",
    "\n",
    "# 3. Plot para \"IQR\"\n",
    "axs[1, 0].plot(df_IQR[\"Cycle_Index\"], df_IQR[\"SOH_discharge\"] * 100, label=\"Limpeza com IQR\", color='skyblue', linewidth=2.5, zorder=2)\n",
    "axs[1, 0].scatter(df_IQR_estimates[\"estimated_cycle\"], df_IQR_estimates[\"SOH_threshold\"] * 100, label=\"Queda de 1%\", color='skyblue', marker='d', s=100, zorder=3)\n",
    "axs[1, 0].set_title(\"3. Limpeza com IQR\", fontsize=16)\n",
    "axs[1, 0].set_xlabel(\"Índice de Ciclo\", fontsize=12)\n",
    "axs[1, 0].set_ylabel(\"SOH (%)\", fontsize=12)\n",
    "\n",
    "# 4. Plot para \"Z-Score\"\n",
    "axs[1, 1].plot(df_ZScore[\"Cycle_Index\"], df_ZScore[\"SOH_discharge\"] * 100, label=\"Limpeza com Z-Score\", color='forestgreen', linewidth=2.5, zorder=2)\n",
    "axs[1, 1].scatter(df_ZScore_estimates[\"estimated_cycle\"], df_ZScore_estimates[\"SOH_threshold\"] * 100, label=\"Queda de 1%\", color='forestgreen', marker='d', s=100, zorder=3)\n",
    "axs[1, 1].set_title(\"4. Limpeza com Z-Score\", fontsize=16)\n",
    "axs[1, 1].set_xlabel(\"Índice de Ciclo\", fontsize=12)\n",
    "\n",
    "# Adicione grids, ticks e legendas para cada subplot\n",
    "for ax in axs.flat:\n",
    "    ax.set_xticks(major_ticks)\n",
    "    ax.set_xticks(minor_ticks, minor=True)\n",
    "    ax.grid(which='major', linestyle='-', linewidth=1, alpha=0.9)\n",
    "    ax.grid(which='minor', linestyle='--', linewidth=0.5, alpha=0.7)\n",
    "    ax.legend(loc='best', fontsize=10)\n",
    "\n",
    "plt.tight_layout(rect=[0, 0, 1, 0.96])\n",
    "plt.show()\n"
   ]
  },
  {
   "cell_type": "markdown",
   "metadata": {},
   "source": [
    "## Z-score com ensure_non_decreasing e rmv_sharp_jump é o escolhido"
   ]
  },
  {
   "cell_type": "code",
   "execution_count": 147,
   "metadata": {},
   "outputs": [
    {
     "name": "stdout",
     "output_type": "stream",
     "text": [
      "Número de NCD1%: 28\n",
      "Média: 42.49, Desvio-padrão: 41.12\n"
     ]
    },
    {
     "data": {
      "image/png": "[encoded data removed]",
      "text/plain": [
       "<Figure size 1200x200 with 1 Axes>"
      ]
     },
     "metadata": {},
     "output_type": "display_data"
    }
   ],
   "source": [
    "df_ZScore_estimates = rmv_outliers_iqr(df_ZScore_estimates, 'NCD1%')\n",
    "\n",
    "data = df_ZScore_estimates[\"NCD1%\"].dropna().values\n",
    "print(f'Número de NCD1%: {len(data)}')\n",
    "\n",
    "mean = np.mean(data)\n",
    "std  = np.std(data, ddof=1)\n",
    "print(f'Média: {mean:.2f}, Desvio-padrão: {std:.2f}')\n",
    "\n",
    "# Seleciona a cor padrão 'C0' do matplotlib (primeira cor)\n",
    "default_color = plt.rcParams['axes.prop_cycle'].by_key()['color'][0]\n",
    "fig, ax = plt.subplots(figsize=(12, 2))\n",
    "\n",
    "sns.boxplot(\n",
    "    x=data,                   # valores no eixo x\n",
    "    y=np.zeros_like(data),    # posição 0 no eixo y\n",
    "    ax=ax,\n",
    "    orient='h',\n",
    "    linewidth=1,\n",
    "    zorder=2\n",
    ")\n",
    "\n",
    "# Deixa a face do boxplot semitransparente\n",
    "for patch in ax.patches:\n",
    "    if hasattr(patch, 'get_facecolor'):\n",
    "        r, g, b, a = patch.get_facecolor()\n",
    "        patch.set_facecolor((r, g, b, 0.3))  # alpha = 0.3\n",
    "\n",
    "# Sobreposição de pontos (scatter) com baixa opacidade\n",
    "sns.scatterplot(\n",
    "    x=data,\n",
    "    y=np.zeros_like(data),\n",
    "    ax=ax,\n",
    "    s=60,                     # tamanho dos pontos\n",
    "    color=default_color,      # mesma cor do boxplot\n",
    "    alpha=0.7,\n",
    "    zorder=1\n",
    ")\n",
    "\n",
    "# Remove os ticks do eixo y (não fazem sentido aqui)\n",
    "ax.set_yticks([])\n",
    "\n",
    "ax.set_xlabel(\"NCD1%\")\n",
    "ax.tick_params(which='major', labelsize=12)\n",
    "\n",
    "plt.title(\"Distribuição de NCD1%\", fontsize=18)\n",
    "plt.grid(True, linestyle='--', linewidth=0.5, alpha=0.7)\n",
    "\n",
    "plt.show()"
   ]
  },
  {
   "cell_type": "code",
   "execution_count": 148,
   "metadata": {},
   "outputs": [
    {
     "data": {
      "image/png": "[encoded data removed]",
      "text/plain": [
       "<Figure size 900x400 with 1 Axes>"
      ]
     },
     "metadata": {},
     "output_type": "display_data"
    }
   ],
   "source": [
    "data = np.sort(data)  # Garante que os dados estão ordenados\n",
    "n    = len(data)\n",
    "\n",
    "# Faz o fitting para encotnrar os parametros e calcula a funcao acumulada dos dados considerando comportamento normal\n",
    "mean, std = norm.fit(data)\n",
    "teo_norm  = norm.cdf(data, loc=mean, scale=std)\n",
    "\n",
    "plt.figure(figsize=(9, 4))\n",
    "\n",
    "# Probabilidade acumulada empírica (1/n, 2/n, ..., 1)\n",
    "cdf_emp = np.arange(0, n)/(n-1)\n",
    "plt.plot(data, cdf_emp, marker='o', linestyle='-', label=\"CDF NCD1%\", zorder=3, alpha=0.7)\n",
    "\n",
    "# Função acumulada da normal (teórica)\n",
    "plt.plot(data, teo_norm, linestyle='--', label=f\"CDF Normal fit\\n(μ={mean:.2f}, σ={std:.2f})\")\n",
    "\n",
    "plt.xlabel(\"NCD1\")\n",
    "plt.ylabel(\"Probabilidade acumulada\")\n",
    "plt.title(\"NCD1% e Curva Normal aproximada\")\n",
    "plt.legend()\n",
    "plt.grid(True, linestyle='--', linewidth=0.5, alpha=0.7)\n",
    "\n",
    "plt.show()\n"
   ]
  },
  {
   "cell_type": "markdown",
   "metadata": {},
   "source": [
    "Teste de Kolmogorov–Smirnov (KS) para verificar formalmente se o conjunto de dados de NCD1% (`data`) segue a distribuição Normal com os parametros encontrados no método de fitting\n",
    "\n",
    "De acordo com a [documentação de **kstest**](https://docs.scipy.org/doc/scipy/reference/generated/scipy.stats.kstest.html):\n",
    "- ``rvs=data``\n",
    "    - Array de observações ordenadas\n",
    "- ``cdf='norm'`` \n",
    "    - Especifica que a distribuição teórica é a de uma normal\n",
    "- ``args=(mean, std)`` \n",
    "    - Parâmetros (μ, σ) da normal teórica\n",
    "\n",
    "Retorna:\n",
    "\n",
    "- ``D (statistic) `` \n",
    "    - Representa a maior diferença absoluta entre aa curva dados e a CDF da Normal teórica\n",
    "    - Quanto menor, mais próximo o ajuste está dos dados observados\n",
    "\n",
    "- ``p-value``\n",
    "    - Probabilidade de observar uma estatística \\( D \\) igual ou mais extrema sob a suposição de que os dados vêm de uma Normal\n",
    "    - **Valores altos (> alpha) indicam falha em rejeitar a hipótese de normalidade**. \n",
    "    - Valores baixos (< alpha) indicam evidência contra a hipótese"
   ]
  },
  {
   "cell_type": "code",
   "execution_count": 149,
   "metadata": {},
   "outputs": [
    {
     "name": "stdout",
     "output_type": "stream",
     "text": [
      "KS statistic: 0.1464\n",
      "p-value: 0.5378\n",
      "alpha = 0.05\n",
      "Hipótese aceita.\n"
     ]
    }
   ],
   "source": [
    "statistic, p_value = kstest(rvs=data, cdf='norm', args=(mean, std))\n",
    "\n",
    "print(f\"KS statistic: {statistic:.4f}\")\n",
    "print(f\"p-value: {p_value:.4f}\")\n",
    "\n",
    "alpha = 0.05\n",
    "print(f'alpha = {alpha}')\n",
    "if p_value < alpha: print(f\"Hipótese rejeitada.\")\n",
    "else: print(f\"Hipótese aceita.\")"
   ]
  }
 ],
 "metadata": {
  "kernelspec": {
   "display_name": "Python 3",
   "language": "python",
   "name": "python3"
  },
  "language_info": {
   "codemirror_mode": {
    "name": "ipython",
    "version": 3
   },
   "file_extension": ".py",
   "mimetype": "text/x-python",
   "name": "python",
   "nbconvert_exporter": "python",
   "pygments_lexer": "ipython3",
   "version": "3.13.7"
  }
 },
 "nbformat": 4,
 "nbformat_minor": 2
}
