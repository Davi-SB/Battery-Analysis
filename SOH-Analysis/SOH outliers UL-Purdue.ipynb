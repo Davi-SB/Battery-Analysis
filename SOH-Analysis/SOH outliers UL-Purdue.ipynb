{
 "cells": [
  {
   "cell_type": "code",
   "execution_count": 18,
   "metadata": {},
   "outputs": [],
   "source": [
    "import numpy as np\n",
    "import pandas as pd\n",
    "import seaborn as sns\n",
    "import matplotlib.pyplot as plt\n",
    "from IPython.display import display\n",
    "from scipy.stats import norm, kstest, zscore\n",
    "from sklearn.ensemble import IsolationForest\n"
   ]
  },
  {
   "cell_type": "markdown",
   "metadata": {},
   "source": [
    "# UL-PURDUE"
   ]
  },
  {
   "cell_type": "markdown",
   "metadata": {},
   "source": [
    "## Limpeza e preparação"
   ]
  },
  {
   "cell_type": "markdown",
   "metadata": {},
   "source": [
    "- Corrente negativa --> descarga\n",
    "- Corrente positiva --> carga"
   ]
  },
  {
   "cell_type": "code",
   "execution_count": 19,
   "metadata": {},
   "outputs": [
    {
     "data": {
      "application/vnd.microsoft.datawrangler.viewer.v0+json": {
       "columns": [
        {
         "name": "index",
         "rawType": "int64",
         "type": "integer"
        },
        {
         "name": "Cycle_Index",
         "rawType": "float64",
         "type": "float"
        },
        {
         "name": "Test_Time (s)",
         "rawType": "float64",
         "type": "float"
        },
        {
         "name": "Current (A)",
         "rawType": "float64",
         "type": "float"
        },
        {
         "name": "Voltage (V)",
         "rawType": "float64",
         "type": "float"
        },
        {
         "name": "Discharge_Capacity (Ah)",
         "rawType": "float64",
         "type": "float"
        },
        {
         "name": "Cell_Temperature (C)",
         "rawType": "float64",
         "type": "float"
        }
       ],
       "ref": "e9041700-1137-4cc3-9c14-63434045c078",
       "rows": [
        [
         "3640",
         "1.0",
         "4736.728",
         "-3.298",
         "4.095",
         "0.0",
         null
        ],
        [
         "3641",
         "1.0",
         "4737.742",
         "-3.298",
         "4.092",
         "0.001",
         null
        ],
        [
         "3642",
         "1.0",
         "4738.756",
         "-3.299",
         "4.089",
         "0.002",
         null
        ],
        [
         "3643",
         "1.0",
         "4739.77",
         "-3.298",
         "4.087",
         "0.003",
         null
        ],
        [
         "3644",
         "1.0",
         "4740.784",
         "-3.299",
         "4.085",
         "0.004",
         null
        ],
        [
         "3645",
         "1.0",
         "4741.798",
         "-3.298",
         "4.084",
         "0.005",
         null
        ],
        [
         "3646",
         "1.0",
         "4742.812",
         "-3.299",
         "4.081",
         "0.006",
         null
        ],
        [
         "3647",
         "1.0",
         "4743.826",
         "-3.298",
         "4.08",
         "0.007",
         null
        ],
        [
         "3648",
         "1.0",
         "4744.84",
         "-3.299",
         "4.079",
         "0.008",
         null
        ],
        [
         "3649",
         "1.0",
         "4745.854",
         "-3.299",
         "4.077",
         "0.009",
         null
        ],
        [
         "3650",
         "1.0",
         "4746.869",
         "-3.298",
         "4.076",
         "0.01",
         null
        ],
        [
         "3651",
         "1.0",
         "4747.881",
         "-3.299",
         "4.074",
         "0.011",
         null
        ],
        [
         "3652",
         "1.0",
         "4748.896",
         "-3.299",
         "4.073",
         "0.012",
         null
        ],
        [
         "3653",
         "1.0",
         "4749.91",
         "-3.298",
         "4.072",
         "0.013",
         null
        ],
        [
         "3654",
         "1.0",
         "4750.924",
         "-3.298",
         "4.07",
         "0.013",
         null
        ],
        [
         "3655",
         "1.0",
         "4751.925",
         "-3.298",
         "4.069",
         "0.014",
         null
        ],
        [
         "3656",
         "1.0",
         "4752.936",
         "-3.298",
         "4.068",
         "0.015",
         null
        ],
        [
         "3657",
         "1.0",
         "4753.95",
         "-3.298",
         "4.067",
         "0.016",
         null
        ],
        [
         "3658",
         "1.0",
         "4754.964",
         "-3.298",
         "4.065",
         "0.017",
         null
        ],
        [
         "3659",
         "1.0",
         "4755.978",
         "-3.298",
         "4.064",
         "0.018",
         null
        ],
        [
         "3660",
         "1.0",
         "4756.992",
         "-3.299",
         "4.063",
         "0.019",
         null
        ],
        [
         "3661",
         "1.0",
         "4758.005",
         "-3.298",
         "4.062",
         "0.02",
         null
        ],
        [
         "3662",
         "1.0",
         "4759.019",
         "-3.299",
         "4.061",
         "0.021",
         null
        ],
        [
         "3663",
         "1.0",
         "4760.034",
         "-3.298",
         "4.06",
         "0.022",
         null
        ],
        [
         "3664",
         "1.0",
         "4761.048",
         "-3.299",
         "4.058",
         "0.023",
         null
        ],
        [
         "3665",
         "1.0",
         "4762.062",
         "-3.299",
         "4.057",
         "0.024",
         null
        ],
        [
         "3666",
         "1.0",
         "4763.076",
         "-3.298",
         "4.056",
         "0.025",
         null
        ],
        [
         "3667",
         "1.0",
         "4764.09",
         "-3.299",
         "4.055",
         "0.026",
         null
        ],
        [
         "3668",
         "1.0",
         "4765.104",
         "-3.299",
         "4.054",
         "0.026",
         null
        ],
        [
         "3669",
         "1.0",
         "4766.118",
         "-3.298",
         "4.053",
         "0.027",
         null
        ],
        [
         "3670",
         "1.0",
         "4767.132",
         "-3.299",
         "4.052",
         "0.028",
         null
        ],
        [
         "3671",
         "1.0",
         "4768.145",
         "-3.299",
         "4.051",
         "0.029",
         null
        ],
        [
         "3672",
         "1.0",
         "4769.16",
         "-3.298",
         "4.05",
         "0.03",
         null
        ],
        [
         "3673",
         "1.0",
         "4770.174",
         "-3.299",
         "4.049",
         "0.031",
         null
        ],
        [
         "3674",
         "1.0",
         "4771.188",
         "-3.299",
         "4.049",
         "0.032",
         null
        ],
        [
         "3675",
         "1.0",
         "4772.202",
         "-3.299",
         "4.047",
         "0.033",
         null
        ],
        [
         "3676",
         "1.0",
         "4773.216",
         "-3.299",
         "4.047",
         "0.034",
         null
        ],
        [
         "3677",
         "1.0",
         "4774.23",
         "-3.299",
         "4.046",
         "0.035",
         null
        ],
        [
         "3678",
         "1.0",
         "4775.243",
         "-3.298",
         "4.045",
         "0.036",
         null
        ],
        [
         "3679",
         "1.0",
         "4776.258",
         "-3.299",
         "4.044",
         "0.037",
         null
        ],
        [
         "3680",
         "1.0",
         "4777.272",
         "-3.298",
         "4.043",
         "0.038",
         null
        ],
        [
         "3681",
         "1.0",
         "4778.285",
         "-3.298",
         "4.042",
         "0.039",
         null
        ],
        [
         "3682",
         "1.0",
         "4779.3",
         "-3.299",
         "4.041",
         "0.039",
         null
        ],
        [
         "3683",
         "1.0",
         "4780.314",
         "-3.299",
         "4.04",
         "0.04",
         null
        ],
        [
         "3684",
         "1.0",
         "4781.327",
         "-3.298",
         "4.04",
         "0.041",
         null
        ],
        [
         "3685",
         "1.0",
         "4782.341",
         "-3.298",
         "4.039",
         "0.042",
         null
        ],
        [
         "3686",
         "1.0",
         "4783.356",
         "-3.298",
         "4.038",
         "0.043",
         null
        ],
        [
         "3687",
         "1.0",
         "4784.369",
         "-3.299",
         "4.037",
         "0.044",
         null
        ],
        [
         "3688",
         "1.0",
         "4785.384",
         "-3.298",
         "4.036",
         "0.045",
         null
        ],
        [
         "3689",
         "1.0",
         "4786.398",
         "-3.298",
         "4.035",
         "0.046",
         null
        ]
       ],
       "shape": {
        "columns": 6,
        "rows": 1469894
       }
      },
      "text/html": [
       "<div>\n",
       "<style scoped>\n",
       "    .dataframe tbody tr th:only-of-type {\n",
       "        vertical-align: middle;\n",
       "    }\n",
       "\n",
       "    .dataframe tbody tr th {\n",
       "        vertical-align: top;\n",
       "    }\n",
       "\n",
       "    .dataframe thead th {\n",
       "        text-align: right;\n",
       "    }\n",
       "</style>\n",
       "<table border=\"1\" class=\"dataframe\">\n",
       "  <thead>\n",
       "    <tr style=\"text-align: right;\">\n",
       "      <th></th>\n",
       "      <th>Cycle_Index</th>\n",
       "      <th>Test_Time (s)</th>\n",
       "      <th>Current (A)</th>\n",
       "      <th>Voltage (V)</th>\n",
       "      <th>Discharge_Capacity (Ah)</th>\n",
       "      <th>Cell_Temperature (C)</th>\n",
       "    </tr>\n",
       "  </thead>\n",
       "  <tbody>\n",
       "    <tr>\n",
       "      <th>3640</th>\n",
       "      <td>1.0</td>\n",
       "      <td>4736.728</td>\n",
       "      <td>-3.298</td>\n",
       "      <td>4.095</td>\n",
       "      <td>0.000</td>\n",
       "      <td>NaN</td>\n",
       "    </tr>\n",
       "    <tr>\n",
       "      <th>3641</th>\n",
       "      <td>1.0</td>\n",
       "      <td>4737.742</td>\n",
       "      <td>-3.298</td>\n",
       "      <td>4.092</td>\n",
       "      <td>0.001</td>\n",
       "      <td>NaN</td>\n",
       "    </tr>\n",
       "    <tr>\n",
       "      <th>3642</th>\n",
       "      <td>1.0</td>\n",
       "      <td>4738.756</td>\n",
       "      <td>-3.299</td>\n",
       "      <td>4.089</td>\n",
       "      <td>0.002</td>\n",
       "      <td>NaN</td>\n",
       "    </tr>\n",
       "    <tr>\n",
       "      <th>3643</th>\n",
       "      <td>1.0</td>\n",
       "      <td>4739.770</td>\n",
       "      <td>-3.298</td>\n",
       "      <td>4.087</td>\n",
       "      <td>0.003</td>\n",
       "      <td>NaN</td>\n",
       "    </tr>\n",
       "    <tr>\n",
       "      <th>3644</th>\n",
       "      <td>1.0</td>\n",
       "      <td>4740.784</td>\n",
       "      <td>-3.299</td>\n",
       "      <td>4.085</td>\n",
       "      <td>0.004</td>\n",
       "      <td>NaN</td>\n",
       "    </tr>\n",
       "    <tr>\n",
       "      <th>...</th>\n",
       "      <td>...</td>\n",
       "      <td>...</td>\n",
       "      <td>...</td>\n",
       "      <td>...</td>\n",
       "      <td>...</td>\n",
       "      <td>...</td>\n",
       "    </tr>\n",
       "    <tr>\n",
       "      <th>4304496</th>\n",
       "      <td>485.0</td>\n",
       "      <td>5513319.500</td>\n",
       "      <td>-3.299</td>\n",
       "      <td>2.726</td>\n",
       "      <td>3.009</td>\n",
       "      <td>NaN</td>\n",
       "    </tr>\n",
       "    <tr>\n",
       "      <th>4304497</th>\n",
       "      <td>485.0</td>\n",
       "      <td>5513320.514</td>\n",
       "      <td>-3.298</td>\n",
       "      <td>2.720</td>\n",
       "      <td>3.010</td>\n",
       "      <td>NaN</td>\n",
       "    </tr>\n",
       "    <tr>\n",
       "      <th>4304498</th>\n",
       "      <td>485.0</td>\n",
       "      <td>5513321.528</td>\n",
       "      <td>-3.299</td>\n",
       "      <td>2.713</td>\n",
       "      <td>3.011</td>\n",
       "      <td>NaN</td>\n",
       "    </tr>\n",
       "    <tr>\n",
       "      <th>4304499</th>\n",
       "      <td>485.0</td>\n",
       "      <td>5513322.543</td>\n",
       "      <td>-3.299</td>\n",
       "      <td>2.705</td>\n",
       "      <td>3.012</td>\n",
       "      <td>NaN</td>\n",
       "    </tr>\n",
       "    <tr>\n",
       "      <th>4304500</th>\n",
       "      <td>485.0</td>\n",
       "      <td>5513323.307</td>\n",
       "      <td>-3.299</td>\n",
       "      <td>2.700</td>\n",
       "      <td>3.012</td>\n",
       "      <td>NaN</td>\n",
       "    </tr>\n",
       "  </tbody>\n",
       "</table>\n",
       "<p>1469894 rows × 6 columns</p>\n",
       "</div>"
      ],
      "text/plain": [
       "         Cycle_Index  Test_Time (s)  Current (A)  Voltage (V)  \\\n",
       "3640             1.0       4736.728       -3.298        4.095   \n",
       "3641             1.0       4737.742       -3.298        4.092   \n",
       "3642             1.0       4738.756       -3.299        4.089   \n",
       "3643             1.0       4739.770       -3.298        4.087   \n",
       "3644             1.0       4740.784       -3.299        4.085   \n",
       "...              ...            ...          ...          ...   \n",
       "4304496        485.0    5513319.500       -3.299        2.726   \n",
       "4304497        485.0    5513320.514       -3.298        2.720   \n",
       "4304498        485.0    5513321.528       -3.299        2.713   \n",
       "4304499        485.0    5513322.543       -3.299        2.705   \n",
       "4304500        485.0    5513323.307       -3.299        2.700   \n",
       "\n",
       "         Discharge_Capacity (Ah)  Cell_Temperature (C)  \n",
       "3640                       0.000                   NaN  \n",
       "3641                       0.001                   NaN  \n",
       "3642                       0.002                   NaN  \n",
       "3643                       0.003                   NaN  \n",
       "3644                       0.004                   NaN  \n",
       "...                          ...                   ...  \n",
       "4304496                    3.009                   NaN  \n",
       "4304497                    3.010                   NaN  \n",
       "4304498                    3.011                   NaN  \n",
       "4304499                    3.012                   NaN  \n",
       "4304500                    3.012                   NaN  \n",
       "\n",
       "[1469894 rows x 6 columns]"
      ]
     },
     "metadata": {},
     "output_type": "display_data"
    },
    {
     "data": {
      "application/vnd.microsoft.datawrangler.viewer.v0+json": {
       "columns": [
        {
         "name": "index",
         "rawType": "object",
         "type": "string"
        },
        {
         "name": "Cycle_Index",
         "rawType": "float64",
         "type": "float"
        },
        {
         "name": "Test_Time (s)",
         "rawType": "float64",
         "type": "float"
        },
        {
         "name": "Current (A)",
         "rawType": "float64",
         "type": "float"
        },
        {
         "name": "Voltage (V)",
         "rawType": "float64",
         "type": "float"
        },
        {
         "name": "Discharge_Capacity (Ah)",
         "rawType": "float64",
         "type": "float"
        },
        {
         "name": "Cell_Temperature (C)",
         "rawType": "float64",
         "type": "float"
        }
       ],
       "ref": "35b0f701-4aaf-44c7-9529-4a3b345ad2aa",
       "rows": [
        [
         "count",
         "1469894.0",
         "1469894.0",
         "1469894.0",
         "1469894.0",
         "1469894.0",
         "0.0"
        ],
        [
         "mean",
         "246.91199433428534",
         "2825557.573852827",
         "-3.298848746916443",
         "3.595583525750833",
         "1.506342526740023",
         null
        ],
        [
         "std",
         "142.42584312379375",
         "1615842.1704211389",
         "0.010331465299617865",
         "0.24395191153478574",
         "0.8765028460947452",
         null
        ],
        [
         "min",
         "1.0",
         "4736.728",
         "-5.758",
         "2.699",
         "0.0",
         null
        ],
        [
         "25%",
         "110.0",
         "1279093.9734999998",
         "-3.299",
         "3.463",
         "0.75",
         null
        ],
        [
         "50%",
         "254.0",
         "2916530.2750000004",
         "-3.299",
         "3.612",
         "1.5",
         null
        ],
        [
         "75%",
         "370.0",
         "4214854.135500001",
         "-3.299",
         "3.759",
         "2.249",
         null
        ],
        [
         "max",
         "485.0",
         "5513323.307",
         "-0.001",
         "4.182",
         "3.207",
         null
        ]
       ],
       "shape": {
        "columns": 6,
        "rows": 8
       }
      },
      "text/html": [
       "<div>\n",
       "<style scoped>\n",
       "    .dataframe tbody tr th:only-of-type {\n",
       "        vertical-align: middle;\n",
       "    }\n",
       "\n",
       "    .dataframe tbody tr th {\n",
       "        vertical-align: top;\n",
       "    }\n",
       "\n",
       "    .dataframe thead th {\n",
       "        text-align: right;\n",
       "    }\n",
       "</style>\n",
       "<table border=\"1\" class=\"dataframe\">\n",
       "  <thead>\n",
       "    <tr style=\"text-align: right;\">\n",
       "      <th></th>\n",
       "      <th>Cycle_Index</th>\n",
       "      <th>Test_Time (s)</th>\n",
       "      <th>Current (A)</th>\n",
       "      <th>Voltage (V)</th>\n",
       "      <th>Discharge_Capacity (Ah)</th>\n",
       "      <th>Cell_Temperature (C)</th>\n",
       "    </tr>\n",
       "  </thead>\n",
       "  <tbody>\n",
       "    <tr>\n",
       "      <th>count</th>\n",
       "      <td>1.469894e+06</td>\n",
       "      <td>1.469894e+06</td>\n",
       "      <td>1.469894e+06</td>\n",
       "      <td>1.469894e+06</td>\n",
       "      <td>1.469894e+06</td>\n",
       "      <td>0.0</td>\n",
       "    </tr>\n",
       "    <tr>\n",
       "      <th>mean</th>\n",
       "      <td>2.469120e+02</td>\n",
       "      <td>2.825558e+06</td>\n",
       "      <td>-3.298849e+00</td>\n",
       "      <td>3.595584e+00</td>\n",
       "      <td>1.506343e+00</td>\n",
       "      <td>NaN</td>\n",
       "    </tr>\n",
       "    <tr>\n",
       "      <th>std</th>\n",
       "      <td>1.424258e+02</td>\n",
       "      <td>1.615842e+06</td>\n",
       "      <td>1.033147e-02</td>\n",
       "      <td>2.439519e-01</td>\n",
       "      <td>8.765028e-01</td>\n",
       "      <td>NaN</td>\n",
       "    </tr>\n",
       "    <tr>\n",
       "      <th>min</th>\n",
       "      <td>1.000000e+00</td>\n",
       "      <td>4.736728e+03</td>\n",
       "      <td>-5.758000e+00</td>\n",
       "      <td>2.699000e+00</td>\n",
       "      <td>0.000000e+00</td>\n",
       "      <td>NaN</td>\n",
       "    </tr>\n",
       "    <tr>\n",
       "      <th>25%</th>\n",
       "      <td>1.100000e+02</td>\n",
       "      <td>1.279094e+06</td>\n",
       "      <td>-3.299000e+00</td>\n",
       "      <td>3.463000e+00</td>\n",
       "      <td>7.500000e-01</td>\n",
       "      <td>NaN</td>\n",
       "    </tr>\n",
       "    <tr>\n",
       "      <th>50%</th>\n",
       "      <td>2.540000e+02</td>\n",
       "      <td>2.916530e+06</td>\n",
       "      <td>-3.299000e+00</td>\n",
       "      <td>3.612000e+00</td>\n",
       "      <td>1.500000e+00</td>\n",
       "      <td>NaN</td>\n",
       "    </tr>\n",
       "    <tr>\n",
       "      <th>75%</th>\n",
       "      <td>3.700000e+02</td>\n",
       "      <td>4.214854e+06</td>\n",
       "      <td>-3.299000e+00</td>\n",
       "      <td>3.759000e+00</td>\n",
       "      <td>2.249000e+00</td>\n",
       "      <td>NaN</td>\n",
       "    </tr>\n",
       "    <tr>\n",
       "      <th>max</th>\n",
       "      <td>4.850000e+02</td>\n",
       "      <td>5.513323e+06</td>\n",
       "      <td>-1.000000e-03</td>\n",
       "      <td>4.182000e+00</td>\n",
       "      <td>3.207000e+00</td>\n",
       "      <td>NaN</td>\n",
       "    </tr>\n",
       "  </tbody>\n",
       "</table>\n",
       "</div>"
      ],
      "text/plain": [
       "        Cycle_Index  Test_Time (s)   Current (A)   Voltage (V)  \\\n",
       "count  1.469894e+06   1.469894e+06  1.469894e+06  1.469894e+06   \n",
       "mean   2.469120e+02   2.825558e+06 -3.298849e+00  3.595584e+00   \n",
       "std    1.424258e+02   1.615842e+06  1.033147e-02  2.439519e-01   \n",
       "min    1.000000e+00   4.736728e+03 -5.758000e+00  2.699000e+00   \n",
       "25%    1.100000e+02   1.279094e+06 -3.299000e+00  3.463000e+00   \n",
       "50%    2.540000e+02   2.916530e+06 -3.299000e+00  3.612000e+00   \n",
       "75%    3.700000e+02   4.214854e+06 -3.299000e+00  3.759000e+00   \n",
       "max    4.850000e+02   5.513323e+06 -1.000000e-03  4.182000e+00   \n",
       "\n",
       "       Discharge_Capacity (Ah)  Cell_Temperature (C)  \n",
       "count             1.469894e+06                   0.0  \n",
       "mean              1.506343e+00                   NaN  \n",
       "std               8.765028e-01                   NaN  \n",
       "min               0.000000e+00                   NaN  \n",
       "25%               7.500000e-01                   NaN  \n",
       "50%               1.500000e+00                   NaN  \n",
       "75%               2.249000e+00                   NaN  \n",
       "max               3.207000e+00                   NaN  "
      ]
     },
     "metadata": {},
     "output_type": "display_data"
    }
   ],
   "source": [
    "# Header completo:\n",
    "# Date_Time,Test_Time (s),Cycle_Index,Current (A),Voltage (V),Charge_Capacity (Ah),Discharge_Capacity (Ah),Charge_Energy (Wh),Discharge_Energy (Wh),Environment_Temperature (C),Cell_Temperature (C)\n",
    "df = pd.read_csv('../Battery_Archive_Data/UL-Purdue/3.40_UL-PUR_CF10DPA_pouch_NCA_25C_0-100_1-1C_n_timeseries_data.csv')\n",
    "\n",
    "# Apenas features de interesse são mantidas\n",
    "# Obs: Envoironment_Temperature (C) poderia ser relevante, mas tem todos os valores nulos. Então, é removida\n",
    "df = df[[\"Cycle_Index\", \"Test_Time (s)\", \"Current (A)\", \"Voltage (V)\", \"Discharge_Capacity (Ah)\", \"Cell_Temperature (C)\"]]\n",
    "\n",
    "# Mantem apenas as linhas em que a bateria está descarregando, ou seja, corrente < 0\n",
    "df = df[df['Current (A)'] < 0]\n",
    "\n",
    "# Remove valores para Cell_Temperature < 1 (incorretos)\n",
    "#df = df[df['Cell_Temperature (C)'] >= 1]\n",
    "\n",
    "display(df)\n",
    "display(df.describe())"
   ]
  },
  {
   "cell_type": "markdown",
   "metadata": {},
   "source": [
    "## Visualização"
   ]
  },
  {
   "cell_type": "code",
   "execution_count": 20,
   "metadata": {},
   "outputs": [
    {
     "data": {
      "image/png": "[encoded data removed]",
      "text/plain": [
       "<Figure size 1400x800 with 4 Axes>"
      ]
     },
     "metadata": {},
     "output_type": "display_data"
    }
   ],
   "source": [
    "# Lista de features que deseja analisar (exceto \"Cycle_Index\")\n",
    "features = [\"Current (A)\", \"Voltage (V)\", \"Discharge_Capacity (Ah)\", \"Cell_Temperature (C)\"]\n",
    "\n",
    "# Ciclos únicos e ordenados\n",
    "cycles = df[\"Cycle_Index\"].unique()\n",
    "cycles.sort()\n",
    "NumCyclesPlot = 5\n",
    "\n",
    "# Seleciona 'NumCyclesPlot' ciclos igualmente espaçados para plotar\n",
    "if len(cycles) > NumCyclesPlot:\n",
    "    cycles = cycles[::len(cycles)//NumCyclesPlot] # // --> Divisão inteira\n",
    "\n",
    "# Cria os subplots com layout 2x2\n",
    "fig, axs = plt.subplots(2, 2, figsize=(14, 8))\n",
    "axs = axs.flatten()  # Facilita a iteração\n",
    "\n",
    "# Itera sobre cada feature e sobre os ciclos para plotar os dados\n",
    "for i, feature in enumerate(features):\n",
    "    ax = axs[i]\n",
    "    for cycle in cycles:\n",
    "        # Seleciona os dados do ciclo e calcula o tempo relativo\n",
    "        df_cycle = df[df[\"Cycle_Index\"] == cycle].copy()\n",
    "        df_cycle['Tempo_Relativo (s)'] = df_cycle[\"Test_Time (s)\"] - df_cycle[\"Test_Time (s)\"].min()\n",
    "        \n",
    "        # Plota a feature em função do tempo relativo\n",
    "        ax.plot(df_cycle['Tempo_Relativo (s)'], df_cycle[feature], alpha=0.7, label=f'{int(cycle)}', linewidth=2.0)\n",
    "\n",
    "    ax.set_title(f'{feature} ao longo dos ciclos')\n",
    "    ax.set_xlabel('Tempo Relativo (s)')\n",
    "    ax.set_ylabel(feature)\n",
    "    ax.grid(True)\n",
    "    ax.legend(title=\"Ciclo\", loc='best')\n",
    "\n",
    "plt.tight_layout()\n",
    "plt.show()\n"
   ]
  },
  {
   "cell_type": "markdown",
   "metadata": {},
   "source": [
    "## Análise de SOH"
   ]
  },
  {
   "cell_type": "markdown",
   "metadata": {},
   "source": [
    "$$\n",
    "\\text{SOH} = \\frac{\\text{capacidade\\_atual}}{\\text{capacidade\\_inicial}}\n",
    "$$\n",
    "\n",
    "- $CapacidadeInicial$ é a capacidade nominal, a maior considerando todo o histórico da bateria\n",
    "- $CapacidadeAtual$ é a maior capacidade do ciclo"
   ]
  },
  {
   "cell_type": "code",
   "execution_count": 21,
   "metadata": {},
   "outputs": [
    {
     "name": "stdout",
     "output_type": "stream",
     "text": [
      "Capacidade total de descarga: 3.4 Ah\n"
     ]
    },
    {
     "data": {
      "application/vnd.microsoft.datawrangler.viewer.v0+json": {
       "columns": [
        {
         "name": "index",
         "rawType": "int64",
         "type": "integer"
        },
        {
         "name": "Cycle_Index",
         "rawType": "float64",
         "type": "float"
        },
        {
         "name": "Max_Discharge_Capacity",
         "rawType": "float64",
         "type": "float"
        },
        {
         "name": "SOH_discharge",
         "rawType": "float64",
         "type": "float"
        }
       ],
       "ref": "460f18f1-355e-4c31-b749-87e14f38626e",
       "rows": [
        [
         "0",
         "1.0",
         "3.207",
         "0.9432352941176471"
        ],
        [
         "1",
         "2.0",
         "3.203",
         "0.9420588235294117"
        ],
        [
         "2",
         "3.0",
         "3.205",
         "0.9426470588235295"
        ],
        [
         "3",
         "4.0",
         "3.206",
         "0.9429411764705883"
        ],
        [
         "4",
         "5.0",
         "3.203",
         "0.9420588235294117"
        ],
        [
         "5",
         "6.0",
         "3.202",
         "0.941764705882353"
        ],
        [
         "6",
         "7.0",
         "3.201",
         "0.9414705882352942"
        ],
        [
         "7",
         "8.0",
         "3.201",
         "0.9414705882352942"
        ],
        [
         "8",
         "9.0",
         "3.198",
         "0.9405882352941176"
        ],
        [
         "9",
         "10.0",
         "3.202",
         "0.941764705882353"
        ],
        [
         "10",
         "11.0",
         "3.198",
         "0.9405882352941176"
        ],
        [
         "11",
         "12.0",
         "3.2",
         "0.9411764705882354"
        ],
        [
         "12",
         "13.0",
         "3.197",
         "0.9402941176470588"
        ],
        [
         "13",
         "14.0",
         "3.199",
         "0.9408823529411765"
        ],
        [
         "14",
         "15.0",
         "3.197",
         "0.9402941176470588"
        ],
        [
         "15",
         "16.0",
         "3.194",
         "0.9394117647058824"
        ],
        [
         "16",
         "17.0",
         "3.194",
         "0.9394117647058824"
        ],
        [
         "17",
         "18.0",
         "3.194",
         "0.9394117647058824"
        ],
        [
         "18",
         "19.0",
         "3.194",
         "0.9394117647058824"
        ],
        [
         "19",
         "20.0",
         "3.196",
         "0.9400000000000001"
        ],
        [
         "20",
         "21.0",
         "2.663",
         "0.783235294117647"
        ],
        [
         "21",
         "22.0",
         "3.192",
         "0.9388235294117648"
        ],
        [
         "22",
         "23.0",
         "3.189",
         "0.9379411764705883"
        ],
        [
         "23",
         "24.0",
         "3.191",
         "0.9385294117647058"
        ],
        [
         "24",
         "25.0",
         "3.189",
         "0.9379411764705883"
        ],
        [
         "25",
         "26.0",
         "2.667",
         "0.7844117647058824"
        ],
        [
         "26",
         "27.0",
         "3.188",
         "0.9376470588235295"
        ],
        [
         "27",
         "28.0",
         "3.186",
         "0.9370588235294117"
        ],
        [
         "28",
         "29.0",
         "2.665",
         "0.7838235294117647"
        ],
        [
         "29",
         "30.0",
         "3.187",
         "0.9373529411764706"
        ],
        [
         "30",
         "31.0",
         "3.184",
         "0.9364705882352942"
        ],
        [
         "31",
         "32.0",
         "2.683",
         "0.7891176470588235"
        ],
        [
         "32",
         "33.0",
         "3.18",
         "0.9352941176470589"
        ],
        [
         "33",
         "34.0",
         "3.183",
         "0.9361764705882353"
        ],
        [
         "34",
         "35.0",
         "3.182",
         "0.9358823529411765"
        ],
        [
         "35",
         "36.0",
         "3.18",
         "0.9352941176470589"
        ],
        [
         "36",
         "37.0",
         "3.178",
         "0.9347058823529412"
        ],
        [
         "37",
         "38.0",
         "3.176",
         "0.9341176470588236"
        ],
        [
         "38",
         "39.0",
         "3.175",
         "0.9338235294117647"
        ],
        [
         "39",
         "40.0",
         "3.176",
         "0.9341176470588236"
        ],
        [
         "40",
         "41.0",
         "3.174",
         "0.9335294117647059"
        ],
        [
         "41",
         "42.0",
         "3.172",
         "0.9329411764705883"
        ],
        [
         "42",
         "43.0",
         "3.17",
         "0.9323529411764706"
        ],
        [
         "43",
         "44.0",
         "2.646",
         "0.778235294117647"
        ],
        [
         "44",
         "45.0",
         "3.171",
         "0.9326470588235294"
        ],
        [
         "45",
         "46.0",
         "3.173",
         "0.933235294117647"
        ],
        [
         "46",
         "47.0",
         "3.167",
         "0.931470588235294"
        ],
        [
         "47",
         "48.0",
         "3.17",
         "0.9323529411764706"
        ],
        [
         "48",
         "49.0",
         "3.168",
         "0.931764705882353"
        ],
        [
         "49",
         "50.0",
         "3.167",
         "0.931470588235294"
        ]
       ],
       "shape": {
        "columns": 3,
        "rows": 455
       }
      },
      "text/html": [
       "<div>\n",
       "<style scoped>\n",
       "    .dataframe tbody tr th:only-of-type {\n",
       "        vertical-align: middle;\n",
       "    }\n",
       "\n",
       "    .dataframe tbody tr th {\n",
       "        vertical-align: top;\n",
       "    }\n",
       "\n",
       "    .dataframe thead th {\n",
       "        text-align: right;\n",
       "    }\n",
       "</style>\n",
       "<table border=\"1\" class=\"dataframe\">\n",
       "  <thead>\n",
       "    <tr style=\"text-align: right;\">\n",
       "      <th></th>\n",
       "      <th>Cycle_Index</th>\n",
       "      <th>Max_Discharge_Capacity</th>\n",
       "      <th>SOH_discharge</th>\n",
       "    </tr>\n",
       "  </thead>\n",
       "  <tbody>\n",
       "    <tr>\n",
       "      <th>0</th>\n",
       "      <td>1.0</td>\n",
       "      <td>3.207</td>\n",
       "      <td>0.943235</td>\n",
       "    </tr>\n",
       "    <tr>\n",
       "      <th>1</th>\n",
       "      <td>2.0</td>\n",
       "      <td>3.203</td>\n",
       "      <td>0.942059</td>\n",
       "    </tr>\n",
       "    <tr>\n",
       "      <th>2</th>\n",
       "      <td>3.0</td>\n",
       "      <td>3.205</td>\n",
       "      <td>0.942647</td>\n",
       "    </tr>\n",
       "    <tr>\n",
       "      <th>3</th>\n",
       "      <td>4.0</td>\n",
       "      <td>3.206</td>\n",
       "      <td>0.942941</td>\n",
       "    </tr>\n",
       "    <tr>\n",
       "      <th>4</th>\n",
       "      <td>5.0</td>\n",
       "      <td>3.203</td>\n",
       "      <td>0.942059</td>\n",
       "    </tr>\n",
       "    <tr>\n",
       "      <th>...</th>\n",
       "      <td>...</td>\n",
       "      <td>...</td>\n",
       "      <td>...</td>\n",
       "    </tr>\n",
       "    <tr>\n",
       "      <th>450</th>\n",
       "      <td>481.0</td>\n",
       "      <td>3.013</td>\n",
       "      <td>0.886176</td>\n",
       "    </tr>\n",
       "    <tr>\n",
       "      <th>451</th>\n",
       "      <td>482.0</td>\n",
       "      <td>3.012</td>\n",
       "      <td>0.885882</td>\n",
       "    </tr>\n",
       "    <tr>\n",
       "      <th>452</th>\n",
       "      <td>483.0</td>\n",
       "      <td>3.015</td>\n",
       "      <td>0.886765</td>\n",
       "    </tr>\n",
       "    <tr>\n",
       "      <th>453</th>\n",
       "      <td>484.0</td>\n",
       "      <td>3.014</td>\n",
       "      <td>0.886471</td>\n",
       "    </tr>\n",
       "    <tr>\n",
       "      <th>454</th>\n",
       "      <td>485.0</td>\n",
       "      <td>3.012</td>\n",
       "      <td>0.885882</td>\n",
       "    </tr>\n",
       "  </tbody>\n",
       "</table>\n",
       "<p>455 rows × 3 columns</p>\n",
       "</div>"
      ],
      "text/plain": [
       "     Cycle_Index  Max_Discharge_Capacity  SOH_discharge\n",
       "0            1.0                   3.207       0.943235\n",
       "1            2.0                   3.203       0.942059\n",
       "2            3.0                   3.205       0.942647\n",
       "3            4.0                   3.206       0.942941\n",
       "4            5.0                   3.203       0.942059\n",
       "..           ...                     ...            ...\n",
       "450        481.0                   3.013       0.886176\n",
       "451        482.0                   3.012       0.885882\n",
       "452        483.0                   3.015       0.886765\n",
       "453        484.0                   3.014       0.886471\n",
       "454        485.0                   3.012       0.885882\n",
       "\n",
       "[455 rows x 3 columns]"
      ]
     },
     "metadata": {},
     "output_type": "display_data"
    }
   ],
   "source": [
    "# Capacidade nominal (máxima global)\n",
    "nominal_capacity = 3.40 #df['Discharge_Capacity (Ah)'].max()\n",
    "print(f'Capacidade total de descarga: {nominal_capacity} Ah')\n",
    "\n",
    "# Para cada ciclo, extrai a maior capacidade \n",
    "# (cycles_capacity é uma série do Pandas)\n",
    "cycles_capacity = df.groupby('Cycle_Index')['Discharge_Capacity (Ah)'].max()\n",
    "cycles_capacity = cycles_capacity.reset_index() # transforma em dataframe\n",
    "cycles_capacity.columns = ['Cycle_Index', 'Max_Discharge_Capacity']\n",
    "cycles_capacity['SOH_discharge'] = (cycles_capacity['Max_Discharge_Capacity'] / nominal_capacity)\n",
    "display(cycles_capacity)"
   ]
  },
  {
   "cell_type": "code",
   "execution_count": 22,
   "metadata": {},
   "outputs": [
    {
     "data": {
      "application/vnd.microsoft.datawrangler.viewer.v0+json": {
       "columns": [
        {
         "name": "index",
         "rawType": "int64",
         "type": "integer"
        },
        {
         "name": "Cycle_Index",
         "rawType": "float64",
         "type": "float"
        },
        {
         "name": "Cell_Temperature (C)",
         "rawType": "float64",
         "type": "float"
        },
        {
         "name": "SOH_discharge",
         "rawType": "float64",
         "type": "float"
        }
       ],
       "ref": "00cb4a62-f617-47bf-8389-caaee47fb7e8",
       "rows": [
        [
         "0",
         "1.0",
         null,
         "0.9432352941176471"
        ],
        [
         "1",
         "2.0",
         null,
         "0.9420588235294117"
        ],
        [
         "2",
         "3.0",
         null,
         "0.9426470588235295"
        ],
        [
         "3",
         "4.0",
         null,
         "0.9429411764705883"
        ],
        [
         "4",
         "5.0",
         null,
         "0.9420588235294117"
        ],
        [
         "5",
         "6.0",
         null,
         "0.941764705882353"
        ],
        [
         "6",
         "7.0",
         null,
         "0.9414705882352942"
        ],
        [
         "7",
         "8.0",
         null,
         "0.9414705882352942"
        ],
        [
         "8",
         "9.0",
         null,
         "0.9405882352941176"
        ],
        [
         "9",
         "10.0",
         null,
         "0.941764705882353"
        ],
        [
         "10",
         "11.0",
         null,
         "0.9405882352941176"
        ],
        [
         "11",
         "12.0",
         null,
         "0.9411764705882354"
        ],
        [
         "12",
         "13.0",
         null,
         "0.9402941176470588"
        ],
        [
         "13",
         "14.0",
         null,
         "0.9408823529411765"
        ],
        [
         "14",
         "15.0",
         null,
         "0.9402941176470588"
        ],
        [
         "15",
         "16.0",
         null,
         "0.9394117647058824"
        ],
        [
         "16",
         "17.0",
         null,
         "0.9394117647058824"
        ],
        [
         "17",
         "18.0",
         null,
         "0.9394117647058824"
        ],
        [
         "18",
         "19.0",
         null,
         "0.9394117647058824"
        ],
        [
         "19",
         "20.0",
         null,
         "0.9400000000000001"
        ],
        [
         "20",
         "21.0",
         null,
         "0.783235294117647"
        ],
        [
         "21",
         "22.0",
         null,
         "0.9388235294117648"
        ],
        [
         "22",
         "23.0",
         null,
         "0.9379411764705883"
        ],
        [
         "23",
         "24.0",
         null,
         "0.9385294117647058"
        ],
        [
         "24",
         "25.0",
         null,
         "0.9379411764705883"
        ],
        [
         "25",
         "26.0",
         null,
         "0.7844117647058824"
        ],
        [
         "26",
         "27.0",
         null,
         "0.9376470588235295"
        ],
        [
         "27",
         "28.0",
         null,
         "0.9370588235294117"
        ],
        [
         "28",
         "29.0",
         null,
         "0.7838235294117647"
        ],
        [
         "29",
         "30.0",
         null,
         "0.9373529411764706"
        ],
        [
         "30",
         "31.0",
         null,
         "0.9364705882352942"
        ],
        [
         "31",
         "32.0",
         null,
         "0.7891176470588235"
        ],
        [
         "32",
         "33.0",
         null,
         "0.9352941176470589"
        ],
        [
         "33",
         "34.0",
         null,
         "0.9361764705882353"
        ],
        [
         "34",
         "35.0",
         null,
         "0.9358823529411765"
        ],
        [
         "35",
         "36.0",
         null,
         "0.9352941176470589"
        ],
        [
         "36",
         "37.0",
         null,
         "0.9347058823529412"
        ],
        [
         "37",
         "38.0",
         null,
         "0.9341176470588236"
        ],
        [
         "38",
         "39.0",
         null,
         "0.9338235294117647"
        ],
        [
         "39",
         "40.0",
         null,
         "0.9341176470588236"
        ],
        [
         "40",
         "41.0",
         null,
         "0.9335294117647059"
        ],
        [
         "41",
         "42.0",
         null,
         "0.9329411764705883"
        ],
        [
         "42",
         "43.0",
         null,
         "0.9323529411764706"
        ],
        [
         "43",
         "44.0",
         null,
         "0.778235294117647"
        ],
        [
         "44",
         "45.0",
         null,
         "0.9326470588235294"
        ],
        [
         "45",
         "46.0",
         null,
         "0.933235294117647"
        ],
        [
         "46",
         "47.0",
         null,
         "0.931470588235294"
        ],
        [
         "47",
         "48.0",
         null,
         "0.9323529411764706"
        ],
        [
         "48",
         "49.0",
         null,
         "0.931764705882353"
        ],
        [
         "49",
         "50.0",
         null,
         "0.931470588235294"
        ]
       ],
       "shape": {
        "columns": 3,
        "rows": 455
       }
      },
      "text/html": [
       "<div>\n",
       "<style scoped>\n",
       "    .dataframe tbody tr th:only-of-type {\n",
       "        vertical-align: middle;\n",
       "    }\n",
       "\n",
       "    .dataframe tbody tr th {\n",
       "        vertical-align: top;\n",
       "    }\n",
       "\n",
       "    .dataframe thead th {\n",
       "        text-align: right;\n",
       "    }\n",
       "</style>\n",
       "<table border=\"1\" class=\"dataframe\">\n",
       "  <thead>\n",
       "    <tr style=\"text-align: right;\">\n",
       "      <th></th>\n",
       "      <th>Cycle_Index</th>\n",
       "      <th>Cell_Temperature (C)</th>\n",
       "      <th>SOH_discharge</th>\n",
       "    </tr>\n",
       "  </thead>\n",
       "  <tbody>\n",
       "    <tr>\n",
       "      <th>0</th>\n",
       "      <td>1.0</td>\n",
       "      <td>NaN</td>\n",
       "      <td>0.943235</td>\n",
       "    </tr>\n",
       "    <tr>\n",
       "      <th>1</th>\n",
       "      <td>2.0</td>\n",
       "      <td>NaN</td>\n",
       "      <td>0.942059</td>\n",
       "    </tr>\n",
       "    <tr>\n",
       "      <th>2</th>\n",
       "      <td>3.0</td>\n",
       "      <td>NaN</td>\n",
       "      <td>0.942647</td>\n",
       "    </tr>\n",
       "    <tr>\n",
       "      <th>3</th>\n",
       "      <td>4.0</td>\n",
       "      <td>NaN</td>\n",
       "      <td>0.942941</td>\n",
       "    </tr>\n",
       "    <tr>\n",
       "      <th>4</th>\n",
       "      <td>5.0</td>\n",
       "      <td>NaN</td>\n",
       "      <td>0.942059</td>\n",
       "    </tr>\n",
       "    <tr>\n",
       "      <th>...</th>\n",
       "      <td>...</td>\n",
       "      <td>...</td>\n",
       "      <td>...</td>\n",
       "    </tr>\n",
       "    <tr>\n",
       "      <th>450</th>\n",
       "      <td>481.0</td>\n",
       "      <td>NaN</td>\n",
       "      <td>0.886176</td>\n",
       "    </tr>\n",
       "    <tr>\n",
       "      <th>451</th>\n",
       "      <td>482.0</td>\n",
       "      <td>NaN</td>\n",
       "      <td>0.885882</td>\n",
       "    </tr>\n",
       "    <tr>\n",
       "      <th>452</th>\n",
       "      <td>483.0</td>\n",
       "      <td>NaN</td>\n",
       "      <td>0.886765</td>\n",
       "    </tr>\n",
       "    <tr>\n",
       "      <th>453</th>\n",
       "      <td>484.0</td>\n",
       "      <td>NaN</td>\n",
       "      <td>0.886471</td>\n",
       "    </tr>\n",
       "    <tr>\n",
       "      <th>454</th>\n",
       "      <td>485.0</td>\n",
       "      <td>NaN</td>\n",
       "      <td>0.885882</td>\n",
       "    </tr>\n",
       "  </tbody>\n",
       "</table>\n",
       "<p>455 rows × 3 columns</p>\n",
       "</div>"
      ],
      "text/plain": [
       "     Cycle_Index  Cell_Temperature (C)  SOH_discharge\n",
       "0            1.0                   NaN       0.943235\n",
       "1            2.0                   NaN       0.942059\n",
       "2            3.0                   NaN       0.942647\n",
       "3            4.0                   NaN       0.942941\n",
       "4            5.0                   NaN       0.942059\n",
       "..           ...                   ...            ...\n",
       "450        481.0                   NaN       0.886176\n",
       "451        482.0                   NaN       0.885882\n",
       "452        483.0                   NaN       0.886765\n",
       "453        484.0                   NaN       0.886471\n",
       "454        485.0                   NaN       0.885882\n",
       "\n",
       "[455 rows x 3 columns]"
      ]
     },
     "metadata": {},
     "output_type": "display_data"
    },
    {
     "data": {
      "application/vnd.microsoft.datawrangler.viewer.v0+json": {
       "columns": [
        {
         "name": "index",
         "rawType": "object",
         "type": "string"
        },
        {
         "name": "Cycle_Index",
         "rawType": "float64",
         "type": "float"
        },
        {
         "name": "Cell_Temperature (C)",
         "rawType": "float64",
         "type": "float"
        },
        {
         "name": "SOH_discharge",
         "rawType": "float64",
         "type": "float"
        }
       ],
       "ref": "4aec8ebc-9ff6-4414-a3cc-732376c90092",
       "rows": [
        [
         "count",
         "455.0",
         "0.0",
         "455.0"
        ],
        [
         "mean",
         "250.0879120879121",
         null,
         "0.8818778280542986"
        ],
        [
         "std",
         "141.85039338916852",
         null,
         "0.05922721306770581"
        ],
        [
         "min",
         "1.0",
         null,
         "0.7247058823529412"
        ],
        [
         "25%",
         "114.5",
         null,
         "0.8889705882352941"
        ],
        [
         "50%",
         "258.0",
         null,
         "0.8973529411764707"
        ],
        [
         "75%",
         "371.5",
         null,
         "0.9091176470588236"
        ],
        [
         "max",
         "485.0",
         null,
         "0.9432352941176471"
        ]
       ],
       "shape": {
        "columns": 3,
        "rows": 8
       }
      },
      "text/html": [
       "<div>\n",
       "<style scoped>\n",
       "    .dataframe tbody tr th:only-of-type {\n",
       "        vertical-align: middle;\n",
       "    }\n",
       "\n",
       "    .dataframe tbody tr th {\n",
       "        vertical-align: top;\n",
       "    }\n",
       "\n",
       "    .dataframe thead th {\n",
       "        text-align: right;\n",
       "    }\n",
       "</style>\n",
       "<table border=\"1\" class=\"dataframe\">\n",
       "  <thead>\n",
       "    <tr style=\"text-align: right;\">\n",
       "      <th></th>\n",
       "      <th>Cycle_Index</th>\n",
       "      <th>Cell_Temperature (C)</th>\n",
       "      <th>SOH_discharge</th>\n",
       "    </tr>\n",
       "  </thead>\n",
       "  <tbody>\n",
       "    <tr>\n",
       "      <th>count</th>\n",
       "      <td>455.000000</td>\n",
       "      <td>0.0</td>\n",
       "      <td>455.000000</td>\n",
       "    </tr>\n",
       "    <tr>\n",
       "      <th>mean</th>\n",
       "      <td>250.087912</td>\n",
       "      <td>NaN</td>\n",
       "      <td>0.881878</td>\n",
       "    </tr>\n",
       "    <tr>\n",
       "      <th>std</th>\n",
       "      <td>141.850393</td>\n",
       "      <td>NaN</td>\n",
       "      <td>0.059227</td>\n",
       "    </tr>\n",
       "    <tr>\n",
       "      <th>min</th>\n",
       "      <td>1.000000</td>\n",
       "      <td>NaN</td>\n",
       "      <td>0.724706</td>\n",
       "    </tr>\n",
       "    <tr>\n",
       "      <th>25%</th>\n",
       "      <td>114.500000</td>\n",
       "      <td>NaN</td>\n",
       "      <td>0.888971</td>\n",
       "    </tr>\n",
       "    <tr>\n",
       "      <th>50%</th>\n",
       "      <td>258.000000</td>\n",
       "      <td>NaN</td>\n",
       "      <td>0.897353</td>\n",
       "    </tr>\n",
       "    <tr>\n",
       "      <th>75%</th>\n",
       "      <td>371.500000</td>\n",
       "      <td>NaN</td>\n",
       "      <td>0.909118</td>\n",
       "    </tr>\n",
       "    <tr>\n",
       "      <th>max</th>\n",
       "      <td>485.000000</td>\n",
       "      <td>NaN</td>\n",
       "      <td>0.943235</td>\n",
       "    </tr>\n",
       "  </tbody>\n",
       "</table>\n",
       "</div>"
      ],
      "text/plain": [
       "       Cycle_Index  Cell_Temperature (C)  SOH_discharge\n",
       "count   455.000000                   0.0     455.000000\n",
       "mean    250.087912                   NaN       0.881878\n",
       "std     141.850393                   NaN       0.059227\n",
       "min       1.000000                   NaN       0.724706\n",
       "25%     114.500000                   NaN       0.888971\n",
       "50%     258.000000                   NaN       0.897353\n",
       "75%     371.500000                   NaN       0.909118\n",
       "max     485.000000                   NaN       0.943235"
      ]
     },
     "metadata": {},
     "output_type": "display_data"
    }
   ],
   "source": [
    "# Seleciona as features de interesse e agrupa por ciclo\n",
    "df_grouped = df[['Cycle_Index', 'Cell_Temperature (C)']]\n",
    "df_grouped = df_grouped.groupby('Cycle_Index', as_index=False).mean() # Média será usada para a temperatura\n",
    "\n",
    "# Adição do SOH calculado em ciclos_capacity\n",
    "df_grouped['SOH_discharge'] = cycles_capacity['SOH_discharge']\n",
    "\n",
    "display(df_grouped)\n",
    "display(df_grouped.describe())"
   ]
  },
  {
   "cell_type": "markdown",
   "metadata": {},
   "source": [
    "### Outliers"
   ]
  },
  {
   "cell_type": "code",
   "execution_count": 23,
   "metadata": {},
   "outputs": [],
   "source": [
    "# Técnica estatística para identificar outliers em um conjunto de dados, calculando o intervalo entre o primeiro quartil (Q1) e o terceiro quartil (Q3), e usando para definir limites superiores e inferiores. Outliers são definidos como pontos que caem abaixo de Q1 - 1.5 * IQR ou acima de Q3 + 1.5 * IQR. Este método é robusto contra a não normalidade dos dados, sendo útil para distribuições assimétricas.\n",
    "def rmv_outliers_iqr(df: pd.DataFrame, column_name: str) -> pd.DataFrame:\n",
    "    # Calculate the first and third quartiles\n",
    "    Q1 = df[column_name].quantile(0.25)\n",
    "    Q3 = df[column_name].quantile(0.75)\n",
    "    \n",
    "    # Calculate the Interquartile Range (IQR)\n",
    "    IQR = Q3 - Q1\n",
    "    \n",
    "    # Define the lower and upper bounds for outliers\n",
    "    lower_bound = Q1 - 1.5 * IQR\n",
    "    upper_bound = Q3 + 1.5 * IQR\n",
    "    \n",
    "    # Filter the DataFrame to keep only the values within the bounds\n",
    "    filtered_df = df[(df[column_name] >= lower_bound) & (df[column_name] <= upper_bound)]\n",
    "    \n",
    "    return filtered_df"
   ]
  },
  {
   "cell_type": "code",
   "execution_count": 24,
   "metadata": {},
   "outputs": [],
   "source": [
    "# Algoritmo de machine learning não supervisionado usado para detecção de anomalias, que identifica outliers isolando-os a partir de partições aleatórias em um conjunto de árvores de decisão\n",
    "def rmv_outliers_isolation_forest(df: pd.DataFrame, column_name: str, contamin='auto') -> pd.DataFrame:\n",
    "    model = IsolationForest(contamination=contamin, random_state=123)\n",
    "    \n",
    "    # Fit the model and predict outliers. The data needs to be reshaped to a 2D array.\n",
    "    predictions = model.fit_predict(df[[column_name]].values)\n",
    "    \n",
    "    # Filter the DataFrame to keep only the inliers (predictions == 1)\n",
    "    filtered_df = df[predictions == 1]\n",
    "    \n",
    "    return filtered_df"
   ]
  },
  {
   "cell_type": "code",
   "execution_count": 25,
   "metadata": {},
   "outputs": [],
   "source": [
    "def rmv_outliers_zscore(df: pd.DataFrame, column_name: str, threshold: float = 3.0) -> pd.DataFrame:\n",
    "    # Calculate the Z-scores of the column\n",
    "    z_scores = np.abs(zscore(df[column_name]))\n",
    "    \n",
    "    # Create a boolean mask to filter out outliers\n",
    "    inlier_mask = z_scores <= threshold\n",
    "    \n",
    "    # Filter the DataFrame to keep only the inliers\n",
    "    filtered_df = df[inlier_mask]\n",
    "    \n",
    "    return filtered_df"
   ]
  },
  {
   "cell_type": "code",
   "execution_count": 26,
   "metadata": {},
   "outputs": [],
   "source": [
    "def ensure_non_increasing(df: pd.DataFrame, column_name: str) -> pd.DataFrame:\n",
    "    # Create a boolean mask where True indicates a valid decreasing or equal step\n",
    "    is_decreasing = df[column_name].diff().fillna(-1) <= 0\n",
    "    \n",
    "    # Filter the DataFrame to keep only the monotonic values\n",
    "    filtered_df = df[is_decreasing]\n",
    "    \n",
    "    return filtered_df"
   ]
  },
  {
   "cell_type": "code",
   "execution_count": 27,
   "metadata": {},
   "outputs": [],
   "source": [
    "def rmv_sharp_jump(df: pd.DataFrame, column_name: str, threshold: float, repeat=1) -> pd.DataFrame:\n",
    "    for _ in range(repeat):\n",
    "        # diff -> a diferença entre os valores consecutivos\n",
    "        # abs -> o valor absoluto para tratar subidas e quedas\n",
    "        # shift(-1) -> para que a diferença seja aplicada ao ponto de origem do salto\n",
    "        # fillna(0) -> trata o último valor (que é NaN após o shift) com 0 para que ele seja mantido\n",
    "        shifted_diff = df[column_name].diff().abs().shift(-1).fillna(0)\n",
    "        \n",
    "        is_not_sharp_jump = shifted_diff <= threshold\n",
    "        df = df[is_not_sharp_jump]\n",
    "    \n",
    "    return df"
   ]
  },
  {
   "cell_type": "code",
   "execution_count": 28,
   "metadata": {},
   "outputs": [
    {
     "data": {
      "application/vnd.microsoft.datawrangler.viewer.v0+json": {
       "columns": [
        {
         "name": "index",
         "rawType": "int64",
         "type": "integer"
        },
        {
         "name": "Cycle_Index",
         "rawType": "float64",
         "type": "float"
        },
        {
         "name": "Cell_Temperature (C)",
         "rawType": "float64",
         "type": "float"
        },
        {
         "name": "SOH_discharge",
         "rawType": "float64",
         "type": "float"
        }
       ],
       "ref": "752691ea-a4c2-4d7f-86b3-b2e204355888",
       "rows": [
        [
         "0",
         "1.0",
         null,
         "0.9432352941176471"
        ],
        [
         "1",
         "2.0",
         null,
         "0.9420588235294117"
        ],
        [
         "2",
         "3.0",
         null,
         "0.9426470588235295"
        ],
        [
         "3",
         "4.0",
         null,
         "0.9429411764705883"
        ],
        [
         "4",
         "5.0",
         null,
         "0.9420588235294117"
        ],
        [
         "5",
         "6.0",
         null,
         "0.941764705882353"
        ],
        [
         "6",
         "7.0",
         null,
         "0.9414705882352942"
        ],
        [
         "7",
         "8.0",
         null,
         "0.9414705882352942"
        ],
        [
         "8",
         "9.0",
         null,
         "0.9405882352941176"
        ],
        [
         "9",
         "10.0",
         null,
         "0.941764705882353"
        ],
        [
         "10",
         "11.0",
         null,
         "0.9405882352941176"
        ],
        [
         "11",
         "12.0",
         null,
         "0.9411764705882354"
        ],
        [
         "12",
         "13.0",
         null,
         "0.9402941176470588"
        ],
        [
         "13",
         "14.0",
         null,
         "0.9408823529411765"
        ],
        [
         "14",
         "15.0",
         null,
         "0.9402941176470588"
        ],
        [
         "15",
         "16.0",
         null,
         "0.9394117647058824"
        ],
        [
         "16",
         "17.0",
         null,
         "0.9394117647058824"
        ],
        [
         "17",
         "18.0",
         null,
         "0.9394117647058824"
        ],
        [
         "18",
         "19.0",
         null,
         "0.9394117647058824"
        ],
        [
         "19",
         "20.0",
         null,
         "0.9400000000000001"
        ],
        [
         "20",
         "21.0",
         null,
         "0.783235294117647"
        ],
        [
         "21",
         "22.0",
         null,
         "0.9388235294117648"
        ],
        [
         "22",
         "23.0",
         null,
         "0.9379411764705883"
        ],
        [
         "23",
         "24.0",
         null,
         "0.9385294117647058"
        ],
        [
         "24",
         "25.0",
         null,
         "0.9379411764705883"
        ],
        [
         "25",
         "26.0",
         null,
         "0.7844117647058824"
        ],
        [
         "26",
         "27.0",
         null,
         "0.9376470588235295"
        ],
        [
         "27",
         "28.0",
         null,
         "0.9370588235294117"
        ],
        [
         "28",
         "29.0",
         null,
         "0.7838235294117647"
        ],
        [
         "29",
         "30.0",
         null,
         "0.9373529411764706"
        ],
        [
         "30",
         "31.0",
         null,
         "0.9364705882352942"
        ],
        [
         "31",
         "32.0",
         null,
         "0.7891176470588235"
        ],
        [
         "32",
         "33.0",
         null,
         "0.9352941176470589"
        ],
        [
         "33",
         "34.0",
         null,
         "0.9361764705882353"
        ],
        [
         "34",
         "35.0",
         null,
         "0.9358823529411765"
        ],
        [
         "35",
         "36.0",
         null,
         "0.9352941176470589"
        ],
        [
         "36",
         "37.0",
         null,
         "0.9347058823529412"
        ],
        [
         "37",
         "38.0",
         null,
         "0.9341176470588236"
        ],
        [
         "38",
         "39.0",
         null,
         "0.9338235294117647"
        ],
        [
         "39",
         "40.0",
         null,
         "0.9341176470588236"
        ],
        [
         "40",
         "41.0",
         null,
         "0.9335294117647059"
        ],
        [
         "41",
         "42.0",
         null,
         "0.9329411764705883"
        ],
        [
         "42",
         "43.0",
         null,
         "0.9323529411764706"
        ],
        [
         "43",
         "44.0",
         null,
         "0.778235294117647"
        ],
        [
         "44",
         "45.0",
         null,
         "0.9326470588235294"
        ],
        [
         "45",
         "46.0",
         null,
         "0.933235294117647"
        ],
        [
         "46",
         "47.0",
         null,
         "0.931470588235294"
        ],
        [
         "47",
         "48.0",
         null,
         "0.9323529411764706"
        ],
        [
         "48",
         "49.0",
         null,
         "0.931764705882353"
        ],
        [
         "49",
         "50.0",
         null,
         "0.931470588235294"
        ]
       ],
       "shape": {
        "columns": 3,
        "rows": 455
       }
      },
      "text/html": [
       "<div>\n",
       "<style scoped>\n",
       "    .dataframe tbody tr th:only-of-type {\n",
       "        vertical-align: middle;\n",
       "    }\n",
       "\n",
       "    .dataframe tbody tr th {\n",
       "        vertical-align: top;\n",
       "    }\n",
       "\n",
       "    .dataframe thead th {\n",
       "        text-align: right;\n",
       "    }\n",
       "</style>\n",
       "<table border=\"1\" class=\"dataframe\">\n",
       "  <thead>\n",
       "    <tr style=\"text-align: right;\">\n",
       "      <th></th>\n",
       "      <th>Cycle_Index</th>\n",
       "      <th>Cell_Temperature (C)</th>\n",
       "      <th>SOH_discharge</th>\n",
       "    </tr>\n",
       "  </thead>\n",
       "  <tbody>\n",
       "    <tr>\n",
       "      <th>0</th>\n",
       "      <td>1.0</td>\n",
       "      <td>NaN</td>\n",
       "      <td>0.943235</td>\n",
       "    </tr>\n",
       "    <tr>\n",
       "      <th>1</th>\n",
       "      <td>2.0</td>\n",
       "      <td>NaN</td>\n",
       "      <td>0.942059</td>\n",
       "    </tr>\n",
       "    <tr>\n",
       "      <th>2</th>\n",
       "      <td>3.0</td>\n",
       "      <td>NaN</td>\n",
       "      <td>0.942647</td>\n",
       "    </tr>\n",
       "    <tr>\n",
       "      <th>3</th>\n",
       "      <td>4.0</td>\n",
       "      <td>NaN</td>\n",
       "      <td>0.942941</td>\n",
       "    </tr>\n",
       "    <tr>\n",
       "      <th>4</th>\n",
       "      <td>5.0</td>\n",
       "      <td>NaN</td>\n",
       "      <td>0.942059</td>\n",
       "    </tr>\n",
       "    <tr>\n",
       "      <th>...</th>\n",
       "      <td>...</td>\n",
       "      <td>...</td>\n",
       "      <td>...</td>\n",
       "    </tr>\n",
       "    <tr>\n",
       "      <th>450</th>\n",
       "      <td>481.0</td>\n",
       "      <td>NaN</td>\n",
       "      <td>0.886176</td>\n",
       "    </tr>\n",
       "    <tr>\n",
       "      <th>451</th>\n",
       "      <td>482.0</td>\n",
       "      <td>NaN</td>\n",
       "      <td>0.885882</td>\n",
       "    </tr>\n",
       "    <tr>\n",
       "      <th>452</th>\n",
       "      <td>483.0</td>\n",
       "      <td>NaN</td>\n",
       "      <td>0.886765</td>\n",
       "    </tr>\n",
       "    <tr>\n",
       "      <th>453</th>\n",
       "      <td>484.0</td>\n",
       "      <td>NaN</td>\n",
       "      <td>0.886471</td>\n",
       "    </tr>\n",
       "    <tr>\n",
       "      <th>454</th>\n",
       "      <td>485.0</td>\n",
       "      <td>NaN</td>\n",
       "      <td>0.885882</td>\n",
       "    </tr>\n",
       "  </tbody>\n",
       "</table>\n",
       "<p>455 rows × 3 columns</p>\n",
       "</div>"
      ],
      "text/plain": [
       "     Cycle_Index  Cell_Temperature (C)  SOH_discharge\n",
       "0            1.0                   NaN       0.943235\n",
       "1            2.0                   NaN       0.942059\n",
       "2            3.0                   NaN       0.942647\n",
       "3            4.0                   NaN       0.942941\n",
       "4            5.0                   NaN       0.942059\n",
       "..           ...                   ...            ...\n",
       "450        481.0                   NaN       0.886176\n",
       "451        482.0                   NaN       0.885882\n",
       "452        483.0                   NaN       0.886765\n",
       "453        484.0                   NaN       0.886471\n",
       "454        485.0                   NaN       0.885882\n",
       "\n",
       "[455 rows x 3 columns]"
      ]
     },
     "metadata": {},
     "output_type": "display_data"
    },
    {
     "data": {
      "application/vnd.microsoft.datawrangler.viewer.v0+json": {
       "columns": [
        {
         "name": "index",
         "rawType": "int64",
         "type": "integer"
        },
        {
         "name": "Cycle_Index",
         "rawType": "float64",
         "type": "float"
        },
        {
         "name": "Cell_Temperature (C)",
         "rawType": "float64",
         "type": "float"
        },
        {
         "name": "SOH_discharge",
         "rawType": "float64",
         "type": "float"
        }
       ],
       "ref": "837bb720-0015-468d-b0c5-bdf3d2eceac8",
       "rows": [
        [
         "59",
         "60.0",
         null,
         "0.9270588235294118"
        ],
        [
         "60",
         "61.0",
         null,
         "0.9267647058823529"
        ],
        [
         "62",
         "63.0",
         null,
         "0.9267647058823529"
        ],
        [
         "64",
         "65.0",
         null,
         "0.9252941176470588"
        ],
        [
         "65",
         "66.0",
         null,
         "0.9252941176470588"
        ],
        [
         "66",
         "67.0",
         null,
         "0.9252941176470588"
        ],
        [
         "67",
         "68.0",
         null,
         "0.925"
        ],
        [
         "68",
         "69.0",
         null,
         "0.9244117647058823"
        ],
        [
         "70",
         "71.0",
         null,
         "0.9247058823529413"
        ],
        [
         "71",
         "72.0",
         null,
         "0.9229411764705883"
        ],
        [
         "73",
         "74.0",
         null,
         "0.923235294117647"
        ],
        [
         "74",
         "75.0",
         null,
         "0.9229411764705883"
        ],
        [
         "75",
         "76.0",
         null,
         "0.9223529411764706"
        ],
        [
         "76",
         "77.0",
         null,
         "0.9220588235294117"
        ],
        [
         "80",
         "81.0",
         null,
         "0.9211764705882354"
        ],
        [
         "81",
         "82.0",
         null,
         "0.9211764705882354"
        ],
        [
         "82",
         "83.0",
         null,
         "0.9208823529411765"
        ],
        [
         "85",
         "86.0",
         null,
         "0.9211764705882354"
        ],
        [
         "86",
         "87.0",
         null,
         "0.9211764705882354"
        ],
        [
         "96",
         "97.0",
         null,
         "0.9191176470588236"
        ],
        [
         "97",
         "98.0",
         null,
         "0.9161764705882354"
        ],
        [
         "102",
         "103.0",
         null,
         "0.9161764705882354"
        ],
        [
         "104",
         "105.0",
         null,
         "0.9158823529411765"
        ],
        [
         "109",
         "110.0",
         null,
         "0.9164705882352941"
        ],
        [
         "110",
         "111.0",
         null,
         "0.9164705882352941"
        ],
        [
         "116",
         "117.0",
         null,
         "0.9155882352941177"
        ],
        [
         "120",
         "151.0",
         null,
         "0.9091176470588236"
        ],
        [
         "121",
         "152.0",
         null,
         "0.9091176470588236"
        ],
        [
         "123",
         "154.0",
         null,
         "0.9091176470588236"
        ],
        [
         "124",
         "155.0",
         null,
         "0.9088235294117647"
        ],
        [
         "125",
         "156.0",
         null,
         "0.9088235294117647"
        ],
        [
         "126",
         "157.0",
         null,
         "0.9085294117647059"
        ],
        [
         "128",
         "159.0",
         null,
         "0.9091176470588236"
        ],
        [
         "129",
         "160.0",
         null,
         "0.9085294117647059"
        ],
        [
         "134",
         "165.0",
         null,
         "0.9073529411764706"
        ],
        [
         "136",
         "167.0",
         null,
         "0.9073529411764706"
        ],
        [
         "137",
         "168.0",
         null,
         "0.9070588235294118"
        ],
        [
         "139",
         "170.0",
         null,
         "0.9073529411764706"
        ],
        [
         "142",
         "173.0",
         null,
         "0.906764705882353"
        ],
        [
         "144",
         "175.0",
         null,
         "0.9061764705882354"
        ],
        [
         "145",
         "176.0",
         null,
         "0.9058823529411765"
        ],
        [
         "150",
         "181.0",
         null,
         "0.9041176470588235"
        ],
        [
         "153",
         "184.0",
         null,
         "0.9052941176470588"
        ],
        [
         "154",
         "185.0",
         null,
         "0.905"
        ],
        [
         "155",
         "186.0",
         null,
         "0.9047058823529412"
        ],
        [
         "156",
         "187.0",
         null,
         "0.9044117647058825"
        ],
        [
         "157",
         "188.0",
         null,
         "0.9041176470588235"
        ],
        [
         "158",
         "189.0",
         null,
         "0.9038235294117647"
        ],
        [
         "161",
         "192.0",
         null,
         "0.9038235294117647"
        ],
        [
         "167",
         "198.0",
         null,
         "0.9058823529411765"
        ]
       ],
       "shape": {
        "columns": 3,
        "rows": 173
       }
      },
      "text/html": [
       "<div>\n",
       "<style scoped>\n",
       "    .dataframe tbody tr th:only-of-type {\n",
       "        vertical-align: middle;\n",
       "    }\n",
       "\n",
       "    .dataframe tbody tr th {\n",
       "        vertical-align: top;\n",
       "    }\n",
       "\n",
       "    .dataframe thead th {\n",
       "        text-align: right;\n",
       "    }\n",
       "</style>\n",
       "<table border=\"1\" class=\"dataframe\">\n",
       "  <thead>\n",
       "    <tr style=\"text-align: right;\">\n",
       "      <th></th>\n",
       "      <th>Cycle_Index</th>\n",
       "      <th>Cell_Temperature (C)</th>\n",
       "      <th>SOH_discharge</th>\n",
       "    </tr>\n",
       "  </thead>\n",
       "  <tbody>\n",
       "    <tr>\n",
       "      <th>59</th>\n",
       "      <td>60.0</td>\n",
       "      <td>NaN</td>\n",
       "      <td>0.927059</td>\n",
       "    </tr>\n",
       "    <tr>\n",
       "      <th>60</th>\n",
       "      <td>61.0</td>\n",
       "      <td>NaN</td>\n",
       "      <td>0.926765</td>\n",
       "    </tr>\n",
       "    <tr>\n",
       "      <th>62</th>\n",
       "      <td>63.0</td>\n",
       "      <td>NaN</td>\n",
       "      <td>0.926765</td>\n",
       "    </tr>\n",
       "    <tr>\n",
       "      <th>64</th>\n",
       "      <td>65.0</td>\n",
       "      <td>NaN</td>\n",
       "      <td>0.925294</td>\n",
       "    </tr>\n",
       "    <tr>\n",
       "      <th>65</th>\n",
       "      <td>66.0</td>\n",
       "      <td>NaN</td>\n",
       "      <td>0.925294</td>\n",
       "    </tr>\n",
       "    <tr>\n",
       "      <th>...</th>\n",
       "      <td>...</td>\n",
       "      <td>...</td>\n",
       "      <td>...</td>\n",
       "    </tr>\n",
       "    <tr>\n",
       "      <th>435</th>\n",
       "      <td>466.0</td>\n",
       "      <td>NaN</td>\n",
       "      <td>0.887647</td>\n",
       "    </tr>\n",
       "    <tr>\n",
       "      <th>436</th>\n",
       "      <td>467.0</td>\n",
       "      <td>NaN</td>\n",
       "      <td>0.887353</td>\n",
       "    </tr>\n",
       "    <tr>\n",
       "      <th>438</th>\n",
       "      <td>469.0</td>\n",
       "      <td>NaN</td>\n",
       "      <td>0.887647</td>\n",
       "    </tr>\n",
       "    <tr>\n",
       "      <th>445</th>\n",
       "      <td>476.0</td>\n",
       "      <td>NaN</td>\n",
       "      <td>0.887059</td>\n",
       "    </tr>\n",
       "    <tr>\n",
       "      <th>446</th>\n",
       "      <td>477.0</td>\n",
       "      <td>NaN</td>\n",
       "      <td>0.886765</td>\n",
       "    </tr>\n",
       "  </tbody>\n",
       "</table>\n",
       "<p>173 rows × 3 columns</p>\n",
       "</div>"
      ],
      "text/plain": [
       "     Cycle_Index  Cell_Temperature (C)  SOH_discharge\n",
       "59          60.0                   NaN       0.927059\n",
       "60          61.0                   NaN       0.926765\n",
       "62          63.0                   NaN       0.926765\n",
       "64          65.0                   NaN       0.925294\n",
       "65          66.0                   NaN       0.925294\n",
       "..           ...                   ...            ...\n",
       "435        466.0                   NaN       0.887647\n",
       "436        467.0                   NaN       0.887353\n",
       "438        469.0                   NaN       0.887647\n",
       "445        476.0                   NaN       0.887059\n",
       "446        477.0                   NaN       0.886765\n",
       "\n",
       "[173 rows x 3 columns]"
      ]
     },
     "metadata": {},
     "output_type": "display_data"
    },
    {
     "data": {
      "application/vnd.microsoft.datawrangler.viewer.v0+json": {
       "columns": [
        {
         "name": "index",
         "rawType": "int64",
         "type": "integer"
        },
        {
         "name": "Cycle_Index",
         "rawType": "float64",
         "type": "float"
        },
        {
         "name": "Cell_Temperature (C)",
         "rawType": "float64",
         "type": "float"
        },
        {
         "name": "SOH_discharge",
         "rawType": "float64",
         "type": "float"
        }
       ],
       "ref": "5983bbc4-c86a-48cb-91f5-d9b287790d71",
       "rows": [
        [
         "0",
         "1.0",
         null,
         "0.9432352941176471"
        ],
        [
         "1",
         "2.0",
         null,
         "0.9420588235294117"
        ],
        [
         "4",
         "5.0",
         null,
         "0.9420588235294117"
        ],
        [
         "5",
         "6.0",
         null,
         "0.941764705882353"
        ],
        [
         "6",
         "7.0",
         null,
         "0.9414705882352942"
        ],
        [
         "7",
         "8.0",
         null,
         "0.9414705882352942"
        ],
        [
         "8",
         "9.0",
         null,
         "0.9405882352941176"
        ],
        [
         "10",
         "11.0",
         null,
         "0.9405882352941176"
        ],
        [
         "12",
         "13.0",
         null,
         "0.9402941176470588"
        ],
        [
         "14",
         "15.0",
         null,
         "0.9402941176470588"
        ],
        [
         "15",
         "16.0",
         null,
         "0.9394117647058824"
        ],
        [
         "16",
         "17.0",
         null,
         "0.9394117647058824"
        ],
        [
         "17",
         "18.0",
         null,
         "0.9394117647058824"
        ],
        [
         "18",
         "19.0",
         null,
         "0.9394117647058824"
        ],
        [
         "22",
         "23.0",
         null,
         "0.9379411764705883"
        ],
        [
         "24",
         "25.0",
         null,
         "0.9379411764705883"
        ],
        [
         "27",
         "28.0",
         null,
         "0.9370588235294117"
        ],
        [
         "30",
         "31.0",
         null,
         "0.9364705882352942"
        ],
        [
         "34",
         "35.0",
         null,
         "0.9358823529411765"
        ],
        [
         "35",
         "36.0",
         null,
         "0.9352941176470589"
        ],
        [
         "36",
         "37.0",
         null,
         "0.9347058823529412"
        ],
        [
         "37",
         "38.0",
         null,
         "0.9341176470588236"
        ],
        [
         "38",
         "39.0",
         null,
         "0.9338235294117647"
        ],
        [
         "40",
         "41.0",
         null,
         "0.9335294117647059"
        ],
        [
         "41",
         "42.0",
         null,
         "0.9329411764705883"
        ],
        [
         "42",
         "43.0",
         null,
         "0.9323529411764706"
        ],
        [
         "46",
         "47.0",
         null,
         "0.931470588235294"
        ],
        [
         "48",
         "49.0",
         null,
         "0.931764705882353"
        ],
        [
         "49",
         "50.0",
         null,
         "0.931470588235294"
        ],
        [
         "50",
         "51.0",
         null,
         "0.93"
        ],
        [
         "51",
         "52.0",
         null,
         "0.9297058823529412"
        ],
        [
         "53",
         "54.0",
         null,
         "0.9294117647058824"
        ],
        [
         "55",
         "56.0",
         null,
         "0.9288235294117647"
        ],
        [
         "56",
         "57.0",
         null,
         "0.9276470588235294"
        ],
        [
         "58",
         "59.0",
         null,
         "0.9276470588235294"
        ],
        [
         "59",
         "60.0",
         null,
         "0.9270588235294118"
        ],
        [
         "60",
         "61.0",
         null,
         "0.9267647058823529"
        ],
        [
         "62",
         "63.0",
         null,
         "0.9267647058823529"
        ],
        [
         "63",
         "64.0",
         null,
         "0.9261764705882354"
        ],
        [
         "64",
         "65.0",
         null,
         "0.9252941176470588"
        ],
        [
         "65",
         "66.0",
         null,
         "0.9252941176470588"
        ],
        [
         "66",
         "67.0",
         null,
         "0.9252941176470588"
        ],
        [
         "67",
         "68.0",
         null,
         "0.925"
        ],
        [
         "68",
         "69.0",
         null,
         "0.9244117647058823"
        ],
        [
         "70",
         "71.0",
         null,
         "0.9247058823529413"
        ],
        [
         "71",
         "72.0",
         null,
         "0.9229411764705883"
        ],
        [
         "73",
         "74.0",
         null,
         "0.923235294117647"
        ],
        [
         "74",
         "75.0",
         null,
         "0.9229411764705883"
        ],
        [
         "75",
         "76.0",
         null,
         "0.9223529411764706"
        ],
        [
         "76",
         "77.0",
         null,
         "0.9220588235294117"
        ]
       ],
       "shape": {
        "columns": 3,
        "rows": 219
       }
      },
      "text/html": [
       "<div>\n",
       "<style scoped>\n",
       "    .dataframe tbody tr th:only-of-type {\n",
       "        vertical-align: middle;\n",
       "    }\n",
       "\n",
       "    .dataframe tbody tr th {\n",
       "        vertical-align: top;\n",
       "    }\n",
       "\n",
       "    .dataframe thead th {\n",
       "        text-align: right;\n",
       "    }\n",
       "</style>\n",
       "<table border=\"1\" class=\"dataframe\">\n",
       "  <thead>\n",
       "    <tr style=\"text-align: right;\">\n",
       "      <th></th>\n",
       "      <th>Cycle_Index</th>\n",
       "      <th>Cell_Temperature (C)</th>\n",
       "      <th>SOH_discharge</th>\n",
       "    </tr>\n",
       "  </thead>\n",
       "  <tbody>\n",
       "    <tr>\n",
       "      <th>0</th>\n",
       "      <td>1.0</td>\n",
       "      <td>NaN</td>\n",
       "      <td>0.943235</td>\n",
       "    </tr>\n",
       "    <tr>\n",
       "      <th>1</th>\n",
       "      <td>2.0</td>\n",
       "      <td>NaN</td>\n",
       "      <td>0.942059</td>\n",
       "    </tr>\n",
       "    <tr>\n",
       "      <th>4</th>\n",
       "      <td>5.0</td>\n",
       "      <td>NaN</td>\n",
       "      <td>0.942059</td>\n",
       "    </tr>\n",
       "    <tr>\n",
       "      <th>5</th>\n",
       "      <td>6.0</td>\n",
       "      <td>NaN</td>\n",
       "      <td>0.941765</td>\n",
       "    </tr>\n",
       "    <tr>\n",
       "      <th>6</th>\n",
       "      <td>7.0</td>\n",
       "      <td>NaN</td>\n",
       "      <td>0.941471</td>\n",
       "    </tr>\n",
       "    <tr>\n",
       "      <th>...</th>\n",
       "      <td>...</td>\n",
       "      <td>...</td>\n",
       "      <td>...</td>\n",
       "    </tr>\n",
       "    <tr>\n",
       "      <th>446</th>\n",
       "      <td>477.0</td>\n",
       "      <td>NaN</td>\n",
       "      <td>0.886765</td>\n",
       "    </tr>\n",
       "    <tr>\n",
       "      <th>447</th>\n",
       "      <td>478.0</td>\n",
       "      <td>NaN</td>\n",
       "      <td>0.885882</td>\n",
       "    </tr>\n",
       "    <tr>\n",
       "      <th>451</th>\n",
       "      <td>482.0</td>\n",
       "      <td>NaN</td>\n",
       "      <td>0.885882</td>\n",
       "    </tr>\n",
       "    <tr>\n",
       "      <th>453</th>\n",
       "      <td>484.0</td>\n",
       "      <td>NaN</td>\n",
       "      <td>0.886471</td>\n",
       "    </tr>\n",
       "    <tr>\n",
       "      <th>454</th>\n",
       "      <td>485.0</td>\n",
       "      <td>NaN</td>\n",
       "      <td>0.885882</td>\n",
       "    </tr>\n",
       "  </tbody>\n",
       "</table>\n",
       "<p>219 rows × 3 columns</p>\n",
       "</div>"
      ],
      "text/plain": [
       "     Cycle_Index  Cell_Temperature (C)  SOH_discharge\n",
       "0            1.0                   NaN       0.943235\n",
       "1            2.0                   NaN       0.942059\n",
       "4            5.0                   NaN       0.942059\n",
       "5            6.0                   NaN       0.941765\n",
       "6            7.0                   NaN       0.941471\n",
       "..           ...                   ...            ...\n",
       "446        477.0                   NaN       0.886765\n",
       "447        478.0                   NaN       0.885882\n",
       "451        482.0                   NaN       0.885882\n",
       "453        484.0                   NaN       0.886471\n",
       "454        485.0                   NaN       0.885882\n",
       "\n",
       "[219 rows x 3 columns]"
      ]
     },
     "metadata": {},
     "output_type": "display_data"
    },
    {
     "data": {
      "application/vnd.microsoft.datawrangler.viewer.v0+json": {
       "columns": [
        {
         "name": "index",
         "rawType": "int64",
         "type": "integer"
        },
        {
         "name": "Cycle_Index",
         "rawType": "float64",
         "type": "float"
        },
        {
         "name": "Cell_Temperature (C)",
         "rawType": "float64",
         "type": "float"
        },
        {
         "name": "SOH_discharge",
         "rawType": "float64",
         "type": "float"
        }
       ],
       "ref": "871961b9-5f72-45d6-ac9f-b6c8ccb8d851",
       "rows": [
        [
         "0",
         "1.0",
         null,
         "0.9432352941176471"
        ],
        [
         "1",
         "2.0",
         null,
         "0.9420588235294117"
        ],
        [
         "4",
         "5.0",
         null,
         "0.9420588235294117"
        ],
        [
         "5",
         "6.0",
         null,
         "0.941764705882353"
        ],
        [
         "6",
         "7.0",
         null,
         "0.9414705882352942"
        ],
        [
         "7",
         "8.0",
         null,
         "0.9414705882352942"
        ],
        [
         "8",
         "9.0",
         null,
         "0.9405882352941176"
        ],
        [
         "10",
         "11.0",
         null,
         "0.9405882352941176"
        ],
        [
         "12",
         "13.0",
         null,
         "0.9402941176470588"
        ],
        [
         "14",
         "15.0",
         null,
         "0.9402941176470588"
        ],
        [
         "15",
         "16.0",
         null,
         "0.9394117647058824"
        ],
        [
         "16",
         "17.0",
         null,
         "0.9394117647058824"
        ],
        [
         "17",
         "18.0",
         null,
         "0.9394117647058824"
        ],
        [
         "22",
         "23.0",
         null,
         "0.9379411764705883"
        ],
        [
         "34",
         "35.0",
         null,
         "0.9358823529411765"
        ],
        [
         "35",
         "36.0",
         null,
         "0.9352941176470589"
        ],
        [
         "36",
         "37.0",
         null,
         "0.9347058823529412"
        ],
        [
         "37",
         "38.0",
         null,
         "0.9341176470588236"
        ],
        [
         "38",
         "39.0",
         null,
         "0.9338235294117647"
        ],
        [
         "40",
         "41.0",
         null,
         "0.9335294117647059"
        ],
        [
         "41",
         "42.0",
         null,
         "0.9329411764705883"
        ],
        [
         "46",
         "47.0",
         null,
         "0.931470588235294"
        ],
        [
         "48",
         "49.0",
         null,
         "0.931764705882353"
        ],
        [
         "49",
         "50.0",
         null,
         "0.931470588235294"
        ],
        [
         "50",
         "51.0",
         null,
         "0.93"
        ],
        [
         "51",
         "52.0",
         null,
         "0.9297058823529412"
        ],
        [
         "53",
         "54.0",
         null,
         "0.9294117647058824"
        ],
        [
         "55",
         "56.0",
         null,
         "0.9288235294117647"
        ],
        [
         "56",
         "57.0",
         null,
         "0.9276470588235294"
        ],
        [
         "58",
         "59.0",
         null,
         "0.9276470588235294"
        ],
        [
         "59",
         "60.0",
         null,
         "0.9270588235294118"
        ],
        [
         "60",
         "61.0",
         null,
         "0.9267647058823529"
        ],
        [
         "62",
         "63.0",
         null,
         "0.9267647058823529"
        ],
        [
         "63",
         "64.0",
         null,
         "0.9261764705882354"
        ],
        [
         "64",
         "65.0",
         null,
         "0.9252941176470588"
        ],
        [
         "65",
         "66.0",
         null,
         "0.9252941176470588"
        ],
        [
         "66",
         "67.0",
         null,
         "0.9252941176470588"
        ],
        [
         "67",
         "68.0",
         null,
         "0.925"
        ],
        [
         "68",
         "69.0",
         null,
         "0.9244117647058823"
        ],
        [
         "70",
         "71.0",
         null,
         "0.9247058823529413"
        ],
        [
         "71",
         "72.0",
         null,
         "0.9229411764705883"
        ],
        [
         "73",
         "74.0",
         null,
         "0.923235294117647"
        ],
        [
         "74",
         "75.0",
         null,
         "0.9229411764705883"
        ],
        [
         "75",
         "76.0",
         null,
         "0.9223529411764706"
        ],
        [
         "80",
         "81.0",
         null,
         "0.9211764705882354"
        ],
        [
         "81",
         "82.0",
         null,
         "0.9211764705882354"
        ],
        [
         "85",
         "86.0",
         null,
         "0.9211764705882354"
        ],
        [
         "86",
         "87.0",
         null,
         "0.9211764705882354"
        ],
        [
         "87",
         "88.0",
         null,
         "0.92"
        ],
        [
         "89",
         "90.0",
         null,
         "0.9194117647058824"
        ]
       ],
       "shape": {
        "columns": 3,
        "rows": 210
       }
      },
      "text/html": [
       "<div>\n",
       "<style scoped>\n",
       "    .dataframe tbody tr th:only-of-type {\n",
       "        vertical-align: middle;\n",
       "    }\n",
       "\n",
       "    .dataframe tbody tr th {\n",
       "        vertical-align: top;\n",
       "    }\n",
       "\n",
       "    .dataframe thead th {\n",
       "        text-align: right;\n",
       "    }\n",
       "</style>\n",
       "<table border=\"1\" class=\"dataframe\">\n",
       "  <thead>\n",
       "    <tr style=\"text-align: right;\">\n",
       "      <th></th>\n",
       "      <th>Cycle_Index</th>\n",
       "      <th>Cell_Temperature (C)</th>\n",
       "      <th>SOH_discharge</th>\n",
       "    </tr>\n",
       "  </thead>\n",
       "  <tbody>\n",
       "    <tr>\n",
       "      <th>0</th>\n",
       "      <td>1.0</td>\n",
       "      <td>NaN</td>\n",
       "      <td>0.943235</td>\n",
       "    </tr>\n",
       "    <tr>\n",
       "      <th>1</th>\n",
       "      <td>2.0</td>\n",
       "      <td>NaN</td>\n",
       "      <td>0.942059</td>\n",
       "    </tr>\n",
       "    <tr>\n",
       "      <th>4</th>\n",
       "      <td>5.0</td>\n",
       "      <td>NaN</td>\n",
       "      <td>0.942059</td>\n",
       "    </tr>\n",
       "    <tr>\n",
       "      <th>5</th>\n",
       "      <td>6.0</td>\n",
       "      <td>NaN</td>\n",
       "      <td>0.941765</td>\n",
       "    </tr>\n",
       "    <tr>\n",
       "      <th>6</th>\n",
       "      <td>7.0</td>\n",
       "      <td>NaN</td>\n",
       "      <td>0.941471</td>\n",
       "    </tr>\n",
       "    <tr>\n",
       "      <th>...</th>\n",
       "      <td>...</td>\n",
       "      <td>...</td>\n",
       "      <td>...</td>\n",
       "    </tr>\n",
       "    <tr>\n",
       "      <th>446</th>\n",
       "      <td>477.0</td>\n",
       "      <td>NaN</td>\n",
       "      <td>0.886765</td>\n",
       "    </tr>\n",
       "    <tr>\n",
       "      <th>447</th>\n",
       "      <td>478.0</td>\n",
       "      <td>NaN</td>\n",
       "      <td>0.885882</td>\n",
       "    </tr>\n",
       "    <tr>\n",
       "      <th>451</th>\n",
       "      <td>482.0</td>\n",
       "      <td>NaN</td>\n",
       "      <td>0.885882</td>\n",
       "    </tr>\n",
       "    <tr>\n",
       "      <th>453</th>\n",
       "      <td>484.0</td>\n",
       "      <td>NaN</td>\n",
       "      <td>0.886471</td>\n",
       "    </tr>\n",
       "    <tr>\n",
       "      <th>454</th>\n",
       "      <td>485.0</td>\n",
       "      <td>NaN</td>\n",
       "      <td>0.885882</td>\n",
       "    </tr>\n",
       "  </tbody>\n",
       "</table>\n",
       "<p>210 rows × 3 columns</p>\n",
       "</div>"
      ],
      "text/plain": [
       "     Cycle_Index  Cell_Temperature (C)  SOH_discharge\n",
       "0            1.0                   NaN       0.943235\n",
       "1            2.0                   NaN       0.942059\n",
       "4            5.0                   NaN       0.942059\n",
       "5            6.0                   NaN       0.941765\n",
       "6            7.0                   NaN       0.941471\n",
       "..           ...                   ...            ...\n",
       "446        477.0                   NaN       0.886765\n",
       "447        478.0                   NaN       0.885882\n",
       "451        482.0                   NaN       0.885882\n",
       "453        484.0                   NaN       0.886471\n",
       "454        485.0                   NaN       0.885882\n",
       "\n",
       "[210 rows x 3 columns]"
      ]
     },
     "metadata": {},
     "output_type": "display_data"
    }
   ],
   "source": [
    "# Remoção de outliers e valores crescentes\n",
    "df_IsolForest = ensure_non_increasing(df_grouped, 'SOH_discharge')\n",
    "df_IsolForest = rmv_outliers_isolation_forest(df_IsolForest, 'SOH_discharge')\n",
    "\n",
    "df_IQR = ensure_non_increasing(df_grouped, 'SOH_discharge')\n",
    "df_IQR = rmv_outliers_iqr(df_IQR, 'SOH_discharge')\n",
    "\n",
    "df_ZScore = ensure_non_increasing(df_grouped, 'SOH_discharge')\n",
    "df_ZScore = rmv_outliers_zscore(df_ZScore, 'SOH_discharge', threshold=1.5)\n",
    "\n",
    "df_ZScore = rmv_sharp_jump(df_ZScore, 'SOH_discharge', threshold=0.05, repeat=2) # 5% de SOH\n",
    "\n",
    "display(df_grouped)\n",
    "display(df_IsolForest)\n",
    "display(df_IQR)\n",
    "display(df_ZScore)"
   ]
  },
  {
   "cell_type": "markdown",
   "metadata": {},
   "source": [
    "### [numpy.interp() parameters](https://numpy.org/doc/2.1/reference/generated/numpy.interp.html):\n",
    "- `x`: _array_like_ . The x-coordinates at which to evaluate the interpolated values.\n",
    "\n",
    "- `xp`: _1-D sequence of floats_. The x-coordinates of the data points, must be increasing if argument period is not specified. Otherwise, xp is internally sorted after normalizing the periodic boundaries with xp = xp % period.\n",
    "\n",
    "- `fp`: _1-D sequence of float or complex_. The y-coordinates of the data points, same length as xp.\n",
    "\n",
    "Returns the one-dimensional piecewise linear interpolant to a function with given discrete data points (xp, fp), evaluated at x:\n",
    "- `y`: float or complex (corresponding to fp) or ndarray. The interpolated values, same shape as x."
   ]
  },
  {
   "cell_type": "code",
   "execution_count": 29,
   "metadata": {},
   "outputs": [],
   "source": [
    "def interpolate_soh(df: pd.DataFrame, soh_column: str, cycles_column: str) -> pd.DataFrame:\n",
    "    # Define thresholds de interesse (99%, 98%, ...)\n",
    "    thresholds = np.arange(1.00, 0.00, -0.01)\n",
    "\n",
    "    soh = df[soh_column].values\n",
    "    cycles = df[cycles_column].values\n",
    "\n",
    "    # Inverte para que fique crescente\n",
    "    xp = soh[::-1]\n",
    "    fp = cycles[::-1]\n",
    "\n",
    "    valid = (thresholds >= xp.min()) & (thresholds <= xp.max())\n",
    "    thresholds = thresholds[valid]\n",
    "\n",
    "    # np.interp(x, xp, fp) assume xp crescente e retorna y para cada x em thresholds\n",
    "    estimated_cycles = np.interp(thresholds, xp, fp)\n",
    "    print(f'Número de thresholds válidos: {len(thresholds)}')\n",
    "    df_estimates = pd.DataFrame({\n",
    "        'SOH_threshold': thresholds,\n",
    "        'estimated_cycle': estimated_cycles\n",
    "    })\n",
    "\n",
    "    # Cast para float com 2 casas decimais\n",
    "    df_estimates['SOH_threshold'] = df_estimates['SOH_threshold'].astype(float).round(2)\n",
    "\n",
    "    # Queda de ciclos (a cada 1%)\n",
    "    df_estimates['NCD1%'] = df_estimates['estimated_cycle'].diff()\n",
    "    \n",
    "    return df_estimates"
   ]
  },
  {
   "cell_type": "code",
   "execution_count": 30,
   "metadata": {},
   "outputs": [
    {
     "name": "stdout",
     "output_type": "stream",
     "text": [
      "Número de thresholds válidos: 22\n",
      "Número de thresholds válidos: 19\n",
      "Número de thresholds válidos: 6\n",
      "Número de thresholds válidos: 6\n"
     ]
    }
   ],
   "source": [
    "df_grouped_estimates     = interpolate_soh(df_grouped, 'SOH_discharge', 'Cycle_Index')\n",
    "df_IsolForest_estimates  = interpolate_soh(df_IsolForest, 'SOH_discharge', 'Cycle_Index')\n",
    "df_IQR_estimates         = interpolate_soh(df_IQR, 'SOH_discharge', 'Cycle_Index')\n",
    "df_ZScore_estimates      = interpolate_soh(df_ZScore, 'SOH_discharge', 'Cycle_Index')"
   ]
  },
  {
   "cell_type": "code",
   "execution_count": 31,
   "metadata": {},
   "outputs": [
    {
     "data": {
      "image/png": "[encoded data removed]",
      "text/plain": [
       "<Figure size 2500x1500 with 4 Axes>"
      ]
     },
     "metadata": {},
     "output_type": "display_data"
    }
   ],
   "source": [
    "# Crie a figura com 4 subplots em um layout 2x2\n",
    "fig, axs = plt.subplots(2, 2, figsize=(25, 15))\n",
    "\n",
    "# Título geral para o plot\n",
    "fig.suptitle('Comparativo de Abordagens de Limpeza de Dados', fontsize=20)\n",
    "\n",
    "# Eixo Y compartilhado para padronizar os gráficos\n",
    "for ax in axs.flat:\n",
    "    ax.set_ylim(40, 105) # SOH in percentage\n",
    "\n",
    "# Configuração de Ticks do Eixo X\n",
    "xmin = df_grouped[\"Cycle_Index\"].min()\n",
    "xmax = df_grouped[\"Cycle_Index\"].max()\n",
    "major_ticks = np.arange(0, xmax + 1, 200)\n",
    "minor_ticks = np.arange(0, xmax + 1, 50)\n",
    "\n",
    "# 1. Plot para \"Dados Originais\"\n",
    "axs[0, 0].plot(df_grouped[\"Cycle_Index\"], df_grouped[\"SOH_discharge\"] * 100, label=\"Dados Originais\", color='gray', linewidth=1.5, zorder=1)\n",
    "#axs[0, 0].scatter(df_grouped_estimates[\"estimated_cycle\"], df_grouped_estimates[\"SOH_threshold\"] * 100, label=\"Queda de 1%\", color='gray', marker='d', s=100, zorder=3)\n",
    "axs[0, 0].set_title(\"1. Dados Originais\", fontsize=16)\n",
    "axs[0, 0].set_ylabel(\"SOH (%)\", fontsize=12)\n",
    "\n",
    "# 2. Plot para \"Isolation Forest\"\n",
    "axs[0, 1].plot(df_IsolForest[\"Cycle_Index\"], df_IsolForest[\"SOH_discharge\"] * 100, label=\"Limpeza com Isolation Forest\", color='darkorange', linewidth=2.5, zorder=2)\n",
    "# axs[0, 1].scatter(df_IsolForest_estimates[\"estimated_cycle\"], df_IsolForest_estimates[\"SOH_threshold\"] * 100, label=\"Queda de 1%\", color='darkorange', marker='d', s=100, zorder=3)\n",
    "axs[0, 1].set_title(\"2. Limpeza com Isolation Forest\", fontsize=16)\n",
    "\n",
    "# 3. Plot para \"IQR\"\n",
    "axs[1, 0].plot(df_IQR[\"Cycle_Index\"], df_IQR[\"SOH_discharge\"] * 100, label=\"Limpeza com IQR\", color='skyblue', linewidth=2.5, zorder=2)\n",
    "# axs[1, 0].scatter(df_IQR_estimates[\"estimated_cycle\"], df_IQR_estimates[\"SOH_threshold\"] * 100, label=\"Queda de 1%\", color='skyblue', marker='d', s=100, zorder=3)\n",
    "axs[1, 0].set_title(\"3. Limpeza com IQR\", fontsize=16)\n",
    "axs[1, 0].set_xlabel(\"Índice de Ciclo\", fontsize=12)\n",
    "axs[1, 0].set_ylabel(\"SOH (%)\", fontsize=12)\n",
    "\n",
    "# 4. Plot para \"Z-Score\"\n",
    "axs[1, 1].plot(df_ZScore[\"Cycle_Index\"], df_ZScore[\"SOH_discharge\"] * 100, label=\"Limpeza com Z-Score\", color='forestgreen', linewidth=2.5, zorder=2)\n",
    "# axs[1, 1].scatter(df_ZScore_estimates[\"estimated_cycle\"], df_ZScore_estimates[\"SOH_threshold\"] * 100, label=\"Queda de 1%\", color='forestgreen', marker='d', s=100, zorder=3)\n",
    "axs[1, 1].set_title(\"4. Limpeza com Z-Score\", fontsize=16)\n",
    "axs[1, 1].set_xlabel(\"Índice de Ciclo\", fontsize=12)\n",
    "\n",
    "# Adicione grids, ticks e legendas para cada subplot\n",
    "for ax in axs.flat:\n",
    "    ax.set_xticks(major_ticks)\n",
    "    ax.set_xticks(minor_ticks, minor=True)\n",
    "    ax.grid(which='major', linestyle='-', linewidth=1, alpha=0.9)\n",
    "    ax.grid(which='minor', linestyle='--', linewidth=0.5, alpha=0.7)\n",
    "    ax.legend(loc='best', fontsize=10)\n",
    "\n",
    "plt.tight_layout(rect=[0, 0, 1, 0.96])\n",
    "plt.show()\n"
   ]
  },
  {
   "cell_type": "markdown",
   "metadata": {},
   "source": [
    "## Z-score com ensure_non_decreasing e rmv_sharp_jump é o escolhido"
   ]
  },
  {
   "cell_type": "code",
   "execution_count": 32,
   "metadata": {},
   "outputs": [
    {
     "name": "stdout",
     "output_type": "stream",
     "text": [
      "Número de NCD1%: 5\n",
      "Média: 81.13, Desvio-padrão: 58.47\n"
     ]
    },
    {
     "data": {
      "image/png": "[encoded data removed]",
      "text/plain": [
       "<Figure size 1200x200 with 1 Axes>"
      ]
     },
     "metadata": {},
     "output_type": "display_data"
    }
   ],
   "source": [
    "df_ZScore_estimates = rmv_outliers_iqr(df_ZScore_estimates, 'NCD1%')\n",
    "\n",
    "data = df_ZScore_estimates[\"NCD1%\"].dropna().values\n",
    "print(f'Número de NCD1%: {len(data)}')\n",
    "\n",
    "mean = np.mean(data)\n",
    "std  = np.std(data, ddof=1)\n",
    "print(f'Média: {mean:.2f}, Desvio-padrão: {std:.2f}')\n",
    "\n",
    "# Seleciona a cor padrão 'C0' do matplotlib (primeira cor)\n",
    "default_color = plt.rcParams['axes.prop_cycle'].by_key()['color'][0]\n",
    "fig, ax = plt.subplots(figsize=(12, 2))\n",
    "\n",
    "sns.boxplot(\n",
    "    x=data,                   # valores no eixo x\n",
    "    y=np.zeros_like(data),    # posição 0 no eixo y\n",
    "    ax=ax,\n",
    "    orient='h',\n",
    "    linewidth=1,\n",
    "    zorder=2\n",
    ")\n",
    "\n",
    "# Deixa a face do boxplot semitransparente\n",
    "for patch in ax.patches:\n",
    "    if hasattr(patch, 'get_facecolor'):\n",
    "        r, g, b, a = patch.get_facecolor()\n",
    "        patch.set_facecolor((r, g, b, 0.3))  # alpha = 0.3\n",
    "\n",
    "# Sobreposição de pontos (scatter) com baixa opacidade\n",
    "sns.scatterplot(\n",
    "    x=data,\n",
    "    y=np.zeros_like(data),\n",
    "    ax=ax,\n",
    "    s=60,                     # tamanho dos pontos\n",
    "    color=default_color,      # mesma cor do boxplot\n",
    "    alpha=0.7,\n",
    "    zorder=1\n",
    ")\n",
    "\n",
    "# Remove os ticks do eixo y (não fazem sentido aqui)\n",
    "ax.set_yticks([])\n",
    "\n",
    "ax.set_xlabel(\"NCD1%\")\n",
    "ax.tick_params(which='major', labelsize=12)\n",
    "\n",
    "plt.title(\"Distribuição de NCD1%\", fontsize=18)\n",
    "plt.grid(True, linestyle='--', linewidth=0.5, alpha=0.7)\n",
    "\n",
    "plt.show()"
   ]
  },
  {
   "cell_type": "code",
   "execution_count": 33,
   "metadata": {},
   "outputs": [
    {
     "data": {
      "image/png": "[encoded data removed]",
      "text/plain": [
       "<Figure size 900x400 with 1 Axes>"
      ]
     },
     "metadata": {},
     "output_type": "display_data"
    }
   ],
   "source": [
    "data = np.sort(data)  # Garante que os dados estão ordenados\n",
    "n    = len(data)\n",
    "\n",
    "# Faz o fitting para encotnrar os parametros e calcula a funcao acumulada dos dados considerando comportamento normal\n",
    "mean, std = norm.fit(data)\n",
    "teo_norm  = norm.cdf(data, loc=mean, scale=std)\n",
    "\n",
    "plt.figure(figsize=(9, 4))\n",
    "\n",
    "# Probabilidade acumulada empírica (1/n, 2/n, ..., 1)\n",
    "cdf_emp = np.arange(0, n)/(n-1)\n",
    "plt.plot(data, cdf_emp, marker='o', linestyle='-', label=\"CDF NCD1%\", zorder=3, alpha=0.7)\n",
    "\n",
    "# Função acumulada da normal (teórica)\n",
    "plt.plot(data, teo_norm, linestyle='--', label=f\"CDF Normal fit\\n(μ={mean:.2f}, σ={std:.2f})\")\n",
    "\n",
    "plt.xlabel(\"NCD1\")\n",
    "plt.ylabel(\"Probabilidade acumulada\")\n",
    "plt.title(\"NCD1% e Curva Normal aproximada\")\n",
    "plt.legend()\n",
    "plt.grid(True, linestyle='--', linewidth=0.5, alpha=0.7)\n",
    "\n",
    "plt.show()\n"
   ]
  },
  {
   "cell_type": "markdown",
   "metadata": {},
   "source": [
    "Teste de Kolmogorov–Smirnov (KS) para verificar formalmente se o conjunto de dados de NCD1% (`data`) segue a distribuição Normal com os parametros encontrados no método de fitting\n",
    "\n",
    "De acordo com a [documentação de **kstest**](https://docs.scipy.org/doc/scipy/reference/generated/scipy.stats.kstest.html):\n",
    "- ``rvs=data``\n",
    "    - Array de observações ordenadas\n",
    "- ``cdf='norm'`` \n",
    "    - Especifica que a distribuição teórica é a de uma normal\n",
    "- ``args=(mean, std)`` \n",
    "    - Parâmetros (μ, σ) da normal teórica\n",
    "\n",
    "Retorna:\n",
    "\n",
    "- ``D (statistic) `` \n",
    "    - Representa a maior diferença absoluta entre aa curva dados e a CDF da Normal teórica\n",
    "    - Quanto menor, mais próximo o ajuste está dos dados observados\n",
    "\n",
    "- ``p-value``\n",
    "    - Probabilidade de observar uma estatística \\( D \\) igual ou mais extrema sob a suposição de que os dados vêm de uma Normal\n",
    "    - **Valores altos (> alpha) indicam falha em rejeitar a hipótese de normalidade**. \n",
    "    - Valores baixos (< alpha) indicam evidência contra a hipótese"
   ]
  },
  {
   "cell_type": "code",
   "execution_count": 34,
   "metadata": {},
   "outputs": [
    {
     "name": "stdout",
     "output_type": "stream",
     "text": [
      "KS statistic: 0.2791\n",
      "p-value: 0.7444\n",
      "alpha = 0.05\n",
      "Hipótese aceita.\n"
     ]
    }
   ],
   "source": [
    "statistic, p_value = kstest(rvs=data, cdf='norm', args=(mean, std))\n",
    "\n",
    "print(f\"KS statistic: {statistic:.4f}\")\n",
    "print(f\"p-value: {p_value:.4f}\")\n",
    "\n",
    "alpha = 0.05\n",
    "print(f'alpha = {alpha}')\n",
    "if p_value < alpha: print(f\"Hipótese rejeitada.\")\n",
    "else: print(f\"Hipótese aceita.\")"
   ]
  }
 ],
 "metadata": {
  "kernelspec": {
   "display_name": "Python 3",
   "language": "python",
   "name": "python3"
  },
  "language_info": {
   "codemirror_mode": {
    "name": "ipython",
    "version": 3
   },
   "file_extension": ".py",
   "mimetype": "text/x-python",
   "name": "python",
   "nbconvert_exporter": "python",
   "pygments_lexer": "ipython3",
   "version": "3.13.7"
  }
 },
 "nbformat": 4,
 "nbformat_minor": 2
}
