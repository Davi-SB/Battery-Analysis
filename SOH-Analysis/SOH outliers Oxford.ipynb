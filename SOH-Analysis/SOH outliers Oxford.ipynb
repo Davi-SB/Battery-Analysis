{
 "cells": [
  {
   "cell_type": "code",
   "execution_count": 52,
   "metadata": {},
   "outputs": [],
   "source": [
    "import numpy as np\n",
    "import pandas as pd\n",
    "import seaborn as sns\n",
    "import matplotlib.pyplot as plt\n",
    "from IPython.display import display\n",
    "from scipy.stats import norm, kstest, zscore\n",
    "from sklearn.ensemble import IsolationForest\n"
   ]
  },
  {
   "cell_type": "markdown",
   "metadata": {},
   "source": [
    "# Oxford"
   ]
  },
  {
   "cell_type": "markdown",
   "metadata": {},
   "source": [
    "## Limpeza e preparação"
   ]
  },
  {
   "cell_type": "markdown",
   "metadata": {},
   "source": [
    "- Corrente negativa --> descarga\n",
    "- Corrente positiva --> carga"
   ]
  },
  {
   "cell_type": "code",
   "execution_count": 53,
   "metadata": {},
   "outputs": [
    {
     "data": {
      "application/vnd.microsoft.datawrangler.viewer.v0+json": {
       "columns": [
        {
         "name": "index",
         "rawType": "int64",
         "type": "integer"
        },
        {
         "name": "Cycle_Index",
         "rawType": "float64",
         "type": "float"
        },
        {
         "name": "Test_Time (s)",
         "rawType": "float64",
         "type": "float"
        },
        {
         "name": "Current (A)",
         "rawType": "float64",
         "type": "float"
        },
        {
         "name": "Voltage (V)",
         "rawType": "float64",
         "type": "float"
        },
        {
         "name": "Discharge_Capacity (Ah)",
         "rawType": "float64",
         "type": "float"
        },
        {
         "name": "Cell_Temperature (C)",
         "rawType": "float64",
         "type": "float"
        }
       ],
       "ref": "e24e6496-f2e6-497c-a13f-916f8652b25c",
       "rows": [
        [
         "1",
         "1.0",
         "0.999",
         "-0.74",
         "4.175",
         "0.0",
         "40.051"
        ],
        [
         "2",
         "1.0",
         "1.999",
         "-0.74",
         "4.174",
         "0.0",
         "39.988"
        ],
        [
         "3",
         "1.0",
         "2.999",
         "-0.74",
         "4.172",
         "0.0",
         "39.976"
        ],
        [
         "4",
         "1.0",
         "3.999",
         "-0.74",
         "4.171",
         "0.0",
         "39.964"
        ],
        [
         "5",
         "1.0",
         "4.999",
         "-0.74",
         "4.17",
         "0.001",
         "39.988"
        ],
        [
         "6",
         "1.0",
         "5.999",
         "-0.74",
         "4.169",
         "0.001",
         "40.076"
        ],
        [
         "7",
         "1.0",
         "6.999",
         "-0.74",
         "4.168",
         "0.001",
         "40.051"
        ],
        [
         "8",
         "1.0",
         "7.999",
         "-0.74",
         "4.167",
         "0.001",
         "39.988"
        ],
        [
         "9",
         "1.0",
         "8.999",
         "-0.74",
         "4.166",
         "0.001",
         "40.051"
        ],
        [
         "10",
         "1.0",
         "9.999",
         "-0.74",
         "4.165",
         "0.002",
         "40.001"
        ],
        [
         "11",
         "1.0",
         "10.999",
         "-0.74",
         "4.165",
         "0.002",
         "39.988"
        ],
        [
         "12",
         "1.0",
         "11.999",
         "-0.74",
         "4.164",
         "0.002",
         "39.976"
        ],
        [
         "13",
         "1.0",
         "12.999",
         "-0.74",
         "4.163",
         "0.002",
         "40.013"
        ],
        [
         "14",
         "1.0",
         "13.999",
         "-0.74",
         "4.163",
         "0.002",
         "40.063"
        ],
        [
         "15",
         "1.0",
         "14.999",
         "-0.74",
         "4.162",
         "0.003",
         "40.013"
        ],
        [
         "16",
         "1.0",
         "15.999",
         "-0.74",
         "4.161",
         "0.003",
         "39.964"
        ],
        [
         "17",
         "1.0",
         "16.999",
         "-0.74",
         "4.161",
         "0.003",
         "40.051"
        ],
        [
         "18",
         "1.0",
         "17.999",
         "-0.74",
         "4.16",
         "0.003",
         "39.976"
        ],
        [
         "19",
         "1.0",
         "18.999",
         "-0.74",
         "4.16",
         "0.003",
         "40.001"
        ],
        [
         "20",
         "1.0",
         "19.999",
         "-0.74",
         "4.159",
         "0.004",
         "40.013"
        ],
        [
         "21",
         "1.0",
         "20.999",
         "-0.74",
         "4.158",
         "0.004",
         "40.038"
        ],
        [
         "22",
         "1.0",
         "21.999",
         "-0.74",
         "4.158",
         "0.004",
         "40.026"
        ],
        [
         "23",
         "1.0",
         "22.999",
         "-0.74",
         "4.157",
         "0.004",
         "40.013"
        ],
        [
         "24",
         "1.0",
         "23.999",
         "-0.74",
         "4.157",
         "0.004",
         "40.013"
        ],
        [
         "25",
         "1.0",
         "24.999",
         "-0.74",
         "4.156",
         "0.005",
         "39.976"
        ],
        [
         "26",
         "1.0",
         "25.999",
         "-0.74",
         "4.156",
         "0.005",
         "40.038"
        ],
        [
         "27",
         "1.0",
         "26.999",
         "-0.74",
         "4.155",
         "0.005",
         "40.076"
        ],
        [
         "28",
         "1.0",
         "27.999",
         "-0.74",
         "4.155",
         "0.005",
         "40.063"
        ],
        [
         "29",
         "1.0",
         "28.999",
         "-0.74",
         "4.154",
         "0.005",
         "40.001"
        ],
        [
         "30",
         "1.0",
         "29.999",
         "-0.74",
         "4.154",
         "0.006",
         "40.038"
        ],
        [
         "31",
         "1.0",
         "30.999",
         "-0.74",
         "4.153",
         "0.006",
         "40.013"
        ],
        [
         "32",
         "1.0",
         "31.999",
         "-0.74",
         "4.153",
         "0.006",
         "40.001"
        ],
        [
         "33",
         "1.0",
         "32.999",
         "-0.74",
         "4.153",
         "0.006",
         "40.076"
        ],
        [
         "34",
         "1.0",
         "33.999",
         "-0.74",
         "4.152",
         "0.006",
         "40.013"
        ],
        [
         "35",
         "1.0",
         "34.999",
         "-0.74",
         "4.152",
         "0.007",
         "40.026"
        ],
        [
         "36",
         "1.0",
         "35.999",
         "-0.74",
         "4.151",
         "0.007",
         "40.101"
        ],
        [
         "37",
         "1.0",
         "36.999",
         "-0.74",
         "4.151",
         "0.007",
         "40.051"
        ],
        [
         "38",
         "1.0",
         "37.999",
         "-0.74",
         "4.15",
         "0.007",
         "40.063"
        ],
        [
         "39",
         "1.0",
         "38.999",
         "-0.74",
         "4.15",
         "0.008",
         "40.076"
        ],
        [
         "40",
         "1.0",
         "39.999",
         "-0.74",
         "4.149",
         "0.008",
         "39.988"
        ],
        [
         "41",
         "1.0",
         "40.999",
         "-0.74",
         "4.149",
         "0.008",
         "40.076"
        ],
        [
         "42",
         "1.0",
         "41.999",
         "-0.74",
         "4.149",
         "0.008",
         "40.001"
        ],
        [
         "43",
         "1.0",
         "42.999",
         "-0.74",
         "4.148",
         "0.008",
         "39.988"
        ],
        [
         "44",
         "1.0",
         "43.999",
         "-0.74",
         "4.147",
         "0.009",
         "40.088"
        ],
        [
         "45",
         "1.0",
         "44.999",
         "-0.74",
         "4.147",
         "0.009",
         "40.038"
        ],
        [
         "46",
         "1.0",
         "45.999",
         "-0.74",
         "4.147",
         "0.009",
         "40.076"
        ],
        [
         "47",
         "1.0",
         "46.999",
         "-0.74",
         "4.146",
         "0.009",
         "40.076"
        ],
        [
         "48",
         "1.0",
         "47.999",
         "-0.74",
         "4.146",
         "0.009",
         "40.013"
        ],
        [
         "49",
         "1.0",
         "48.999",
         "-0.74",
         "4.146",
         "0.01",
         "40.063"
        ],
        [
         "50",
         "1.0",
         "49.999",
         "-0.74",
         "4.145",
         "0.01",
         "40.088"
        ]
       ],
       "shape": {
        "columns": 6,
        "rows": 230707
       }
      },
      "text/html": [
       "<div>\n",
       "<style scoped>\n",
       "    .dataframe tbody tr th:only-of-type {\n",
       "        vertical-align: middle;\n",
       "    }\n",
       "\n",
       "    .dataframe tbody tr th {\n",
       "        vertical-align: top;\n",
       "    }\n",
       "\n",
       "    .dataframe thead th {\n",
       "        text-align: right;\n",
       "    }\n",
       "</style>\n",
       "<table border=\"1\" class=\"dataframe\">\n",
       "  <thead>\n",
       "    <tr style=\"text-align: right;\">\n",
       "      <th></th>\n",
       "      <th>Cycle_Index</th>\n",
       "      <th>Test_Time (s)</th>\n",
       "      <th>Current (A)</th>\n",
       "      <th>Voltage (V)</th>\n",
       "      <th>Discharge_Capacity (Ah)</th>\n",
       "      <th>Cell_Temperature (C)</th>\n",
       "    </tr>\n",
       "  </thead>\n",
       "  <tbody>\n",
       "    <tr>\n",
       "      <th>1</th>\n",
       "      <td>1.0</td>\n",
       "      <td>9.990000e-01</td>\n",
       "      <td>-0.74</td>\n",
       "      <td>4.175</td>\n",
       "      <td>0.000</td>\n",
       "      <td>40.051</td>\n",
       "    </tr>\n",
       "    <tr>\n",
       "      <th>2</th>\n",
       "      <td>1.0</td>\n",
       "      <td>1.999000e+00</td>\n",
       "      <td>-0.74</td>\n",
       "      <td>4.174</td>\n",
       "      <td>0.000</td>\n",
       "      <td>39.988</td>\n",
       "    </tr>\n",
       "    <tr>\n",
       "      <th>3</th>\n",
       "      <td>1.0</td>\n",
       "      <td>2.999000e+00</td>\n",
       "      <td>-0.74</td>\n",
       "      <td>4.172</td>\n",
       "      <td>0.000</td>\n",
       "      <td>39.976</td>\n",
       "    </tr>\n",
       "    <tr>\n",
       "      <th>4</th>\n",
       "      <td>1.0</td>\n",
       "      <td>3.999000e+00</td>\n",
       "      <td>-0.74</td>\n",
       "      <td>4.171</td>\n",
       "      <td>0.000</td>\n",
       "      <td>39.964</td>\n",
       "    </tr>\n",
       "    <tr>\n",
       "      <th>5</th>\n",
       "      <td>1.0</td>\n",
       "      <td>4.999000e+00</td>\n",
       "      <td>-0.74</td>\n",
       "      <td>4.170</td>\n",
       "      <td>0.001</td>\n",
       "      <td>39.988</td>\n",
       "    </tr>\n",
       "    <tr>\n",
       "      <th>...</th>\n",
       "      <td>...</td>\n",
       "      <td>...</td>\n",
       "      <td>...</td>\n",
       "      <td>...</td>\n",
       "      <td>...</td>\n",
       "      <td>...</td>\n",
       "    </tr>\n",
       "    <tr>\n",
       "      <th>457802</th>\n",
       "      <td>8200.0</td>\n",
       "      <td>5.517855e+07</td>\n",
       "      <td>-0.74</td>\n",
       "      <td>3.336</td>\n",
       "      <td>0.528</td>\n",
       "      <td>41.249</td>\n",
       "    </tr>\n",
       "    <tr>\n",
       "      <th>457803</th>\n",
       "      <td>8200.0</td>\n",
       "      <td>5.517855e+07</td>\n",
       "      <td>-0.74</td>\n",
       "      <td>3.335</td>\n",
       "      <td>0.528</td>\n",
       "      <td>41.237</td>\n",
       "    </tr>\n",
       "    <tr>\n",
       "      <th>457804</th>\n",
       "      <td>8200.0</td>\n",
       "      <td>5.517855e+07</td>\n",
       "      <td>-0.74</td>\n",
       "      <td>3.333</td>\n",
       "      <td>0.528</td>\n",
       "      <td>41.199</td>\n",
       "    </tr>\n",
       "    <tr>\n",
       "      <th>457805</th>\n",
       "      <td>8200.0</td>\n",
       "      <td>5.517855e+07</td>\n",
       "      <td>-0.74</td>\n",
       "      <td>3.332</td>\n",
       "      <td>0.529</td>\n",
       "      <td>41.224</td>\n",
       "    </tr>\n",
       "    <tr>\n",
       "      <th>457806</th>\n",
       "      <td>8200.0</td>\n",
       "      <td>5.517871e+07</td>\n",
       "      <td>-0.74</td>\n",
       "      <td>2.745</td>\n",
       "      <td>0.561</td>\n",
       "      <td>41.424</td>\n",
       "    </tr>\n",
       "  </tbody>\n",
       "</table>\n",
       "<p>230707 rows × 6 columns</p>\n",
       "</div>"
      ],
      "text/plain": [
       "        Cycle_Index  Test_Time (s)  Current (A)  Voltage (V)  \\\n",
       "1               1.0   9.990000e-01        -0.74        4.175   \n",
       "2               1.0   1.999000e+00        -0.74        4.174   \n",
       "3               1.0   2.999000e+00        -0.74        4.172   \n",
       "4               1.0   3.999000e+00        -0.74        4.171   \n",
       "5               1.0   4.999000e+00        -0.74        4.170   \n",
       "...             ...            ...          ...          ...   \n",
       "457802       8200.0   5.517855e+07        -0.74        3.336   \n",
       "457803       8200.0   5.517855e+07        -0.74        3.335   \n",
       "457804       8200.0   5.517855e+07        -0.74        3.333   \n",
       "457805       8200.0   5.517855e+07        -0.74        3.332   \n",
       "457806       8200.0   5.517871e+07        -0.74        2.745   \n",
       "\n",
       "        Discharge_Capacity (Ah)  Cell_Temperature (C)  \n",
       "1                         0.000                40.051  \n",
       "2                         0.000                39.988  \n",
       "3                         0.000                39.976  \n",
       "4                         0.000                39.964  \n",
       "5                         0.001                39.988  \n",
       "...                         ...                   ...  \n",
       "457802                    0.528                41.249  \n",
       "457803                    0.528                41.237  \n",
       "457804                    0.528                41.199  \n",
       "457805                    0.529                41.224  \n",
       "457806                    0.561                41.424  \n",
       "\n",
       "[230707 rows x 6 columns]"
      ]
     },
     "metadata": {},
     "output_type": "display_data"
    },
    {
     "data": {
      "application/vnd.microsoft.datawrangler.viewer.v0+json": {
       "columns": [
        {
         "name": "index",
         "rawType": "object",
         "type": "string"
        },
        {
         "name": "Cycle_Index",
         "rawType": "float64",
         "type": "float"
        },
        {
         "name": "Test_Time (s)",
         "rawType": "float64",
         "type": "float"
        },
        {
         "name": "Current (A)",
         "rawType": "float64",
         "type": "float"
        },
        {
         "name": "Voltage (V)",
         "rawType": "float64",
         "type": "float"
        },
        {
         "name": "Discharge_Capacity (Ah)",
         "rawType": "float64",
         "type": "float"
        },
        {
         "name": "Cell_Temperature (C)",
         "rawType": "float64",
         "type": "float"
        }
       ],
       "ref": "3232eed8-46f1-4b9f-8c27-2fcec367b3f7",
       "rows": [
        [
         "count",
         "230707.0",
         "230707.0",
         "230707.0",
         "230707.0",
         "230707.0",
         "230707.0"
        ],
        [
         "mean",
         "3933.839926833603",
         "26464435.335147094",
         "-0.7399999999999998",
         "3.765431382662858",
         "0.3061832324116738",
         "39.96004734576758"
        ],
        [
         "std",
         "2443.6798427565077",
         "16799662.91303633",
         "2.2204508615301047e-16",
         "0.1952859485106629",
         "0.18004657860225576",
         "4.738929071045079"
        ],
        [
         "min",
         "1.0",
         "0.999",
         "-0.74",
         "2.699",
         "0.0",
         "0.52"
        ],
        [
         "25%",
         "1900.0",
         "12244208.114",
         "-0.74",
         "3.656",
         "0.152",
         "40.101"
        ],
        [
         "50%",
         "3800.0",
         "25483213.057",
         "-0.74",
         "3.759",
         "0.304",
         "40.4"
        ],
        [
         "75%",
         "6100.0",
         "41626895.246",
         "-0.74",
         "3.902",
         "0.456",
         "40.9"
        ],
        [
         "max",
         "8200.0",
         "55178708.313",
         "-0.74",
         "4.176",
         "0.741",
         "41.699"
        ]
       ],
       "shape": {
        "columns": 6,
        "rows": 8
       }
      },
      "text/html": [
       "<div>\n",
       "<style scoped>\n",
       "    .dataframe tbody tr th:only-of-type {\n",
       "        vertical-align: middle;\n",
       "    }\n",
       "\n",
       "    .dataframe tbody tr th {\n",
       "        vertical-align: top;\n",
       "    }\n",
       "\n",
       "    .dataframe thead th {\n",
       "        text-align: right;\n",
       "    }\n",
       "</style>\n",
       "<table border=\"1\" class=\"dataframe\">\n",
       "  <thead>\n",
       "    <tr style=\"text-align: right;\">\n",
       "      <th></th>\n",
       "      <th>Cycle_Index</th>\n",
       "      <th>Test_Time (s)</th>\n",
       "      <th>Current (A)</th>\n",
       "      <th>Voltage (V)</th>\n",
       "      <th>Discharge_Capacity (Ah)</th>\n",
       "      <th>Cell_Temperature (C)</th>\n",
       "    </tr>\n",
       "  </thead>\n",
       "  <tbody>\n",
       "    <tr>\n",
       "      <th>count</th>\n",
       "      <td>230707.000000</td>\n",
       "      <td>2.307070e+05</td>\n",
       "      <td>2.307070e+05</td>\n",
       "      <td>230707.000000</td>\n",
       "      <td>230707.000000</td>\n",
       "      <td>230707.000000</td>\n",
       "    </tr>\n",
       "    <tr>\n",
       "      <th>mean</th>\n",
       "      <td>3933.839927</td>\n",
       "      <td>2.646444e+07</td>\n",
       "      <td>-7.400000e-01</td>\n",
       "      <td>3.765431</td>\n",
       "      <td>0.306183</td>\n",
       "      <td>39.960047</td>\n",
       "    </tr>\n",
       "    <tr>\n",
       "      <th>std</th>\n",
       "      <td>2443.679843</td>\n",
       "      <td>1.679966e+07</td>\n",
       "      <td>2.220451e-16</td>\n",
       "      <td>0.195286</td>\n",
       "      <td>0.180047</td>\n",
       "      <td>4.738929</td>\n",
       "    </tr>\n",
       "    <tr>\n",
       "      <th>min</th>\n",
       "      <td>1.000000</td>\n",
       "      <td>9.990000e-01</td>\n",
       "      <td>-7.400000e-01</td>\n",
       "      <td>2.699000</td>\n",
       "      <td>0.000000</td>\n",
       "      <td>0.520000</td>\n",
       "    </tr>\n",
       "    <tr>\n",
       "      <th>25%</th>\n",
       "      <td>1900.000000</td>\n",
       "      <td>1.224421e+07</td>\n",
       "      <td>-7.400000e-01</td>\n",
       "      <td>3.656000</td>\n",
       "      <td>0.152000</td>\n",
       "      <td>40.101000</td>\n",
       "    </tr>\n",
       "    <tr>\n",
       "      <th>50%</th>\n",
       "      <td>3800.000000</td>\n",
       "      <td>2.548321e+07</td>\n",
       "      <td>-7.400000e-01</td>\n",
       "      <td>3.759000</td>\n",
       "      <td>0.304000</td>\n",
       "      <td>40.400000</td>\n",
       "    </tr>\n",
       "    <tr>\n",
       "      <th>75%</th>\n",
       "      <td>6100.000000</td>\n",
       "      <td>4.162690e+07</td>\n",
       "      <td>-7.400000e-01</td>\n",
       "      <td>3.902000</td>\n",
       "      <td>0.456000</td>\n",
       "      <td>40.900000</td>\n",
       "    </tr>\n",
       "    <tr>\n",
       "      <th>max</th>\n",
       "      <td>8200.000000</td>\n",
       "      <td>5.517871e+07</td>\n",
       "      <td>-7.400000e-01</td>\n",
       "      <td>4.176000</td>\n",
       "      <td>0.741000</td>\n",
       "      <td>41.699000</td>\n",
       "    </tr>\n",
       "  </tbody>\n",
       "</table>\n",
       "</div>"
      ],
      "text/plain": [
       "         Cycle_Index  Test_Time (s)   Current (A)    Voltage (V)  \\\n",
       "count  230707.000000   2.307070e+05  2.307070e+05  230707.000000   \n",
       "mean     3933.839927   2.646444e+07 -7.400000e-01       3.765431   \n",
       "std      2443.679843   1.679966e+07  2.220451e-16       0.195286   \n",
       "min         1.000000   9.990000e-01 -7.400000e-01       2.699000   \n",
       "25%      1900.000000   1.224421e+07 -7.400000e-01       3.656000   \n",
       "50%      3800.000000   2.548321e+07 -7.400000e-01       3.759000   \n",
       "75%      6100.000000   4.162690e+07 -7.400000e-01       3.902000   \n",
       "max      8200.000000   5.517871e+07 -7.400000e-01       4.176000   \n",
       "\n",
       "       Discharge_Capacity (Ah)  Cell_Temperature (C)  \n",
       "count            230707.000000         230707.000000  \n",
       "mean                  0.306183             39.960047  \n",
       "std                   0.180047              4.738929  \n",
       "min                   0.000000              0.520000  \n",
       "25%                   0.152000             40.101000  \n",
       "50%                   0.304000             40.400000  \n",
       "75%                   0.456000             40.900000  \n",
       "max                   0.741000             41.699000  "
      ]
     },
     "metadata": {},
     "output_type": "display_data"
    }
   ],
   "source": [
    "# Header completo:\n",
    "# Date_Time,Test_Time (s),Cycle_Index,Current (A),Voltage (V),Charge_Capacity (Ah),Discharge_Capacity (Ah),Charge_Energy (Wh),Discharge_Energy (Wh),Environment_Temperature (C),Cell_Temperature (C)\n",
    "df = pd.read_csv('../Battery_Archive_Data/Oxford/0.74_OX_1-1_pouch_LCO_40C_0-100_2-1.84C_a_timeseries.csv')\n",
    "\n",
    "# Apenas features de interesse são mantidas\n",
    "# Obs: Envoironment_Temperature (C) poderia ser relevante, mas tem todos os valores nulos. Então, é removida\n",
    "df = df[[\"Cycle_Index\", \"Test_Time (s)\", \"Current (A)\", \"Voltage (V)\", \"Discharge_Capacity (Ah)\", \"Cell_Temperature (C)\"]]\n",
    "\n",
    "# Mantem apenas as linhas em que a bateria está descarregando, ou seja, corrente < 0\n",
    "df = df[df['Current (A)'] < 0]\n",
    "\n",
    "# Remove valores para Cell_Temperature < 1 (incorretos)\n",
    "#df = df[df['Cell_Temperature (C)'] >= 1]\n",
    "\n",
    "display(df)\n",
    "display(df.describe())"
   ]
  },
  {
   "cell_type": "markdown",
   "metadata": {},
   "source": [
    "## Visualização"
   ]
  },
  {
   "cell_type": "code",
   "execution_count": 54,
   "metadata": {},
   "outputs": [
    {
     "data": {
      "image/png": "[encoded data removed]",
      "text/plain": [
       "<Figure size 1400x800 with 4 Axes>"
      ]
     },
     "metadata": {},
     "output_type": "display_data"
    }
   ],
   "source": [
    "# Lista de features que deseja analisar (exceto \"Cycle_Index\")\n",
    "features = [\"Current (A)\", \"Voltage (V)\", \"Discharge_Capacity (Ah)\", \"Cell_Temperature (C)\"]\n",
    "\n",
    "# Ciclos únicos e ordenados\n",
    "cycles = df[\"Cycle_Index\"].unique()\n",
    "cycles.sort()\n",
    "NumCyclesPlot = 5\n",
    "\n",
    "# Seleciona 'NumCyclesPlot' ciclos igualmente espaçados para plotar\n",
    "if len(cycles) > NumCyclesPlot:\n",
    "    cycles = cycles[::len(cycles)//NumCyclesPlot] # // --> Divisão inteira\n",
    "\n",
    "# Cria os subplots com layout 2x2\n",
    "fig, axs = plt.subplots(2, 2, figsize=(14, 8))\n",
    "axs = axs.flatten()  # Facilita a iteração\n",
    "\n",
    "# Itera sobre cada feature e sobre os ciclos para plotar os dados\n",
    "for i, feature in enumerate(features):\n",
    "    ax = axs[i]\n",
    "    for cycle in cycles:\n",
    "        # Seleciona os dados do ciclo e calcula o tempo relativo\n",
    "        df_cycle = df[df[\"Cycle_Index\"] == cycle].copy()\n",
    "        df_cycle['Tempo_Relativo (s)'] = df_cycle[\"Test_Time (s)\"] - df_cycle[\"Test_Time (s)\"].min()\n",
    "        \n",
    "        # Plota a feature em função do tempo relativo\n",
    "        ax.plot(df_cycle['Tempo_Relativo (s)'], df_cycle[feature], alpha=0.7, label=f'{int(cycle)}', linewidth=2.0)\n",
    "\n",
    "    ax.set_title(f'{feature} ao longo dos ciclos')\n",
    "    ax.set_xlabel('Tempo Relativo (s)')\n",
    "    ax.set_ylabel(feature)\n",
    "    ax.grid(True)\n",
    "    ax.legend(title=\"Ciclo\", loc='best')\n",
    "\n",
    "plt.tight_layout()\n",
    "plt.show()\n"
   ]
  },
  {
   "cell_type": "markdown",
   "metadata": {},
   "source": [
    "## Análise de SOH"
   ]
  },
  {
   "cell_type": "markdown",
   "metadata": {},
   "source": [
    "$$\n",
    "\\text{SOH} = \\frac{\\text{capacidade\\_atual}}{\\text{capacidade\\_inicial}}\n",
    "$$\n",
    "\n",
    "- $CapacidadeInicial$ é a capacidade nominal, a maior considerando todo o histórico da bateria\n",
    "- $CapacidadeAtual$ é a maior capacidade do ciclo"
   ]
  },
  {
   "cell_type": "code",
   "execution_count": null,
   "metadata": {},
   "outputs": [
    {
     "name": "stdout",
     "output_type": "stream",
     "text": [
      "Capacidade total de descarga: 0.74 Ah\n"
     ]
    },
    {
     "data": {
      "application/vnd.microsoft.datawrangler.viewer.v0+json": {
       "columns": [
        {
         "name": "index",
         "rawType": "int64",
         "type": "integer"
        },
        {
         "name": "Cycle_Index",
         "rawType": "float64",
         "type": "float"
        },
        {
         "name": "Max_Discharge_Capacity",
         "rawType": "float64",
         "type": "float"
        },
        {
         "name": "SOH_discharge",
         "rawType": "float64",
         "type": "float"
        }
       ],
       "ref": "c8176e22-69c7-4c09-837d-8cd5c46cf121",
       "rows": [
        [
         "0",
         "1.0",
         "0.741",
         "1.0013513513513514"
        ],
        [
         "1",
         "100.0",
         "0.732",
         "0.9891891891891892"
        ],
        [
         "2",
         "200.0",
         "0.728",
         "0.9837837837837837"
        ],
        [
         "3",
         "300.0",
         "0.725",
         "0.9797297297297297"
        ],
        [
         "4",
         "400.0",
         "0.72",
         "0.9729729729729729"
        ],
        [
         "5",
         "500.0",
         "0.717",
         "0.9689189189189189"
        ],
        [
         "6",
         "600.0",
         "0.714",
         "0.9648648648648648"
        ],
        [
         "7",
         "700.0",
         "0.709",
         "0.9581081081081081"
        ],
        [
         "8",
         "800.0",
         "0.706",
         "0.954054054054054"
        ],
        [
         "9",
         "900.0",
         "0.702",
         "0.9486486486486486"
        ],
        [
         "10",
         "1000.0",
         "0.699",
         "0.9445945945945945"
        ],
        [
         "11",
         "1100.0",
         "0.696",
         "0.9405405405405405"
        ],
        [
         "12",
         "1200.0",
         "0.693",
         "0.9364864864864865"
        ],
        [
         "13",
         "1300.0",
         "0.69",
         "0.9324324324324323"
        ],
        [
         "14",
         "1400.0",
         "0.688",
         "0.9297297297297297"
        ],
        [
         "15",
         "1600.0",
         "0.682",
         "0.9216216216216218"
        ],
        [
         "16",
         "1800.0",
         "0.676",
         "0.9135135135135136"
        ],
        [
         "17",
         "1900.0",
         "0.673",
         "0.9094594594594595"
        ],
        [
         "18",
         "2000.0",
         "0.67",
         "0.9054054054054055"
        ],
        [
         "19",
         "2100.0",
         "0.667",
         "0.9013513513513514"
        ],
        [
         "20",
         "2200.0",
         "0.664",
         "0.8972972972972973"
        ],
        [
         "21",
         "2300.0",
         "0.661",
         "0.8932432432432433"
        ],
        [
         "22",
         "2400.0",
         "0.658",
         "0.8891891891891892"
        ],
        [
         "23",
         "2500.0",
         "0.656",
         "0.8864864864864865"
        ],
        [
         "24",
         "2600.0",
         "0.653",
         "0.8824324324324325"
        ],
        [
         "25",
         "2700.0",
         "0.651",
         "0.8797297297297297"
        ],
        [
         "26",
         "2800.0",
         "0.649",
         "0.8770270270270271"
        ],
        [
         "27",
         "2900.0",
         "0.645",
         "0.8716216216216216"
        ],
        [
         "28",
         "3000.0",
         "0.644",
         "0.8702702702702703"
        ],
        [
         "29",
         "3100.0",
         "0.642",
         "0.8675675675675676"
        ],
        [
         "30",
         "3200.0",
         "0.639",
         "0.8635135135135136"
        ],
        [
         "31",
         "3300.0",
         "0.638",
         "0.8621621621621622"
        ],
        [
         "32",
         "3500.0",
         "0.632",
         "0.8540540540540541"
        ],
        [
         "33",
         "3600.0",
         "0.632",
         "0.8540540540540541"
        ],
        [
         "34",
         "3700.0",
         "0.629",
         "0.85"
        ],
        [
         "35",
         "3800.0",
         "0.625",
         "0.8445945945945946"
        ],
        [
         "36",
         "3900.0",
         "0.625",
         "0.8445945945945946"
        ],
        [
         "37",
         "4000.0",
         "0.623",
         "0.841891891891892"
        ],
        [
         "38",
         "4100.0",
         "0.62",
         "0.8378378378378378"
        ],
        [
         "39",
         "4200.0",
         "0.619",
         "0.8364864864864865"
        ],
        [
         "40",
         "4300.0",
         "0.618",
         "0.8351351351351352"
        ],
        [
         "41",
         "4400.0",
         "0.616",
         "0.8324324324324325"
        ],
        [
         "42",
         "4500.0",
         "0.613",
         "0.8283783783783784"
        ],
        [
         "43",
         "4600.0",
         "0.612",
         "0.827027027027027"
        ],
        [
         "44",
         "4800.0",
         "0.609",
         "0.822972972972973"
        ],
        [
         "45",
         "5000.0",
         "0.604",
         "0.8162162162162162"
        ],
        [
         "46",
         "5100.0",
         "0.603",
         "0.8148648648648649"
        ],
        [
         "47",
         "5200.0",
         "0.6",
         "0.8108108108108107"
        ],
        [
         "48",
         "5300.0",
         "0.6",
         "0.8108108108108107"
        ],
        [
         "49",
         "5400.0",
         "0.598",
         "0.8081081081081081"
        ]
       ],
       "shape": {
        "columns": 3,
        "rows": 78
       }
      },
      "text/html": [
       "<div>\n",
       "<style scoped>\n",
       "    .dataframe tbody tr th:only-of-type {\n",
       "        vertical-align: middle;\n",
       "    }\n",
       "\n",
       "    .dataframe tbody tr th {\n",
       "        vertical-align: top;\n",
       "    }\n",
       "\n",
       "    .dataframe thead th {\n",
       "        text-align: right;\n",
       "    }\n",
       "</style>\n",
       "<table border=\"1\" class=\"dataframe\">\n",
       "  <thead>\n",
       "    <tr style=\"text-align: right;\">\n",
       "      <th></th>\n",
       "      <th>Cycle_Index</th>\n",
       "      <th>Max_Discharge_Capacity</th>\n",
       "      <th>SOH_discharge</th>\n",
       "    </tr>\n",
       "  </thead>\n",
       "  <tbody>\n",
       "    <tr>\n",
       "      <th>0</th>\n",
       "      <td>1.0</td>\n",
       "      <td>0.741</td>\n",
       "      <td>1.001351</td>\n",
       "    </tr>\n",
       "    <tr>\n",
       "      <th>1</th>\n",
       "      <td>100.0</td>\n",
       "      <td>0.732</td>\n",
       "      <td>0.989189</td>\n",
       "    </tr>\n",
       "    <tr>\n",
       "      <th>2</th>\n",
       "      <td>200.0</td>\n",
       "      <td>0.728</td>\n",
       "      <td>0.983784</td>\n",
       "    </tr>\n",
       "    <tr>\n",
       "      <th>3</th>\n",
       "      <td>300.0</td>\n",
       "      <td>0.725</td>\n",
       "      <td>0.979730</td>\n",
       "    </tr>\n",
       "    <tr>\n",
       "      <th>4</th>\n",
       "      <td>400.0</td>\n",
       "      <td>0.720</td>\n",
       "      <td>0.972973</td>\n",
       "    </tr>\n",
       "    <tr>\n",
       "      <th>...</th>\n",
       "      <td>...</td>\n",
       "      <td>...</td>\n",
       "      <td>...</td>\n",
       "    </tr>\n",
       "    <tr>\n",
       "      <th>73</th>\n",
       "      <td>7800.0</td>\n",
       "      <td>0.564</td>\n",
       "      <td>0.762162</td>\n",
       "    </tr>\n",
       "    <tr>\n",
       "      <th>74</th>\n",
       "      <td>7900.0</td>\n",
       "      <td>0.564</td>\n",
       "      <td>0.762162</td>\n",
       "    </tr>\n",
       "    <tr>\n",
       "      <th>75</th>\n",
       "      <td>8000.0</td>\n",
       "      <td>0.563</td>\n",
       "      <td>0.760811</td>\n",
       "    </tr>\n",
       "    <tr>\n",
       "      <th>76</th>\n",
       "      <td>8100.0</td>\n",
       "      <td>0.560</td>\n",
       "      <td>0.756757</td>\n",
       "    </tr>\n",
       "    <tr>\n",
       "      <th>77</th>\n",
       "      <td>8200.0</td>\n",
       "      <td>0.561</td>\n",
       "      <td>0.758108</td>\n",
       "    </tr>\n",
       "  </tbody>\n",
       "</table>\n",
       "<p>78 rows × 3 columns</p>\n",
       "</div>"
      ],
      "text/plain": [
       "    Cycle_Index  Max_Discharge_Capacity  SOH_discharge\n",
       "0           1.0                   0.741       1.001351\n",
       "1         100.0                   0.732       0.989189\n",
       "2         200.0                   0.728       0.983784\n",
       "3         300.0                   0.725       0.979730\n",
       "4         400.0                   0.720       0.972973\n",
       "..          ...                     ...            ...\n",
       "73       7800.0                   0.564       0.762162\n",
       "74       7900.0                   0.564       0.762162\n",
       "75       8000.0                   0.563       0.760811\n",
       "76       8100.0                   0.560       0.756757\n",
       "77       8200.0                   0.561       0.758108\n",
       "\n",
       "[78 rows x 3 columns]"
      ]
     },
     "metadata": {},
     "output_type": "display_data"
    }
   ],
   "source": [
    "# Capacidade nominal (máxima global)\n",
    "nominal_capacity = 0.74 #df['Discharge_Capacity (Ah)'].max()\n",
    "print(f'Capacidade total de descarga: {nominal_capacity} Ah')\n",
    "\n",
    "# Para cada ciclo, extrai a maior capacidade\n",
    "# (cycles_capacity é uma série do Pandas)\n",
    "cycles_capacity = df.groupby('Cycle_Index')['Discharge_Capacity (Ah)'].max()\n",
    "cycles_capacity = cycles_capacity.reset_index() # transforma em dataframe\n",
    "cycles_capacity.columns = ['Cycle_Index', 'Max_Discharge_Capacity']\n",
    "cycles_capacity['SOH_discharge'] = (cycles_capacity['Max_Discharge_Capacity'] / nominal_capacity)\n",
    "display(cycles_capacity)"
   ]
  },
  {
   "cell_type": "code",
   "execution_count": 56,
   "metadata": {},
   "outputs": [
    {
     "data": {
      "application/vnd.microsoft.datawrangler.viewer.v0+json": {
       "columns": [
        {
         "name": "index",
         "rawType": "int64",
         "type": "integer"
        },
        {
         "name": "Cycle_Index",
         "rawType": "float64",
         "type": "float"
        },
        {
         "name": "Cell_Temperature (C)",
         "rawType": "float64",
         "type": "float"
        },
        {
         "name": "SOH_discharge",
         "rawType": "float64",
         "type": "float"
        }
       ],
       "ref": "c491955e-4e74-414a-9fa0-590c89e60555",
       "rows": [
        [
         "0",
         "1.0",
         "40.41916629711752",
         "1.0013513513513514"
        ],
        [
         "1",
         "100.0",
         "40.31974216524217",
         "0.9891891891891892"
        ],
        [
         "2",
         "200.0",
         "40.31744081986143",
         "0.9837837837837837"
        ],
        [
         "3",
         "300.0",
         "40.31122580645162",
         "0.9797297297297297"
        ],
        [
         "4",
         "400.0",
         "40.30481529034141",
         "0.9729729729729729"
        ],
        [
         "5",
         "500.0",
         "40.3238169800235",
         "0.9689189189189189"
        ],
        [
         "6",
         "600.0",
         "40.29477213695395",
         "0.9648648648648648"
        ],
        [
         "7",
         "700.0",
         "40.3502862652032",
         "0.9581081081081081"
        ],
        [
         "8",
         "800.0",
         "40.36885909631391",
         "0.954054054054054"
        ],
        [
         "9",
         "900.0",
         "40.3747644245142",
         "0.9486486486486486"
        ],
        [
         "10",
         "1000.0",
         "40.35399669471154",
         "0.9445945945945945"
        ],
        [
         "11",
         "1100.0",
         "40.423379716269245",
         "0.9405405405405405"
        ],
        [
         "12",
         "1200.0",
         "40.38318380345768",
         "0.9364864864864865"
        ],
        [
         "13",
         "1300.0",
         "40.37986106032907",
         "0.9324324324324323"
        ],
        [
         "14",
         "1400.0",
         "40.37261769207224",
         "0.9297297297297297"
        ],
        [
         "15",
         "1600.0",
         "0.5204557195571956",
         "0.9216216216216218"
        ],
        [
         "16",
         "1800.0",
         "40.41634646401985",
         "0.9135135135135136"
        ],
        [
         "17",
         "1900.0",
         "40.348878484184155",
         "0.9094594594594595"
        ],
        [
         "18",
         "2000.0",
         "40.285288637079006",
         "0.9054054054054055"
        ],
        [
         "19",
         "2100.0",
         "40.350839025932956",
         "0.9013513513513514"
        ],
        [
         "20",
         "2200.0",
         "40.36484366062917",
         "0.8972972972972973"
        ],
        [
         "21",
         "2300.0",
         "40.41072605363985",
         "0.8932432432432433"
        ],
        [
         "22",
         "2400.0",
         "40.44204202759063",
         "0.8891891891891892"
        ],
        [
         "23",
         "2500.0",
         "40.47090428617467",
         "0.8864864864864865"
        ],
        [
         "24",
         "2600.0",
         "40.504130420711974",
         "0.8824324324324325"
        ],
        [
         "25",
         "2700.0",
         "40.46179219512195",
         "0.8797297297297297"
        ],
        [
         "26",
         "2800.0",
         "40.503198759791125",
         "0.8770270270270271"
        ],
        [
         "27",
         "2900.0",
         "40.421737463126846",
         "0.8716216216216216"
        ],
        [
         "28",
         "3000.0",
         "40.55329983525535",
         "0.8702702702702703"
        ],
        [
         "29",
         "3100.0",
         "40.49152593326726",
         "0.8675675675675676"
        ],
        [
         "30",
         "3200.0",
         "40.48500265339967",
         "0.8635135135135136"
        ],
        [
         "31",
         "3300.0",
         "40.4460163224517",
         "0.8621621621621622"
        ],
        [
         "32",
         "3500.0",
         "40.22792348813899",
         "0.8540540540540541"
        ],
        [
         "33",
         "3600.0",
         "40.317272115708036",
         "0.8540540540540541"
        ],
        [
         "34",
         "3700.0",
         "40.462425632377744",
         "0.85"
        ],
        [
         "35",
         "3800.0",
         "40.41866530750934",
         "0.8445945945945946"
        ],
        [
         "36",
         "3900.0",
         "40.43364431586113",
         "0.8445945945945946"
        ],
        [
         "37",
         "4000.0",
         "40.48295190995907",
         "0.841891891891892"
        ],
        [
         "38",
         "4100.0",
         "40.461786105407256",
         "0.8378378378378378"
        ],
        [
         "39",
         "4200.0",
         "40.47323711340206",
         "0.8364864864864865"
        ],
        [
         "40",
         "4300.0",
         "40.443503101309446",
         "0.8351351351351352"
        ],
        [
         "41",
         "4400.0",
         "40.4439183108342",
         "0.8324324324324325"
        ],
        [
         "42",
         "4500.0",
         "40.4278388329281",
         "0.8283783783783784"
        ],
        [
         "43",
         "4600.0",
         "40.389430914166084",
         "0.827027027027027"
        ],
        [
         "44",
         "4800.0",
         "40.425164685314684",
         "0.822972972972973"
        ],
        [
         "45",
         "5000.0",
         "40.369234776487154",
         "0.8162162162162162"
        ],
        [
         "46",
         "5100.0",
         "40.36671869457254",
         "0.8148648648648649"
        ],
        [
         "47",
         "5200.0",
         "40.66058988964044",
         "0.8108108108108107"
        ],
        [
         "48",
         "5300.0",
         "40.66980350125045",
         "0.8108108108108107"
        ],
        [
         "49",
         "5400.0",
         "40.66607119856887",
         "0.8081081081081081"
        ]
       ],
       "shape": {
        "columns": 3,
        "rows": 78
       }
      },
      "text/html": [
       "<div>\n",
       "<style scoped>\n",
       "    .dataframe tbody tr th:only-of-type {\n",
       "        vertical-align: middle;\n",
       "    }\n",
       "\n",
       "    .dataframe tbody tr th {\n",
       "        vertical-align: top;\n",
       "    }\n",
       "\n",
       "    .dataframe thead th {\n",
       "        text-align: right;\n",
       "    }\n",
       "</style>\n",
       "<table border=\"1\" class=\"dataframe\">\n",
       "  <thead>\n",
       "    <tr style=\"text-align: right;\">\n",
       "      <th></th>\n",
       "      <th>Cycle_Index</th>\n",
       "      <th>Cell_Temperature (C)</th>\n",
       "      <th>SOH_discharge</th>\n",
       "    </tr>\n",
       "  </thead>\n",
       "  <tbody>\n",
       "    <tr>\n",
       "      <th>0</th>\n",
       "      <td>1.0</td>\n",
       "      <td>40.419166</td>\n",
       "      <td>1.001351</td>\n",
       "    </tr>\n",
       "    <tr>\n",
       "      <th>1</th>\n",
       "      <td>100.0</td>\n",
       "      <td>40.319742</td>\n",
       "      <td>0.989189</td>\n",
       "    </tr>\n",
       "    <tr>\n",
       "      <th>2</th>\n",
       "      <td>200.0</td>\n",
       "      <td>40.317441</td>\n",
       "      <td>0.983784</td>\n",
       "    </tr>\n",
       "    <tr>\n",
       "      <th>3</th>\n",
       "      <td>300.0</td>\n",
       "      <td>40.311226</td>\n",
       "      <td>0.979730</td>\n",
       "    </tr>\n",
       "    <tr>\n",
       "      <th>4</th>\n",
       "      <td>400.0</td>\n",
       "      <td>40.304815</td>\n",
       "      <td>0.972973</td>\n",
       "    </tr>\n",
       "    <tr>\n",
       "      <th>...</th>\n",
       "      <td>...</td>\n",
       "      <td>...</td>\n",
       "      <td>...</td>\n",
       "    </tr>\n",
       "    <tr>\n",
       "      <th>73</th>\n",
       "      <td>7800.0</td>\n",
       "      <td>40.733336</td>\n",
       "      <td>0.762162</td>\n",
       "    </tr>\n",
       "    <tr>\n",
       "      <th>74</th>\n",
       "      <td>7900.0</td>\n",
       "      <td>40.738304</td>\n",
       "      <td>0.762162</td>\n",
       "    </tr>\n",
       "    <tr>\n",
       "      <th>75</th>\n",
       "      <td>8000.0</td>\n",
       "      <td>40.720570</td>\n",
       "      <td>0.760811</td>\n",
       "    </tr>\n",
       "    <tr>\n",
       "      <th>76</th>\n",
       "      <td>8100.0</td>\n",
       "      <td>40.774364</td>\n",
       "      <td>0.756757</td>\n",
       "    </tr>\n",
       "    <tr>\n",
       "      <th>77</th>\n",
       "      <td>8200.0</td>\n",
       "      <td>40.692669</td>\n",
       "      <td>0.758108</td>\n",
       "    </tr>\n",
       "  </tbody>\n",
       "</table>\n",
       "<p>78 rows × 3 columns</p>\n",
       "</div>"
      ],
      "text/plain": [
       "    Cycle_Index  Cell_Temperature (C)  SOH_discharge\n",
       "0           1.0             40.419166       1.001351\n",
       "1         100.0             40.319742       0.989189\n",
       "2         200.0             40.317441       0.983784\n",
       "3         300.0             40.311226       0.979730\n",
       "4         400.0             40.304815       0.972973\n",
       "..          ...                   ...            ...\n",
       "73       7800.0             40.733336       0.762162\n",
       "74       7900.0             40.738304       0.762162\n",
       "75       8000.0             40.720570       0.760811\n",
       "76       8100.0             40.774364       0.756757\n",
       "77       8200.0             40.692669       0.758108\n",
       "\n",
       "[78 rows x 3 columns]"
      ]
     },
     "metadata": {},
     "output_type": "display_data"
    },
    {
     "data": {
      "application/vnd.microsoft.datawrangler.viewer.v0+json": {
       "columns": [
        {
         "name": "index",
         "rawType": "object",
         "type": "string"
        },
        {
         "name": "Cycle_Index",
         "rawType": "float64",
         "type": "float"
        },
        {
         "name": "Cell_Temperature (C)",
         "rawType": "float64",
         "type": "float"
        },
        {
         "name": "SOH_discharge",
         "rawType": "float64",
         "type": "float"
        }
       ],
       "ref": "e28ebbb8-b9eb-491c-9f25-ce1977946d43",
       "rows": [
        [
         "count",
         "78.0",
         "78.0",
         "78.0"
        ],
        [
         "mean",
         "4155.141025641025",
         "40.02461191260498",
         "0.850017325017325"
        ],
        [
         "std",
         "2449.9261569807923",
         "4.534525635003941",
         "0.06955500841785087"
        ],
        [
         "min",
         "1.0",
         "0.5204557195571956",
         "0.7567567567567568"
        ],
        [
         "25%",
         "2125.0",
         "40.37603858346792",
         "0.7898648648648648"
        ],
        [
         "50%",
         "4150.0",
         "40.46666495927621",
         "0.8371621621621621"
        ],
        [
         "75%",
         "6275.0",
         "40.73292843802849",
         "0.9003378378378378"
        ],
        [
         "max",
         "8200.0",
         "40.801850922509225",
         "1.0013513513513514"
        ]
       ],
       "shape": {
        "columns": 3,
        "rows": 8
       }
      },
      "text/html": [
       "<div>\n",
       "<style scoped>\n",
       "    .dataframe tbody tr th:only-of-type {\n",
       "        vertical-align: middle;\n",
       "    }\n",
       "\n",
       "    .dataframe tbody tr th {\n",
       "        vertical-align: top;\n",
       "    }\n",
       "\n",
       "    .dataframe thead th {\n",
       "        text-align: right;\n",
       "    }\n",
       "</style>\n",
       "<table border=\"1\" class=\"dataframe\">\n",
       "  <thead>\n",
       "    <tr style=\"text-align: right;\">\n",
       "      <th></th>\n",
       "      <th>Cycle_Index</th>\n",
       "      <th>Cell_Temperature (C)</th>\n",
       "      <th>SOH_discharge</th>\n",
       "    </tr>\n",
       "  </thead>\n",
       "  <tbody>\n",
       "    <tr>\n",
       "      <th>count</th>\n",
       "      <td>78.000000</td>\n",
       "      <td>78.000000</td>\n",
       "      <td>78.000000</td>\n",
       "    </tr>\n",
       "    <tr>\n",
       "      <th>mean</th>\n",
       "      <td>4155.141026</td>\n",
       "      <td>40.024612</td>\n",
       "      <td>0.850017</td>\n",
       "    </tr>\n",
       "    <tr>\n",
       "      <th>std</th>\n",
       "      <td>2449.926157</td>\n",
       "      <td>4.534526</td>\n",
       "      <td>0.069555</td>\n",
       "    </tr>\n",
       "    <tr>\n",
       "      <th>min</th>\n",
       "      <td>1.000000</td>\n",
       "      <td>0.520456</td>\n",
       "      <td>0.756757</td>\n",
       "    </tr>\n",
       "    <tr>\n",
       "      <th>25%</th>\n",
       "      <td>2125.000000</td>\n",
       "      <td>40.376039</td>\n",
       "      <td>0.789865</td>\n",
       "    </tr>\n",
       "    <tr>\n",
       "      <th>50%</th>\n",
       "      <td>4150.000000</td>\n",
       "      <td>40.466665</td>\n",
       "      <td>0.837162</td>\n",
       "    </tr>\n",
       "    <tr>\n",
       "      <th>75%</th>\n",
       "      <td>6275.000000</td>\n",
       "      <td>40.732928</td>\n",
       "      <td>0.900338</td>\n",
       "    </tr>\n",
       "    <tr>\n",
       "      <th>max</th>\n",
       "      <td>8200.000000</td>\n",
       "      <td>40.801851</td>\n",
       "      <td>1.001351</td>\n",
       "    </tr>\n",
       "  </tbody>\n",
       "</table>\n",
       "</div>"
      ],
      "text/plain": [
       "       Cycle_Index  Cell_Temperature (C)  SOH_discharge\n",
       "count    78.000000             78.000000      78.000000\n",
       "mean   4155.141026             40.024612       0.850017\n",
       "std    2449.926157              4.534526       0.069555\n",
       "min       1.000000              0.520456       0.756757\n",
       "25%    2125.000000             40.376039       0.789865\n",
       "50%    4150.000000             40.466665       0.837162\n",
       "75%    6275.000000             40.732928       0.900338\n",
       "max    8200.000000             40.801851       1.001351"
      ]
     },
     "metadata": {},
     "output_type": "display_data"
    }
   ],
   "source": [
    "# Seleciona as features de interesse e agrupa por ciclo\n",
    "df_grouped = df[['Cycle_Index', 'Cell_Temperature (C)']]\n",
    "df_grouped = df_grouped.groupby('Cycle_Index', as_index=False).mean() # Média será usada para a temperatura\n",
    "\n",
    "# Adição do SOH calculado em ciclos_capacity\n",
    "df_grouped['SOH_discharge'] = cycles_capacity['SOH_discharge']\n",
    "\n",
    "display(df_grouped)\n",
    "display(df_grouped.describe())"
   ]
  },
  {
   "cell_type": "markdown",
   "metadata": {},
   "source": [
    "### Outliers"
   ]
  },
  {
   "cell_type": "code",
   "execution_count": 57,
   "metadata": {},
   "outputs": [],
   "source": [
    "# Técnica estatística para identificar outliers em um conjunto de dados, calculando o intervalo entre o primeiro quartil (Q1) e o terceiro quartil (Q3), e usando para definir limites superiores e inferiores. Outliers são definidos como pontos que caem abaixo de Q1 - 1.5 * IQR ou acima de Q3 + 1.5 * IQR. Este método é robusto contra a não normalidade dos dados, sendo útil para distribuições assimétricas.\n",
    "def rmv_outliers_iqr(df: pd.DataFrame, column_name: str) -> pd.DataFrame:\n",
    "    # Calculate the first and third quartiles\n",
    "    Q1 = df[column_name].quantile(0.25)\n",
    "    Q3 = df[column_name].quantile(0.75)\n",
    "    \n",
    "    # Calculate the Interquartile Range (IQR)\n",
    "    IQR = Q3 - Q1\n",
    "    \n",
    "    # Define the lower and upper bounds for outliers\n",
    "    lower_bound = Q1 - 1.5 * IQR\n",
    "    upper_bound = Q3 + 1.5 * IQR\n",
    "    \n",
    "    # Filter the DataFrame to keep only the values within the bounds\n",
    "    filtered_df = df[(df[column_name] >= lower_bound) & (df[column_name] <= upper_bound)]\n",
    "    \n",
    "    return filtered_df"
   ]
  },
  {
   "cell_type": "code",
   "execution_count": 58,
   "metadata": {},
   "outputs": [],
   "source": [
    "# Algoritmo de machine learning não supervisionado usado para detecção de anomalias, que identifica outliers isolando-os a partir de partições aleatórias em um conjunto de árvores de decisão\n",
    "def rmv_outliers_isolation_forest(df: pd.DataFrame, column_name: str, contamin='auto') -> pd.DataFrame:\n",
    "    model = IsolationForest(contamination=contamin, random_state=123)\n",
    "    \n",
    "    # Fit the model and predict outliers. The data needs to be reshaped to a 2D array.\n",
    "    predictions = model.fit_predict(df[[column_name]].values)\n",
    "    \n",
    "    # Filter the DataFrame to keep only the inliers (predictions == 1)\n",
    "    filtered_df = df[predictions == 1]\n",
    "    \n",
    "    return filtered_df"
   ]
  },
  {
   "cell_type": "code",
   "execution_count": 59,
   "metadata": {},
   "outputs": [],
   "source": [
    "def rmv_outliers_zscore(df: pd.DataFrame, column_name: str, threshold: float = 3.0) -> pd.DataFrame:\n",
    "    # Calculate the Z-scores of the column\n",
    "    z_scores = np.abs(zscore(df[column_name]))\n",
    "    \n",
    "    # Create a boolean mask to filter out outliers\n",
    "    inlier_mask = z_scores <= threshold\n",
    "    \n",
    "    # Filter the DataFrame to keep only the inliers\n",
    "    filtered_df = df[inlier_mask]\n",
    "    \n",
    "    return filtered_df"
   ]
  },
  {
   "cell_type": "code",
   "execution_count": 60,
   "metadata": {},
   "outputs": [],
   "source": [
    "def ensure_non_increasing(df: pd.DataFrame, column_name: str) -> pd.DataFrame:\n",
    "    # Create a boolean mask where True indicates a valid decreasing or equal step\n",
    "    is_decreasing = df[column_name].diff().fillna(-1) <= 0\n",
    "    \n",
    "    # Filter the DataFrame to keep only the monotonic values\n",
    "    filtered_df = df[is_decreasing]\n",
    "    \n",
    "    return filtered_df"
   ]
  },
  {
   "cell_type": "code",
   "execution_count": 61,
   "metadata": {},
   "outputs": [],
   "source": [
    "def rmv_sharp_jump(df: pd.DataFrame, column_name: str, threshold: float, repeat=1) -> pd.DataFrame:\n",
    "    for _ in range(repeat):\n",
    "        # diff -> a diferença entre os valores consecutivos\n",
    "        # abs -> o valor absoluto para tratar subidas e quedas\n",
    "        # shift(-1) -> para que a diferença seja aplicada ao ponto de origem do salto\n",
    "        # fillna(0) -> trata o último valor (que é NaN após o shift) com 0 para que ele seja mantido\n",
    "        shifted_diff = df[column_name].diff().abs().shift(-1).fillna(0)\n",
    "        \n",
    "        is_not_sharp_jump = shifted_diff <= threshold\n",
    "        df = df[is_not_sharp_jump]\n",
    "    \n",
    "    return df"
   ]
  },
  {
   "cell_type": "code",
   "execution_count": 62,
   "metadata": {},
   "outputs": [
    {
     "data": {
      "application/vnd.microsoft.datawrangler.viewer.v0+json": {
       "columns": [
        {
         "name": "index",
         "rawType": "int64",
         "type": "integer"
        },
        {
         "name": "Cycle_Index",
         "rawType": "float64",
         "type": "float"
        },
        {
         "name": "Cell_Temperature (C)",
         "rawType": "float64",
         "type": "float"
        },
        {
         "name": "SOH_discharge",
         "rawType": "float64",
         "type": "float"
        }
       ],
       "ref": "84e935fa-877c-40b9-88f4-34384e34cd1c",
       "rows": [
        [
         "0",
         "1.0",
         "40.41916629711752",
         "1.0013513513513514"
        ],
        [
         "1",
         "100.0",
         "40.31974216524217",
         "0.9891891891891892"
        ],
        [
         "2",
         "200.0",
         "40.31744081986143",
         "0.9837837837837837"
        ],
        [
         "3",
         "300.0",
         "40.31122580645162",
         "0.9797297297297297"
        ],
        [
         "4",
         "400.0",
         "40.30481529034141",
         "0.9729729729729729"
        ],
        [
         "5",
         "500.0",
         "40.3238169800235",
         "0.9689189189189189"
        ],
        [
         "6",
         "600.0",
         "40.29477213695395",
         "0.9648648648648648"
        ],
        [
         "7",
         "700.0",
         "40.3502862652032",
         "0.9581081081081081"
        ],
        [
         "8",
         "800.0",
         "40.36885909631391",
         "0.954054054054054"
        ],
        [
         "9",
         "900.0",
         "40.3747644245142",
         "0.9486486486486486"
        ],
        [
         "10",
         "1000.0",
         "40.35399669471154",
         "0.9445945945945945"
        ],
        [
         "11",
         "1100.0",
         "40.423379716269245",
         "0.9405405405405405"
        ],
        [
         "12",
         "1200.0",
         "40.38318380345768",
         "0.9364864864864865"
        ],
        [
         "13",
         "1300.0",
         "40.37986106032907",
         "0.9324324324324323"
        ],
        [
         "14",
         "1400.0",
         "40.37261769207224",
         "0.9297297297297297"
        ],
        [
         "15",
         "1600.0",
         "0.5204557195571956",
         "0.9216216216216218"
        ],
        [
         "16",
         "1800.0",
         "40.41634646401985",
         "0.9135135135135136"
        ],
        [
         "17",
         "1900.0",
         "40.348878484184155",
         "0.9094594594594595"
        ],
        [
         "18",
         "2000.0",
         "40.285288637079006",
         "0.9054054054054055"
        ],
        [
         "19",
         "2100.0",
         "40.350839025932956",
         "0.9013513513513514"
        ],
        [
         "20",
         "2200.0",
         "40.36484366062917",
         "0.8972972972972973"
        ],
        [
         "21",
         "2300.0",
         "40.41072605363985",
         "0.8932432432432433"
        ],
        [
         "22",
         "2400.0",
         "40.44204202759063",
         "0.8891891891891892"
        ],
        [
         "23",
         "2500.0",
         "40.47090428617467",
         "0.8864864864864865"
        ],
        [
         "24",
         "2600.0",
         "40.504130420711974",
         "0.8824324324324325"
        ],
        [
         "25",
         "2700.0",
         "40.46179219512195",
         "0.8797297297297297"
        ],
        [
         "26",
         "2800.0",
         "40.503198759791125",
         "0.8770270270270271"
        ],
        [
         "27",
         "2900.0",
         "40.421737463126846",
         "0.8716216216216216"
        ],
        [
         "28",
         "3000.0",
         "40.55329983525535",
         "0.8702702702702703"
        ],
        [
         "29",
         "3100.0",
         "40.49152593326726",
         "0.8675675675675676"
        ],
        [
         "30",
         "3200.0",
         "40.48500265339967",
         "0.8635135135135136"
        ],
        [
         "31",
         "3300.0",
         "40.4460163224517",
         "0.8621621621621622"
        ],
        [
         "32",
         "3500.0",
         "40.22792348813899",
         "0.8540540540540541"
        ],
        [
         "33",
         "3600.0",
         "40.317272115708036",
         "0.8540540540540541"
        ],
        [
         "34",
         "3700.0",
         "40.462425632377744",
         "0.85"
        ],
        [
         "35",
         "3800.0",
         "40.41866530750934",
         "0.8445945945945946"
        ],
        [
         "36",
         "3900.0",
         "40.43364431586113",
         "0.8445945945945946"
        ],
        [
         "37",
         "4000.0",
         "40.48295190995907",
         "0.841891891891892"
        ],
        [
         "38",
         "4100.0",
         "40.461786105407256",
         "0.8378378378378378"
        ],
        [
         "39",
         "4200.0",
         "40.47323711340206",
         "0.8364864864864865"
        ],
        [
         "40",
         "4300.0",
         "40.443503101309446",
         "0.8351351351351352"
        ],
        [
         "41",
         "4400.0",
         "40.4439183108342",
         "0.8324324324324325"
        ],
        [
         "42",
         "4500.0",
         "40.4278388329281",
         "0.8283783783783784"
        ],
        [
         "43",
         "4600.0",
         "40.389430914166084",
         "0.827027027027027"
        ],
        [
         "44",
         "4800.0",
         "40.425164685314684",
         "0.822972972972973"
        ],
        [
         "45",
         "5000.0",
         "40.369234776487154",
         "0.8162162162162162"
        ],
        [
         "46",
         "5100.0",
         "40.36671869457254",
         "0.8148648648648649"
        ],
        [
         "47",
         "5200.0",
         "40.66058988964044",
         "0.8108108108108107"
        ],
        [
         "48",
         "5300.0",
         "40.66980350125045",
         "0.8108108108108107"
        ],
        [
         "49",
         "5400.0",
         "40.66607119856887",
         "0.8081081081081081"
        ]
       ],
       "shape": {
        "columns": 3,
        "rows": 78
       }
      },
      "text/html": [
       "<div>\n",
       "<style scoped>\n",
       "    .dataframe tbody tr th:only-of-type {\n",
       "        vertical-align: middle;\n",
       "    }\n",
       "\n",
       "    .dataframe tbody tr th {\n",
       "        vertical-align: top;\n",
       "    }\n",
       "\n",
       "    .dataframe thead th {\n",
       "        text-align: right;\n",
       "    }\n",
       "</style>\n",
       "<table border=\"1\" class=\"dataframe\">\n",
       "  <thead>\n",
       "    <tr style=\"text-align: right;\">\n",
       "      <th></th>\n",
       "      <th>Cycle_Index</th>\n",
       "      <th>Cell_Temperature (C)</th>\n",
       "      <th>SOH_discharge</th>\n",
       "    </tr>\n",
       "  </thead>\n",
       "  <tbody>\n",
       "    <tr>\n",
       "      <th>0</th>\n",
       "      <td>1.0</td>\n",
       "      <td>40.419166</td>\n",
       "      <td>1.001351</td>\n",
       "    </tr>\n",
       "    <tr>\n",
       "      <th>1</th>\n",
       "      <td>100.0</td>\n",
       "      <td>40.319742</td>\n",
       "      <td>0.989189</td>\n",
       "    </tr>\n",
       "    <tr>\n",
       "      <th>2</th>\n",
       "      <td>200.0</td>\n",
       "      <td>40.317441</td>\n",
       "      <td>0.983784</td>\n",
       "    </tr>\n",
       "    <tr>\n",
       "      <th>3</th>\n",
       "      <td>300.0</td>\n",
       "      <td>40.311226</td>\n",
       "      <td>0.979730</td>\n",
       "    </tr>\n",
       "    <tr>\n",
       "      <th>4</th>\n",
       "      <td>400.0</td>\n",
       "      <td>40.304815</td>\n",
       "      <td>0.972973</td>\n",
       "    </tr>\n",
       "    <tr>\n",
       "      <th>...</th>\n",
       "      <td>...</td>\n",
       "      <td>...</td>\n",
       "      <td>...</td>\n",
       "    </tr>\n",
       "    <tr>\n",
       "      <th>73</th>\n",
       "      <td>7800.0</td>\n",
       "      <td>40.733336</td>\n",
       "      <td>0.762162</td>\n",
       "    </tr>\n",
       "    <tr>\n",
       "      <th>74</th>\n",
       "      <td>7900.0</td>\n",
       "      <td>40.738304</td>\n",
       "      <td>0.762162</td>\n",
       "    </tr>\n",
       "    <tr>\n",
       "      <th>75</th>\n",
       "      <td>8000.0</td>\n",
       "      <td>40.720570</td>\n",
       "      <td>0.760811</td>\n",
       "    </tr>\n",
       "    <tr>\n",
       "      <th>76</th>\n",
       "      <td>8100.0</td>\n",
       "      <td>40.774364</td>\n",
       "      <td>0.756757</td>\n",
       "    </tr>\n",
       "    <tr>\n",
       "      <th>77</th>\n",
       "      <td>8200.0</td>\n",
       "      <td>40.692669</td>\n",
       "      <td>0.758108</td>\n",
       "    </tr>\n",
       "  </tbody>\n",
       "</table>\n",
       "<p>78 rows × 3 columns</p>\n",
       "</div>"
      ],
      "text/plain": [
       "    Cycle_Index  Cell_Temperature (C)  SOH_discharge\n",
       "0           1.0             40.419166       1.001351\n",
       "1         100.0             40.319742       0.989189\n",
       "2         200.0             40.317441       0.983784\n",
       "3         300.0             40.311226       0.979730\n",
       "4         400.0             40.304815       0.972973\n",
       "..          ...                   ...            ...\n",
       "73       7800.0             40.733336       0.762162\n",
       "74       7900.0             40.738304       0.762162\n",
       "75       8000.0             40.720570       0.760811\n",
       "76       8100.0             40.774364       0.756757\n",
       "77       8200.0             40.692669       0.758108\n",
       "\n",
       "[78 rows x 3 columns]"
      ]
     },
     "metadata": {},
     "output_type": "display_data"
    },
    {
     "data": {
      "application/vnd.microsoft.datawrangler.viewer.v0+json": {
       "columns": [
        {
         "name": "index",
         "rawType": "int64",
         "type": "integer"
        },
        {
         "name": "Cycle_Index",
         "rawType": "float64",
         "type": "float"
        },
        {
         "name": "Cell_Temperature (C)",
         "rawType": "float64",
         "type": "float"
        },
        {
         "name": "SOH_discharge",
         "rawType": "float64",
         "type": "float"
        }
       ],
       "ref": "a97f6216-730c-4c54-aa00-b98749952d79",
       "rows": [
        [
         "13",
         "1300.0",
         "40.37986106032907",
         "0.9324324324324323"
        ],
        [
         "22",
         "2400.0",
         "40.44204202759063",
         "0.8891891891891892"
        ],
        [
         "23",
         "2500.0",
         "40.47090428617467",
         "0.8864864864864865"
        ],
        [
         "24",
         "2600.0",
         "40.504130420711974",
         "0.8824324324324325"
        ],
        [
         "25",
         "2700.0",
         "40.46179219512195",
         "0.8797297297297297"
        ],
        [
         "26",
         "2800.0",
         "40.503198759791125",
         "0.8770270270270271"
        ],
        [
         "27",
         "2900.0",
         "40.421737463126846",
         "0.8716216216216216"
        ],
        [
         "28",
         "3000.0",
         "40.55329983525535",
         "0.8702702702702703"
        ],
        [
         "29",
         "3100.0",
         "40.49152593326726",
         "0.8675675675675676"
        ],
        [
         "30",
         "3200.0",
         "40.48500265339967",
         "0.8635135135135136"
        ],
        [
         "31",
         "3300.0",
         "40.4460163224517",
         "0.8621621621621622"
        ],
        [
         "32",
         "3500.0",
         "40.22792348813899",
         "0.8540540540540541"
        ],
        [
         "33",
         "3600.0",
         "40.317272115708036",
         "0.8540540540540541"
        ],
        [
         "34",
         "3700.0",
         "40.462425632377744",
         "0.85"
        ],
        [
         "35",
         "3800.0",
         "40.41866530750934",
         "0.8445945945945946"
        ],
        [
         "36",
         "3900.0",
         "40.43364431586113",
         "0.8445945945945946"
        ],
        [
         "37",
         "4000.0",
         "40.48295190995907",
         "0.841891891891892"
        ],
        [
         "38",
         "4100.0",
         "40.461786105407256",
         "0.8378378378378378"
        ],
        [
         "39",
         "4200.0",
         "40.47323711340206",
         "0.8364864864864865"
        ],
        [
         "40",
         "4300.0",
         "40.443503101309446",
         "0.8351351351351352"
        ],
        [
         "41",
         "4400.0",
         "40.4439183108342",
         "0.8324324324324325"
        ],
        [
         "42",
         "4500.0",
         "40.4278388329281",
         "0.8283783783783784"
        ],
        [
         "43",
         "4600.0",
         "40.389430914166084",
         "0.827027027027027"
        ],
        [
         "46",
         "5100.0",
         "40.36671869457254",
         "0.8148648648648649"
        ],
        [
         "47",
         "5200.0",
         "40.66058988964044",
         "0.8108108108108107"
        ],
        [
         "48",
         "5300.0",
         "40.66980350125045",
         "0.8108108108108107"
        ],
        [
         "49",
         "5400.0",
         "40.66607119856887",
         "0.8081081081081081"
        ],
        [
         "50",
         "5500.0",
         "40.73170495333812",
         "0.8027027027027027"
        ],
        [
         "51",
         "5600.0",
         "40.722028912179255",
         "0.8027027027027027"
        ],
        [
         "52",
         "5700.0",
         "40.74224801156905",
         "0.8013513513513513"
        ],
        [
         "53",
         "5800.0",
         "40.75492274211099",
         "0.7972972972972973"
        ],
        [
         "54",
         "5900.0",
         "40.71881179468511",
         "0.7959459459459459"
        ],
        [
         "55",
         "6000.0",
         "40.739674945215484",
         "0.7945945945945946"
        ],
        [
         "56",
         "6100.0",
         "40.773963017209816",
         "0.7918918918918919"
        ],
        [
         "57",
         "6200.0",
         "40.76092273730684",
         "0.7918918918918919"
        ],
        [
         "58",
         "6300.0",
         "40.7474944812362",
         "0.7891891891891891"
        ],
        [
         "59",
         "6400.0",
         "40.801850922509225",
         "0.7851351351351351"
        ],
        [
         "61",
         "6600.0",
         "40.79922642910171",
         "0.7837837837837838"
        ],
        [
         "62",
         "6700.0",
         "40.712413472273916",
         "0.781081081081081"
        ],
        [
         "63",
         "6800.0",
         "40.738010824934676",
         "0.781081081081081"
        ],
        [
         "65",
         "7000.0",
         "40.718626591760305",
         "0.7743243243243243"
        ],
        [
         "66",
         "7100.0",
         "40.71367936627688",
         "0.7743243243243243"
        ],
        [
         "70",
         "7500.0",
         "40.776274003795066",
         "0.7675675675675675"
        ],
        [
         "71",
         "7600.0",
         "40.75816730182927",
         "0.7675675675675675"
        ]
       ],
       "shape": {
        "columns": 3,
        "rows": 44
       }
      },
      "text/html": [
       "<div>\n",
       "<style scoped>\n",
       "    .dataframe tbody tr th:only-of-type {\n",
       "        vertical-align: middle;\n",
       "    }\n",
       "\n",
       "    .dataframe tbody tr th {\n",
       "        vertical-align: top;\n",
       "    }\n",
       "\n",
       "    .dataframe thead th {\n",
       "        text-align: right;\n",
       "    }\n",
       "</style>\n",
       "<table border=\"1\" class=\"dataframe\">\n",
       "  <thead>\n",
       "    <tr style=\"text-align: right;\">\n",
       "      <th></th>\n",
       "      <th>Cycle_Index</th>\n",
       "      <th>Cell_Temperature (C)</th>\n",
       "      <th>SOH_discharge</th>\n",
       "    </tr>\n",
       "  </thead>\n",
       "  <tbody>\n",
       "    <tr>\n",
       "      <th>13</th>\n",
       "      <td>1300.0</td>\n",
       "      <td>40.379861</td>\n",
       "      <td>0.932432</td>\n",
       "    </tr>\n",
       "    <tr>\n",
       "      <th>22</th>\n",
       "      <td>2400.0</td>\n",
       "      <td>40.442042</td>\n",
       "      <td>0.889189</td>\n",
       "    </tr>\n",
       "    <tr>\n",
       "      <th>23</th>\n",
       "      <td>2500.0</td>\n",
       "      <td>40.470904</td>\n",
       "      <td>0.886486</td>\n",
       "    </tr>\n",
       "    <tr>\n",
       "      <th>24</th>\n",
       "      <td>2600.0</td>\n",
       "      <td>40.504130</td>\n",
       "      <td>0.882432</td>\n",
       "    </tr>\n",
       "    <tr>\n",
       "      <th>25</th>\n",
       "      <td>2700.0</td>\n",
       "      <td>40.461792</td>\n",
       "      <td>0.879730</td>\n",
       "    </tr>\n",
       "    <tr>\n",
       "      <th>26</th>\n",
       "      <td>2800.0</td>\n",
       "      <td>40.503199</td>\n",
       "      <td>0.877027</td>\n",
       "    </tr>\n",
       "    <tr>\n",
       "      <th>27</th>\n",
       "      <td>2900.0</td>\n",
       "      <td>40.421737</td>\n",
       "      <td>0.871622</td>\n",
       "    </tr>\n",
       "    <tr>\n",
       "      <th>28</th>\n",
       "      <td>3000.0</td>\n",
       "      <td>40.553300</td>\n",
       "      <td>0.870270</td>\n",
       "    </tr>\n",
       "    <tr>\n",
       "      <th>29</th>\n",
       "      <td>3100.0</td>\n",
       "      <td>40.491526</td>\n",
       "      <td>0.867568</td>\n",
       "    </tr>\n",
       "    <tr>\n",
       "      <th>30</th>\n",
       "      <td>3200.0</td>\n",
       "      <td>40.485003</td>\n",
       "      <td>0.863514</td>\n",
       "    </tr>\n",
       "    <tr>\n",
       "      <th>31</th>\n",
       "      <td>3300.0</td>\n",
       "      <td>40.446016</td>\n",
       "      <td>0.862162</td>\n",
       "    </tr>\n",
       "    <tr>\n",
       "      <th>32</th>\n",
       "      <td>3500.0</td>\n",
       "      <td>40.227923</td>\n",
       "      <td>0.854054</td>\n",
       "    </tr>\n",
       "    <tr>\n",
       "      <th>33</th>\n",
       "      <td>3600.0</td>\n",
       "      <td>40.317272</td>\n",
       "      <td>0.854054</td>\n",
       "    </tr>\n",
       "    <tr>\n",
       "      <th>34</th>\n",
       "      <td>3700.0</td>\n",
       "      <td>40.462426</td>\n",
       "      <td>0.850000</td>\n",
       "    </tr>\n",
       "    <tr>\n",
       "      <th>35</th>\n",
       "      <td>3800.0</td>\n",
       "      <td>40.418665</td>\n",
       "      <td>0.844595</td>\n",
       "    </tr>\n",
       "    <tr>\n",
       "      <th>36</th>\n",
       "      <td>3900.0</td>\n",
       "      <td>40.433644</td>\n",
       "      <td>0.844595</td>\n",
       "    </tr>\n",
       "    <tr>\n",
       "      <th>37</th>\n",
       "      <td>4000.0</td>\n",
       "      <td>40.482952</td>\n",
       "      <td>0.841892</td>\n",
       "    </tr>\n",
       "    <tr>\n",
       "      <th>38</th>\n",
       "      <td>4100.0</td>\n",
       "      <td>40.461786</td>\n",
       "      <td>0.837838</td>\n",
       "    </tr>\n",
       "    <tr>\n",
       "      <th>39</th>\n",
       "      <td>4200.0</td>\n",
       "      <td>40.473237</td>\n",
       "      <td>0.836486</td>\n",
       "    </tr>\n",
       "    <tr>\n",
       "      <th>40</th>\n",
       "      <td>4300.0</td>\n",
       "      <td>40.443503</td>\n",
       "      <td>0.835135</td>\n",
       "    </tr>\n",
       "    <tr>\n",
       "      <th>41</th>\n",
       "      <td>4400.0</td>\n",
       "      <td>40.443918</td>\n",
       "      <td>0.832432</td>\n",
       "    </tr>\n",
       "    <tr>\n",
       "      <th>42</th>\n",
       "      <td>4500.0</td>\n",
       "      <td>40.427839</td>\n",
       "      <td>0.828378</td>\n",
       "    </tr>\n",
       "    <tr>\n",
       "      <th>43</th>\n",
       "      <td>4600.0</td>\n",
       "      <td>40.389431</td>\n",
       "      <td>0.827027</td>\n",
       "    </tr>\n",
       "    <tr>\n",
       "      <th>46</th>\n",
       "      <td>5100.0</td>\n",
       "      <td>40.366719</td>\n",
       "      <td>0.814865</td>\n",
       "    </tr>\n",
       "    <tr>\n",
       "      <th>47</th>\n",
       "      <td>5200.0</td>\n",
       "      <td>40.660590</td>\n",
       "      <td>0.810811</td>\n",
       "    </tr>\n",
       "    <tr>\n",
       "      <th>48</th>\n",
       "      <td>5300.0</td>\n",
       "      <td>40.669804</td>\n",
       "      <td>0.810811</td>\n",
       "    </tr>\n",
       "    <tr>\n",
       "      <th>49</th>\n",
       "      <td>5400.0</td>\n",
       "      <td>40.666071</td>\n",
       "      <td>0.808108</td>\n",
       "    </tr>\n",
       "    <tr>\n",
       "      <th>50</th>\n",
       "      <td>5500.0</td>\n",
       "      <td>40.731705</td>\n",
       "      <td>0.802703</td>\n",
       "    </tr>\n",
       "    <tr>\n",
       "      <th>51</th>\n",
       "      <td>5600.0</td>\n",
       "      <td>40.722029</td>\n",
       "      <td>0.802703</td>\n",
       "    </tr>\n",
       "    <tr>\n",
       "      <th>52</th>\n",
       "      <td>5700.0</td>\n",
       "      <td>40.742248</td>\n",
       "      <td>0.801351</td>\n",
       "    </tr>\n",
       "    <tr>\n",
       "      <th>53</th>\n",
       "      <td>5800.0</td>\n",
       "      <td>40.754923</td>\n",
       "      <td>0.797297</td>\n",
       "    </tr>\n",
       "    <tr>\n",
       "      <th>54</th>\n",
       "      <td>5900.0</td>\n",
       "      <td>40.718812</td>\n",
       "      <td>0.795946</td>\n",
       "    </tr>\n",
       "    <tr>\n",
       "      <th>55</th>\n",
       "      <td>6000.0</td>\n",
       "      <td>40.739675</td>\n",
       "      <td>0.794595</td>\n",
       "    </tr>\n",
       "    <tr>\n",
       "      <th>56</th>\n",
       "      <td>6100.0</td>\n",
       "      <td>40.773963</td>\n",
       "      <td>0.791892</td>\n",
       "    </tr>\n",
       "    <tr>\n",
       "      <th>57</th>\n",
       "      <td>6200.0</td>\n",
       "      <td>40.760923</td>\n",
       "      <td>0.791892</td>\n",
       "    </tr>\n",
       "    <tr>\n",
       "      <th>58</th>\n",
       "      <td>6300.0</td>\n",
       "      <td>40.747494</td>\n",
       "      <td>0.789189</td>\n",
       "    </tr>\n",
       "    <tr>\n",
       "      <th>59</th>\n",
       "      <td>6400.0</td>\n",
       "      <td>40.801851</td>\n",
       "      <td>0.785135</td>\n",
       "    </tr>\n",
       "    <tr>\n",
       "      <th>61</th>\n",
       "      <td>6600.0</td>\n",
       "      <td>40.799226</td>\n",
       "      <td>0.783784</td>\n",
       "    </tr>\n",
       "    <tr>\n",
       "      <th>62</th>\n",
       "      <td>6700.0</td>\n",
       "      <td>40.712413</td>\n",
       "      <td>0.781081</td>\n",
       "    </tr>\n",
       "    <tr>\n",
       "      <th>63</th>\n",
       "      <td>6800.0</td>\n",
       "      <td>40.738011</td>\n",
       "      <td>0.781081</td>\n",
       "    </tr>\n",
       "    <tr>\n",
       "      <th>65</th>\n",
       "      <td>7000.0</td>\n",
       "      <td>40.718627</td>\n",
       "      <td>0.774324</td>\n",
       "    </tr>\n",
       "    <tr>\n",
       "      <th>66</th>\n",
       "      <td>7100.0</td>\n",
       "      <td>40.713679</td>\n",
       "      <td>0.774324</td>\n",
       "    </tr>\n",
       "    <tr>\n",
       "      <th>70</th>\n",
       "      <td>7500.0</td>\n",
       "      <td>40.776274</td>\n",
       "      <td>0.767568</td>\n",
       "    </tr>\n",
       "    <tr>\n",
       "      <th>71</th>\n",
       "      <td>7600.0</td>\n",
       "      <td>40.758167</td>\n",
       "      <td>0.767568</td>\n",
       "    </tr>\n",
       "  </tbody>\n",
       "</table>\n",
       "</div>"
      ],
      "text/plain": [
       "    Cycle_Index  Cell_Temperature (C)  SOH_discharge\n",
       "13       1300.0             40.379861       0.932432\n",
       "22       2400.0             40.442042       0.889189\n",
       "23       2500.0             40.470904       0.886486\n",
       "24       2600.0             40.504130       0.882432\n",
       "25       2700.0             40.461792       0.879730\n",
       "26       2800.0             40.503199       0.877027\n",
       "27       2900.0             40.421737       0.871622\n",
       "28       3000.0             40.553300       0.870270\n",
       "29       3100.0             40.491526       0.867568\n",
       "30       3200.0             40.485003       0.863514\n",
       "31       3300.0             40.446016       0.862162\n",
       "32       3500.0             40.227923       0.854054\n",
       "33       3600.0             40.317272       0.854054\n",
       "34       3700.0             40.462426       0.850000\n",
       "35       3800.0             40.418665       0.844595\n",
       "36       3900.0             40.433644       0.844595\n",
       "37       4000.0             40.482952       0.841892\n",
       "38       4100.0             40.461786       0.837838\n",
       "39       4200.0             40.473237       0.836486\n",
       "40       4300.0             40.443503       0.835135\n",
       "41       4400.0             40.443918       0.832432\n",
       "42       4500.0             40.427839       0.828378\n",
       "43       4600.0             40.389431       0.827027\n",
       "46       5100.0             40.366719       0.814865\n",
       "47       5200.0             40.660590       0.810811\n",
       "48       5300.0             40.669804       0.810811\n",
       "49       5400.0             40.666071       0.808108\n",
       "50       5500.0             40.731705       0.802703\n",
       "51       5600.0             40.722029       0.802703\n",
       "52       5700.0             40.742248       0.801351\n",
       "53       5800.0             40.754923       0.797297\n",
       "54       5900.0             40.718812       0.795946\n",
       "55       6000.0             40.739675       0.794595\n",
       "56       6100.0             40.773963       0.791892\n",
       "57       6200.0             40.760923       0.791892\n",
       "58       6300.0             40.747494       0.789189\n",
       "59       6400.0             40.801851       0.785135\n",
       "61       6600.0             40.799226       0.783784\n",
       "62       6700.0             40.712413       0.781081\n",
       "63       6800.0             40.738011       0.781081\n",
       "65       7000.0             40.718627       0.774324\n",
       "66       7100.0             40.713679       0.774324\n",
       "70       7500.0             40.776274       0.767568\n",
       "71       7600.0             40.758167       0.767568"
      ]
     },
     "metadata": {},
     "output_type": "display_data"
    },
    {
     "data": {
      "application/vnd.microsoft.datawrangler.viewer.v0+json": {
       "columns": [
        {
         "name": "index",
         "rawType": "int64",
         "type": "integer"
        },
        {
         "name": "Cycle_Index",
         "rawType": "float64",
         "type": "float"
        },
        {
         "name": "Cell_Temperature (C)",
         "rawType": "float64",
         "type": "float"
        },
        {
         "name": "SOH_discharge",
         "rawType": "float64",
         "type": "float"
        }
       ],
       "ref": "94b30e4e-312e-4000-bbba-dcf28e289bbd",
       "rows": [
        [
         "0",
         "1.0",
         "40.41916629711752",
         "1.0013513513513514"
        ],
        [
         "1",
         "100.0",
         "40.31974216524217",
         "0.9891891891891892"
        ],
        [
         "2",
         "200.0",
         "40.31744081986143",
         "0.9837837837837837"
        ],
        [
         "3",
         "300.0",
         "40.31122580645162",
         "0.9797297297297297"
        ],
        [
         "4",
         "400.0",
         "40.30481529034141",
         "0.9729729729729729"
        ],
        [
         "5",
         "500.0",
         "40.3238169800235",
         "0.9689189189189189"
        ],
        [
         "6",
         "600.0",
         "40.29477213695395",
         "0.9648648648648648"
        ],
        [
         "7",
         "700.0",
         "40.3502862652032",
         "0.9581081081081081"
        ],
        [
         "8",
         "800.0",
         "40.36885909631391",
         "0.954054054054054"
        ],
        [
         "9",
         "900.0",
         "40.3747644245142",
         "0.9486486486486486"
        ],
        [
         "10",
         "1000.0",
         "40.35399669471154",
         "0.9445945945945945"
        ],
        [
         "11",
         "1100.0",
         "40.423379716269245",
         "0.9405405405405405"
        ],
        [
         "12",
         "1200.0",
         "40.38318380345768",
         "0.9364864864864865"
        ],
        [
         "13",
         "1300.0",
         "40.37986106032907",
         "0.9324324324324323"
        ],
        [
         "14",
         "1400.0",
         "40.37261769207224",
         "0.9297297297297297"
        ],
        [
         "15",
         "1600.0",
         "0.5204557195571956",
         "0.9216216216216218"
        ],
        [
         "16",
         "1800.0",
         "40.41634646401985",
         "0.9135135135135136"
        ],
        [
         "17",
         "1900.0",
         "40.348878484184155",
         "0.9094594594594595"
        ],
        [
         "18",
         "2000.0",
         "40.285288637079006",
         "0.9054054054054055"
        ],
        [
         "19",
         "2100.0",
         "40.350839025932956",
         "0.9013513513513514"
        ],
        [
         "20",
         "2200.0",
         "40.36484366062917",
         "0.8972972972972973"
        ],
        [
         "21",
         "2300.0",
         "40.41072605363985",
         "0.8932432432432433"
        ],
        [
         "22",
         "2400.0",
         "40.44204202759063",
         "0.8891891891891892"
        ],
        [
         "23",
         "2500.0",
         "40.47090428617467",
         "0.8864864864864865"
        ],
        [
         "24",
         "2600.0",
         "40.504130420711974",
         "0.8824324324324325"
        ],
        [
         "25",
         "2700.0",
         "40.46179219512195",
         "0.8797297297297297"
        ],
        [
         "26",
         "2800.0",
         "40.503198759791125",
         "0.8770270270270271"
        ],
        [
         "27",
         "2900.0",
         "40.421737463126846",
         "0.8716216216216216"
        ],
        [
         "28",
         "3000.0",
         "40.55329983525535",
         "0.8702702702702703"
        ],
        [
         "29",
         "3100.0",
         "40.49152593326726",
         "0.8675675675675676"
        ],
        [
         "30",
         "3200.0",
         "40.48500265339967",
         "0.8635135135135136"
        ],
        [
         "31",
         "3300.0",
         "40.4460163224517",
         "0.8621621621621622"
        ],
        [
         "32",
         "3500.0",
         "40.22792348813899",
         "0.8540540540540541"
        ],
        [
         "33",
         "3600.0",
         "40.317272115708036",
         "0.8540540540540541"
        ],
        [
         "34",
         "3700.0",
         "40.462425632377744",
         "0.85"
        ],
        [
         "35",
         "3800.0",
         "40.41866530750934",
         "0.8445945945945946"
        ],
        [
         "36",
         "3900.0",
         "40.43364431586113",
         "0.8445945945945946"
        ],
        [
         "37",
         "4000.0",
         "40.48295190995907",
         "0.841891891891892"
        ],
        [
         "38",
         "4100.0",
         "40.461786105407256",
         "0.8378378378378378"
        ],
        [
         "39",
         "4200.0",
         "40.47323711340206",
         "0.8364864864864865"
        ],
        [
         "40",
         "4300.0",
         "40.443503101309446",
         "0.8351351351351352"
        ],
        [
         "41",
         "4400.0",
         "40.4439183108342",
         "0.8324324324324325"
        ],
        [
         "42",
         "4500.0",
         "40.4278388329281",
         "0.8283783783783784"
        ],
        [
         "43",
         "4600.0",
         "40.389430914166084",
         "0.827027027027027"
        ],
        [
         "44",
         "4800.0",
         "40.425164685314684",
         "0.822972972972973"
        ],
        [
         "45",
         "5000.0",
         "40.369234776487154",
         "0.8162162162162162"
        ],
        [
         "46",
         "5100.0",
         "40.36671869457254",
         "0.8148648648648649"
        ],
        [
         "47",
         "5200.0",
         "40.66058988964044",
         "0.8108108108108107"
        ],
        [
         "48",
         "5300.0",
         "40.66980350125045",
         "0.8108108108108107"
        ],
        [
         "49",
         "5400.0",
         "40.66607119856887",
         "0.8081081081081081"
        ]
       ],
       "shape": {
        "columns": 3,
        "rows": 75
       }
      },
      "text/html": [
       "<div>\n",
       "<style scoped>\n",
       "    .dataframe tbody tr th:only-of-type {\n",
       "        vertical-align: middle;\n",
       "    }\n",
       "\n",
       "    .dataframe tbody tr th {\n",
       "        vertical-align: top;\n",
       "    }\n",
       "\n",
       "    .dataframe thead th {\n",
       "        text-align: right;\n",
       "    }\n",
       "</style>\n",
       "<table border=\"1\" class=\"dataframe\">\n",
       "  <thead>\n",
       "    <tr style=\"text-align: right;\">\n",
       "      <th></th>\n",
       "      <th>Cycle_Index</th>\n",
       "      <th>Cell_Temperature (C)</th>\n",
       "      <th>SOH_discharge</th>\n",
       "    </tr>\n",
       "  </thead>\n",
       "  <tbody>\n",
       "    <tr>\n",
       "      <th>0</th>\n",
       "      <td>1.0</td>\n",
       "      <td>40.419166</td>\n",
       "      <td>1.001351</td>\n",
       "    </tr>\n",
       "    <tr>\n",
       "      <th>1</th>\n",
       "      <td>100.0</td>\n",
       "      <td>40.319742</td>\n",
       "      <td>0.989189</td>\n",
       "    </tr>\n",
       "    <tr>\n",
       "      <th>2</th>\n",
       "      <td>200.0</td>\n",
       "      <td>40.317441</td>\n",
       "      <td>0.983784</td>\n",
       "    </tr>\n",
       "    <tr>\n",
       "      <th>3</th>\n",
       "      <td>300.0</td>\n",
       "      <td>40.311226</td>\n",
       "      <td>0.979730</td>\n",
       "    </tr>\n",
       "    <tr>\n",
       "      <th>4</th>\n",
       "      <td>400.0</td>\n",
       "      <td>40.304815</td>\n",
       "      <td>0.972973</td>\n",
       "    </tr>\n",
       "    <tr>\n",
       "      <th>...</th>\n",
       "      <td>...</td>\n",
       "      <td>...</td>\n",
       "      <td>...</td>\n",
       "    </tr>\n",
       "    <tr>\n",
       "      <th>72</th>\n",
       "      <td>7700.0</td>\n",
       "      <td>40.760770</td>\n",
       "      <td>0.766216</td>\n",
       "    </tr>\n",
       "    <tr>\n",
       "      <th>73</th>\n",
       "      <td>7800.0</td>\n",
       "      <td>40.733336</td>\n",
       "      <td>0.762162</td>\n",
       "    </tr>\n",
       "    <tr>\n",
       "      <th>74</th>\n",
       "      <td>7900.0</td>\n",
       "      <td>40.738304</td>\n",
       "      <td>0.762162</td>\n",
       "    </tr>\n",
       "    <tr>\n",
       "      <th>75</th>\n",
       "      <td>8000.0</td>\n",
       "      <td>40.720570</td>\n",
       "      <td>0.760811</td>\n",
       "    </tr>\n",
       "    <tr>\n",
       "      <th>76</th>\n",
       "      <td>8100.0</td>\n",
       "      <td>40.774364</td>\n",
       "      <td>0.756757</td>\n",
       "    </tr>\n",
       "  </tbody>\n",
       "</table>\n",
       "<p>75 rows × 3 columns</p>\n",
       "</div>"
      ],
      "text/plain": [
       "    Cycle_Index  Cell_Temperature (C)  SOH_discharge\n",
       "0           1.0             40.419166       1.001351\n",
       "1         100.0             40.319742       0.989189\n",
       "2         200.0             40.317441       0.983784\n",
       "3         300.0             40.311226       0.979730\n",
       "4         400.0             40.304815       0.972973\n",
       "..          ...                   ...            ...\n",
       "72       7700.0             40.760770       0.766216\n",
       "73       7800.0             40.733336       0.762162\n",
       "74       7900.0             40.738304       0.762162\n",
       "75       8000.0             40.720570       0.760811\n",
       "76       8100.0             40.774364       0.756757\n",
       "\n",
       "[75 rows x 3 columns]"
      ]
     },
     "metadata": {},
     "output_type": "display_data"
    },
    {
     "data": {
      "application/vnd.microsoft.datawrangler.viewer.v0+json": {
       "columns": [
        {
         "name": "index",
         "rawType": "int64",
         "type": "integer"
        },
        {
         "name": "Cycle_Index",
         "rawType": "float64",
         "type": "float"
        },
        {
         "name": "Cell_Temperature (C)",
         "rawType": "float64",
         "type": "float"
        },
        {
         "name": "SOH_discharge",
         "rawType": "float64",
         "type": "float"
        }
       ],
       "ref": "4772b95e-cb15-410a-b45f-1a8530d2ce6f",
       "rows": [
        [
         "8",
         "800.0",
         "40.36885909631391",
         "0.954054054054054"
        ],
        [
         "9",
         "900.0",
         "40.3747644245142",
         "0.9486486486486486"
        ],
        [
         "10",
         "1000.0",
         "40.35399669471154",
         "0.9445945945945945"
        ],
        [
         "11",
         "1100.0",
         "40.423379716269245",
         "0.9405405405405405"
        ],
        [
         "12",
         "1200.0",
         "40.38318380345768",
         "0.9364864864864865"
        ],
        [
         "13",
         "1300.0",
         "40.37986106032907",
         "0.9324324324324323"
        ],
        [
         "14",
         "1400.0",
         "40.37261769207224",
         "0.9297297297297297"
        ],
        [
         "15",
         "1600.0",
         "0.5204557195571956",
         "0.9216216216216218"
        ],
        [
         "16",
         "1800.0",
         "40.41634646401985",
         "0.9135135135135136"
        ],
        [
         "17",
         "1900.0",
         "40.348878484184155",
         "0.9094594594594595"
        ],
        [
         "18",
         "2000.0",
         "40.285288637079006",
         "0.9054054054054055"
        ],
        [
         "19",
         "2100.0",
         "40.350839025932956",
         "0.9013513513513514"
        ],
        [
         "20",
         "2200.0",
         "40.36484366062917",
         "0.8972972972972973"
        ],
        [
         "21",
         "2300.0",
         "40.41072605363985",
         "0.8932432432432433"
        ],
        [
         "22",
         "2400.0",
         "40.44204202759063",
         "0.8891891891891892"
        ],
        [
         "23",
         "2500.0",
         "40.47090428617467",
         "0.8864864864864865"
        ],
        [
         "24",
         "2600.0",
         "40.504130420711974",
         "0.8824324324324325"
        ],
        [
         "25",
         "2700.0",
         "40.46179219512195",
         "0.8797297297297297"
        ],
        [
         "26",
         "2800.0",
         "40.503198759791125",
         "0.8770270270270271"
        ],
        [
         "27",
         "2900.0",
         "40.421737463126846",
         "0.8716216216216216"
        ],
        [
         "28",
         "3000.0",
         "40.55329983525535",
         "0.8702702702702703"
        ],
        [
         "29",
         "3100.0",
         "40.49152593326726",
         "0.8675675675675676"
        ],
        [
         "30",
         "3200.0",
         "40.48500265339967",
         "0.8635135135135136"
        ],
        [
         "31",
         "3300.0",
         "40.4460163224517",
         "0.8621621621621622"
        ],
        [
         "32",
         "3500.0",
         "40.22792348813899",
         "0.8540540540540541"
        ],
        [
         "33",
         "3600.0",
         "40.317272115708036",
         "0.8540540540540541"
        ],
        [
         "34",
         "3700.0",
         "40.462425632377744",
         "0.85"
        ],
        [
         "35",
         "3800.0",
         "40.41866530750934",
         "0.8445945945945946"
        ],
        [
         "36",
         "3900.0",
         "40.43364431586113",
         "0.8445945945945946"
        ],
        [
         "37",
         "4000.0",
         "40.48295190995907",
         "0.841891891891892"
        ],
        [
         "38",
         "4100.0",
         "40.461786105407256",
         "0.8378378378378378"
        ],
        [
         "39",
         "4200.0",
         "40.47323711340206",
         "0.8364864864864865"
        ],
        [
         "40",
         "4300.0",
         "40.443503101309446",
         "0.8351351351351352"
        ],
        [
         "41",
         "4400.0",
         "40.4439183108342",
         "0.8324324324324325"
        ],
        [
         "42",
         "4500.0",
         "40.4278388329281",
         "0.8283783783783784"
        ],
        [
         "43",
         "4600.0",
         "40.389430914166084",
         "0.827027027027027"
        ],
        [
         "44",
         "4800.0",
         "40.425164685314684",
         "0.822972972972973"
        ],
        [
         "45",
         "5000.0",
         "40.369234776487154",
         "0.8162162162162162"
        ],
        [
         "46",
         "5100.0",
         "40.36671869457254",
         "0.8148648648648649"
        ],
        [
         "47",
         "5200.0",
         "40.66058988964044",
         "0.8108108108108107"
        ],
        [
         "48",
         "5300.0",
         "40.66980350125045",
         "0.8108108108108107"
        ],
        [
         "49",
         "5400.0",
         "40.66607119856887",
         "0.8081081081081081"
        ],
        [
         "50",
         "5500.0",
         "40.73170495333812",
         "0.8027027027027027"
        ],
        [
         "51",
         "5600.0",
         "40.722028912179255",
         "0.8027027027027027"
        ],
        [
         "52",
         "5700.0",
         "40.74224801156905",
         "0.8013513513513513"
        ],
        [
         "53",
         "5800.0",
         "40.75492274211099",
         "0.7972972972972973"
        ],
        [
         "54",
         "5900.0",
         "40.71881179468511",
         "0.7959459459459459"
        ],
        [
         "55",
         "6000.0",
         "40.739674945215484",
         "0.7945945945945946"
        ],
        [
         "56",
         "6100.0",
         "40.773963017209816",
         "0.7918918918918919"
        ],
        [
         "57",
         "6200.0",
         "40.76092273730684",
         "0.7918918918918919"
        ]
       ],
       "shape": {
        "columns": 3,
        "rows": 67
       }
      },
      "text/html": [
       "<div>\n",
       "<style scoped>\n",
       "    .dataframe tbody tr th:only-of-type {\n",
       "        vertical-align: middle;\n",
       "    }\n",
       "\n",
       "    .dataframe tbody tr th {\n",
       "        vertical-align: top;\n",
       "    }\n",
       "\n",
       "    .dataframe thead th {\n",
       "        text-align: right;\n",
       "    }\n",
       "</style>\n",
       "<table border=\"1\" class=\"dataframe\">\n",
       "  <thead>\n",
       "    <tr style=\"text-align: right;\">\n",
       "      <th></th>\n",
       "      <th>Cycle_Index</th>\n",
       "      <th>Cell_Temperature (C)</th>\n",
       "      <th>SOH_discharge</th>\n",
       "    </tr>\n",
       "  </thead>\n",
       "  <tbody>\n",
       "    <tr>\n",
       "      <th>8</th>\n",
       "      <td>800.0</td>\n",
       "      <td>40.368859</td>\n",
       "      <td>0.954054</td>\n",
       "    </tr>\n",
       "    <tr>\n",
       "      <th>9</th>\n",
       "      <td>900.0</td>\n",
       "      <td>40.374764</td>\n",
       "      <td>0.948649</td>\n",
       "    </tr>\n",
       "    <tr>\n",
       "      <th>10</th>\n",
       "      <td>1000.0</td>\n",
       "      <td>40.353997</td>\n",
       "      <td>0.944595</td>\n",
       "    </tr>\n",
       "    <tr>\n",
       "      <th>11</th>\n",
       "      <td>1100.0</td>\n",
       "      <td>40.423380</td>\n",
       "      <td>0.940541</td>\n",
       "    </tr>\n",
       "    <tr>\n",
       "      <th>12</th>\n",
       "      <td>1200.0</td>\n",
       "      <td>40.383184</td>\n",
       "      <td>0.936486</td>\n",
       "    </tr>\n",
       "    <tr>\n",
       "      <th>...</th>\n",
       "      <td>...</td>\n",
       "      <td>...</td>\n",
       "      <td>...</td>\n",
       "    </tr>\n",
       "    <tr>\n",
       "      <th>72</th>\n",
       "      <td>7700.0</td>\n",
       "      <td>40.760770</td>\n",
       "      <td>0.766216</td>\n",
       "    </tr>\n",
       "    <tr>\n",
       "      <th>73</th>\n",
       "      <td>7800.0</td>\n",
       "      <td>40.733336</td>\n",
       "      <td>0.762162</td>\n",
       "    </tr>\n",
       "    <tr>\n",
       "      <th>74</th>\n",
       "      <td>7900.0</td>\n",
       "      <td>40.738304</td>\n",
       "      <td>0.762162</td>\n",
       "    </tr>\n",
       "    <tr>\n",
       "      <th>75</th>\n",
       "      <td>8000.0</td>\n",
       "      <td>40.720570</td>\n",
       "      <td>0.760811</td>\n",
       "    </tr>\n",
       "    <tr>\n",
       "      <th>76</th>\n",
       "      <td>8100.0</td>\n",
       "      <td>40.774364</td>\n",
       "      <td>0.756757</td>\n",
       "    </tr>\n",
       "  </tbody>\n",
       "</table>\n",
       "<p>67 rows × 3 columns</p>\n",
       "</div>"
      ],
      "text/plain": [
       "    Cycle_Index  Cell_Temperature (C)  SOH_discharge\n",
       "8         800.0             40.368859       0.954054\n",
       "9         900.0             40.374764       0.948649\n",
       "10       1000.0             40.353997       0.944595\n",
       "11       1100.0             40.423380       0.940541\n",
       "12       1200.0             40.383184       0.936486\n",
       "..          ...                   ...            ...\n",
       "72       7700.0             40.760770       0.766216\n",
       "73       7800.0             40.733336       0.762162\n",
       "74       7900.0             40.738304       0.762162\n",
       "75       8000.0             40.720570       0.760811\n",
       "76       8100.0             40.774364       0.756757\n",
       "\n",
       "[67 rows x 3 columns]"
      ]
     },
     "metadata": {},
     "output_type": "display_data"
    }
   ],
   "source": [
    "# Remoção de outliers e valores crescentes\n",
    "df_IsolForest = ensure_non_increasing(df_grouped, 'SOH_discharge')\n",
    "df_IsolForest = rmv_outliers_isolation_forest(df_IsolForest, 'SOH_discharge')\n",
    "\n",
    "df_IQR = ensure_non_increasing(df_grouped, 'SOH_discharge')\n",
    "df_IQR = rmv_outliers_iqr(df_IQR, 'SOH_discharge')\n",
    "\n",
    "df_ZScore = ensure_non_increasing(df_grouped, 'SOH_discharge')\n",
    "df_ZScore = rmv_outliers_zscore(df_ZScore, 'SOH_discharge', threshold=1.5)\n",
    "\n",
    "df_ZScore = rmv_sharp_jump(df_ZScore, 'SOH_discharge', threshold=0.05, repeat=2) # 5% de SOH\n",
    "\n",
    "display(df_grouped)\n",
    "display(df_IsolForest)\n",
    "display(df_IQR)\n",
    "display(df_ZScore)"
   ]
  },
  {
   "cell_type": "markdown",
   "metadata": {},
   "source": [
    "### [numpy.interp() parameters](https://numpy.org/doc/2.1/reference/generated/numpy.interp.html):\n",
    "- `x`: _array_like_ . The x-coordinates at which to evaluate the interpolated values.\n",
    "\n",
    "- `xp`: _1-D sequence of floats_. The x-coordinates of the data points, must be increasing if argument period is not specified. Otherwise, xp is internally sorted after normalizing the periodic boundaries with xp = xp % period.\n",
    "\n",
    "- `fp`: _1-D sequence of float or complex_. The y-coordinates of the data points, same length as xp.\n",
    "\n",
    "Returns the one-dimensional piecewise linear interpolant to a function with given discrete data points (xp, fp), evaluated at x:\n",
    "- `y`: float or complex (corresponding to fp) or ndarray. The interpolated values, same shape as x."
   ]
  },
  {
   "cell_type": "code",
   "execution_count": 63,
   "metadata": {},
   "outputs": [],
   "source": [
    "def interpolate_soh(df: pd.DataFrame, soh_column: str, cycles_column: str) -> pd.DataFrame:\n",
    "    # Define thresholds de interesse (99%, 98%, ...)\n",
    "    thresholds = np.arange(1.00, 0.00, -0.01)\n",
    "\n",
    "    soh = df[soh_column].values\n",
    "    cycles = df[cycles_column].values\n",
    "\n",
    "    # Inverte para que fique crescente\n",
    "    xp = soh[::-1]\n",
    "    fp = cycles[::-1]\n",
    "\n",
    "    valid = (thresholds >= xp.min()) & (thresholds <= xp.max())\n",
    "    thresholds = thresholds[valid]\n",
    "\n",
    "    # np.interp(x, xp, fp) assume xp crescente e retorna y para cada x em thresholds\n",
    "    estimated_cycles = np.interp(thresholds, xp, fp)\n",
    "    print(f'Número de thresholds válidos: {len(thresholds)}')\n",
    "    df_estimates = pd.DataFrame({\n",
    "        'SOH_threshold': thresholds,\n",
    "        'estimated_cycle': estimated_cycles\n",
    "    })\n",
    "\n",
    "    # Cast para float com 2 casas decimais\n",
    "    df_estimates['SOH_threshold'] = df_estimates['SOH_threshold'].astype(float).round(2)\n",
    "\n",
    "    # Queda de ciclos (a cada 1%)\n",
    "    df_estimates['NCD1%'] = df_estimates['estimated_cycle'].diff()\n",
    "    \n",
    "    return df_estimates"
   ]
  },
  {
   "cell_type": "code",
   "execution_count": 64,
   "metadata": {},
   "outputs": [
    {
     "name": "stdout",
     "output_type": "stream",
     "text": [
      "Número de thresholds válidos: 25\n",
      "Número de thresholds válidos: 17\n",
      "Número de thresholds válidos: 25\n",
      "Número de thresholds válidos: 20\n"
     ]
    }
   ],
   "source": [
    "df_grouped_estimates     = interpolate_soh(df_grouped, 'SOH_discharge', 'Cycle_Index')\n",
    "df_IsolForest_estimates  = interpolate_soh(df_IsolForest, 'SOH_discharge', 'Cycle_Index')\n",
    "df_IQR_estimates         = interpolate_soh(df_IQR, 'SOH_discharge', 'Cycle_Index')\n",
    "df_ZScore_estimates      = interpolate_soh(df_ZScore, 'SOH_discharge', 'Cycle_Index')"
   ]
  },
  {
   "cell_type": "code",
   "execution_count": 65,
   "metadata": {},
   "outputs": [
    {
     "data": {
      "image/png": "[encoded data removed]",
      "text/plain": [
       "<Figure size 2500x1500 with 4 Axes>"
      ]
     },
     "metadata": {},
     "output_type": "display_data"
    }
   ],
   "source": [
    "# Crie a figura com 4 subplots em um layout 2x2\n",
    "fig, axs = plt.subplots(2, 2, figsize=(25, 15))\n",
    "\n",
    "# Título geral para o plot\n",
    "fig.suptitle('Comparativo de Abordagens de Limpeza de Dados', fontsize=20)\n",
    "\n",
    "# Eixo Y compartilhado para padronizar os gráficos\n",
    "for ax in axs.flat:\n",
    "    ax.set_ylim(40, 105) # SOH in percentage\n",
    "\n",
    "# Configuração de Ticks do Eixo X\n",
    "xmin = df_grouped[\"Cycle_Index\"].min()\n",
    "xmax = df_grouped[\"Cycle_Index\"].max()\n",
    "major_ticks = np.arange(0, xmax + 1, 200)\n",
    "minor_ticks = np.arange(0, xmax + 1, 50)\n",
    "\n",
    "# 1. Plot para \"Dados Originais\"\n",
    "axs[0, 0].plot(df_grouped[\"Cycle_Index\"], df_grouped[\"SOH_discharge\"] * 100, label=\"Dados Originais\", color='gray', linewidth=1.5, zorder=1)\n",
    "#axs[0, 0].scatter(df_grouped_estimates[\"estimated_cycle\"], df_grouped_estimates[\"SOH_threshold\"] * 100, label=\"Queda de 1%\", color='gray', marker='d', s=100, zorder=3)\n",
    "axs[0, 0].set_title(\"1. Dados Originais\", fontsize=16)\n",
    "axs[0, 0].set_ylabel(\"SOH (%)\", fontsize=12)\n",
    "\n",
    "# 2. Plot para \"Isolation Forest\"\n",
    "axs[0, 1].plot(df_IsolForest[\"Cycle_Index\"], df_IsolForest[\"SOH_discharge\"] * 100, label=\"Limpeza com Isolation Forest\", color='darkorange', linewidth=2.5, zorder=2)\n",
    "# axs[0, 1].scatter(df_IsolForest_estimates[\"estimated_cycle\"], df_IsolForest_estimates[\"SOH_threshold\"] * 100, label=\"Queda de 1%\", color='darkorange', marker='d', s=100, zorder=3)\n",
    "axs[0, 1].set_title(\"2. Limpeza com Isolation Forest\", fontsize=16)\n",
    "\n",
    "# 3. Plot para \"IQR\"\n",
    "axs[1, 0].plot(df_IQR[\"Cycle_Index\"], df_IQR[\"SOH_discharge\"] * 100, label=\"Limpeza com IQR\", color='skyblue', linewidth=2.5, zorder=2)\n",
    "# axs[1, 0].scatter(df_IQR_estimates[\"estimated_cycle\"], df_IQR_estimates[\"SOH_threshold\"] * 100, label=\"Queda de 1%\", color='skyblue', marker='d', s=100, zorder=3)\n",
    "axs[1, 0].set_title(\"3. Limpeza com IQR\", fontsize=16)\n",
    "axs[1, 0].set_xlabel(\"Índice de Ciclo\", fontsize=12)\n",
    "axs[1, 0].set_ylabel(\"SOH (%)\", fontsize=12)\n",
    "\n",
    "# 4. Plot para \"Z-Score\"\n",
    "axs[1, 1].plot(df_ZScore[\"Cycle_Index\"], df_ZScore[\"SOH_discharge\"] * 100, label=\"Limpeza com Z-Score\", color='forestgreen', linewidth=2.5, zorder=2)\n",
    "# axs[1, 1].scatter(df_ZScore_estimates[\"estimated_cycle\"], df_ZScore_estimates[\"SOH_threshold\"] * 100, label=\"Queda de 1%\", color='forestgreen', marker='d', s=100, zorder=3)\n",
    "axs[1, 1].set_title(\"4. Limpeza com Z-Score\", fontsize=16)\n",
    "axs[1, 1].set_xlabel(\"Índice de Ciclo\", fontsize=12)\n",
    "\n",
    "# Adicione grids, ticks e legendas para cada subplot\n",
    "for ax in axs.flat:\n",
    "    ax.set_xticks(major_ticks)\n",
    "    ax.set_xticks(minor_ticks, minor=True)\n",
    "    ax.grid(which='major', linestyle='-', linewidth=1, alpha=0.9)\n",
    "    ax.grid(which='minor', linestyle='--', linewidth=0.5, alpha=0.7)\n",
    "    ax.legend(loc='best', fontsize=10)\n",
    "\n",
    "plt.tight_layout(rect=[0, 0, 1, 0.96])\n",
    "plt.show()\n"
   ]
  },
  {
   "cell_type": "markdown",
   "metadata": {},
   "source": [
    "## Z-score com ensure_non_decreasing e rmv_sharp_jump é o escolhido"
   ]
  },
  {
   "cell_type": "code",
   "execution_count": 66,
   "metadata": {},
   "outputs": [
    {
     "name": "stdout",
     "output_type": "stream",
     "text": [
      "Número de NCD1%: 19\n",
      "Média: 376.05, Desvio-padrão: 122.52\n"
     ]
    },
    {
     "data": {
      "image/png": "[encoded data removed]",
      "text/plain": [
       "<Figure size 1200x200 with 1 Axes>"
      ]
     },
     "metadata": {},
     "output_type": "display_data"
    }
   ],
   "source": [
    "df_ZScore_estimates = rmv_outliers_iqr(df_ZScore_estimates, 'NCD1%')\n",
    "\n",
    "data = df_ZScore_estimates[\"NCD1%\"].dropna().values\n",
    "print(f'Número de NCD1%: {len(data)}')\n",
    "\n",
    "mean = np.mean(data)\n",
    "std  = np.std(data, ddof=1)\n",
    "print(f'Média: {mean:.2f}, Desvio-padrão: {std:.2f}')\n",
    "\n",
    "# Seleciona a cor padrão 'C0' do matplotlib (primeira cor)\n",
    "default_color = plt.rcParams['axes.prop_cycle'].by_key()['color'][0]\n",
    "fig, ax = plt.subplots(figsize=(12, 2))\n",
    "\n",
    "sns.boxplot(\n",
    "    x=data,                   # valores no eixo x\n",
    "    y=np.zeros_like(data),    # posição 0 no eixo y\n",
    "    ax=ax,\n",
    "    orient='h',\n",
    "    linewidth=1,\n",
    "    zorder=2\n",
    ")\n",
    "\n",
    "# Deixa a face do boxplot semitransparente\n",
    "for patch in ax.patches:\n",
    "    if hasattr(patch, 'get_facecolor'):\n",
    "        r, g, b, a = patch.get_facecolor()\n",
    "        patch.set_facecolor((r, g, b, 0.3))  # alpha = 0.3\n",
    "\n",
    "# Sobreposição de pontos (scatter) com baixa opacidade\n",
    "sns.scatterplot(\n",
    "    x=data,\n",
    "    y=np.zeros_like(data),\n",
    "    ax=ax,\n",
    "    s=60,                     # tamanho dos pontos\n",
    "    color=default_color,      # mesma cor do boxplot\n",
    "    alpha=0.7,\n",
    "    zorder=1\n",
    ")\n",
    "\n",
    "# Remove os ticks do eixo y (não fazem sentido aqui)\n",
    "ax.set_yticks([])\n",
    "\n",
    "ax.set_xlabel(\"NCD1%\")\n",
    "ax.tick_params(which='major', labelsize=12)\n",
    "\n",
    "plt.title(\"Distribuição de NCD1%\", fontsize=18)\n",
    "plt.grid(True, linestyle='--', linewidth=0.5, alpha=0.7)\n",
    "\n",
    "plt.show()"
   ]
  },
  {
   "cell_type": "code",
   "execution_count": 67,
   "metadata": {},
   "outputs": [
    {
     "data": {
      "image/png": "[encoded data removed]",
      "text/plain": [
       "<Figure size 900x400 with 1 Axes>"
      ]
     },
     "metadata": {},
     "output_type": "display_data"
    }
   ],
   "source": [
    "data = np.sort(data)  # Garante que os dados estão ordenados\n",
    "n    = len(data)\n",
    "\n",
    "# Faz o fitting para encotnrar os parametros e calcula a funcao acumulada dos dados considerando comportamento normal\n",
    "mean, std = norm.fit(data)\n",
    "teo_norm  = norm.cdf(data, loc=mean, scale=std)\n",
    "\n",
    "plt.figure(figsize=(9, 4))\n",
    "\n",
    "# Probabilidade acumulada empírica (1/n, 2/n, ..., 1)\n",
    "cdf_emp = np.arange(0, n)/(n-1)\n",
    "plt.plot(data, cdf_emp, marker='o', linestyle='-', label=\"CDF NCD1%\", zorder=3, alpha=0.7)\n",
    "\n",
    "# Função acumulada da normal (teórica)\n",
    "plt.plot(data, teo_norm, linestyle='--', label=f\"CDF Normal fit\\n(μ={mean:.2f}, σ={std:.2f})\")\n",
    "\n",
    "plt.xlabel(\"NCD1\")\n",
    "plt.ylabel(\"Probabilidade acumulada\")\n",
    "plt.title(\"NCD1% e Curva Normal aproximada\")\n",
    "plt.legend()\n",
    "plt.grid(True, linestyle='--', linewidth=0.5, alpha=0.7)\n",
    "\n",
    "plt.show()\n"
   ]
  },
  {
   "cell_type": "markdown",
   "metadata": {},
   "source": [
    "Teste de Kolmogorov–Smirnov (KS) para verificar formalmente se o conjunto de dados de NCD1% (`data`) segue a distribuição Normal com os parametros encontrados no método de fitting\n",
    "\n",
    "De acordo com a [documentação de **kstest**](https://docs.scipy.org/doc/scipy/reference/generated/scipy.stats.kstest.html):\n",
    "- ``rvs=data``\n",
    "    - Array de observações ordenadas\n",
    "- ``cdf='norm'`` \n",
    "    - Especifica que a distribuição teórica é a de uma normal\n",
    "- ``args=(mean, std)`` \n",
    "    - Parâmetros (μ, σ) da normal teórica\n",
    "\n",
    "Retorna:\n",
    "\n",
    "- ``D (statistic) `` \n",
    "    - Representa a maior diferença absoluta entre aa curva dados e a CDF da Normal teórica\n",
    "    - Quanto menor, mais próximo o ajuste está dos dados observados\n",
    "\n",
    "- ``p-value``\n",
    "    - Probabilidade de observar uma estatística \\( D \\) igual ou mais extrema sob a suposição de que os dados vêm de uma Normal\n",
    "    - **Valores altos (> alpha) indicam falha em rejeitar a hipótese de normalidade**. \n",
    "    - Valores baixos (< alpha) indicam evidência contra a hipótese"
   ]
  },
  {
   "cell_type": "code",
   "execution_count": 68,
   "metadata": {},
   "outputs": [
    {
     "name": "stdout",
     "output_type": "stream",
     "text": [
      "KS statistic: 0.1763\n",
      "p-value: 0.5387\n",
      "alpha = 0.05\n",
      "Hipótese aceita.\n"
     ]
    }
   ],
   "source": [
    "statistic, p_value = kstest(rvs=data, cdf='norm', args=(mean, std))\n",
    "\n",
    "print(f\"KS statistic: {statistic:.4f}\")\n",
    "print(f\"p-value: {p_value:.4f}\")\n",
    "\n",
    "alpha = 0.05\n",
    "print(f'alpha = {alpha}')\n",
    "if p_value < alpha: print(f\"Hipótese rejeitada.\")\n",
    "else: print(f\"Hipótese aceita.\")"
   ]
  }
 ],
 "metadata": {
  "kernelspec": {
   "display_name": "Python 3",
   "language": "python",
   "name": "python3"
  },
  "language_info": {
   "codemirror_mode": {
    "name": "ipython",
    "version": 3
   },
   "file_extension": ".py",
   "mimetype": "text/x-python",
   "name": "python",
   "nbconvert_exporter": "python",
   "pygments_lexer": "ipython3",
   "version": "3.13.7"
  }
 },
 "nbformat": 4,
 "nbformat_minor": 2
}
