{
 "cells": [
  {
   "cell_type": "code",
   "execution_count": 44,
   "metadata": {},
   "outputs": [],
   "source": [
    "import numpy as np\n",
    "import pandas as pd\n",
    "import seaborn as sns\n",
    "import matplotlib.pyplot as plt\n",
    "from IPython.display import display\n",
    "from scipy.stats import norm, kstest, zscore\n",
    "from sklearn.ensemble import IsolationForest\n"
   ]
  },
  {
   "cell_type": "markdown",
   "metadata": {},
   "source": [
    "# HNEI"
   ]
  },
  {
   "cell_type": "markdown",
   "metadata": {},
   "source": [
    "## Limpeza e preparação"
   ]
  },
  {
   "cell_type": "markdown",
   "metadata": {},
   "source": [
    "- Corrente negativa --> descarga\n",
    "- Corrente positiva --> carga"
   ]
  },
  {
   "cell_type": "code",
   "execution_count": null,
   "metadata": {},
   "outputs": [
    {
     "data": {
      "application/vnd.microsoft.datawrangler.viewer.v0+json": {
       "columns": [
        {
         "name": "index",
         "rawType": "int64",
         "type": "integer"
        },
        {
         "name": "Cycle_Index",
         "rawType": "float64",
         "type": "float"
        },
        {
         "name": "Test_Time (s)",
         "rawType": "float64",
         "type": "float"
        },
        {
         "name": "Current (A)",
         "rawType": "float64",
         "type": "float"
        },
        {
         "name": "Voltage (V)",
         "rawType": "float64",
         "type": "float"
        },
        {
         "name": "Discharge_Capacity (Ah)",
         "rawType": "float64",
         "type": "float"
        },
        {
         "name": "Cell_Temperature (C)",
         "rawType": "float64",
         "type": "float"
        }
       ],
       "ref": "77442467-f638-4802-81f3-61392f4dab46",
       "rows": [
        [
         "2",
         "1.0",
         "67.294",
         "-1.398",
         "3.67",
         "0.001",
         null
        ],
        [
         "3",
         "1.0",
         "74.303",
         "-1.398",
         "3.664",
         "0.004",
         null
        ],
        [
         "4",
         "1.0",
         "81.31",
         "-1.399",
         "3.659",
         "0.006",
         null
        ],
        [
         "5",
         "1.0",
         "88.319",
         "-1.398",
         "3.656",
         "0.009",
         null
        ],
        [
         "6",
         "1.0",
         "95.294",
         "-1.399",
         "3.654",
         "0.012",
         null
        ],
        [
         "7",
         "1.0",
         "102.303",
         "-1.398",
         "3.651",
         "0.015",
         null
        ],
        [
         "8",
         "1.0",
         "109.31",
         "-1.398",
         "3.65",
         "0.017",
         null
        ],
        [
         "9",
         "1.0",
         "116.319",
         "-1.398",
         "3.648",
         "0.02",
         null
        ],
        [
         "10",
         "1.0",
         "123.294",
         "-1.398",
         "3.647",
         "0.023",
         null
        ],
        [
         "11",
         "1.0",
         "130.302",
         "-1.398",
         "3.646",
         "0.025",
         null
        ],
        [
         "12",
         "1.0",
         "137.311",
         "-1.398",
         "3.645",
         "0.028",
         null
        ],
        [
         "13",
         "1.0",
         "144.319",
         "-1.398",
         "3.644",
         "0.031",
         null
        ],
        [
         "14",
         "1.0",
         "151.294",
         "-1.398",
         "3.644",
         "0.034",
         null
        ],
        [
         "15",
         "1.0",
         "158.302",
         "-1.398",
         "3.643",
         "0.036",
         null
        ],
        [
         "16",
         "1.0",
         "165.311",
         "-1.398",
         "3.642",
         "0.039",
         null
        ],
        [
         "17",
         "1.0",
         "172.319",
         "-1.398",
         "3.642",
         "0.042",
         null
        ],
        [
         "18",
         "1.0",
         "179.294",
         "-1.398",
         "3.641",
         "0.044",
         null
        ],
        [
         "19",
         "1.0",
         "186.302",
         "-1.398",
         "3.641",
         "0.047",
         null
        ],
        [
         "20",
         "1.0",
         "193.311",
         "-1.398",
         "3.641",
         "0.05",
         null
        ],
        [
         "21",
         "1.0",
         "200.319",
         "-1.398",
         "3.64",
         "0.053",
         null
        ],
        [
         "22",
         "1.0",
         "207.294",
         "-1.398",
         "3.64",
         "0.055",
         null
        ],
        [
         "23",
         "1.0",
         "214.302",
         "-1.398",
         "3.639",
         "0.058",
         null
        ],
        [
         "24",
         "1.0",
         "221.311",
         "-1.398",
         "3.639",
         "0.061",
         null
        ],
        [
         "25",
         "1.0",
         "228.319",
         "-1.399",
         "3.639",
         "0.063",
         null
        ],
        [
         "26",
         "1.0",
         "235.294",
         "-1.398",
         "3.639",
         "0.066",
         null
        ],
        [
         "27",
         "1.0",
         "242.302",
         "-1.398",
         "3.638",
         "0.069",
         null
        ],
        [
         "28",
         "1.0",
         "249.311",
         "-1.398",
         "3.638",
         "0.072",
         null
        ],
        [
         "29",
         "1.0",
         "256.319",
         "-1.399",
         "3.638",
         "0.074",
         null
        ],
        [
         "30",
         "1.0",
         "263.295",
         "-1.398",
         "3.637",
         "0.077",
         null
        ],
        [
         "31",
         "1.0",
         "270.303",
         "-1.398",
         "3.637",
         "0.08",
         null
        ],
        [
         "32",
         "1.0",
         "277.311",
         "-1.398",
         "3.637",
         "0.083",
         null
        ],
        [
         "33",
         "1.0",
         "284.319",
         "-1.398",
         "3.637",
         "0.085",
         null
        ],
        [
         "34",
         "1.0",
         "291.295",
         "-1.398",
         "3.636",
         "0.088",
         null
        ],
        [
         "35",
         "1.0",
         "298.303",
         "-1.398",
         "3.636",
         "0.091",
         null
        ],
        [
         "36",
         "1.0",
         "305.311",
         "-1.398",
         "3.636",
         "0.093",
         null
        ],
        [
         "37",
         "1.0",
         "312.319",
         "-1.398",
         "3.636",
         "0.096",
         null
        ],
        [
         "38",
         "1.0",
         "319.295",
         "-1.398",
         "3.635",
         "0.099",
         null
        ],
        [
         "39",
         "1.0",
         "326.303",
         "-1.398",
         "3.635",
         "0.102",
         null
        ],
        [
         "40",
         "1.0",
         "333.311",
         "-1.398",
         "3.635",
         "0.104",
         null
        ],
        [
         "41",
         "1.0",
         "340.319",
         "-1.398",
         "3.635",
         "0.107",
         null
        ],
        [
         "42",
         "1.0",
         "347.295",
         "-1.398",
         "3.634",
         "0.11",
         null
        ],
        [
         "43",
         "1.0",
         "354.303",
         "-1.398",
         "3.634",
         "0.112",
         null
        ],
        [
         "44",
         "1.0",
         "361.311",
         "-1.398",
         "3.634",
         "0.115",
         null
        ],
        [
         "45",
         "1.0",
         "368.319",
         "-1.398",
         "3.634",
         "0.118",
         null
        ],
        [
         "46",
         "1.0",
         "375.295",
         "-1.398",
         "3.634",
         "0.121",
         null
        ],
        [
         "47",
         "1.0",
         "382.303",
         "-1.398",
         "3.633",
         "0.123",
         null
        ],
        [
         "48",
         "1.0",
         "389.311",
         "-1.398",
         "3.633",
         "0.126",
         null
        ],
        [
         "49",
         "1.0",
         "396.319",
         "-1.398",
         "3.633",
         "0.129",
         null
        ],
        [
         "50",
         "1.0",
         "403.295",
         "-1.398",
         "3.632",
         "0.131",
         null
        ],
        [
         "51",
         "1.0",
         "410.303",
         "-1.398",
         "3.632",
         "0.134",
         null
        ]
       ],
       "shape": {
        "columns": 6,
        "rows": 251438
       }
      },
      "text/html": [
       "<div>\n",
       "<style scoped>\n",
       "    .dataframe tbody tr th:only-of-type {\n",
       "        vertical-align: middle;\n",
       "    }\n",
       "\n",
       "    .dataframe tbody tr th {\n",
       "        vertical-align: top;\n",
       "    }\n",
       "\n",
       "    .dataframe thead th {\n",
       "        text-align: right;\n",
       "    }\n",
       "</style>\n",
       "<table border=\"1\" class=\"dataframe\">\n",
       "  <thead>\n",
       "    <tr style=\"text-align: right;\">\n",
       "      <th></th>\n",
       "      <th>Cycle_Index</th>\n",
       "      <th>Test_Time (s)</th>\n",
       "      <th>Current (A)</th>\n",
       "      <th>Voltage (V)</th>\n",
       "      <th>Discharge_Capacity (Ah)</th>\n",
       "      <th>Cell_Temperature (C)</th>\n",
       "    </tr>\n",
       "  </thead>\n",
       "  <tbody>\n",
       "    <tr>\n",
       "      <th>2</th>\n",
       "      <td>1.0</td>\n",
       "      <td>6.729400e+01</td>\n",
       "      <td>-1.398</td>\n",
       "      <td>3.670</td>\n",
       "      <td>0.001</td>\n",
       "      <td>NaN</td>\n",
       "    </tr>\n",
       "    <tr>\n",
       "      <th>3</th>\n",
       "      <td>1.0</td>\n",
       "      <td>7.430300e+01</td>\n",
       "      <td>-1.398</td>\n",
       "      <td>3.664</td>\n",
       "      <td>0.004</td>\n",
       "      <td>NaN</td>\n",
       "    </tr>\n",
       "    <tr>\n",
       "      <th>4</th>\n",
       "      <td>1.0</td>\n",
       "      <td>8.131000e+01</td>\n",
       "      <td>-1.399</td>\n",
       "      <td>3.659</td>\n",
       "      <td>0.006</td>\n",
       "      <td>NaN</td>\n",
       "    </tr>\n",
       "    <tr>\n",
       "      <th>5</th>\n",
       "      <td>1.0</td>\n",
       "      <td>8.831900e+01</td>\n",
       "      <td>-1.398</td>\n",
       "      <td>3.656</td>\n",
       "      <td>0.009</td>\n",
       "      <td>NaN</td>\n",
       "    </tr>\n",
       "    <tr>\n",
       "      <th>6</th>\n",
       "      <td>1.0</td>\n",
       "      <td>9.529400e+01</td>\n",
       "      <td>-1.399</td>\n",
       "      <td>3.654</td>\n",
       "      <td>0.012</td>\n",
       "      <td>NaN</td>\n",
       "    </tr>\n",
       "    <tr>\n",
       "      <th>...</th>\n",
       "      <td>...</td>\n",
       "      <td>...</td>\n",
       "      <td>...</td>\n",
       "      <td>...</td>\n",
       "      <td>...</td>\n",
       "      <td>...</td>\n",
       "    </tr>\n",
       "    <tr>\n",
       "      <th>651026</th>\n",
       "      <td>1113.0</td>\n",
       "      <td>1.627613e+07</td>\n",
       "      <td>-0.052</td>\n",
       "      <td>3.794</td>\n",
       "      <td>0.989</td>\n",
       "      <td>NaN</td>\n",
       "    </tr>\n",
       "    <tr>\n",
       "      <th>651027</th>\n",
       "      <td>1113.0</td>\n",
       "      <td>1.627616e+07</td>\n",
       "      <td>-0.051</td>\n",
       "      <td>3.794</td>\n",
       "      <td>0.989</td>\n",
       "      <td>NaN</td>\n",
       "    </tr>\n",
       "    <tr>\n",
       "      <th>651028</th>\n",
       "      <td>1113.0</td>\n",
       "      <td>1.627619e+07</td>\n",
       "      <td>-0.052</td>\n",
       "      <td>3.794</td>\n",
       "      <td>0.990</td>\n",
       "      <td>NaN</td>\n",
       "    </tr>\n",
       "    <tr>\n",
       "      <th>651029</th>\n",
       "      <td>1113.0</td>\n",
       "      <td>1.627622e+07</td>\n",
       "      <td>-0.051</td>\n",
       "      <td>3.794</td>\n",
       "      <td>0.990</td>\n",
       "      <td>NaN</td>\n",
       "    </tr>\n",
       "    <tr>\n",
       "      <th>651030</th>\n",
       "      <td>1113.0</td>\n",
       "      <td>1.627624e+07</td>\n",
       "      <td>-0.049</td>\n",
       "      <td>3.794</td>\n",
       "      <td>0.991</td>\n",
       "      <td>NaN</td>\n",
       "    </tr>\n",
       "  </tbody>\n",
       "</table>\n",
       "<p>251438 rows × 6 columns</p>\n",
       "</div>"
      ],
      "text/plain": [
       "        Cycle_Index  Test_Time (s)  Current (A)  Voltage (V)  \\\n",
       "2               1.0   6.729400e+01       -1.398        3.670   \n",
       "3               1.0   7.430300e+01       -1.398        3.664   \n",
       "4               1.0   8.131000e+01       -1.399        3.659   \n",
       "5               1.0   8.831900e+01       -1.398        3.656   \n",
       "6               1.0   9.529400e+01       -1.399        3.654   \n",
       "...             ...            ...          ...          ...   \n",
       "651026       1113.0   1.627613e+07       -0.052        3.794   \n",
       "651027       1113.0   1.627616e+07       -0.051        3.794   \n",
       "651028       1113.0   1.627619e+07       -0.052        3.794   \n",
       "651029       1113.0   1.627622e+07       -0.051        3.794   \n",
       "651030       1113.0   1.627624e+07       -0.049        3.794   \n",
       "\n",
       "        Discharge_Capacity (Ah)  Cell_Temperature (C)  \n",
       "2                         0.001                   NaN  \n",
       "3                         0.004                   NaN  \n",
       "4                         0.006                   NaN  \n",
       "5                         0.009                   NaN  \n",
       "6                         0.012                   NaN  \n",
       "...                         ...                   ...  \n",
       "651026                    0.989                   NaN  \n",
       "651027                    0.989                   NaN  \n",
       "651028                    0.990                   NaN  \n",
       "651029                    0.990                   NaN  \n",
       "651030                    0.991                   NaN  \n",
       "\n",
       "[251438 rows x 6 columns]"
      ]
     },
     "metadata": {},
     "output_type": "display_data"
    },
    {
     "data": {
      "application/vnd.microsoft.datawrangler.viewer.v0+json": {
       "columns": [
        {
         "name": "index",
         "rawType": "object",
         "type": "string"
        },
        {
         "name": "Cycle_Index",
         "rawType": "float64",
         "type": "float"
        },
        {
         "name": "Test_Time (s)",
         "rawType": "float64",
         "type": "float"
        },
        {
         "name": "Current (A)",
         "rawType": "float64",
         "type": "float"
        },
        {
         "name": "Voltage (V)",
         "rawType": "float64",
         "type": "float"
        },
        {
         "name": "Discharge_Capacity (Ah)",
         "rawType": "float64",
         "type": "float"
        },
        {
         "name": "Cell_Temperature (C)",
         "rawType": "float64",
         "type": "float"
        }
       ],
       "ref": "be40e0e1-37c9-4d14-a603-4f843800ddf1",
       "rows": [
        [
         "count",
         "251438.0",
         "251438.0",
         "251438.0",
         "251438.0",
         "251438.0",
         "0.0"
        ],
        [
         "mean",
         "409.8431024745663",
         "6645529.959180132",
         "-3.373954151719311",
         "3.53233156881617",
         "1.0735254933621807",
         null
        ],
        [
         "std",
         "349.62016056032866",
         "4753021.544970333",
         "1.5761477644160056",
         "0.26288447672629445",
         "0.6872289665880497",
         null
        ],
        [
         "min",
         "1.0",
         "67.294",
         "-4.199",
         "2.799",
         "0.0",
         null
        ],
        [
         "25%",
         "64.0",
         "1826307.73375",
         "-4.198",
         "3.345",
         "0.496",
         null
        ],
        [
         "50%",
         "328.0",
         "5939024.39",
         "-4.198",
         "3.509",
         "1.0",
         null
        ],
        [
         "75%",
         "695.0",
         "10545200.828",
         "-4.197",
         "3.728",
         "1.592",
         null
        ],
        [
         "max",
         "1113.0",
         "16276239.718",
         "-0.049",
         "4.29",
         "2.931",
         null
        ]
       ],
       "shape": {
        "columns": 6,
        "rows": 8
       }
      },
      "text/html": [
       "<div>\n",
       "<style scoped>\n",
       "    .dataframe tbody tr th:only-of-type {\n",
       "        vertical-align: middle;\n",
       "    }\n",
       "\n",
       "    .dataframe tbody tr th {\n",
       "        vertical-align: top;\n",
       "    }\n",
       "\n",
       "    .dataframe thead th {\n",
       "        text-align: right;\n",
       "    }\n",
       "</style>\n",
       "<table border=\"1\" class=\"dataframe\">\n",
       "  <thead>\n",
       "    <tr style=\"text-align: right;\">\n",
       "      <th></th>\n",
       "      <th>Cycle_Index</th>\n",
       "      <th>Test_Time (s)</th>\n",
       "      <th>Current (A)</th>\n",
       "      <th>Voltage (V)</th>\n",
       "      <th>Discharge_Capacity (Ah)</th>\n",
       "      <th>Cell_Temperature (C)</th>\n",
       "    </tr>\n",
       "  </thead>\n",
       "  <tbody>\n",
       "    <tr>\n",
       "      <th>count</th>\n",
       "      <td>251438.000000</td>\n",
       "      <td>2.514380e+05</td>\n",
       "      <td>251438.000000</td>\n",
       "      <td>251438.000000</td>\n",
       "      <td>251438.000000</td>\n",
       "      <td>0.0</td>\n",
       "    </tr>\n",
       "    <tr>\n",
       "      <th>mean</th>\n",
       "      <td>409.843102</td>\n",
       "      <td>6.645530e+06</td>\n",
       "      <td>-3.373954</td>\n",
       "      <td>3.532332</td>\n",
       "      <td>1.073525</td>\n",
       "      <td>NaN</td>\n",
       "    </tr>\n",
       "    <tr>\n",
       "      <th>std</th>\n",
       "      <td>349.620161</td>\n",
       "      <td>4.753022e+06</td>\n",
       "      <td>1.576148</td>\n",
       "      <td>0.262884</td>\n",
       "      <td>0.687229</td>\n",
       "      <td>NaN</td>\n",
       "    </tr>\n",
       "    <tr>\n",
       "      <th>min</th>\n",
       "      <td>1.000000</td>\n",
       "      <td>6.729400e+01</td>\n",
       "      <td>-4.199000</td>\n",
       "      <td>2.799000</td>\n",
       "      <td>0.000000</td>\n",
       "      <td>NaN</td>\n",
       "    </tr>\n",
       "    <tr>\n",
       "      <th>25%</th>\n",
       "      <td>64.000000</td>\n",
       "      <td>1.826308e+06</td>\n",
       "      <td>-4.198000</td>\n",
       "      <td>3.345000</td>\n",
       "      <td>0.496000</td>\n",
       "      <td>NaN</td>\n",
       "    </tr>\n",
       "    <tr>\n",
       "      <th>50%</th>\n",
       "      <td>328.000000</td>\n",
       "      <td>5.939024e+06</td>\n",
       "      <td>-4.198000</td>\n",
       "      <td>3.509000</td>\n",
       "      <td>1.000000</td>\n",
       "      <td>NaN</td>\n",
       "    </tr>\n",
       "    <tr>\n",
       "      <th>75%</th>\n",
       "      <td>695.000000</td>\n",
       "      <td>1.054520e+07</td>\n",
       "      <td>-4.197000</td>\n",
       "      <td>3.728000</td>\n",
       "      <td>1.592000</td>\n",
       "      <td>NaN</td>\n",
       "    </tr>\n",
       "    <tr>\n",
       "      <th>max</th>\n",
       "      <td>1113.000000</td>\n",
       "      <td>1.627624e+07</td>\n",
       "      <td>-0.049000</td>\n",
       "      <td>4.290000</td>\n",
       "      <td>2.931000</td>\n",
       "      <td>NaN</td>\n",
       "    </tr>\n",
       "  </tbody>\n",
       "</table>\n",
       "</div>"
      ],
      "text/plain": [
       "         Cycle_Index  Test_Time (s)    Current (A)    Voltage (V)  \\\n",
       "count  251438.000000   2.514380e+05  251438.000000  251438.000000   \n",
       "mean      409.843102   6.645530e+06      -3.373954       3.532332   \n",
       "std       349.620161   4.753022e+06       1.576148       0.262884   \n",
       "min         1.000000   6.729400e+01      -4.199000       2.799000   \n",
       "25%        64.000000   1.826308e+06      -4.198000       3.345000   \n",
       "50%       328.000000   5.939024e+06      -4.198000       3.509000   \n",
       "75%       695.000000   1.054520e+07      -4.197000       3.728000   \n",
       "max      1113.000000   1.627624e+07      -0.049000       4.290000   \n",
       "\n",
       "       Discharge_Capacity (Ah)  Cell_Temperature (C)  \n",
       "count            251438.000000                   0.0  \n",
       "mean                  1.073525                   NaN  \n",
       "std                   0.687229                   NaN  \n",
       "min                   0.000000                   NaN  \n",
       "25%                   0.496000                   NaN  \n",
       "50%                   1.000000                   NaN  \n",
       "75%                   1.592000                   NaN  \n",
       "max                   2.931000                   NaN  "
      ]
     },
     "metadata": {},
     "output_type": "display_data"
    }
   ],
   "source": [
    "# Header completo:\n",
    "# Date_Time,Test_Time (s),Cycle_Index,Current (A),Voltage (V),Charge_Capacity (Ah),Discharge_Capacity (Ah),Charge_Energy (Wh),Discharge_Energy (Wh),Environment_Temperature (C),Cell_Temperature (C)\n",
    "df = pd.read_csv('../Battery_Archive_Data/HNEI/2.80_HNEI_18650_NMC_LCO_25C_0-100_0.5-1.5C_a_timeseries.csv')\n",
    "\n",
    "# Apenas features de interesse são mantidas\n",
    "# Obs: Envoironment_Temperature (C) poderia ser relevante, mas tem todos os valores nulos. Então, é removida\n",
    "df = df[[\"Cycle_Index\", \"Test_Time (s)\", \"Current (A)\", \"Voltage (V)\", \"Discharge_Capacity (Ah)\", \"Cell_Temperature (C)\"]]\n",
    "\n",
    "# Mantem apenas as linhas em que a bateria está descarregando, ou seja, corrente < 0\n",
    "df = df[df['Current (A)'] < 0]\n",
    "\n",
    "# Remove valores para Cell_Temperature < 1 (incorretos)\n",
    "#df = df[df['Cell_Temperature (C)'] >= 1]\n",
    "\n",
    "display(df)\n",
    "display(df.describe())"
   ]
  },
  {
   "cell_type": "markdown",
   "metadata": {},
   "source": [
    "## Visualização"
   ]
  },
  {
   "cell_type": "code",
   "execution_count": 46,
   "metadata": {},
   "outputs": [
    {
     "data": {
      "image/png": "[encoded data removed]",
      "text/plain": [
       "<Figure size 1400x800 with 4 Axes>"
      ]
     },
     "metadata": {},
     "output_type": "display_data"
    }
   ],
   "source": [
    "# Lista de features que deseja analisar (exceto \"Cycle_Index\")\n",
    "features = [\"Current (A)\", \"Voltage (V)\", \"Discharge_Capacity (Ah)\", \"Cell_Temperature (C)\"]\n",
    "\n",
    "# Ciclos únicos e ordenados\n",
    "cycles = df[\"Cycle_Index\"].unique()\n",
    "cycles.sort()\n",
    "NumCyclesPlot = 5\n",
    "\n",
    "# Seleciona 'NumCyclesPlot' ciclos igualmente espaçados para plotar\n",
    "if len(cycles) > NumCyclesPlot:\n",
    "    cycles = cycles[::len(cycles)//NumCyclesPlot] # // --> Divisão inteira\n",
    "\n",
    "# Cria os subplots com layout 2x2\n",
    "fig, axs = plt.subplots(2, 2, figsize=(14, 8))\n",
    "axs = axs.flatten()  # Facilita a iteração\n",
    "\n",
    "# Itera sobre cada feature e sobre os ciclos para plotar os dados\n",
    "for i, feature in enumerate(features):\n",
    "    ax = axs[i]\n",
    "    for cycle in cycles:\n",
    "        # Seleciona os dados do ciclo e calcula o tempo relativo\n",
    "        df_cycle = df[df[\"Cycle_Index\"] == cycle].copy()\n",
    "        df_cycle['Tempo_Relativo (s)'] = df_cycle[\"Test_Time (s)\"] - df_cycle[\"Test_Time (s)\"].min()\n",
    "        \n",
    "        # Plota a feature em função do tempo relativo\n",
    "        ax.plot(df_cycle['Tempo_Relativo (s)'], df_cycle[feature], alpha=0.7, label=f'{int(cycle)}', linewidth=2.0)\n",
    "\n",
    "    ax.set_title(f'{feature} ao longo dos ciclos')\n",
    "    ax.set_xlabel('Tempo Relativo (s)')\n",
    "    ax.set_ylabel(feature)\n",
    "    ax.grid(True)\n",
    "    ax.legend(title=\"Ciclo\", loc='best')\n",
    "\n",
    "plt.tight_layout()\n",
    "plt.show()\n"
   ]
  },
  {
   "cell_type": "markdown",
   "metadata": {},
   "source": [
    "## Análise de SOH"
   ]
  },
  {
   "cell_type": "markdown",
   "metadata": {},
   "source": [
    "$$\n",
    "\\text{SOH} = \\frac{\\text{capacidade\\_atual}}{\\text{capacidade\\_inicial}}\n",
    "$$\n",
    "\n",
    "- $CapacidadeInicial$ é a capacidade nominal, a maior considerando todo o histórico da bateria\n",
    "- $CapacidadeAtual$ é a maior capacidade do ciclo"
   ]
  },
  {
   "cell_type": "code",
   "execution_count": 47,
   "metadata": {},
   "outputs": [
    {
     "name": "stdout",
     "output_type": "stream",
     "text": [
      "Capacidade total de descarga: 2.8 Ah\n"
     ]
    },
    {
     "data": {
      "application/vnd.microsoft.datawrangler.viewer.v0+json": {
       "columns": [
        {
         "name": "index",
         "rawType": "int64",
         "type": "integer"
        },
        {
         "name": "Cycle_Index",
         "rawType": "float64",
         "type": "float"
        },
        {
         "name": "Max_Discharge_Capacity",
         "rawType": "float64",
         "type": "float"
        },
        {
         "name": "SOH_discharge",
         "rawType": "float64",
         "type": "float"
        }
       ],
       "ref": "423ff29d-de29-4414-aef9-50030ef95c9c",
       "rows": [
        [
         "0",
         "1.0",
         "1.009",
         "0.3603571428571428"
        ],
        [
         "1",
         "2.0",
         "2.878",
         "1.027857142857143"
        ],
        [
         "2",
         "3.0",
         "2.872",
         "1.0257142857142858"
        ],
        [
         "3",
         "4.0",
         "2.869",
         "1.0246428571428572"
        ],
        [
         "4",
         "5.0",
         "2.865",
         "1.0232142857142859"
        ],
        [
         "5",
         "6.0",
         "2.891",
         "1.0325"
        ],
        [
         "6",
         "7.0",
         "1.301",
         "0.46464285714285714"
        ],
        [
         "7",
         "8.0",
         "2.315",
         "0.8267857142857143"
        ],
        [
         "8",
         "9.0",
         "2.314",
         "0.8264285714285715"
        ],
        [
         "9",
         "10.0",
         "2.311",
         "0.8253571428571429"
        ],
        [
         "10",
         "11.0",
         "2.729",
         "0.9746428571428573"
        ],
        [
         "11",
         "12.0",
         "1.277",
         "0.45607142857142857"
        ],
        [
         "12",
         "13.0",
         "2.35",
         "0.8392857142857144"
        ],
        [
         "13",
         "14.0",
         "2.352",
         "0.84"
        ],
        [
         "14",
         "15.0",
         "2.345",
         "0.8375000000000001"
        ],
        [
         "15",
         "16.0",
         "2.931",
         "1.0467857142857144"
        ],
        [
         "16",
         "17.0",
         "2.638",
         "0.9421428571428572"
        ],
        [
         "17",
         "18.0",
         "2.635",
         "0.9410714285714286"
        ],
        [
         "18",
         "19.0",
         "2.632",
         "0.9400000000000001"
        ],
        [
         "19",
         "20.0",
         "2.627",
         "0.9382142857142857"
        ],
        [
         "20",
         "21.0",
         "2.626",
         "0.9378571428571428"
        ],
        [
         "21",
         "22.0",
         "2.621",
         "0.9360714285714287"
        ],
        [
         "22",
         "23.0",
         "2.62",
         "0.9357142857142858"
        ],
        [
         "23",
         "24.0",
         "2.617",
         "0.9346428571428572"
        ],
        [
         "24",
         "25.0",
         "2.613",
         "0.9332142857142858"
        ],
        [
         "25",
         "26.0",
         "2.611",
         "0.9325000000000001"
        ],
        [
         "26",
         "27.0",
         "2.609",
         "0.9317857142857143"
        ],
        [
         "27",
         "28.0",
         "2.604",
         "0.93"
        ],
        [
         "28",
         "29.0",
         "2.604",
         "0.93"
        ],
        [
         "29",
         "30.0",
         "2.601",
         "0.9289285714285714"
        ],
        [
         "30",
         "31.0",
         "2.601",
         "0.9289285714285714"
        ],
        [
         "31",
         "32.0",
         "2.598",
         "0.9278571428571428"
        ],
        [
         "32",
         "33.0",
         "2.597",
         "0.9275000000000001"
        ],
        [
         "33",
         "34.0",
         "2.593",
         "0.9260714285714287"
        ],
        [
         "34",
         "35.0",
         "2.593",
         "0.9260714285714287"
        ],
        [
         "35",
         "36.0",
         "2.591",
         "0.925357142857143"
        ],
        [
         "36",
         "37.0",
         "2.59",
         "0.925"
        ],
        [
         "37",
         "38.0",
         "2.587",
         "0.9239285714285715"
        ],
        [
         "38",
         "39.0",
         "2.587",
         "0.9239285714285715"
        ],
        [
         "39",
         "40.0",
         "2.584",
         "0.9228571428571429"
        ],
        [
         "40",
         "41.0",
         "2.59",
         "0.925"
        ],
        [
         "41",
         "42.0",
         "2.593",
         "0.9260714285714287"
        ],
        [
         "42",
         "43.0",
         "2.59",
         "0.925"
        ],
        [
         "43",
         "44.0",
         "2.587",
         "0.9239285714285715"
        ],
        [
         "44",
         "45.0",
         "2.584",
         "0.9228571428571429"
        ],
        [
         "45",
         "46.0",
         "2.58",
         "0.9214285714285715"
        ],
        [
         "46",
         "47.0",
         "2.579",
         "0.9210714285714287"
        ],
        [
         "47",
         "48.0",
         "2.576",
         "0.92"
        ],
        [
         "48",
         "49.0",
         "2.575",
         "0.9196428571428573"
        ],
        [
         "49",
         "50.0",
         "2.57",
         "0.9178571428571428"
        ]
       ],
       "shape": {
        "columns": 3,
        "rows": 1082
       }
      },
      "text/html": [
       "<div>\n",
       "<style scoped>\n",
       "    .dataframe tbody tr th:only-of-type {\n",
       "        vertical-align: middle;\n",
       "    }\n",
       "\n",
       "    .dataframe tbody tr th {\n",
       "        vertical-align: top;\n",
       "    }\n",
       "\n",
       "    .dataframe thead th {\n",
       "        text-align: right;\n",
       "    }\n",
       "</style>\n",
       "<table border=\"1\" class=\"dataframe\">\n",
       "  <thead>\n",
       "    <tr style=\"text-align: right;\">\n",
       "      <th></th>\n",
       "      <th>Cycle_Index</th>\n",
       "      <th>Max_Discharge_Capacity</th>\n",
       "      <th>SOH_discharge</th>\n",
       "    </tr>\n",
       "  </thead>\n",
       "  <tbody>\n",
       "    <tr>\n",
       "      <th>0</th>\n",
       "      <td>1.0</td>\n",
       "      <td>1.009</td>\n",
       "      <td>0.360357</td>\n",
       "    </tr>\n",
       "    <tr>\n",
       "      <th>1</th>\n",
       "      <td>2.0</td>\n",
       "      <td>2.878</td>\n",
       "      <td>1.027857</td>\n",
       "    </tr>\n",
       "    <tr>\n",
       "      <th>2</th>\n",
       "      <td>3.0</td>\n",
       "      <td>2.872</td>\n",
       "      <td>1.025714</td>\n",
       "    </tr>\n",
       "    <tr>\n",
       "      <th>3</th>\n",
       "      <td>4.0</td>\n",
       "      <td>2.869</td>\n",
       "      <td>1.024643</td>\n",
       "    </tr>\n",
       "    <tr>\n",
       "      <th>4</th>\n",
       "      <td>5.0</td>\n",
       "      <td>2.865</td>\n",
       "      <td>1.023214</td>\n",
       "    </tr>\n",
       "    <tr>\n",
       "      <th>...</th>\n",
       "      <td>...</td>\n",
       "      <td>...</td>\n",
       "      <td>...</td>\n",
       "    </tr>\n",
       "    <tr>\n",
       "      <th>1077</th>\n",
       "      <td>1109.0</td>\n",
       "      <td>1.089</td>\n",
       "      <td>0.388929</td>\n",
       "    </tr>\n",
       "    <tr>\n",
       "      <th>1078</th>\n",
       "      <td>1110.0</td>\n",
       "      <td>1.086</td>\n",
       "      <td>0.387857</td>\n",
       "    </tr>\n",
       "    <tr>\n",
       "      <th>1079</th>\n",
       "      <td>1111.0</td>\n",
       "      <td>1.080</td>\n",
       "      <td>0.385714</td>\n",
       "    </tr>\n",
       "    <tr>\n",
       "      <th>1080</th>\n",
       "      <td>1112.0</td>\n",
       "      <td>1.059</td>\n",
       "      <td>0.378214</td>\n",
       "    </tr>\n",
       "    <tr>\n",
       "      <th>1081</th>\n",
       "      <td>1113.0</td>\n",
       "      <td>2.165</td>\n",
       "      <td>0.773214</td>\n",
       "    </tr>\n",
       "  </tbody>\n",
       "</table>\n",
       "<p>1082 rows × 3 columns</p>\n",
       "</div>"
      ],
      "text/plain": [
       "      Cycle_Index  Max_Discharge_Capacity  SOH_discharge\n",
       "0             1.0                   1.009       0.360357\n",
       "1             2.0                   2.878       1.027857\n",
       "2             3.0                   2.872       1.025714\n",
       "3             4.0                   2.869       1.024643\n",
       "4             5.0                   2.865       1.023214\n",
       "...           ...                     ...            ...\n",
       "1077       1109.0                   1.089       0.388929\n",
       "1078       1110.0                   1.086       0.387857\n",
       "1079       1111.0                   1.080       0.385714\n",
       "1080       1112.0                   1.059       0.378214\n",
       "1081       1113.0                   2.165       0.773214\n",
       "\n",
       "[1082 rows x 3 columns]"
      ]
     },
     "metadata": {},
     "output_type": "display_data"
    }
   ],
   "source": [
    "# Capacidade nominal (máxima global)\n",
    "nominal_capacity = 2.80 #df['Discharge_Capacity (Ah)'].max()\n",
    "print(f'Capacidade total de descarga: {nominal_capacity} Ah')\n",
    "\n",
    "# Para cada ciclo, extrai a maior capacidade \n",
    "# (cycles_capacity é uma série do Pandas)\n",
    "cycles_capacity = df.groupby('Cycle_Index')['Discharge_Capacity (Ah)'].max()\n",
    "cycles_capacity = cycles_capacity.reset_index() # transforma em dataframe\n",
    "cycles_capacity.columns = ['Cycle_Index', 'Max_Discharge_Capacity']\n",
    "cycles_capacity['SOH_discharge'] = (cycles_capacity['Max_Discharge_Capacity'] / nominal_capacity)\n",
    "display(cycles_capacity)"
   ]
  },
  {
   "cell_type": "code",
   "execution_count": 48,
   "metadata": {},
   "outputs": [
    {
     "data": {
      "application/vnd.microsoft.datawrangler.viewer.v0+json": {
       "columns": [
        {
         "name": "index",
         "rawType": "int64",
         "type": "integer"
        },
        {
         "name": "Cycle_Index",
         "rawType": "float64",
         "type": "float"
        },
        {
         "name": "Cell_Temperature (C)",
         "rawType": "float64",
         "type": "float"
        },
        {
         "name": "SOH_discharge",
         "rawType": "float64",
         "type": "float"
        }
       ],
       "ref": "de871a78-ee7f-434e-b1e1-d91f5a9435d4",
       "rows": [
        [
         "0",
         "1.0",
         null,
         "0.3603571428571428"
        ],
        [
         "1",
         "2.0",
         null,
         "1.027857142857143"
        ],
        [
         "2",
         "3.0",
         null,
         "1.0257142857142858"
        ],
        [
         "3",
         "4.0",
         null,
         "1.0246428571428572"
        ],
        [
         "4",
         "5.0",
         null,
         "1.0232142857142859"
        ],
        [
         "5",
         "6.0",
         null,
         "1.0325"
        ],
        [
         "6",
         "7.0",
         null,
         "0.46464285714285714"
        ],
        [
         "7",
         "8.0",
         null,
         "0.8267857142857143"
        ],
        [
         "8",
         "9.0",
         null,
         "0.8264285714285715"
        ],
        [
         "9",
         "10.0",
         null,
         "0.8253571428571429"
        ],
        [
         "10",
         "11.0",
         null,
         "0.9746428571428573"
        ],
        [
         "11",
         "12.0",
         null,
         "0.45607142857142857"
        ],
        [
         "12",
         "13.0",
         null,
         "0.8392857142857144"
        ],
        [
         "13",
         "14.0",
         null,
         "0.84"
        ],
        [
         "14",
         "15.0",
         null,
         "0.8375000000000001"
        ],
        [
         "15",
         "16.0",
         null,
         "1.0467857142857144"
        ],
        [
         "16",
         "17.0",
         null,
         "0.9421428571428572"
        ],
        [
         "17",
         "18.0",
         null,
         "0.9410714285714286"
        ],
        [
         "18",
         "19.0",
         null,
         "0.9400000000000001"
        ],
        [
         "19",
         "20.0",
         null,
         "0.9382142857142857"
        ],
        [
         "20",
         "21.0",
         null,
         "0.9378571428571428"
        ],
        [
         "21",
         "22.0",
         null,
         "0.9360714285714287"
        ],
        [
         "22",
         "23.0",
         null,
         "0.9357142857142858"
        ],
        [
         "23",
         "24.0",
         null,
         "0.9346428571428572"
        ],
        [
         "24",
         "25.0",
         null,
         "0.9332142857142858"
        ],
        [
         "25",
         "26.0",
         null,
         "0.9325000000000001"
        ],
        [
         "26",
         "27.0",
         null,
         "0.9317857142857143"
        ],
        [
         "27",
         "28.0",
         null,
         "0.93"
        ],
        [
         "28",
         "29.0",
         null,
         "0.93"
        ],
        [
         "29",
         "30.0",
         null,
         "0.9289285714285714"
        ],
        [
         "30",
         "31.0",
         null,
         "0.9289285714285714"
        ],
        [
         "31",
         "32.0",
         null,
         "0.9278571428571428"
        ],
        [
         "32",
         "33.0",
         null,
         "0.9275000000000001"
        ],
        [
         "33",
         "34.0",
         null,
         "0.9260714285714287"
        ],
        [
         "34",
         "35.0",
         null,
         "0.9260714285714287"
        ],
        [
         "35",
         "36.0",
         null,
         "0.925357142857143"
        ],
        [
         "36",
         "37.0",
         null,
         "0.925"
        ],
        [
         "37",
         "38.0",
         null,
         "0.9239285714285715"
        ],
        [
         "38",
         "39.0",
         null,
         "0.9239285714285715"
        ],
        [
         "39",
         "40.0",
         null,
         "0.9228571428571429"
        ],
        [
         "40",
         "41.0",
         null,
         "0.925"
        ],
        [
         "41",
         "42.0",
         null,
         "0.9260714285714287"
        ],
        [
         "42",
         "43.0",
         null,
         "0.925"
        ],
        [
         "43",
         "44.0",
         null,
         "0.9239285714285715"
        ],
        [
         "44",
         "45.0",
         null,
         "0.9228571428571429"
        ],
        [
         "45",
         "46.0",
         null,
         "0.9214285714285715"
        ],
        [
         "46",
         "47.0",
         null,
         "0.9210714285714287"
        ],
        [
         "47",
         "48.0",
         null,
         "0.92"
        ],
        [
         "48",
         "49.0",
         null,
         "0.9196428571428573"
        ],
        [
         "49",
         "50.0",
         null,
         "0.9178571428571428"
        ]
       ],
       "shape": {
        "columns": 3,
        "rows": 1082
       }
      },
      "text/html": [
       "<div>\n",
       "<style scoped>\n",
       "    .dataframe tbody tr th:only-of-type {\n",
       "        vertical-align: middle;\n",
       "    }\n",
       "\n",
       "    .dataframe tbody tr th {\n",
       "        vertical-align: top;\n",
       "    }\n",
       "\n",
       "    .dataframe thead th {\n",
       "        text-align: right;\n",
       "    }\n",
       "</style>\n",
       "<table border=\"1\" class=\"dataframe\">\n",
       "  <thead>\n",
       "    <tr style=\"text-align: right;\">\n",
       "      <th></th>\n",
       "      <th>Cycle_Index</th>\n",
       "      <th>Cell_Temperature (C)</th>\n",
       "      <th>SOH_discharge</th>\n",
       "    </tr>\n",
       "  </thead>\n",
       "  <tbody>\n",
       "    <tr>\n",
       "      <th>0</th>\n",
       "      <td>1.0</td>\n",
       "      <td>NaN</td>\n",
       "      <td>0.360357</td>\n",
       "    </tr>\n",
       "    <tr>\n",
       "      <th>1</th>\n",
       "      <td>2.0</td>\n",
       "      <td>NaN</td>\n",
       "      <td>1.027857</td>\n",
       "    </tr>\n",
       "    <tr>\n",
       "      <th>2</th>\n",
       "      <td>3.0</td>\n",
       "      <td>NaN</td>\n",
       "      <td>1.025714</td>\n",
       "    </tr>\n",
       "    <tr>\n",
       "      <th>3</th>\n",
       "      <td>4.0</td>\n",
       "      <td>NaN</td>\n",
       "      <td>1.024643</td>\n",
       "    </tr>\n",
       "    <tr>\n",
       "      <th>4</th>\n",
       "      <td>5.0</td>\n",
       "      <td>NaN</td>\n",
       "      <td>1.023214</td>\n",
       "    </tr>\n",
       "    <tr>\n",
       "      <th>...</th>\n",
       "      <td>...</td>\n",
       "      <td>...</td>\n",
       "      <td>...</td>\n",
       "    </tr>\n",
       "    <tr>\n",
       "      <th>1077</th>\n",
       "      <td>1109.0</td>\n",
       "      <td>NaN</td>\n",
       "      <td>0.388929</td>\n",
       "    </tr>\n",
       "    <tr>\n",
       "      <th>1078</th>\n",
       "      <td>1110.0</td>\n",
       "      <td>NaN</td>\n",
       "      <td>0.387857</td>\n",
       "    </tr>\n",
       "    <tr>\n",
       "      <th>1079</th>\n",
       "      <td>1111.0</td>\n",
       "      <td>NaN</td>\n",
       "      <td>0.385714</td>\n",
       "    </tr>\n",
       "    <tr>\n",
       "      <th>1080</th>\n",
       "      <td>1112.0</td>\n",
       "      <td>NaN</td>\n",
       "      <td>0.378214</td>\n",
       "    </tr>\n",
       "    <tr>\n",
       "      <th>1081</th>\n",
       "      <td>1113.0</td>\n",
       "      <td>NaN</td>\n",
       "      <td>0.773214</td>\n",
       "    </tr>\n",
       "  </tbody>\n",
       "</table>\n",
       "<p>1082 rows × 3 columns</p>\n",
       "</div>"
      ],
      "text/plain": [
       "      Cycle_Index  Cell_Temperature (C)  SOH_discharge\n",
       "0             1.0                   NaN       0.360357\n",
       "1             2.0                   NaN       1.027857\n",
       "2             3.0                   NaN       1.025714\n",
       "3             4.0                   NaN       1.024643\n",
       "4             5.0                   NaN       1.023214\n",
       "...           ...                   ...            ...\n",
       "1077       1109.0                   NaN       0.388929\n",
       "1078       1110.0                   NaN       0.387857\n",
       "1079       1111.0                   NaN       0.385714\n",
       "1080       1112.0                   NaN       0.378214\n",
       "1081       1113.0                   NaN       0.773214\n",
       "\n",
       "[1082 rows x 3 columns]"
      ]
     },
     "metadata": {},
     "output_type": "display_data"
    },
    {
     "data": {
      "application/vnd.microsoft.datawrangler.viewer.v0+json": {
       "columns": [
        {
         "name": "index",
         "rawType": "object",
         "type": "string"
        },
        {
         "name": "Cycle_Index",
         "rawType": "float64",
         "type": "float"
        },
        {
         "name": "Cell_Temperature (C)",
         "rawType": "float64",
         "type": "float"
        },
        {
         "name": "SOH_discharge",
         "rawType": "float64",
         "type": "float"
        }
       ],
       "ref": "0d4e1b41-e3a7-448b-800e-edef368652b8",
       "rows": [
        [
         "count",
         "1082.0",
         "0.0",
         "1082.0"
        ],
        [
         "mean",
         "556.4695009242145",
         null,
         "0.6602927779244786"
        ],
        [
         "std",
         "323.696268556013",
         null,
         "0.1685190485490849"
        ],
        [
         "min",
         "1.0",
         null,
         "0.07250000000000001"
        ],
        [
         "25%",
         "271.25",
         null,
         "0.49660714285714286"
        ],
        [
         "50%",
         "559.5",
         null,
         "0.6733928571428571"
        ],
        [
         "75%",
         "835.75",
         null,
         "0.8051785714285715"
        ],
        [
         "max",
         "1113.0",
         null,
         "1.0467857142857144"
        ]
       ],
       "shape": {
        "columns": 3,
        "rows": 8
       }
      },
      "text/html": [
       "<div>\n",
       "<style scoped>\n",
       "    .dataframe tbody tr th:only-of-type {\n",
       "        vertical-align: middle;\n",
       "    }\n",
       "\n",
       "    .dataframe tbody tr th {\n",
       "        vertical-align: top;\n",
       "    }\n",
       "\n",
       "    .dataframe thead th {\n",
       "        text-align: right;\n",
       "    }\n",
       "</style>\n",
       "<table border=\"1\" class=\"dataframe\">\n",
       "  <thead>\n",
       "    <tr style=\"text-align: right;\">\n",
       "      <th></th>\n",
       "      <th>Cycle_Index</th>\n",
       "      <th>Cell_Temperature (C)</th>\n",
       "      <th>SOH_discharge</th>\n",
       "    </tr>\n",
       "  </thead>\n",
       "  <tbody>\n",
       "    <tr>\n",
       "      <th>count</th>\n",
       "      <td>1082.000000</td>\n",
       "      <td>0.0</td>\n",
       "      <td>1082.000000</td>\n",
       "    </tr>\n",
       "    <tr>\n",
       "      <th>mean</th>\n",
       "      <td>556.469501</td>\n",
       "      <td>NaN</td>\n",
       "      <td>0.660293</td>\n",
       "    </tr>\n",
       "    <tr>\n",
       "      <th>std</th>\n",
       "      <td>323.696269</td>\n",
       "      <td>NaN</td>\n",
       "      <td>0.168519</td>\n",
       "    </tr>\n",
       "    <tr>\n",
       "      <th>min</th>\n",
       "      <td>1.000000</td>\n",
       "      <td>NaN</td>\n",
       "      <td>0.072500</td>\n",
       "    </tr>\n",
       "    <tr>\n",
       "      <th>25%</th>\n",
       "      <td>271.250000</td>\n",
       "      <td>NaN</td>\n",
       "      <td>0.496607</td>\n",
       "    </tr>\n",
       "    <tr>\n",
       "      <th>50%</th>\n",
       "      <td>559.500000</td>\n",
       "      <td>NaN</td>\n",
       "      <td>0.673393</td>\n",
       "    </tr>\n",
       "    <tr>\n",
       "      <th>75%</th>\n",
       "      <td>835.750000</td>\n",
       "      <td>NaN</td>\n",
       "      <td>0.805179</td>\n",
       "    </tr>\n",
       "    <tr>\n",
       "      <th>max</th>\n",
       "      <td>1113.000000</td>\n",
       "      <td>NaN</td>\n",
       "      <td>1.046786</td>\n",
       "    </tr>\n",
       "  </tbody>\n",
       "</table>\n",
       "</div>"
      ],
      "text/plain": [
       "       Cycle_Index  Cell_Temperature (C)  SOH_discharge\n",
       "count  1082.000000                   0.0    1082.000000\n",
       "mean    556.469501                   NaN       0.660293\n",
       "std     323.696269                   NaN       0.168519\n",
       "min       1.000000                   NaN       0.072500\n",
       "25%     271.250000                   NaN       0.496607\n",
       "50%     559.500000                   NaN       0.673393\n",
       "75%     835.750000                   NaN       0.805179\n",
       "max    1113.000000                   NaN       1.046786"
      ]
     },
     "metadata": {},
     "output_type": "display_data"
    }
   ],
   "source": [
    "# Seleciona as features de interesse e agrupa por ciclo\n",
    "df_grouped = df[['Cycle_Index', 'Cell_Temperature (C)']]\n",
    "df_grouped = df_grouped.groupby('Cycle_Index', as_index=False).mean() # Média será usada para a temperatura\n",
    "\n",
    "# Adição do SOH calculado em ciclos_capacity\n",
    "df_grouped['SOH_discharge'] = cycles_capacity['SOH_discharge']\n",
    "\n",
    "display(df_grouped)\n",
    "display(df_grouped.describe())"
   ]
  },
  {
   "cell_type": "markdown",
   "metadata": {},
   "source": [
    "### Outliers"
   ]
  },
  {
   "cell_type": "code",
   "execution_count": 49,
   "metadata": {},
   "outputs": [],
   "source": [
    "# Técnica estatística para identificar outliers em um conjunto de dados, calculando o intervalo entre o primeiro quartil (Q1) e o terceiro quartil (Q3), e usando para definir limites superiores e inferiores. Outliers são definidos como pontos que caem abaixo de Q1 - 1.5 * IQR ou acima de Q3 + 1.5 * IQR. Este método é robusto contra a não normalidade dos dados, sendo útil para distribuições assimétricas.\n",
    "def rmv_outliers_iqr(df: pd.DataFrame, column_name: str) -> pd.DataFrame:\n",
    "    # Calculate the first and third quartiles\n",
    "    Q1 = df[column_name].quantile(0.25)\n",
    "    Q3 = df[column_name].quantile(0.75)\n",
    "    \n",
    "    # Calculate the Interquartile Range (IQR)\n",
    "    IQR = Q3 - Q1\n",
    "    \n",
    "    # Define the lower and upper bounds for outliers\n",
    "    lower_bound = Q1 - 1.5 * IQR\n",
    "    upper_bound = Q3 + 1.5 * IQR\n",
    "    \n",
    "    # Filter the DataFrame to keep only the values within the bounds\n",
    "    filtered_df = df[(df[column_name] >= lower_bound) & (df[column_name] <= upper_bound)]\n",
    "    \n",
    "    return filtered_df"
   ]
  },
  {
   "cell_type": "code",
   "execution_count": 50,
   "metadata": {},
   "outputs": [],
   "source": [
    "# Algoritmo de machine learning não supervisionado usado para detecção de anomalias, que identifica outliers isolando-os a partir de partições aleatórias em um conjunto de árvores de decisão\n",
    "def rmv_outliers_isolation_forest(df: pd.DataFrame, column_name: str, contamin='auto') -> pd.DataFrame:\n",
    "    model = IsolationForest(contamination=contamin, random_state=123)\n",
    "    \n",
    "    # Fit the model and predict outliers. The data needs to be reshaped to a 2D array.\n",
    "    predictions = model.fit_predict(df[[column_name]].values)\n",
    "    \n",
    "    # Filter the DataFrame to keep only the inliers (predictions == 1)\n",
    "    filtered_df = df[predictions == 1]\n",
    "    \n",
    "    return filtered_df"
   ]
  },
  {
   "cell_type": "code",
   "execution_count": 51,
   "metadata": {},
   "outputs": [],
   "source": [
    "def rmv_outliers_zscore(df: pd.DataFrame, column_name: str, threshold: float = 3.0) -> pd.DataFrame:\n",
    "    # Calculate the Z-scores of the column\n",
    "    z_scores = np.abs(zscore(df[column_name]))\n",
    "    \n",
    "    # Create a boolean mask to filter out outliers\n",
    "    inlier_mask = z_scores <= threshold\n",
    "    \n",
    "    # Filter the DataFrame to keep only the inliers\n",
    "    filtered_df = df[inlier_mask]\n",
    "    \n",
    "    return filtered_df"
   ]
  },
  {
   "cell_type": "code",
   "execution_count": 52,
   "metadata": {},
   "outputs": [],
   "source": [
    "def ensure_non_increasing(df: pd.DataFrame, column_name: str) -> pd.DataFrame:\n",
    "    # Create a boolean mask where True indicates a valid decreasing or equal step\n",
    "    is_decreasing = df[column_name].diff().fillna(-1) <= 0\n",
    "    \n",
    "    # Filter the DataFrame to keep only the monotonic values\n",
    "    filtered_df = df[is_decreasing]\n",
    "    \n",
    "    return filtered_df"
   ]
  },
  {
   "cell_type": "code",
   "execution_count": 53,
   "metadata": {},
   "outputs": [],
   "source": [
    "def rmv_sharp_jump(df: pd.DataFrame, column_name: str, threshold: float, repeat=1) -> pd.DataFrame:\n",
    "    for _ in range(repeat):\n",
    "        # diff -> a diferença entre os valores consecutivos\n",
    "        # abs -> o valor absoluto para tratar subidas e quedas\n",
    "        # shift(-1) -> para que a diferença seja aplicada ao ponto de origem do salto\n",
    "        # fillna(0) -> trata o último valor (que é NaN após o shift) com 0 para que ele seja mantido\n",
    "        shifted_diff = df[column_name].diff().abs().shift(-1).fillna(0)\n",
    "        \n",
    "        is_not_sharp_jump = shifted_diff <= threshold\n",
    "        df = df[is_not_sharp_jump]\n",
    "    \n",
    "    return df"
   ]
  },
  {
   "cell_type": "code",
   "execution_count": 54,
   "metadata": {},
   "outputs": [
    {
     "data": {
      "application/vnd.microsoft.datawrangler.viewer.v0+json": {
       "columns": [
        {
         "name": "index",
         "rawType": "int64",
         "type": "integer"
        },
        {
         "name": "Cycle_Index",
         "rawType": "float64",
         "type": "float"
        },
        {
         "name": "Cell_Temperature (C)",
         "rawType": "float64",
         "type": "float"
        },
        {
         "name": "SOH_discharge",
         "rawType": "float64",
         "type": "float"
        }
       ],
       "ref": "567f6472-6a44-442a-b8e1-1be4426df797",
       "rows": [
        [
         "0",
         "1.0",
         null,
         "0.3603571428571428"
        ],
        [
         "1",
         "2.0",
         null,
         "1.027857142857143"
        ],
        [
         "2",
         "3.0",
         null,
         "1.0257142857142858"
        ],
        [
         "3",
         "4.0",
         null,
         "1.0246428571428572"
        ],
        [
         "4",
         "5.0",
         null,
         "1.0232142857142859"
        ],
        [
         "5",
         "6.0",
         null,
         "1.0325"
        ],
        [
         "6",
         "7.0",
         null,
         "0.46464285714285714"
        ],
        [
         "7",
         "8.0",
         null,
         "0.8267857142857143"
        ],
        [
         "8",
         "9.0",
         null,
         "0.8264285714285715"
        ],
        [
         "9",
         "10.0",
         null,
         "0.8253571428571429"
        ],
        [
         "10",
         "11.0",
         null,
         "0.9746428571428573"
        ],
        [
         "11",
         "12.0",
         null,
         "0.45607142857142857"
        ],
        [
         "12",
         "13.0",
         null,
         "0.8392857142857144"
        ],
        [
         "13",
         "14.0",
         null,
         "0.84"
        ],
        [
         "14",
         "15.0",
         null,
         "0.8375000000000001"
        ],
        [
         "15",
         "16.0",
         null,
         "1.0467857142857144"
        ],
        [
         "16",
         "17.0",
         null,
         "0.9421428571428572"
        ],
        [
         "17",
         "18.0",
         null,
         "0.9410714285714286"
        ],
        [
         "18",
         "19.0",
         null,
         "0.9400000000000001"
        ],
        [
         "19",
         "20.0",
         null,
         "0.9382142857142857"
        ],
        [
         "20",
         "21.0",
         null,
         "0.9378571428571428"
        ],
        [
         "21",
         "22.0",
         null,
         "0.9360714285714287"
        ],
        [
         "22",
         "23.0",
         null,
         "0.9357142857142858"
        ],
        [
         "23",
         "24.0",
         null,
         "0.9346428571428572"
        ],
        [
         "24",
         "25.0",
         null,
         "0.9332142857142858"
        ],
        [
         "25",
         "26.0",
         null,
         "0.9325000000000001"
        ],
        [
         "26",
         "27.0",
         null,
         "0.9317857142857143"
        ],
        [
         "27",
         "28.0",
         null,
         "0.93"
        ],
        [
         "28",
         "29.0",
         null,
         "0.93"
        ],
        [
         "29",
         "30.0",
         null,
         "0.9289285714285714"
        ],
        [
         "30",
         "31.0",
         null,
         "0.9289285714285714"
        ],
        [
         "31",
         "32.0",
         null,
         "0.9278571428571428"
        ],
        [
         "32",
         "33.0",
         null,
         "0.9275000000000001"
        ],
        [
         "33",
         "34.0",
         null,
         "0.9260714285714287"
        ],
        [
         "34",
         "35.0",
         null,
         "0.9260714285714287"
        ],
        [
         "35",
         "36.0",
         null,
         "0.925357142857143"
        ],
        [
         "36",
         "37.0",
         null,
         "0.925"
        ],
        [
         "37",
         "38.0",
         null,
         "0.9239285714285715"
        ],
        [
         "38",
         "39.0",
         null,
         "0.9239285714285715"
        ],
        [
         "39",
         "40.0",
         null,
         "0.9228571428571429"
        ],
        [
         "40",
         "41.0",
         null,
         "0.925"
        ],
        [
         "41",
         "42.0",
         null,
         "0.9260714285714287"
        ],
        [
         "42",
         "43.0",
         null,
         "0.925"
        ],
        [
         "43",
         "44.0",
         null,
         "0.9239285714285715"
        ],
        [
         "44",
         "45.0",
         null,
         "0.9228571428571429"
        ],
        [
         "45",
         "46.0",
         null,
         "0.9214285714285715"
        ],
        [
         "46",
         "47.0",
         null,
         "0.9210714285714287"
        ],
        [
         "47",
         "48.0",
         null,
         "0.92"
        ],
        [
         "48",
         "49.0",
         null,
         "0.9196428571428573"
        ],
        [
         "49",
         "50.0",
         null,
         "0.9178571428571428"
        ]
       ],
       "shape": {
        "columns": 3,
        "rows": 1082
       }
      },
      "text/html": [
       "<div>\n",
       "<style scoped>\n",
       "    .dataframe tbody tr th:only-of-type {\n",
       "        vertical-align: middle;\n",
       "    }\n",
       "\n",
       "    .dataframe tbody tr th {\n",
       "        vertical-align: top;\n",
       "    }\n",
       "\n",
       "    .dataframe thead th {\n",
       "        text-align: right;\n",
       "    }\n",
       "</style>\n",
       "<table border=\"1\" class=\"dataframe\">\n",
       "  <thead>\n",
       "    <tr style=\"text-align: right;\">\n",
       "      <th></th>\n",
       "      <th>Cycle_Index</th>\n",
       "      <th>Cell_Temperature (C)</th>\n",
       "      <th>SOH_discharge</th>\n",
       "    </tr>\n",
       "  </thead>\n",
       "  <tbody>\n",
       "    <tr>\n",
       "      <th>0</th>\n",
       "      <td>1.0</td>\n",
       "      <td>NaN</td>\n",
       "      <td>0.360357</td>\n",
       "    </tr>\n",
       "    <tr>\n",
       "      <th>1</th>\n",
       "      <td>2.0</td>\n",
       "      <td>NaN</td>\n",
       "      <td>1.027857</td>\n",
       "    </tr>\n",
       "    <tr>\n",
       "      <th>2</th>\n",
       "      <td>3.0</td>\n",
       "      <td>NaN</td>\n",
       "      <td>1.025714</td>\n",
       "    </tr>\n",
       "    <tr>\n",
       "      <th>3</th>\n",
       "      <td>4.0</td>\n",
       "      <td>NaN</td>\n",
       "      <td>1.024643</td>\n",
       "    </tr>\n",
       "    <tr>\n",
       "      <th>4</th>\n",
       "      <td>5.0</td>\n",
       "      <td>NaN</td>\n",
       "      <td>1.023214</td>\n",
       "    </tr>\n",
       "    <tr>\n",
       "      <th>...</th>\n",
       "      <td>...</td>\n",
       "      <td>...</td>\n",
       "      <td>...</td>\n",
       "    </tr>\n",
       "    <tr>\n",
       "      <th>1077</th>\n",
       "      <td>1109.0</td>\n",
       "      <td>NaN</td>\n",
       "      <td>0.388929</td>\n",
       "    </tr>\n",
       "    <tr>\n",
       "      <th>1078</th>\n",
       "      <td>1110.0</td>\n",
       "      <td>NaN</td>\n",
       "      <td>0.387857</td>\n",
       "    </tr>\n",
       "    <tr>\n",
       "      <th>1079</th>\n",
       "      <td>1111.0</td>\n",
       "      <td>NaN</td>\n",
       "      <td>0.385714</td>\n",
       "    </tr>\n",
       "    <tr>\n",
       "      <th>1080</th>\n",
       "      <td>1112.0</td>\n",
       "      <td>NaN</td>\n",
       "      <td>0.378214</td>\n",
       "    </tr>\n",
       "    <tr>\n",
       "      <th>1081</th>\n",
       "      <td>1113.0</td>\n",
       "      <td>NaN</td>\n",
       "      <td>0.773214</td>\n",
       "    </tr>\n",
       "  </tbody>\n",
       "</table>\n",
       "<p>1082 rows × 3 columns</p>\n",
       "</div>"
      ],
      "text/plain": [
       "      Cycle_Index  Cell_Temperature (C)  SOH_discharge\n",
       "0             1.0                   NaN       0.360357\n",
       "1             2.0                   NaN       1.027857\n",
       "2             3.0                   NaN       1.025714\n",
       "3             4.0                   NaN       1.024643\n",
       "4             5.0                   NaN       1.023214\n",
       "...           ...                   ...            ...\n",
       "1077       1109.0                   NaN       0.388929\n",
       "1078       1110.0                   NaN       0.387857\n",
       "1079       1111.0                   NaN       0.385714\n",
       "1080       1112.0                   NaN       0.378214\n",
       "1081       1113.0                   NaN       0.773214\n",
       "\n",
       "[1082 rows x 3 columns]"
      ]
     },
     "metadata": {},
     "output_type": "display_data"
    },
    {
     "data": {
      "application/vnd.microsoft.datawrangler.viewer.v0+json": {
       "columns": [
        {
         "name": "index",
         "rawType": "int64",
         "type": "integer"
        },
        {
         "name": "Cycle_Index",
         "rawType": "float64",
         "type": "float"
        },
        {
         "name": "Cell_Temperature (C)",
         "rawType": "float64",
         "type": "float"
        },
        {
         "name": "SOH_discharge",
         "rawType": "float64",
         "type": "float"
        }
       ],
       "ref": "a98b8a96-8a8c-49bc-96ca-86821b395122",
       "rows": [
        [
         "8",
         "9.0",
         null,
         "0.8264285714285715"
        ],
        [
         "9",
         "10.0",
         null,
         "0.8253571428571429"
        ],
        [
         "14",
         "15.0",
         null,
         "0.8375000000000001"
        ],
        [
         "85",
         "86.0",
         null,
         "0.8921428571428572"
        ],
        [
         "86",
         "87.0",
         null,
         "0.8921428571428572"
        ],
        [
         "87",
         "88.0",
         null,
         "0.8921428571428572"
        ],
        [
         "90",
         "91.0",
         null,
         "0.8921428571428572"
        ],
        [
         "92",
         "93.0",
         null,
         "0.8921428571428572"
        ],
        [
         "94",
         "95.0",
         null,
         "0.8921428571428572"
        ],
        [
         "95",
         "96.0",
         null,
         "0.8921428571428572"
        ],
        [
         "99",
         "100.0",
         null,
         "0.8889285714285714"
        ],
        [
         "130",
         "131.0",
         null,
         "0.8671428571428572"
        ],
        [
         "131",
         "132.0",
         null,
         "0.8671428571428572"
        ],
        [
         "134",
         "135.0",
         null,
         "0.8671428571428572"
        ],
        [
         "135",
         "136.0",
         null,
         "0.8671428571428572"
        ],
        [
         "137",
         "138.0",
         null,
         "0.8660714285714286"
        ],
        [
         "141",
         "142.0",
         null,
         "0.8671428571428572"
        ],
        [
         "142",
         "143.0",
         null,
         "0.8664285714285715"
        ],
        [
         "148",
         "149.0",
         null,
         "0.8571428571428572"
        ],
        [
         "149",
         "150.0",
         null,
         "0.8571428571428572"
        ],
        [
         "151",
         "152.0",
         null,
         "0.8589285714285714"
        ],
        [
         "152",
         "153.0",
         null,
         "0.8589285714285714"
        ],
        [
         "153",
         "154.0",
         null,
         "0.8582142857142858"
        ],
        [
         "154",
         "155.0",
         null,
         "0.8571428571428572"
        ],
        [
         "155",
         "156.0",
         null,
         "0.8571428571428572"
        ],
        [
         "156",
         "157.0",
         null,
         "0.8564285714285715"
        ],
        [
         "157",
         "158.0",
         null,
         "0.8560714285714286"
        ],
        [
         "158",
         "159.0",
         null,
         "0.8553571428571429"
        ],
        [
         "159",
         "160.0",
         null,
         "0.8521428571428572"
        ],
        [
         "161",
         "162.0",
         null,
         "0.8517857142857143"
        ],
        [
         "164",
         "165.0",
         null,
         "0.8571428571428572"
        ],
        [
         "166",
         "167.0",
         null,
         "0.8582142857142858"
        ],
        [
         "167",
         "168.0",
         null,
         "0.8521428571428572"
        ],
        [
         "169",
         "170.0",
         null,
         "0.8521428571428572"
        ],
        [
         "171",
         "172.0",
         null,
         "0.8521428571428572"
        ],
        [
         "172",
         "173.0",
         null,
         "0.8471428571428572"
        ],
        [
         "173",
         "174.0",
         null,
         "0.8471428571428572"
        ],
        [
         "177",
         "178.0",
         null,
         "0.8421428571428572"
        ],
        [
         "178",
         "179.0",
         null,
         "0.8421428571428572"
        ],
        [
         "179",
         "180.0",
         null,
         "0.8421428571428572"
        ],
        [
         "181",
         "182.0",
         null,
         "0.8439285714285715"
        ],
        [
         "182",
         "183.0",
         null,
         "0.8439285714285715"
        ],
        [
         "183",
         "184.0",
         null,
         "0.8432142857142858"
        ],
        [
         "184",
         "185.0",
         null,
         "0.8421428571428572"
        ],
        [
         "185",
         "186.0",
         null,
         "0.8407142857142857"
        ],
        [
         "188",
         "189.0",
         null,
         "0.8421428571428572"
        ],
        [
         "189",
         "190.0",
         null,
         "0.8421428571428572"
        ],
        [
         "190",
         "191.0",
         null,
         "0.8421428571428572"
        ],
        [
         "191",
         "192.0",
         null,
         "0.8414285714285714"
        ],
        [
         "192",
         "193.0",
         null,
         "0.8371428571428572"
        ]
       ],
       "shape": {
        "columns": 3,
        "rows": 493
       }
      },
      "text/html": [
       "<div>\n",
       "<style scoped>\n",
       "    .dataframe tbody tr th:only-of-type {\n",
       "        vertical-align: middle;\n",
       "    }\n",
       "\n",
       "    .dataframe tbody tr th {\n",
       "        vertical-align: top;\n",
       "    }\n",
       "\n",
       "    .dataframe thead th {\n",
       "        text-align: right;\n",
       "    }\n",
       "</style>\n",
       "<table border=\"1\" class=\"dataframe\">\n",
       "  <thead>\n",
       "    <tr style=\"text-align: right;\">\n",
       "      <th></th>\n",
       "      <th>Cycle_Index</th>\n",
       "      <th>Cell_Temperature (C)</th>\n",
       "      <th>SOH_discharge</th>\n",
       "    </tr>\n",
       "  </thead>\n",
       "  <tbody>\n",
       "    <tr>\n",
       "      <th>8</th>\n",
       "      <td>9.0</td>\n",
       "      <td>NaN</td>\n",
       "      <td>0.826429</td>\n",
       "    </tr>\n",
       "    <tr>\n",
       "      <th>9</th>\n",
       "      <td>10.0</td>\n",
       "      <td>NaN</td>\n",
       "      <td>0.825357</td>\n",
       "    </tr>\n",
       "    <tr>\n",
       "      <th>14</th>\n",
       "      <td>15.0</td>\n",
       "      <td>NaN</td>\n",
       "      <td>0.837500</td>\n",
       "    </tr>\n",
       "    <tr>\n",
       "      <th>85</th>\n",
       "      <td>86.0</td>\n",
       "      <td>NaN</td>\n",
       "      <td>0.892143</td>\n",
       "    </tr>\n",
       "    <tr>\n",
       "      <th>86</th>\n",
       "      <td>87.0</td>\n",
       "      <td>NaN</td>\n",
       "      <td>0.892143</td>\n",
       "    </tr>\n",
       "    <tr>\n",
       "      <th>...</th>\n",
       "      <td>...</td>\n",
       "      <td>...</td>\n",
       "      <td>...</td>\n",
       "    </tr>\n",
       "    <tr>\n",
       "      <th>912</th>\n",
       "      <td>944.0</td>\n",
       "      <td>NaN</td>\n",
       "      <td>0.462143</td>\n",
       "    </tr>\n",
       "    <tr>\n",
       "      <th>915</th>\n",
       "      <td>947.0</td>\n",
       "      <td>NaN</td>\n",
       "      <td>0.462143</td>\n",
       "    </tr>\n",
       "    <tr>\n",
       "      <th>917</th>\n",
       "      <td>949.0</td>\n",
       "      <td>NaN</td>\n",
       "      <td>0.462143</td>\n",
       "    </tr>\n",
       "    <tr>\n",
       "      <th>918</th>\n",
       "      <td>950.0</td>\n",
       "      <td>NaN</td>\n",
       "      <td>0.462143</td>\n",
       "    </tr>\n",
       "    <tr>\n",
       "      <th>919</th>\n",
       "      <td>951.0</td>\n",
       "      <td>NaN</td>\n",
       "      <td>0.462143</td>\n",
       "    </tr>\n",
       "  </tbody>\n",
       "</table>\n",
       "<p>493 rows × 3 columns</p>\n",
       "</div>"
      ],
      "text/plain": [
       "     Cycle_Index  Cell_Temperature (C)  SOH_discharge\n",
       "8            9.0                   NaN       0.826429\n",
       "9           10.0                   NaN       0.825357\n",
       "14          15.0                   NaN       0.837500\n",
       "85          86.0                   NaN       0.892143\n",
       "86          87.0                   NaN       0.892143\n",
       "..           ...                   ...            ...\n",
       "912        944.0                   NaN       0.462143\n",
       "915        947.0                   NaN       0.462143\n",
       "917        949.0                   NaN       0.462143\n",
       "918        950.0                   NaN       0.462143\n",
       "919        951.0                   NaN       0.462143\n",
       "\n",
       "[493 rows x 3 columns]"
      ]
     },
     "metadata": {},
     "output_type": "display_data"
    },
    {
     "data": {
      "application/vnd.microsoft.datawrangler.viewer.v0+json": {
       "columns": [
        {
         "name": "index",
         "rawType": "int64",
         "type": "integer"
        },
        {
         "name": "Cycle_Index",
         "rawType": "float64",
         "type": "float"
        },
        {
         "name": "Cell_Temperature (C)",
         "rawType": "float64",
         "type": "float"
        },
        {
         "name": "SOH_discharge",
         "rawType": "float64",
         "type": "float"
        }
       ],
       "ref": "db1a76c6-be25-4aa4-9181-3bcea36eb9f2",
       "rows": [
        [
         "0",
         "1.0",
         null,
         "0.3603571428571428"
        ],
        [
         "2",
         "3.0",
         null,
         "1.0257142857142858"
        ],
        [
         "3",
         "4.0",
         null,
         "1.0246428571428572"
        ],
        [
         "4",
         "5.0",
         null,
         "1.0232142857142859"
        ],
        [
         "6",
         "7.0",
         null,
         "0.46464285714285714"
        ],
        [
         "8",
         "9.0",
         null,
         "0.8264285714285715"
        ],
        [
         "9",
         "10.0",
         null,
         "0.8253571428571429"
        ],
        [
         "11",
         "12.0",
         null,
         "0.45607142857142857"
        ],
        [
         "14",
         "15.0",
         null,
         "0.8375000000000001"
        ],
        [
         "16",
         "17.0",
         null,
         "0.9421428571428572"
        ],
        [
         "17",
         "18.0",
         null,
         "0.9410714285714286"
        ],
        [
         "18",
         "19.0",
         null,
         "0.9400000000000001"
        ],
        [
         "19",
         "20.0",
         null,
         "0.9382142857142857"
        ],
        [
         "20",
         "21.0",
         null,
         "0.9378571428571428"
        ],
        [
         "21",
         "22.0",
         null,
         "0.9360714285714287"
        ],
        [
         "22",
         "23.0",
         null,
         "0.9357142857142858"
        ],
        [
         "23",
         "24.0",
         null,
         "0.9346428571428572"
        ],
        [
         "24",
         "25.0",
         null,
         "0.9332142857142858"
        ],
        [
         "25",
         "26.0",
         null,
         "0.9325000000000001"
        ],
        [
         "26",
         "27.0",
         null,
         "0.9317857142857143"
        ],
        [
         "27",
         "28.0",
         null,
         "0.93"
        ],
        [
         "28",
         "29.0",
         null,
         "0.93"
        ],
        [
         "29",
         "30.0",
         null,
         "0.9289285714285714"
        ],
        [
         "30",
         "31.0",
         null,
         "0.9289285714285714"
        ],
        [
         "31",
         "32.0",
         null,
         "0.9278571428571428"
        ],
        [
         "32",
         "33.0",
         null,
         "0.9275000000000001"
        ],
        [
         "33",
         "34.0",
         null,
         "0.9260714285714287"
        ],
        [
         "34",
         "35.0",
         null,
         "0.9260714285714287"
        ],
        [
         "35",
         "36.0",
         null,
         "0.925357142857143"
        ],
        [
         "36",
         "37.0",
         null,
         "0.925"
        ],
        [
         "37",
         "38.0",
         null,
         "0.9239285714285715"
        ],
        [
         "38",
         "39.0",
         null,
         "0.9239285714285715"
        ],
        [
         "39",
         "40.0",
         null,
         "0.9228571428571429"
        ],
        [
         "42",
         "43.0",
         null,
         "0.925"
        ],
        [
         "43",
         "44.0",
         null,
         "0.9239285714285715"
        ],
        [
         "44",
         "45.0",
         null,
         "0.9228571428571429"
        ],
        [
         "45",
         "46.0",
         null,
         "0.9214285714285715"
        ],
        [
         "46",
         "47.0",
         null,
         "0.9210714285714287"
        ],
        [
         "47",
         "48.0",
         null,
         "0.92"
        ],
        [
         "48",
         "49.0",
         null,
         "0.9196428571428573"
        ],
        [
         "49",
         "50.0",
         null,
         "0.9178571428571428"
        ],
        [
         "50",
         "51.0",
         null,
         "0.9178571428571428"
        ],
        [
         "51",
         "52.0",
         null,
         "0.9167857142857144"
        ],
        [
         "52",
         "53.0",
         null,
         "0.915"
        ],
        [
         "53",
         "54.0",
         null,
         "0.915"
        ],
        [
         "54",
         "55.0",
         null,
         "0.915"
        ],
        [
         "55",
         "56.0",
         null,
         "0.9142857142857144"
        ],
        [
         "56",
         "57.0",
         null,
         "0.9135714285714286"
        ],
        [
         "57",
         "58.0",
         null,
         "0.9128571428571429"
        ],
        [
         "58",
         "59.0",
         null,
         "0.9121428571428571"
        ]
       ],
       "shape": {
        "columns": 3,
        "rows": 791
       }
      },
      "text/html": [
       "<div>\n",
       "<style scoped>\n",
       "    .dataframe tbody tr th:only-of-type {\n",
       "        vertical-align: middle;\n",
       "    }\n",
       "\n",
       "    .dataframe tbody tr th {\n",
       "        vertical-align: top;\n",
       "    }\n",
       "\n",
       "    .dataframe thead th {\n",
       "        text-align: right;\n",
       "    }\n",
       "</style>\n",
       "<table border=\"1\" class=\"dataframe\">\n",
       "  <thead>\n",
       "    <tr style=\"text-align: right;\">\n",
       "      <th></th>\n",
       "      <th>Cycle_Index</th>\n",
       "      <th>Cell_Temperature (C)</th>\n",
       "      <th>SOH_discharge</th>\n",
       "    </tr>\n",
       "  </thead>\n",
       "  <tbody>\n",
       "    <tr>\n",
       "      <th>0</th>\n",
       "      <td>1.0</td>\n",
       "      <td>NaN</td>\n",
       "      <td>0.360357</td>\n",
       "    </tr>\n",
       "    <tr>\n",
       "      <th>2</th>\n",
       "      <td>3.0</td>\n",
       "      <td>NaN</td>\n",
       "      <td>1.025714</td>\n",
       "    </tr>\n",
       "    <tr>\n",
       "      <th>3</th>\n",
       "      <td>4.0</td>\n",
       "      <td>NaN</td>\n",
       "      <td>1.024643</td>\n",
       "    </tr>\n",
       "    <tr>\n",
       "      <th>4</th>\n",
       "      <td>5.0</td>\n",
       "      <td>NaN</td>\n",
       "      <td>1.023214</td>\n",
       "    </tr>\n",
       "    <tr>\n",
       "      <th>6</th>\n",
       "      <td>7.0</td>\n",
       "      <td>NaN</td>\n",
       "      <td>0.464643</td>\n",
       "    </tr>\n",
       "    <tr>\n",
       "      <th>...</th>\n",
       "      <td>...</td>\n",
       "      <td>...</td>\n",
       "      <td>...</td>\n",
       "    </tr>\n",
       "    <tr>\n",
       "      <th>1075</th>\n",
       "      <td>1107.0</td>\n",
       "      <td>NaN</td>\n",
       "      <td>0.389286</td>\n",
       "    </tr>\n",
       "    <tr>\n",
       "      <th>1076</th>\n",
       "      <td>1108.0</td>\n",
       "      <td>NaN</td>\n",
       "      <td>0.387143</td>\n",
       "    </tr>\n",
       "    <tr>\n",
       "      <th>1078</th>\n",
       "      <td>1110.0</td>\n",
       "      <td>NaN</td>\n",
       "      <td>0.387857</td>\n",
       "    </tr>\n",
       "    <tr>\n",
       "      <th>1079</th>\n",
       "      <td>1111.0</td>\n",
       "      <td>NaN</td>\n",
       "      <td>0.385714</td>\n",
       "    </tr>\n",
       "    <tr>\n",
       "      <th>1080</th>\n",
       "      <td>1112.0</td>\n",
       "      <td>NaN</td>\n",
       "      <td>0.378214</td>\n",
       "    </tr>\n",
       "  </tbody>\n",
       "</table>\n",
       "<p>791 rows × 3 columns</p>\n",
       "</div>"
      ],
      "text/plain": [
       "      Cycle_Index  Cell_Temperature (C)  SOH_discharge\n",
       "0             1.0                   NaN       0.360357\n",
       "2             3.0                   NaN       1.025714\n",
       "3             4.0                   NaN       1.024643\n",
       "4             5.0                   NaN       1.023214\n",
       "6             7.0                   NaN       0.464643\n",
       "...           ...                   ...            ...\n",
       "1075       1107.0                   NaN       0.389286\n",
       "1076       1108.0                   NaN       0.387143\n",
       "1078       1110.0                   NaN       0.387857\n",
       "1079       1111.0                   NaN       0.385714\n",
       "1080       1112.0                   NaN       0.378214\n",
       "\n",
       "[791 rows x 3 columns]"
      ]
     },
     "metadata": {},
     "output_type": "display_data"
    },
    {
     "data": {
      "application/vnd.microsoft.datawrangler.viewer.v0+json": {
       "columns": [
        {
         "name": "index",
         "rawType": "int64",
         "type": "integer"
        },
        {
         "name": "Cycle_Index",
         "rawType": "float64",
         "type": "float"
        },
        {
         "name": "Cell_Temperature (C)",
         "rawType": "float64",
         "type": "float"
        },
        {
         "name": "SOH_discharge",
         "rawType": "float64",
         "type": "float"
        }
       ],
       "ref": "c9466229-d86d-4d56-819c-2279451bba8e",
       "rows": [
        [
         "52",
         "53.0",
         null,
         "0.915"
        ],
        [
         "53",
         "54.0",
         null,
         "0.915"
        ],
        [
         "54",
         "55.0",
         null,
         "0.915"
        ],
        [
         "55",
         "56.0",
         null,
         "0.9142857142857144"
        ],
        [
         "56",
         "57.0",
         null,
         "0.9135714285714286"
        ],
        [
         "57",
         "58.0",
         null,
         "0.9128571428571429"
        ],
        [
         "58",
         "59.0",
         null,
         "0.9121428571428571"
        ],
        [
         "59",
         "60.0",
         null,
         "0.9117857142857143"
        ],
        [
         "60",
         "61.0",
         null,
         "0.91"
        ],
        [
         "62",
         "63.0",
         null,
         "0.9103571428571429"
        ],
        [
         "63",
         "64.0",
         null,
         "0.9078571428571428"
        ],
        [
         "65",
         "66.0",
         null,
         "0.9114285714285715"
        ],
        [
         "66",
         "67.0",
         null,
         "0.9071428571428573"
        ],
        [
         "67",
         "68.0",
         null,
         "0.9071428571428573"
        ],
        [
         "69",
         "70.0",
         null,
         "0.9071428571428573"
        ],
        [
         "71",
         "72.0",
         null,
         "0.9021428571428571"
        ],
        [
         "73",
         "74.0",
         null,
         "0.9042857142857144"
        ],
        [
         "74",
         "75.0",
         null,
         "0.9035714285714286"
        ],
        [
         "75",
         "76.0",
         null,
         "0.9028571428571429"
        ],
        [
         "76",
         "77.0",
         null,
         "0.9021428571428571"
        ],
        [
         "77",
         "78.0",
         null,
         "0.8971428571428572"
        ],
        [
         "78",
         "79.0",
         null,
         "0.8971428571428572"
        ],
        [
         "79",
         "80.0",
         null,
         "0.8971428571428572"
        ],
        [
         "80",
         "81.0",
         null,
         "0.8971428571428572"
        ],
        [
         "82",
         "83.0",
         null,
         "0.8978571428571428"
        ],
        [
         "83",
         "84.0",
         null,
         "0.8971428571428572"
        ],
        [
         "84",
         "85.0",
         null,
         "0.8967857142857144"
        ],
        [
         "85",
         "86.0",
         null,
         "0.8921428571428572"
        ],
        [
         "86",
         "87.0",
         null,
         "0.8921428571428572"
        ],
        [
         "87",
         "88.0",
         null,
         "0.8921428571428572"
        ],
        [
         "90",
         "91.0",
         null,
         "0.8921428571428572"
        ],
        [
         "92",
         "93.0",
         null,
         "0.8921428571428572"
        ],
        [
         "94",
         "95.0",
         null,
         "0.8921428571428572"
        ],
        [
         "95",
         "96.0",
         null,
         "0.8921428571428572"
        ],
        [
         "96",
         "97.0",
         null,
         "0.8871428571428572"
        ],
        [
         "98",
         "99.0",
         null,
         "0.89"
        ],
        [
         "99",
         "100.0",
         null,
         "0.8889285714285714"
        ],
        [
         "100",
         "101.0",
         null,
         "0.8871428571428572"
        ],
        [
         "102",
         "103.0",
         null,
         "0.8871428571428572"
        ],
        [
         "103",
         "104.0",
         null,
         "0.8821428571428572"
        ],
        [
         "104",
         "105.0",
         null,
         "0.8821428571428572"
        ],
        [
         "105",
         "106.0",
         null,
         "0.8821428571428572"
        ],
        [
         "106",
         "107.0",
         null,
         "0.8821428571428572"
        ],
        [
         "108",
         "109.0",
         null,
         "0.8832142857142857"
        ],
        [
         "109",
         "110.0",
         null,
         "0.8821428571428572"
        ],
        [
         "110",
         "111.0",
         null,
         "0.8771428571428572"
        ],
        [
         "114",
         "115.0",
         null,
         "0.8875000000000001"
        ],
        [
         "115",
         "116.0",
         null,
         "0.8871428571428572"
        ],
        [
         "116",
         "117.0",
         null,
         "0.8821428571428572"
        ],
        [
         "118",
         "119.0",
         null,
         "0.8846428571428572"
        ]
       ],
       "shape": {
        "columns": 3,
        "rows": 702
       }
      },
      "text/html": [
       "<div>\n",
       "<style scoped>\n",
       "    .dataframe tbody tr th:only-of-type {\n",
       "        vertical-align: middle;\n",
       "    }\n",
       "\n",
       "    .dataframe tbody tr th {\n",
       "        vertical-align: top;\n",
       "    }\n",
       "\n",
       "    .dataframe thead th {\n",
       "        text-align: right;\n",
       "    }\n",
       "</style>\n",
       "<table border=\"1\" class=\"dataframe\">\n",
       "  <thead>\n",
       "    <tr style=\"text-align: right;\">\n",
       "      <th></th>\n",
       "      <th>Cycle_Index</th>\n",
       "      <th>Cell_Temperature (C)</th>\n",
       "      <th>SOH_discharge</th>\n",
       "    </tr>\n",
       "  </thead>\n",
       "  <tbody>\n",
       "    <tr>\n",
       "      <th>52</th>\n",
       "      <td>53.0</td>\n",
       "      <td>NaN</td>\n",
       "      <td>0.915000</td>\n",
       "    </tr>\n",
       "    <tr>\n",
       "      <th>53</th>\n",
       "      <td>54.0</td>\n",
       "      <td>NaN</td>\n",
       "      <td>0.915000</td>\n",
       "    </tr>\n",
       "    <tr>\n",
       "      <th>54</th>\n",
       "      <td>55.0</td>\n",
       "      <td>NaN</td>\n",
       "      <td>0.915000</td>\n",
       "    </tr>\n",
       "    <tr>\n",
       "      <th>55</th>\n",
       "      <td>56.0</td>\n",
       "      <td>NaN</td>\n",
       "      <td>0.914286</td>\n",
       "    </tr>\n",
       "    <tr>\n",
       "      <th>56</th>\n",
       "      <td>57.0</td>\n",
       "      <td>NaN</td>\n",
       "      <td>0.913571</td>\n",
       "    </tr>\n",
       "    <tr>\n",
       "      <th>...</th>\n",
       "      <td>...</td>\n",
       "      <td>...</td>\n",
       "      <td>...</td>\n",
       "    </tr>\n",
       "    <tr>\n",
       "      <th>1008</th>\n",
       "      <td>1040.0</td>\n",
       "      <td>NaN</td>\n",
       "      <td>0.417143</td>\n",
       "    </tr>\n",
       "    <tr>\n",
       "      <th>1010</th>\n",
       "      <td>1042.0</td>\n",
       "      <td>NaN</td>\n",
       "      <td>0.417143</td>\n",
       "    </tr>\n",
       "    <tr>\n",
       "      <th>1011</th>\n",
       "      <td>1043.0</td>\n",
       "      <td>NaN</td>\n",
       "      <td>0.417143</td>\n",
       "    </tr>\n",
       "    <tr>\n",
       "      <th>1013</th>\n",
       "      <td>1045.0</td>\n",
       "      <td>NaN</td>\n",
       "      <td>0.417143</td>\n",
       "    </tr>\n",
       "    <tr>\n",
       "      <th>1014</th>\n",
       "      <td>1046.0</td>\n",
       "      <td>NaN</td>\n",
       "      <td>0.416429</td>\n",
       "    </tr>\n",
       "  </tbody>\n",
       "</table>\n",
       "<p>702 rows × 3 columns</p>\n",
       "</div>"
      ],
      "text/plain": [
       "      Cycle_Index  Cell_Temperature (C)  SOH_discharge\n",
       "52           53.0                   NaN       0.915000\n",
       "53           54.0                   NaN       0.915000\n",
       "54           55.0                   NaN       0.915000\n",
       "55           56.0                   NaN       0.914286\n",
       "56           57.0                   NaN       0.913571\n",
       "...           ...                   ...            ...\n",
       "1008       1040.0                   NaN       0.417143\n",
       "1010       1042.0                   NaN       0.417143\n",
       "1011       1043.0                   NaN       0.417143\n",
       "1013       1045.0                   NaN       0.417143\n",
       "1014       1046.0                   NaN       0.416429\n",
       "\n",
       "[702 rows x 3 columns]"
      ]
     },
     "metadata": {},
     "output_type": "display_data"
    }
   ],
   "source": [
    "# Remoção de outliers e valores crescentes\n",
    "df_IsolForest = ensure_non_increasing(df_grouped, 'SOH_discharge')\n",
    "df_IsolForest = rmv_outliers_isolation_forest(df_IsolForest, 'SOH_discharge')\n",
    "\n",
    "df_IQR = ensure_non_increasing(df_grouped, 'SOH_discharge')\n",
    "df_IQR = rmv_outliers_iqr(df_IQR, 'SOH_discharge')\n",
    "\n",
    "df_ZScore = ensure_non_increasing(df_grouped, 'SOH_discharge')\n",
    "df_ZScore = rmv_outliers_zscore(df_ZScore, 'SOH_discharge', threshold=1.5)\n",
    "\n",
    "df_ZScore = rmv_sharp_jump(df_ZScore, 'SOH_discharge', threshold=0.05, repeat=2) # 5% de SOH\n",
    "\n",
    "display(df_grouped)\n",
    "display(df_IsolForest)\n",
    "display(df_IQR)\n",
    "display(df_ZScore)"
   ]
  },
  {
   "cell_type": "markdown",
   "metadata": {},
   "source": [
    "### [numpy.interp() parameters](https://numpy.org/doc/2.1/reference/generated/numpy.interp.html):\n",
    "- `x`: _array_like_ . The x-coordinates at which to evaluate the interpolated values.\n",
    "\n",
    "- `xp`: _1-D sequence of floats_. The x-coordinates of the data points, must be increasing if argument period is not specified. Otherwise, xp is internally sorted after normalizing the periodic boundaries with xp = xp % period.\n",
    "\n",
    "- `fp`: _1-D sequence of float or complex_. The y-coordinates of the data points, same length as xp.\n",
    "\n",
    "Returns the one-dimensional piecewise linear interpolant to a function with given discrete data points (xp, fp), evaluated at x:\n",
    "- `y`: float or complex (corresponding to fp) or ndarray. The interpolated values, same shape as x."
   ]
  },
  {
   "cell_type": "code",
   "execution_count": 55,
   "metadata": {},
   "outputs": [],
   "source": [
    "def interpolate_soh(df: pd.DataFrame, soh_column: str, cycles_column: str) -> pd.DataFrame:\n",
    "    # Define thresholds de interesse (99%, 98%, ...)\n",
    "    thresholds = np.arange(1.00, 0.00, -0.01)\n",
    "\n",
    "    soh = df[soh_column].values\n",
    "    cycles = df[cycles_column].values\n",
    "\n",
    "    # Inverte para que fique crescente\n",
    "    xp = soh[::-1]\n",
    "    fp = cycles[::-1]\n",
    "\n",
    "    valid = (thresholds >= xp.min()) & (thresholds <= xp.max())\n",
    "    thresholds = thresholds[valid]\n",
    "\n",
    "    # np.interp(x, xp, fp) assume xp crescente e retorna y para cada x em thresholds\n",
    "    estimated_cycles = np.interp(thresholds, xp, fp)\n",
    "    print(f'Número de thresholds válidos: {len(thresholds)}')\n",
    "    df_estimates = pd.DataFrame({\n",
    "        'SOH_threshold': thresholds,\n",
    "        'estimated_cycle': estimated_cycles\n",
    "    })\n",
    "\n",
    "    # Cast para float com 2 casas decimais\n",
    "    df_estimates['SOH_threshold'] = df_estimates['SOH_threshold'].astype(float).round(2)\n",
    "\n",
    "    # Queda de ciclos (a cada 1%)\n",
    "    df_estimates['NCD1%'] = df_estimates['estimated_cycle'].diff()\n",
    "    \n",
    "    return df_estimates"
   ]
  },
  {
   "cell_type": "code",
   "execution_count": 56,
   "metadata": {},
   "outputs": [
    {
     "name": "stdout",
     "output_type": "stream",
     "text": [
      "Número de thresholds válidos: 93\n",
      "Número de thresholds válidos: 43\n",
      "Número de thresholds válidos: 93\n",
      "Número de thresholds válidos: 50\n"
     ]
    }
   ],
   "source": [
    "df_grouped_estimates     = interpolate_soh(df_grouped, 'SOH_discharge', 'Cycle_Index')\n",
    "df_IsolForest_estimates  = interpolate_soh(df_IsolForest, 'SOH_discharge', 'Cycle_Index')\n",
    "df_IQR_estimates         = interpolate_soh(df_IQR, 'SOH_discharge', 'Cycle_Index')\n",
    "df_ZScore_estimates      = interpolate_soh(df_ZScore, 'SOH_discharge', 'Cycle_Index')"
   ]
  },
  {
   "cell_type": "code",
   "execution_count": 57,
   "metadata": {},
   "outputs": [
    {
     "data": {
      "image/png": "[encoded data removed]",
      "text/plain": [
       "<Figure size 2500x1500 with 4 Axes>"
      ]
     },
     "metadata": {},
     "output_type": "display_data"
    }
   ],
   "source": [
    "# Crie a figura com 4 subplots em um layout 2x2\n",
    "fig, axs = plt.subplots(2, 2, figsize=(25, 15))\n",
    "\n",
    "# Título geral para o plot\n",
    "fig.suptitle('Comparativo de Abordagens de Limpeza de Dados', fontsize=20)\n",
    "\n",
    "# Eixo Y compartilhado para padronizar os gráficos\n",
    "for ax in axs.flat:\n",
    "    ax.set_ylim(40, 105) # SOH in percentage\n",
    "\n",
    "# Configuração de Ticks do Eixo X\n",
    "xmin = df_grouped[\"Cycle_Index\"].min()\n",
    "xmax = df_grouped[\"Cycle_Index\"].max()\n",
    "major_ticks = np.arange(0, xmax + 1, 200)\n",
    "minor_ticks = np.arange(0, xmax + 1, 50)\n",
    "\n",
    "# 1. Plot para \"Dados Originais\"\n",
    "axs[0, 0].plot(df_grouped[\"Cycle_Index\"], df_grouped[\"SOH_discharge\"] * 100, label=\"Dados Originais\", color='gray', linewidth=1.5, zorder=1)\n",
    "#axs[0, 0].scatter(df_grouped_estimates[\"estimated_cycle\"], df_grouped_estimates[\"SOH_threshold\"] * 100, label=\"Queda de 1%\", color='gray', marker='d', s=100, zorder=3)\n",
    "axs[0, 0].set_title(\"1. Dados Originais\", fontsize=16)\n",
    "axs[0, 0].set_ylabel(\"SOH (%)\", fontsize=12)\n",
    "\n",
    "# 2. Plot para \"Isolation Forest\"\n",
    "axs[0, 1].plot(df_IsolForest[\"Cycle_Index\"], df_IsolForest[\"SOH_discharge\"] * 100, label=\"Limpeza com Isolation Forest\", color='darkorange', linewidth=2.5, zorder=2)\n",
    "# axs[0, 1].scatter(df_IsolForest_estimates[\"estimated_cycle\"], df_IsolForest_estimates[\"SOH_threshold\"] * 100, label=\"Queda de 1%\", color='darkorange', marker='d', s=100, zorder=3)\n",
    "axs[0, 1].set_title(\"2. Limpeza com Isolation Forest\", fontsize=16)\n",
    "\n",
    "# 3. Plot para \"IQR\"\n",
    "axs[1, 0].plot(df_IQR[\"Cycle_Index\"], df_IQR[\"SOH_discharge\"] * 100, label=\"Limpeza com IQR\", color='skyblue', linewidth=2.5, zorder=2)\n",
    "# axs[1, 0].scatter(df_IQR_estimates[\"estimated_cycle\"], df_IQR_estimates[\"SOH_threshold\"] * 100, label=\"Queda de 1%\", color='skyblue', marker='d', s=100, zorder=3)\n",
    "axs[1, 0].set_title(\"3. Limpeza com IQR\", fontsize=16)\n",
    "axs[1, 0].set_xlabel(\"Índice de Ciclo\", fontsize=12)\n",
    "axs[1, 0].set_ylabel(\"SOH (%)\", fontsize=12)\n",
    "\n",
    "# 4. Plot para \"Z-Score\"\n",
    "axs[1, 1].plot(df_ZScore[\"Cycle_Index\"], df_ZScore[\"SOH_discharge\"] * 100, label=\"Limpeza com Z-Score\", color='forestgreen', linewidth=2.5, zorder=2)\n",
    "# axs[1, 1].scatter(df_ZScore_estimates[\"estimated_cycle\"], df_ZScore_estimates[\"SOH_threshold\"] * 100, label=\"Queda de 1%\", color='forestgreen', marker='d', s=100, zorder=3)\n",
    "axs[1, 1].set_title(\"4. Limpeza com Z-Score\", fontsize=16)\n",
    "axs[1, 1].set_xlabel(\"Índice de Ciclo\", fontsize=12)\n",
    "\n",
    "# Adicione grids, ticks e legendas para cada subplot\n",
    "for ax in axs.flat:\n",
    "    ax.set_xticks(major_ticks)\n",
    "    ax.set_xticks(minor_ticks, minor=True)\n",
    "    ax.grid(which='major', linestyle='-', linewidth=1, alpha=0.9)\n",
    "    ax.grid(which='minor', linestyle='--', linewidth=0.5, alpha=0.7)\n",
    "    ax.legend(loc='best', fontsize=10)\n",
    "\n",
    "plt.tight_layout(rect=[0, 0, 1, 0.96])\n",
    "plt.show()\n"
   ]
  },
  {
   "cell_type": "markdown",
   "metadata": {},
   "source": [
    "## Z-score com ensure_non_decreasing e rmv_sharp_jump é o escolhido"
   ]
  },
  {
   "cell_type": "code",
   "execution_count": 58,
   "metadata": {},
   "outputs": [
    {
     "name": "stdout",
     "output_type": "stream",
     "text": [
      "Número de NCD1%: 45\n",
      "Média: 15.48, Desvio-padrão: 9.34\n"
     ]
    },
    {
     "data": {
      "image/png": "[encoded data removed]",
      "text/plain": [
       "<Figure size 1200x200 with 1 Axes>"
      ]
     },
     "metadata": {},
     "output_type": "display_data"
    }
   ],
   "source": [
    "df_ZScore_estimates = rmv_outliers_iqr(df_ZScore_estimates, 'NCD1%')\n",
    "\n",
    "data = df_ZScore_estimates[\"NCD1%\"].dropna().values\n",
    "print(f'Número de NCD1%: {len(data)}')\n",
    "\n",
    "mean = np.mean(data)\n",
    "std  = np.std(data, ddof=1)\n",
    "print(f'Média: {mean:.2f}, Desvio-padrão: {std:.2f}')\n",
    "\n",
    "# Seleciona a cor padrão 'C0' do matplotlib (primeira cor)\n",
    "default_color = plt.rcParams['axes.prop_cycle'].by_key()['color'][0]\n",
    "fig, ax = plt.subplots(figsize=(12, 2))\n",
    "\n",
    "sns.boxplot(\n",
    "    x=data,                   # valores no eixo x\n",
    "    y=np.zeros_like(data),    # posição 0 no eixo y\n",
    "    ax=ax,\n",
    "    orient='h',\n",
    "    linewidth=1,\n",
    "    zorder=2\n",
    ")\n",
    "\n",
    "# Deixa a face do boxplot semitransparente\n",
    "for patch in ax.patches:\n",
    "    if hasattr(patch, 'get_facecolor'):\n",
    "        r, g, b, a = patch.get_facecolor()\n",
    "        patch.set_facecolor((r, g, b, 0.3))  # alpha = 0.3\n",
    "\n",
    "# Sobreposição de pontos (scatter) com baixa opacidade\n",
    "sns.scatterplot(\n",
    "    x=data,\n",
    "    y=np.zeros_like(data),\n",
    "    ax=ax,\n",
    "    s=60,                     # tamanho dos pontos\n",
    "    color=default_color,      # mesma cor do boxplot\n",
    "    alpha=0.7,\n",
    "    zorder=1\n",
    ")\n",
    "\n",
    "# Remove os ticks do eixo y (não fazem sentido aqui)\n",
    "ax.set_yticks([])\n",
    "\n",
    "ax.set_xlabel(\"NCD1%\")\n",
    "ax.tick_params(which='major', labelsize=12)\n",
    "\n",
    "plt.title(\"Distribuição de NCD1%\", fontsize=18)\n",
    "plt.grid(True, linestyle='--', linewidth=0.5, alpha=0.7)\n",
    "\n",
    "plt.show()"
   ]
  },
  {
   "cell_type": "code",
   "execution_count": 59,
   "metadata": {},
   "outputs": [
    {
     "data": {
      "image/png": "[encoded data removed]",
      "text/plain": [
       "<Figure size 900x400 with 1 Axes>"
      ]
     },
     "metadata": {},
     "output_type": "display_data"
    }
   ],
   "source": [
    "data = np.sort(data)  # Garante que os dados estão ordenados\n",
    "n    = len(data)\n",
    "\n",
    "# Faz o fitting para encotnrar os parametros e calcula a funcao acumulada dos dados considerando comportamento normal\n",
    "mean, std = norm.fit(data)\n",
    "teo_norm  = norm.cdf(data, loc=mean, scale=std)\n",
    "\n",
    "plt.figure(figsize=(9, 4))\n",
    "\n",
    "# Probabilidade acumulada empírica (1/n, 2/n, ..., 1)\n",
    "cdf_emp = np.arange(0, n)/(n-1)\n",
    "plt.plot(data, cdf_emp, marker='o', linestyle='-', label=\"CDF NCD1%\", zorder=3, alpha=0.7)\n",
    "\n",
    "# Função acumulada da normal (teórica)\n",
    "plt.plot(data, teo_norm, linestyle='--', label=f\"CDF Normal fit\\n(μ={mean:.2f}, σ={std:.2f})\")\n",
    "\n",
    "plt.xlabel(\"NCD1\")\n",
    "plt.ylabel(\"Probabilidade acumulada\")\n",
    "plt.title(\"NCD1% e Curva Normal aproximada\")\n",
    "plt.legend()\n",
    "plt.grid(True, linestyle='--', linewidth=0.5, alpha=0.7)\n",
    "\n",
    "plt.show()\n"
   ]
  },
  {
   "cell_type": "markdown",
   "metadata": {},
   "source": [
    "Teste de Kolmogorov–Smirnov (KS) para verificar formalmente se o conjunto de dados de NCD1% (`data`) segue a distribuição Normal com os parametros encontrados no método de fitting\n",
    "\n",
    "De acordo com a [documentação de **kstest**](https://docs.scipy.org/doc/scipy/reference/generated/scipy.stats.kstest.html):\n",
    "- ``rvs=data``\n",
    "    - Array de observações ordenadas\n",
    "- ``cdf='norm'`` \n",
    "    - Especifica que a distribuição teórica é a de uma normal\n",
    "- ``args=(mean, std)`` \n",
    "    - Parâmetros (μ, σ) da normal teórica\n",
    "\n",
    "Retorna:\n",
    "\n",
    "- ``D (statistic) `` \n",
    "    - Representa a maior diferença absoluta entre aa curva dados e a CDF da Normal teórica\n",
    "    - Quanto menor, mais próximo o ajuste está dos dados observados\n",
    "\n",
    "- ``p-value``\n",
    "    - Probabilidade de observar uma estatística \\( D \\) igual ou mais extrema sob a suposição de que os dados vêm de uma Normal\n",
    "    - **Valores altos (> alpha) indicam falha em rejeitar a hipótese de normalidade**. \n",
    "    - Valores baixos (< alpha) indicam evidência contra a hipótese"
   ]
  },
  {
   "cell_type": "code",
   "execution_count": 60,
   "metadata": {},
   "outputs": [
    {
     "name": "stdout",
     "output_type": "stream",
     "text": [
      "KS statistic: 0.0672\n",
      "p-value: 0.9788\n",
      "alpha = 0.05\n",
      "Hipótese aceita.\n"
     ]
    }
   ],
   "source": [
    "statistic, p_value = kstest(rvs=data, cdf='norm', args=(mean, std))\n",
    "\n",
    "print(f\"KS statistic: {statistic:.4f}\")\n",
    "print(f\"p-value: {p_value:.4f}\")\n",
    "\n",
    "alpha = 0.05\n",
    "print(f'alpha = {alpha}')\n",
    "if p_value < alpha: print(f\"Hipótese rejeitada.\")\n",
    "else: print(f\"Hipótese aceita.\")"
   ]
  }
 ],
 "metadata": {
  "kernelspec": {
   "display_name": "Python 3",
   "language": "python",
   "name": "python3"
  },
  "language_info": {
   "codemirror_mode": {
    "name": "ipython",
    "version": 3
   },
   "file_extension": ".py",
   "mimetype": "text/x-python",
   "name": "python",
   "nbconvert_exporter": "python",
   "pygments_lexer": "ipython3",
   "version": "3.13.7"
  }
 },
 "nbformat": 4,
 "nbformat_minor": 2
}
