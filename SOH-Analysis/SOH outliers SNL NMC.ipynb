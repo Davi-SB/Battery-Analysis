{
 "cells": [
  {
   "cell_type": "code",
   "execution_count": 18,
   "metadata": {},
   "outputs": [],
   "source": [
    "import numpy as np\n",
    "import pandas as pd\n",
    "import seaborn as sns\n",
    "import matplotlib.pyplot as plt\n",
    "from IPython.display import display\n",
    "from scipy.stats import norm, kstest, zscore\n",
    "from sklearn.ensemble import IsolationForest\n"
   ]
  },
  {
   "cell_type": "markdown",
   "metadata": {},
   "source": [
    "# SNL NMC"
   ]
  },
  {
   "cell_type": "markdown",
   "metadata": {},
   "source": [
    "## Limpeza e preparação"
   ]
  },
  {
   "cell_type": "markdown",
   "metadata": {},
   "source": [
    "- Corrente negativa --> descarga\n",
    "- Corrente positiva --> carga"
   ]
  },
  {
   "cell_type": "code",
   "execution_count": 19,
   "metadata": {},
   "outputs": [
    {
     "data": {
      "application/vnd.microsoft.datawrangler.viewer.v0+json": {
       "columns": [
        {
         "name": "index",
         "rawType": "int64",
         "type": "integer"
        },
        {
         "name": "Cycle_Index",
         "rawType": "float64",
         "type": "float"
        },
        {
         "name": "Test_Time (s)",
         "rawType": "float64",
         "type": "float"
        },
        {
         "name": "Current (A)",
         "rawType": "float64",
         "type": "float"
        },
        {
         "name": "Voltage (V)",
         "rawType": "float64",
         "type": "float"
        },
        {
         "name": "Discharge_Capacity (Ah)",
         "rawType": "float64",
         "type": "float"
        },
        {
         "name": "Cell_Temperature (C)",
         "rawType": "float64",
         "type": "float"
        }
       ],
       "ref": "6f077199-9f23-42a0-ab17-ac98d173bd71",
       "rows": [
        [
         "567",
         "1.0",
         "7583.974",
         "-1.502",
         "4.013",
         "0.0",
         "15.872"
        ],
        [
         "568",
         "1.0",
         "7587.843",
         "-1.503",
         "4.003",
         "0.001",
         "15.811"
        ],
        [
         "569",
         "1.0",
         "7597.858",
         "-1.503",
         "3.993",
         "0.005",
         "15.872"
        ],
        [
         "570",
         "1.0",
         "7607.873",
         "-1.502",
         "3.987",
         "0.01",
         "15.872"
        ],
        [
         "571",
         "1.0",
         "7617.888",
         "-1.503",
         "3.983",
         "0.014",
         "15.796"
        ],
        [
         "572",
         "1.0",
         "7627.903",
         "-1.503",
         "3.979",
         "0.018",
         "15.842"
        ],
        [
         "573",
         "1.0",
         "7637.918",
         "-1.502",
         "3.976",
         "0.022",
         "15.872"
        ],
        [
         "574",
         "1.0",
         "7647.933",
         "-1.503",
         "3.973",
         "0.026",
         "15.872"
        ],
        [
         "575",
         "1.0",
         "7657.948",
         "-1.503",
         "3.971",
         "0.03",
         "15.811"
        ],
        [
         "576",
         "1.0",
         "7667.963",
         "-1.503",
         "3.969",
         "0.035",
         "15.872"
        ],
        [
         "577",
         "1.0",
         "7677.978",
         "-1.502",
         "3.967",
         "0.039",
         "15.887"
        ],
        [
         "578",
         "1.0",
         "7687.993",
         "-1.502",
         "3.965",
         "0.043",
         "15.887"
        ],
        [
         "579",
         "1.0",
         "7698.008",
         "-1.502",
         "3.964",
         "0.047",
         "15.887"
        ],
        [
         "580",
         "1.0",
         "7708.023",
         "-1.502",
         "3.962",
         "0.051",
         "15.949"
        ],
        [
         "581",
         "1.0",
         "7718.038",
         "-1.502",
         "3.961",
         "0.056",
         "15.949"
        ],
        [
         "582",
         "1.0",
         "7728.053",
         "-1.502",
         "3.959",
         "0.06",
         "15.949"
        ],
        [
         "583",
         "1.0",
         "7738.068",
         "-1.502",
         "3.958",
         "0.064",
         "15.964"
        ],
        [
         "584",
         "1.0",
         "7748.083",
         "-1.502",
         "3.956",
         "0.068",
         "15.949"
        ],
        [
         "585",
         "1.0",
         "7758.098",
         "-1.502",
         "3.955",
         "0.072",
         "15.964"
        ],
        [
         "586",
         "1.0",
         "7768.113",
         "-1.503",
         "3.953",
         "0.076",
         "16.041"
        ],
        [
         "587",
         "1.0",
         "7778.128",
         "-1.502",
         "3.952",
         "0.081",
         "16.041"
        ],
        [
         "588",
         "1.0",
         "7788.143",
         "-1.502",
         "3.951",
         "0.085",
         "16.041"
        ],
        [
         "589",
         "1.0",
         "7798.158",
         "-1.503",
         "3.95",
         "0.089",
         "16.041"
        ],
        [
         "590",
         "1.0",
         "7808.173",
         "-1.503",
         "3.949",
         "0.093",
         "16.179"
        ],
        [
         "591",
         "1.0",
         "7818.188",
         "-1.502",
         "3.948",
         "0.097",
         "15.964"
        ],
        [
         "592",
         "1.0",
         "7828.203",
         "-1.503",
         "3.947",
         "0.102",
         "15.979"
        ],
        [
         "593",
         "1.0",
         "7838.218",
         "-1.503",
         "3.945",
         "0.106",
         "15.964"
        ],
        [
         "594",
         "1.0",
         "7848.233",
         "-1.503",
         "3.944",
         "0.11",
         "15.979"
        ],
        [
         "595",
         "1.0",
         "7858.248",
         "-1.502",
         "3.943",
         "0.114",
         "16.056"
        ],
        [
         "596",
         "1.0",
         "7868.263",
         "-1.503",
         "3.942",
         "0.118",
         "16.118"
        ],
        [
         "597",
         "1.0",
         "7878.278",
         "-1.502",
         "3.941",
         "0.122",
         "15.979"
        ],
        [
         "598",
         "1.0",
         "7888.293",
         "-1.503",
         "3.94",
         "0.127",
         "16.056"
        ],
        [
         "599",
         "1.0",
         "7898.308",
         "-1.503",
         "3.939",
         "0.131",
         "16.118"
        ],
        [
         "600",
         "1.0",
         "7908.323",
         "-1.502",
         "3.937",
         "0.135",
         "16.118"
        ],
        [
         "601",
         "1.0",
         "7918.338",
         "-1.503",
         "3.936",
         "0.139",
         "16.118"
        ],
        [
         "602",
         "1.0",
         "7928.353",
         "-1.503",
         "3.936",
         "0.143",
         "16.118"
        ],
        [
         "603",
         "1.0",
         "7938.368",
         "-1.502",
         "3.935",
         "0.147",
         "16.194"
        ],
        [
         "604",
         "1.0",
         "7948.383",
         "-1.503",
         "3.933",
         "0.152",
         "16.256"
        ],
        [
         "605",
         "1.0",
         "7958.398",
         "-1.503",
         "3.933",
         "0.156",
         "16.118"
        ],
        [
         "606",
         "1.0",
         "7968.413",
         "-1.503",
         "3.931",
         "0.16",
         "16.118"
        ],
        [
         "607",
         "1.0",
         "7978.428",
         "-1.502",
         "3.93",
         "0.164",
         "16.318"
        ],
        [
         "608",
         "1.0",
         "7988.443",
         "-1.503",
         "3.929",
         "0.168",
         "16.256"
        ],
        [
         "609",
         "1.0",
         "7998.458",
         "-1.503",
         "3.928",
         "0.173",
         "16.256"
        ],
        [
         "610",
         "1.0",
         "8008.473",
         "-1.503",
         "3.927",
         "0.177",
         "16.179"
        ],
        [
         "611",
         "1.0",
         "8018.489",
         "-1.503",
         "3.926",
         "0.181",
         "16.333"
        ],
        [
         "612",
         "1.0",
         "8028.503",
         "-1.502",
         "3.925",
         "0.185",
         "16.194"
        ],
        [
         "613",
         "1.0",
         "8038.519",
         "-1.502",
         "3.924",
         "0.189",
         "16.256"
        ],
        [
         "614",
         "1.0",
         "8048.534",
         "-1.502",
         "3.923",
         "0.194",
         "16.256"
        ],
        [
         "615",
         "1.0",
         "8058.549",
         "-1.503",
         "3.922",
         "0.198",
         "16.194"
        ],
        [
         "616",
         "1.0",
         "8068.564",
         "-1.502",
         "3.921",
         "0.202",
         "16.256"
        ]
       ],
       "shape": {
        "columns": 6,
        "rows": 17411
       }
      },
      "text/html": [
       "<div>\n",
       "<style scoped>\n",
       "    .dataframe tbody tr th:only-of-type {\n",
       "        vertical-align: middle;\n",
       "    }\n",
       "\n",
       "    .dataframe tbody tr th {\n",
       "        vertical-align: top;\n",
       "    }\n",
       "\n",
       "    .dataframe thead th {\n",
       "        text-align: right;\n",
       "    }\n",
       "</style>\n",
       "<table border=\"1\" class=\"dataframe\">\n",
       "  <thead>\n",
       "    <tr style=\"text-align: right;\">\n",
       "      <th></th>\n",
       "      <th>Cycle_Index</th>\n",
       "      <th>Test_Time (s)</th>\n",
       "      <th>Current (A)</th>\n",
       "      <th>Voltage (V)</th>\n",
       "      <th>Discharge_Capacity (Ah)</th>\n",
       "      <th>Cell_Temperature (C)</th>\n",
       "    </tr>\n",
       "  </thead>\n",
       "  <tbody>\n",
       "    <tr>\n",
       "      <th>567</th>\n",
       "      <td>1.0</td>\n",
       "      <td>7583.974</td>\n",
       "      <td>-1.502</td>\n",
       "      <td>4.013</td>\n",
       "      <td>0.000</td>\n",
       "      <td>15.872</td>\n",
       "    </tr>\n",
       "    <tr>\n",
       "      <th>568</th>\n",
       "      <td>1.0</td>\n",
       "      <td>7587.843</td>\n",
       "      <td>-1.503</td>\n",
       "      <td>4.003</td>\n",
       "      <td>0.001</td>\n",
       "      <td>15.811</td>\n",
       "    </tr>\n",
       "    <tr>\n",
       "      <th>569</th>\n",
       "      <td>1.0</td>\n",
       "      <td>7597.858</td>\n",
       "      <td>-1.503</td>\n",
       "      <td>3.993</td>\n",
       "      <td>0.005</td>\n",
       "      <td>15.872</td>\n",
       "    </tr>\n",
       "    <tr>\n",
       "      <th>570</th>\n",
       "      <td>1.0</td>\n",
       "      <td>7607.873</td>\n",
       "      <td>-1.502</td>\n",
       "      <td>3.987</td>\n",
       "      <td>0.010</td>\n",
       "      <td>15.872</td>\n",
       "    </tr>\n",
       "    <tr>\n",
       "      <th>571</th>\n",
       "      <td>1.0</td>\n",
       "      <td>7617.888</td>\n",
       "      <td>-1.503</td>\n",
       "      <td>3.983</td>\n",
       "      <td>0.014</td>\n",
       "      <td>15.796</td>\n",
       "    </tr>\n",
       "    <tr>\n",
       "      <th>...</th>\n",
       "      <td>...</td>\n",
       "      <td>...</td>\n",
       "      <td>...</td>\n",
       "      <td>...</td>\n",
       "      <td>...</td>\n",
       "      <td>...</td>\n",
       "    </tr>\n",
       "    <tr>\n",
       "      <th>48189</th>\n",
       "      <td>512.0</td>\n",
       "      <td>4571520.315</td>\n",
       "      <td>-1.502</td>\n",
       "      <td>2.040</td>\n",
       "      <td>1.628</td>\n",
       "      <td>19.488</td>\n",
       "    </tr>\n",
       "    <tr>\n",
       "      <th>48190</th>\n",
       "      <td>512.0</td>\n",
       "      <td>4571520.783</td>\n",
       "      <td>-1.502</td>\n",
       "      <td>2.030</td>\n",
       "      <td>1.628</td>\n",
       "      <td>19.488</td>\n",
       "    </tr>\n",
       "    <tr>\n",
       "      <th>48191</th>\n",
       "      <td>512.0</td>\n",
       "      <td>4571521.220</td>\n",
       "      <td>-1.502</td>\n",
       "      <td>2.020</td>\n",
       "      <td>1.628</td>\n",
       "      <td>19.564</td>\n",
       "    </tr>\n",
       "    <tr>\n",
       "      <th>48192</th>\n",
       "      <td>512.0</td>\n",
       "      <td>4571521.812</td>\n",
       "      <td>-1.502</td>\n",
       "      <td>2.008</td>\n",
       "      <td>1.628</td>\n",
       "      <td>19.564</td>\n",
       "    </tr>\n",
       "    <tr>\n",
       "      <th>48193</th>\n",
       "      <td>512.0</td>\n",
       "      <td>4571522.187</td>\n",
       "      <td>-1.502</td>\n",
       "      <td>1.998</td>\n",
       "      <td>1.628</td>\n",
       "      <td>19.564</td>\n",
       "    </tr>\n",
       "  </tbody>\n",
       "</table>\n",
       "<p>17411 rows × 6 columns</p>\n",
       "</div>"
      ],
      "text/plain": [
       "       Cycle_Index  Test_Time (s)  Current (A)  Voltage (V)  \\\n",
       "567            1.0       7583.974       -1.502        4.013   \n",
       "568            1.0       7587.843       -1.503        4.003   \n",
       "569            1.0       7597.858       -1.503        3.993   \n",
       "570            1.0       7607.873       -1.502        3.987   \n",
       "571            1.0       7617.888       -1.503        3.983   \n",
       "...            ...            ...          ...          ...   \n",
       "48189        512.0    4571520.315       -1.502        2.040   \n",
       "48190        512.0    4571520.783       -1.502        2.030   \n",
       "48191        512.0    4571521.220       -1.502        2.020   \n",
       "48192        512.0    4571521.812       -1.502        2.008   \n",
       "48193        512.0    4571522.187       -1.502        1.998   \n",
       "\n",
       "       Discharge_Capacity (Ah)  Cell_Temperature (C)  \n",
       "567                      0.000                15.872  \n",
       "568                      0.001                15.811  \n",
       "569                      0.005                15.872  \n",
       "570                      0.010                15.872  \n",
       "571                      0.014                15.796  \n",
       "...                        ...                   ...  \n",
       "48189                    1.628                19.488  \n",
       "48190                    1.628                19.488  \n",
       "48191                    1.628                19.564  \n",
       "48192                    1.628                19.564  \n",
       "48193                    1.628                19.564  \n",
       "\n",
       "[17411 rows x 6 columns]"
      ]
     },
     "metadata": {},
     "output_type": "display_data"
    },
    {
     "data": {
      "application/vnd.microsoft.datawrangler.viewer.v0+json": {
       "columns": [
        {
         "name": "index",
         "rawType": "object",
         "type": "string"
        },
        {
         "name": "Cycle_Index",
         "rawType": "float64",
         "type": "float"
        },
        {
         "name": "Test_Time (s)",
         "rawType": "float64",
         "type": "float"
        },
        {
         "name": "Current (A)",
         "rawType": "float64",
         "type": "float"
        },
        {
         "name": "Voltage (V)",
         "rawType": "float64",
         "type": "float"
        },
        {
         "name": "Discharge_Capacity (Ah)",
         "rawType": "float64",
         "type": "float"
        },
        {
         "name": "Cell_Temperature (C)",
         "rawType": "float64",
         "type": "float"
        }
       ],
       "ref": "5e0cb8de-884c-4a1e-a3ed-73e7b407a5d4",
       "rows": [
        [
         "count",
         "17411.0",
         "17411.0",
         "17411.0",
         "17411.0",
         "17411.0",
         "17411.0"
        ],
        [
         "mean",
         "236.34673482281318",
         "2228735.0436294293",
         "-2.4108422836138073",
         "3.353108839239561",
         "1.1527922577680776",
         "18.329787433231868"
        ],
        [
         "std",
         "161.0825325581278",
         "1437756.7303560625",
         "0.7334252436276528",
         "0.4411791016111581",
         "0.6742840321252702",
         "2.4244495903636083"
        ],
        [
         "min",
         "1.0",
         "7583.974",
         "-3.003",
         "1.994",
         "0.0",
         "15.488"
        ],
        [
         "25%",
         "93.0",
         "984211.467",
         "-3.003",
         "3.189",
         "0.6",
         "16.271"
        ],
        [
         "50%",
         "254.0",
         "2454386.972",
         "-3.003",
         "3.439",
         "1.118",
         "17.466"
        ],
        [
         "75%",
         "351.0",
         "3283330.291",
         "-1.503",
         "3.667",
         "1.6915",
         "19.824"
        ],
        [
         "max",
         "512.0",
         "4571522.187",
         "-1.502",
         "4.023",
         "5.331",
         "26.048"
        ]
       ],
       "shape": {
        "columns": 6,
        "rows": 8
       }
      },
      "text/html": [
       "<div>\n",
       "<style scoped>\n",
       "    .dataframe tbody tr th:only-of-type {\n",
       "        vertical-align: middle;\n",
       "    }\n",
       "\n",
       "    .dataframe tbody tr th {\n",
       "        vertical-align: top;\n",
       "    }\n",
       "\n",
       "    .dataframe thead th {\n",
       "        text-align: right;\n",
       "    }\n",
       "</style>\n",
       "<table border=\"1\" class=\"dataframe\">\n",
       "  <thead>\n",
       "    <tr style=\"text-align: right;\">\n",
       "      <th></th>\n",
       "      <th>Cycle_Index</th>\n",
       "      <th>Test_Time (s)</th>\n",
       "      <th>Current (A)</th>\n",
       "      <th>Voltage (V)</th>\n",
       "      <th>Discharge_Capacity (Ah)</th>\n",
       "      <th>Cell_Temperature (C)</th>\n",
       "    </tr>\n",
       "  </thead>\n",
       "  <tbody>\n",
       "    <tr>\n",
       "      <th>count</th>\n",
       "      <td>17411.000000</td>\n",
       "      <td>1.741100e+04</td>\n",
       "      <td>17411.000000</td>\n",
       "      <td>17411.000000</td>\n",
       "      <td>17411.000000</td>\n",
       "      <td>17411.000000</td>\n",
       "    </tr>\n",
       "    <tr>\n",
       "      <th>mean</th>\n",
       "      <td>236.346735</td>\n",
       "      <td>2.228735e+06</td>\n",
       "      <td>-2.410842</td>\n",
       "      <td>3.353109</td>\n",
       "      <td>1.152792</td>\n",
       "      <td>18.329787</td>\n",
       "    </tr>\n",
       "    <tr>\n",
       "      <th>std</th>\n",
       "      <td>161.082533</td>\n",
       "      <td>1.437757e+06</td>\n",
       "      <td>0.733425</td>\n",
       "      <td>0.441179</td>\n",
       "      <td>0.674284</td>\n",
       "      <td>2.424450</td>\n",
       "    </tr>\n",
       "    <tr>\n",
       "      <th>min</th>\n",
       "      <td>1.000000</td>\n",
       "      <td>7.583974e+03</td>\n",
       "      <td>-3.003000</td>\n",
       "      <td>1.994000</td>\n",
       "      <td>0.000000</td>\n",
       "      <td>15.488000</td>\n",
       "    </tr>\n",
       "    <tr>\n",
       "      <th>25%</th>\n",
       "      <td>93.000000</td>\n",
       "      <td>9.842115e+05</td>\n",
       "      <td>-3.003000</td>\n",
       "      <td>3.189000</td>\n",
       "      <td>0.600000</td>\n",
       "      <td>16.271000</td>\n",
       "    </tr>\n",
       "    <tr>\n",
       "      <th>50%</th>\n",
       "      <td>254.000000</td>\n",
       "      <td>2.454387e+06</td>\n",
       "      <td>-3.003000</td>\n",
       "      <td>3.439000</td>\n",
       "      <td>1.118000</td>\n",
       "      <td>17.466000</td>\n",
       "    </tr>\n",
       "    <tr>\n",
       "      <th>75%</th>\n",
       "      <td>351.000000</td>\n",
       "      <td>3.283330e+06</td>\n",
       "      <td>-1.503000</td>\n",
       "      <td>3.667000</td>\n",
       "      <td>1.691500</td>\n",
       "      <td>19.824000</td>\n",
       "    </tr>\n",
       "    <tr>\n",
       "      <th>max</th>\n",
       "      <td>512.000000</td>\n",
       "      <td>4.571522e+06</td>\n",
       "      <td>-1.502000</td>\n",
       "      <td>4.023000</td>\n",
       "      <td>5.331000</td>\n",
       "      <td>26.048000</td>\n",
       "    </tr>\n",
       "  </tbody>\n",
       "</table>\n",
       "</div>"
      ],
      "text/plain": [
       "        Cycle_Index  Test_Time (s)   Current (A)   Voltage (V)  \\\n",
       "count  17411.000000   1.741100e+04  17411.000000  17411.000000   \n",
       "mean     236.346735   2.228735e+06     -2.410842      3.353109   \n",
       "std      161.082533   1.437757e+06      0.733425      0.441179   \n",
       "min        1.000000   7.583974e+03     -3.003000      1.994000   \n",
       "25%       93.000000   9.842115e+05     -3.003000      3.189000   \n",
       "50%      254.000000   2.454387e+06     -3.003000      3.439000   \n",
       "75%      351.000000   3.283330e+06     -1.503000      3.667000   \n",
       "max      512.000000   4.571522e+06     -1.502000      4.023000   \n",
       "\n",
       "       Discharge_Capacity (Ah)  Cell_Temperature (C)  \n",
       "count             17411.000000          17411.000000  \n",
       "mean                  1.152792             18.329787  \n",
       "std                   0.674284              2.424450  \n",
       "min                   0.000000             15.488000  \n",
       "25%                   0.600000             16.271000  \n",
       "50%                   1.118000             17.466000  \n",
       "75%                   1.691500             19.824000  \n",
       "max                   5.331000             26.048000  "
      ]
     },
     "metadata": {},
     "output_type": "display_data"
    }
   ],
   "source": [
    "# Header completo:\n",
    "# Date_Time,Test_Time (s),Cycle_Index,Current (A),Voltage (V),Charge_Capacity (Ah),Discharge_Capacity (Ah),Charge_Energy (Wh),Discharge_Energy (Wh),Environment_Temperature (C),Cell_Temperature (C)\n",
    "df = pd.read_csv('../Battery_Archive_Data/SNL NMC/3.00_SNL_18650_NMC_15C_0-100_0.5-1C_a_timeseries.csv')\n",
    "\n",
    "# Apenas features de interesse são mantidas\n",
    "# Obs: Envoironment_Temperature (C) poderia ser relevante, mas tem todos os valores nulos. Então, é removida\n",
    "df = df[[\"Cycle_Index\", \"Test_Time (s)\", \"Current (A)\", \"Voltage (V)\", \"Discharge_Capacity (Ah)\", \"Cell_Temperature (C)\"]]\n",
    "\n",
    "# Mantem apenas as linhas em que a bateria está descarregando, ou seja, corrente < 0\n",
    "df = df[df['Current (A)'] < 0]\n",
    "\n",
    "# Remove valores para Cell_Temperature < 1 (incorretos)\n",
    "#df = df[df['Cell_Temperature (C)'] >= 1]\n",
    "\n",
    "display(df)\n",
    "display(df.describe())"
   ]
  },
  {
   "cell_type": "markdown",
   "metadata": {},
   "source": [
    "## Visualização"
   ]
  },
  {
   "cell_type": "code",
   "execution_count": 20,
   "metadata": {},
   "outputs": [
    {
     "data": {
      "image/png": "[encoded data removed]",
      "text/plain": [
       "<Figure size 1400x800 with 4 Axes>"
      ]
     },
     "metadata": {},
     "output_type": "display_data"
    }
   ],
   "source": [
    "# Lista de features que deseja analisar (exceto \"Cycle_Index\")\n",
    "features = [\"Current (A)\", \"Voltage (V)\", \"Discharge_Capacity (Ah)\", \"Cell_Temperature (C)\"]\n",
    "\n",
    "# Ciclos únicos e ordenados\n",
    "cycles = df[\"Cycle_Index\"].unique()\n",
    "cycles.sort()\n",
    "NumCyclesPlot = 5\n",
    "\n",
    "# Seleciona 'NumCyclesPlot' ciclos igualmente espaçados para plotar\n",
    "if len(cycles) > NumCyclesPlot:\n",
    "    cycles = cycles[::len(cycles)//NumCyclesPlot] # // --> Divisão inteira\n",
    "\n",
    "# Cria os subplots com layout 2x2\n",
    "fig, axs = plt.subplots(2, 2, figsize=(14, 8))\n",
    "axs = axs.flatten()  # Facilita a iteração\n",
    "\n",
    "# Itera sobre cada feature e sobre os ciclos para plotar os dados\n",
    "for i, feature in enumerate(features):\n",
    "    ax = axs[i]\n",
    "    for cycle in cycles:\n",
    "        # Seleciona os dados do ciclo e calcula o tempo relativo\n",
    "        df_cycle = df[df[\"Cycle_Index\"] == cycle].copy()\n",
    "        df_cycle['Tempo_Relativo (s)'] = df_cycle[\"Test_Time (s)\"] - df_cycle[\"Test_Time (s)\"].min()\n",
    "        \n",
    "        # Plota a feature em função do tempo relativo\n",
    "        ax.plot(df_cycle['Tempo_Relativo (s)'], df_cycle[feature], alpha=0.7, label=f'{int(cycle)}', linewidth=2.0)\n",
    "\n",
    "    ax.set_title(f'{feature} ao longo dos ciclos')\n",
    "    ax.set_xlabel('Tempo Relativo (s)')\n",
    "    ax.set_ylabel(feature)\n",
    "    ax.grid(True)\n",
    "    ax.legend(title=\"Ciclo\", loc='best')\n",
    "\n",
    "plt.tight_layout()\n",
    "plt.show()\n"
   ]
  },
  {
   "cell_type": "markdown",
   "metadata": {},
   "source": [
    "## Análise de SOH"
   ]
  },
  {
   "cell_type": "markdown",
   "metadata": {},
   "source": [
    "$$\n",
    "\\text{SOH} = \\frac{\\text{capacidade\\_atual}}{\\text{capacidade\\_inicial}}\n",
    "$$\n",
    "\n",
    "- $CapacidadeInicial$ é a capacidade nominal, a maior considerando todo o histórico da bateria\n",
    "- $CapacidadeAtual$ é a maior capacidade do ciclo"
   ]
  },
  {
   "cell_type": "code",
   "execution_count": 21,
   "metadata": {},
   "outputs": [
    {
     "name": "stdout",
     "output_type": "stream",
     "text": [
      "Capacidade total de descarga: 3.0 Ah\n"
     ]
    },
    {
     "data": {
      "application/vnd.microsoft.datawrangler.viewer.v0+json": {
       "columns": [
        {
         "name": "index",
         "rawType": "int64",
         "type": "integer"
        },
        {
         "name": "Cycle_Index",
         "rawType": "float64",
         "type": "float"
        },
        {
         "name": "Max_Discharge_Capacity",
         "rawType": "float64",
         "type": "float"
        },
        {
         "name": "SOH_discharge",
         "rawType": "float64",
         "type": "float"
        }
       ],
       "ref": "61745400-f300-4117-9b75-63c2263d42d1",
       "rows": [
        [
         "0",
         "1.0",
         "2.697",
         "0.899"
        ],
        [
         "1",
         "2.0",
         "2.697",
         "0.899"
        ],
        [
         "2",
         "3.0",
         "2.691",
         "0.8969999999999999"
        ],
        [
         "3",
         "4.0",
         "5.331",
         "1.7770000000000001"
        ],
        [
         "4",
         "5.0",
         "2.652",
         "0.884"
        ],
        [
         "5",
         "6.0",
         "2.645",
         "0.8816666666666667"
        ],
        [
         "6",
         "7.0",
         "2.638",
         "0.8793333333333333"
        ],
        [
         "7",
         "8.0",
         "2.633",
         "0.8776666666666667"
        ],
        [
         "8",
         "9.0",
         "2.627",
         "0.8756666666666666"
        ],
        [
         "9",
         "10.0",
         "2.622",
         "0.874"
        ],
        [
         "10",
         "11.0",
         "2.618",
         "0.8726666666666666"
        ],
        [
         "11",
         "12.0",
         "2.614",
         "0.8713333333333333"
        ],
        [
         "12",
         "13.0",
         "2.609",
         "0.8696666666666667"
        ],
        [
         "13",
         "14.0",
         "2.605",
         "0.8683333333333333"
        ],
        [
         "14",
         "15.0",
         "2.601",
         "0.867"
        ],
        [
         "15",
         "16.0",
         "2.597",
         "0.8656666666666667"
        ],
        [
         "16",
         "17.0",
         "2.593",
         "0.8643333333333333"
        ],
        [
         "17",
         "18.0",
         "2.589",
         "0.863"
        ],
        [
         "18",
         "19.0",
         "2.584",
         "0.8613333333333334"
        ],
        [
         "19",
         "20.0",
         "2.58",
         "0.86"
        ],
        [
         "20",
         "21.0",
         "2.576",
         "0.8586666666666667"
        ],
        [
         "21",
         "22.0",
         "2.572",
         "0.8573333333333334"
        ],
        [
         "22",
         "23.0",
         "2.568",
         "0.856"
        ],
        [
         "23",
         "24.0",
         "2.564",
         "0.8546666666666667"
        ],
        [
         "24",
         "25.0",
         "2.56",
         "0.8533333333333334"
        ],
        [
         "25",
         "26.0",
         "2.557",
         "0.8523333333333333"
        ],
        [
         "26",
         "27.0",
         "2.553",
         "0.851"
        ],
        [
         "27",
         "28.0",
         "2.549",
         "0.8496666666666667"
        ],
        [
         "28",
         "29.0",
         "2.546",
         "0.8486666666666666"
        ],
        [
         "29",
         "30.0",
         "2.542",
         "0.8473333333333333"
        ],
        [
         "30",
         "31.0",
         "2.539",
         "0.8463333333333334"
        ],
        [
         "31",
         "32.0",
         "2.536",
         "0.8453333333333334"
        ],
        [
         "32",
         "33.0",
         "2.533",
         "0.8443333333333333"
        ],
        [
         "33",
         "34.0",
         "2.529",
         "0.843"
        ],
        [
         "34",
         "35.0",
         "2.526",
         "0.842"
        ],
        [
         "35",
         "36.0",
         "2.522",
         "0.8406666666666666"
        ],
        [
         "36",
         "37.0",
         "2.519",
         "0.8396666666666667"
        ],
        [
         "37",
         "38.0",
         "2.515",
         "0.8383333333333334"
        ],
        [
         "38",
         "39.0",
         "2.512",
         "0.8373333333333334"
        ],
        [
         "39",
         "40.0",
         "2.507",
         "0.8356666666666667"
        ],
        [
         "40",
         "41.0",
         "2.504",
         "0.8346666666666667"
        ],
        [
         "41",
         "42.0",
         "2.501",
         "0.8336666666666667"
        ],
        [
         "42",
         "43.0",
         "2.497",
         "0.8323333333333333"
        ],
        [
         "43",
         "44.0",
         "2.494",
         "0.8313333333333334"
        ],
        [
         "44",
         "45.0",
         "2.49",
         "0.8300000000000001"
        ],
        [
         "45",
         "46.0",
         "2.486",
         "0.8286666666666668"
        ],
        [
         "46",
         "47.0",
         "2.482",
         "0.8273333333333334"
        ],
        [
         "47",
         "48.0",
         "2.479",
         "0.8263333333333334"
        ],
        [
         "48",
         "49.0",
         "2.475",
         "0.8250000000000001"
        ],
        [
         "49",
         "50.0",
         "2.471",
         "0.8236666666666667"
        ]
       ],
       "shape": {
        "columns": 3,
        "rows": 510
       }
      },
      "text/html": [
       "<div>\n",
       "<style scoped>\n",
       "    .dataframe tbody tr th:only-of-type {\n",
       "        vertical-align: middle;\n",
       "    }\n",
       "\n",
       "    .dataframe tbody tr th {\n",
       "        vertical-align: top;\n",
       "    }\n",
       "\n",
       "    .dataframe thead th {\n",
       "        text-align: right;\n",
       "    }\n",
       "</style>\n",
       "<table border=\"1\" class=\"dataframe\">\n",
       "  <thead>\n",
       "    <tr style=\"text-align: right;\">\n",
       "      <th></th>\n",
       "      <th>Cycle_Index</th>\n",
       "      <th>Max_Discharge_Capacity</th>\n",
       "      <th>SOH_discharge</th>\n",
       "    </tr>\n",
       "  </thead>\n",
       "  <tbody>\n",
       "    <tr>\n",
       "      <th>0</th>\n",
       "      <td>1.0</td>\n",
       "      <td>2.697</td>\n",
       "      <td>0.899000</td>\n",
       "    </tr>\n",
       "    <tr>\n",
       "      <th>1</th>\n",
       "      <td>2.0</td>\n",
       "      <td>2.697</td>\n",
       "      <td>0.899000</td>\n",
       "    </tr>\n",
       "    <tr>\n",
       "      <th>2</th>\n",
       "      <td>3.0</td>\n",
       "      <td>2.691</td>\n",
       "      <td>0.897000</td>\n",
       "    </tr>\n",
       "    <tr>\n",
       "      <th>3</th>\n",
       "      <td>4.0</td>\n",
       "      <td>5.331</td>\n",
       "      <td>1.777000</td>\n",
       "    </tr>\n",
       "    <tr>\n",
       "      <th>4</th>\n",
       "      <td>5.0</td>\n",
       "      <td>2.652</td>\n",
       "      <td>0.884000</td>\n",
       "    </tr>\n",
       "    <tr>\n",
       "      <th>...</th>\n",
       "      <td>...</td>\n",
       "      <td>...</td>\n",
       "      <td>...</td>\n",
       "    </tr>\n",
       "    <tr>\n",
       "      <th>505</th>\n",
       "      <td>508.0</td>\n",
       "      <td>1.595</td>\n",
       "      <td>0.531667</td>\n",
       "    </tr>\n",
       "    <tr>\n",
       "      <th>506</th>\n",
       "      <td>509.0</td>\n",
       "      <td>1.591</td>\n",
       "      <td>0.530333</td>\n",
       "    </tr>\n",
       "    <tr>\n",
       "      <th>507</th>\n",
       "      <td>510.0</td>\n",
       "      <td>1.627</td>\n",
       "      <td>0.542333</td>\n",
       "    </tr>\n",
       "    <tr>\n",
       "      <th>508</th>\n",
       "      <td>511.0</td>\n",
       "      <td>1.629</td>\n",
       "      <td>0.543000</td>\n",
       "    </tr>\n",
       "    <tr>\n",
       "      <th>509</th>\n",
       "      <td>512.0</td>\n",
       "      <td>1.628</td>\n",
       "      <td>0.542667</td>\n",
       "    </tr>\n",
       "  </tbody>\n",
       "</table>\n",
       "<p>510 rows × 3 columns</p>\n",
       "</div>"
      ],
      "text/plain": [
       "     Cycle_Index  Max_Discharge_Capacity  SOH_discharge\n",
       "0            1.0                   2.697       0.899000\n",
       "1            2.0                   2.697       0.899000\n",
       "2            3.0                   2.691       0.897000\n",
       "3            4.0                   5.331       1.777000\n",
       "4            5.0                   2.652       0.884000\n",
       "..           ...                     ...            ...\n",
       "505        508.0                   1.595       0.531667\n",
       "506        509.0                   1.591       0.530333\n",
       "507        510.0                   1.627       0.542333\n",
       "508        511.0                   1.629       0.543000\n",
       "509        512.0                   1.628       0.542667\n",
       "\n",
       "[510 rows x 3 columns]"
      ]
     },
     "metadata": {},
     "output_type": "display_data"
    }
   ],
   "source": [
    "# Capacidade nominal (máxima global)\n",
    "nominal_capacity = 3.00 #df['Discharge_Capacity (Ah)'].max()\n",
    "print(f'Capacidade total de descarga: {nominal_capacity} Ah')\n",
    "\n",
    "# Para cada ciclo, extrai a maior capacidade \n",
    "# (cycles_capacity é uma série do Pandas)\n",
    "cycles_capacity = df.groupby('Cycle_Index')['Discharge_Capacity (Ah)'].max()\n",
    "cycles_capacity = cycles_capacity.reset_index() # transforma em dataframe\n",
    "cycles_capacity.columns = ['Cycle_Index', 'Max_Discharge_Capacity']\n",
    "cycles_capacity['SOH_discharge'] = (cycles_capacity['Max_Discharge_Capacity'] / nominal_capacity)\n",
    "display(cycles_capacity)"
   ]
  },
  {
   "cell_type": "code",
   "execution_count": 22,
   "metadata": {},
   "outputs": [
    {
     "data": {
      "application/vnd.microsoft.datawrangler.viewer.v0+json": {
       "columns": [
        {
         "name": "index",
         "rawType": "int64",
         "type": "integer"
        },
        {
         "name": "Cycle_Index",
         "rawType": "float64",
         "type": "float"
        },
        {
         "name": "Cell_Temperature (C)",
         "rawType": "float64",
         "type": "float"
        },
        {
         "name": "SOH_discharge",
         "rawType": "float64",
         "type": "float"
        }
       ],
       "ref": "7d0f588f-ee19-4f39-a217-d1392a58b7f9",
       "rows": [
        [
         "0",
         "1.0",
         "17.31424238026125",
         "0.899"
        ],
        [
         "1",
         "2.0",
         "17.363112716763005",
         "0.899"
        ],
        [
         "2",
         "3.0",
         "17.366827785817655",
         "0.8969999999999999"
        ],
        [
         "3",
         "4.0",
         "20.479981481481484",
         "1.7770000000000001"
        ],
        [
         "4",
         "5.0",
         "20.44374074074074",
         "0.884"
        ],
        [
         "5",
         "6.0",
         "20.415296296296294",
         "0.8816666666666667"
        ],
        [
         "6",
         "7.0",
         "20.378592592592593",
         "0.8793333333333333"
        ],
        [
         "7",
         "8.0",
         "20.34196296296296",
         "0.8776666666666667"
        ],
        [
         "8",
         "9.0",
         "20.323",
         "0.8756666666666666"
        ],
        [
         "9",
         "10.0",
         "20.29259259259259",
         "0.874"
        ],
        [
         "10",
         "11.0",
         "20.284185185185184",
         "0.8726666666666666"
        ],
        [
         "11",
         "12.0",
         "20.272888888888886",
         "0.8713333333333333"
        ],
        [
         "12",
         "13.0",
         "20.253",
         "0.8696666666666667"
        ],
        [
         "13",
         "14.0",
         "20.184074074074076",
         "0.8683333333333333"
        ],
        [
         "14",
         "15.0",
         "20.036576923076925",
         "0.867"
        ],
        [
         "15",
         "16.0",
         "20.0455",
         "0.8656666666666667"
        ],
        [
         "16",
         "17.0",
         "20.03296153846154",
         "0.8643333333333333"
        ],
        [
         "17",
         "18.0",
         "19.981230769230766",
         "0.863"
        ],
        [
         "18",
         "19.0",
         "19.947692307692307",
         "0.8613333333333334"
        ],
        [
         "19",
         "20.0",
         "19.908692307692306",
         "0.86"
        ],
        [
         "20",
         "21.0",
         "19.85973076923077",
         "0.8586666666666667"
        ],
        [
         "21",
         "22.0",
         "19.90130769230769",
         "0.8573333333333334"
        ],
        [
         "22",
         "23.0",
         "19.901538461538465",
         "0.856"
        ],
        [
         "23",
         "24.0",
         "19.849769230769233",
         "0.8546666666666667"
        ],
        [
         "24",
         "25.0",
         "19.83176923076923",
         "0.8533333333333334"
        ],
        [
         "25",
         "26.0",
         "19.817",
         "0.8523333333333333"
        ],
        [
         "26",
         "27.0",
         "19.774884615384618",
         "0.851"
        ],
        [
         "27",
         "28.0",
         "19.791",
         "0.8496666666666667"
        ],
        [
         "28",
         "29.0",
         "19.775115384615386",
         "0.8486666666666666"
        ],
        [
         "29",
         "30.0",
         "19.755653846153848",
         "0.8473333333333333"
        ],
        [
         "30",
         "31.0",
         "19.744384615384618",
         "0.8463333333333334"
        ],
        [
         "31",
         "32.0",
         "19.762461538461537",
         "0.8453333333333334"
        ],
        [
         "32",
         "33.0",
         "19.762269230769228",
         "0.8443333333333333"
        ],
        [
         "33",
         "34.0",
         "19.7595",
         "0.843"
        ],
        [
         "34",
         "35.0",
         "19.727153846153843",
         "0.842"
        ],
        [
         "35",
         "36.0",
         "19.73303846153846",
         "0.8406666666666666"
        ],
        [
         "36",
         "37.0",
         "19.693807692307693",
         "0.8396666666666667"
        ],
        [
         "37",
         "38.0",
         "19.719923076923074",
         "0.8383333333333334"
        ],
        [
         "38",
         "39.0",
         "19.784307692307696",
         "0.8373333333333334"
        ],
        [
         "39",
         "40.0",
         "19.803115384615385",
         "0.8356666666666667"
        ],
        [
         "40",
         "41.0",
         "19.684076923076923",
         "0.8346666666666667"
        ],
        [
         "41",
         "42.0",
         "19.58004",
         "0.8336666666666667"
        ],
        [
         "42",
         "43.0",
         "19.49116",
         "0.8323333333333333"
        ],
        [
         "43",
         "44.0",
         "19.47288",
         "0.8313333333333334"
        ],
        [
         "44",
         "45.0",
         "19.53412",
         "0.8300000000000001"
        ],
        [
         "45",
         "46.0",
         "19.533640000000002",
         "0.8286666666666668"
        ],
        [
         "46",
         "47.0",
         "19.57272",
         "0.8273333333333334"
        ],
        [
         "47",
         "48.0",
         "19.630119999999998",
         "0.8263333333333334"
        ],
        [
         "48",
         "49.0",
         "19.5864",
         "0.8250000000000001"
        ],
        [
         "49",
         "50.0",
         "19.60972",
         "0.8236666666666667"
        ]
       ],
       "shape": {
        "columns": 3,
        "rows": 510
       }
      },
      "text/html": [
       "<div>\n",
       "<style scoped>\n",
       "    .dataframe tbody tr th:only-of-type {\n",
       "        vertical-align: middle;\n",
       "    }\n",
       "\n",
       "    .dataframe tbody tr th {\n",
       "        vertical-align: top;\n",
       "    }\n",
       "\n",
       "    .dataframe thead th {\n",
       "        text-align: right;\n",
       "    }\n",
       "</style>\n",
       "<table border=\"1\" class=\"dataframe\">\n",
       "  <thead>\n",
       "    <tr style=\"text-align: right;\">\n",
       "      <th></th>\n",
       "      <th>Cycle_Index</th>\n",
       "      <th>Cell_Temperature (C)</th>\n",
       "      <th>SOH_discharge</th>\n",
       "    </tr>\n",
       "  </thead>\n",
       "  <tbody>\n",
       "    <tr>\n",
       "      <th>0</th>\n",
       "      <td>1.0</td>\n",
       "      <td>17.314242</td>\n",
       "      <td>0.899000</td>\n",
       "    </tr>\n",
       "    <tr>\n",
       "      <th>1</th>\n",
       "      <td>2.0</td>\n",
       "      <td>17.363113</td>\n",
       "      <td>0.899000</td>\n",
       "    </tr>\n",
       "    <tr>\n",
       "      <th>2</th>\n",
       "      <td>3.0</td>\n",
       "      <td>17.366828</td>\n",
       "      <td>0.897000</td>\n",
       "    </tr>\n",
       "    <tr>\n",
       "      <th>3</th>\n",
       "      <td>4.0</td>\n",
       "      <td>20.479981</td>\n",
       "      <td>1.777000</td>\n",
       "    </tr>\n",
       "    <tr>\n",
       "      <th>4</th>\n",
       "      <td>5.0</td>\n",
       "      <td>20.443741</td>\n",
       "      <td>0.884000</td>\n",
       "    </tr>\n",
       "    <tr>\n",
       "      <th>...</th>\n",
       "      <td>...</td>\n",
       "      <td>...</td>\n",
       "      <td>...</td>\n",
       "    </tr>\n",
       "    <tr>\n",
       "      <th>505</th>\n",
       "      <td>508.0</td>\n",
       "      <td>20.992875</td>\n",
       "      <td>0.531667</td>\n",
       "    </tr>\n",
       "    <tr>\n",
       "      <th>506</th>\n",
       "      <td>509.0</td>\n",
       "      <td>21.089437</td>\n",
       "      <td>0.530333</td>\n",
       "    </tr>\n",
       "    <tr>\n",
       "      <th>507</th>\n",
       "      <td>510.0</td>\n",
       "      <td>17.776994</td>\n",
       "      <td>0.542333</td>\n",
       "    </tr>\n",
       "    <tr>\n",
       "      <th>508</th>\n",
       "      <td>511.0</td>\n",
       "      <td>17.754773</td>\n",
       "      <td>0.543000</td>\n",
       "    </tr>\n",
       "    <tr>\n",
       "      <th>509</th>\n",
       "      <td>512.0</td>\n",
       "      <td>17.773677</td>\n",
       "      <td>0.542667</td>\n",
       "    </tr>\n",
       "  </tbody>\n",
       "</table>\n",
       "<p>510 rows × 3 columns</p>\n",
       "</div>"
      ],
      "text/plain": [
       "     Cycle_Index  Cell_Temperature (C)  SOH_discharge\n",
       "0            1.0             17.314242       0.899000\n",
       "1            2.0             17.363113       0.899000\n",
       "2            3.0             17.366828       0.897000\n",
       "3            4.0             20.479981       1.777000\n",
       "4            5.0             20.443741       0.884000\n",
       "..           ...                   ...            ...\n",
       "505        508.0             20.992875       0.531667\n",
       "506        509.0             21.089437       0.530333\n",
       "507        510.0             17.776994       0.542333\n",
       "508        511.0             17.754773       0.543000\n",
       "509        512.0             17.773677       0.542667\n",
       "\n",
       "[510 rows x 3 columns]"
      ]
     },
     "metadata": {},
     "output_type": "display_data"
    },
    {
     "data": {
      "application/vnd.microsoft.datawrangler.viewer.v0+json": {
       "columns": [
        {
         "name": "index",
         "rawType": "object",
         "type": "string"
        },
        {
         "name": "Cycle_Index",
         "rawType": "float64",
         "type": "float"
        },
        {
         "name": "Cell_Temperature (C)",
         "rawType": "float64",
         "type": "float"
        },
        {
         "name": "SOH_discharge",
         "rawType": "float64",
         "type": "float"
        }
       ],
       "ref": "4b7d64df-3e9e-436f-a1b7-0e4950707fd5",
       "rows": [
        [
         "count",
         "510.0",
         "510.0",
         "510.0"
        ],
        [
         "mean",
         "256.5",
         "19.091887741725326",
         "0.6891183006535948"
        ],
        [
         "std",
         "148.2363077891338",
         "2.1701412892782685",
         "0.10116410916817624"
        ],
        [
         "min",
         "1.0",
         "15.767833333333334",
         "0.5303333333333333"
        ],
        [
         "25%",
         "128.25",
         "16.177064182194616",
         "0.6340833333333333"
        ],
        [
         "50%",
         "256.5",
         "20.307796296296296",
         "0.6725"
        ],
        [
         "75%",
         "384.75",
         "20.8856125",
         "0.7357500000000001"
        ],
        [
         "max",
         "512.0",
         "21.199199999999998",
         "1.7770000000000001"
        ]
       ],
       "shape": {
        "columns": 3,
        "rows": 8
       }
      },
      "text/html": [
       "<div>\n",
       "<style scoped>\n",
       "    .dataframe tbody tr th:only-of-type {\n",
       "        vertical-align: middle;\n",
       "    }\n",
       "\n",
       "    .dataframe tbody tr th {\n",
       "        vertical-align: top;\n",
       "    }\n",
       "\n",
       "    .dataframe thead th {\n",
       "        text-align: right;\n",
       "    }\n",
       "</style>\n",
       "<table border=\"1\" class=\"dataframe\">\n",
       "  <thead>\n",
       "    <tr style=\"text-align: right;\">\n",
       "      <th></th>\n",
       "      <th>Cycle_Index</th>\n",
       "      <th>Cell_Temperature (C)</th>\n",
       "      <th>SOH_discharge</th>\n",
       "    </tr>\n",
       "  </thead>\n",
       "  <tbody>\n",
       "    <tr>\n",
       "      <th>count</th>\n",
       "      <td>510.000000</td>\n",
       "      <td>510.000000</td>\n",
       "      <td>510.000000</td>\n",
       "    </tr>\n",
       "    <tr>\n",
       "      <th>mean</th>\n",
       "      <td>256.500000</td>\n",
       "      <td>19.091888</td>\n",
       "      <td>0.689118</td>\n",
       "    </tr>\n",
       "    <tr>\n",
       "      <th>std</th>\n",
       "      <td>148.236308</td>\n",
       "      <td>2.170141</td>\n",
       "      <td>0.101164</td>\n",
       "    </tr>\n",
       "    <tr>\n",
       "      <th>min</th>\n",
       "      <td>1.000000</td>\n",
       "      <td>15.767833</td>\n",
       "      <td>0.530333</td>\n",
       "    </tr>\n",
       "    <tr>\n",
       "      <th>25%</th>\n",
       "      <td>128.250000</td>\n",
       "      <td>16.177064</td>\n",
       "      <td>0.634083</td>\n",
       "    </tr>\n",
       "    <tr>\n",
       "      <th>50%</th>\n",
       "      <td>256.500000</td>\n",
       "      <td>20.307796</td>\n",
       "      <td>0.672500</td>\n",
       "    </tr>\n",
       "    <tr>\n",
       "      <th>75%</th>\n",
       "      <td>384.750000</td>\n",
       "      <td>20.885613</td>\n",
       "      <td>0.735750</td>\n",
       "    </tr>\n",
       "    <tr>\n",
       "      <th>max</th>\n",
       "      <td>512.000000</td>\n",
       "      <td>21.199200</td>\n",
       "      <td>1.777000</td>\n",
       "    </tr>\n",
       "  </tbody>\n",
       "</table>\n",
       "</div>"
      ],
      "text/plain": [
       "       Cycle_Index  Cell_Temperature (C)  SOH_discharge\n",
       "count   510.000000            510.000000     510.000000\n",
       "mean    256.500000             19.091888       0.689118\n",
       "std     148.236308              2.170141       0.101164\n",
       "min       1.000000             15.767833       0.530333\n",
       "25%     128.250000             16.177064       0.634083\n",
       "50%     256.500000             20.307796       0.672500\n",
       "75%     384.750000             20.885613       0.735750\n",
       "max     512.000000             21.199200       1.777000"
      ]
     },
     "metadata": {},
     "output_type": "display_data"
    }
   ],
   "source": [
    "# Seleciona as features de interesse e agrupa por ciclo\n",
    "df_grouped = df[['Cycle_Index', 'Cell_Temperature (C)']]\n",
    "df_grouped = df_grouped.groupby('Cycle_Index', as_index=False).mean() # Média será usada para a temperatura\n",
    "\n",
    "# Adição do SOH calculado em ciclos_capacity\n",
    "df_grouped['SOH_discharge'] = cycles_capacity['SOH_discharge']\n",
    "\n",
    "display(df_grouped)\n",
    "display(df_grouped.describe())"
   ]
  },
  {
   "cell_type": "markdown",
   "metadata": {},
   "source": [
    "### Outliers"
   ]
  },
  {
   "cell_type": "code",
   "execution_count": 23,
   "metadata": {},
   "outputs": [],
   "source": [
    "# Técnica estatística para identificar outliers em um conjunto de dados, calculando o intervalo entre o primeiro quartil (Q1) e o terceiro quartil (Q3), e usando para definir limites superiores e inferiores. Outliers são definidos como pontos que caem abaixo de Q1 - 1.5 * IQR ou acima de Q3 + 1.5 * IQR. Este método é robusto contra a não normalidade dos dados, sendo útil para distribuições assimétricas.\n",
    "def rmv_outliers_iqr(df: pd.DataFrame, column_name: str) -> pd.DataFrame:\n",
    "    # Calculate the first and third quartiles\n",
    "    Q1 = df[column_name].quantile(0.25)\n",
    "    Q3 = df[column_name].quantile(0.75)\n",
    "    \n",
    "    # Calculate the Interquartile Range (IQR)\n",
    "    IQR = Q3 - Q1\n",
    "    \n",
    "    # Define the lower and upper bounds for outliers\n",
    "    lower_bound = Q1 - 1.5 * IQR\n",
    "    upper_bound = Q3 + 1.5 * IQR\n",
    "    \n",
    "    # Filter the DataFrame to keep only the values within the bounds\n",
    "    filtered_df = df[(df[column_name] >= lower_bound) & (df[column_name] <= upper_bound)]\n",
    "    \n",
    "    return filtered_df"
   ]
  },
  {
   "cell_type": "code",
   "execution_count": 24,
   "metadata": {},
   "outputs": [],
   "source": [
    "# Algoritmo de machine learning não supervisionado usado para detecção de anomalias, que identifica outliers isolando-os a partir de partições aleatórias em um conjunto de árvores de decisão\n",
    "def rmv_outliers_isolation_forest(df: pd.DataFrame, column_name: str, contamin='auto') -> pd.DataFrame:\n",
    "    model = IsolationForest(contamination=contamin, random_state=123)\n",
    "    \n",
    "    # Fit the model and predict outliers. The data needs to be reshaped to a 2D array.\n",
    "    predictions = model.fit_predict(df[[column_name]].values)\n",
    "    \n",
    "    # Filter the DataFrame to keep only the inliers (predictions == 1)\n",
    "    filtered_df = df[predictions == 1]\n",
    "    \n",
    "    return filtered_df"
   ]
  },
  {
   "cell_type": "code",
   "execution_count": 25,
   "metadata": {},
   "outputs": [],
   "source": [
    "def rmv_outliers_zscore(df: pd.DataFrame, column_name: str, threshold: float = 3.0) -> pd.DataFrame:\n",
    "    # Calculate the Z-scores of the column\n",
    "    z_scores = np.abs(zscore(df[column_name]))\n",
    "    \n",
    "    # Create a boolean mask to filter out outliers\n",
    "    inlier_mask = z_scores <= threshold\n",
    "    \n",
    "    # Filter the DataFrame to keep only the inliers\n",
    "    filtered_df = df[inlier_mask]\n",
    "    \n",
    "    return filtered_df"
   ]
  },
  {
   "cell_type": "code",
   "execution_count": 26,
   "metadata": {},
   "outputs": [],
   "source": [
    "def ensure_non_increasing(df: pd.DataFrame, column_name: str) -> pd.DataFrame:\n",
    "    # Create a boolean mask where True indicates a valid decreasing or equal step\n",
    "    is_decreasing = df[column_name].diff().fillna(-1) <= 0\n",
    "    \n",
    "    # Filter the DataFrame to keep only the monotonic values\n",
    "    filtered_df = df[is_decreasing]\n",
    "    \n",
    "    return filtered_df"
   ]
  },
  {
   "cell_type": "code",
   "execution_count": 27,
   "metadata": {},
   "outputs": [],
   "source": [
    "def rmv_sharp_jump(df: pd.DataFrame, column_name: str, threshold: float, repeat=1) -> pd.DataFrame:\n",
    "    for _ in range(repeat):\n",
    "        # diff -> a diferença entre os valores consecutivos\n",
    "        # abs -> o valor absoluto para tratar subidas e quedas\n",
    "        # shift(-1) -> para que a diferença seja aplicada ao ponto de origem do salto\n",
    "        # fillna(0) -> trata o último valor (que é NaN após o shift) com 0 para que ele seja mantido\n",
    "        shifted_diff = df[column_name].diff().abs().shift(-1).fillna(0)\n",
    "        \n",
    "        is_not_sharp_jump = shifted_diff <= threshold\n",
    "        df = df[is_not_sharp_jump]\n",
    "    \n",
    "    return df"
   ]
  },
  {
   "cell_type": "code",
   "execution_count": 28,
   "metadata": {},
   "outputs": [
    {
     "data": {
      "application/vnd.microsoft.datawrangler.viewer.v0+json": {
       "columns": [
        {
         "name": "index",
         "rawType": "int64",
         "type": "integer"
        },
        {
         "name": "Cycle_Index",
         "rawType": "float64",
         "type": "float"
        },
        {
         "name": "Cell_Temperature (C)",
         "rawType": "float64",
         "type": "float"
        },
        {
         "name": "SOH_discharge",
         "rawType": "float64",
         "type": "float"
        }
       ],
       "ref": "1b832aeb-6d16-4379-87ab-f93e780f057b",
       "rows": [
        [
         "0",
         "1.0",
         "17.31424238026125",
         "0.899"
        ],
        [
         "1",
         "2.0",
         "17.363112716763005",
         "0.899"
        ],
        [
         "2",
         "3.0",
         "17.366827785817655",
         "0.8969999999999999"
        ],
        [
         "3",
         "4.0",
         "20.479981481481484",
         "1.7770000000000001"
        ],
        [
         "4",
         "5.0",
         "20.44374074074074",
         "0.884"
        ],
        [
         "5",
         "6.0",
         "20.415296296296294",
         "0.8816666666666667"
        ],
        [
         "6",
         "7.0",
         "20.378592592592593",
         "0.8793333333333333"
        ],
        [
         "7",
         "8.0",
         "20.34196296296296",
         "0.8776666666666667"
        ],
        [
         "8",
         "9.0",
         "20.323",
         "0.8756666666666666"
        ],
        [
         "9",
         "10.0",
         "20.29259259259259",
         "0.874"
        ],
        [
         "10",
         "11.0",
         "20.284185185185184",
         "0.8726666666666666"
        ],
        [
         "11",
         "12.0",
         "20.272888888888886",
         "0.8713333333333333"
        ],
        [
         "12",
         "13.0",
         "20.253",
         "0.8696666666666667"
        ],
        [
         "13",
         "14.0",
         "20.184074074074076",
         "0.8683333333333333"
        ],
        [
         "14",
         "15.0",
         "20.036576923076925",
         "0.867"
        ],
        [
         "15",
         "16.0",
         "20.0455",
         "0.8656666666666667"
        ],
        [
         "16",
         "17.0",
         "20.03296153846154",
         "0.8643333333333333"
        ],
        [
         "17",
         "18.0",
         "19.981230769230766",
         "0.863"
        ],
        [
         "18",
         "19.0",
         "19.947692307692307",
         "0.8613333333333334"
        ],
        [
         "19",
         "20.0",
         "19.908692307692306",
         "0.86"
        ],
        [
         "20",
         "21.0",
         "19.85973076923077",
         "0.8586666666666667"
        ],
        [
         "21",
         "22.0",
         "19.90130769230769",
         "0.8573333333333334"
        ],
        [
         "22",
         "23.0",
         "19.901538461538465",
         "0.856"
        ],
        [
         "23",
         "24.0",
         "19.849769230769233",
         "0.8546666666666667"
        ],
        [
         "24",
         "25.0",
         "19.83176923076923",
         "0.8533333333333334"
        ],
        [
         "25",
         "26.0",
         "19.817",
         "0.8523333333333333"
        ],
        [
         "26",
         "27.0",
         "19.774884615384618",
         "0.851"
        ],
        [
         "27",
         "28.0",
         "19.791",
         "0.8496666666666667"
        ],
        [
         "28",
         "29.0",
         "19.775115384615386",
         "0.8486666666666666"
        ],
        [
         "29",
         "30.0",
         "19.755653846153848",
         "0.8473333333333333"
        ],
        [
         "30",
         "31.0",
         "19.744384615384618",
         "0.8463333333333334"
        ],
        [
         "31",
         "32.0",
         "19.762461538461537",
         "0.8453333333333334"
        ],
        [
         "32",
         "33.0",
         "19.762269230769228",
         "0.8443333333333333"
        ],
        [
         "33",
         "34.0",
         "19.7595",
         "0.843"
        ],
        [
         "34",
         "35.0",
         "19.727153846153843",
         "0.842"
        ],
        [
         "35",
         "36.0",
         "19.73303846153846",
         "0.8406666666666666"
        ],
        [
         "36",
         "37.0",
         "19.693807692307693",
         "0.8396666666666667"
        ],
        [
         "37",
         "38.0",
         "19.719923076923074",
         "0.8383333333333334"
        ],
        [
         "38",
         "39.0",
         "19.784307692307696",
         "0.8373333333333334"
        ],
        [
         "39",
         "40.0",
         "19.803115384615385",
         "0.8356666666666667"
        ],
        [
         "40",
         "41.0",
         "19.684076923076923",
         "0.8346666666666667"
        ],
        [
         "41",
         "42.0",
         "19.58004",
         "0.8336666666666667"
        ],
        [
         "42",
         "43.0",
         "19.49116",
         "0.8323333333333333"
        ],
        [
         "43",
         "44.0",
         "19.47288",
         "0.8313333333333334"
        ],
        [
         "44",
         "45.0",
         "19.53412",
         "0.8300000000000001"
        ],
        [
         "45",
         "46.0",
         "19.533640000000002",
         "0.8286666666666668"
        ],
        [
         "46",
         "47.0",
         "19.57272",
         "0.8273333333333334"
        ],
        [
         "47",
         "48.0",
         "19.630119999999998",
         "0.8263333333333334"
        ],
        [
         "48",
         "49.0",
         "19.5864",
         "0.8250000000000001"
        ],
        [
         "49",
         "50.0",
         "19.60972",
         "0.8236666666666667"
        ]
       ],
       "shape": {
        "columns": 3,
        "rows": 510
       }
      },
      "text/html": [
       "<div>\n",
       "<style scoped>\n",
       "    .dataframe tbody tr th:only-of-type {\n",
       "        vertical-align: middle;\n",
       "    }\n",
       "\n",
       "    .dataframe tbody tr th {\n",
       "        vertical-align: top;\n",
       "    }\n",
       "\n",
       "    .dataframe thead th {\n",
       "        text-align: right;\n",
       "    }\n",
       "</style>\n",
       "<table border=\"1\" class=\"dataframe\">\n",
       "  <thead>\n",
       "    <tr style=\"text-align: right;\">\n",
       "      <th></th>\n",
       "      <th>Cycle_Index</th>\n",
       "      <th>Cell_Temperature (C)</th>\n",
       "      <th>SOH_discharge</th>\n",
       "    </tr>\n",
       "  </thead>\n",
       "  <tbody>\n",
       "    <tr>\n",
       "      <th>0</th>\n",
       "      <td>1.0</td>\n",
       "      <td>17.314242</td>\n",
       "      <td>0.899000</td>\n",
       "    </tr>\n",
       "    <tr>\n",
       "      <th>1</th>\n",
       "      <td>2.0</td>\n",
       "      <td>17.363113</td>\n",
       "      <td>0.899000</td>\n",
       "    </tr>\n",
       "    <tr>\n",
       "      <th>2</th>\n",
       "      <td>3.0</td>\n",
       "      <td>17.366828</td>\n",
       "      <td>0.897000</td>\n",
       "    </tr>\n",
       "    <tr>\n",
       "      <th>3</th>\n",
       "      <td>4.0</td>\n",
       "      <td>20.479981</td>\n",
       "      <td>1.777000</td>\n",
       "    </tr>\n",
       "    <tr>\n",
       "      <th>4</th>\n",
       "      <td>5.0</td>\n",
       "      <td>20.443741</td>\n",
       "      <td>0.884000</td>\n",
       "    </tr>\n",
       "    <tr>\n",
       "      <th>...</th>\n",
       "      <td>...</td>\n",
       "      <td>...</td>\n",
       "      <td>...</td>\n",
       "    </tr>\n",
       "    <tr>\n",
       "      <th>505</th>\n",
       "      <td>508.0</td>\n",
       "      <td>20.992875</td>\n",
       "      <td>0.531667</td>\n",
       "    </tr>\n",
       "    <tr>\n",
       "      <th>506</th>\n",
       "      <td>509.0</td>\n",
       "      <td>21.089437</td>\n",
       "      <td>0.530333</td>\n",
       "    </tr>\n",
       "    <tr>\n",
       "      <th>507</th>\n",
       "      <td>510.0</td>\n",
       "      <td>17.776994</td>\n",
       "      <td>0.542333</td>\n",
       "    </tr>\n",
       "    <tr>\n",
       "      <th>508</th>\n",
       "      <td>511.0</td>\n",
       "      <td>17.754773</td>\n",
       "      <td>0.543000</td>\n",
       "    </tr>\n",
       "    <tr>\n",
       "      <th>509</th>\n",
       "      <td>512.0</td>\n",
       "      <td>17.773677</td>\n",
       "      <td>0.542667</td>\n",
       "    </tr>\n",
       "  </tbody>\n",
       "</table>\n",
       "<p>510 rows × 3 columns</p>\n",
       "</div>"
      ],
      "text/plain": [
       "     Cycle_Index  Cell_Temperature (C)  SOH_discharge\n",
       "0            1.0             17.314242       0.899000\n",
       "1            2.0             17.363113       0.899000\n",
       "2            3.0             17.366828       0.897000\n",
       "3            4.0             20.479981       1.777000\n",
       "4            5.0             20.443741       0.884000\n",
       "..           ...                   ...            ...\n",
       "505        508.0             20.992875       0.531667\n",
       "506        509.0             21.089437       0.530333\n",
       "507        510.0             17.776994       0.542333\n",
       "508        511.0             17.754773       0.543000\n",
       "509        512.0             17.773677       0.542667\n",
       "\n",
       "[510 rows x 3 columns]"
      ]
     },
     "metadata": {},
     "output_type": "display_data"
    },
    {
     "data": {
      "application/vnd.microsoft.datawrangler.viewer.v0+json": {
       "columns": [
        {
         "name": "index",
         "rawType": "int64",
         "type": "integer"
        },
        {
         "name": "Cycle_Index",
         "rawType": "float64",
         "type": "float"
        },
        {
         "name": "Cell_Temperature (C)",
         "rawType": "float64",
         "type": "float"
        },
        {
         "name": "SOH_discharge",
         "rawType": "float64",
         "type": "float"
        }
       ],
       "ref": "00820c93-fd20-4b71-b5c2-071cb6f51e01",
       "rows": [
        [
         "151",
         "152.0",
         "16.332409090909092",
         "0.7153333333333333"
        ],
        [
         "152",
         "153.0",
         "16.08277272727273",
         "0.7146666666666667"
        ],
        [
         "153",
         "154.0",
         "15.961227272727273",
         "0.714"
        ],
        [
         "154",
         "155.0",
         "15.91609090909091",
         "0.7133333333333334"
        ],
        [
         "155",
         "156.0",
         "15.908",
         "0.713"
        ],
        [
         "156",
         "157.0",
         "15.912818181818182",
         "0.7123333333333334"
        ],
        [
         "157",
         "158.0",
         "15.928272727272729",
         "0.7116666666666666"
        ],
        [
         "158",
         "159.0",
         "15.862409090909091",
         "0.711"
        ],
        [
         "159",
         "160.0",
         "15.933545454545454",
         "0.7103333333333333"
        ],
        [
         "160",
         "161.0",
         "16.1275",
         "0.7093333333333334"
        ],
        [
         "161",
         "162.0",
         "16.27481818181818",
         "0.7086666666666667"
        ],
        [
         "162",
         "163.0",
         "16.324954545454545",
         "0.7083333333333334"
        ],
        [
         "163",
         "164.0",
         "16.1525",
         "0.7076666666666668"
        ],
        [
         "164",
         "165.0",
         "15.952636363636366",
         "0.707"
        ],
        [
         "165",
         "166.0",
         "15.847954545454543",
         "0.7063333333333334"
        ],
        [
         "166",
         "167.0",
         "15.818636363636363",
         "0.7056666666666667"
        ],
        [
         "167",
         "168.0",
         "15.856",
         "0.7053333333333334"
        ],
        [
         "168",
         "169.0",
         "15.93290909090909",
         "0.7050000000000001"
        ],
        [
         "169",
         "170.0",
         "15.960863636363637",
         "0.7043333333333334"
        ],
        [
         "170",
         "171.0",
         "15.990181818181817",
         "0.7036666666666668"
        ],
        [
         "171",
         "172.0",
         "16.072954545454547",
         "0.703"
        ],
        [
         "172",
         "173.0",
         "16.21259090909091",
         "0.7023333333333334"
        ],
        [
         "173",
         "174.0",
         "16.25490909090909",
         "0.7016666666666667"
        ],
        [
         "174",
         "175.0",
         "16.282454545454545",
         "0.7013333333333334"
        ],
        [
         "175",
         "176.0",
         "16.059545454545454",
         "0.7010000000000001"
        ],
        [
         "176",
         "177.0",
         "15.895857142857142",
         "0.7003333333333334"
        ],
        [
         "177",
         "178.0",
         "15.838380952380952",
         "0.7000000000000001"
        ],
        [
         "178",
         "179.0",
         "15.864571428571429",
         "0.6993333333333333"
        ],
        [
         "179",
         "180.0",
         "15.906285714285714",
         "0.6993333333333333"
        ],
        [
         "180",
         "181.0",
         "15.907714285714286",
         "0.699"
        ],
        [
         "181",
         "182.0",
         "15.922142857142857",
         "0.6983333333333334"
        ],
        [
         "182",
         "183.0",
         "15.999952380952383",
         "0.6976666666666667"
        ],
        [
         "183",
         "184.0",
         "16.18195238095238",
         "0.6970000000000001"
        ],
        [
         "184",
         "185.0",
         "16.27004761904762",
         "0.6963333333333334"
        ],
        [
         "185",
         "186.0",
         "16.358428571428572",
         "0.6960000000000001"
        ],
        [
         "186",
         "187.0",
         "16.14752380952381",
         "0.6956666666666668"
        ],
        [
         "187",
         "188.0",
         "15.960999999999999",
         "0.695"
        ],
        [
         "188",
         "189.0",
         "15.937999999999999",
         "0.6943333333333334"
        ],
        [
         "189",
         "190.0",
         "15.95595238095238",
         "0.694"
        ],
        [
         "190",
         "191.0",
         "15.99842857142857",
         "0.694"
        ],
        [
         "191",
         "192.0",
         "15.942428571428572",
         "0.6936666666666667"
        ],
        [
         "192",
         "193.0",
         "15.887523809523808",
         "0.6933333333333334"
        ],
        [
         "193",
         "194.0",
         "15.972333333333333",
         "0.6926666666666667"
        ],
        [
         "194",
         "195.0",
         "16.087285714285716",
         "0.6920000000000001"
        ],
        [
         "195",
         "196.0",
         "16.224714285714285",
         "0.6916666666666668"
        ],
        [
         "196",
         "197.0",
         "16.22747619047619",
         "0.6913333333333332"
        ],
        [
         "197",
         "198.0",
         "16.049666666666667",
         "0.6906666666666667"
        ],
        [
         "198",
         "199.0",
         "15.90052380952381",
         "0.6903333333333334"
        ],
        [
         "199",
         "200.0",
         "15.832095238095238",
         "0.69"
        ],
        [
         "200",
         "201.0",
         "15.844190476190477",
         "0.6896666666666667"
        ]
       ],
       "shape": {
        "columns": 3,
        "rows": 267
       }
      },
      "text/html": [
       "<div>\n",
       "<style scoped>\n",
       "    .dataframe tbody tr th:only-of-type {\n",
       "        vertical-align: middle;\n",
       "    }\n",
       "\n",
       "    .dataframe tbody tr th {\n",
       "        vertical-align: top;\n",
       "    }\n",
       "\n",
       "    .dataframe thead th {\n",
       "        text-align: right;\n",
       "    }\n",
       "</style>\n",
       "<table border=\"1\" class=\"dataframe\">\n",
       "  <thead>\n",
       "    <tr style=\"text-align: right;\">\n",
       "      <th></th>\n",
       "      <th>Cycle_Index</th>\n",
       "      <th>Cell_Temperature (C)</th>\n",
       "      <th>SOH_discharge</th>\n",
       "    </tr>\n",
       "  </thead>\n",
       "  <tbody>\n",
       "    <tr>\n",
       "      <th>151</th>\n",
       "      <td>152.0</td>\n",
       "      <td>16.332409</td>\n",
       "      <td>0.715333</td>\n",
       "    </tr>\n",
       "    <tr>\n",
       "      <th>152</th>\n",
       "      <td>153.0</td>\n",
       "      <td>16.082773</td>\n",
       "      <td>0.714667</td>\n",
       "    </tr>\n",
       "    <tr>\n",
       "      <th>153</th>\n",
       "      <td>154.0</td>\n",
       "      <td>15.961227</td>\n",
       "      <td>0.714000</td>\n",
       "    </tr>\n",
       "    <tr>\n",
       "      <th>154</th>\n",
       "      <td>155.0</td>\n",
       "      <td>15.916091</td>\n",
       "      <td>0.713333</td>\n",
       "    </tr>\n",
       "    <tr>\n",
       "      <th>155</th>\n",
       "      <td>156.0</td>\n",
       "      <td>15.908000</td>\n",
       "      <td>0.713000</td>\n",
       "    </tr>\n",
       "    <tr>\n",
       "      <th>...</th>\n",
       "      <td>...</td>\n",
       "      <td>...</td>\n",
       "      <td>...</td>\n",
       "    </tr>\n",
       "    <tr>\n",
       "      <th>423</th>\n",
       "      <td>426.0</td>\n",
       "      <td>20.917579</td>\n",
       "      <td>0.614333</td>\n",
       "    </tr>\n",
       "    <tr>\n",
       "      <th>424</th>\n",
       "      <td>427.0</td>\n",
       "      <td>20.889421</td>\n",
       "      <td>0.613333</td>\n",
       "    </tr>\n",
       "    <tr>\n",
       "      <th>425</th>\n",
       "      <td>428.0</td>\n",
       "      <td>20.884368</td>\n",
       "      <td>0.613000</td>\n",
       "    </tr>\n",
       "    <tr>\n",
       "      <th>426</th>\n",
       "      <td>429.0</td>\n",
       "      <td>20.870789</td>\n",
       "      <td>0.612333</td>\n",
       "    </tr>\n",
       "    <tr>\n",
       "      <th>427</th>\n",
       "      <td>430.0</td>\n",
       "      <td>20.944947</td>\n",
       "      <td>0.612333</td>\n",
       "    </tr>\n",
       "  </tbody>\n",
       "</table>\n",
       "<p>267 rows × 3 columns</p>\n",
       "</div>"
      ],
      "text/plain": [
       "     Cycle_Index  Cell_Temperature (C)  SOH_discharge\n",
       "151        152.0             16.332409       0.715333\n",
       "152        153.0             16.082773       0.714667\n",
       "153        154.0             15.961227       0.714000\n",
       "154        155.0             15.916091       0.713333\n",
       "155        156.0             15.908000       0.713000\n",
       "..           ...                   ...            ...\n",
       "423        426.0             20.917579       0.614333\n",
       "424        427.0             20.889421       0.613333\n",
       "425        428.0             20.884368       0.613000\n",
       "426        429.0             20.870789       0.612333\n",
       "427        430.0             20.944947       0.612333\n",
       "\n",
       "[267 rows x 3 columns]"
      ]
     },
     "metadata": {},
     "output_type": "display_data"
    },
    {
     "data": {
      "application/vnd.microsoft.datawrangler.viewer.v0+json": {
       "columns": [
        {
         "name": "index",
         "rawType": "int64",
         "type": "integer"
        },
        {
         "name": "Cycle_Index",
         "rawType": "float64",
         "type": "float"
        },
        {
         "name": "Cell_Temperature (C)",
         "rawType": "float64",
         "type": "float"
        },
        {
         "name": "SOH_discharge",
         "rawType": "float64",
         "type": "float"
        }
       ],
       "ref": "193600b9-56f1-4182-b0af-5780f898ffe1",
       "rows": [
        [
         "4",
         "5.0",
         "20.44374074074074",
         "0.884"
        ],
        [
         "5",
         "6.0",
         "20.415296296296294",
         "0.8816666666666667"
        ],
        [
         "6",
         "7.0",
         "20.378592592592593",
         "0.8793333333333333"
        ],
        [
         "7",
         "8.0",
         "20.34196296296296",
         "0.8776666666666667"
        ],
        [
         "8",
         "9.0",
         "20.323",
         "0.8756666666666666"
        ],
        [
         "9",
         "10.0",
         "20.29259259259259",
         "0.874"
        ],
        [
         "10",
         "11.0",
         "20.284185185185184",
         "0.8726666666666666"
        ],
        [
         "11",
         "12.0",
         "20.272888888888886",
         "0.8713333333333333"
        ],
        [
         "12",
         "13.0",
         "20.253",
         "0.8696666666666667"
        ],
        [
         "13",
         "14.0",
         "20.184074074074076",
         "0.8683333333333333"
        ],
        [
         "14",
         "15.0",
         "20.036576923076925",
         "0.867"
        ],
        [
         "15",
         "16.0",
         "20.0455",
         "0.8656666666666667"
        ],
        [
         "16",
         "17.0",
         "20.03296153846154",
         "0.8643333333333333"
        ],
        [
         "17",
         "18.0",
         "19.981230769230766",
         "0.863"
        ],
        [
         "18",
         "19.0",
         "19.947692307692307",
         "0.8613333333333334"
        ],
        [
         "19",
         "20.0",
         "19.908692307692306",
         "0.86"
        ],
        [
         "20",
         "21.0",
         "19.85973076923077",
         "0.8586666666666667"
        ],
        [
         "21",
         "22.0",
         "19.90130769230769",
         "0.8573333333333334"
        ],
        [
         "22",
         "23.0",
         "19.901538461538465",
         "0.856"
        ],
        [
         "23",
         "24.0",
         "19.849769230769233",
         "0.8546666666666667"
        ],
        [
         "24",
         "25.0",
         "19.83176923076923",
         "0.8533333333333334"
        ],
        [
         "25",
         "26.0",
         "19.817",
         "0.8523333333333333"
        ],
        [
         "26",
         "27.0",
         "19.774884615384618",
         "0.851"
        ],
        [
         "27",
         "28.0",
         "19.791",
         "0.8496666666666667"
        ],
        [
         "28",
         "29.0",
         "19.775115384615386",
         "0.8486666666666666"
        ],
        [
         "29",
         "30.0",
         "19.755653846153848",
         "0.8473333333333333"
        ],
        [
         "30",
         "31.0",
         "19.744384615384618",
         "0.8463333333333334"
        ],
        [
         "31",
         "32.0",
         "19.762461538461537",
         "0.8453333333333334"
        ],
        [
         "32",
         "33.0",
         "19.762269230769228",
         "0.8443333333333333"
        ],
        [
         "33",
         "34.0",
         "19.7595",
         "0.843"
        ],
        [
         "34",
         "35.0",
         "19.727153846153843",
         "0.842"
        ],
        [
         "35",
         "36.0",
         "19.73303846153846",
         "0.8406666666666666"
        ],
        [
         "36",
         "37.0",
         "19.693807692307693",
         "0.8396666666666667"
        ],
        [
         "37",
         "38.0",
         "19.719923076923074",
         "0.8383333333333334"
        ],
        [
         "38",
         "39.0",
         "19.784307692307696",
         "0.8373333333333334"
        ],
        [
         "39",
         "40.0",
         "19.803115384615385",
         "0.8356666666666667"
        ],
        [
         "40",
         "41.0",
         "19.684076923076923",
         "0.8346666666666667"
        ],
        [
         "41",
         "42.0",
         "19.58004",
         "0.8336666666666667"
        ],
        [
         "42",
         "43.0",
         "19.49116",
         "0.8323333333333333"
        ],
        [
         "43",
         "44.0",
         "19.47288",
         "0.8313333333333334"
        ],
        [
         "44",
         "45.0",
         "19.53412",
         "0.8300000000000001"
        ],
        [
         "45",
         "46.0",
         "19.533640000000002",
         "0.8286666666666668"
        ],
        [
         "46",
         "47.0",
         "19.57272",
         "0.8273333333333334"
        ],
        [
         "47",
         "48.0",
         "19.630119999999998",
         "0.8263333333333334"
        ],
        [
         "48",
         "49.0",
         "19.5864",
         "0.8250000000000001"
        ],
        [
         "49",
         "50.0",
         "19.60972",
         "0.8236666666666667"
        ],
        [
         "50",
         "51.0",
         "19.60728",
         "0.8226666666666667"
        ],
        [
         "51",
         "52.0",
         "19.592840000000002",
         "0.8216666666666667"
        ],
        [
         "52",
         "53.0",
         "19.58384",
         "0.8203333333333332"
        ],
        [
         "53",
         "54.0",
         "19.57376",
         "0.819"
        ]
       ],
       "shape": {
        "columns": 3,
        "rows": 498
       }
      },
      "text/html": [
       "<div>\n",
       "<style scoped>\n",
       "    .dataframe tbody tr th:only-of-type {\n",
       "        vertical-align: middle;\n",
       "    }\n",
       "\n",
       "    .dataframe tbody tr th {\n",
       "        vertical-align: top;\n",
       "    }\n",
       "\n",
       "    .dataframe thead th {\n",
       "        text-align: right;\n",
       "    }\n",
       "</style>\n",
       "<table border=\"1\" class=\"dataframe\">\n",
       "  <thead>\n",
       "    <tr style=\"text-align: right;\">\n",
       "      <th></th>\n",
       "      <th>Cycle_Index</th>\n",
       "      <th>Cell_Temperature (C)</th>\n",
       "      <th>SOH_discharge</th>\n",
       "    </tr>\n",
       "  </thead>\n",
       "  <tbody>\n",
       "    <tr>\n",
       "      <th>4</th>\n",
       "      <td>5.0</td>\n",
       "      <td>20.443741</td>\n",
       "      <td>0.884000</td>\n",
       "    </tr>\n",
       "    <tr>\n",
       "      <th>5</th>\n",
       "      <td>6.0</td>\n",
       "      <td>20.415296</td>\n",
       "      <td>0.881667</td>\n",
       "    </tr>\n",
       "    <tr>\n",
       "      <th>6</th>\n",
       "      <td>7.0</td>\n",
       "      <td>20.378593</td>\n",
       "      <td>0.879333</td>\n",
       "    </tr>\n",
       "    <tr>\n",
       "      <th>7</th>\n",
       "      <td>8.0</td>\n",
       "      <td>20.341963</td>\n",
       "      <td>0.877667</td>\n",
       "    </tr>\n",
       "    <tr>\n",
       "      <th>8</th>\n",
       "      <td>9.0</td>\n",
       "      <td>20.323000</td>\n",
       "      <td>0.875667</td>\n",
       "    </tr>\n",
       "    <tr>\n",
       "      <th>...</th>\n",
       "      <td>...</td>\n",
       "      <td>...</td>\n",
       "      <td>...</td>\n",
       "    </tr>\n",
       "    <tr>\n",
       "      <th>503</th>\n",
       "      <td>506.0</td>\n",
       "      <td>21.124000</td>\n",
       "      <td>0.534333</td>\n",
       "    </tr>\n",
       "    <tr>\n",
       "      <th>504</th>\n",
       "      <td>507.0</td>\n",
       "      <td>20.967750</td>\n",
       "      <td>0.533333</td>\n",
       "    </tr>\n",
       "    <tr>\n",
       "      <th>505</th>\n",
       "      <td>508.0</td>\n",
       "      <td>20.992875</td>\n",
       "      <td>0.531667</td>\n",
       "    </tr>\n",
       "    <tr>\n",
       "      <th>506</th>\n",
       "      <td>509.0</td>\n",
       "      <td>21.089437</td>\n",
       "      <td>0.530333</td>\n",
       "    </tr>\n",
       "    <tr>\n",
       "      <th>509</th>\n",
       "      <td>512.0</td>\n",
       "      <td>17.773677</td>\n",
       "      <td>0.542667</td>\n",
       "    </tr>\n",
       "  </tbody>\n",
       "</table>\n",
       "<p>498 rows × 3 columns</p>\n",
       "</div>"
      ],
      "text/plain": [
       "     Cycle_Index  Cell_Temperature (C)  SOH_discharge\n",
       "4            5.0             20.443741       0.884000\n",
       "5            6.0             20.415296       0.881667\n",
       "6            7.0             20.378593       0.879333\n",
       "7            8.0             20.341963       0.877667\n",
       "8            9.0             20.323000       0.875667\n",
       "..           ...                   ...            ...\n",
       "503        506.0             21.124000       0.534333\n",
       "504        507.0             20.967750       0.533333\n",
       "505        508.0             20.992875       0.531667\n",
       "506        509.0             21.089437       0.530333\n",
       "509        512.0             17.773677       0.542667\n",
       "\n",
       "[498 rows x 3 columns]"
      ]
     },
     "metadata": {},
     "output_type": "display_data"
    },
    {
     "data": {
      "application/vnd.microsoft.datawrangler.viewer.v0+json": {
       "columns": [
        {
         "name": "index",
         "rawType": "int64",
         "type": "integer"
        },
        {
         "name": "Cycle_Index",
         "rawType": "float64",
         "type": "float"
        },
        {
         "name": "Cell_Temperature (C)",
         "rawType": "float64",
         "type": "float"
        },
        {
         "name": "SOH_discharge",
         "rawType": "float64",
         "type": "float"
        }
       ],
       "ref": "1a3a2185-9311-491f-b027-ae7ea560c836",
       "rows": [
        [
         "58",
         "59.0",
         "19.74428",
         "0.8130000000000001"
        ],
        [
         "59",
         "60.0",
         "19.70616",
         "0.8119999999999999"
        ],
        [
         "60",
         "61.0",
         "19.7506",
         "0.8106666666666666"
        ],
        [
         "61",
         "62.0",
         "19.75328",
         "0.8093333333333333"
        ],
        [
         "62",
         "63.0",
         "19.7912",
         "0.8083333333333332"
        ],
        [
         "63",
         "64.0",
         "19.77508",
         "0.8069999999999999"
        ],
        [
         "64",
         "65.0",
         "19.79932",
         "0.8056666666666666"
        ],
        [
         "65",
         "66.0",
         "19.864639999999998",
         "0.8043333333333332"
        ],
        [
         "66",
         "67.0",
         "19.8936",
         "0.8029999999999999"
        ],
        [
         "67",
         "68.0",
         "19.91756",
         "0.8016666666666666"
        ],
        [
         "68",
         "69.0",
         "19.803583333333332",
         "0.8006666666666667"
        ],
        [
         "69",
         "70.0",
         "19.729625000000002",
         "0.7993333333333333"
        ],
        [
         "70",
         "71.0",
         "19.727833333333333",
         "0.7983333333333333"
        ],
        [
         "71",
         "72.0",
         "19.738833333333332",
         "0.7973333333333333"
        ],
        [
         "72",
         "73.0",
         "19.726",
         "0.7959999999999999"
        ],
        [
         "73",
         "74.0",
         "19.702916666666667",
         "0.7946666666666666"
        ],
        [
         "74",
         "75.0",
         "19.591583333333332",
         "0.7936666666666666"
        ],
        [
         "75",
         "76.0",
         "19.587833333333332",
         "0.7923333333333332"
        ],
        [
         "76",
         "77.0",
         "19.658041666666666",
         "0.791"
        ],
        [
         "77",
         "78.0",
         "19.633916666666668",
         "0.79"
        ],
        [
         "78",
         "79.0",
         "19.703125",
         "0.7886666666666667"
        ],
        [
         "79",
         "80.0",
         "19.656583333333334",
         "0.7876666666666666"
        ],
        [
         "80",
         "81.0",
         "19.643666666666665",
         "0.7866666666666666"
        ],
        [
         "81",
         "82.0",
         "19.649916666666666",
         "0.7856666666666667"
        ],
        [
         "82",
         "83.0",
         "19.675250000000002",
         "0.7843333333333334"
        ],
        [
         "83",
         "84.0",
         "19.690833333333334",
         "0.7833333333333333"
        ],
        [
         "84",
         "85.0",
         "19.72404166666667",
         "0.782"
        ],
        [
         "85",
         "86.0",
         "19.758958333333332",
         "0.7806666666666667"
        ],
        [
         "86",
         "87.0",
         "19.769916666666667",
         "0.7793333333333333"
        ],
        [
         "87",
         "88.0",
         "19.851958333333332",
         "0.7783333333333333"
        ],
        [
         "88",
         "89.0",
         "19.86404166666667",
         "0.777"
        ],
        [
         "89",
         "90.0",
         "19.876041666666666",
         "0.7756666666666666"
        ],
        [
         "90",
         "91.0",
         "19.877666666666666",
         "0.7746666666666666"
        ],
        [
         "91",
         "92.0",
         "19.83395833333333",
         "0.7736666666666667"
        ],
        [
         "92",
         "93.0",
         "19.882",
         "0.7723333333333334"
        ],
        [
         "93",
         "94.0",
         "19.800875",
         "0.7713333333333333"
        ],
        [
         "94",
         "95.0",
         "16.103958333333335",
         "0.77"
        ],
        [
         "95",
         "96.0",
         "15.945458333333333",
         "0.7686666666666667"
        ],
        [
         "96",
         "97.0",
         "15.767833333333334",
         "0.7676666666666666"
        ],
        [
         "97",
         "98.0",
         "15.823478260869566",
         "0.7663333333333333"
        ],
        [
         "98",
         "99.0",
         "15.789347826086955",
         "0.7653333333333333"
        ],
        [
         "99",
         "100.0",
         "15.800695652173912",
         "0.7643333333333334"
        ],
        [
         "100",
         "101.0",
         "15.77291304347826",
         "0.7633333333333333"
        ],
        [
         "101",
         "102.0",
         "15.789260869565219",
         "0.7623333333333333"
        ],
        [
         "102",
         "103.0",
         "15.811608695652176",
         "0.7613333333333333"
        ],
        [
         "103",
         "104.0",
         "15.810565217391304",
         "0.7603333333333334"
        ],
        [
         "104",
         "105.0",
         "15.823869565217391",
         "0.7593333333333333"
        ],
        [
         "105",
         "106.0",
         "15.79713043478261",
         "0.758"
        ],
        [
         "106",
         "107.0",
         "15.952260869565217",
         "0.7566666666666667"
        ],
        [
         "107",
         "108.0",
         "16.088521739130435",
         "0.7553333333333333"
        ]
       ],
       "shape": {
        "columns": 3,
        "rows": 418
       }
      },
      "text/html": [
       "<div>\n",
       "<style scoped>\n",
       "    .dataframe tbody tr th:only-of-type {\n",
       "        vertical-align: middle;\n",
       "    }\n",
       "\n",
       "    .dataframe tbody tr th {\n",
       "        vertical-align: top;\n",
       "    }\n",
       "\n",
       "    .dataframe thead th {\n",
       "        text-align: right;\n",
       "    }\n",
       "</style>\n",
       "<table border=\"1\" class=\"dataframe\">\n",
       "  <thead>\n",
       "    <tr style=\"text-align: right;\">\n",
       "      <th></th>\n",
       "      <th>Cycle_Index</th>\n",
       "      <th>Cell_Temperature (C)</th>\n",
       "      <th>SOH_discharge</th>\n",
       "    </tr>\n",
       "  </thead>\n",
       "  <tbody>\n",
       "    <tr>\n",
       "      <th>58</th>\n",
       "      <td>59.0</td>\n",
       "      <td>19.744280</td>\n",
       "      <td>0.813000</td>\n",
       "    </tr>\n",
       "    <tr>\n",
       "      <th>59</th>\n",
       "      <td>60.0</td>\n",
       "      <td>19.706160</td>\n",
       "      <td>0.812000</td>\n",
       "    </tr>\n",
       "    <tr>\n",
       "      <th>60</th>\n",
       "      <td>61.0</td>\n",
       "      <td>19.750600</td>\n",
       "      <td>0.810667</td>\n",
       "    </tr>\n",
       "    <tr>\n",
       "      <th>61</th>\n",
       "      <td>62.0</td>\n",
       "      <td>19.753280</td>\n",
       "      <td>0.809333</td>\n",
       "    </tr>\n",
       "    <tr>\n",
       "      <th>62</th>\n",
       "      <td>63.0</td>\n",
       "      <td>19.791200</td>\n",
       "      <td>0.808333</td>\n",
       "    </tr>\n",
       "    <tr>\n",
       "      <th>...</th>\n",
       "      <td>...</td>\n",
       "      <td>...</td>\n",
       "      <td>...</td>\n",
       "    </tr>\n",
       "    <tr>\n",
       "      <th>477</th>\n",
       "      <td>480.0</td>\n",
       "      <td>20.581059</td>\n",
       "      <td>0.565333</td>\n",
       "    </tr>\n",
       "    <tr>\n",
       "      <th>478</th>\n",
       "      <td>481.0</td>\n",
       "      <td>20.639706</td>\n",
       "      <td>0.564333</td>\n",
       "    </tr>\n",
       "    <tr>\n",
       "      <th>479</th>\n",
       "      <td>482.0</td>\n",
       "      <td>20.656588</td>\n",
       "      <td>0.563000</td>\n",
       "    </tr>\n",
       "    <tr>\n",
       "      <th>480</th>\n",
       "      <td>483.0</td>\n",
       "      <td>20.742294</td>\n",
       "      <td>0.562000</td>\n",
       "    </tr>\n",
       "    <tr>\n",
       "      <th>481</th>\n",
       "      <td>484.0</td>\n",
       "      <td>20.760647</td>\n",
       "      <td>0.561000</td>\n",
       "    </tr>\n",
       "  </tbody>\n",
       "</table>\n",
       "<p>418 rows × 3 columns</p>\n",
       "</div>"
      ],
      "text/plain": [
       "     Cycle_Index  Cell_Temperature (C)  SOH_discharge\n",
       "58          59.0             19.744280       0.813000\n",
       "59          60.0             19.706160       0.812000\n",
       "60          61.0             19.750600       0.810667\n",
       "61          62.0             19.753280       0.809333\n",
       "62          63.0             19.791200       0.808333\n",
       "..           ...                   ...            ...\n",
       "477        480.0             20.581059       0.565333\n",
       "478        481.0             20.639706       0.564333\n",
       "479        482.0             20.656588       0.563000\n",
       "480        483.0             20.742294       0.562000\n",
       "481        484.0             20.760647       0.561000\n",
       "\n",
       "[418 rows x 3 columns]"
      ]
     },
     "metadata": {},
     "output_type": "display_data"
    }
   ],
   "source": [
    "# Remoção de outliers e valores crescentes\n",
    "df_IsolForest = ensure_non_increasing(df_grouped, 'SOH_discharge')\n",
    "df_IsolForest = rmv_outliers_isolation_forest(df_IsolForest, 'SOH_discharge')\n",
    "\n",
    "df_IQR = ensure_non_increasing(df_grouped, 'SOH_discharge')\n",
    "df_IQR = rmv_outliers_iqr(df_IQR, 'SOH_discharge')\n",
    "\n",
    "df_ZScore = ensure_non_increasing(df_grouped, 'SOH_discharge')\n",
    "df_ZScore = rmv_outliers_zscore(df_ZScore, 'SOH_discharge', threshold=1.5)\n",
    "\n",
    "df_ZScore = rmv_sharp_jump(df_ZScore, 'SOH_discharge', threshold=0.05, repeat=2) # 5% de SOH\n",
    "\n",
    "display(df_grouped)\n",
    "display(df_IsolForest)\n",
    "display(df_IQR)\n",
    "display(df_ZScore)"
   ]
  },
  {
   "cell_type": "markdown",
   "metadata": {},
   "source": [
    "### [numpy.interp() parameters](https://numpy.org/doc/2.1/reference/generated/numpy.interp.html):\n",
    "- `x`: _array_like_ . The x-coordinates at which to evaluate the interpolated values.\n",
    "\n",
    "- `xp`: _1-D sequence of floats_. The x-coordinates of the data points, must be increasing if argument period is not specified. Otherwise, xp is internally sorted after normalizing the periodic boundaries with xp = xp % period.\n",
    "\n",
    "- `fp`: _1-D sequence of float or complex_. The y-coordinates of the data points, same length as xp.\n",
    "\n",
    "Returns the one-dimensional piecewise linear interpolant to a function with given discrete data points (xp, fp), evaluated at x:\n",
    "- `y`: float or complex (corresponding to fp) or ndarray. The interpolated values, same shape as x."
   ]
  },
  {
   "cell_type": "code",
   "execution_count": 29,
   "metadata": {},
   "outputs": [],
   "source": [
    "def interpolate_soh(df: pd.DataFrame, soh_column: str, cycles_column: str) -> pd.DataFrame:\n",
    "    # Define thresholds de interesse (99%, 98%, ...)\n",
    "    thresholds = np.arange(1.00, 0.00, -0.01)\n",
    "\n",
    "    soh = df[soh_column].values\n",
    "    cycles = df[cycles_column].values\n",
    "\n",
    "    # Inverte para que fique crescente\n",
    "    xp = soh[::-1]\n",
    "    fp = cycles[::-1]\n",
    "\n",
    "    valid = (thresholds >= xp.min()) & (thresholds <= xp.max())\n",
    "    thresholds = thresholds[valid]\n",
    "\n",
    "    # np.interp(x, xp, fp) assume xp crescente e retorna y para cada x em thresholds\n",
    "    estimated_cycles = np.interp(thresholds, xp, fp)\n",
    "    print(f'Número de thresholds válidos: {len(thresholds)}')\n",
    "    df_estimates = pd.DataFrame({\n",
    "        'SOH_threshold': thresholds,\n",
    "        'estimated_cycle': estimated_cycles\n",
    "    })\n",
    "\n",
    "    # Cast para float com 2 casas decimais\n",
    "    df_estimates['SOH_threshold'] = df_estimates['SOH_threshold'].astype(float).round(2)\n",
    "\n",
    "    # Queda de ciclos (a cada 1%)\n",
    "    df_estimates['NCD1%'] = df_estimates['estimated_cycle'].diff()\n",
    "    \n",
    "    return df_estimates"
   ]
  },
  {
   "cell_type": "code",
   "execution_count": 30,
   "metadata": {},
   "outputs": [
    {
     "name": "stdout",
     "output_type": "stream",
     "text": [
      "Número de thresholds válidos: 47\n",
      "Número de thresholds válidos: 10\n",
      "Número de thresholds válidos: 35\n",
      "Número de thresholds válidos: 25\n"
     ]
    }
   ],
   "source": [
    "df_grouped_estimates     = interpolate_soh(df_grouped, 'SOH_discharge', 'Cycle_Index')\n",
    "df_IsolForest_estimates  = interpolate_soh(df_IsolForest, 'SOH_discharge', 'Cycle_Index')\n",
    "df_IQR_estimates         = interpolate_soh(df_IQR, 'SOH_discharge', 'Cycle_Index')\n",
    "df_ZScore_estimates      = interpolate_soh(df_ZScore, 'SOH_discharge', 'Cycle_Index')"
   ]
  },
  {
   "cell_type": "code",
   "execution_count": 31,
   "metadata": {},
   "outputs": [
    {
     "data": {
      "image/png": "[encoded data removed]",
      "text/plain": [
       "<Figure size 2500x1500 with 4 Axes>"
      ]
     },
     "metadata": {},
     "output_type": "display_data"
    }
   ],
   "source": [
    "# Crie a figura com 4 subplots em um layout 2x2\n",
    "fig, axs = plt.subplots(2, 2, figsize=(25, 15))\n",
    "\n",
    "# Título geral para o plot\n",
    "fig.suptitle('Comparativo de Abordagens de Limpeza de Dados', fontsize=20)\n",
    "\n",
    "# Eixo Y compartilhado para padronizar os gráficos\n",
    "for ax in axs.flat:\n",
    "    ax.set_ylim(40, 105) # SOH in percentage\n",
    "\n",
    "# Configuração de Ticks do Eixo X\n",
    "xmin = df_grouped[\"Cycle_Index\"].min()\n",
    "xmax = df_grouped[\"Cycle_Index\"].max()\n",
    "major_ticks = np.arange(0, xmax + 1, 200)\n",
    "minor_ticks = np.arange(0, xmax + 1, 50)\n",
    "\n",
    "# 1. Plot para \"Dados Originais\"\n",
    "axs[0, 0].plot(df_grouped[\"Cycle_Index\"], df_grouped[\"SOH_discharge\"] * 100, label=\"Dados Originais\", color='gray', linewidth=1.5, zorder=1)\n",
    "#axs[0, 0].scatter(df_grouped_estimates[\"estimated_cycle\"], df_grouped_estimates[\"SOH_threshold\"] * 100, label=\"Queda de 1%\", color='gray', marker='d', s=100, zorder=3)\n",
    "axs[0, 0].set_title(\"1. Dados Originais\", fontsize=16)\n",
    "axs[0, 0].set_ylabel(\"SOH (%)\", fontsize=12)\n",
    "\n",
    "# 2. Plot para \"Isolation Forest\"\n",
    "axs[0, 1].plot(df_IsolForest[\"Cycle_Index\"], df_IsolForest[\"SOH_discharge\"] * 100, label=\"Limpeza com Isolation Forest\", color='darkorange', linewidth=2.5, zorder=2)\n",
    "# axs[0, 1].scatter(df_IsolForest_estimates[\"estimated_cycle\"], df_IsolForest_estimates[\"SOH_threshold\"] * 100, label=\"Queda de 1%\", color='darkorange', marker='d', s=100, zorder=3)\n",
    "axs[0, 1].set_title(\"2. Limpeza com Isolation Forest\", fontsize=16)\n",
    "\n",
    "# 3. Plot para \"IQR\"\n",
    "axs[1, 0].plot(df_IQR[\"Cycle_Index\"], df_IQR[\"SOH_discharge\"] * 100, label=\"Limpeza com IQR\", color='skyblue', linewidth=2.5, zorder=2)\n",
    "# axs[1, 0].scatter(df_IQR_estimates[\"estimated_cycle\"], df_IQR_estimates[\"SOH_threshold\"] * 100, label=\"Queda de 1%\", color='skyblue', marker='d', s=100, zorder=3)\n",
    "axs[1, 0].set_title(\"3. Limpeza com IQR\", fontsize=16)\n",
    "axs[1, 0].set_xlabel(\"Índice de Ciclo\", fontsize=12)\n",
    "axs[1, 0].set_ylabel(\"SOH (%)\", fontsize=12)\n",
    "\n",
    "# 4. Plot para \"Z-Score\"\n",
    "axs[1, 1].plot(df_ZScore[\"Cycle_Index\"], df_ZScore[\"SOH_discharge\"] * 100, label=\"Limpeza com Z-Score\", color='forestgreen', linewidth=2.5, zorder=2)\n",
    "# axs[1, 1].scatter(df_ZScore_estimates[\"estimated_cycle\"], df_ZScore_estimates[\"SOH_threshold\"] * 100, label=\"Queda de 1%\", color='forestgreen', marker='d', s=100, zorder=3)\n",
    "axs[1, 1].set_title(\"4. Limpeza com Z-Score\", fontsize=16)\n",
    "axs[1, 1].set_xlabel(\"Índice de Ciclo\", fontsize=12)\n",
    "\n",
    "# Adicione grids, ticks e legendas para cada subplot\n",
    "for ax in axs.flat:\n",
    "    ax.set_xticks(major_ticks)\n",
    "    ax.set_xticks(minor_ticks, minor=True)\n",
    "    ax.grid(which='major', linestyle='-', linewidth=1, alpha=0.9)\n",
    "    ax.grid(which='minor', linestyle='--', linewidth=0.5, alpha=0.7)\n",
    "    ax.legend(loc='best', fontsize=10)\n",
    "\n",
    "plt.tight_layout(rect=[0, 0, 1, 0.96])\n",
    "plt.show()\n"
   ]
  },
  {
   "cell_type": "markdown",
   "metadata": {},
   "source": [
    "## Z-score com ensure_non_decreasing e rmv_sharp_jump é o escolhido"
   ]
  },
  {
   "cell_type": "code",
   "execution_count": 32,
   "metadata": {},
   "outputs": [
    {
     "name": "stdout",
     "output_type": "stream",
     "text": [
      "Número de NCD1%: 22\n",
      "Média: 14.15, Desvio-padrão: 7.30\n"
     ]
    },
    {
     "data": {
      "image/png": "[encoded data removed]",
      "text/plain": [
       "<Figure size 1200x200 with 1 Axes>"
      ]
     },
     "metadata": {},
     "output_type": "display_data"
    }
   ],
   "source": [
    "df_ZScore_estimates = rmv_outliers_iqr(df_ZScore_estimates, 'NCD1%')\n",
    "\n",
    "data = df_ZScore_estimates[\"NCD1%\"].dropna().values\n",
    "print(f'Número de NCD1%: {len(data)}')\n",
    "\n",
    "mean = np.mean(data)\n",
    "std  = np.std(data, ddof=1)\n",
    "print(f'Média: {mean:.2f}, Desvio-padrão: {std:.2f}')\n",
    "\n",
    "# Seleciona a cor padrão 'C0' do matplotlib (primeira cor)\n",
    "default_color = plt.rcParams['axes.prop_cycle'].by_key()['color'][0]\n",
    "fig, ax = plt.subplots(figsize=(12, 2))\n",
    "\n",
    "sns.boxplot(\n",
    "    x=data,                   # valores no eixo x\n",
    "    y=np.zeros_like(data),    # posição 0 no eixo y\n",
    "    ax=ax,\n",
    "    orient='h',\n",
    "    linewidth=1,\n",
    "    zorder=2\n",
    ")\n",
    "\n",
    "# Deixa a face do boxplot semitransparente\n",
    "for patch in ax.patches:\n",
    "    if hasattr(patch, 'get_facecolor'):\n",
    "        r, g, b, a = patch.get_facecolor()\n",
    "        patch.set_facecolor((r, g, b, 0.3))  # alpha = 0.3\n",
    "\n",
    "# Sobreposição de pontos (scatter) com baixa opacidade\n",
    "sns.scatterplot(\n",
    "    x=data,\n",
    "    y=np.zeros_like(data),\n",
    "    ax=ax,\n",
    "    s=60,                     # tamanho dos pontos\n",
    "    color=default_color,      # mesma cor do boxplot\n",
    "    alpha=0.7,\n",
    "    zorder=1\n",
    ")\n",
    "\n",
    "# Remove os ticks do eixo y (não fazem sentido aqui)\n",
    "ax.set_yticks([])\n",
    "\n",
    "ax.set_xlabel(\"NCD1%\")\n",
    "ax.tick_params(which='major', labelsize=12)\n",
    "\n",
    "plt.title(\"Distribuição de NCD1%\", fontsize=18)\n",
    "plt.grid(True, linestyle='--', linewidth=0.5, alpha=0.7)\n",
    "\n",
    "plt.show()"
   ]
  },
  {
   "cell_type": "code",
   "execution_count": 33,
   "metadata": {},
   "outputs": [
    {
     "data": {
      "image/png": "[encoded data removed]",
      "text/plain": [
       "<Figure size 900x400 with 1 Axes>"
      ]
     },
     "metadata": {},
     "output_type": "display_data"
    }
   ],
   "source": [
    "data = np.sort(data)  # Garante que os dados estão ordenados\n",
    "n    = len(data)\n",
    "\n",
    "# Faz o fitting para encotnrar os parametros e calcula a funcao acumulada dos dados considerando comportamento normal\n",
    "mean, std = norm.fit(data)\n",
    "teo_norm  = norm.cdf(data, loc=mean, scale=std)\n",
    "\n",
    "plt.figure(figsize=(9, 4))\n",
    "\n",
    "# Probabilidade acumulada empírica (1/n, 2/n, ..., 1)\n",
    "cdf_emp = np.arange(0, n)/(n-1)\n",
    "plt.plot(data, cdf_emp, marker='o', linestyle='-', label=\"CDF NCD1%\", zorder=3, alpha=0.7)\n",
    "\n",
    "# Função acumulada da normal (teórica)\n",
    "plt.plot(data, teo_norm, linestyle='--', label=f\"CDF Normal fit\\n(μ={mean:.2f}, σ={std:.2f})\")\n",
    "\n",
    "plt.xlabel(\"NCD1\")\n",
    "plt.ylabel(\"Probabilidade acumulada\")\n",
    "plt.title(\"NCD1% e Curva Normal aproximada\")\n",
    "plt.legend()\n",
    "plt.grid(True, linestyle='--', linewidth=0.5, alpha=0.7)\n",
    "\n",
    "plt.show()\n"
   ]
  },
  {
   "cell_type": "markdown",
   "metadata": {},
   "source": [
    "Teste de Kolmogorov–Smirnov (KS) para verificar formalmente se o conjunto de dados de NCD1% (`data`) segue a distribuição Normal com os parametros encontrados no método de fitting\n",
    "\n",
    "De acordo com a [documentação de **kstest**](https://docs.scipy.org/doc/scipy/reference/generated/scipy.stats.kstest.html):\n",
    "- ``rvs=data``\n",
    "    - Array de observações ordenadas\n",
    "- ``cdf='norm'`` \n",
    "    - Especifica que a distribuição teórica é a de uma normal\n",
    "- ``args=(mean, std)`` \n",
    "    - Parâmetros (μ, σ) da normal teórica\n",
    "\n",
    "Retorna:\n",
    "\n",
    "- ``D (statistic) `` \n",
    "    - Representa a maior diferença absoluta entre aa curva dados e a CDF da Normal teórica\n",
    "    - Quanto menor, mais próximo o ajuste está dos dados observados\n",
    "\n",
    "- ``p-value``\n",
    "    - Probabilidade de observar uma estatística \\( D \\) igual ou mais extrema sob a suposição de que os dados vêm de uma Normal\n",
    "    - **Valores altos (> alpha) indicam falha em rejeitar a hipótese de normalidade**. \n",
    "    - Valores baixos (< alpha) indicam evidência contra a hipótese"
   ]
  },
  {
   "cell_type": "code",
   "execution_count": 34,
   "metadata": {},
   "outputs": [
    {
     "name": "stdout",
     "output_type": "stream",
     "text": [
      "KS statistic: 0.2159\n",
      "p-value: 0.2222\n",
      "alpha = 0.05\n",
      "Hipótese aceita.\n"
     ]
    }
   ],
   "source": [
    "statistic, p_value = kstest(rvs=data, cdf='norm', args=(mean, std))\n",
    "\n",
    "print(f\"KS statistic: {statistic:.4f}\")\n",
    "print(f\"p-value: {p_value:.4f}\")\n",
    "\n",
    "alpha = 0.05\n",
    "print(f'alpha = {alpha}')\n",
    "if p_value < alpha: print(f\"Hipótese rejeitada.\")\n",
    "else: print(f\"Hipótese aceita.\")"
   ]
  }
 ],
 "metadata": {
  "kernelspec": {
   "display_name": "Python 3",
   "language": "python",
   "name": "python3"
  },
  "language_info": {
   "codemirror_mode": {
    "name": "ipython",
    "version": 3
   },
   "file_extension": ".py",
   "mimetype": "text/x-python",
   "name": "python",
   "nbconvert_exporter": "python",
   "pygments_lexer": "ipython3",
   "version": "3.13.7"
  }
 },
 "nbformat": 4,
 "nbformat_minor": 2
}
